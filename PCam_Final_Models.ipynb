{
  "nbformat": 4,
  "nbformat_minor": 0,
  "metadata": {
    "colab": {
      "name": "PCam_Final_Models.ipynb",
      "provenance": [],
      "collapsed_sections": [
        "1JGeNvb0rbWB",
        "9mh-cSUzjERn",
        "5inPYqpzJjr6",
        "AW_f2HZu_sIU",
        "7kIbf365ox3R",
        "ZGtn7rtYc4kG",
        "r694e4euZDvU",
        "4aCbSzQjcoev",
        "43HW321Efw8j",
        "kBYrgKeV10O-",
        "h072pR90f8Pv",
        "CAvfwEE66i7x",
        "pSgqtMFXExkL",
        "oOsgl86XPj2x",
        "SBKvLr-4Zgqo",
        "_NeAd6MKN9Y1",
        "7R1JIalN3iJg",
        "y5d1Loc54CSm",
        "ikWitBFP4CSs",
        "jsGX4qN94CSw",
        "cZyHwrmGU1TZ",
        "ALWnJHNM5Rbt",
        "JdR0Kqml5zjh",
        "CTlRkKQ-osCC",
        "a41kmXQM77ON",
        "S06tVoDw77OT",
        "fNuYN2bYU5h5",
        "owRpzcfr77OY",
        "VOq_14dy77Ob",
        "nXVCEA2T-PEW",
        "khaL7P8O-PEb",
        "EqtMMOck-PEe",
        "04hb1iMyU9DQ",
        "2AYEtkcP-PEj",
        "YATCILoi-PEn",
        "7lLMh0BmA_K8",
        "lUCuZHUbhiLD",
        "yCSeQyuNfzPo",
        "c9aUFF05ZkLJ",
        "fauUNi8Uz0ml",
        "kihQkRbja7yc",
        "ZNePL0oGhbV8",
        "nkNiTH-whbWC",
        "IGMDtIuQhbWN",
        "DOE6r4CnhbWF",
        "F6sC3PVPhbWJ",
        "RxGpGn2ylcPq",
        "s7CWxXq6lfqs",
        "YqptFcaplfqw",
        "7vflC-IHlfq7",
        "3Jc8PEIGlfq0",
        "5vVrREWSlfq4",
        "mmD4TLP2l4Mg",
        "UfmdAqmpl4Mn",
        "AQGYiI7il4Mr",
        "AhzUpz8al4M0",
        "WKBr7Kakl4Mu",
        "LfD9VcW0l4Mx",
        "2HrFce9bvdBB",
        "KkqagwUHvdBH",
        "wIm5NrHPvdBM",
        "T2986bHLvdBX",
        "vDIP10TfvdBQ",
        "QG94dsXFvdBT",
        "5ILD8CsHsB-t",
        "AYqpHSwTsB-1",
        "likWWJ4xsB-4",
        "dkNhta9FsB-8",
        "jLF-UnyPsB_C",
        "5_pYageMsB_F",
        "ypIPVj3DtMlx",
        "1gIjpFh_tMl4",
        "1fCBniEbtMl9",
        "l3L9wwV8tMmB",
        "rWbUZulqtMmG",
        "OtK2VVF-tMmJ",
        "BwxjHJr8vM20",
        "cuQee8UY_XPL",
        "KS5WgjXXACX3",
        "zcO5BHzbm6z2"
      ],
      "toc_visible": true,
      "authorship_tag": "ABX9TyNUPTnD3WVWox5/isKIQ+yd",
      "include_colab_link": true
    },
    "kernelspec": {
      "name": "python3",
      "display_name": "Python 3"
    },
    "accelerator": "GPU",
    "widgets": {
      "application/vnd.jupyter.widget-state+json": {
        "301bbac33b7549a3a219eece9ef283cf": {
          "model_module": "@jupyter-widgets/controls",
          "model_name": "HBoxModel",
          "state": {
            "_view_name": "HBoxView",
            "_dom_classes": [],
            "_model_name": "HBoxModel",
            "_view_module": "@jupyter-widgets/controls",
            "_model_module_version": "1.5.0",
            "_view_count": null,
            "_view_module_version": "1.5.0",
            "box_style": "",
            "layout": "IPY_MODEL_9aaa22a481784b818babf8715feae5a8",
            "_model_module": "@jupyter-widgets/controls",
            "children": [
              "IPY_MODEL_d5ada73a54204397a37af0838885ace2",
              "IPY_MODEL_eb1f34e71d574a78affc3955d7201b07"
            ]
          }
        },
        "9aaa22a481784b818babf8715feae5a8": {
          "model_module": "@jupyter-widgets/base",
          "model_name": "LayoutModel",
          "state": {
            "_view_name": "LayoutView",
            "grid_template_rows": null,
            "right": null,
            "justify_content": null,
            "_view_module": "@jupyter-widgets/base",
            "overflow": null,
            "_model_module_version": "1.2.0",
            "_view_count": null,
            "flex_flow": null,
            "width": null,
            "min_width": null,
            "border": null,
            "align_items": null,
            "bottom": null,
            "_model_module": "@jupyter-widgets/base",
            "top": null,
            "grid_column": null,
            "overflow_y": null,
            "overflow_x": null,
            "grid_auto_flow": null,
            "grid_area": null,
            "grid_template_columns": null,
            "flex": null,
            "_model_name": "LayoutModel",
            "justify_items": null,
            "grid_row": null,
            "max_height": null,
            "align_content": null,
            "visibility": null,
            "align_self": null,
            "height": null,
            "min_height": null,
            "padding": null,
            "grid_auto_rows": null,
            "grid_gap": null,
            "max_width": null,
            "order": null,
            "_view_module_version": "1.2.0",
            "grid_template_areas": null,
            "object_position": null,
            "object_fit": null,
            "grid_auto_columns": null,
            "margin": null,
            "display": null,
            "left": null
          }
        },
        "d5ada73a54204397a37af0838885ace2": {
          "model_module": "@jupyter-widgets/controls",
          "model_name": "FloatProgressModel",
          "state": {
            "_view_name": "ProgressView",
            "style": "IPY_MODEL_3e2e1cfb4cfe4190852e1a00d8eb4316",
            "_dom_classes": [],
            "description": "100%",
            "_model_name": "FloatProgressModel",
            "bar_style": "danger",
            "max": 100,
            "_view_module": "@jupyter-widgets/controls",
            "_model_module_version": "1.5.0",
            "value": 100,
            "_view_count": null,
            "_view_module_version": "1.5.0",
            "orientation": "horizontal",
            "min": 0,
            "description_tooltip": null,
            "_model_module": "@jupyter-widgets/controls",
            "layout": "IPY_MODEL_b91c1672ab394847ab6c189e735315a7"
          }
        },
        "eb1f34e71d574a78affc3955d7201b07": {
          "model_module": "@jupyter-widgets/controls",
          "model_name": "HTMLModel",
          "state": {
            "_view_name": "HTMLView",
            "style": "IPY_MODEL_3eb1ecd5e22040e883013ddf920a14e4",
            "_dom_classes": [],
            "description": "",
            "_model_name": "HTMLModel",
            "placeholder": "​",
            "_view_module": "@jupyter-widgets/controls",
            "_model_module_version": "1.5.0",
            "value": " 100/100 [00:20&lt;00:00, 36.44it/s]",
            "_view_count": null,
            "_view_module_version": "1.5.0",
            "description_tooltip": null,
            "_model_module": "@jupyter-widgets/controls",
            "layout": "IPY_MODEL_f0a7813d2fe0496bb018114a6b9e651d"
          }
        },
        "3e2e1cfb4cfe4190852e1a00d8eb4316": {
          "model_module": "@jupyter-widgets/controls",
          "model_name": "ProgressStyleModel",
          "state": {
            "_view_name": "StyleView",
            "_model_name": "ProgressStyleModel",
            "description_width": "initial",
            "_view_module": "@jupyter-widgets/base",
            "_model_module_version": "1.5.0",
            "_view_count": null,
            "_view_module_version": "1.2.0",
            "bar_color": null,
            "_model_module": "@jupyter-widgets/controls"
          }
        },
        "b91c1672ab394847ab6c189e735315a7": {
          "model_module": "@jupyter-widgets/base",
          "model_name": "LayoutModel",
          "state": {
            "_view_name": "LayoutView",
            "grid_template_rows": null,
            "right": null,
            "justify_content": null,
            "_view_module": "@jupyter-widgets/base",
            "overflow": null,
            "_model_module_version": "1.2.0",
            "_view_count": null,
            "flex_flow": null,
            "width": null,
            "min_width": null,
            "border": null,
            "align_items": null,
            "bottom": null,
            "_model_module": "@jupyter-widgets/base",
            "top": null,
            "grid_column": null,
            "overflow_y": null,
            "overflow_x": null,
            "grid_auto_flow": null,
            "grid_area": null,
            "grid_template_columns": null,
            "flex": null,
            "_model_name": "LayoutModel",
            "justify_items": null,
            "grid_row": null,
            "max_height": null,
            "align_content": null,
            "visibility": null,
            "align_self": null,
            "height": null,
            "min_height": null,
            "padding": null,
            "grid_auto_rows": null,
            "grid_gap": null,
            "max_width": null,
            "order": null,
            "_view_module_version": "1.2.0",
            "grid_template_areas": null,
            "object_position": null,
            "object_fit": null,
            "grid_auto_columns": null,
            "margin": null,
            "display": null,
            "left": null
          }
        },
        "3eb1ecd5e22040e883013ddf920a14e4": {
          "model_module": "@jupyter-widgets/controls",
          "model_name": "DescriptionStyleModel",
          "state": {
            "_view_name": "StyleView",
            "_model_name": "DescriptionStyleModel",
            "description_width": "",
            "_view_module": "@jupyter-widgets/base",
            "_model_module_version": "1.5.0",
            "_view_count": null,
            "_view_module_version": "1.2.0",
            "_model_module": "@jupyter-widgets/controls"
          }
        },
        "f0a7813d2fe0496bb018114a6b9e651d": {
          "model_module": "@jupyter-widgets/base",
          "model_name": "LayoutModel",
          "state": {
            "_view_name": "LayoutView",
            "grid_template_rows": null,
            "right": null,
            "justify_content": null,
            "_view_module": "@jupyter-widgets/base",
            "overflow": null,
            "_model_module_version": "1.2.0",
            "_view_count": null,
            "flex_flow": null,
            "width": null,
            "min_width": null,
            "border": null,
            "align_items": null,
            "bottom": null,
            "_model_module": "@jupyter-widgets/base",
            "top": null,
            "grid_column": null,
            "overflow_y": null,
            "overflow_x": null,
            "grid_auto_flow": null,
            "grid_area": null,
            "grid_template_columns": null,
            "flex": null,
            "_model_name": "LayoutModel",
            "justify_items": null,
            "grid_row": null,
            "max_height": null,
            "align_content": null,
            "visibility": null,
            "align_self": null,
            "height": null,
            "min_height": null,
            "padding": null,
            "grid_auto_rows": null,
            "grid_gap": null,
            "max_width": null,
            "order": null,
            "_view_module_version": "1.2.0",
            "grid_template_areas": null,
            "object_position": null,
            "object_fit": null,
            "grid_auto_columns": null,
            "margin": null,
            "display": null,
            "left": null
          }
        },
        "2059860d8e8d48b28bf8367fba08ec8a": {
          "model_module": "@jupyter-widgets/controls",
          "model_name": "HBoxModel",
          "state": {
            "_view_name": "HBoxView",
            "_dom_classes": [],
            "_model_name": "HBoxModel",
            "_view_module": "@jupyter-widgets/controls",
            "_model_module_version": "1.5.0",
            "_view_count": null,
            "_view_module_version": "1.5.0",
            "box_style": "",
            "layout": "IPY_MODEL_6e446648209f48d79e0be8abe6964550",
            "_model_module": "@jupyter-widgets/controls",
            "children": [
              "IPY_MODEL_5e2a072cc42a4824b3aa10ffd50693bb",
              "IPY_MODEL_40e21222ca3d49cc8e8476442621795a"
            ]
          }
        },
        "6e446648209f48d79e0be8abe6964550": {
          "model_module": "@jupyter-widgets/base",
          "model_name": "LayoutModel",
          "state": {
            "_view_name": "LayoutView",
            "grid_template_rows": null,
            "right": null,
            "justify_content": null,
            "_view_module": "@jupyter-widgets/base",
            "overflow": null,
            "_model_module_version": "1.2.0",
            "_view_count": null,
            "flex_flow": null,
            "width": null,
            "min_width": null,
            "border": null,
            "align_items": null,
            "bottom": null,
            "_model_module": "@jupyter-widgets/base",
            "top": null,
            "grid_column": null,
            "overflow_y": null,
            "overflow_x": null,
            "grid_auto_flow": null,
            "grid_area": null,
            "grid_template_columns": null,
            "flex": null,
            "_model_name": "LayoutModel",
            "justify_items": null,
            "grid_row": null,
            "max_height": null,
            "align_content": null,
            "visibility": null,
            "align_self": null,
            "height": null,
            "min_height": null,
            "padding": null,
            "grid_auto_rows": null,
            "grid_gap": null,
            "max_width": null,
            "order": null,
            "_view_module_version": "1.2.0",
            "grid_template_areas": null,
            "object_position": null,
            "object_fit": null,
            "grid_auto_columns": null,
            "margin": null,
            "display": null,
            "left": null
          }
        },
        "5e2a072cc42a4824b3aa10ffd50693bb": {
          "model_module": "@jupyter-widgets/controls",
          "model_name": "FloatProgressModel",
          "state": {
            "_view_name": "ProgressView",
            "style": "IPY_MODEL_144e28eb0f314c53b94a3ce490d5519a",
            "_dom_classes": [],
            "description": "100%",
            "_model_name": "FloatProgressModel",
            "bar_style": "success",
            "max": 110000,
            "_view_module": "@jupyter-widgets/controls",
            "_model_module_version": "1.5.0",
            "value": 110000,
            "_view_count": null,
            "_view_module_version": "1.5.0",
            "orientation": "horizontal",
            "min": 0,
            "description_tooltip": null,
            "_model_module": "@jupyter-widgets/controls",
            "layout": "IPY_MODEL_71e4845794ef4664969c963ee1f862f1"
          }
        },
        "40e21222ca3d49cc8e8476442621795a": {
          "model_module": "@jupyter-widgets/controls",
          "model_name": "HTMLModel",
          "state": {
            "_view_name": "HTMLView",
            "style": "IPY_MODEL_25e74cdf6d6d4b34855d872e0517e833",
            "_dom_classes": [],
            "description": "",
            "_model_name": "HTMLModel",
            "placeholder": "​",
            "_view_module": "@jupyter-widgets/controls",
            "_model_module_version": "1.5.0",
            "value": " 110000/110000 [48:25&lt;00:00, 37.86it/s]",
            "_view_count": null,
            "_view_module_version": "1.5.0",
            "description_tooltip": null,
            "_model_module": "@jupyter-widgets/controls",
            "layout": "IPY_MODEL_890cfb0543494613bacf5bd302ab997b"
          }
        },
        "144e28eb0f314c53b94a3ce490d5519a": {
          "model_module": "@jupyter-widgets/controls",
          "model_name": "ProgressStyleModel",
          "state": {
            "_view_name": "StyleView",
            "_model_name": "ProgressStyleModel",
            "description_width": "initial",
            "_view_module": "@jupyter-widgets/base",
            "_model_module_version": "1.5.0",
            "_view_count": null,
            "_view_module_version": "1.2.0",
            "bar_color": null,
            "_model_module": "@jupyter-widgets/controls"
          }
        },
        "71e4845794ef4664969c963ee1f862f1": {
          "model_module": "@jupyter-widgets/base",
          "model_name": "LayoutModel",
          "state": {
            "_view_name": "LayoutView",
            "grid_template_rows": null,
            "right": null,
            "justify_content": null,
            "_view_module": "@jupyter-widgets/base",
            "overflow": null,
            "_model_module_version": "1.2.0",
            "_view_count": null,
            "flex_flow": null,
            "width": null,
            "min_width": null,
            "border": null,
            "align_items": null,
            "bottom": null,
            "_model_module": "@jupyter-widgets/base",
            "top": null,
            "grid_column": null,
            "overflow_y": null,
            "overflow_x": null,
            "grid_auto_flow": null,
            "grid_area": null,
            "grid_template_columns": null,
            "flex": null,
            "_model_name": "LayoutModel",
            "justify_items": null,
            "grid_row": null,
            "max_height": null,
            "align_content": null,
            "visibility": null,
            "align_self": null,
            "height": null,
            "min_height": null,
            "padding": null,
            "grid_auto_rows": null,
            "grid_gap": null,
            "max_width": null,
            "order": null,
            "_view_module_version": "1.2.0",
            "grid_template_areas": null,
            "object_position": null,
            "object_fit": null,
            "grid_auto_columns": null,
            "margin": null,
            "display": null,
            "left": null
          }
        },
        "25e74cdf6d6d4b34855d872e0517e833": {
          "model_module": "@jupyter-widgets/controls",
          "model_name": "DescriptionStyleModel",
          "state": {
            "_view_name": "StyleView",
            "_model_name": "DescriptionStyleModel",
            "description_width": "",
            "_view_module": "@jupyter-widgets/base",
            "_model_module_version": "1.5.0",
            "_view_count": null,
            "_view_module_version": "1.2.0",
            "_model_module": "@jupyter-widgets/controls"
          }
        },
        "890cfb0543494613bacf5bd302ab997b": {
          "model_module": "@jupyter-widgets/base",
          "model_name": "LayoutModel",
          "state": {
            "_view_name": "LayoutView",
            "grid_template_rows": null,
            "right": null,
            "justify_content": null,
            "_view_module": "@jupyter-widgets/base",
            "overflow": null,
            "_model_module_version": "1.2.0",
            "_view_count": null,
            "flex_flow": null,
            "width": null,
            "min_width": null,
            "border": null,
            "align_items": null,
            "bottom": null,
            "_model_module": "@jupyter-widgets/base",
            "top": null,
            "grid_column": null,
            "overflow_y": null,
            "overflow_x": null,
            "grid_auto_flow": null,
            "grid_area": null,
            "grid_template_columns": null,
            "flex": null,
            "_model_name": "LayoutModel",
            "justify_items": null,
            "grid_row": null,
            "max_height": null,
            "align_content": null,
            "visibility": null,
            "align_self": null,
            "height": null,
            "min_height": null,
            "padding": null,
            "grid_auto_rows": null,
            "grid_gap": null,
            "max_width": null,
            "order": null,
            "_view_module_version": "1.2.0",
            "grid_template_areas": null,
            "object_position": null,
            "object_fit": null,
            "grid_auto_columns": null,
            "margin": null,
            "display": null,
            "left": null
          }
        }
      }
    }
  },
  "cells": [
    {
      "cell_type": "markdown",
      "metadata": {
        "id": "view-in-github",
        "colab_type": "text"
      },
      "source": [
        "<a href=\"https://colab.research.google.com/github/Danika-Balas/msds-458/blob/master/PCam_Final_Models.ipynb\" target=\"_parent\"><img src=\"https://colab.research.google.com/assets/colab-badge.svg\" alt=\"Open In Colab\"/></a>"
      ]
    },
    {
      "cell_type": "markdown",
      "metadata": {
        "id": "EuIf4MgbWCkt",
        "colab_type": "text"
      },
      "source": [
        "#Introduction"
      ]
    },
    {
      "cell_type": "markdown",
      "metadata": {
        "id": "QUmBtNT9WGVj",
        "colab_type": "text"
      },
      "source": [
        "Data is a modified version of the PCam dataset--duplicates have been removed. The goal is to classify the images as cancerous or non-cancerous. A positive label indicates that the center 32x32 pixel region of a patch contains at least one pixel of tumor tissue. Tumor tissue in the outer region of the patch does not influence the label.\n",
        "https://www.kaggle.com/c/histopathologic-cancer-detection/data?select=train_labels.csv "
      ]
    },
    {
      "cell_type": "markdown",
      "metadata": {
        "id": "rfFzZqWf8qfG",
        "colab_type": "text"
      },
      "source": [
        "###Acknowledgements\n",
        "Code was adapted from the following sources:\n",
        "\n",
        "Deep Learning with Python by Francis Chollet\n",
        "\n",
        "https://www.kaggle.com/gomezp/complete-beginner-s-guide-eda-keras-lb-0-93\n",
        "\n",
        "https://www.kaggle.com/vbookshelf/cnn-how-to-use-160-000-images-without-crashing\n",
        "\n",
        "https://www.kaggle.com/artgor/simple-eda-and-model-in-pytorch\n"
      ]
    },
    {
      "cell_type": "markdown",
      "metadata": {
        "id": "46ktLwNXWRrL",
        "colab_type": "text"
      },
      "source": [
        "#Setup and Preprocessing"
      ]
    },
    {
      "cell_type": "code",
      "metadata": {
        "id": "bVUBcfj6V8wV",
        "colab_type": "code",
        "colab": {
          "base_uri": "https://localhost:8080/",
          "height": 88
        },
        "outputId": "cb01d6eb-7817-4944-9350-e4d3d4361f8a"
      },
      "source": [
        "import numpy as np\n",
        "import pandas as pd\n",
        "\n",
        "import seaborn as sns\n",
        "\n",
        "import matplotlib.pyplot as plt\n",
        "#%matplotlib inline\n",
        "#sns.set(style=\"whitegrid\")\n",
        "\n",
        "from sklearn import metrics\n",
        "from sklearn.utils import shuffle\n",
        "from sklearn.model_selection import train_test_split\n",
        "from sklearn.metrics import roc_curve, auc, roc_auc_score\n",
        "\n",
        "import os, random\n",
        "from random import shuffle\n",
        "import cv2 #image processing\n",
        "from glob import glob #for easily finding matching filenames \n",
        "from tqdm import tqdm, tqdm_notebook, trange #progress bar\n",
        "import gc #garbage collection, for saving RAM\n",
        "\n",
        "import tensorflow as tf\n",
        "from tensorflow import keras\n",
        "keras.__version__"
      ],
      "execution_count": 1,
      "outputs": [
        {
          "output_type": "stream",
          "text": [
            "/usr/local/lib/python3.6/dist-packages/statsmodels/tools/_testing.py:19: FutureWarning: pandas.util.testing is deprecated. Use the functions in the public API at pandas.testing instead.\n",
            "  import pandas.util.testing as tm\n"
          ],
          "name": "stderr"
        },
        {
          "output_type": "execute_result",
          "data": {
            "text/plain": [
              "'2.3.0-tf'"
            ]
          },
          "metadata": {
            "tags": []
          },
          "execution_count": 1
        }
      ]
    },
    {
      "cell_type": "code",
      "metadata": {
        "id": "1bUQV47mV16w",
        "colab_type": "code",
        "colab": {
          "base_uri": "https://localhost:8080/",
          "height": 34
        },
        "outputId": "00f16a7e-f939-4d7d-ca78-f0298b200544"
      },
      "source": [
        "from keras import metrics\n",
        "from keras import models\n",
        "from keras import layers"
      ],
      "execution_count": 2,
      "outputs": [
        {
          "output_type": "stream",
          "text": [
            "Using TensorFlow backend.\n"
          ],
          "name": "stderr"
        }
      ]
    },
    {
      "cell_type": "markdown",
      "metadata": {
        "id": "977XrOffXG91",
        "colab_type": "text"
      },
      "source": [
        "##Upload data"
      ]
    },
    {
      "cell_type": "code",
      "metadata": {
        "id": "uS6bECQbW92Z",
        "colab_type": "code",
        "colab": {
          "base_uri": "https://localhost:8080/",
          "height": 122
        },
        "outputId": "7c5a4cd2-724a-4b71-ca47-7c0d5d3a5128"
      },
      "source": [
        "from google.colab import drive\n",
        "drive.mount('/content/drive')"
      ],
      "execution_count": 3,
      "outputs": [
        {
          "output_type": "stream",
          "text": [
            "Go to this URL in a browser: https://accounts.google.com/o/oauth2/auth?client_id=947318989803-6bn6qk8qdgf4n4g3pfee6491hc0brc4i.apps.googleusercontent.com&redirect_uri=urn%3aietf%3awg%3aoauth%3a2.0%3aoob&response_type=code&scope=email%20https%3a%2f%2fwww.googleapis.com%2fauth%2fdocs.test%20https%3a%2f%2fwww.googleapis.com%2fauth%2fdrive%20https%3a%2f%2fwww.googleapis.com%2fauth%2fdrive.photos.readonly%20https%3a%2f%2fwww.googleapis.com%2fauth%2fpeopleapi.readonly\n",
            "\n",
            "Enter your authorization code:\n",
            "··········\n",
            "Mounted at /content/drive\n"
          ],
          "name": "stdout"
        }
      ]
    },
    {
      "cell_type": "markdown",
      "metadata": {
        "id": "ZtYtcPBdiLzk",
        "colab_type": "text"
      },
      "source": [
        "Code executed once to unzip the files, then commented out:"
      ]
    },
    {
      "cell_type": "code",
      "metadata": {
        "id": "SOhx0-FRXNzY",
        "colab_type": "code",
        "colab": {}
      },
      "source": [
        "# #unzip set of training files (smaller dataset to make sure it works)\n",
        "# !unzip -uq \"/content/drive/My Drive/MSDS 458/PCam/sampleTrain.zip\" -d \"/content/drive/My Drive/MSDS 458/PCam/unzipped/sampleTrain\""
      ],
      "execution_count": null,
      "outputs": []
    },
    {
      "cell_type": "code",
      "metadata": {
        "id": "hITzW1Qcb90s",
        "colab_type": "code",
        "colab": {
          "base_uri": "https://localhost:8080/",
          "height": 71
        },
        "outputId": "5b4baa60-a043-467f-dca3-7e5a96a6c273"
      },
      "source": [
        "#Check whether sample files are readable\n",
        "sample_names = os.listdir('/content/drive/My Drive/MSDS 458/PCam/unzipped/sampleTrain/sampleTrain')\n",
        "print(f'{len(sample_names)} files in sample directory')\n",
        "print(sample_names[:5])"
      ],
      "execution_count": 4,
      "outputs": [
        {
          "output_type": "stream",
          "text": [
            "10 files in sample directory\n",
            "['00a0ad1de2cdf805f02c524a985bca5bce1d1b5f.tif', '0a0a8bdf1d78af77dcc0b94aef6fb5c2f841a3c0.tif', '0a0a2e923bdedb11f270dcd3f11d0f001df98f00.tif', '0a0d1a09e5cf9fcc308ecdc210450aecd204d344.tif', '0a0b4604d66cecfe668e26383c22fafb74484eef.tif']\n"
          ],
          "name": "stdout"
        }
      ]
    },
    {
      "cell_type": "markdown",
      "metadata": {
        "id": "7arAHAd02BbG",
        "colab_type": "text"
      },
      "source": [
        "Started with 10,000 and then 80,000 training files in order develop models.\n",
        "\n",
        "Be sure to change path below when adding more files."
      ]
    },
    {
      "cell_type": "code",
      "metadata": {
        "id": "cwML_g3SckkP",
        "colab_type": "code",
        "colab": {}
      },
      "source": [
        "#unzip set of training files\n",
        "!unzip -uq \"/content/drive/My Drive/MSDS 458/PCam/train110P.zip\" -d \"/content/drive/My Drive/MSDS 458/PCam/unzipped/train\""
      ],
      "execution_count": 5,
      "outputs": []
    },
    {
      "cell_type": "code",
      "metadata": {
        "id": "UNA6TEjlAW5x",
        "colab_type": "code",
        "colab": {}
      },
      "source": [
        "# drive.mount(\"/content/drive\", force_remount=True)"
      ],
      "execution_count": 6,
      "outputs": []
    },
    {
      "cell_type": "code",
      "metadata": {
        "id": "U6mu0zFJiqax",
        "colab_type": "code",
        "colab": {
          "base_uri": "https://localhost:8080/",
          "height": 71
        },
        "outputId": "0d49def3-ec49-45d7-da09-368b0164cc9f"
      },
      "source": [
        "#Check whether sample files are readable\n",
        "train_names = os.listdir('/content/drive/My Drive/MSDS 458/PCam/unzipped/train/train110P')\n",
        "print(f'{len(train_names)} files in training directory')\n",
        "print(train_names[:5])"
      ],
      "execution_count": 7,
      "outputs": [
        {
          "output_type": "stream",
          "text": [
            "110001 files in training directory\n",
            "['99ef485f205645918613cd04281098daa7c17819.tif', '6d1bb57c0606f05dbd75f90a8d9e21a57e1267e0.tif', '9c043ab2adadfeb758c71d21432fccd3e43565c0.tif', '9cc775713dd09351172a350871a547346af08027.tif', '1996c210f020134e986823ca7d4df0a70a799c34.tif']\n"
          ],
          "name": "stdout"
        }
      ]
    },
    {
      "cell_type": "markdown",
      "metadata": {
        "id": "bpw2zhs8kyqr",
        "colab_type": "text"
      },
      "source": [
        "Code below to unzip testing data. It has not been run yet it order to save space on Drive."
      ]
    },
    {
      "cell_type": "code",
      "metadata": {
        "id": "D1vMDizZlAoV",
        "colab_type": "code",
        "colab": {}
      },
      "source": [
        "# #unzip set of testing files \n",
        "# !unzip -uq \"/content/drive/My Drive/MSDS 458/PCam/test.zip\" -d \"/content/drive/My Drive/MSDS 458/PCam/unzipped/test\""
      ],
      "execution_count": null,
      "outputs": []
    },
    {
      "cell_type": "code",
      "metadata": {
        "id": "kJhpmt1LlGeE",
        "colab_type": "code",
        "colab": {}
      },
      "source": [
        "# #Check whether sample files are readable\n",
        "# test_names = os.listdir('/content/drive/My Drive/MSDS 458/PCam/unzipped/test')\n",
        "# print(f'{len(test_names)} files in testing directory')\n",
        "# print(test_names[:5])"
      ],
      "execution_count": null,
      "outputs": []
    },
    {
      "cell_type": "markdown",
      "metadata": {
        "id": "1JGeNvb0rbWB",
        "colab_type": "text"
      },
      "source": [
        "##Set paths"
      ]
    },
    {
      "cell_type": "code",
      "metadata": {
        "id": "otvpvIUmrgDP",
        "colab_type": "code",
        "colab": {}
      },
      "source": [
        "path = '/content/drive/My Drive/MSDS 458/PCam/unzipped/'\n",
        "train_path = path+'train/train110P'\n",
        "test_path =  path+'test/'\n",
        "sample_path = path+'sampleTrain/sampleTrain'  #contains 10 images, simply for testing that data can be read\n",
        "IMG_SIZE = 40"
      ],
      "execution_count": 8,
      "outputs": []
    },
    {
      "cell_type": "markdown",
      "metadata": {
        "id": "9mh-cSUzjERn",
        "colab_type": "text"
      },
      "source": [
        "##Load labels and filenames"
      ]
    },
    {
      "cell_type": "code",
      "metadata": {
        "id": "c9MPGFROkvn1",
        "colab_type": "code",
        "colab": {}
      },
      "source": [
        "labels = pd.read_csv('/content/drive/My Drive/MSDS 458/PCam/train_labels.csv')"
      ],
      "execution_count": 9,
      "outputs": []
    },
    {
      "cell_type": "code",
      "metadata": {
        "id": "8WdlM0jl7tXm",
        "colab_type": "code",
        "colab": {
          "base_uri": "https://localhost:8080/",
          "height": 204
        },
        "outputId": "0c5d026e-8459-40cc-f102-fa61d09efb98"
      },
      "source": [
        "df = pd.DataFrame({'path': glob(os.path.join(train_path,'*.tif'))}) # load the filenames\n",
        "df['id'] = df.path.map(lambda x: x.split('/')[9].split(\".\")[0]) # keep only the file names in 'id'\n",
        "df.head()"
      ],
      "execution_count": 10,
      "outputs": [
        {
          "output_type": "execute_result",
          "data": {
            "text/html": [
              "<div>\n",
              "<style scoped>\n",
              "    .dataframe tbody tr th:only-of-type {\n",
              "        vertical-align: middle;\n",
              "    }\n",
              "\n",
              "    .dataframe tbody tr th {\n",
              "        vertical-align: top;\n",
              "    }\n",
              "\n",
              "    .dataframe thead th {\n",
              "        text-align: right;\n",
              "    }\n",
              "</style>\n",
              "<table border=\"1\" class=\"dataframe\">\n",
              "  <thead>\n",
              "    <tr style=\"text-align: right;\">\n",
              "      <th></th>\n",
              "      <th>path</th>\n",
              "      <th>id</th>\n",
              "    </tr>\n",
              "  </thead>\n",
              "  <tbody>\n",
              "    <tr>\n",
              "      <th>0</th>\n",
              "      <td>/content/drive/My Drive/MSDS 458/PCam/unzipped...</td>\n",
              "      <td>99ef485f205645918613cd04281098daa7c17819</td>\n",
              "    </tr>\n",
              "    <tr>\n",
              "      <th>1</th>\n",
              "      <td>/content/drive/My Drive/MSDS 458/PCam/unzipped...</td>\n",
              "      <td>6d1bb57c0606f05dbd75f90a8d9e21a57e1267e0</td>\n",
              "    </tr>\n",
              "    <tr>\n",
              "      <th>2</th>\n",
              "      <td>/content/drive/My Drive/MSDS 458/PCam/unzipped...</td>\n",
              "      <td>9c043ab2adadfeb758c71d21432fccd3e43565c0</td>\n",
              "    </tr>\n",
              "    <tr>\n",
              "      <th>3</th>\n",
              "      <td>/content/drive/My Drive/MSDS 458/PCam/unzipped...</td>\n",
              "      <td>9cc775713dd09351172a350871a547346af08027</td>\n",
              "    </tr>\n",
              "    <tr>\n",
              "      <th>4</th>\n",
              "      <td>/content/drive/My Drive/MSDS 458/PCam/unzipped...</td>\n",
              "      <td>1996c210f020134e986823ca7d4df0a70a799c34</td>\n",
              "    </tr>\n",
              "  </tbody>\n",
              "</table>\n",
              "</div>"
            ],
            "text/plain": [
              "                                                path                                        id\n",
              "0  /content/drive/My Drive/MSDS 458/PCam/unzipped...  99ef485f205645918613cd04281098daa7c17819\n",
              "1  /content/drive/My Drive/MSDS 458/PCam/unzipped...  6d1bb57c0606f05dbd75f90a8d9e21a57e1267e0\n",
              "2  /content/drive/My Drive/MSDS 458/PCam/unzipped...  9c043ab2adadfeb758c71d21432fccd3e43565c0\n",
              "3  /content/drive/My Drive/MSDS 458/PCam/unzipped...  9cc775713dd09351172a350871a547346af08027\n",
              "4  /content/drive/My Drive/MSDS 458/PCam/unzipped...  1996c210f020134e986823ca7d4df0a70a799c34"
            ]
          },
          "metadata": {
            "tags": []
          },
          "execution_count": 10
        }
      ]
    },
    {
      "cell_type": "code",
      "metadata": {
        "id": "AEFekrtP9L07",
        "colab_type": "code",
        "colab": {}
      },
      "source": [
        "df = df.merge(labels, on = \"id\") # merge labels and filepaths"
      ],
      "execution_count": 11,
      "outputs": []
    },
    {
      "cell_type": "code",
      "metadata": {
        "id": "xnTVjto3-tOs",
        "colab_type": "code",
        "colab": {
          "base_uri": "https://localhost:8080/",
          "height": 204
        },
        "outputId": "84ff1d5e-48b5-4a5a-87e2-7e2227d6d183"
      },
      "source": [
        "df.head(5) # print the first five entries"
      ],
      "execution_count": 12,
      "outputs": [
        {
          "output_type": "execute_result",
          "data": {
            "text/html": [
              "<div>\n",
              "<style scoped>\n",
              "    .dataframe tbody tr th:only-of-type {\n",
              "        vertical-align: middle;\n",
              "    }\n",
              "\n",
              "    .dataframe tbody tr th {\n",
              "        vertical-align: top;\n",
              "    }\n",
              "\n",
              "    .dataframe thead th {\n",
              "        text-align: right;\n",
              "    }\n",
              "</style>\n",
              "<table border=\"1\" class=\"dataframe\">\n",
              "  <thead>\n",
              "    <tr style=\"text-align: right;\">\n",
              "      <th></th>\n",
              "      <th>path</th>\n",
              "      <th>id</th>\n",
              "      <th>label</th>\n",
              "    </tr>\n",
              "  </thead>\n",
              "  <tbody>\n",
              "    <tr>\n",
              "      <th>0</th>\n",
              "      <td>/content/drive/My Drive/MSDS 458/PCam/unzipped...</td>\n",
              "      <td>99ef485f205645918613cd04281098daa7c17819</td>\n",
              "      <td>1</td>\n",
              "    </tr>\n",
              "    <tr>\n",
              "      <th>1</th>\n",
              "      <td>/content/drive/My Drive/MSDS 458/PCam/unzipped...</td>\n",
              "      <td>6d1bb57c0606f05dbd75f90a8d9e21a57e1267e0</td>\n",
              "      <td>0</td>\n",
              "    </tr>\n",
              "    <tr>\n",
              "      <th>2</th>\n",
              "      <td>/content/drive/My Drive/MSDS 458/PCam/unzipped...</td>\n",
              "      <td>9c043ab2adadfeb758c71d21432fccd3e43565c0</td>\n",
              "      <td>1</td>\n",
              "    </tr>\n",
              "    <tr>\n",
              "      <th>3</th>\n",
              "      <td>/content/drive/My Drive/MSDS 458/PCam/unzipped...</td>\n",
              "      <td>9cc775713dd09351172a350871a547346af08027</td>\n",
              "      <td>0</td>\n",
              "    </tr>\n",
              "    <tr>\n",
              "      <th>4</th>\n",
              "      <td>/content/drive/My Drive/MSDS 458/PCam/unzipped...</td>\n",
              "      <td>1996c210f020134e986823ca7d4df0a70a799c34</td>\n",
              "      <td>1</td>\n",
              "    </tr>\n",
              "  </tbody>\n",
              "</table>\n",
              "</div>"
            ],
            "text/plain": [
              "                                                path  ... label\n",
              "0  /content/drive/My Drive/MSDS 458/PCam/unzipped...  ...     1\n",
              "1  /content/drive/My Drive/MSDS 458/PCam/unzipped...  ...     0\n",
              "2  /content/drive/My Drive/MSDS 458/PCam/unzipped...  ...     1\n",
              "3  /content/drive/My Drive/MSDS 458/PCam/unzipped...  ...     0\n",
              "4  /content/drive/My Drive/MSDS 458/PCam/unzipped...  ...     1\n",
              "\n",
              "[5 rows x 3 columns]"
            ]
          },
          "metadata": {
            "tags": []
          },
          "execution_count": 12
        }
      ]
    },
    {
      "cell_type": "code",
      "metadata": {
        "id": "ul7B8_2y-w1U",
        "colab_type": "code",
        "colab": {
          "base_uri": "https://localhost:8080/",
          "height": 255
        },
        "outputId": "5cb49c00-0f9c-4f60-e960-a92654fc1c5f"
      },
      "source": [
        "print(df.count) #check total number of rows in dataframe"
      ],
      "execution_count": 13,
      "outputs": [
        {
          "output_type": "stream",
          "text": [
            "<bound method DataFrame.count of                                                      path  ... label\n",
            "0       /content/drive/My Drive/MSDS 458/PCam/unzipped...  ...     1\n",
            "1       /content/drive/My Drive/MSDS 458/PCam/unzipped...  ...     0\n",
            "2       /content/drive/My Drive/MSDS 458/PCam/unzipped...  ...     1\n",
            "3       /content/drive/My Drive/MSDS 458/PCam/unzipped...  ...     0\n",
            "4       /content/drive/My Drive/MSDS 458/PCam/unzipped...  ...     1\n",
            "...                                                   ...  ...   ...\n",
            "109995  /content/drive/My Drive/MSDS 458/PCam/unzipped...  ...     0\n",
            "109996  /content/drive/My Drive/MSDS 458/PCam/unzipped...  ...     0\n",
            "109997  /content/drive/My Drive/MSDS 458/PCam/unzipped...  ...     1\n",
            "109998  /content/drive/My Drive/MSDS 458/PCam/unzipped...  ...     1\n",
            "109999  /content/drive/My Drive/MSDS 458/PCam/unzipped...  ...     0\n",
            "\n",
            "[110000 rows x 3 columns]>\n"
          ],
          "name": "stdout"
        }
      ]
    },
    {
      "cell_type": "code",
      "metadata": {
        "id": "DORQAFRIkGK8",
        "colab_type": "code",
        "colab": {
          "base_uri": "https://localhost:8080/",
          "height": 68
        },
        "outputId": "f95e95ac-a1ec-4e77-c4d5-017b6627cdee"
      },
      "source": [
        "# look at distribution of the data\n",
        "df['label'].value_counts()"
      ],
      "execution_count": 14,
      "outputs": [
        {
          "output_type": "execute_result",
          "data": {
            "text/plain": [
              "0    65505\n",
              "1    44495\n",
              "Name: label, dtype: int64"
            ]
          },
          "metadata": {
            "tags": []
          },
          "execution_count": 14
        }
      ]
    },
    {
      "cell_type": "markdown",
      "metadata": {
        "id": "AW_f2HZu_sIU",
        "colab_type": "text"
      },
      "source": [
        "##Load images"
      ]
    },
    {
      "cell_type": "code",
      "metadata": {
        "id": "pPeADFeC_oua",
        "colab_type": "code",
        "colab": {}
      },
      "source": [
        "def load_data(N,df):\n",
        "    \"\"\" This functions loads N images using the data df\n",
        "    \"\"\"\n",
        "    # allocate a numpy array for the images (N, 96x96px, 3 channels, values 0 - 255)\n",
        "    X = np.zeros([N,IMG_SIZE,IMG_SIZE,3],dtype=np.uint8) \n",
        "    #convert the labels to a numpy array too\n",
        "    dfLabel=df['label']\n",
        "    y = np.squeeze(dfLabel.to_numpy())[0:N]\n",
        "    #read images one by one, tdqm notebook displays a progress bar\n",
        "    for i, row in tqdm_notebook(df.iterrows(), total=N):\n",
        "        if i == N:\n",
        "            break\n",
        "        X[i] = cv2.imread(row['path'])\n",
        "\n",
        "    # Scale the data to [0,1] interval\n",
        "    X = X.astype('float16')/255      #comment out to perform EDA steps\n",
        "    return X,y"
      ],
      "execution_count": 15,
      "outputs": []
    },
    {
      "cell_type": "code",
      "metadata": {
        "id": "uNb81FKL__Ju",
        "colab_type": "code",
        "colab": {
          "base_uri": "https://localhost:8080/",
          "height": 100,
          "referenced_widgets": [
            "301bbac33b7549a3a219eece9ef283cf",
            "9aaa22a481784b818babf8715feae5a8",
            "d5ada73a54204397a37af0838885ace2",
            "eb1f34e71d574a78affc3955d7201b07",
            "3e2e1cfb4cfe4190852e1a00d8eb4316",
            "b91c1672ab394847ab6c189e735315a7",
            "3eb1ecd5e22040e883013ddf920a14e4",
            "f0a7813d2fe0496bb018114a6b9e651d"
          ]
        },
        "outputId": "91fa7d98-292b-4a09-e615-0139867d01eb"
      },
      "source": [
        "# Load some of the images\n",
        "N=100\n",
        "X,y = load_data(N=N,df=df) #this is from dataframe that is not uniformly distributed, but is shuffled"
      ],
      "execution_count": 16,
      "outputs": [
        {
          "output_type": "stream",
          "text": [
            "/usr/local/lib/python3.6/dist-packages/ipykernel_launcher.py:10: TqdmDeprecationWarning: This function will be removed in tqdm==5.0.0\n",
            "Please use `tqdm.notebook.tqdm` instead of `tqdm.tqdm_notebook`\n",
            "  # Remove the CWD from sys.path while we load stuff.\n"
          ],
          "name": "stderr"
        },
        {
          "output_type": "display_data",
          "data": {
            "application/vnd.jupyter.widget-view+json": {
              "model_id": "301bbac33b7549a3a219eece9ef283cf",
              "version_minor": 0,
              "version_major": 2
            },
            "text/plain": [
              "HBox(children=(FloatProgress(value=0.0), HTML(value='')))"
            ]
          },
          "metadata": {
            "tags": []
          }
        }
      ]
    },
    {
      "cell_type": "markdown",
      "metadata": {
        "id": "5inPYqpzJjr6",
        "colab_type": "text"
      },
      "source": [
        "##Balancing out classes, since 40% are in class 1"
      ]
    },
    {
      "cell_type": "markdown",
      "metadata": {
        "id": "avPtBcJokhiI",
        "colab_type": "text"
      },
      "source": [
        "Ended up using 60:40 ratio in final models in order to retain larger number of training images. Non-cancerous images are also more common in the field."
      ]
    },
    {
      "cell_type": "code",
      "metadata": {
        "id": "ZPLL09mGJofo",
        "colab_type": "code",
        "colab": {
          "base_uri": "https://localhost:8080/",
          "height": 34
        },
        "outputId": "6f225bb7-f92b-4d88-9f21-5250c15f6539"
      },
      "source": [
        "# create dataframe with all of the class 1 samples\n",
        "df_1 = df[df['label']==1]\n",
        "sample_size = len(df_1)\n",
        "sample_size"
      ],
      "execution_count": null,
      "outputs": [
        {
          "output_type": "execute_result",
          "data": {
            "text/plain": [
              "44495"
            ]
          },
          "metadata": {
            "tags": []
          },
          "execution_count": 60
        }
      ]
    },
    {
      "cell_type": "code",
      "metadata": {
        "id": "Y-CbI5D_Joaz",
        "colab_type": "code",
        "colab": {}
      },
      "source": [
        "# take a random sample of class 0 that is equal to the number of samples in class 1\n",
        "df_0 = df[df['label']==0].sample(sample_size, random_state = 42)"
      ],
      "execution_count": null,
      "outputs": []
    },
    {
      "cell_type": "code",
      "metadata": {
        "id": "5TGbwUu3KZaf",
        "colab_type": "code",
        "colab": {
          "base_uri": "https://localhost:8080/",
          "height": 68
        },
        "outputId": "099d4377-4e6c-47a6-9fd3-fc8a1fe1ca8e"
      },
      "source": [
        "# concatenate the dataframes\n",
        "df_equal = pd.concat([df_0, df_1], axis=0).reset_index(drop=True)\n",
        "df_equal['label'].value_counts()"
      ],
      "execution_count": null,
      "outputs": [
        {
          "output_type": "execute_result",
          "data": {
            "text/plain": [
              "1    44495\n",
              "0    44495\n",
              "Name: label, dtype: int64"
            ]
          },
          "metadata": {
            "tags": []
          },
          "execution_count": 62
        }
      ]
    },
    {
      "cell_type": "code",
      "metadata": {
        "id": "Ph_5NtY5K93u",
        "colab_type": "code",
        "colab": {
          "base_uri": "https://localhost:8080/",
          "height": 204
        },
        "outputId": "43128c4a-4e1c-46ce-fe22-8cd942702dda"
      },
      "source": [
        "df_equal.head()"
      ],
      "execution_count": null,
      "outputs": [
        {
          "output_type": "execute_result",
          "data": {
            "text/html": [
              "<div>\n",
              "<style scoped>\n",
              "    .dataframe tbody tr th:only-of-type {\n",
              "        vertical-align: middle;\n",
              "    }\n",
              "\n",
              "    .dataframe tbody tr th {\n",
              "        vertical-align: top;\n",
              "    }\n",
              "\n",
              "    .dataframe thead th {\n",
              "        text-align: right;\n",
              "    }\n",
              "</style>\n",
              "<table border=\"1\" class=\"dataframe\">\n",
              "  <thead>\n",
              "    <tr style=\"text-align: right;\">\n",
              "      <th></th>\n",
              "      <th>path</th>\n",
              "      <th>id</th>\n",
              "      <th>label</th>\n",
              "    </tr>\n",
              "  </thead>\n",
              "  <tbody>\n",
              "    <tr>\n",
              "      <th>0</th>\n",
              "      <td>/content/drive/My Drive/MSDS 458/PCam/unzipped...</td>\n",
              "      <td>030d7c22a9b64d942e848351853cc111e27c47bc</td>\n",
              "      <td>0</td>\n",
              "    </tr>\n",
              "    <tr>\n",
              "      <th>1</th>\n",
              "      <td>/content/drive/My Drive/MSDS 458/PCam/unzipped...</td>\n",
              "      <td>320bb1705c916b8f4610f2f01a19abe2d968dddb</td>\n",
              "      <td>0</td>\n",
              "    </tr>\n",
              "    <tr>\n",
              "      <th>2</th>\n",
              "      <td>/content/drive/My Drive/MSDS 458/PCam/unzipped...</td>\n",
              "      <td>6b2f970df170b3c79cdf26d2035e9f3e507c05b9</td>\n",
              "      <td>0</td>\n",
              "    </tr>\n",
              "    <tr>\n",
              "      <th>3</th>\n",
              "      <td>/content/drive/My Drive/MSDS 458/PCam/unzipped...</td>\n",
              "      <td>3cd6daa2c37d8060c6c5677356c25272023ea603</td>\n",
              "      <td>0</td>\n",
              "    </tr>\n",
              "    <tr>\n",
              "      <th>4</th>\n",
              "      <td>/content/drive/My Drive/MSDS 458/PCam/unzipped...</td>\n",
              "      <td>40a742a97406af97326423b68d3e9ad76b459f79</td>\n",
              "      <td>0</td>\n",
              "    </tr>\n",
              "  </tbody>\n",
              "</table>\n",
              "</div>"
            ],
            "text/plain": [
              "                                                path  ... label\n",
              "0  /content/drive/My Drive/MSDS 458/PCam/unzipped...  ...     0\n",
              "1  /content/drive/My Drive/MSDS 458/PCam/unzipped...  ...     0\n",
              "2  /content/drive/My Drive/MSDS 458/PCam/unzipped...  ...     0\n",
              "3  /content/drive/My Drive/MSDS 458/PCam/unzipped...  ...     0\n",
              "4  /content/drive/My Drive/MSDS 458/PCam/unzipped...  ...     0\n",
              "\n",
              "[5 rows x 3 columns]"
            ]
          },
          "metadata": {
            "tags": []
          },
          "execution_count": 63
        }
      ]
    },
    {
      "cell_type": "markdown",
      "metadata": {
        "id": "7kIbf365ox3R",
        "colab_type": "text"
      },
      "source": [
        "##EDA"
      ]
    },
    {
      "cell_type": "markdown",
      "metadata": {
        "id": "GKaqlk2UqPuv",
        "colab_type": "text"
      },
      "source": [
        "View some sample images. Non-cancerous samples are labeled 0, and cancerous samples are labeled 1."
      ]
    },
    {
      "cell_type": "code",
      "metadata": {
        "id": "1CWJ-z5hozUm",
        "colab_type": "code",
        "colab": {
          "base_uri": "https://localhost:8080/",
          "height": 344
        },
        "outputId": "aa8b4f0d-16e2-4e33-c11e-76d9e77ef869"
      },
      "source": [
        "fig = plt.figure(figsize=(12, 4), dpi=100)\n",
        "np.random.seed(777) #we can use the seed to get a different set of random images\n",
        "for plotNr,idx in enumerate(np.random.randint(0,N,16)):\n",
        "    ax = fig.add_subplot(2, 16//2, plotNr+1, xticks=[], yticks=[]) #add subplots\n",
        "    plt.imshow(X[idx]) #plot image\n",
        "    ax.set_title('Label: ' + str(y[idx])) #show the label corresponding to the image"
      ],
      "execution_count": null,
      "outputs": [
        {
          "output_type": "stream",
          "text": [
            "\n"
          ],
          "name": "stdout"
        },
        {
          "output_type": "display_data",
          "data": {
            "image/png": "[encoded data removed]",
            "text/plain": [
              "<Figure size 1200x400 with 16 Axes>"
            ]
          },
          "metadata": {
            "tags": []
          }
        }
      ]
    },
    {
      "cell_type": "markdown",
      "metadata": {
        "id": "6fB3iGh2Oe2m",
        "colab_type": "text"
      },
      "source": [
        "Evaluate the distribution of the two classes in the full dataset"
      ]
    },
    {
      "cell_type": "code",
      "metadata": {
        "id": "__uUhz_-NQsn",
        "colab_type": "code",
        "colab": {
          "base_uri": "https://localhost:8080/",
          "height": 282
        },
        "outputId": "c61ac4c1-488b-4d72-f53a-b21fa466c39a"
      },
      "source": [
        "plt.figure(figsize=[8,4])\n",
        "plt.bar([0,1], [(df['label']==0).sum(), (df['label']==1).sum()])\n",
        "plt.axis()\n",
        "plt.xticks([0,1],[f\"Negative (N={df['label']==0.sum()})\",f\"Positive (N={df['label']==1.sum()})\"],rotation=45)\n",
        "#plt.xticks(rotation=45)\n",
        "#plt.rc('xtick',labelsize=10)\n",
        "plt.ylabel('Samples')\n"
      ],
      "execution_count": null,
      "outputs": [
        {
          "output_type": "execute_result",
          "data": {
            "text/plain": [
              "Text(0, 0.5, 'Samples')"
            ]
          },
          "metadata": {
            "tags": []
          },
          "execution_count": 24
        },
        {
          "output_type": "display_data",
          "data": {
            "image/png": "[encoded data removed]",
            "text/plain": [
              "<Figure size 576x288 with 1 Axes>"
            ]
          },
          "metadata": {
            "tags": [],
            "needs_background": "light"
          }
        }
      ]
    },
    {
      "cell_type": "code",
      "metadata": {
        "id": "Ri3Zo5Qa3dMU",
        "colab_type": "code",
        "colab": {
          "base_uri": "https://localhost:8080/",
          "height": 51
        },
        "outputId": "b30e57f9-c180-43ef-98df-153e43aacc74"
      },
      "source": [
        "print(f\"{round((df['label']==1).sum()/len(df)*100,2)}% of the samples are positive.\") \n",
        "print(f\"We need to clear the baseline of {round((df['label']==0).sum()/len(df)*100,2)}%, which would be the accuracy if we predicted that all of the samples were non-cancerous.\")"
      ],
      "execution_count": null,
      "outputs": [
        {
          "output_type": "stream",
          "text": [
            "40.45% of the samples are positive.\n",
            "We need to clear the baseline of 59.55%, which would be the accuracy if we predicted that all of the samples were non-cancerous.\n"
          ],
          "name": "stdout"
        }
      ]
    },
    {
      "cell_type": "markdown",
      "metadata": {
        "id": "ZGtn7rtYc4kG",
        "colab_type": "text"
      },
      "source": [
        "###To evaluate the classes individually"
      ]
    },
    {
      "cell_type": "code",
      "metadata": {
        "id": "IKBTWyvndA9C",
        "colab_type": "code",
        "colab": {}
      },
      "source": [
        "positive_samples = X[y == 1]\n",
        "negative_samples = X[y == 0]"
      ],
      "execution_count": null,
      "outputs": []
    },
    {
      "cell_type": "code",
      "metadata": {
        "id": "TBe8GEDWd_2r",
        "colab_type": "code",
        "colab": {
          "base_uri": "https://localhost:8080/",
          "height": 367
        },
        "outputId": "6ee3ded6-fb86-4379-e0dd-d920392dc09e"
      },
      "source": [
        "nr_of_bins = 64 #we use a bit fewer bins to get a smoother image\n",
        "fig,axs = plt.subplots(1,2,sharey=True, sharex = True, figsize=(8,2),dpi=150)\n",
        "axs[0].hist(np.mean(positive_samples,axis=(1,2,3)),bins=nr_of_bins,density=True);\n",
        "axs[1].hist(np.mean(negative_samples,axis=(1,2,3)),bins=nr_of_bins,density=True);\n",
        "axs[0].set_title(\"Mean brightness, positive samples\");\n",
        "axs[1].set_title(\"Mean brightness, negative samples\");\n",
        "axs[0].set_xlabel(\"Image mean brightness\")\n",
        "axs[1].set_xlabel(\"Image mean brightness\")\n",
        "axs[0].set_ylabel(\"Relative frequency\")\n",
        "axs[1].set_ylabel(\"Relative frequency\");"
      ],
      "execution_count": null,
      "outputs": [
        {
          "output_type": "display_data",
          "data": {
            "image/png": "[encoded data removed]",
            "text/plain": [
              "<Figure size 1200x300 with 2 Axes>"
            ]
          },
          "metadata": {
            "tags": [],
            "needs_background": "light"
          }
        }
      ]
    },
    {
      "cell_type": "code",
      "metadata": {
        "id": "22_315iJeNsI",
        "colab_type": "code",
        "colab": {}
      },
      "source": [
        "#Clean up variables to free up RAM\n",
        "#Collect garbage\n",
        "positives_samples = None\n",
        "negative_samples = None\n",
        "gc.collect();"
      ],
      "execution_count": null,
      "outputs": []
    },
    {
      "cell_type": "markdown",
      "metadata": {
        "id": "r694e4euZDvU",
        "colab_type": "text"
      },
      "source": [
        "#Prepare data for modeling"
      ]
    },
    {
      "cell_type": "code",
      "metadata": {
        "id": "a-FoabBLMzKf",
        "colab_type": "code",
        "colab": {
          "base_uri": "https://localhost:8080/",
          "height": 117,
          "referenced_widgets": [
            "2059860d8e8d48b28bf8367fba08ec8a",
            "6e446648209f48d79e0be8abe6964550",
            "5e2a072cc42a4824b3aa10ffd50693bb",
            "40e21222ca3d49cc8e8476442621795a",
            "144e28eb0f314c53b94a3ce490d5519a",
            "71e4845794ef4664969c963ee1f862f1",
            "25e74cdf6d6d4b34855d872e0517e833",
            "890cfb0543494613bacf5bd302ab997b"
          ]
        },
        "outputId": "610f1fa2-7f5d-449e-b14b-0f49f4fec5ea"
      },
      "source": [
        "#Load remainder of dataset\n",
        "X_ = None\n",
        "y = None\n",
        "gc.collect();\n",
        "#using df with same number of samples per class\n",
        "N = df[\"path\"].size # get the number of images in the training data set\n",
        "X,y = load_data(N=N,df=df)"
      ],
      "execution_count": 17,
      "outputs": [
        {
          "output_type": "stream",
          "text": [
            "/usr/local/lib/python3.6/dist-packages/ipykernel_launcher.py:10: TqdmDeprecationWarning: This function will be removed in tqdm==5.0.0\n",
            "Please use `tqdm.notebook.tqdm` instead of `tqdm.tqdm_notebook`\n",
            "  # Remove the CWD from sys.path while we load stuff.\n"
          ],
          "name": "stderr"
        },
        {
          "output_type": "display_data",
          "data": {
            "application/vnd.jupyter.widget-view+json": {
              "model_id": "2059860d8e8d48b28bf8367fba08ec8a",
              "version_minor": 0,
              "version_major": 2
            },
            "text/plain": [
              "HBox(children=(FloatProgress(value=0.0, max=110000.0), HTML(value='')))"
            ]
          },
          "metadata": {
            "tags": []
          }
        },
        {
          "output_type": "stream",
          "text": [
            "\n"
          ],
          "name": "stdout"
        }
      ]
    },
    {
      "cell_type": "code",
      "metadata": {
        "id": "17xegLwkc9A7",
        "colab_type": "code",
        "colab": {
          "base_uri": "https://localhost:8080/",
          "height": 850
        },
        "outputId": "99f594dc-bbb0-4f5a-c97f-950f513b5116"
      },
      "source": [
        "X[1]"
      ],
      "execution_count": 18,
      "outputs": [
        {
          "output_type": "execute_result",
          "data": {
            "text/plain": [
              "array([[[0.792 , 0.498 , 0.8276],\n",
              "        [0.7607, 0.451 , 0.792 ],\n",
              "        [0.7607, 0.4314, 0.7803],\n",
              "        ...,\n",
              "        [0.7256, 0.3608, 0.6943],\n",
              "        [0.7764, 0.4   , 0.678 ],\n",
              "        [0.757 , 0.3765, 0.6274]],\n",
              "\n",
              "       [[0.655 , 0.349 , 0.6943],\n",
              "        [0.745 , 0.4392, 0.7803],\n",
              "        [0.9253, 0.608 , 0.949 ],\n",
              "        ...,\n",
              "        [0.651 , 0.3137, 0.643 ],\n",
              "        [0.6626, 0.302 , 0.5884],\n",
              "        [0.7803, 0.392 , 0.6587]],\n",
              "\n",
              "       [[0.753 , 0.4314, 0.8037],\n",
              "        [0.9097, 0.596 , 0.953 ],\n",
              "        [0.7334, 0.4119, 0.7607],\n",
              "        ...,\n",
              "        [0.855 , 0.5293, 0.863 ],\n",
              "        [0.714 , 0.357 , 0.651 ],\n",
              "        [0.678 , 0.2903, 0.565 ]],\n",
              "\n",
              "       ...,\n",
              "\n",
              "       [[0.8667, 0.5728, 0.8394],\n",
              "        [0.7256, 0.396 , 0.647 ],\n",
              "        [0.4236, 0.0706, 0.306 ],\n",
              "        ...,\n",
              "        [0.859 , 0.5215, 0.7725],\n",
              "        [0.718 , 0.3687, 0.639 ],\n",
              "        [0.702 , 0.341 , 0.6196]],\n",
              "\n",
              "       [[1.    , 0.8394, 1.    ],\n",
              "        [1.    , 0.749 , 0.9805],\n",
              "        [0.7295, 0.4824, 0.678 ],\n",
              "        ...,\n",
              "        [0.8433, 0.5176, 0.784 ],\n",
              "        [0.8394, 0.4902, 0.7764],\n",
              "        [0.533 , 0.1765, 0.4707]],\n",
              "\n",
              "       [[0.9805, 0.7373, 0.996 ],\n",
              "        [0.961 , 0.757 , 0.965 ],\n",
              "        [0.898 , 0.7373, 0.886 ],\n",
              "        ...,\n",
              "        [0.643 , 0.3176, 0.5884],\n",
              "        [0.5605, 0.2196, 0.51  ],\n",
              "        [0.7334, 0.3843, 0.6743]]], dtype=float16)"
            ]
          },
          "metadata": {
            "tags": []
          },
          "execution_count": 18
        }
      ]
    },
    {
      "cell_type": "markdown",
      "metadata": {
        "id": "4aCbSzQjcoev",
        "colab_type": "text"
      },
      "source": [
        "##Train test split"
      ]
    },
    {
      "cell_type": "code",
      "metadata": {
        "id": "agpN_Ph0aE1K",
        "colab_type": "code",
        "colab": {}
      },
      "source": [
        "# Split into train and test (80/20)\n",
        "from sklearn.model_selection import train_test_split\n",
        "#not setting a random_state and not shuffling because samples are already shuffled and want to save RAM \n",
        "# added random state instead of shuffle=False\n",
        "X_train, X_test, y_train, y_test = train_test_split(X, y, test_size=0.2, random_state=42)"
      ],
      "execution_count": 19,
      "outputs": []
    },
    {
      "cell_type": "code",
      "metadata": {
        "id": "XKKhHhN-l3sA",
        "colab_type": "code",
        "colab": {
          "base_uri": "https://localhost:8080/",
          "height": 34
        },
        "outputId": "e20f7ac6-cab4-4425-c60e-92bfaee44a95"
      },
      "source": [
        "X_train.shape, X_test.shape, y_train.shape, y_test.shape"
      ],
      "execution_count": 20,
      "outputs": [
        {
          "output_type": "execute_result",
          "data": {
            "text/plain": [
              "((88000, 40, 40, 3), (22000, 40, 40, 3), (88000,), (22000,))"
            ]
          },
          "metadata": {
            "tags": []
          },
          "execution_count": 20
        }
      ]
    },
    {
      "cell_type": "code",
      "metadata": {
        "id": "AnoFU0yPQ9dM",
        "colab_type": "code",
        "colab": {}
      },
      "source": [
        "# X = None\n",
        "# y = None\n",
        "# gc.collect();"
      ],
      "execution_count": 21,
      "outputs": []
    },
    {
      "cell_type": "markdown",
      "metadata": {
        "id": "43HW321Efw8j",
        "colab_type": "text"
      },
      "source": [
        "#Define callbacks for training/testing times"
      ]
    },
    {
      "cell_type": "code",
      "metadata": {
        "id": "jowqucp9f0Bx",
        "colab_type": "code",
        "colab": {}
      },
      "source": [
        "# Define callback to get total training time\n",
        "import datetime\n",
        "\n",
        "class TrainRuntimeCallback(keras.callbacks.Callback):\n",
        "\n",
        "  def on_train_begin(self,logs={}):\n",
        "    self.start = datetime.datetime.now()\n",
        "\n",
        "  def on_train_end(self,logs={}):\n",
        "    self.process_time = (datetime.datetime.now() - self.start).total_seconds()"
      ],
      "execution_count": 22,
      "outputs": []
    },
    {
      "cell_type": "code",
      "metadata": {
        "id": "Xjq-1R9xgH3J",
        "colab_type": "code",
        "colab": {}
      },
      "source": [
        "# Define callback to get total test time\n",
        "import datetime\n",
        "\n",
        "class TestRuntimeCallback(keras.callbacks.Callback):\n",
        "\n",
        "  def on_test_begin(self,logs={}):\n",
        "    self.start = datetime.datetime.now()\n",
        "\n",
        "  def on_test_end(self,logs={}):\n",
        "    self.process_time = (datetime.datetime.now() - self.start).total_seconds()"
      ],
      "execution_count": 23,
      "outputs": []
    },
    {
      "cell_type": "markdown",
      "metadata": {
        "id": "kBYrgKeV10O-",
        "colab_type": "text"
      },
      "source": [
        "#Experiment 1:DNN\n",
        "Establish a baseline with a simple two layer DNN.\n",
        "\n",
        "First hidden layer has 200 nodes, second hidden layer has 100 nodes."
      ]
    },
    {
      "cell_type": "markdown",
      "metadata": {
        "id": "h072pR90f8Pv",
        "colab_type": "text"
      },
      "source": [
        "##Build and compile the model"
      ]
    },
    {
      "cell_type": "code",
      "metadata": {
        "id": "NmjWF9nl8a-Y",
        "colab_type": "code",
        "colab": {
          "base_uri": "https://localhost:8080/",
          "height": 323
        },
        "outputId": "798ce318-2459-4871-d364-5ac3077e2839"
      },
      "source": [
        "model = models.Sequential()\n",
        "\n",
        "model.add(layers.Flatten(input_shape=(IMG_SIZE, IMG_SIZE, 3)))\n",
        "model.add(layers.Dense(200, activation='relu'))\n",
        "model.add(layers.Dense(100, activation='relu'))\n",
        "model.add(layers.Dropout(0.3))\n",
        "model.add(layers.Dense(1, activation='sigmoid'))\n",
        "\n",
        "model.summary()"
      ],
      "execution_count": 24,
      "outputs": [
        {
          "output_type": "stream",
          "text": [
            "Model: \"sequential_1\"\n",
            "_________________________________________________________________\n",
            "Layer (type)                 Output Shape              Param #   \n",
            "=================================================================\n",
            "flatten_1 (Flatten)          (None, 4800)              0         \n",
            "_________________________________________________________________\n",
            "dense_1 (Dense)              (None, 200)               960200    \n",
            "_________________________________________________________________\n",
            "dense_2 (Dense)              (None, 100)               20100     \n",
            "_________________________________________________________________\n",
            "dropout_1 (Dropout)          (None, 100)               0         \n",
            "_________________________________________________________________\n",
            "dense_3 (Dense)              (None, 1)                 101       \n",
            "=================================================================\n",
            "Total params: 980,401\n",
            "Trainable params: 980,401\n",
            "Non-trainable params: 0\n",
            "_________________________________________________________________\n"
          ],
          "name": "stdout"
        }
      ]
    },
    {
      "cell_type": "code",
      "metadata": {
        "id": "rzymbDjbf18b",
        "colab_type": "code",
        "colab": {}
      },
      "source": [
        "model.compile(loss='binary_crossentropy', \n",
        "                   optimizer='adam',  \n",
        "                   metrics=['accuracy'])"
      ],
      "execution_count": 25,
      "outputs": []
    },
    {
      "cell_type": "markdown",
      "metadata": {
        "id": "CAvfwEE66i7x",
        "colab_type": "text"
      },
      "source": [
        "##Train the model"
      ]
    },
    {
      "cell_type": "code",
      "metadata": {
        "id": "i3O5Mc_4f5zH",
        "colab_type": "code",
        "colab": {
          "base_uri": "https://localhost:8080/",
          "height": 564
        },
        "outputId": "b32217bd-793d-4a1f-c8b6-7cab2bd3205e"
      },
      "source": [
        "train_rt = TrainRuntimeCallback()\n",
        "history = model.fit(X_train, \n",
        "                    y_train,\n",
        "                    callbacks=[train_rt],\n",
        "                    epochs=15,\n",
        "                    batch_size = 100,\n",
        "                    validation_split = 0.15)"
      ],
      "execution_count": 26,
      "outputs": [
        {
          "output_type": "stream",
          "text": [
            "Train on 74800 samples, validate on 13200 samples\n",
            "Epoch 1/15\n",
            "74800/74800 [==============================] - 7s 93us/step - loss: 0.6570 - accuracy: 0.5960 - val_loss: 0.6215 - val_accuracy: 0.6402\n",
            "Epoch 2/15\n",
            "74800/74800 [==============================] - 5s 68us/step - loss: 0.6299 - accuracy: 0.6191 - val_loss: 0.6147 - val_accuracy: 0.6440\n",
            "Epoch 3/15\n",
            "74800/74800 [==============================] - 5s 69us/step - loss: 0.6215 - accuracy: 0.6362 - val_loss: 0.5995 - val_accuracy: 0.6517\n",
            "Epoch 4/15\n",
            "74800/74800 [==============================] - 5s 70us/step - loss: 0.6141 - accuracy: 0.6494 - val_loss: 0.6378 - val_accuracy: 0.6977\n",
            "Epoch 5/15\n",
            "74800/74800 [==============================] - 5s 69us/step - loss: 0.5996 - accuracy: 0.6715 - val_loss: 0.5740 - val_accuracy: 0.7092\n",
            "Epoch 6/15\n",
            "74800/74800 [==============================] - 5s 72us/step - loss: 0.5915 - accuracy: 0.6825 - val_loss: 0.5711 - val_accuracy: 0.6911\n",
            "Epoch 7/15\n",
            "74800/74800 [==============================] - 5s 70us/step - loss: 0.5847 - accuracy: 0.6893 - val_loss: 0.5635 - val_accuracy: 0.7126\n",
            "Epoch 8/15\n",
            "74800/74800 [==============================] - 5s 68us/step - loss: 0.5759 - accuracy: 0.6981 - val_loss: 0.5608 - val_accuracy: 0.7199\n",
            "Epoch 9/15\n",
            "74800/74800 [==============================] - 5s 68us/step - loss: 0.5729 - accuracy: 0.6992 - val_loss: 0.5545 - val_accuracy: 0.7157\n",
            "Epoch 10/15\n",
            "74800/74800 [==============================] - 5s 69us/step - loss: 0.5661 - accuracy: 0.7056 - val_loss: 0.5609 - val_accuracy: 0.7295\n",
            "Epoch 11/15\n",
            "74800/74800 [==============================] - 5s 69us/step - loss: 0.5606 - accuracy: 0.7104 - val_loss: 0.5539 - val_accuracy: 0.7086\n",
            "Epoch 12/15\n",
            "74800/74800 [==============================] - 5s 69us/step - loss: 0.5572 - accuracy: 0.7128 - val_loss: 0.5544 - val_accuracy: 0.7231\n",
            "Epoch 13/15\n",
            "74800/74800 [==============================] - 5s 69us/step - loss: 0.5556 - accuracy: 0.7165 - val_loss: 0.5433 - val_accuracy: 0.7278\n",
            "Epoch 14/15\n",
            "74800/74800 [==============================] - 5s 71us/step - loss: 0.5525 - accuracy: 0.7182 - val_loss: 0.5574 - val_accuracy: 0.7116\n",
            "Epoch 15/15\n",
            "74800/74800 [==============================] - 5s 69us/step - loss: 0.5474 - accuracy: 0.7195 - val_loss: 0.5452 - val_accuracy: 0.7341\n"
          ],
          "name": "stdout"
        }
      ]
    },
    {
      "cell_type": "code",
      "metadata": {
        "id": "nCIw1LDy6sri",
        "colab_type": "code",
        "colab": {
          "base_uri": "https://localhost:8080/",
          "height": 34
        },
        "outputId": "b83cbe78-cbce-47b2-d77a-f87ffdd72ba4"
      },
      "source": [
        "# Get the training time\n",
        "train_time = train_rt.process_time\n",
        "train_time # in seconds"
      ],
      "execution_count": 27,
      "outputs": [
        {
          "output_type": "execute_result",
          "data": {
            "text/plain": [
              "79.5649"
            ]
          },
          "metadata": {
            "tags": []
          },
          "execution_count": 27
        }
      ]
    },
    {
      "cell_type": "markdown",
      "metadata": {
        "id": "pSgqtMFXExkL",
        "colab_type": "text"
      },
      "source": [
        "##Test the model"
      ]
    },
    {
      "cell_type": "code",
      "metadata": {
        "id": "n0pxftgGExOa",
        "colab_type": "code",
        "colab": {
          "base_uri": "https://localhost:8080/",
          "height": 51
        },
        "outputId": "5d5b6041-03d1-4eda-dd22-fdab9f36c4f0"
      },
      "source": [
        "test_rt = TestRuntimeCallback()\n",
        "test_loss, test_acc = model.evaluate(X_test, y_test, callbacks=[test_rt])\n",
        "test_loss, test_acc"
      ],
      "execution_count": 28,
      "outputs": [
        {
          "output_type": "stream",
          "text": [
            "22000/22000 [==============================] - 2s 79us/step\n"
          ],
          "name": "stdout"
        },
        {
          "output_type": "execute_result",
          "data": {
            "text/plain": [
              "(0.5415509409037503, 0.7365909218788147)"
            ]
          },
          "metadata": {
            "tags": []
          },
          "execution_count": 28
        }
      ]
    },
    {
      "cell_type": "code",
      "metadata": {
        "id": "tiI5pFmDGWQF",
        "colab_type": "code",
        "colab": {
          "base_uri": "https://localhost:8080/",
          "height": 34
        },
        "outputId": "c05c8189-3fe0-4e01-c208-6ccd810cec57"
      },
      "source": [
        "test_time = test_rt.process_time\n",
        "test_time # in seconds"
      ],
      "execution_count": 29,
      "outputs": [
        {
          "output_type": "execute_result",
          "data": {
            "text/plain": [
              "1.732553"
            ]
          },
          "metadata": {
            "tags": []
          },
          "execution_count": 29
        }
      ]
    },
    {
      "cell_type": "markdown",
      "metadata": {
        "id": "oOsgl86XPj2x",
        "colab_type": "text"
      },
      "source": [
        "###ROC and AUROC"
      ]
    },
    {
      "cell_type": "code",
      "metadata": {
        "id": "QxRWeIJlQFD4",
        "colab_type": "code",
        "colab": {}
      },
      "source": [
        "#Generate predicted probabilities for X_test, and calculate FPR and TPR \n",
        "y_pred = model.predict(X_test).ravel()\n",
        "fpr, tpr, thresholds = roc_curve(y_test, y_pred)"
      ],
      "execution_count": 30,
      "outputs": []
    },
    {
      "cell_type": "code",
      "metadata": {
        "id": "DcS0N7KvQSDM",
        "colab_type": "code",
        "colab": {}
      },
      "source": [
        "auc_keras = auc(fpr, tpr)"
      ],
      "execution_count": 31,
      "outputs": []
    },
    {
      "cell_type": "code",
      "metadata": {
        "id": "yuQUpSVuRY-O",
        "colab_type": "code",
        "colab": {
          "base_uri": "https://localhost:8080/",
          "height": 295
        },
        "outputId": "c59c3d01-e189-401c-ef73-9243ad5fd27b"
      },
      "source": [
        "#Plot ROC\n",
        "plt.figure(1)\n",
        "plt.plot([0, 1], [0, 1], 'k--')\n",
        "plt.plot(fpr, tpr, label='Area = {:.3f}'.format(auc_keras))\n",
        "plt.xlabel('False positive rate')\n",
        "plt.ylabel('True positive rate')\n",
        "plt.title('ROC curve')\n",
        "plt.legend(loc='best')\n",
        "plt.show()"
      ],
      "execution_count": 32,
      "outputs": [
        {
          "output_type": "display_data",
          "data": {
            "image/png": "[encoded data removed]",
            "text/plain": [
              "<Figure size 432x288 with 1 Axes>"
            ]
          },
          "metadata": {
            "tags": [],
            "needs_background": "light"
          }
        }
      ]
    },
    {
      "cell_type": "markdown",
      "metadata": {
        "id": "SBKvLr-4Zgqo",
        "colab_type": "text"
      },
      "source": [
        "### Create a dataframe for the training and test statistics"
      ]
    },
    {
      "cell_type": "code",
      "metadata": {
        "id": "kVAHQzl0ZkmV",
        "colab_type": "code",
        "colab": {
          "base_uri": "https://localhost:8080/",
          "height": 34
        },
        "outputId": "27519076-8e3f-4874-ab0e-32b67724c472"
      },
      "source": [
        "history_dict = history.history\n",
        "history_dict.keys()"
      ],
      "execution_count": 33,
      "outputs": [
        {
          "output_type": "execute_result",
          "data": {
            "text/plain": [
              "dict_keys(['val_loss', 'val_accuracy', 'loss', 'accuracy'])"
            ]
          },
          "metadata": {
            "tags": []
          },
          "execution_count": 33
        }
      ]
    },
    {
      "cell_type": "code",
      "metadata": {
        "id": "2Pm3qQ_KN9Yr",
        "colab_type": "code",
        "colab": {
          "base_uri": "https://localhost:8080/",
          "height": 204
        },
        "outputId": "bca7bc0b-b3b1-4ae0-ba34-428db66881c9"
      },
      "source": [
        "history_df=pd.DataFrame(history_dict)\n",
        "history_df.tail()"
      ],
      "execution_count": 34,
      "outputs": [
        {
          "output_type": "execute_result",
          "data": {
            "text/html": [
              "<div>\n",
              "<style scoped>\n",
              "    .dataframe tbody tr th:only-of-type {\n",
              "        vertical-align: middle;\n",
              "    }\n",
              "\n",
              "    .dataframe tbody tr th {\n",
              "        vertical-align: top;\n",
              "    }\n",
              "\n",
              "    .dataframe thead th {\n",
              "        text-align: right;\n",
              "    }\n",
              "</style>\n",
              "<table border=\"1\" class=\"dataframe\">\n",
              "  <thead>\n",
              "    <tr style=\"text-align: right;\">\n",
              "      <th></th>\n",
              "      <th>val_loss</th>\n",
              "      <th>val_accuracy</th>\n",
              "      <th>loss</th>\n",
              "      <th>accuracy</th>\n",
              "    </tr>\n",
              "  </thead>\n",
              "  <tbody>\n",
              "    <tr>\n",
              "      <th>10</th>\n",
              "      <td>0.553921</td>\n",
              "      <td>0.708561</td>\n",
              "      <td>0.560597</td>\n",
              "      <td>0.710441</td>\n",
              "    </tr>\n",
              "    <tr>\n",
              "      <th>11</th>\n",
              "      <td>0.554427</td>\n",
              "      <td>0.723106</td>\n",
              "      <td>0.557171</td>\n",
              "      <td>0.712754</td>\n",
              "    </tr>\n",
              "    <tr>\n",
              "      <th>12</th>\n",
              "      <td>0.543274</td>\n",
              "      <td>0.727803</td>\n",
              "      <td>0.555558</td>\n",
              "      <td>0.716484</td>\n",
              "    </tr>\n",
              "    <tr>\n",
              "      <th>13</th>\n",
              "      <td>0.557388</td>\n",
              "      <td>0.711591</td>\n",
              "      <td>0.552506</td>\n",
              "      <td>0.718249</td>\n",
              "    </tr>\n",
              "    <tr>\n",
              "      <th>14</th>\n",
              "      <td>0.545215</td>\n",
              "      <td>0.734091</td>\n",
              "      <td>0.547411</td>\n",
              "      <td>0.719452</td>\n",
              "    </tr>\n",
              "  </tbody>\n",
              "</table>\n",
              "</div>"
            ],
            "text/plain": [
              "    val_loss  val_accuracy      loss  accuracy\n",
              "10  0.553921      0.708561  0.560597  0.710441\n",
              "11  0.554427      0.723106  0.557171  0.712754\n",
              "12  0.543274      0.727803  0.555558  0.716484\n",
              "13  0.557388      0.711591  0.552506  0.718249\n",
              "14  0.545215      0.734091  0.547411  0.719452"
            ]
          },
          "metadata": {
            "tags": []
          },
          "execution_count": 34
        }
      ]
    },
    {
      "cell_type": "code",
      "metadata": {
        "id": "AdvqcBrWN9Yy",
        "colab_type": "code",
        "colab": {
          "base_uri": "https://localhost:8080/",
          "height": 114
        },
        "outputId": "9fe15a12-d430-4277-fdc7-4f7de6c3ccf0"
      },
      "source": [
        "results_df = history_df.iloc[-1:].copy()\n",
        "results_df.insert(0,'model','DNN (2 layer)') \n",
        "results_df['test_loss'] = test_loss #incorporate test results\n",
        "results_df['test_accuracy'] = test_acc\n",
        "results_df['auroc'] = auc_keras\n",
        "results_df['train time'] = train_time    \n",
        "results_df['test time'] = test_time    \n",
        "results_df"
      ],
      "execution_count": 35,
      "outputs": [
        {
          "output_type": "execute_result",
          "data": {
            "text/html": [
              "<div>\n",
              "<style scoped>\n",
              "    .dataframe tbody tr th:only-of-type {\n",
              "        vertical-align: middle;\n",
              "    }\n",
              "\n",
              "    .dataframe tbody tr th {\n",
              "        vertical-align: top;\n",
              "    }\n",
              "\n",
              "    .dataframe thead th {\n",
              "        text-align: right;\n",
              "    }\n",
              "</style>\n",
              "<table border=\"1\" class=\"dataframe\">\n",
              "  <thead>\n",
              "    <tr style=\"text-align: right;\">\n",
              "      <th></th>\n",
              "      <th>model</th>\n",
              "      <th>val_loss</th>\n",
              "      <th>val_accuracy</th>\n",
              "      <th>loss</th>\n",
              "      <th>accuracy</th>\n",
              "      <th>test_loss</th>\n",
              "      <th>test_accuracy</th>\n",
              "      <th>auroc</th>\n",
              "      <th>train time</th>\n",
              "      <th>test time</th>\n",
              "    </tr>\n",
              "  </thead>\n",
              "  <tbody>\n",
              "    <tr>\n",
              "      <th>14</th>\n",
              "      <td>DNN (2 layer)</td>\n",
              "      <td>0.545215</td>\n",
              "      <td>0.734091</td>\n",
              "      <td>0.547411</td>\n",
              "      <td>0.719452</td>\n",
              "      <td>0.541551</td>\n",
              "      <td>0.736591</td>\n",
              "      <td>0.795994</td>\n",
              "      <td>79.5649</td>\n",
              "      <td>1.732553</td>\n",
              "    </tr>\n",
              "  </tbody>\n",
              "</table>\n",
              "</div>"
            ],
            "text/plain": [
              "            model  val_loss  val_accuracy  ...     auroc  train time  test time\n",
              "14  DNN (2 layer)  0.545215      0.734091  ...  0.795994     79.5649   1.732553\n",
              "\n",
              "[1 rows x 10 columns]"
            ]
          },
          "metadata": {
            "tags": []
          },
          "execution_count": 35
        }
      ]
    },
    {
      "cell_type": "markdown",
      "metadata": {
        "id": "_NeAd6MKN9Y1",
        "colab_type": "text"
      },
      "source": [
        "### Plotting the performance \n",
        "\n",
        "We use Matplotlib to create 2 plots--displaying the training and validation loss/accuracy for each training epoch side by side."
      ]
    },
    {
      "cell_type": "code",
      "metadata": {
        "id": "z5lD2M7QN9Y2",
        "colab_type": "code",
        "colab": {
          "base_uri": "https://localhost:8080/",
          "height": 295
        },
        "outputId": "09a23fed-0572-4089-bf99-de81e0b71578"
      },
      "source": [
        "import matplotlib.pyplot as plt\n",
        "\n",
        "acc = history.history['accuracy']\n",
        "val_acc = history.history['val_accuracy']\n",
        "loss = history.history['loss']\n",
        "val_loss = history.history['val_loss']\n",
        "\n",
        "epochs = range(1, len(acc) + 1)\n",
        "\n",
        "plt.plot(epochs, loss, label='Training loss')\n",
        "plt.plot(epochs, val_loss, label='Validation loss')\n",
        "plt.title('Training and validation loss')\n",
        "\n",
        "plt.xlabel('Epochs')\n",
        "plt.ylabel('Loss')\n",
        "plt.legend()\n",
        "\n",
        "plt.show()"
      ],
      "execution_count": 36,
      "outputs": [
        {
          "output_type": "display_data",
          "data": {
            "image/png": "[encoded data removed]",
            "text/plain": [
              "<Figure size 432x288 with 1 Axes>"
            ]
          },
          "metadata": {
            "tags": [],
            "needs_background": "light"
          }
        }
      ]
    },
    {
      "cell_type": "code",
      "metadata": {
        "id": "bACOXGORN9Y6",
        "colab_type": "code",
        "colab": {
          "base_uri": "https://localhost:8080/",
          "height": 295
        },
        "outputId": "a7a31527-dee5-47f6-f6fb-0cccc8f139d7"
      },
      "source": [
        "plt.clf()   # clear figure\n",
        "acc_values = history_dict['accuracy']\n",
        "# val_acc_values = history_dict['val_acc']\n",
        "\n",
        "plt.plot(epochs, acc, label='Training acc')\n",
        "plt.plot(epochs, val_acc, label='Validation acc')\n",
        "plt.title('Training and validation accuracy')\n",
        "\n",
        "plt.xlabel('Epochs')\n",
        "plt.ylabel('Accuracy')\n",
        "plt.legend()\n",
        "\n",
        "plt.show()"
      ],
      "execution_count": 37,
      "outputs": [
        {
          "output_type": "display_data",
          "data": {
            "image/png": "[encoded data removed]",
            "text/plain": [
              "<Figure size 432x288 with 1 Axes>"
            ]
          },
          "metadata": {
            "tags": [],
            "needs_background": "light"
          }
        }
      ]
    },
    {
      "cell_type": "markdown",
      "metadata": {
        "colab_type": "text",
        "id": "kiVFna0zV14q"
      },
      "source": [
        "###Confusion matrix\n",
        "True (row) and predicted (column) values"
      ]
    },
    {
      "cell_type": "code",
      "metadata": {
        "colab_type": "code",
        "id": "iMgl2WpLV14q",
        "colab": {}
      },
      "source": [
        "# Get the predicted classes:\n",
        "pred_classes = model.predict_classes(X_train)"
      ],
      "execution_count": 38,
      "outputs": []
    },
    {
      "cell_type": "code",
      "metadata": {
        "colab_type": "code",
        "id": "ioT8iN1hV14s",
        "colab": {
          "base_uri": "https://localhost:8080/",
          "height": 51
        },
        "outputId": "7072e565-4959-4e83-bdc5-1b515cfd5ba5"
      },
      "source": [
        "from sklearn.metrics import confusion_matrix\n",
        "\n",
        "conf_mx = confusion_matrix(y_train, pred_classes)\n",
        "conf_mx"
      ],
      "execution_count": 39,
      "outputs": [
        {
          "output_type": "execute_result",
          "data": {
            "text/plain": [
              "array([[43151,  9166],\n",
              "       [13750, 21933]])"
            ]
          },
          "metadata": {
            "tags": []
          },
          "execution_count": 39
        }
      ]
    },
    {
      "cell_type": "markdown",
      "metadata": {
        "id": "CTlRkKQ-osCC",
        "colab_type": "text"
      },
      "source": [
        "#Experiment 3: CNN with 2 convolutional layers, fully trained on PCam dataset.\n",
        "\n",
        "First hidden layer has 32 nodes, second hidden layer has 64 nodes."
      ]
    },
    {
      "cell_type": "code",
      "metadata": {
        "id": "70JIzuz7oupp",
        "colab_type": "code",
        "colab": {
          "base_uri": "https://localhost:8080/",
          "height": 493
        },
        "outputId": "6c41bd0c-633a-4311-b68f-4e476eff4f6d"
      },
      "source": [
        "model = models.Sequential()\n",
        "\n",
        "model.add(layers.Conv2D(32, (3, 3), activation='relu', input_shape=(IMG_SIZE, IMG_SIZE, 3)))\n",
        "model.add(layers.MaxPooling2D((2, 2)))\n",
        "model.add(layers.Dropout(0.3))\n",
        "\n",
        "model.add(layers.Conv2D(64, (3, 3), activation='relu'))\n",
        "model.add(layers.MaxPooling2D((2, 2)))\n",
        "model.add(layers.Dropout(0.3))\n",
        "\n",
        "model.add(layers.Flatten())\n",
        "model.add(layers.Dense(256, activation='relu'))\n",
        "model.add(layers.Dropout(0.3))\n",
        "\n",
        "model.add(layers.Dense(1, activation='sigmoid'))\n",
        "\n",
        "model.summary()"
      ],
      "execution_count": 194,
      "outputs": [
        {
          "output_type": "stream",
          "text": [
            "Model: \"sequential_6\"\n",
            "_________________________________________________________________\n",
            "Layer (type)                 Output Shape              Param #   \n",
            "=================================================================\n",
            "conv2d_7 (Conv2D)            (None, 38, 38, 32)        896       \n",
            "_________________________________________________________________\n",
            "max_pooling2d_7 (MaxPooling2 (None, 19, 19, 32)        0         \n",
            "_________________________________________________________________\n",
            "dropout_12 (Dropout)         (None, 19, 19, 32)        0         \n",
            "_________________________________________________________________\n",
            "conv2d_8 (Conv2D)            (None, 17, 17, 64)        18496     \n",
            "_________________________________________________________________\n",
            "max_pooling2d_8 (MaxPooling2 (None, 8, 8, 64)          0         \n",
            "_________________________________________________________________\n",
            "dropout_13 (Dropout)         (None, 8, 8, 64)          0         \n",
            "_________________________________________________________________\n",
            "flatten_6 (Flatten)          (None, 4096)              0         \n",
            "_________________________________________________________________\n",
            "dense_12 (Dense)             (None, 256)               1048832   \n",
            "_________________________________________________________________\n",
            "dropout_14 (Dropout)         (None, 256)               0         \n",
            "_________________________________________________________________\n",
            "dense_13 (Dense)             (None, 1)                 257       \n",
            "=================================================================\n",
            "Total params: 1,068,481\n",
            "Trainable params: 1,068,481\n",
            "Non-trainable params: 0\n",
            "_________________________________________________________________\n"
          ],
          "name": "stdout"
        }
      ]
    },
    {
      "cell_type": "code",
      "metadata": {
        "colab_type": "code",
        "id": "Qa5GTUWm77OL",
        "colab": {}
      },
      "source": [
        "model.compile(loss='binary_crossentropy', \n",
        "                   optimizer='adam',  \n",
        "                   metrics=['accuracy'])"
      ],
      "execution_count": 195,
      "outputs": []
    },
    {
      "cell_type": "markdown",
      "metadata": {
        "colab_type": "text",
        "id": "a41kmXQM77ON"
      },
      "source": [
        "##Train the model"
      ]
    },
    {
      "cell_type": "code",
      "metadata": {
        "colab_type": "code",
        "id": "OqbOiuFH77OO",
        "colab": {
          "base_uri": "https://localhost:8080/",
          "height": 714
        },
        "outputId": "c5e986d0-f444-4ca1-feb5-45ef21935117"
      },
      "source": [
        "train_rt = TrainRuntimeCallback()\n",
        "history = model.fit(X_train, \n",
        "                    y_train,\n",
        "                    callbacks=[train_rt],\n",
        "                    epochs=20,\n",
        "                    batch_size = 1000,\n",
        "                    validation_split = 0.15)"
      ],
      "execution_count": 196,
      "outputs": [
        {
          "output_type": "stream",
          "text": [
            "Train on 74800 samples, validate on 13200 samples\n",
            "Epoch 1/20\n",
            "74800/74800 [==============================] - 7s 95us/step - loss: 0.6593 - accuracy: 0.5954 - val_loss: 0.6022 - val_accuracy: 0.7544\n",
            "Epoch 2/20\n",
            "74800/74800 [==============================] - 7s 91us/step - loss: 0.5175 - accuracy: 0.7558 - val_loss: 0.5131 - val_accuracy: 0.7620\n",
            "Epoch 3/20\n",
            "74800/74800 [==============================] - 7s 91us/step - loss: 0.4942 - accuracy: 0.7709 - val_loss: 0.4882 - val_accuracy: 0.7717\n",
            "Epoch 4/20\n",
            "74800/74800 [==============================] - 7s 90us/step - loss: 0.4849 - accuracy: 0.7754 - val_loss: 0.4968 - val_accuracy: 0.7698\n",
            "Epoch 5/20\n",
            "74800/74800 [==============================] - 7s 91us/step - loss: 0.4766 - accuracy: 0.7806 - val_loss: 0.4810 - val_accuracy: 0.7820\n",
            "Epoch 6/20\n",
            "74800/74800 [==============================] - 7s 90us/step - loss: 0.4667 - accuracy: 0.7864 - val_loss: 0.4527 - val_accuracy: 0.7928\n",
            "Epoch 7/20\n",
            "74800/74800 [==============================] - 7s 90us/step - loss: 0.4613 - accuracy: 0.7900 - val_loss: 0.4749 - val_accuracy: 0.7789\n",
            "Epoch 8/20\n",
            "74800/74800 [==============================] - 7s 90us/step - loss: 0.4535 - accuracy: 0.7935 - val_loss: 0.4446 - val_accuracy: 0.7998\n",
            "Epoch 9/20\n",
            "74800/74800 [==============================] - 7s 91us/step - loss: 0.4435 - accuracy: 0.7995 - val_loss: 0.4347 - val_accuracy: 0.8049\n",
            "Epoch 10/20\n",
            "74800/74800 [==============================] - 7s 91us/step - loss: 0.4426 - accuracy: 0.8003 - val_loss: 0.4380 - val_accuracy: 0.8003\n",
            "Epoch 11/20\n",
            "74800/74800 [==============================] - 7s 91us/step - loss: 0.4379 - accuracy: 0.8023 - val_loss: 0.4453 - val_accuracy: 0.7977\n",
            "Epoch 12/20\n",
            "74800/74800 [==============================] - 7s 90us/step - loss: 0.4317 - accuracy: 0.8065 - val_loss: 0.4190 - val_accuracy: 0.8141\n",
            "Epoch 13/20\n",
            "74800/74800 [==============================] - 7s 90us/step - loss: 0.4255 - accuracy: 0.8113 - val_loss: 0.4137 - val_accuracy: 0.8199\n",
            "Epoch 14/20\n",
            "74800/74800 [==============================] - 7s 90us/step - loss: 0.4197 - accuracy: 0.8158 - val_loss: 0.4244 - val_accuracy: 0.8108\n",
            "Epoch 15/20\n",
            "74800/74800 [==============================] - 7s 90us/step - loss: 0.4203 - accuracy: 0.8130 - val_loss: 0.4087 - val_accuracy: 0.8233\n",
            "Epoch 16/20\n",
            "74800/74800 [==============================] - 7s 90us/step - loss: 0.4108 - accuracy: 0.8179 - val_loss: 0.4242 - val_accuracy: 0.8100\n",
            "Epoch 17/20\n",
            "74800/74800 [==============================] - 7s 90us/step - loss: 0.4015 - accuracy: 0.8238 - val_loss: 0.4359 - val_accuracy: 0.8045\n",
            "Epoch 18/20\n",
            "74800/74800 [==============================] - 7s 91us/step - loss: 0.4041 - accuracy: 0.8214 - val_loss: 0.4003 - val_accuracy: 0.8255\n",
            "Epoch 19/20\n",
            "74800/74800 [==============================] - 7s 91us/step - loss: 0.3993 - accuracy: 0.8228 - val_loss: 0.4200 - val_accuracy: 0.8120\n",
            "Epoch 20/20\n",
            "74800/74800 [==============================] - 7s 91us/step - loss: 0.3943 - accuracy: 0.8273 - val_loss: 0.4051 - val_accuracy: 0.8236\n"
          ],
          "name": "stdout"
        }
      ]
    },
    {
      "cell_type": "code",
      "metadata": {
        "colab_type": "code",
        "id": "ifzgcCZZ77OQ",
        "colab": {
          "base_uri": "https://localhost:8080/",
          "height": 34
        },
        "outputId": "91ccf8e7-f81e-4001-cfda-e3c9ce43722e"
      },
      "source": [
        "# Get the training time\n",
        "train_time = train_rt.process_time\n",
        "train_time # in seconds"
      ],
      "execution_count": 197,
      "outputs": [
        {
          "output_type": "execute_result",
          "data": {
            "text/plain": [
              "135.790261"
            ]
          },
          "metadata": {
            "tags": []
          },
          "execution_count": 197
        }
      ]
    },
    {
      "cell_type": "markdown",
      "metadata": {
        "colab_type": "text",
        "id": "S06tVoDw77OT"
      },
      "source": [
        "##Test the model"
      ]
    },
    {
      "cell_type": "code",
      "metadata": {
        "colab_type": "code",
        "id": "Gawe-DIm77OT",
        "colab": {
          "base_uri": "https://localhost:8080/",
          "height": 51
        },
        "outputId": "30efbd79-e098-49db-bba6-6519a76d335b"
      },
      "source": [
        "test_rt = TestRuntimeCallback()\n",
        "test_loss, test_acc = model.evaluate(X_test, y_test, callbacks=[test_rt])\n",
        "test_loss, test_acc"
      ],
      "execution_count": 198,
      "outputs": [
        {
          "output_type": "stream",
          "text": [
            "22000/22000 [==============================] - 2s 101us/step\n"
          ],
          "name": "stdout"
        },
        {
          "output_type": "execute_result",
          "data": {
            "text/plain": [
              "(0.40383970776471223, 0.8217727541923523)"
            ]
          },
          "metadata": {
            "tags": []
          },
          "execution_count": 198
        }
      ]
    },
    {
      "cell_type": "code",
      "metadata": {
        "colab_type": "code",
        "id": "jTrlmg6G77OW",
        "colab": {
          "base_uri": "https://localhost:8080/",
          "height": 34
        },
        "outputId": "969817eb-901a-4def-f3e0-c08997c8db7f"
      },
      "source": [
        "test_time = test_rt.process_time\n",
        "test_time # in seconds"
      ],
      "execution_count": 199,
      "outputs": [
        {
          "output_type": "execute_result",
          "data": {
            "text/plain": [
              "2.232712"
            ]
          },
          "metadata": {
            "tags": []
          },
          "execution_count": 199
        }
      ]
    },
    {
      "cell_type": "markdown",
      "metadata": {
        "colab_type": "text",
        "id": "fNuYN2bYU5h5"
      },
      "source": [
        "###ROC and AUROC"
      ]
    },
    {
      "cell_type": "code",
      "metadata": {
        "colab_type": "code",
        "id": "FIPAZkhsU5h6",
        "colab": {}
      },
      "source": [
        "#Generate predicted probabilities for X_test, and calculate FPR and TPR \n",
        "y_pred = model.predict(X_test).ravel()\n",
        "fpr, tpr, thresholds = roc_curve(y_test, y_pred)"
      ],
      "execution_count": 200,
      "outputs": []
    },
    {
      "cell_type": "code",
      "metadata": {
        "colab_type": "code",
        "id": "Yrv5P7hDU5h7",
        "colab": {}
      },
      "source": [
        "auc_keras = auc(fpr, tpr)"
      ],
      "execution_count": 201,
      "outputs": []
    },
    {
      "cell_type": "code",
      "metadata": {
        "colab_type": "code",
        "id": "D6KaRdm-U5h9",
        "colab": {
          "base_uri": "https://localhost:8080/",
          "height": 295
        },
        "outputId": "09ac2408-83f0-4a6e-e1db-7f1f03aed223"
      },
      "source": [
        "#Plot ROC\n",
        "plt.figure(1)\n",
        "plt.plot([0, 1], [0, 1], 'k--')\n",
        "plt.plot(fpr, tpr, label='Area = {:.3f}'.format(auc_keras))\n",
        "plt.xlabel('False positive rate')\n",
        "plt.ylabel('True positive rate')\n",
        "plt.title('ROC curve')\n",
        "plt.legend(loc='best')\n",
        "plt.show()"
      ],
      "execution_count": 202,
      "outputs": [
        {
          "output_type": "display_data",
          "data": {
            "image/png": "[encoded data removed]",
            "text/plain": [
              "<Figure size 432x288 with 1 Axes>"
            ]
          },
          "metadata": {
            "tags": [],
            "needs_background": "light"
          }
        }
      ]
    },
    {
      "cell_type": "markdown",
      "metadata": {
        "colab_type": "text",
        "id": "owRpzcfr77OY"
      },
      "source": [
        "###Add training and test statistics to results dataframe"
      ]
    },
    {
      "cell_type": "code",
      "metadata": {
        "colab_type": "code",
        "id": "RHB9P6QK77OY",
        "colab": {
          "base_uri": "https://localhost:8080/",
          "height": 80
        },
        "outputId": "1e35f08a-5656-4685-8822-c0bbd6ee2c30"
      },
      "source": [
        "history_dict = history.history\n",
        "history_df=pd.DataFrame(history_dict)\n",
        "df = history_df.iloc[-1:].copy()\n",
        "df.insert(0,'model','CNN (2 layer)') \n",
        "df['test_loss'] = test_loss \n",
        "df['test_accuracy'] = test_acc\n",
        "df['auroc'] = auc_keras\n",
        "df['train time'] = train_time     \n",
        "df['test time'] = test_time   \n",
        "df"
      ],
      "execution_count": 203,
      "outputs": [
        {
          "output_type": "execute_result",
          "data": {
            "text/html": [
              "<div>\n",
              "<style scoped>\n",
              "    .dataframe tbody tr th:only-of-type {\n",
              "        vertical-align: middle;\n",
              "    }\n",
              "\n",
              "    .dataframe tbody tr th {\n",
              "        vertical-align: top;\n",
              "    }\n",
              "\n",
              "    .dataframe thead th {\n",
              "        text-align: right;\n",
              "    }\n",
              "</style>\n",
              "<table border=\"1\" class=\"dataframe\">\n",
              "  <thead>\n",
              "    <tr style=\"text-align: right;\">\n",
              "      <th></th>\n",
              "      <th>model</th>\n",
              "      <th>val_loss</th>\n",
              "      <th>val_accuracy</th>\n",
              "      <th>loss</th>\n",
              "      <th>accuracy</th>\n",
              "      <th>test_loss</th>\n",
              "      <th>test_accuracy</th>\n",
              "      <th>auroc</th>\n",
              "      <th>train time</th>\n",
              "      <th>test time</th>\n",
              "    </tr>\n",
              "  </thead>\n",
              "  <tbody>\n",
              "    <tr>\n",
              "      <th>19</th>\n",
              "      <td>CNN (2 layer)</td>\n",
              "      <td>0.405068</td>\n",
              "      <td>0.823636</td>\n",
              "      <td>0.394267</td>\n",
              "      <td>0.827313</td>\n",
              "      <td>0.40384</td>\n",
              "      <td>0.821773</td>\n",
              "      <td>0.893829</td>\n",
              "      <td>135.790261</td>\n",
              "      <td>2.232712</td>\n",
              "    </tr>\n",
              "  </tbody>\n",
              "</table>\n",
              "</div>"
            ],
            "text/plain": [
              "            model  val_loss  val_accuracy  ...     auroc  train time  test time\n",
              "19  CNN (2 layer)  0.405068      0.823636  ...  0.893829  135.790261   2.232712\n",
              "\n",
              "[1 rows x 10 columns]"
            ]
          },
          "metadata": {
            "tags": []
          },
          "execution_count": 203
        }
      ]
    },
    {
      "cell_type": "code",
      "metadata": {
        "colab_type": "code",
        "id": "0mWfNOiJ77Oa",
        "colab": {
          "base_uri": "https://localhost:8080/",
          "height": 111
        },
        "outputId": "c5413a43-52b2-4946-f44f-0a2556cbbffd"
      },
      "source": [
        "results_df=results_df.append(df,ignore_index=True)\n",
        "results_df"
      ],
      "execution_count": 204,
      "outputs": [
        {
          "output_type": "execute_result",
          "data": {
            "text/html": [
              "<div>\n",
              "<style scoped>\n",
              "    .dataframe tbody tr th:only-of-type {\n",
              "        vertical-align: middle;\n",
              "    }\n",
              "\n",
              "    .dataframe tbody tr th {\n",
              "        vertical-align: top;\n",
              "    }\n",
              "\n",
              "    .dataframe thead th {\n",
              "        text-align: right;\n",
              "    }\n",
              "</style>\n",
              "<table border=\"1\" class=\"dataframe\">\n",
              "  <thead>\n",
              "    <tr style=\"text-align: right;\">\n",
              "      <th></th>\n",
              "      <th>model</th>\n",
              "      <th>val_loss</th>\n",
              "      <th>val_accuracy</th>\n",
              "      <th>loss</th>\n",
              "      <th>accuracy</th>\n",
              "      <th>test_loss</th>\n",
              "      <th>test_accuracy</th>\n",
              "      <th>auroc</th>\n",
              "      <th>train time</th>\n",
              "      <th>test time</th>\n",
              "    </tr>\n",
              "  </thead>\n",
              "  <tbody>\n",
              "    <tr>\n",
              "      <th>0</th>\n",
              "      <td>DNN (2 layer)</td>\n",
              "      <td>0.545215</td>\n",
              "      <td>0.734091</td>\n",
              "      <td>0.547411</td>\n",
              "      <td>0.719452</td>\n",
              "      <td>0.541551</td>\n",
              "      <td>0.736591</td>\n",
              "      <td>0.795994</td>\n",
              "      <td>79.564900</td>\n",
              "      <td>1.732553</td>\n",
              "    </tr>\n",
              "    <tr>\n",
              "      <th>1</th>\n",
              "      <td>CNN (2 layer)</td>\n",
              "      <td>0.405068</td>\n",
              "      <td>0.823636</td>\n",
              "      <td>0.394267</td>\n",
              "      <td>0.827313</td>\n",
              "      <td>0.403840</td>\n",
              "      <td>0.821773</td>\n",
              "      <td>0.893829</td>\n",
              "      <td>135.790261</td>\n",
              "      <td>2.232712</td>\n",
              "    </tr>\n",
              "  </tbody>\n",
              "</table>\n",
              "</div>"
            ],
            "text/plain": [
              "           model  val_loss  val_accuracy  ...     auroc  train time  test time\n",
              "0  DNN (2 layer)  0.545215      0.734091  ...  0.795994   79.564900   1.732553\n",
              "1  CNN (2 layer)  0.405068      0.823636  ...  0.893829  135.790261   2.232712\n",
              "\n",
              "[2 rows x 10 columns]"
            ]
          },
          "metadata": {
            "tags": []
          },
          "execution_count": 204
        }
      ]
    },
    {
      "cell_type": "markdown",
      "metadata": {
        "colab_type": "text",
        "id": "VOq_14dy77Ob"
      },
      "source": [
        "### Plotting the performance \n"
      ]
    },
    {
      "cell_type": "code",
      "metadata": {
        "colab_type": "code",
        "id": "TtA97hS-77Oc",
        "colab": {
          "base_uri": "https://localhost:8080/",
          "height": 295
        },
        "outputId": "231ced5f-a2ea-41b8-c1ce-657e32ea0e0e"
      },
      "source": [
        "import matplotlib.pyplot as plt\n",
        "\n",
        "acc = history.history['accuracy']\n",
        "val_acc = history.history['val_accuracy']\n",
        "loss = history.history['loss']\n",
        "val_loss = history.history['val_loss']\n",
        "\n",
        "epochs = range(1, len(acc) + 1)\n",
        "\n",
        "plt.plot(epochs, loss, label='Training loss')\n",
        "plt.plot(epochs, val_loss, label='Validation loss')\n",
        "plt.title('Training and validation loss')\n",
        "\n",
        "plt.xlabel('Epochs')\n",
        "plt.ylabel('Loss')\n",
        "plt.legend()\n",
        "\n",
        "plt.show()"
      ],
      "execution_count": 205,
      "outputs": [
        {
          "output_type": "display_data",
          "data": {
            "image/png": "[encoded data removed]",
            "text/plain": [
              "<Figure size 432x288 with 1 Axes>"
            ]
          },
          "metadata": {
            "tags": [],
            "needs_background": "light"
          }
        }
      ]
    },
    {
      "cell_type": "code",
      "metadata": {
        "colab_type": "code",
        "id": "o4FpQYjw77Od",
        "colab": {
          "base_uri": "https://localhost:8080/",
          "height": 295
        },
        "outputId": "941fc4d5-4551-48f3-b222-a707dc3d8035"
      },
      "source": [
        "plt.clf()   # clear figure\n",
        "acc_values = history_dict['accuracy']\n",
        "# val_acc_values = history_dict['val_acc']\n",
        "\n",
        "plt.plot(epochs, acc, label='Training acc')\n",
        "plt.plot(epochs, val_acc, label='Validation acc')\n",
        "plt.title('Training and validation accuracy')\n",
        "\n",
        "plt.xlabel('Epochs')\n",
        "plt.ylabel('Accuracy')\n",
        "plt.legend()\n",
        "\n",
        "plt.show()"
      ],
      "execution_count": 206,
      "outputs": [
        {
          "output_type": "display_data",
          "data": {
            "image/png": "[encoded data removed]",
            "text/plain": [
              "<Figure size 432x288 with 1 Axes>"
            ]
          },
          "metadata": {
            "tags": [],
            "needs_background": "light"
          }
        }
      ]
    },
    {
      "cell_type": "markdown",
      "metadata": {
        "id": "j2yOF39cEUEi",
        "colab_type": "text"
      },
      "source": [
        "Based on these graphs, the model still isn't overfitting and looks like it could benefit from some added complexity."
      ]
    },
    {
      "cell_type": "markdown",
      "metadata": {
        "colab_type": "text",
        "id": "w45ej_kHVs29"
      },
      "source": [
        "###Confusion matrix\n",
        "True (row) and predicted (column) values"
      ]
    },
    {
      "cell_type": "code",
      "metadata": {
        "colab_type": "code",
        "id": "_97uXCqzVs2-",
        "colab": {}
      },
      "source": [
        "# Get the predicted classes:\n",
        "pred_classes = model.predict_classes(X_train)"
      ],
      "execution_count": 207,
      "outputs": []
    },
    {
      "cell_type": "code",
      "metadata": {
        "colab_type": "code",
        "id": "WWTX6WXUVs3C",
        "colab": {
          "base_uri": "https://localhost:8080/",
          "height": 51
        },
        "outputId": "d2205d37-2ec2-4556-b984-af8a243e7e2d"
      },
      "source": [
        "from sklearn.metrics import confusion_matrix\n",
        "\n",
        "conf_mx = confusion_matrix(y_train, pred_classes)\n",
        "conf_mx"
      ],
      "execution_count": 208,
      "outputs": [
        {
          "output_type": "execute_result",
          "data": {
            "text/plain": [
              "array([[44065,  8252],\n",
              "       [ 7058, 28625]])"
            ]
          },
          "metadata": {
            "tags": []
          },
          "execution_count": 208
        }
      ]
    },
    {
      "cell_type": "markdown",
      "metadata": {
        "id": "lUCuZHUbhiLD",
        "colab_type": "text"
      },
      "source": [
        "#Feature Extraction"
      ]
    },
    {
      "cell_type": "code",
      "metadata": {
        "id": "xR-owstikpMU",
        "colab_type": "code",
        "colab": {
          "base_uri": "https://localhost:8080/",
          "height": 34
        },
        "outputId": "1c656628-a65c-4c65-9fd4-beb75c634749"
      },
      "source": [
        "train_names[0]"
      ],
      "execution_count": 209,
      "outputs": [
        {
          "output_type": "execute_result",
          "data": {
            "text/plain": [
              "'99ef485f205645918613cd04281098daa7c17819.tif'"
            ]
          },
          "metadata": {
            "tags": []
          },
          "execution_count": 209
        }
      ]
    },
    {
      "cell_type": "code",
      "metadata": {
        "id": "22qr1KgYh0gn",
        "colab_type": "code",
        "colab": {
          "base_uri": "https://localhost:8080/",
          "height": 34
        },
        "outputId": "7c943389-b9d3-49ed-d71a-5e81f8e54a09"
      },
      "source": [
        "# map sample image to array\n",
        "img_path = train_path + '/' + train_names[0]\n",
        "\n",
        "from keras.preprocessing import image                             \n",
        "\n",
        "img = image.load_img(img_path, target_size=(IMG_SIZE, IMG_SIZE))\n",
        "img_tensor = image.img_to_array(img)\n",
        "img_tensor = np.expand_dims(img_tensor, axis=0)\n",
        "img_tensor /= 255.                                                \n",
        "print(img_tensor.shape)  "
      ],
      "execution_count": 210,
      "outputs": [
        {
          "output_type": "stream",
          "text": [
            "(1, 40, 40, 3)\n"
          ],
          "name": "stdout"
        }
      ]
    },
    {
      "cell_type": "code",
      "metadata": {
        "id": "ZKAPTPDmjb-Y",
        "colab_type": "code",
        "colab": {
          "base_uri": "https://localhost:8080/",
          "height": 267
        },
        "outputId": "5660d506-02ec-4396-e76e-62f37143884b"
      },
      "source": [
        "# display sample image\n",
        "plt.imshow(img_tensor[0])\n",
        "plt.show()"
      ],
      "execution_count": 211,
      "outputs": [
        {
          "output_type": "display_data",
          "data": {
            "image/png": "[encoded data removed]",
            "text/plain": [
              "<Figure size 432x288 with 1 Axes>"
            ]
          },
          "metadata": {
            "tags": [],
            "needs_background": "light"
          }
        }
      ]
    },
    {
      "cell_type": "code",
      "metadata": {
        "id": "Kxg8HqgEji8I",
        "colab_type": "code",
        "colab": {}
      },
      "source": [
        "# instantiate a model from an input tensor and list of output tensors\n",
        "layer_outputs = [layer.output for layer in model.layers[:8]]               \n",
        "activation_model = models.Model(inputs=model.input, outputs=layer_outputs)"
      ],
      "execution_count": 212,
      "outputs": []
    },
    {
      "cell_type": "code",
      "metadata": {
        "id": "V3JOBirWj2Ks",
        "colab_type": "code",
        "colab": {}
      },
      "source": [
        "activations = activation_model.predict(img_tensor)"
      ],
      "execution_count": 213,
      "outputs": []
    },
    {
      "cell_type": "code",
      "metadata": {
        "id": "Z7L39H0Fj-Fo",
        "colab_type": "code",
        "colab": {
          "base_uri": "https://localhost:8080/",
          "height": 1000
        },
        "outputId": "233b9a2a-9904-4c85-fc66-a62b0ed56f1a"
      },
      "source": [
        "# activation of the first convolution layer for the sample image input\n",
        "first_layer_activation = activations[0]\n",
        "\n",
        "for x in range(4):\n",
        "  plt.matshow(first_layer_activation[0, :, :, x], cmap='viridis')"
      ],
      "execution_count": 214,
      "outputs": [
        {
          "output_type": "display_data",
          "data": {
            "image/png": "[encoded data removed]",
            "text/plain": [
              "<Figure size 288x288 with 1 Axes>"
            ]
          },
          "metadata": {
            "tags": [],
            "needs_background": "light"
          }
        },
        {
          "output_type": "display_data",
          "data": {
            "image/png": "[encoded data removed]",
            "text/plain": [
              "<Figure size 288x288 with 1 Axes>"
            ]
          },
          "metadata": {
            "tags": [],
            "needs_background": "light"
          }
        },
        {
          "output_type": "display_data",
          "data": {
            "image/png": "[encoded data removed]",
            "text/plain": [
              "<Figure size 288x288 with 1 Axes>"
            ]
          },
          "metadata": {
            "tags": [],
            "needs_background": "light"
          }
        },
        {
          "output_type": "display_data",
          "data": {
            "image/png": "[encoded data removed]",
            "text/plain": [
              "<Figure size 288x288 with 1 Axes>"
            ]
          },
          "metadata": {
            "tags": [],
            "needs_background": "light"
          }
        }
      ]
    },
    {
      "cell_type": "code",
      "metadata": {
        "id": "oRhotXQJyiYI",
        "colab_type": "code",
        "colab": {
          "base_uri": "https://localhost:8080/",
          "height": 1000
        },
        "outputId": "a5d347fc-10ff-43b6-a55e-50f4a12686c7"
      },
      "source": [
        "# activation of the second convolution layer for the sample image input\n",
        "second_layer_activation = activations[1]\n",
        "\n",
        "for x in range(4):\n",
        "  plt.matshow(second_layer_activation[0, :, :, x], cmap='viridis')"
      ],
      "execution_count": 215,
      "outputs": [
        {
          "output_type": "display_data",
          "data": {
            "image/png": "[encoded data removed]",
            "text/plain": [
              "<Figure size 288x288 with 1 Axes>"
            ]
          },
          "metadata": {
            "tags": [],
            "needs_background": "light"
          }
        },
        {
          "output_type": "display_data",
          "data": {
            "image/png": "[encoded data removed]",
            "text/plain": [
              "<Figure size 288x288 with 1 Axes>"
            ]
          },
          "metadata": {
            "tags": [],
            "needs_background": "light"
          }
        },
        {
          "output_type": "display_data",
          "data": {
            "image/png": "[encoded data removed]",
            "text/plain": [
              "<Figure size 288x288 with 1 Axes>"
            ]
          },
          "metadata": {
            "tags": [],
            "needs_background": "light"
          }
        },
        {
          "output_type": "display_data",
          "data": {
            "image/png": "[encoded data removed]",
            "text/plain": [
              "<Figure size 288x288 with 1 Axes>"
            ]
          },
          "metadata": {
            "tags": [],
            "needs_background": "light"
          }
        }
      ]
    },
    {
      "cell_type": "code",
      "metadata": {
        "id": "8yUTaCvfGgmt",
        "colab_type": "code",
        "colab": {
          "base_uri": "https://localhost:8080/",
          "height": 1000
        },
        "outputId": "168b1de1-8409-4c66-beb8-e6c22a5d0fc6"
      },
      "source": [
        "# activation of the fifth convolution layer for the sample image input\n",
        "fifth_layer_activation = activations[4]\n",
        "\n",
        "for x in range(4):\n",
        "  plt.matshow(fifth_layer_activation[0, :, :, x], cmap='viridis')"
      ],
      "execution_count": 216,
      "outputs": [
        {
          "output_type": "display_data",
          "data": {
            "image/png": "[encoded data removed]",
            "text/plain": [
              "<Figure size 288x288 with 1 Axes>"
            ]
          },
          "metadata": {
            "tags": [],
            "needs_background": "light"
          }
        },
        {
          "output_type": "display_data",
          "data": {
            "image/png": "[encoded data removed]",
            "text/plain": [
              "<Figure size 288x288 with 1 Axes>"
            ]
          },
          "metadata": {
            "tags": [],
            "needs_background": "light"
          }
        },
        {
          "output_type": "display_data",
          "data": {
            "image/png": "[encoded data removed]",
            "text/plain": [
              "<Figure size 288x288 with 1 Axes>"
            ]
          },
          "metadata": {
            "tags": [],
            "needs_background": "light"
          }
        },
        {
          "output_type": "display_data",
          "data": {
            "image/png": "[encoded data removed]",
            "text/plain": [
              "<Figure size 288x288 with 1 Axes>"
            ]
          },
          "metadata": {
            "tags": [],
            "needs_background": "light"
          }
        }
      ]
    },
    {
      "cell_type": "markdown",
      "metadata": {
        "id": "LIXa5nf9GFwa",
        "colab_type": "text"
      },
      "source": [
        "Note that the features activated in the higher levels are more abstract than those in the lowest level. The lower levels encode visual information such as edges and shades. The higher levels encode whether or not key attributes of cancerous images are present in the sample."
      ]
    },
    {
      "cell_type": "markdown",
      "metadata": {
        "id": "c9aUFF05ZkLJ",
        "colab_type": "text"
      },
      "source": [
        "#Pre-trained Network: VGG16"
      ]
    },
    {
      "cell_type": "code",
      "metadata": {
        "id": "kMfmGvQH4eHM",
        "colab_type": "code",
        "colab": {}
      },
      "source": [
        "from keras.applications import VGG16"
      ],
      "execution_count": 217,
      "outputs": []
    },
    {
      "cell_type": "markdown",
      "metadata": {
        "colab_type": "text",
        "id": "2HrFce9bvdBB"
      },
      "source": [
        "##VGG16 unfreeze 6 convolutional layers (block 4 and block 5)"
      ]
    },
    {
      "cell_type": "markdown",
      "metadata": {
        "id": "fcUFJkQxN7TQ",
        "colab_type": "text"
      },
      "source": [
        "VGG16 was originally trained on ImageNet. We freeze the lower layers that have already learned basic visual features from that large corpus of data. We will now train the final six convolutional layers on the PCam data so that the model learns abstract features specific to this dataset."
      ]
    },
    {
      "cell_type": "markdown",
      "metadata": {
        "id": "SMPcoQW1LkXx",
        "colab_type": "text"
      },
      "source": [
        "Instantiate model"
      ]
    },
    {
      "cell_type": "code",
      "metadata": {
        "colab_type": "code",
        "id": "nmwPsdhXl4Mh",
        "colab": {
          "base_uri": "https://localhost:8080/",
          "height": 323
        },
        "outputId": "fbed2d12-2140-4566-ae2a-6e93dc1cf037"
      },
      "source": [
        "conv_base = VGG16(weights = 'imagenet',\n",
        "                     include_top = False,\n",
        "                     input_shape = (IMG_SIZE, IMG_SIZE, 3))\n",
        "\n",
        "model = models.Sequential()\n",
        "model.add(conv_base)\n",
        "model.add(layers.Flatten())\n",
        "model.add(layers.Dense(256, activation='relu'))\n",
        "model.add(layers.Dropout(0.3))\n",
        "model.add(layers.Dense(1, activation='sigmoid'))\n",
        "\n",
        "model.summary()"
      ],
      "execution_count": 218,
      "outputs": [
        {
          "output_type": "stream",
          "text": [
            "Model: \"sequential_7\"\n",
            "_________________________________________________________________\n",
            "Layer (type)                 Output Shape              Param #   \n",
            "=================================================================\n",
            "vgg16 (Model)                (None, 1, 1, 512)         14714688  \n",
            "_________________________________________________________________\n",
            "flatten_7 (Flatten)          (None, 512)               0         \n",
            "_________________________________________________________________\n",
            "dense_14 (Dense)             (None, 256)               131328    \n",
            "_________________________________________________________________\n",
            "dropout_15 (Dropout)         (None, 256)               0         \n",
            "_________________________________________________________________\n",
            "dense_15 (Dense)             (None, 1)                 257       \n",
            "=================================================================\n",
            "Total params: 14,846,273\n",
            "Trainable params: 14,846,273\n",
            "Non-trainable params: 0\n",
            "_________________________________________________________________\n"
          ],
          "name": "stdout"
        }
      ]
    },
    {
      "cell_type": "markdown",
      "metadata": {
        "colab_type": "text",
        "id": "IYzu0oi2l4Mk"
      },
      "source": [
        "Select which layers to freeze during training"
      ]
    },
    {
      "cell_type": "code",
      "metadata": {
        "colab_type": "code",
        "id": "GZehBACCl4Mk",
        "colab": {}
      },
      "source": [
        "# Freeze all but the last three convolutional layers\n",
        "conv_base.trainable = True\n",
        "\n",
        "set_trainable = False\n",
        "for layer in conv_base.layers:\n",
        "    if layer.name == 'block4_conv1':\n",
        "        set_trainable = True\n",
        "    if set_trainable:\n",
        "        layer.trainable = True\n",
        "    else:\n",
        "        layer.trainable = False"
      ],
      "execution_count": 219,
      "outputs": []
    },
    {
      "cell_type": "code",
      "metadata": {
        "colab_type": "code",
        "id": "9tMaxEgQl4Mm",
        "colab": {}
      },
      "source": [
        "model.compile(loss='binary_crossentropy', \n",
        "                   optimizer='adam',  \n",
        "                   metrics=['accuracy'])"
      ],
      "execution_count": 220,
      "outputs": []
    },
    {
      "cell_type": "markdown",
      "metadata": {
        "colab_type": "text",
        "id": "UfmdAqmpl4Mn"
      },
      "source": [
        "###Train the model"
      ]
    },
    {
      "cell_type": "code",
      "metadata": {
        "colab_type": "code",
        "id": "Fa9FgL_El4Mo",
        "colab": {
          "base_uri": "https://localhost:8080/",
          "height": 564
        },
        "outputId": "e0f279c7-5e94-4a59-ffb6-91f0cb0445e8"
      },
      "source": [
        "train_rt = TrainRuntimeCallback()\n",
        "history = model.fit(X_train, \n",
        "                    y_train,\n",
        "                    callbacks=[train_rt],\n",
        "                    epochs=15,\n",
        "                    batch_size = 1000,\n",
        "                    validation_split = 0.15)"
      ],
      "execution_count": 221,
      "outputs": [
        {
          "output_type": "stream",
          "text": [
            "Train on 74800 samples, validate on 13200 samples\n",
            "Epoch 1/15\n",
            "74800/74800 [==============================] - 37s 494us/step - loss: 0.5947 - accuracy: 0.7114 - val_loss: 0.4473 - val_accuracy: 0.7933\n",
            "Epoch 2/15\n",
            "74800/74800 [==============================] - 37s 490us/step - loss: 0.4373 - accuracy: 0.8014 - val_loss: 0.4184 - val_accuracy: 0.8098\n",
            "Epoch 3/15\n",
            "74800/74800 [==============================] - 37s 495us/step - loss: 0.4099 - accuracy: 0.8155 - val_loss: 0.3916 - val_accuracy: 0.8258\n",
            "Epoch 4/15\n",
            "74800/74800 [==============================] - 37s 493us/step - loss: 0.3922 - accuracy: 0.8252 - val_loss: 0.3831 - val_accuracy: 0.8283\n",
            "Epoch 5/15\n",
            "74800/74800 [==============================] - 37s 494us/step - loss: 0.3829 - accuracy: 0.8316 - val_loss: 0.3794 - val_accuracy: 0.8344\n",
            "Epoch 6/15\n",
            "74800/74800 [==============================] - 37s 494us/step - loss: 0.3736 - accuracy: 0.8345 - val_loss: 0.3710 - val_accuracy: 0.8392\n",
            "Epoch 7/15\n",
            "74800/74800 [==============================] - 37s 494us/step - loss: 0.3614 - accuracy: 0.8420 - val_loss: 0.3677 - val_accuracy: 0.8395\n",
            "Epoch 8/15\n",
            "74800/74800 [==============================] - 37s 497us/step - loss: 0.3540 - accuracy: 0.8459 - val_loss: 0.3697 - val_accuracy: 0.8348\n",
            "Epoch 9/15\n",
            "74800/74800 [==============================] - 37s 493us/step - loss: 0.3409 - accuracy: 0.8516 - val_loss: 0.3581 - val_accuracy: 0.8449\n",
            "Epoch 10/15\n",
            "74800/74800 [==============================] - 37s 494us/step - loss: 0.3330 - accuracy: 0.8556 - val_loss: 0.3727 - val_accuracy: 0.8348\n",
            "Epoch 11/15\n",
            "74800/74800 [==============================] - 37s 492us/step - loss: 0.3339 - accuracy: 0.8551 - val_loss: 0.3648 - val_accuracy: 0.8418\n",
            "Epoch 12/15\n",
            "74800/74800 [==============================] - 37s 492us/step - loss: 0.3175 - accuracy: 0.8645 - val_loss: 0.3635 - val_accuracy: 0.8434\n",
            "Epoch 13/15\n",
            "74800/74800 [==============================] - 37s 494us/step - loss: 0.3100 - accuracy: 0.8684 - val_loss: 0.3646 - val_accuracy: 0.8439\n",
            "Epoch 14/15\n",
            "74800/74800 [==============================] - 37s 493us/step - loss: 0.3000 - accuracy: 0.8736 - val_loss: 0.3803 - val_accuracy: 0.8408\n",
            "Epoch 15/15\n",
            "74800/74800 [==============================] - 37s 493us/step - loss: 0.2878 - accuracy: 0.8792 - val_loss: 0.3737 - val_accuracy: 0.8417\n"
          ],
          "name": "stdout"
        }
      ]
    },
    {
      "cell_type": "code",
      "metadata": {
        "colab_type": "code",
        "id": "i3oQGezxl4Mp",
        "colab": {
          "base_uri": "https://localhost:8080/",
          "height": 34
        },
        "outputId": "32ee80c2-f75f-4f8e-914d-b84d38e558ad"
      },
      "source": [
        "# Get the training time\n",
        "train_time = train_rt.process_time\n",
        "train_time # in seconds"
      ],
      "execution_count": 222,
      "outputs": [
        {
          "output_type": "execute_result",
          "data": {
            "text/plain": [
              "553.768467"
            ]
          },
          "metadata": {
            "tags": []
          },
          "execution_count": 222
        }
      ]
    },
    {
      "cell_type": "markdown",
      "metadata": {
        "colab_type": "text",
        "id": "AQGYiI7il4Mr"
      },
      "source": [
        "###Test the model"
      ]
    },
    {
      "cell_type": "code",
      "metadata": {
        "colab_type": "code",
        "id": "3Z-OJBYRl4Mr",
        "colab": {
          "base_uri": "https://localhost:8080/",
          "height": 51
        },
        "outputId": "7db0c58f-08a5-4221-e78f-6a9c9f32cace"
      },
      "source": [
        "test_rt = TestRuntimeCallback()\n",
        "test_loss, test_acc = model.evaluate(X_test, y_test, callbacks=[test_rt])\n",
        "test_loss, test_acc"
      ],
      "execution_count": 223,
      "outputs": [
        {
          "output_type": "stream",
          "text": [
            "22000/22000 [==============================] - 11s 483us/step\n"
          ],
          "name": "stdout"
        },
        {
          "output_type": "execute_result",
          "data": {
            "text/plain": [
              "(0.3764376316070557, 0.8428182005882263)"
            ]
          },
          "metadata": {
            "tags": []
          },
          "execution_count": 223
        }
      ]
    },
    {
      "cell_type": "code",
      "metadata": {
        "colab_type": "code",
        "id": "8dDucmQul4Mt",
        "colab": {
          "base_uri": "https://localhost:8080/",
          "height": 34
        },
        "outputId": "de5018c3-c6e7-4157-9d19-2f80b46e503c"
      },
      "source": [
        "test_time = test_rt.process_time\n",
        "test_time # in seconds"
      ],
      "execution_count": 224,
      "outputs": [
        {
          "output_type": "execute_result",
          "data": {
            "text/plain": [
              "10.62356"
            ]
          },
          "metadata": {
            "tags": []
          },
          "execution_count": 224
        }
      ]
    },
    {
      "cell_type": "markdown",
      "metadata": {
        "colab_type": "text",
        "id": "AhzUpz8al4M0"
      },
      "source": [
        "###ROC and AUROC"
      ]
    },
    {
      "cell_type": "code",
      "metadata": {
        "colab_type": "code",
        "id": "X1KPoyMBl4M1",
        "colab": {}
      },
      "source": [
        "#Generate predicted probabilities for X_test, and calculate FPR and TPR \n",
        "y_pred = model.predict(X_test).ravel()\n",
        "fpr, tpr, thresholds = roc_curve(y_test, y_pred)"
      ],
      "execution_count": 225,
      "outputs": []
    },
    {
      "cell_type": "code",
      "metadata": {
        "colab_type": "code",
        "id": "YXh6Gtb1l4M2",
        "colab": {}
      },
      "source": [
        "auc_keras = auc(fpr, tpr)"
      ],
      "execution_count": 226,
      "outputs": []
    },
    {
      "cell_type": "code",
      "metadata": {
        "colab_type": "code",
        "id": "JYfnFLKFl4M4",
        "colab": {
          "base_uri": "https://localhost:8080/",
          "height": 295
        },
        "outputId": "79204bc6-c705-4816-9628-e0aa48eb4dfe"
      },
      "source": [
        "#Plot ROC\n",
        "plt.figure(1)\n",
        "plt.plot([0, 1], [0, 1], 'k--')\n",
        "plt.plot(fpr, tpr, label='Area = {:.3f}'.format(auc_keras))\n",
        "plt.xlabel('False positive rate')\n",
        "plt.ylabel('True positive rate')\n",
        "plt.title('ROC curve')\n",
        "plt.legend(loc='best')\n",
        "plt.show()"
      ],
      "execution_count": 227,
      "outputs": [
        {
          "output_type": "display_data",
          "data": {
            "image/png": "[encoded data removed]",
            "text/plain": [
              "<Figure size 432x288 with 1 Axes>"
            ]
          },
          "metadata": {
            "tags": [],
            "needs_background": "light"
          }
        }
      ]
    },
    {
      "cell_type": "markdown",
      "metadata": {
        "colab_type": "text",
        "id": "WKBr7Kakl4Mu"
      },
      "source": [
        "###Add training and test statistics to results dataframe"
      ]
    },
    {
      "cell_type": "code",
      "metadata": {
        "colab_type": "code",
        "id": "OITcemPZl4Mu",
        "colab": {
          "base_uri": "https://localhost:8080/",
          "height": 80
        },
        "outputId": "403a0403-601f-47b1-9f42-bd9449b1a619"
      },
      "source": [
        "history_dict = history.history\n",
        "history_df=pd.DataFrame(history_dict)\n",
        "df = history_df.iloc[-1:].copy()\n",
        "df.insert(0,'model','VGG16 (6 unfrozen)') \n",
        "df['test_loss'] = test_loss \n",
        "df['test_accuracy'] = test_acc\n",
        "df['auroc'] = auc_keras\n",
        "df['train time'] = train_time     \n",
        "df['test time'] = test_time   \n",
        "df"
      ],
      "execution_count": 228,
      "outputs": [
        {
          "output_type": "execute_result",
          "data": {
            "text/html": [
              "<div>\n",
              "<style scoped>\n",
              "    .dataframe tbody tr th:only-of-type {\n",
              "        vertical-align: middle;\n",
              "    }\n",
              "\n",
              "    .dataframe tbody tr th {\n",
              "        vertical-align: top;\n",
              "    }\n",
              "\n",
              "    .dataframe thead th {\n",
              "        text-align: right;\n",
              "    }\n",
              "</style>\n",
              "<table border=\"1\" class=\"dataframe\">\n",
              "  <thead>\n",
              "    <tr style=\"text-align: right;\">\n",
              "      <th></th>\n",
              "      <th>model</th>\n",
              "      <th>val_loss</th>\n",
              "      <th>val_accuracy</th>\n",
              "      <th>loss</th>\n",
              "      <th>accuracy</th>\n",
              "      <th>test_loss</th>\n",
              "      <th>test_accuracy</th>\n",
              "      <th>auroc</th>\n",
              "      <th>train time</th>\n",
              "      <th>test time</th>\n",
              "    </tr>\n",
              "  </thead>\n",
              "  <tbody>\n",
              "    <tr>\n",
              "      <th>14</th>\n",
              "      <td>VGG16 (6 unfrozen)</td>\n",
              "      <td>0.373698</td>\n",
              "      <td>0.841742</td>\n",
              "      <td>0.287802</td>\n",
              "      <td>0.879184</td>\n",
              "      <td>0.376438</td>\n",
              "      <td>0.842818</td>\n",
              "      <td>0.911925</td>\n",
              "      <td>553.768467</td>\n",
              "      <td>10.62356</td>\n",
              "    </tr>\n",
              "  </tbody>\n",
              "</table>\n",
              "</div>"
            ],
            "text/plain": [
              "                 model  val_loss  val_accuracy  ...     auroc  train time  test time\n",
              "14  VGG16 (6 unfrozen)  0.373698      0.841742  ...  0.911925  553.768467   10.62356\n",
              "\n",
              "[1 rows x 10 columns]"
            ]
          },
          "metadata": {
            "tags": []
          },
          "execution_count": 228
        }
      ]
    },
    {
      "cell_type": "code",
      "metadata": {
        "colab_type": "code",
        "id": "YzMM23NKl4Mw",
        "colab": {
          "base_uri": "https://localhost:8080/",
          "height": 142
        },
        "outputId": "f5b88e7e-10d4-44d5-e20c-05370763ed2e"
      },
      "source": [
        "results_df=results_df.append(df,ignore_index=True)\n",
        "results_df"
      ],
      "execution_count": 229,
      "outputs": [
        {
          "output_type": "execute_result",
          "data": {
            "text/html": [
              "<div>\n",
              "<style scoped>\n",
              "    .dataframe tbody tr th:only-of-type {\n",
              "        vertical-align: middle;\n",
              "    }\n",
              "\n",
              "    .dataframe tbody tr th {\n",
              "        vertical-align: top;\n",
              "    }\n",
              "\n",
              "    .dataframe thead th {\n",
              "        text-align: right;\n",
              "    }\n",
              "</style>\n",
              "<table border=\"1\" class=\"dataframe\">\n",
              "  <thead>\n",
              "    <tr style=\"text-align: right;\">\n",
              "      <th></th>\n",
              "      <th>model</th>\n",
              "      <th>val_loss</th>\n",
              "      <th>val_accuracy</th>\n",
              "      <th>loss</th>\n",
              "      <th>accuracy</th>\n",
              "      <th>test_loss</th>\n",
              "      <th>test_accuracy</th>\n",
              "      <th>auroc</th>\n",
              "      <th>train time</th>\n",
              "      <th>test time</th>\n",
              "    </tr>\n",
              "  </thead>\n",
              "  <tbody>\n",
              "    <tr>\n",
              "      <th>0</th>\n",
              "      <td>DNN (2 layer)</td>\n",
              "      <td>0.545215</td>\n",
              "      <td>0.734091</td>\n",
              "      <td>0.547411</td>\n",
              "      <td>0.719452</td>\n",
              "      <td>0.541551</td>\n",
              "      <td>0.736591</td>\n",
              "      <td>0.795994</td>\n",
              "      <td>79.564900</td>\n",
              "      <td>1.732553</td>\n",
              "    </tr>\n",
              "    <tr>\n",
              "      <th>1</th>\n",
              "      <td>CNN (2 layer)</td>\n",
              "      <td>0.405068</td>\n",
              "      <td>0.823636</td>\n",
              "      <td>0.394267</td>\n",
              "      <td>0.827313</td>\n",
              "      <td>0.403840</td>\n",
              "      <td>0.821773</td>\n",
              "      <td>0.893829</td>\n",
              "      <td>135.790261</td>\n",
              "      <td>2.232712</td>\n",
              "    </tr>\n",
              "    <tr>\n",
              "      <th>2</th>\n",
              "      <td>VGG16 (6 unfrozen)</td>\n",
              "      <td>0.373698</td>\n",
              "      <td>0.841742</td>\n",
              "      <td>0.287802</td>\n",
              "      <td>0.879184</td>\n",
              "      <td>0.376438</td>\n",
              "      <td>0.842818</td>\n",
              "      <td>0.911925</td>\n",
              "      <td>553.768467</td>\n",
              "      <td>10.623560</td>\n",
              "    </tr>\n",
              "  </tbody>\n",
              "</table>\n",
              "</div>"
            ],
            "text/plain": [
              "                model  val_loss  val_accuracy  ...     auroc  train time  test time\n",
              "0       DNN (2 layer)  0.545215      0.734091  ...  0.795994   79.564900   1.732553\n",
              "1       CNN (2 layer)  0.405068      0.823636  ...  0.893829  135.790261   2.232712\n",
              "2  VGG16 (6 unfrozen)  0.373698      0.841742  ...  0.911925  553.768467  10.623560\n",
              "\n",
              "[3 rows x 10 columns]"
            ]
          },
          "metadata": {
            "tags": []
          },
          "execution_count": 229
        }
      ]
    },
    {
      "cell_type": "markdown",
      "metadata": {
        "colab_type": "text",
        "id": "LfD9VcW0l4Mx"
      },
      "source": [
        "### Plotting the performance \n"
      ]
    },
    {
      "cell_type": "code",
      "metadata": {
        "colab_type": "code",
        "id": "vQBciGcrl4Mx",
        "colab": {
          "base_uri": "https://localhost:8080/",
          "height": 295
        },
        "outputId": "f8c815fc-78f5-49dd-a7b2-4f84251f5e25"
      },
      "source": [
        "import matplotlib.pyplot as plt\n",
        "\n",
        "acc = history.history['accuracy']\n",
        "val_acc = history.history['val_accuracy']\n",
        "loss = history.history['loss']\n",
        "val_loss = history.history['val_loss']\n",
        "\n",
        "epochs = range(1, len(acc) + 1)\n",
        "\n",
        "plt.plot(epochs, loss, label='Training loss')\n",
        "plt.plot(epochs, val_loss, label='Validation loss')\n",
        "plt.title('Training and validation loss')\n",
        "\n",
        "plt.xlabel('Epochs')\n",
        "plt.ylabel('Loss')\n",
        "plt.legend()\n",
        "\n",
        "plt.show()"
      ],
      "execution_count": 230,
      "outputs": [
        {
          "output_type": "display_data",
          "data": {
            "image/png": "[encoded data removed]",
            "text/plain": [
              "<Figure size 432x288 with 1 Axes>"
            ]
          },
          "metadata": {
            "tags": [],
            "needs_background": "light"
          }
        }
      ]
    },
    {
      "cell_type": "code",
      "metadata": {
        "colab_type": "code",
        "id": "iNov60y7l4Mz",
        "colab": {
          "base_uri": "https://localhost:8080/",
          "height": 295
        },
        "outputId": "a856607a-eeb5-4a2c-b3c9-573625a1e52b"
      },
      "source": [
        "plt.clf()   # clear figure\n",
        "acc_values = history_dict['accuracy']\n",
        "# val_acc_values = history_dict['val_acc']\n",
        "\n",
        "plt.plot(epochs, acc, label='Training acc')\n",
        "plt.plot(epochs, val_acc, label='Validation acc')\n",
        "plt.title('Training and validation accuracy')\n",
        "\n",
        "plt.xlabel('Epochs')\n",
        "plt.ylabel('Accuracy')\n",
        "plt.legend()\n",
        "\n",
        "plt.show()"
      ],
      "execution_count": 231,
      "outputs": [
        {
          "output_type": "display_data",
          "data": {
            "image/png": "[encoded data removed]",
            "text/plain": [
              "<Figure size 432x288 with 1 Axes>"
            ]
          },
          "metadata": {
            "tags": [],
            "needs_background": "light"
          }
        }
      ]
    },
    {
      "cell_type": "markdown",
      "metadata": {
        "id": "KS5WgjXXACX3",
        "colab_type": "text"
      },
      "source": [
        "###Confusion matrix\n",
        "True (row) and predicted (column) values"
      ]
    },
    {
      "cell_type": "code",
      "metadata": {
        "id": "3pCqpLrM-L0D",
        "colab_type": "code",
        "colab": {}
      },
      "source": [
        "# Get the predicted classes:\n",
        "pred_classes = model.predict_classes(X_train)"
      ],
      "execution_count": 232,
      "outputs": []
    },
    {
      "cell_type": "code",
      "metadata": {
        "id": "whGS5US9-L0F",
        "colab_type": "code",
        "colab": {
          "base_uri": "https://localhost:8080/",
          "height": 51
        },
        "outputId": "ce55f68d-f789-462a-c16c-3e6e959b54e4"
      },
      "source": [
        "from sklearn.metrics import confusion_matrix\n",
        "\n",
        "conf_mx = confusion_matrix(y_train, pred_classes)\n",
        "conf_mx"
      ],
      "execution_count": 233,
      "outputs": [
        {
          "output_type": "execute_result",
          "data": {
            "text/plain": [
              "array([[48486,  3831],\n",
              "       [ 6142, 29541]])"
            ]
          },
          "metadata": {
            "tags": []
          },
          "execution_count": 233
        }
      ]
    },
    {
      "cell_type": "markdown",
      "metadata": {
        "id": "UmsOebx6N04S",
        "colab_type": "text"
      },
      "source": [
        "The pre-trained network significantly outperforms the CNN that was trained \"from scratch\" on the PCam data. It benefits from the lower level features that were learned from the millions of samples in ImageNet."
      ]
    },
    {
      "cell_type": "markdown",
      "metadata": {
        "id": "BwxjHJr8vM20",
        "colab_type": "text"
      },
      "source": [
        "#Export results"
      ]
    },
    {
      "cell_type": "code",
      "metadata": {
        "id": "--75jFPwmQCI",
        "colab_type": "code",
        "colab": {}
      },
      "source": [
        "#Export results dataframe\n",
        "\n",
        "from google.colab import files\n",
        "\n",
        "results_df.to_csv('PCam110k_finalModels.csv')\n",
        "files.download('PCam110k_finalModels.csv')"
      ],
      "execution_count": 235,
      "outputs": []
    }
  ]
}