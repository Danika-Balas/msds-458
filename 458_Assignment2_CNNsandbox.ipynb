{
  "nbformat": 4,
  "nbformat_minor": 0,
  "metadata": {
    "colab": {
      "name": "458_Assignment2_CNNsandbox.ipynb",
      "provenance": [],
      "collapsed_sections": [
        "E__a2O975R2M"
      ],
      "authorship_tag": "ABX9TyM8pQOWVs3xzKqKmAmm1z9S",
      "include_colab_link": true
    },
    "kernelspec": {
      "name": "python3",
      "display_name": "Python 3"
    },
    "accelerator": "GPU"
  },
  "cells": [
    {
      "cell_type": "markdown",
      "metadata": {
        "id": "view-in-github",
        "colab_type": "text"
      },
      "source": [
        "<a href=\"https://colab.research.google.com/github/Danika-Balas/msds-458/blob/master/458_Assignment2_CNNsandbox.ipynb\" target=\"_parent\"><img src=\"https://colab.research.google.com/assets/colab-badge.svg\" alt=\"Open In Colab\"/></a>"
      ]
    },
    {
      "cell_type": "markdown",
      "metadata": {
        "id": "CfRJ290OPFTf",
        "colab_type": "text"
      },
      "source": [
        "In the following code we will set up both dense neural networks and convolutional neural networks to classify images of articles of clothing from the Fashion MNIST dataset into ten classes. We will set up five different experiments in order to explore the impact different nodes on the network and to determine what features in the images are detected by the nodes. \n"
      ]
    },
    {
      "cell_type": "markdown",
      "metadata": {
        "colab_type": "text",
        "id": "W0QDEMZMPHxR"
      },
      "source": [
        "Notebook uses portions of code written by Edward Arroyo and Daniel Jensen"
      ]
    },
    {
      "cell_type": "markdown",
      "metadata": {
        "colab_type": "text",
        "id": "OhMQnPzePHxW"
      },
      "source": [
        "##Setup and Preprocessing"
      ]
    },
    {
      "cell_type": "code",
      "metadata": {
        "colab_type": "code",
        "outputId": "3691259d-0b82-4213-c37a-1e7031a466cf",
        "id": "nane5stwPHxa",
        "colab": {
          "base_uri": "https://localhost:8080/",
          "height": 89
        }
      },
      "source": [
        "import numpy as np\n",
        "import pandas as pd\n",
        "\n",
        "import seaborn as sns\n",
        "import matplotlib.pyplot as plt\n",
        "%matplotlib inline\n",
        "sns.set(style=\"whitegrid\")\n",
        "\n",
        "from sklearn import metrics\n",
        "\n",
        "import tensorflow as tf\n",
        "from tensorflow import keras\n",
        "keras.__version__"
      ],
      "execution_count": 2,
      "outputs": [
        {
          "output_type": "stream",
          "text": [
            "/usr/local/lib/python3.6/dist-packages/statsmodels/tools/_testing.py:19: FutureWarning: pandas.util.testing is deprecated. Use the functions in the public API at pandas.testing instead.\n",
            "  import pandas.util.testing as tm\n"
          ],
          "name": "stderr"
        },
        {
          "output_type": "execute_result",
          "data": {
            "text/plain": [
              "'2.3.0-tf'"
            ]
          },
          "metadata": {
            "tags": []
          },
          "execution_count": 2
        }
      ]
    },
    {
      "cell_type": "code",
      "metadata": {
        "colab_type": "code",
        "outputId": "c4d7fa15-f4da-4290-8241-92f4e1e21ee4",
        "id": "6wCfk7UGPHxm",
        "colab": {
          "base_uri": "https://localhost:8080/",
          "height": 34
        }
      },
      "source": [
        "tf.__version__"
      ],
      "execution_count": 3,
      "outputs": [
        {
          "output_type": "execute_result",
          "data": {
            "text/plain": [
              "'2.2.0-rc4'"
            ]
          },
          "metadata": {
            "tags": []
          },
          "execution_count": 3
        }
      ]
    },
    {
      "cell_type": "code",
      "metadata": {
        "colab_type": "code",
        "outputId": "d39ecedf-df11-4dba-a5c9-25b023b4011e",
        "id": "vu3n-p0HPHxv",
        "colab": {
          "base_uri": "https://localhost:8080/",
          "height": 34
        }
      },
      "source": [
        "from keras import metrics\n",
        "from tensorflow.keras import models\n",
        "from tensorflow.keras import layers"
      ],
      "execution_count": 4,
      "outputs": [
        {
          "output_type": "stream",
          "text": [
            "Using TensorFlow backend.\n"
          ],
          "name": "stderr"
        }
      ]
    },
    {
      "cell_type": "code",
      "metadata": {
        "colab_type": "code",
        "id": "JH0hHWwiPHx2",
        "colab": {}
      },
      "source": [
        "# neccessary for K.gradient to work in TensorFlow 2.x\n",
        "# only needed for the \"Finding a pattern the hidden node maximally responds to\" section below.\n",
        "# but disabled to make Tensorboard work...\n",
        "tf.compat.v1.disable_eager_execution() "
      ],
      "execution_count": 0,
      "outputs": []
    },
    {
      "cell_type": "code",
      "metadata": {
        "colab_type": "code",
        "id": "tQymUmiKPHx7",
        "colab": {}
      },
      "source": [
        "# Set see in order to achieve consistent results across runs\n",
        "keras.backend.clear_session()\n",
        "np.random.seed(42)\n",
        "tf.random.set_seed(42)"
      ],
      "execution_count": 0,
      "outputs": []
    },
    {
      "cell_type": "markdown",
      "metadata": {
        "id": "M2Drab4LRK95",
        "colab_type": "text"
      },
      "source": [
        "### Import Fashion-MNIST dataset"
      ]
    },
    {
      "cell_type": "markdown",
      "metadata": {
        "id": "i-sJvLkIRS4R",
        "colab_type": "text"
      },
      "source": [
        "Using data from collected from European fasion platform Zalondo. The dataset has been compiled to mimic the structure of the MNIST dataset. It consists of 60,000 training images and 10,000 testing images. All of the images are in grayscale and 28x28 pixels. Each of the images is labeled with an integer 0-9 that corresponds to the following classes: 'T-shirt/top', 'Trouser', 'Pullover', 'Dress', 'Coat', 'Sandal', 'Shirt', 'Sneaker', 'Bag', 'Ankle boot'.\n",
        "\n",
        "More information can be found here: https://github.com/zalandoresearch/fashion-mnist "
      ]
    },
    {
      "cell_type": "code",
      "metadata": {
        "id": "LATqxX6VPwaC",
        "colab_type": "code",
        "outputId": "bb73c129-8093-442d-b28e-9c9a0ac46a14",
        "colab": {
          "base_uri": "https://localhost:8080/",
          "height": 193
        }
      },
      "source": [
        "# https://www.tensorflow.org/api_docs/python/tf/keras/datasets/fashion_mnist/load_data\n",
        "from tensorflow.keras.datasets import fashion_mnist\n",
        "\n",
        "(train_images, train_labels), (test_images, test_labels) = fashion_mnist.load_data()\n",
        "\n",
        "train_images.shape, test_images.shape, train_labels.shape, test_labels.shape"
      ],
      "execution_count": 7,
      "outputs": [
        {
          "output_type": "stream",
          "text": [
            "Downloading data from https://storage.googleapis.com/tensorflow/tf-keras-datasets/train-labels-idx1-ubyte.gz\n",
            "32768/29515 [=================================] - 0s 0us/step\n",
            "Downloading data from https://storage.googleapis.com/tensorflow/tf-keras-datasets/train-images-idx3-ubyte.gz\n",
            "26427392/26421880 [==============================] - 0s 0us/step\n",
            "Downloading data from https://storage.googleapis.com/tensorflow/tf-keras-datasets/t10k-labels-idx1-ubyte.gz\n",
            "8192/5148 [===============================================] - 0s 0us/step\n",
            "Downloading data from https://storage.googleapis.com/tensorflow/tf-keras-datasets/t10k-images-idx3-ubyte.gz\n",
            "4423680/4422102 [==============================] - 0s 0us/step\n"
          ],
          "name": "stdout"
        },
        {
          "output_type": "execute_result",
          "data": {
            "text/plain": [
              "((60000, 28, 28), (10000, 28, 28), (60000,), (10000,))"
            ]
          },
          "metadata": {
            "tags": []
          },
          "execution_count": 7
        }
      ]
    },
    {
      "cell_type": "code",
      "metadata": {
        "id": "fOkkkTLLSRLD",
        "colab_type": "code",
        "outputId": "1646a522-8378-4300-d141-59a297beedf1",
        "colab": {
          "base_uri": "https://localhost:8080/",
          "height": 34
        }
      },
      "source": [
        "#Store copy of training images in order to easily view images even after transformations are performed\n",
        "example_train_images = train_images.copy()\n",
        "example_train_images.shape"
      ],
      "execution_count": 8,
      "outputs": [
        {
          "output_type": "execute_result",
          "data": {
            "text/plain": [
              "(60000, 28, 28)"
            ]
          },
          "metadata": {
            "tags": []
          },
          "execution_count": 8
        }
      ]
    },
    {
      "cell_type": "code",
      "metadata": {
        "id": "n4S4laGXSJdO",
        "colab_type": "code",
        "outputId": "6d99b2ad-a945-4328-91a5-75c2e5ff39b9",
        "colab": {
          "base_uri": "https://localhost:8080/",
          "height": 191
        }
      },
      "source": [
        "# The distribution of the classes appears to be uniform\n",
        "from collections import Counter\n",
        "Counter(train_labels).most_common()"
      ],
      "execution_count": 9,
      "outputs": [
        {
          "output_type": "execute_result",
          "data": {
            "text/plain": [
              "[(9, 6000),\n",
              " (0, 6000),\n",
              " (3, 6000),\n",
              " (2, 6000),\n",
              " (7, 6000),\n",
              " (5, 6000),\n",
              " (1, 6000),\n",
              " (6, 6000),\n",
              " (4, 6000),\n",
              " (8, 6000)]"
            ]
          },
          "metadata": {
            "tags": []
          },
          "execution_count": 9
        }
      ]
    },
    {
      "cell_type": "code",
      "metadata": {
        "id": "-Cz1Zx_xTKh6",
        "colab_type": "code",
        "colab": {}
      },
      "source": [
        "# https://github.com/zalandoresearch/fashion-mnist\n",
        "# https://www.tensorflow.org/tutorials/keras/classification\n",
        "\n",
        "class_names = ['T-shirt/top', 'Trouser', 'Pullover', 'Dress', 'Coat',\n",
        "               'Sandal', 'Shirt', 'Sneaker', 'Bag', 'Ankle boot']"
      ],
      "execution_count": 0,
      "outputs": []
    },
    {
      "cell_type": "markdown",
      "metadata": {
        "id": "fm4dTPFLSuwX",
        "colab_type": "text"
      },
      "source": [
        "Example of a single sample, a 28x28 pixel image of an article of clothing"
      ]
    },
    {
      "cell_type": "code",
      "metadata": {
        "id": "aU0h0qwXS1JA",
        "colab_type": "code",
        "outputId": "84857cb4-347e-49d7-d949-ddbb4ae97658",
        "colab": {
          "base_uri": "https://localhost:8080/",
          "height": 264
        }
      },
      "source": [
        "#https://matplotlib.org/tutorials/colors/colormaps.html?highlight=colormap\n",
        "plt.imshow(train_images[0], cmap=\"binary\") \n",
        "plt.axis('off')\n",
        "plt.title(class_names[test_labels[0]], fontsize=12)\n",
        "plt.show()"
      ],
      "execution_count": 11,
      "outputs": [
        {
          "output_type": "display_data",
          "data": {
            "image/png": "[encoded data removed]",
            "text/plain": [
              "<Figure size 432x288 with 1 Axes>"
            ]
          },
          "metadata": {
            "tags": []
          }
        }
      ]
    },
    {
      "cell_type": "markdown",
      "metadata": {
        "id": "2ehBwoUkN2A2",
        "colab_type": "text"
      },
      "source": [
        "### Prepare the data\n"
      ]
    },
    {
      "cell_type": "code",
      "metadata": {
        "id": "9P0iTPCOOBLU",
        "colab_type": "code",
        "colab": {}
      },
      "source": [
        "# Reshape the data into the shape that the network expects\n",
        "train_images = train_images.reshape((60000, 28, 28, 1))\n",
        "\n",
        "# Scale the data to [0,1] interval\n",
        "train_images = train_images.astype('float32') / 255\n",
        "\n",
        "# Do the same for the test dataset\n",
        "test_images = test_images.reshape((10000, 28, 28, 1))\n",
        "test_images = test_images.astype('float32') / 255"
      ],
      "execution_count": 0,
      "outputs": []
    },
    {
      "cell_type": "markdown",
      "metadata": {
        "id": "pgxxzLiEOc6r",
        "colab_type": "text"
      },
      "source": [
        "Set aside 5,000 samples from the training data to use as the validation set."
      ]
    },
    {
      "cell_type": "code",
      "metadata": {
        "id": "3-ag80d_OCom",
        "colab_type": "code",
        "colab": {}
      },
      "source": [
        "val_images, train_images = train_images[:5000], train_images[5000:]\n",
        "val_labels, train_labels = train_labels[:5000], train_labels[5000:]"
      ],
      "execution_count": 0,
      "outputs": []
    },
    {
      "cell_type": "markdown",
      "metadata": {
        "id": "y63m-hEwDC6q",
        "colab_type": "text"
      },
      "source": [
        "#Experiment 5 Baseline: 32, pool, 64, pool\n",
        "Toying with conv dimensions\n"
      ]
    },
    {
      "cell_type": "markdown",
      "metadata": {
        "id": "PlKbzUNPAoTC",
        "colab_type": "text"
      },
      "source": [
        "##Build and compile the model\n"
      ]
    },
    {
      "cell_type": "code",
      "metadata": {
        "id": "ypuJ5q0wsGvS",
        "colab_type": "code",
        "colab": {}
      },
      "source": [
        "model = models.Sequential()\n",
        "model.add(layers.ZeroPadding2D(1))\n",
        "model.add(layers.Conv2D(32, (3, 3), activation='relu', input_shape=(28, 28, 1)))\n",
        "model.add(layers.Dropout(0.25))\n",
        "\n",
        "model.add(layers.Conv2D(32, (3, 3), activation='relu'))\n",
        "model.add(layers.MaxPooling2D((2, 2)))\n",
        "model.add(layers.Dropout(0.25))\n",
        "\n",
        "model.add(layers.Conv2D(64, (3, 3), activation='relu'))\n",
        "model.add(layers.Dropout(0.25))\n",
        "\n",
        "model.add(layers.Conv2D(64, (3, 3), activation='relu'))\n",
        "model.add(layers.MaxPooling2D((2, 2)))\n",
        "model.add(layers.Dropout(0.25))\n",
        "\n",
        "model.add(layers.Flatten())\n",
        "model.add(layers.Dense(256, activation='relu'))\n",
        "model.add(layers.Dropout(0.25))\n",
        "\n",
        "model.add(layers.Dense(10, activation='softmax'))\n",
        "\n",
        "model.compile(optimizer ='adam',\n",
        "              loss='sparse_categorical_crossentropy',\n",
        "              metrics=['accuracy'])"
      ],
      "execution_count": 0,
      "outputs": []
    },
    {
      "cell_type": "code",
      "metadata": {
        "id": "6jUvqmxLDeh9",
        "colab_type": "code",
        "colab": {}
      },
      "source": [
        "#keras.utils.plot_model(model, show_shapes=True)"
      ],
      "execution_count": 0,
      "outputs": []
    },
    {
      "cell_type": "markdown",
      "metadata": {
        "id": "MIx2sGm4Yuc2",
        "colab_type": "text"
      },
      "source": [
        "### Create a callback to get training times"
      ]
    },
    {
      "cell_type": "code",
      "metadata": {
        "id": "uOhAfaCmYY4G",
        "colab_type": "code",
        "colab": {}
      },
      "source": [
        "# Define callback to get total training time\n",
        "import datetime\n",
        "\n",
        "class TrainRuntimeCallback(keras.callbacks.Callback):\n",
        "\n",
        "  def on_train_begin(self,logs={}):\n",
        "    self.start = datetime.datetime.now()\n",
        "\n",
        "  def on_train_end(self,logs={}):\n",
        "    self.process_time = (datetime.datetime.now() - self.start).total_seconds()"
      ],
      "execution_count": 0,
      "outputs": []
    },
    {
      "cell_type": "markdown",
      "metadata": {
        "id": "opEkoJNVBN-F",
        "colab_type": "text"
      },
      "source": [
        "##Train the model"
      ]
    },
    {
      "cell_type": "code",
      "metadata": {
        "id": "cihBVAzRBIbg",
        "colab_type": "code",
        "outputId": "db95f511-908c-4142-838a-42fc348a2937",
        "colab": {
          "base_uri": "https://localhost:8080/",
          "height": 801
        }
      },
      "source": [
        "train_rt = TrainRuntimeCallback()\n",
        "history = model.fit(train_images, train_labels, callbacks=[train_rt], epochs=20,  batch_size = 100, \n",
        "                    validation_data=(val_images, val_labels))"
      ],
      "execution_count": 17,
      "outputs": [
        {
          "output_type": "stream",
          "text": [
            "WARNING:tensorflow:From /usr/local/lib/python3.6/dist-packages/tensorflow/python/ops/resource_variable_ops.py:1666: calling BaseResourceVariable.__init__ (from tensorflow.python.ops.resource_variable_ops) with constraint is deprecated and will be removed in a future version.\n",
            "Instructions for updating:\n",
            "If using Keras pass *_constraint arguments to layers.\n",
            "Train on 55000 samples, validate on 5000 samples\n",
            "Epoch 1/20\n",
            "55000/55000 [==============================] - 8s 143us/sample - loss: 0.6665 - accuracy: 0.7517 - val_loss: 0.4011 - val_accuracy: 0.8546\n",
            "Epoch 2/20\n",
            "55000/55000 [==============================] - 8s 144us/sample - loss: 0.4182 - accuracy: 0.8444 - val_loss: 0.3098 - val_accuracy: 0.8840\n",
            "Epoch 3/20\n",
            "55000/55000 [==============================] - 8s 144us/sample - loss: 0.3532 - accuracy: 0.8690 - val_loss: 0.2753 - val_accuracy: 0.8986\n",
            "Epoch 4/20\n",
            "55000/55000 [==============================] - 8s 144us/sample - loss: 0.3148 - accuracy: 0.8838 - val_loss: 0.2623 - val_accuracy: 0.9044\n",
            "Epoch 5/20\n",
            "55000/55000 [==============================] - 8s 144us/sample - loss: 0.2913 - accuracy: 0.8940 - val_loss: 0.2449 - val_accuracy: 0.9092\n",
            "Epoch 6/20\n",
            "55000/55000 [==============================] - 8s 143us/sample - loss: 0.2809 - accuracy: 0.8955 - val_loss: 0.2425 - val_accuracy: 0.9104\n",
            "Epoch 7/20\n",
            "55000/55000 [==============================] - 8s 143us/sample - loss: 0.2640 - accuracy: 0.9002 - val_loss: 0.2370 - val_accuracy: 0.9108\n",
            "Epoch 8/20\n",
            "55000/55000 [==============================] - 8s 143us/sample - loss: 0.2547 - accuracy: 0.9053 - val_loss: 0.2209 - val_accuracy: 0.9176\n",
            "Epoch 9/20\n",
            "55000/55000 [==============================] - 8s 143us/sample - loss: 0.2446 - accuracy: 0.9095 - val_loss: 0.2206 - val_accuracy: 0.9214\n",
            "Epoch 10/20\n",
            "55000/55000 [==============================] - 8s 143us/sample - loss: 0.2386 - accuracy: 0.9109 - val_loss: 0.2199 - val_accuracy: 0.9172\n",
            "Epoch 11/20\n",
            "55000/55000 [==============================] - 8s 143us/sample - loss: 0.2289 - accuracy: 0.9150 - val_loss: 0.2231 - val_accuracy: 0.9188\n",
            "Epoch 12/20\n",
            "55000/55000 [==============================] - 8s 144us/sample - loss: 0.2250 - accuracy: 0.9167 - val_loss: 0.2200 - val_accuracy: 0.9188\n",
            "Epoch 13/20\n",
            "55000/55000 [==============================] - 8s 144us/sample - loss: 0.2216 - accuracy: 0.9168 - val_loss: 0.2175 - val_accuracy: 0.9196\n",
            "Epoch 14/20\n",
            "55000/55000 [==============================] - 8s 143us/sample - loss: 0.2132 - accuracy: 0.9203 - val_loss: 0.2153 - val_accuracy: 0.9162\n",
            "Epoch 15/20\n",
            "55000/55000 [==============================] - 8s 142us/sample - loss: 0.2067 - accuracy: 0.9222 - val_loss: 0.2121 - val_accuracy: 0.9212\n",
            "Epoch 16/20\n",
            "55000/55000 [==============================] - 8s 143us/sample - loss: 0.2041 - accuracy: 0.9231 - val_loss: 0.2070 - val_accuracy: 0.9226\n",
            "Epoch 17/20\n",
            "55000/55000 [==============================] - 8s 142us/sample - loss: 0.2013 - accuracy: 0.9243 - val_loss: 0.2105 - val_accuracy: 0.9248\n",
            "Epoch 18/20\n",
            "55000/55000 [==============================] - 8s 142us/sample - loss: 0.1959 - accuracy: 0.9259 - val_loss: 0.2086 - val_accuracy: 0.9194\n",
            "Epoch 19/20\n",
            "55000/55000 [==============================] - 8s 143us/sample - loss: 0.1940 - accuracy: 0.9265 - val_loss: 0.2051 - val_accuracy: 0.9224\n",
            "Epoch 20/20\n",
            "55000/55000 [==============================] - 8s 142us/sample - loss: 0.1923 - accuracy: 0.9272 - val_loss: 0.2012 - val_accuracy: 0.9252\n"
          ],
          "name": "stdout"
        }
      ]
    },
    {
      "cell_type": "code",
      "metadata": {
        "id": "0auFbjEJBUjb",
        "colab_type": "code",
        "outputId": "e24517fa-5311-4ba9-89b1-08bf47ab3bb3",
        "colab": {
          "base_uri": "https://localhost:8080/",
          "height": 34
        }
      },
      "source": [
        "# Get the training time\n",
        "train_time = train_rt.process_time\n",
        "train_time # in seconds"
      ],
      "execution_count": 18,
      "outputs": [
        {
          "output_type": "execute_result",
          "data": {
            "text/plain": [
              "172.042142"
            ]
          },
          "metadata": {
            "tags": []
          },
          "execution_count": 18
        }
      ]
    },
    {
      "cell_type": "markdown",
      "metadata": {
        "colab_type": "text",
        "id": "T3SNc_USDse3"
      },
      "source": [
        "## Test the model"
      ]
    },
    {
      "cell_type": "code",
      "metadata": {
        "id": "28XYLN2DE9BA",
        "colab_type": "code",
        "colab": {}
      },
      "source": [
        "# Define callback to get total test time\n",
        "import datetime\n",
        "\n",
        "class TestRuntimeCallback(keras.callbacks.Callback):\n",
        "\n",
        "  def on_test_begin(self,logs={}):\n",
        "    self.start = datetime.datetime.now()\n",
        "\n",
        "  def on_test_end(self,logs={}):\n",
        "    self.process_time = (datetime.datetime.now() - self.start).total_seconds()"
      ],
      "execution_count": 0,
      "outputs": []
    },
    {
      "cell_type": "code",
      "metadata": {
        "colab_type": "code",
        "outputId": "395c68af-2e01-4ee2-c93c-c526b6f88b6c",
        "id": "3smS2Uh4Dse4",
        "colab": {
          "base_uri": "https://localhost:8080/",
          "height": 34
        }
      },
      "source": [
        "test_rt = TestRuntimeCallback()\n",
        "test_loss, test_acc = model.evaluate(test_images, test_labels, callbacks=[test_rt])\n",
        "test_loss, test_acc"
      ],
      "execution_count": 20,
      "outputs": [
        {
          "output_type": "execute_result",
          "data": {
            "text/plain": [
              "(0.22699325796365738, 0.9216)"
            ]
          },
          "metadata": {
            "tags": []
          },
          "execution_count": 20
        }
      ]
    },
    {
      "cell_type": "code",
      "metadata": {
        "colab_type": "code",
        "outputId": "0c059592-dda1-49a3-903a-ba9124ca4b40",
        "id": "nGWjHlvfDse8",
        "colab": {
          "base_uri": "https://localhost:8080/",
          "height": 34
        }
      },
      "source": [
        "test_time = test_rt.process_time\n",
        "test_time # in seconds"
      ],
      "execution_count": 21,
      "outputs": [
        {
          "output_type": "execute_result",
          "data": {
            "text/plain": [
              "0.675763"
            ]
          },
          "metadata": {
            "tags": []
          },
          "execution_count": 21
        }
      ]
    },
    {
      "cell_type": "markdown",
      "metadata": {
        "id": "SBKvLr-4Zgqo",
        "colab_type": "text"
      },
      "source": [
        "### Create a dataframe for the training and test statistics"
      ]
    },
    {
      "cell_type": "code",
      "metadata": {
        "id": "kVAHQzl0ZkmV",
        "colab_type": "code",
        "outputId": "903ae80a-3b1e-4118-f402-3c9f8b7b81f8",
        "colab": {
          "base_uri": "https://localhost:8080/",
          "height": 34
        }
      },
      "source": [
        "history_dict = history.history\n",
        "history_dict.keys()"
      ],
      "execution_count": 22,
      "outputs": [
        {
          "output_type": "execute_result",
          "data": {
            "text/plain": [
              "dict_keys(['loss', 'accuracy', 'val_loss', 'val_accuracy'])"
            ]
          },
          "metadata": {
            "tags": []
          },
          "execution_count": 22
        }
      ]
    },
    {
      "cell_type": "code",
      "metadata": {
        "id": "2Pm3qQ_KN9Yr",
        "colab_type": "code",
        "outputId": "8c1f1afb-ca82-4b22-d6e6-89c160dd770e",
        "colab": {
          "base_uri": "https://localhost:8080/",
          "height": 206
        }
      },
      "source": [
        "history_df=pd.DataFrame(history_dict)\n",
        "history_df.tail()"
      ],
      "execution_count": 23,
      "outputs": [
        {
          "output_type": "execute_result",
          "data": {
            "text/html": [
              "<div>\n",
              "<style scoped>\n",
              "    .dataframe tbody tr th:only-of-type {\n",
              "        vertical-align: middle;\n",
              "    }\n",
              "\n",
              "    .dataframe tbody tr th {\n",
              "        vertical-align: top;\n",
              "    }\n",
              "\n",
              "    .dataframe thead th {\n",
              "        text-align: right;\n",
              "    }\n",
              "</style>\n",
              "<table border=\"1\" class=\"dataframe\">\n",
              "  <thead>\n",
              "    <tr style=\"text-align: right;\">\n",
              "      <th></th>\n",
              "      <th>loss</th>\n",
              "      <th>accuracy</th>\n",
              "      <th>val_loss</th>\n",
              "      <th>val_accuracy</th>\n",
              "    </tr>\n",
              "  </thead>\n",
              "  <tbody>\n",
              "    <tr>\n",
              "      <th>15</th>\n",
              "      <td>0.204064</td>\n",
              "      <td>0.923127</td>\n",
              "      <td>0.206987</td>\n",
              "      <td>0.9226</td>\n",
              "    </tr>\n",
              "    <tr>\n",
              "      <th>16</th>\n",
              "      <td>0.201347</td>\n",
              "      <td>0.924273</td>\n",
              "      <td>0.210524</td>\n",
              "      <td>0.9248</td>\n",
              "    </tr>\n",
              "    <tr>\n",
              "      <th>17</th>\n",
              "      <td>0.195908</td>\n",
              "      <td>0.925855</td>\n",
              "      <td>0.208647</td>\n",
              "      <td>0.9194</td>\n",
              "    </tr>\n",
              "    <tr>\n",
              "      <th>18</th>\n",
              "      <td>0.193977</td>\n",
              "      <td>0.926473</td>\n",
              "      <td>0.205100</td>\n",
              "      <td>0.9224</td>\n",
              "    </tr>\n",
              "    <tr>\n",
              "      <th>19</th>\n",
              "      <td>0.192344</td>\n",
              "      <td>0.927236</td>\n",
              "      <td>0.201182</td>\n",
              "      <td>0.9252</td>\n",
              "    </tr>\n",
              "  </tbody>\n",
              "</table>\n",
              "</div>"
            ],
            "text/plain": [
              "        loss  accuracy  val_loss  val_accuracy\n",
              "15  0.204064  0.923127  0.206987        0.9226\n",
              "16  0.201347  0.924273  0.210524        0.9248\n",
              "17  0.195908  0.925855  0.208647        0.9194\n",
              "18  0.193977  0.926473  0.205100        0.9224\n",
              "19  0.192344  0.927236  0.201182        0.9252"
            ]
          },
          "metadata": {
            "tags": []
          },
          "execution_count": 23
        }
      ]
    },
    {
      "cell_type": "code",
      "metadata": {
        "id": "AdvqcBrWN9Yy",
        "colab_type": "code",
        "outputId": "437b3ff3-530d-42d6-e9ab-cafd2fd78975",
        "colab": {
          "base_uri": "https://localhost:8080/",
          "height": 170
        }
      },
      "source": [
        "results_df = history_df.iloc[-1:].copy()\n",
        "results_df.insert(0,'model','CNN (4 layers), padding1') # model name appears first\n",
        "results_df['test_loss'] = test_loss #incorporate test results\n",
        "results_df['test_accuracy'] = test_acc\n",
        "results_df['training time (sec)'] = train_time    \n",
        "results_df['testing time (sec)'] = test_time      # testing time appears last\n",
        "results_df"
      ],
      "execution_count": 24,
      "outputs": [
        {
          "output_type": "execute_result",
          "data": {
            "text/html": [
              "<div>\n",
              "<style scoped>\n",
              "    .dataframe tbody tr th:only-of-type {\n",
              "        vertical-align: middle;\n",
              "    }\n",
              "\n",
              "    .dataframe tbody tr th {\n",
              "        vertical-align: top;\n",
              "    }\n",
              "\n",
              "    .dataframe thead th {\n",
              "        text-align: right;\n",
              "    }\n",
              "</style>\n",
              "<table border=\"1\" class=\"dataframe\">\n",
              "  <thead>\n",
              "    <tr style=\"text-align: right;\">\n",
              "      <th></th>\n",
              "      <th>model</th>\n",
              "      <th>loss</th>\n",
              "      <th>accuracy</th>\n",
              "      <th>val_loss</th>\n",
              "      <th>val_accuracy</th>\n",
              "      <th>test_loss</th>\n",
              "      <th>test_accuracy</th>\n",
              "      <th>training time (sec)</th>\n",
              "      <th>testing time (sec)</th>\n",
              "    </tr>\n",
              "  </thead>\n",
              "  <tbody>\n",
              "    <tr>\n",
              "      <th>19</th>\n",
              "      <td>CNN (4 layers), padding1</td>\n",
              "      <td>0.192344</td>\n",
              "      <td>0.927236</td>\n",
              "      <td>0.201182</td>\n",
              "      <td>0.9252</td>\n",
              "      <td>0.226993</td>\n",
              "      <td>0.9216</td>\n",
              "      <td>172.042142</td>\n",
              "      <td>0.675763</td>\n",
              "    </tr>\n",
              "  </tbody>\n",
              "</table>\n",
              "</div>"
            ],
            "text/plain": [
              "                       model      loss  ...  training time (sec)  testing time (sec)\n",
              "19  CNN (4 layers), padding1  0.192344  ...           172.042142            0.675763\n",
              "\n",
              "[1 rows x 9 columns]"
            ]
          },
          "metadata": {
            "tags": []
          },
          "execution_count": 24
        }
      ]
    },
    {
      "cell_type": "markdown",
      "metadata": {
        "id": "_NeAd6MKN9Y1",
        "colab_type": "text"
      },
      "source": [
        "### Plotting the performance \n",
        "\n",
        "We use Matplotlib to create 2 plots--displaying the training and validation loss/accuracy for each training epoch side by side."
      ]
    },
    {
      "cell_type": "code",
      "metadata": {
        "id": "z5lD2M7QN9Y2",
        "colab_type": "code",
        "outputId": "321500ed-5ed4-45ce-90ac-b07d3ac5975f",
        "colab": {
          "base_uri": "https://localhost:8080/",
          "height": 301
        }
      },
      "source": [
        "import matplotlib.pyplot as plt\n",
        "\n",
        "acc = history.history['accuracy']\n",
        "val_acc = history.history['val_accuracy']\n",
        "loss = history.history['loss']\n",
        "val_loss = history.history['val_loss']\n",
        "\n",
        "epochs = range(1, len(acc) + 1)\n",
        "\n",
        "# \"bo\" is for \"blue dot\"\n",
        "plt.plot(epochs, loss, 'bo', label='Training loss')\n",
        "# b is for \"solid blue line\"\n",
        "plt.plot(epochs, val_loss, 'b', label='Validation loss')\n",
        "plt.title('Training and validation loss')\n",
        "\n",
        "plt.xlabel('Epochs')\n",
        "plt.ylabel('Loss')\n",
        "plt.legend()\n",
        "\n",
        "plt.show()"
      ],
      "execution_count": 25,
      "outputs": [
        {
          "output_type": "display_data",
          "data": {
            "image/png": "[encoded data removed]",
            "text/plain": [
              "<Figure size 432x288 with 1 Axes>"
            ]
          },
          "metadata": {
            "tags": []
          }
        }
      ]
    },
    {
      "cell_type": "code",
      "metadata": {
        "id": "bACOXGORN9Y6",
        "colab_type": "code",
        "outputId": "a8e5031f-88ca-4a2b-9336-882b60637686",
        "colab": {
          "base_uri": "https://localhost:8080/",
          "height": 301
        }
      },
      "source": [
        "plt.clf()   # clear figure\n",
        "acc_values = history_dict['accuracy']\n",
        "# val_acc_values = history_dict['val_acc']\n",
        "\n",
        "plt.plot(epochs, acc, 'bo', label='Training acc')\n",
        "plt.plot(epochs, val_acc, 'b', label='Validation acc')\n",
        "plt.title('Training and validation accuracy')\n",
        "\n",
        "plt.xlabel('Epochs')\n",
        "plt.ylabel('Accuracy')\n",
        "plt.legend()\n",
        "\n",
        "plt.show()"
      ],
      "execution_count": 26,
      "outputs": [
        {
          "output_type": "display_data",
          "data": {
            "image/png": "[encoded data removed]",
            "text/plain": [
              "<Figure size 432x288 with 1 Axes>"
            ]
          },
          "metadata": {
            "tags": []
          }
        }
      ]
    },
    {
      "cell_type": "markdown",
      "metadata": {
        "id": "garEiLN7Fvvt",
        "colab_type": "text"
      },
      "source": [
        "#Experiment 6\n",
        "64, pool, 32, pool"
      ]
    },
    {
      "cell_type": "markdown",
      "metadata": {
        "id": "WTm7TDniHaWQ",
        "colab_type": "text"
      },
      "source": [
        "##Build and compile the model"
      ]
    },
    {
      "cell_type": "code",
      "metadata": {
        "colab_type": "code",
        "id": "zgUPKUmMHiHg",
        "colab": {}
      },
      "source": [
        "model = models.Sequential()\n",
        "model.add(layers.ZeroPadding2D(2))\n",
        "model.add(layers.Conv2D(32, (3, 3), activation='relu', input_shape=(28, 28, 1)))\n",
        "model.add(layers.Dropout(0.25))\n",
        "\n",
        "model.add(layers.Conv2D(32, (3, 3), activation='relu'))\n",
        "model.add(layers.MaxPooling2D((2, 2)))\n",
        "model.add(layers.Dropout(0.25))\n",
        "\n",
        "model.add(layers.Conv2D(64, (3, 3), activation='relu'))\n",
        "model.add(layers.Dropout(0.25))\n",
        "\n",
        "model.add(layers.Conv2D(64, (3, 3), activation='relu'))\n",
        "model.add(layers.MaxPooling2D((2, 2)))\n",
        "model.add(layers.Dropout(0.25))\n",
        "\n",
        "model.add(layers.Flatten())\n",
        "model.add(layers.Dense(256, activation='relu'))\n",
        "model.add(layers.Dropout(0.25))\n",
        "\n",
        "model.add(layers.Dense(10, activation='softmax'))\n",
        "\n",
        "model.compile(optimizer ='adam',\n",
        "              loss='sparse_categorical_crossentropy',\n",
        "              metrics=['accuracy'])"
      ],
      "execution_count": 0,
      "outputs": []
    },
    {
      "cell_type": "code",
      "metadata": {
        "colab_type": "code",
        "id": "DnqCDWORHiHr",
        "colab": {}
      },
      "source": [
        "# keras.utils.plot_model(model, show_shapes=True)"
      ],
      "execution_count": 0,
      "outputs": []
    },
    {
      "cell_type": "markdown",
      "metadata": {
        "colab_type": "text",
        "id": "WFDE4KyKHiHw"
      },
      "source": [
        "##Train the model"
      ]
    },
    {
      "cell_type": "code",
      "metadata": {
        "colab_type": "code",
        "outputId": "0b32b985-ba1c-4b9e-ca06-30d0f54a02e2",
        "id": "jaUiJYH3HiHx",
        "colab": {
          "base_uri": "https://localhost:8080/",
          "height": 749
        }
      },
      "source": [
        "train_rt = TrainRuntimeCallback()\n",
        "history = model.fit(train_images, train_labels, callbacks=[train_rt], epochs=20,  batch_size = 500,\n",
        "                    validation_data=(val_images, val_labels))"
      ],
      "execution_count": 29,
      "outputs": [
        {
          "output_type": "stream",
          "text": [
            "Train on 55000 samples, validate on 5000 samples\n",
            "Epoch 1/20\n",
            "55000/55000 [==============================] - 8s 141us/sample - loss: 0.8318 - accuracy: 0.6918 - val_loss: 0.4770 - val_accuracy: 0.8374\n",
            "Epoch 2/20\n",
            "55000/55000 [==============================] - 8s 137us/sample - loss: 0.4795 - accuracy: 0.8233 - val_loss: 0.3758 - val_accuracy: 0.8676\n",
            "Epoch 3/20\n",
            "55000/55000 [==============================] - 8s 136us/sample - loss: 0.3947 - accuracy: 0.8524 - val_loss: 0.3315 - val_accuracy: 0.8788\n",
            "Epoch 4/20\n",
            "55000/55000 [==============================] - 8s 137us/sample - loss: 0.3550 - accuracy: 0.8688 - val_loss: 0.3023 - val_accuracy: 0.8880\n",
            "Epoch 5/20\n",
            "55000/55000 [==============================] - 8s 136us/sample - loss: 0.3308 - accuracy: 0.8769 - val_loss: 0.2811 - val_accuracy: 0.8934\n",
            "Epoch 6/20\n",
            "55000/55000 [==============================] - 8s 137us/sample - loss: 0.3118 - accuracy: 0.8833 - val_loss: 0.2694 - val_accuracy: 0.9002\n",
            "Epoch 7/20\n",
            "55000/55000 [==============================] - 8s 137us/sample - loss: 0.2933 - accuracy: 0.8906 - val_loss: 0.2530 - val_accuracy: 0.9042\n",
            "Epoch 8/20\n",
            "55000/55000 [==============================] - 8s 137us/sample - loss: 0.2746 - accuracy: 0.8989 - val_loss: 0.2349 - val_accuracy: 0.9130\n",
            "Epoch 9/20\n",
            "55000/55000 [==============================] - 8s 137us/sample - loss: 0.2636 - accuracy: 0.9014 - val_loss: 0.2247 - val_accuracy: 0.9136\n",
            "Epoch 10/20\n",
            "55000/55000 [==============================] - 8s 137us/sample - loss: 0.2516 - accuracy: 0.9070 - val_loss: 0.2217 - val_accuracy: 0.9116\n",
            "Epoch 11/20\n",
            "55000/55000 [==============================] - 8s 137us/sample - loss: 0.2415 - accuracy: 0.9100 - val_loss: 0.2136 - val_accuracy: 0.9218\n",
            "Epoch 12/20\n",
            "55000/55000 [==============================] - 8s 137us/sample - loss: 0.2330 - accuracy: 0.9132 - val_loss: 0.2086 - val_accuracy: 0.9194\n",
            "Epoch 13/20\n",
            "55000/55000 [==============================] - 8s 136us/sample - loss: 0.2253 - accuracy: 0.9154 - val_loss: 0.2010 - val_accuracy: 0.9242\n",
            "Epoch 14/20\n",
            "55000/55000 [==============================] - 8s 137us/sample - loss: 0.2151 - accuracy: 0.9199 - val_loss: 0.2075 - val_accuracy: 0.9194\n",
            "Epoch 15/20\n",
            "55000/55000 [==============================] - 8s 137us/sample - loss: 0.2076 - accuracy: 0.9219 - val_loss: 0.1983 - val_accuracy: 0.9224\n",
            "Epoch 16/20\n",
            "55000/55000 [==============================] - 8s 137us/sample - loss: 0.2026 - accuracy: 0.9237 - val_loss: 0.1887 - val_accuracy: 0.9264\n",
            "Epoch 17/20\n",
            "55000/55000 [==============================] - 8s 137us/sample - loss: 0.1972 - accuracy: 0.9263 - val_loss: 0.1870 - val_accuracy: 0.9294\n",
            "Epoch 18/20\n",
            "55000/55000 [==============================] - 8s 137us/sample - loss: 0.1923 - accuracy: 0.9287 - val_loss: 0.1853 - val_accuracy: 0.9270\n",
            "Epoch 19/20\n",
            "55000/55000 [==============================] - 8s 137us/sample - loss: 0.1862 - accuracy: 0.9306 - val_loss: 0.1845 - val_accuracy: 0.9280\n",
            "Epoch 20/20\n",
            "55000/55000 [==============================] - 8s 136us/sample - loss: 0.1800 - accuracy: 0.9328 - val_loss: 0.1783 - val_accuracy: 0.9320\n"
          ],
          "name": "stdout"
        }
      ]
    },
    {
      "cell_type": "code",
      "metadata": {
        "colab_type": "code",
        "outputId": "f298f985-e3e7-4076-de5b-0f8b35f4c582",
        "id": "Qmc0cmWBHiH1",
        "colab": {
          "base_uri": "https://localhost:8080/",
          "height": 34
        }
      },
      "source": [
        "# Get the training time\n",
        "train_time = train_rt.process_time\n",
        "train_time # in seconds"
      ],
      "execution_count": 30,
      "outputs": [
        {
          "output_type": "execute_result",
          "data": {
            "text/plain": [
              "153.062832"
            ]
          },
          "metadata": {
            "tags": []
          },
          "execution_count": 30
        }
      ]
    },
    {
      "cell_type": "markdown",
      "metadata": {
        "colab_type": "text",
        "id": "8Orz6JTjIL10"
      },
      "source": [
        "## Test the model"
      ]
    },
    {
      "cell_type": "code",
      "metadata": {
        "colab_type": "code",
        "outputId": "a678b57d-c208-4239-a2ea-a095ca3ce454",
        "id": "NqLr7sK8IL12",
        "colab": {
          "base_uri": "https://localhost:8080/",
          "height": 34
        }
      },
      "source": [
        "test_rt = TestRuntimeCallback()\n",
        "test_loss, test_acc = model.evaluate(test_images, test_labels, callbacks=[test_rt])\n",
        "test_loss, test_acc"
      ],
      "execution_count": 31,
      "outputs": [
        {
          "output_type": "execute_result",
          "data": {
            "text/plain": [
              "(0.20193207468390464, 0.9253)"
            ]
          },
          "metadata": {
            "tags": []
          },
          "execution_count": 31
        }
      ]
    },
    {
      "cell_type": "code",
      "metadata": {
        "colab_type": "code",
        "outputId": "7e5a2eea-5784-4a51-9691-ea9d84599e97",
        "id": "jCAL8Nj0IL15",
        "colab": {
          "base_uri": "https://localhost:8080/",
          "height": 34
        }
      },
      "source": [
        "test_time = test_rt.process_time\n",
        "test_time # in seconds"
      ],
      "execution_count": 32,
      "outputs": [
        {
          "output_type": "execute_result",
          "data": {
            "text/plain": [
              "0.683993"
            ]
          },
          "metadata": {
            "tags": []
          },
          "execution_count": 32
        }
      ]
    },
    {
      "cell_type": "markdown",
      "metadata": {
        "colab_type": "text",
        "id": "24x4NtczKm1o"
      },
      "source": [
        "##Add training and test statistics to results dataframe"
      ]
    },
    {
      "cell_type": "code",
      "metadata": {
        "colab_type": "code",
        "outputId": "a0a4edff-309e-4e42-b123-ce41196ab7a6",
        "id": "L-TWet-AKm1s",
        "colab": {
          "base_uri": "https://localhost:8080/",
          "height": 206
        }
      },
      "source": [
        "history_dict = history.history\n",
        "history_df=pd.DataFrame(history_dict)\n",
        "history_df.tail()"
      ],
      "execution_count": 33,
      "outputs": [
        {
          "output_type": "execute_result",
          "data": {
            "text/html": [
              "<div>\n",
              "<style scoped>\n",
              "    .dataframe tbody tr th:only-of-type {\n",
              "        vertical-align: middle;\n",
              "    }\n",
              "\n",
              "    .dataframe tbody tr th {\n",
              "        vertical-align: top;\n",
              "    }\n",
              "\n",
              "    .dataframe thead th {\n",
              "        text-align: right;\n",
              "    }\n",
              "</style>\n",
              "<table border=\"1\" class=\"dataframe\">\n",
              "  <thead>\n",
              "    <tr style=\"text-align: right;\">\n",
              "      <th></th>\n",
              "      <th>loss</th>\n",
              "      <th>accuracy</th>\n",
              "      <th>val_loss</th>\n",
              "      <th>val_accuracy</th>\n",
              "    </tr>\n",
              "  </thead>\n",
              "  <tbody>\n",
              "    <tr>\n",
              "      <th>15</th>\n",
              "      <td>0.202594</td>\n",
              "      <td>0.923745</td>\n",
              "      <td>0.188741</td>\n",
              "      <td>0.9264</td>\n",
              "    </tr>\n",
              "    <tr>\n",
              "      <th>16</th>\n",
              "      <td>0.197234</td>\n",
              "      <td>0.926291</td>\n",
              "      <td>0.186984</td>\n",
              "      <td>0.9294</td>\n",
              "    </tr>\n",
              "    <tr>\n",
              "      <th>17</th>\n",
              "      <td>0.192334</td>\n",
              "      <td>0.928673</td>\n",
              "      <td>0.185335</td>\n",
              "      <td>0.9270</td>\n",
              "    </tr>\n",
              "    <tr>\n",
              "      <th>18</th>\n",
              "      <td>0.186202</td>\n",
              "      <td>0.930582</td>\n",
              "      <td>0.184533</td>\n",
              "      <td>0.9280</td>\n",
              "    </tr>\n",
              "    <tr>\n",
              "      <th>19</th>\n",
              "      <td>0.179967</td>\n",
              "      <td>0.932836</td>\n",
              "      <td>0.178328</td>\n",
              "      <td>0.9320</td>\n",
              "    </tr>\n",
              "  </tbody>\n",
              "</table>\n",
              "</div>"
            ],
            "text/plain": [
              "        loss  accuracy  val_loss  val_accuracy\n",
              "15  0.202594  0.923745  0.188741        0.9264\n",
              "16  0.197234  0.926291  0.186984        0.9294\n",
              "17  0.192334  0.928673  0.185335        0.9270\n",
              "18  0.186202  0.930582  0.184533        0.9280\n",
              "19  0.179967  0.932836  0.178328        0.9320"
            ]
          },
          "metadata": {
            "tags": []
          },
          "execution_count": 33
        }
      ]
    },
    {
      "cell_type": "code",
      "metadata": {
        "colab_type": "code",
        "outputId": "d2413214-40b5-4ed1-82a1-311378b09d15",
        "id": "XcNETugcKm1z",
        "colab": {
          "base_uri": "https://localhost:8080/",
          "height": 170
        }
      },
      "source": [
        "results_dfnew = history_df.iloc[-1:].copy()\n",
        "results_dfnew.insert(0,'model','CNN (4 layers), padding2') # want the model name to appear first\n",
        "results_dfnew['test_loss'] = test_loss #incorporate test results\n",
        "results_dfnew['test_accuracy'] = test_acc\n",
        "results_dfnew['training time (sec)'] = train_time     \n",
        "results_dfnew['testing time (sec)'] = test_time      # testing time appears last\n",
        "results_dfnew"
      ],
      "execution_count": 34,
      "outputs": [
        {
          "output_type": "execute_result",
          "data": {
            "text/html": [
              "<div>\n",
              "<style scoped>\n",
              "    .dataframe tbody tr th:only-of-type {\n",
              "        vertical-align: middle;\n",
              "    }\n",
              "\n",
              "    .dataframe tbody tr th {\n",
              "        vertical-align: top;\n",
              "    }\n",
              "\n",
              "    .dataframe thead th {\n",
              "        text-align: right;\n",
              "    }\n",
              "</style>\n",
              "<table border=\"1\" class=\"dataframe\">\n",
              "  <thead>\n",
              "    <tr style=\"text-align: right;\">\n",
              "      <th></th>\n",
              "      <th>model</th>\n",
              "      <th>loss</th>\n",
              "      <th>accuracy</th>\n",
              "      <th>val_loss</th>\n",
              "      <th>val_accuracy</th>\n",
              "      <th>test_loss</th>\n",
              "      <th>test_accuracy</th>\n",
              "      <th>training time (sec)</th>\n",
              "      <th>testing time (sec)</th>\n",
              "    </tr>\n",
              "  </thead>\n",
              "  <tbody>\n",
              "    <tr>\n",
              "      <th>19</th>\n",
              "      <td>CNN (4 layers), padding2</td>\n",
              "      <td>0.179967</td>\n",
              "      <td>0.932836</td>\n",
              "      <td>0.178328</td>\n",
              "      <td>0.932</td>\n",
              "      <td>0.201932</td>\n",
              "      <td>0.9253</td>\n",
              "      <td>153.062832</td>\n",
              "      <td>0.683993</td>\n",
              "    </tr>\n",
              "  </tbody>\n",
              "</table>\n",
              "</div>"
            ],
            "text/plain": [
              "                       model      loss  ...  training time (sec)  testing time (sec)\n",
              "19  CNN (4 layers), padding2  0.179967  ...           153.062832            0.683993\n",
              "\n",
              "[1 rows x 9 columns]"
            ]
          },
          "metadata": {
            "tags": []
          },
          "execution_count": 34
        }
      ]
    },
    {
      "cell_type": "code",
      "metadata": {
        "colab_type": "code",
        "outputId": "c0dcecef-bc99-4e4a-e9f0-fecf88987d75",
        "id": "T1S65m2DKm13",
        "colab": {
          "base_uri": "https://localhost:8080/",
          "height": 236
        }
      },
      "source": [
        "results_df=results_df.append(results_dfnew,ignore_index=True)\n",
        "results_df"
      ],
      "execution_count": 35,
      "outputs": [
        {
          "output_type": "execute_result",
          "data": {
            "text/html": [
              "<div>\n",
              "<style scoped>\n",
              "    .dataframe tbody tr th:only-of-type {\n",
              "        vertical-align: middle;\n",
              "    }\n",
              "\n",
              "    .dataframe tbody tr th {\n",
              "        vertical-align: top;\n",
              "    }\n",
              "\n",
              "    .dataframe thead th {\n",
              "        text-align: right;\n",
              "    }\n",
              "</style>\n",
              "<table border=\"1\" class=\"dataframe\">\n",
              "  <thead>\n",
              "    <tr style=\"text-align: right;\">\n",
              "      <th></th>\n",
              "      <th>model</th>\n",
              "      <th>loss</th>\n",
              "      <th>accuracy</th>\n",
              "      <th>val_loss</th>\n",
              "      <th>val_accuracy</th>\n",
              "      <th>test_loss</th>\n",
              "      <th>test_accuracy</th>\n",
              "      <th>training time (sec)</th>\n",
              "      <th>testing time (sec)</th>\n",
              "    </tr>\n",
              "  </thead>\n",
              "  <tbody>\n",
              "    <tr>\n",
              "      <th>0</th>\n",
              "      <td>CNN (4 layers), padding1</td>\n",
              "      <td>0.192344</td>\n",
              "      <td>0.927236</td>\n",
              "      <td>0.201182</td>\n",
              "      <td>0.9252</td>\n",
              "      <td>0.226993</td>\n",
              "      <td>0.9216</td>\n",
              "      <td>172.042142</td>\n",
              "      <td>0.675763</td>\n",
              "    </tr>\n",
              "    <tr>\n",
              "      <th>1</th>\n",
              "      <td>CNN (4 layers), padding2</td>\n",
              "      <td>0.179967</td>\n",
              "      <td>0.932836</td>\n",
              "      <td>0.178328</td>\n",
              "      <td>0.9320</td>\n",
              "      <td>0.201932</td>\n",
              "      <td>0.9253</td>\n",
              "      <td>153.062832</td>\n",
              "      <td>0.683993</td>\n",
              "    </tr>\n",
              "  </tbody>\n",
              "</table>\n",
              "</div>"
            ],
            "text/plain": [
              "                      model      loss  ...  training time (sec)  testing time (sec)\n",
              "0  CNN (4 layers), padding1  0.192344  ...           172.042142            0.675763\n",
              "1  CNN (4 layers), padding2  0.179967  ...           153.062832            0.683993\n",
              "\n",
              "[2 rows x 9 columns]"
            ]
          },
          "metadata": {
            "tags": []
          },
          "execution_count": 35
        }
      ]
    },
    {
      "cell_type": "markdown",
      "metadata": {
        "colab_type": "text",
        "id": "bRWJleMLKm16"
      },
      "source": [
        "## Plotting the performance "
      ]
    },
    {
      "cell_type": "code",
      "metadata": {
        "colab_type": "code",
        "outputId": "73b7b1b0-b7e7-4f2c-a795-dad4dc17ac3a",
        "id": "FpR4gakrKm17",
        "colab": {
          "base_uri": "https://localhost:8080/",
          "height": 301
        }
      },
      "source": [
        "import matplotlib.pyplot as plt\n",
        "\n",
        "acc = history.history['accuracy']\n",
        "val_acc = history.history['val_accuracy']\n",
        "loss = history.history['loss']\n",
        "val_loss = history.history['val_loss']\n",
        "\n",
        "epochs = range(1, len(acc) + 1)\n",
        "\n",
        "# \"bo\" is for \"blue dot\"\n",
        "plt.plot(epochs, loss, 'bo', label='Training loss')\n",
        "# b is for \"solid blue line\"\n",
        "plt.plot(epochs, val_loss, 'b', label='Validation loss')\n",
        "plt.title('Training and validation loss')\n",
        "\n",
        "plt.xlabel('Epochs')\n",
        "plt.ylabel('Loss')\n",
        "plt.legend()\n",
        "\n",
        "plt.show()"
      ],
      "execution_count": 36,
      "outputs": [
        {
          "output_type": "display_data",
          "data": {
            "image/png": "[encoded data removed]",
            "text/plain": [
              "<Figure size 432x288 with 1 Axes>"
            ]
          },
          "metadata": {
            "tags": []
          }
        }
      ]
    },
    {
      "cell_type": "code",
      "metadata": {
        "colab_type": "code",
        "outputId": "2b661c21-89c9-4a35-b1e8-81457abf37e9",
        "id": "ivFuo_99Km19",
        "colab": {
          "base_uri": "https://localhost:8080/",
          "height": 301
        }
      },
      "source": [
        "plt.clf()   # clear figure\n",
        "acc_values = history_dict['accuracy']\n",
        "# val_acc_values = history_dict['val_acc']\n",
        "\n",
        "plt.plot(epochs, acc, 'bo', label='Training acc')\n",
        "plt.plot(epochs, val_acc, 'b', label='Validation acc')\n",
        "plt.title('Training and validation accuracy')\n",
        "\n",
        "plt.xlabel('Epochs')\n",
        "plt.ylabel('Accuracy')\n",
        "plt.legend()\n",
        "\n",
        "plt.show()"
      ],
      "execution_count": 37,
      "outputs": [
        {
          "output_type": "display_data",
          "data": {
            "image/png": "[encoded data removed]",
            "text/plain": [
              "<Figure size 432x288 with 1 Axes>"
            ]
          },
          "metadata": {
            "tags": []
          }
        }
      ]
    },
    {
      "cell_type": "code",
      "metadata": {
        "colab_type": "code",
        "id": "xCUUXs5GKm2A",
        "outputId": "d8095cfd-3bd6-460b-a18d-fb88da07b050",
        "colab": {
          "base_uri": "https://localhost:8080/",
          "height": 34
        }
      },
      "source": [
        "# save the model\n",
        "model.save(\"experiment4\")"
      ],
      "execution_count": 38,
      "outputs": [
        {
          "output_type": "stream",
          "text": [
            "INFO:tensorflow:Assets written to: experiment4/assets\n"
          ],
          "name": "stdout"
        }
      ]
    },
    {
      "cell_type": "markdown",
      "metadata": {
        "colab_type": "text",
        "id": "fKUtJUXlJ4-8"
      },
      "source": [
        "#Experiment 7\n",
        "32, 64, pool\n"
      ]
    },
    {
      "cell_type": "markdown",
      "metadata": {
        "colab_type": "text",
        "id": "7oXCVHCbJ4_E"
      },
      "source": [
        "##Build and compile the model"
      ]
    },
    {
      "cell_type": "code",
      "metadata": {
        "colab_type": "code",
        "id": "Oa_ZNrbxJ4_H",
        "colab": {}
      },
      "source": [
        "model = models.Sequential()\n",
        "model.add(layers.ZeroPadding2D(3))\n",
        "model.add(layers.Conv2D(32, (3, 3), activation='relu', input_shape=(28, 28, 1)))\n",
        "model.add(layers.Dropout(0.25))\n",
        "\n",
        "model.add(layers.Conv2D(32, (3, 3), activation='relu',))\n",
        "model.add(layers.MaxPooling2D((2, 2)))\n",
        "model.add(layers.Dropout(0.25))\n",
        "\n",
        "model.add(layers.Conv2D(64, (3, 3), activation='relu'))\n",
        "model.add(layers.Dropout(0.25))\n",
        "\n",
        "model.add(layers.Conv2D(64, (3, 3), activation='relu'))\n",
        "model.add(layers.MaxPooling2D((2, 2)))\n",
        "model.add(layers.Dropout(0.25))\n",
        "\n",
        "model.add(layers.Flatten())\n",
        "model.add(layers.Dense(256, activation='relu'))\n",
        "model.add(layers.Dropout(0.25))\n",
        "\n",
        "model.add(layers.Dense(10, activation='softmax'))\n",
        "\n",
        "model.compile(optimizer ='adam',\n",
        "              loss='sparse_categorical_crossentropy',\n",
        "              metrics=['accuracy'])"
      ],
      "execution_count": 0,
      "outputs": []
    },
    {
      "cell_type": "code",
      "metadata": {
        "colab_type": "code",
        "id": "dXardhVJJ4_S",
        "colab": {}
      },
      "source": [
        "# keras.utils.plot_model(model, show_shapes=True)"
      ],
      "execution_count": 0,
      "outputs": []
    },
    {
      "cell_type": "markdown",
      "metadata": {
        "colab_type": "text",
        "id": "Po-NkkkxJ4_a"
      },
      "source": [
        "##Train the model"
      ]
    },
    {
      "cell_type": "code",
      "metadata": {
        "colab_type": "code",
        "outputId": "db1a9dc7-281c-4e6e-8247-1e0a1c196744",
        "id": "uUQSUX__J4_b",
        "colab": {
          "base_uri": "https://localhost:8080/",
          "height": 749
        }
      },
      "source": [
        "train_rt = TrainRuntimeCallback()\n",
        "history = model.fit(train_images, train_labels, callbacks=[train_rt], epochs=20,  batch_size = 200,\n",
        "                    validation_data=(val_images, val_labels))"
      ],
      "execution_count": 41,
      "outputs": [
        {
          "output_type": "stream",
          "text": [
            "Train on 55000 samples, validate on 5000 samples\n",
            "Epoch 1/20\n",
            "55000/55000 [==============================] - 9s 171us/sample - loss: 0.6603 - accuracy: 0.7585 - val_loss: 0.3776 - val_accuracy: 0.8646\n",
            "Epoch 2/20\n",
            "55000/55000 [==============================] - 9s 168us/sample - loss: 0.3942 - accuracy: 0.8549 - val_loss: 0.3115 - val_accuracy: 0.8842\n",
            "Epoch 3/20\n",
            "55000/55000 [==============================] - 9s 168us/sample - loss: 0.3326 - accuracy: 0.8774 - val_loss: 0.2732 - val_accuracy: 0.9032\n",
            "Epoch 4/20\n",
            "55000/55000 [==============================] - 9s 168us/sample - loss: 0.2970 - accuracy: 0.8914 - val_loss: 0.2469 - val_accuracy: 0.9078\n",
            "Epoch 5/20\n",
            "55000/55000 [==============================] - 9s 167us/sample - loss: 0.2730 - accuracy: 0.8989 - val_loss: 0.2339 - val_accuracy: 0.9116\n",
            "Epoch 6/20\n",
            "55000/55000 [==============================] - 9s 167us/sample - loss: 0.2552 - accuracy: 0.9061 - val_loss: 0.2241 - val_accuracy: 0.9126\n",
            "Epoch 7/20\n",
            "55000/55000 [==============================] - 9s 167us/sample - loss: 0.2417 - accuracy: 0.9100 - val_loss: 0.2187 - val_accuracy: 0.9172\n",
            "Epoch 8/20\n",
            "55000/55000 [==============================] - 9s 167us/sample - loss: 0.2319 - accuracy: 0.9143 - val_loss: 0.2131 - val_accuracy: 0.9174\n",
            "Epoch 9/20\n",
            "55000/55000 [==============================] - 9s 168us/sample - loss: 0.2203 - accuracy: 0.9181 - val_loss: 0.1951 - val_accuracy: 0.9272\n",
            "Epoch 10/20\n",
            "55000/55000 [==============================] - 9s 167us/sample - loss: 0.2105 - accuracy: 0.9218 - val_loss: 0.1980 - val_accuracy: 0.9216\n",
            "Epoch 11/20\n",
            "55000/55000 [==============================] - 9s 168us/sample - loss: 0.2026 - accuracy: 0.9235 - val_loss: 0.1865 - val_accuracy: 0.9302\n",
            "Epoch 12/20\n",
            "55000/55000 [==============================] - 9s 167us/sample - loss: 0.1985 - accuracy: 0.9265 - val_loss: 0.1940 - val_accuracy: 0.9250\n",
            "Epoch 13/20\n",
            "55000/55000 [==============================] - 9s 167us/sample - loss: 0.1924 - accuracy: 0.9281 - val_loss: 0.1999 - val_accuracy: 0.9202\n",
            "Epoch 14/20\n",
            "55000/55000 [==============================] - 9s 168us/sample - loss: 0.1856 - accuracy: 0.9307 - val_loss: 0.1955 - val_accuracy: 0.9252\n",
            "Epoch 15/20\n",
            "55000/55000 [==============================] - 9s 167us/sample - loss: 0.1788 - accuracy: 0.9325 - val_loss: 0.1815 - val_accuracy: 0.9296\n",
            "Epoch 16/20\n",
            "55000/55000 [==============================] - 9s 167us/sample - loss: 0.1749 - accuracy: 0.9345 - val_loss: 0.1859 - val_accuracy: 0.9282\n",
            "Epoch 17/20\n",
            "55000/55000 [==============================] - 9s 167us/sample - loss: 0.1705 - accuracy: 0.9365 - val_loss: 0.1896 - val_accuracy: 0.9292\n",
            "Epoch 18/20\n",
            "55000/55000 [==============================] - 9s 167us/sample - loss: 0.1652 - accuracy: 0.9366 - val_loss: 0.1827 - val_accuracy: 0.9328\n",
            "Epoch 19/20\n",
            "55000/55000 [==============================] - 9s 167us/sample - loss: 0.1597 - accuracy: 0.9396 - val_loss: 0.1835 - val_accuracy: 0.9298\n",
            "Epoch 20/20\n",
            "55000/55000 [==============================] - 9s 167us/sample - loss: 0.1575 - accuracy: 0.9393 - val_loss: 0.1779 - val_accuracy: 0.9302\n"
          ],
          "name": "stdout"
        }
      ]
    },
    {
      "cell_type": "code",
      "metadata": {
        "colab_type": "code",
        "outputId": "861a27a7-daef-4df8-ce73-420d7789d4a6",
        "id": "YzBQNLu_J4_h",
        "colab": {
          "base_uri": "https://localhost:8080/",
          "height": 34
        }
      },
      "source": [
        "# Get the training time\n",
        "train_time = train_rt.process_time\n",
        "train_time # in seconds"
      ],
      "execution_count": 42,
      "outputs": [
        {
          "output_type": "execute_result",
          "data": {
            "text/plain": [
              "185.7948"
            ]
          },
          "metadata": {
            "tags": []
          },
          "execution_count": 42
        }
      ]
    },
    {
      "cell_type": "markdown",
      "metadata": {
        "colab_type": "text",
        "id": "cZajLss6J4_n"
      },
      "source": [
        "## Test the model"
      ]
    },
    {
      "cell_type": "code",
      "metadata": {
        "colab_type": "code",
        "outputId": "608aeb73-f1d4-4323-efca-46de6865f06b",
        "id": "uwDk61PEJ4_o",
        "colab": {
          "base_uri": "https://localhost:8080/",
          "height": 34
        }
      },
      "source": [
        "test_rt = TestRuntimeCallback()\n",
        "test_loss, test_acc = model.evaluate(test_images, test_labels, callbacks=[test_rt])\n",
        "test_loss, test_acc"
      ],
      "execution_count": 43,
      "outputs": [
        {
          "output_type": "execute_result",
          "data": {
            "text/plain": [
              "(0.20191777453422546, 0.9285)"
            ]
          },
          "metadata": {
            "tags": []
          },
          "execution_count": 43
        }
      ]
    },
    {
      "cell_type": "code",
      "metadata": {
        "colab_type": "code",
        "outputId": "69763824-0cc6-464c-9fff-23f49638db57",
        "id": "QalUc2P8J4_u",
        "colab": {
          "base_uri": "https://localhost:8080/",
          "height": 34
        }
      },
      "source": [
        "test_time = test_rt.process_time\n",
        "test_time # in seconds"
      ],
      "execution_count": 44,
      "outputs": [
        {
          "output_type": "execute_result",
          "data": {
            "text/plain": [
              "0.716905"
            ]
          },
          "metadata": {
            "tags": []
          },
          "execution_count": 44
        }
      ]
    },
    {
      "cell_type": "markdown",
      "metadata": {
        "colab_type": "text",
        "id": "p0Nbo2Q9J4_0"
      },
      "source": [
        "##Add training and test statistics to results dataframe"
      ]
    },
    {
      "cell_type": "code",
      "metadata": {
        "colab_type": "code",
        "outputId": "0a3253cf-4035-4aa6-da5b-833ffaca54d1",
        "id": "xuRSVFRbJ4_1",
        "colab": {
          "base_uri": "https://localhost:8080/",
          "height": 206
        }
      },
      "source": [
        "history_dict = history.history\n",
        "history_df=pd.DataFrame(history_dict)\n",
        "history_df.tail()"
      ],
      "execution_count": 45,
      "outputs": [
        {
          "output_type": "execute_result",
          "data": {
            "text/html": [
              "<div>\n",
              "<style scoped>\n",
              "    .dataframe tbody tr th:only-of-type {\n",
              "        vertical-align: middle;\n",
              "    }\n",
              "\n",
              "    .dataframe tbody tr th {\n",
              "        vertical-align: top;\n",
              "    }\n",
              "\n",
              "    .dataframe thead th {\n",
              "        text-align: right;\n",
              "    }\n",
              "</style>\n",
              "<table border=\"1\" class=\"dataframe\">\n",
              "  <thead>\n",
              "    <tr style=\"text-align: right;\">\n",
              "      <th></th>\n",
              "      <th>loss</th>\n",
              "      <th>accuracy</th>\n",
              "      <th>val_loss</th>\n",
              "      <th>val_accuracy</th>\n",
              "    </tr>\n",
              "  </thead>\n",
              "  <tbody>\n",
              "    <tr>\n",
              "      <th>15</th>\n",
              "      <td>0.174870</td>\n",
              "      <td>0.934491</td>\n",
              "      <td>0.185879</td>\n",
              "      <td>0.9282</td>\n",
              "    </tr>\n",
              "    <tr>\n",
              "      <th>16</th>\n",
              "      <td>0.170486</td>\n",
              "      <td>0.936509</td>\n",
              "      <td>0.189609</td>\n",
              "      <td>0.9292</td>\n",
              "    </tr>\n",
              "    <tr>\n",
              "      <th>17</th>\n",
              "      <td>0.165239</td>\n",
              "      <td>0.936564</td>\n",
              "      <td>0.182748</td>\n",
              "      <td>0.9328</td>\n",
              "    </tr>\n",
              "    <tr>\n",
              "      <th>18</th>\n",
              "      <td>0.159685</td>\n",
              "      <td>0.939636</td>\n",
              "      <td>0.183497</td>\n",
              "      <td>0.9298</td>\n",
              "    </tr>\n",
              "    <tr>\n",
              "      <th>19</th>\n",
              "      <td>0.157452</td>\n",
              "      <td>0.939255</td>\n",
              "      <td>0.177916</td>\n",
              "      <td>0.9302</td>\n",
              "    </tr>\n",
              "  </tbody>\n",
              "</table>\n",
              "</div>"
            ],
            "text/plain": [
              "        loss  accuracy  val_loss  val_accuracy\n",
              "15  0.174870  0.934491  0.185879        0.9282\n",
              "16  0.170486  0.936509  0.189609        0.9292\n",
              "17  0.165239  0.936564  0.182748        0.9328\n",
              "18  0.159685  0.939636  0.183497        0.9298\n",
              "19  0.157452  0.939255  0.177916        0.9302"
            ]
          },
          "metadata": {
            "tags": []
          },
          "execution_count": 45
        }
      ]
    },
    {
      "cell_type": "code",
      "metadata": {
        "colab_type": "code",
        "outputId": "10908102-219b-4ad6-c262-de430a900b5a",
        "id": "WcfOlvGoJ4_6",
        "colab": {
          "base_uri": "https://localhost:8080/",
          "height": 170
        }
      },
      "source": [
        "results_dfnew = history_df.iloc[-1:].copy()\n",
        "results_dfnew.insert(0,'model','CNN (4 layers), padding3') # want the model name to appear first\n",
        "results_dfnew['test_loss'] = test_loss #incorporate test results\n",
        "results_dfnew['test_accuracy'] = test_acc\n",
        "results_dfnew['training time (sec)'] = train_time     \n",
        "results_dfnew['testing time (sec)'] = test_time      # testing time appears last\n",
        "results_dfnew"
      ],
      "execution_count": 46,
      "outputs": [
        {
          "output_type": "execute_result",
          "data": {
            "text/html": [
              "<div>\n",
              "<style scoped>\n",
              "    .dataframe tbody tr th:only-of-type {\n",
              "        vertical-align: middle;\n",
              "    }\n",
              "\n",
              "    .dataframe tbody tr th {\n",
              "        vertical-align: top;\n",
              "    }\n",
              "\n",
              "    .dataframe thead th {\n",
              "        text-align: right;\n",
              "    }\n",
              "</style>\n",
              "<table border=\"1\" class=\"dataframe\">\n",
              "  <thead>\n",
              "    <tr style=\"text-align: right;\">\n",
              "      <th></th>\n",
              "      <th>model</th>\n",
              "      <th>loss</th>\n",
              "      <th>accuracy</th>\n",
              "      <th>val_loss</th>\n",
              "      <th>val_accuracy</th>\n",
              "      <th>test_loss</th>\n",
              "      <th>test_accuracy</th>\n",
              "      <th>training time (sec)</th>\n",
              "      <th>testing time (sec)</th>\n",
              "    </tr>\n",
              "  </thead>\n",
              "  <tbody>\n",
              "    <tr>\n",
              "      <th>19</th>\n",
              "      <td>CNN (4 layers), padding3</td>\n",
              "      <td>0.157452</td>\n",
              "      <td>0.939255</td>\n",
              "      <td>0.177916</td>\n",
              "      <td>0.9302</td>\n",
              "      <td>0.201918</td>\n",
              "      <td>0.9285</td>\n",
              "      <td>185.7948</td>\n",
              "      <td>0.716905</td>\n",
              "    </tr>\n",
              "  </tbody>\n",
              "</table>\n",
              "</div>"
            ],
            "text/plain": [
              "                       model      loss  ...  training time (sec)  testing time (sec)\n",
              "19  CNN (4 layers), padding3  0.157452  ...             185.7948            0.716905\n",
              "\n",
              "[1 rows x 9 columns]"
            ]
          },
          "metadata": {
            "tags": []
          },
          "execution_count": 46
        }
      ]
    },
    {
      "cell_type": "code",
      "metadata": {
        "colab_type": "code",
        "outputId": "13b345f5-9db3-4e07-ed5a-a39ed90504ec",
        "id": "-ryuT1WCJ4_-",
        "colab": {
          "base_uri": "https://localhost:8080/",
          "height": 302
        }
      },
      "source": [
        "results_df=results_df.append(results_dfnew,ignore_index=True)\n",
        "results_df"
      ],
      "execution_count": 47,
      "outputs": [
        {
          "output_type": "execute_result",
          "data": {
            "text/html": [
              "<div>\n",
              "<style scoped>\n",
              "    .dataframe tbody tr th:only-of-type {\n",
              "        vertical-align: middle;\n",
              "    }\n",
              "\n",
              "    .dataframe tbody tr th {\n",
              "        vertical-align: top;\n",
              "    }\n",
              "\n",
              "    .dataframe thead th {\n",
              "        text-align: right;\n",
              "    }\n",
              "</style>\n",
              "<table border=\"1\" class=\"dataframe\">\n",
              "  <thead>\n",
              "    <tr style=\"text-align: right;\">\n",
              "      <th></th>\n",
              "      <th>model</th>\n",
              "      <th>loss</th>\n",
              "      <th>accuracy</th>\n",
              "      <th>val_loss</th>\n",
              "      <th>val_accuracy</th>\n",
              "      <th>test_loss</th>\n",
              "      <th>test_accuracy</th>\n",
              "      <th>training time (sec)</th>\n",
              "      <th>testing time (sec)</th>\n",
              "    </tr>\n",
              "  </thead>\n",
              "  <tbody>\n",
              "    <tr>\n",
              "      <th>0</th>\n",
              "      <td>CNN (4 layers), padding1</td>\n",
              "      <td>0.192344</td>\n",
              "      <td>0.927236</td>\n",
              "      <td>0.201182</td>\n",
              "      <td>0.9252</td>\n",
              "      <td>0.226993</td>\n",
              "      <td>0.9216</td>\n",
              "      <td>172.042142</td>\n",
              "      <td>0.675763</td>\n",
              "    </tr>\n",
              "    <tr>\n",
              "      <th>1</th>\n",
              "      <td>CNN (4 layers), padding2</td>\n",
              "      <td>0.179967</td>\n",
              "      <td>0.932836</td>\n",
              "      <td>0.178328</td>\n",
              "      <td>0.9320</td>\n",
              "      <td>0.201932</td>\n",
              "      <td>0.9253</td>\n",
              "      <td>153.062832</td>\n",
              "      <td>0.683993</td>\n",
              "    </tr>\n",
              "    <tr>\n",
              "      <th>2</th>\n",
              "      <td>CNN (4 layers), padding3</td>\n",
              "      <td>0.157452</td>\n",
              "      <td>0.939255</td>\n",
              "      <td>0.177916</td>\n",
              "      <td>0.9302</td>\n",
              "      <td>0.201918</td>\n",
              "      <td>0.9285</td>\n",
              "      <td>185.794800</td>\n",
              "      <td>0.716905</td>\n",
              "    </tr>\n",
              "  </tbody>\n",
              "</table>\n",
              "</div>"
            ],
            "text/plain": [
              "                      model      loss  ...  training time (sec)  testing time (sec)\n",
              "0  CNN (4 layers), padding1  0.192344  ...           172.042142            0.675763\n",
              "1  CNN (4 layers), padding2  0.179967  ...           153.062832            0.683993\n",
              "2  CNN (4 layers), padding3  0.157452  ...           185.794800            0.716905\n",
              "\n",
              "[3 rows x 9 columns]"
            ]
          },
          "metadata": {
            "tags": []
          },
          "execution_count": 47
        }
      ]
    },
    {
      "cell_type": "markdown",
      "metadata": {
        "colab_type": "text",
        "id": "cGeqd0qwh2wH"
      },
      "source": [
        "## Plotting the performance "
      ]
    },
    {
      "cell_type": "code",
      "metadata": {
        "colab_type": "code",
        "outputId": "2f07944a-53f5-4677-a86c-eb84703abd28",
        "id": "jI1JHpP8h2wM",
        "colab": {
          "base_uri": "https://localhost:8080/",
          "height": 301
        }
      },
      "source": [
        "import matplotlib.pyplot as plt\n",
        "\n",
        "acc = history.history['accuracy']\n",
        "val_acc = history.history['val_accuracy']\n",
        "loss = history.history['loss']\n",
        "val_loss = history.history['val_loss']\n",
        "\n",
        "epochs = range(1, len(acc) + 1)\n",
        "\n",
        "# \"bo\" is for \"blue dot\"\n",
        "plt.plot(epochs, loss, 'bo', label='Training loss')\n",
        "# b is for \"solid blue line\"\n",
        "plt.plot(epochs, val_loss, 'b', label='Validation loss')\n",
        "plt.title('Training and validation loss')\n",
        "\n",
        "plt.xlabel('Epochs')\n",
        "plt.ylabel('Loss')\n",
        "plt.legend()\n",
        "\n",
        "plt.show()"
      ],
      "execution_count": 48,
      "outputs": [
        {
          "output_type": "display_data",
          "data": {
            "image/png": "[encoded data removed]",
            "text/plain": [
              "<Figure size 432x288 with 1 Axes>"
            ]
          },
          "metadata": {
            "tags": []
          }
        }
      ]
    },
    {
      "cell_type": "code",
      "metadata": {
        "colab_type": "code",
        "outputId": "3b0f2971-28bb-455f-f770-25d40b29684c",
        "id": "npBExrgfh2wZ",
        "colab": {
          "base_uri": "https://localhost:8080/",
          "height": 301
        }
      },
      "source": [
        "plt.clf()   # clear figure\n",
        "acc_values = history_dict['accuracy']\n",
        "# val_acc_values = history_dict['val_acc']\n",
        "\n",
        "plt.plot(epochs, acc, 'bo', label='Training acc')\n",
        "plt.plot(epochs, val_acc, 'b', label='Validation acc')\n",
        "plt.title('Training and validation accuracy')\n",
        "\n",
        "plt.xlabel('Epochs')\n",
        "plt.ylabel('Accuracy')\n",
        "plt.legend()\n",
        "\n",
        "plt.show()"
      ],
      "execution_count": 49,
      "outputs": [
        {
          "output_type": "display_data",
          "data": {
            "image/png": "[encoded data removed]",
            "text/plain": [
              "<Figure size 432x288 with 1 Axes>"
            ]
          },
          "metadata": {
            "tags": []
          }
        }
      ]
    },
    {
      "cell_type": "markdown",
      "metadata": {
        "colab_type": "text",
        "id": "NfiBTBF0z6WL"
      },
      "source": [
        "#Experiment 8 \n",
        "4 layer CNN: 32, 32, pool, 64, 64, pool\n"
      ]
    },
    {
      "cell_type": "markdown",
      "metadata": {
        "colab_type": "text",
        "id": "1azPeFcaz6WP"
      },
      "source": [
        "##Build and compile the model"
      ]
    },
    {
      "cell_type": "code",
      "metadata": {
        "colab_type": "code",
        "id": "47pIAir7z6WR",
        "colab": {}
      },
      "source": [
        "model = models.Sequential()\n",
        "model.add(layers.Conv2D(32, (3, 3), activation='relu', input_shape=(28, 28, 1)))\n",
        "model.add(layers.Dropout(0.25))\n",
        "\n",
        "model.add(layers.Conv2D(32, (3, 3), activation='relu',))\n",
        "model.add(layers.MaxPooling2D((2, 2)))\n",
        "model.add(layers.Dropout(0.25))\n",
        "\n",
        "model.add(layers.Conv2D(64, (3, 3), activation='relu'))\n",
        "model.add(layers.Dropout(0.25))\n",
        "\n",
        "model.add(layers.Conv2D(64, (3, 3), activation='relu'))\n",
        "model.add(layers.MaxPooling2D((2, 2)))\n",
        "model.add(layers.Dropout(0.25))\n",
        "\n",
        "model.add(layers.Flatten())\n",
        "model.add(layers.Dense(256, activation='relu'))\n",
        "model.add(layers.Dropout(0.25))\n",
        "\n",
        "model.add(layers.Dense(10, activation='softmax'))\n",
        "\n",
        "model.compile(optimizer ='adam',\n",
        "              loss='sparse_categorical_crossentropy',\n",
        "              metrics=['accuracy'])"
      ],
      "execution_count": 0,
      "outputs": []
    },
    {
      "cell_type": "code",
      "metadata": {
        "colab_type": "code",
        "id": "Kbt1iGHKz6Wh",
        "colab": {}
      },
      "source": [
        "# keras.utils.plot_model(model, show_shapes=True)"
      ],
      "execution_count": 0,
      "outputs": []
    },
    {
      "cell_type": "markdown",
      "metadata": {
        "colab_type": "text",
        "id": "clkILD3kz6Wo"
      },
      "source": [
        "##Train the model"
      ]
    },
    {
      "cell_type": "code",
      "metadata": {
        "colab_type": "code",
        "outputId": "67a9c7ad-799d-4382-d27c-7f29a9127356",
        "id": "2Sj0bd1Vz6Wq",
        "colab": {
          "base_uri": "https://localhost:8080/",
          "height": 749
        }
      },
      "source": [
        "train_rt = TrainRuntimeCallback()\n",
        "history = model.fit(train_images, train_labels, callbacks=[train_rt], epochs=20,  batch_size = 100,\n",
        "                    validation_data=(val_images, val_labels))"
      ],
      "execution_count": 52,
      "outputs": [
        {
          "output_type": "stream",
          "text": [
            "Train on 55000 samples, validate on 5000 samples\n",
            "Epoch 1/20\n",
            "55000/55000 [==============================] - 7s 130us/sample - loss: 0.6604 - accuracy: 0.7527 - val_loss: 0.3972 - val_accuracy: 0.8560\n",
            "Epoch 2/20\n",
            "55000/55000 [==============================] - 7s 126us/sample - loss: 0.4117 - accuracy: 0.8470 - val_loss: 0.3082 - val_accuracy: 0.8840\n",
            "Epoch 3/20\n",
            "55000/55000 [==============================] - 7s 126us/sample - loss: 0.3462 - accuracy: 0.8721 - val_loss: 0.2740 - val_accuracy: 0.8962\n",
            "Epoch 4/20\n",
            "55000/55000 [==============================] - 7s 126us/sample - loss: 0.3104 - accuracy: 0.8855 - val_loss: 0.2557 - val_accuracy: 0.8992\n",
            "Epoch 5/20\n",
            "55000/55000 [==============================] - 7s 126us/sample - loss: 0.2888 - accuracy: 0.8944 - val_loss: 0.2337 - val_accuracy: 0.9138\n",
            "Epoch 6/20\n",
            "55000/55000 [==============================] - 7s 125us/sample - loss: 0.2732 - accuracy: 0.9000 - val_loss: 0.2320 - val_accuracy: 0.9118\n",
            "Epoch 7/20\n",
            "55000/55000 [==============================] - 7s 126us/sample - loss: 0.2592 - accuracy: 0.9039 - val_loss: 0.2201 - val_accuracy: 0.9134\n",
            "Epoch 8/20\n",
            "55000/55000 [==============================] - 7s 126us/sample - loss: 0.2487 - accuracy: 0.9075 - val_loss: 0.2110 - val_accuracy: 0.9194\n",
            "Epoch 9/20\n",
            "55000/55000 [==============================] - 7s 127us/sample - loss: 0.2415 - accuracy: 0.9111 - val_loss: 0.2251 - val_accuracy: 0.9124\n",
            "Epoch 10/20\n",
            "55000/55000 [==============================] - 7s 126us/sample - loss: 0.2315 - accuracy: 0.9146 - val_loss: 0.2147 - val_accuracy: 0.9166\n",
            "Epoch 11/20\n",
            "55000/55000 [==============================] - 7s 126us/sample - loss: 0.2250 - accuracy: 0.9158 - val_loss: 0.2090 - val_accuracy: 0.9202\n",
            "Epoch 12/20\n",
            "55000/55000 [==============================] - 7s 125us/sample - loss: 0.2190 - accuracy: 0.9182 - val_loss: 0.1994 - val_accuracy: 0.9236\n",
            "Epoch 13/20\n",
            "55000/55000 [==============================] - 7s 125us/sample - loss: 0.2138 - accuracy: 0.9205 - val_loss: 0.2062 - val_accuracy: 0.9190\n",
            "Epoch 14/20\n",
            "55000/55000 [==============================] - 7s 124us/sample - loss: 0.2072 - accuracy: 0.9213 - val_loss: 0.1955 - val_accuracy: 0.9254\n",
            "Epoch 15/20\n",
            "55000/55000 [==============================] - 7s 124us/sample - loss: 0.2007 - accuracy: 0.9254 - val_loss: 0.1880 - val_accuracy: 0.9282\n",
            "Epoch 16/20\n",
            "55000/55000 [==============================] - 7s 125us/sample - loss: 0.1974 - accuracy: 0.9267 - val_loss: 0.1959 - val_accuracy: 0.9260\n",
            "Epoch 17/20\n",
            "55000/55000 [==============================] - 7s 126us/sample - loss: 0.1952 - accuracy: 0.9265 - val_loss: 0.1931 - val_accuracy: 0.9264\n",
            "Epoch 18/20\n",
            "55000/55000 [==============================] - 7s 125us/sample - loss: 0.1904 - accuracy: 0.9288 - val_loss: 0.1929 - val_accuracy: 0.9268\n",
            "Epoch 19/20\n",
            "55000/55000 [==============================] - 7s 125us/sample - loss: 0.1868 - accuracy: 0.9293 - val_loss: 0.1974 - val_accuracy: 0.9242\n",
            "Epoch 20/20\n",
            "55000/55000 [==============================] - 7s 126us/sample - loss: 0.1856 - accuracy: 0.9313 - val_loss: 0.1901 - val_accuracy: 0.9264\n"
          ],
          "name": "stdout"
        }
      ]
    },
    {
      "cell_type": "code",
      "metadata": {
        "colab_type": "code",
        "outputId": "d32de1b7-e0a9-41e0-9c51-27c77abd595d",
        "id": "w7YXsEfJz6Wx",
        "colab": {
          "base_uri": "https://localhost:8080/",
          "height": 34
        }
      },
      "source": [
        "# Get the training time\n",
        "train_time = train_rt.process_time\n",
        "train_time # in seconds"
      ],
      "execution_count": 53,
      "outputs": [
        {
          "output_type": "execute_result",
          "data": {
            "text/plain": [
              "139.408252"
            ]
          },
          "metadata": {
            "tags": []
          },
          "execution_count": 53
        }
      ]
    },
    {
      "cell_type": "markdown",
      "metadata": {
        "colab_type": "text",
        "id": "psmIq2nRz6W4"
      },
      "source": [
        "## Test the model"
      ]
    },
    {
      "cell_type": "code",
      "metadata": {
        "colab_type": "code",
        "outputId": "f0f2be37-144b-40b1-c5c5-2b01d8c39be0",
        "id": "uhfFRyTtz6W5",
        "colab": {
          "base_uri": "https://localhost:8080/",
          "height": 34
        }
      },
      "source": [
        "test_rt = TestRuntimeCallback()\n",
        "test_loss, test_acc = model.evaluate(test_images, test_labels, callbacks=[test_rt])\n",
        "test_loss, test_acc"
      ],
      "execution_count": 54,
      "outputs": [
        {
          "output_type": "execute_result",
          "data": {
            "text/plain": [
              "(0.2072968983232975, 0.9242)"
            ]
          },
          "metadata": {
            "tags": []
          },
          "execution_count": 54
        }
      ]
    },
    {
      "cell_type": "code",
      "metadata": {
        "colab_type": "code",
        "outputId": "13dadf9d-9328-4376-ee45-97c85b73dc0f",
        "id": "ZYtgtcJVz6W-",
        "colab": {
          "base_uri": "https://localhost:8080/",
          "height": 34
        }
      },
      "source": [
        "test_time = test_rt.process_time\n",
        "test_time # in seconds"
      ],
      "execution_count": 55,
      "outputs": [
        {
          "output_type": "execute_result",
          "data": {
            "text/plain": [
              "0.688485"
            ]
          },
          "metadata": {
            "tags": []
          },
          "execution_count": 55
        }
      ]
    },
    {
      "cell_type": "markdown",
      "metadata": {
        "colab_type": "text",
        "id": "Zn-nqd28z6XE"
      },
      "source": [
        "##Add training and test statistics to results dataframe"
      ]
    },
    {
      "cell_type": "code",
      "metadata": {
        "colab_type": "code",
        "outputId": "c12c313d-0ae6-4569-869f-88a511924ec3",
        "id": "s9r2mYLXz6XF",
        "colab": {
          "base_uri": "https://localhost:8080/",
          "height": 206
        }
      },
      "source": [
        "history_dict = history.history\n",
        "history_df=pd.DataFrame(history_dict)\n",
        "history_df.tail()"
      ],
      "execution_count": 56,
      "outputs": [
        {
          "output_type": "execute_result",
          "data": {
            "text/html": [
              "<div>\n",
              "<style scoped>\n",
              "    .dataframe tbody tr th:only-of-type {\n",
              "        vertical-align: middle;\n",
              "    }\n",
              "\n",
              "    .dataframe tbody tr th {\n",
              "        vertical-align: top;\n",
              "    }\n",
              "\n",
              "    .dataframe thead th {\n",
              "        text-align: right;\n",
              "    }\n",
              "</style>\n",
              "<table border=\"1\" class=\"dataframe\">\n",
              "  <thead>\n",
              "    <tr style=\"text-align: right;\">\n",
              "      <th></th>\n",
              "      <th>loss</th>\n",
              "      <th>accuracy</th>\n",
              "      <th>val_loss</th>\n",
              "      <th>val_accuracy</th>\n",
              "    </tr>\n",
              "  </thead>\n",
              "  <tbody>\n",
              "    <tr>\n",
              "      <th>15</th>\n",
              "      <td>0.197392</td>\n",
              "      <td>0.926709</td>\n",
              "      <td>0.195939</td>\n",
              "      <td>0.9260</td>\n",
              "    </tr>\n",
              "    <tr>\n",
              "      <th>16</th>\n",
              "      <td>0.195234</td>\n",
              "      <td>0.926527</td>\n",
              "      <td>0.193100</td>\n",
              "      <td>0.9264</td>\n",
              "    </tr>\n",
              "    <tr>\n",
              "      <th>17</th>\n",
              "      <td>0.190432</td>\n",
              "      <td>0.928818</td>\n",
              "      <td>0.192911</td>\n",
              "      <td>0.9268</td>\n",
              "    </tr>\n",
              "    <tr>\n",
              "      <th>18</th>\n",
              "      <td>0.186837</td>\n",
              "      <td>0.929309</td>\n",
              "      <td>0.197357</td>\n",
              "      <td>0.9242</td>\n",
              "    </tr>\n",
              "    <tr>\n",
              "      <th>19</th>\n",
              "      <td>0.185574</td>\n",
              "      <td>0.931291</td>\n",
              "      <td>0.190087</td>\n",
              "      <td>0.9264</td>\n",
              "    </tr>\n",
              "  </tbody>\n",
              "</table>\n",
              "</div>"
            ],
            "text/plain": [
              "        loss  accuracy  val_loss  val_accuracy\n",
              "15  0.197392  0.926709  0.195939        0.9260\n",
              "16  0.195234  0.926527  0.193100        0.9264\n",
              "17  0.190432  0.928818  0.192911        0.9268\n",
              "18  0.186837  0.929309  0.197357        0.9242\n",
              "19  0.185574  0.931291  0.190087        0.9264"
            ]
          },
          "metadata": {
            "tags": []
          },
          "execution_count": 56
        }
      ]
    },
    {
      "cell_type": "code",
      "metadata": {
        "colab_type": "code",
        "outputId": "53682844-ce88-42ed-f1a0-f16cda8efa3d",
        "id": "BjpGnrLuz6XN",
        "colab": {
          "base_uri": "https://localhost:8080/",
          "height": 188
        }
      },
      "source": [
        "results_dfnew = history_df.iloc[-1:].copy()\n",
        "results_dfnew.insert(0,'model','CNN (4 layers), no padding') # want the model name to appear first\n",
        "results_dfnew['test_loss'] = test_loss #incorporate test results\n",
        "results_dfnew['test_accuracy'] = test_acc\n",
        "results_dfnew['training time (sec)'] = train_time     \n",
        "results_dfnew['testing time (sec)'] = test_time      # testing time appears last\n",
        "results_dfnew"
      ],
      "execution_count": 57,
      "outputs": [
        {
          "output_type": "execute_result",
          "data": {
            "text/html": [
              "<div>\n",
              "<style scoped>\n",
              "    .dataframe tbody tr th:only-of-type {\n",
              "        vertical-align: middle;\n",
              "    }\n",
              "\n",
              "    .dataframe tbody tr th {\n",
              "        vertical-align: top;\n",
              "    }\n",
              "\n",
              "    .dataframe thead th {\n",
              "        text-align: right;\n",
              "    }\n",
              "</style>\n",
              "<table border=\"1\" class=\"dataframe\">\n",
              "  <thead>\n",
              "    <tr style=\"text-align: right;\">\n",
              "      <th></th>\n",
              "      <th>model</th>\n",
              "      <th>loss</th>\n",
              "      <th>accuracy</th>\n",
              "      <th>val_loss</th>\n",
              "      <th>val_accuracy</th>\n",
              "      <th>test_loss</th>\n",
              "      <th>test_accuracy</th>\n",
              "      <th>training time (sec)</th>\n",
              "      <th>testing time (sec)</th>\n",
              "    </tr>\n",
              "  </thead>\n",
              "  <tbody>\n",
              "    <tr>\n",
              "      <th>19</th>\n",
              "      <td>CNN (4 layers), no padding</td>\n",
              "      <td>0.185574</td>\n",
              "      <td>0.931291</td>\n",
              "      <td>0.190087</td>\n",
              "      <td>0.9264</td>\n",
              "      <td>0.207297</td>\n",
              "      <td>0.9242</td>\n",
              "      <td>139.408252</td>\n",
              "      <td>0.688485</td>\n",
              "    </tr>\n",
              "  </tbody>\n",
              "</table>\n",
              "</div>"
            ],
            "text/plain": [
              "                         model  ...  testing time (sec)\n",
              "19  CNN (4 layers), no padding  ...            0.688485\n",
              "\n",
              "[1 rows x 9 columns]"
            ]
          },
          "metadata": {
            "tags": []
          },
          "execution_count": 57
        }
      ]
    },
    {
      "cell_type": "code",
      "metadata": {
        "colab_type": "code",
        "outputId": "473026b6-e28a-4742-a572-095f342d8696",
        "id": "h0xYl-c4z6XT",
        "colab": {
          "base_uri": "https://localhost:8080/",
          "height": 386
        }
      },
      "source": [
        "results_df=results_df.append(results_dfnew,ignore_index=True)\n",
        "results_df"
      ],
      "execution_count": 58,
      "outputs": [
        {
          "output_type": "execute_result",
          "data": {
            "text/html": [
              "<div>\n",
              "<style scoped>\n",
              "    .dataframe tbody tr th:only-of-type {\n",
              "        vertical-align: middle;\n",
              "    }\n",
              "\n",
              "    .dataframe tbody tr th {\n",
              "        vertical-align: top;\n",
              "    }\n",
              "\n",
              "    .dataframe thead th {\n",
              "        text-align: right;\n",
              "    }\n",
              "</style>\n",
              "<table border=\"1\" class=\"dataframe\">\n",
              "  <thead>\n",
              "    <tr style=\"text-align: right;\">\n",
              "      <th></th>\n",
              "      <th>model</th>\n",
              "      <th>loss</th>\n",
              "      <th>accuracy</th>\n",
              "      <th>val_loss</th>\n",
              "      <th>val_accuracy</th>\n",
              "      <th>test_loss</th>\n",
              "      <th>test_accuracy</th>\n",
              "      <th>training time (sec)</th>\n",
              "      <th>testing time (sec)</th>\n",
              "    </tr>\n",
              "  </thead>\n",
              "  <tbody>\n",
              "    <tr>\n",
              "      <th>0</th>\n",
              "      <td>CNN (4 layers), padding1</td>\n",
              "      <td>0.192344</td>\n",
              "      <td>0.927236</td>\n",
              "      <td>0.201182</td>\n",
              "      <td>0.9252</td>\n",
              "      <td>0.226993</td>\n",
              "      <td>0.9216</td>\n",
              "      <td>172.042142</td>\n",
              "      <td>0.675763</td>\n",
              "    </tr>\n",
              "    <tr>\n",
              "      <th>1</th>\n",
              "      <td>CNN (4 layers), padding2</td>\n",
              "      <td>0.179967</td>\n",
              "      <td>0.932836</td>\n",
              "      <td>0.178328</td>\n",
              "      <td>0.9320</td>\n",
              "      <td>0.201932</td>\n",
              "      <td>0.9253</td>\n",
              "      <td>153.062832</td>\n",
              "      <td>0.683993</td>\n",
              "    </tr>\n",
              "    <tr>\n",
              "      <th>2</th>\n",
              "      <td>CNN (4 layers), padding3</td>\n",
              "      <td>0.157452</td>\n",
              "      <td>0.939255</td>\n",
              "      <td>0.177916</td>\n",
              "      <td>0.9302</td>\n",
              "      <td>0.201918</td>\n",
              "      <td>0.9285</td>\n",
              "      <td>185.794800</td>\n",
              "      <td>0.716905</td>\n",
              "    </tr>\n",
              "    <tr>\n",
              "      <th>3</th>\n",
              "      <td>CNN (4 layers), no padding</td>\n",
              "      <td>0.185574</td>\n",
              "      <td>0.931291</td>\n",
              "      <td>0.190087</td>\n",
              "      <td>0.9264</td>\n",
              "      <td>0.207297</td>\n",
              "      <td>0.9242</td>\n",
              "      <td>139.408252</td>\n",
              "      <td>0.688485</td>\n",
              "    </tr>\n",
              "  </tbody>\n",
              "</table>\n",
              "</div>"
            ],
            "text/plain": [
              "                        model  ...  testing time (sec)\n",
              "0    CNN (4 layers), padding1  ...            0.675763\n",
              "1    CNN (4 layers), padding2  ...            0.683993\n",
              "2    CNN (4 layers), padding3  ...            0.716905\n",
              "3  CNN (4 layers), no padding  ...            0.688485\n",
              "\n",
              "[4 rows x 9 columns]"
            ]
          },
          "metadata": {
            "tags": []
          },
          "execution_count": 58
        }
      ]
    },
    {
      "cell_type": "markdown",
      "metadata": {
        "colab_type": "text",
        "id": "0T3mEbQHhyDX"
      },
      "source": [
        "## Plotting the performance "
      ]
    },
    {
      "cell_type": "code",
      "metadata": {
        "colab_type": "code",
        "outputId": "b97b0cf1-e812-47f7-c759-9a44002a3373",
        "id": "0v6Wpnu_hyDa",
        "colab": {
          "base_uri": "https://localhost:8080/",
          "height": 301
        }
      },
      "source": [
        "import matplotlib.pyplot as plt\n",
        "\n",
        "acc = history.history['accuracy']\n",
        "val_acc = history.history['val_accuracy']\n",
        "loss = history.history['loss']\n",
        "val_loss = history.history['val_loss']\n",
        "\n",
        "epochs = range(1, len(acc) + 1)\n",
        "\n",
        "# \"bo\" is for \"blue dot\"\n",
        "plt.plot(epochs, loss, 'bo', label='Training loss')\n",
        "# b is for \"solid blue line\"\n",
        "plt.plot(epochs, val_loss, 'b', label='Validation loss')\n",
        "plt.title('Training and validation loss')\n",
        "\n",
        "plt.xlabel('Epochs')\n",
        "plt.ylabel('Loss')\n",
        "plt.legend()\n",
        "\n",
        "plt.show()"
      ],
      "execution_count": 59,
      "outputs": [
        {
          "output_type": "display_data",
          "data": {
            "image/png": "[encoded data removed]",
            "text/plain": [
              "<Figure size 432x288 with 1 Axes>"
            ]
          },
          "metadata": {
            "tags": []
          }
        }
      ]
    },
    {
      "cell_type": "code",
      "metadata": {
        "colab_type": "code",
        "outputId": "a83cb58f-4b10-449c-a7f6-dc6f9c348598",
        "id": "68BihSjchyDn",
        "colab": {
          "base_uri": "https://localhost:8080/",
          "height": 301
        }
      },
      "source": [
        "plt.clf()   # clear figure\n",
        "acc_values = history_dict['accuracy']\n",
        "# val_acc_values = history_dict['val_acc']\n",
        "\n",
        "plt.plot(epochs, acc, 'bo', label='Training acc')\n",
        "plt.plot(epochs, val_acc, 'b', label='Validation acc')\n",
        "plt.title('Training and validation accuracy')\n",
        "\n",
        "plt.xlabel('Epochs')\n",
        "plt.ylabel('Accuracy')\n",
        "plt.legend()\n",
        "\n",
        "plt.show()"
      ],
      "execution_count": 60,
      "outputs": [
        {
          "output_type": "display_data",
          "data": {
            "image/png": "[encoded data removed]",
            "text/plain": [
              "<Figure size 432x288 with 1 Axes>"
            ]
          },
          "metadata": {
            "tags": []
          }
        }
      ]
    },
    {
      "cell_type": "markdown",
      "metadata": {
        "colab_type": "text",
        "id": "wmfYP9z_54bb"
      },
      "source": [
        "#Experiment 9\n",
        "64, pool, 128, pool"
      ]
    },
    {
      "cell_type": "markdown",
      "metadata": {
        "colab_type": "text",
        "id": "sodEAtvh54bi"
      },
      "source": [
        "##Build and compile the model"
      ]
    },
    {
      "cell_type": "code",
      "metadata": {
        "colab_type": "code",
        "id": "vXqG5r_O54bl",
        "colab": {}
      },
      "source": [
        "model = models.Sequential()\n",
        "model.add(layers.Conv2D(32, (3, 3), activation='relu', input_shape=(28, 28, 1)))\n",
        "model.add(layers.Dropout(0.25))\n",
        "\n",
        "model.add(layers.Conv2D(32, (3, 3), activation='relu'))\n",
        "model.add(layers.MaxPooling2D((2, 2)))\n",
        "model.add(layers.Dropout(0.25))\n",
        "\n",
        "model.add(layers.Conv2D(64, (3, 3), activation='relu'))\n",
        "model.add(layers.Dropout(0.25))\n",
        "\n",
        "model.add(layers.Conv2D(64, (3, 3), activation='relu'))\n",
        "model.add(layers.MaxPooling2D((2, 2)))\n",
        "model.add(layers.Dropout(0.25))\n",
        "\n",
        "model.add(layers.Flatten())\n",
        "model.add(layers.Dense(256, activation='relu'))\n",
        "model.add(layers.Dropout(0.25))\n",
        "\n",
        "model.add(layers.Dense(10, activation='softmax'))\n",
        "\n",
        "model.compile(optimizer ='adam',\n",
        "              loss='sparse_categorical_crossentropy',\n",
        "              metrics=['accuracy'])"
      ],
      "execution_count": 0,
      "outputs": []
    },
    {
      "cell_type": "code",
      "metadata": {
        "colab_type": "code",
        "id": "xx_kF0fV54by",
        "colab": {}
      },
      "source": [
        "# keras.utils.plot_model(model, show_shapes=True)"
      ],
      "execution_count": 0,
      "outputs": []
    },
    {
      "cell_type": "markdown",
      "metadata": {
        "colab_type": "text",
        "id": "UYsWClt554b8"
      },
      "source": [
        "##Train the model"
      ]
    },
    {
      "cell_type": "code",
      "metadata": {
        "colab_type": "code",
        "outputId": "6b4ff9e3-582d-4a6f-af27-d2a127eb4fdf",
        "id": "W0cPRohe54b8",
        "colab": {
          "base_uri": "https://localhost:8080/",
          "height": 749
        }
      },
      "source": [
        "train_rt = TrainRuntimeCallback()\n",
        "history = model.fit(train_images, train_labels, callbacks=[train_rt], epochs=20,  batch_size = 50,\n",
        "                    validation_data=(val_images, val_labels))"
      ],
      "execution_count": 80,
      "outputs": [
        {
          "output_type": "stream",
          "text": [
            "Train on 55000 samples, validate on 5000 samples\n",
            "Epoch 1/20\n",
            "55000/55000 [==============================] - 11s 195us/sample - loss: 0.5900 - accuracy: 0.7783 - val_loss: 0.3575 - val_accuracy: 0.8724\n",
            "Epoch 2/20\n",
            "55000/55000 [==============================] - 11s 191us/sample - loss: 0.3700 - accuracy: 0.8650 - val_loss: 0.2905 - val_accuracy: 0.8888\n",
            "Epoch 3/20\n",
            "55000/55000 [==============================] - 10s 187us/sample - loss: 0.3187 - accuracy: 0.8818 - val_loss: 0.2586 - val_accuracy: 0.9032\n",
            "Epoch 4/20\n",
            "55000/55000 [==============================] - 10s 186us/sample - loss: 0.2948 - accuracy: 0.8917 - val_loss: 0.2433 - val_accuracy: 0.9062\n",
            "Epoch 5/20\n",
            "55000/55000 [==============================] - 10s 187us/sample - loss: 0.2770 - accuracy: 0.8979 - val_loss: 0.2375 - val_accuracy: 0.9094\n",
            "Epoch 6/20\n",
            "55000/55000 [==============================] - 10s 188us/sample - loss: 0.2595 - accuracy: 0.9034 - val_loss: 0.2326 - val_accuracy: 0.9092\n",
            "Epoch 7/20\n",
            "55000/55000 [==============================] - 10s 188us/sample - loss: 0.2510 - accuracy: 0.9066 - val_loss: 0.2142 - val_accuracy: 0.9178\n",
            "Epoch 8/20\n",
            "55000/55000 [==============================] - 10s 186us/sample - loss: 0.2436 - accuracy: 0.9091 - val_loss: 0.2105 - val_accuracy: 0.9168\n",
            "Epoch 9/20\n",
            "55000/55000 [==============================] - 10s 187us/sample - loss: 0.2380 - accuracy: 0.9110 - val_loss: 0.2108 - val_accuracy: 0.9210\n",
            "Epoch 10/20\n",
            "55000/55000 [==============================] - 10s 189us/sample - loss: 0.2286 - accuracy: 0.9157 - val_loss: 0.2095 - val_accuracy: 0.9194\n",
            "Epoch 11/20\n",
            "55000/55000 [==============================] - 10s 187us/sample - loss: 0.2251 - accuracy: 0.9159 - val_loss: 0.2058 - val_accuracy: 0.9202\n",
            "Epoch 12/20\n",
            "55000/55000 [==============================] - 10s 186us/sample - loss: 0.2202 - accuracy: 0.9179 - val_loss: 0.2084 - val_accuracy: 0.9214\n",
            "Epoch 13/20\n",
            "55000/55000 [==============================] - 10s 186us/sample - loss: 0.2182 - accuracy: 0.9179 - val_loss: 0.2013 - val_accuracy: 0.9202\n",
            "Epoch 14/20\n",
            "55000/55000 [==============================] - 10s 186us/sample - loss: 0.2098 - accuracy: 0.9220 - val_loss: 0.2034 - val_accuracy: 0.9224\n",
            "Epoch 15/20\n",
            "55000/55000 [==============================] - 10s 186us/sample - loss: 0.2075 - accuracy: 0.9229 - val_loss: 0.1990 - val_accuracy: 0.9196\n",
            "Epoch 16/20\n",
            "55000/55000 [==============================] - 10s 187us/sample - loss: 0.2029 - accuracy: 0.9238 - val_loss: 0.1967 - val_accuracy: 0.9260\n",
            "Epoch 17/20\n",
            "55000/55000 [==============================] - 10s 186us/sample - loss: 0.2035 - accuracy: 0.9246 - val_loss: 0.2025 - val_accuracy: 0.9218\n",
            "Epoch 18/20\n",
            "55000/55000 [==============================] - 10s 186us/sample - loss: 0.1993 - accuracy: 0.9246 - val_loss: 0.2041 - val_accuracy: 0.9192\n",
            "Epoch 19/20\n",
            "55000/55000 [==============================] - 10s 186us/sample - loss: 0.1990 - accuracy: 0.9252 - val_loss: 0.2255 - val_accuracy: 0.9118\n",
            "Epoch 20/20\n",
            "55000/55000 [==============================] - 10s 185us/sample - loss: 0.1987 - accuracy: 0.9250 - val_loss: 0.2023 - val_accuracy: 0.9222\n"
          ],
          "name": "stdout"
        }
      ]
    },
    {
      "cell_type": "code",
      "metadata": {
        "colab_type": "code",
        "outputId": "af7e406d-f889-4d18-9284-e94a69f091bf",
        "id": "9TWf8jpm54cE",
        "colab": {
          "base_uri": "https://localhost:8080/",
          "height": 34
        }
      },
      "source": [
        "# Get the training time\n",
        "train_time = train_rt.process_time\n",
        "train_time # in seconds"
      ],
      "execution_count": 81,
      "outputs": [
        {
          "output_type": "execute_result",
          "data": {
            "text/plain": [
              "207.484062"
            ]
          },
          "metadata": {
            "tags": []
          },
          "execution_count": 81
        }
      ]
    },
    {
      "cell_type": "markdown",
      "metadata": {
        "colab_type": "text",
        "id": "9SCm2ek854cK"
      },
      "source": [
        "## Test the model"
      ]
    },
    {
      "cell_type": "code",
      "metadata": {
        "colab_type": "code",
        "outputId": "407aa45c-eb30-4c96-d1ae-a3a0ba7f3d3c",
        "id": "sbClGhl354cM",
        "colab": {
          "base_uri": "https://localhost:8080/",
          "height": 34
        }
      },
      "source": [
        "test_rt = TestRuntimeCallback()\n",
        "test_loss, test_acc = model.evaluate(test_images, test_labels, callbacks=[test_rt])\n",
        "test_loss, test_acc"
      ],
      "execution_count": 82,
      "outputs": [
        {
          "output_type": "execute_result",
          "data": {
            "text/plain": [
              "(0.2307373955309391, 0.9186)"
            ]
          },
          "metadata": {
            "tags": []
          },
          "execution_count": 82
        }
      ]
    },
    {
      "cell_type": "code",
      "metadata": {
        "colab_type": "code",
        "outputId": "8b07cdf5-62f8-476e-afec-99912cf7d947",
        "id": "8fZc03iT54cS",
        "colab": {
          "base_uri": "https://localhost:8080/",
          "height": 34
        }
      },
      "source": [
        "test_time = test_rt.process_time\n",
        "test_time # in seconds"
      ],
      "execution_count": 83,
      "outputs": [
        {
          "output_type": "execute_result",
          "data": {
            "text/plain": [
              "0.701456"
            ]
          },
          "metadata": {
            "tags": []
          },
          "execution_count": 83
        }
      ]
    },
    {
      "cell_type": "markdown",
      "metadata": {
        "colab_type": "text",
        "id": "NHs7x50x54cX"
      },
      "source": [
        "##Add training and test statistics to results dataframe"
      ]
    },
    {
      "cell_type": "code",
      "metadata": {
        "colab_type": "code",
        "outputId": "44596ab6-de4e-49a5-884b-46bfbb5c9b2c",
        "id": "ZxMTvJVh54cZ",
        "colab": {
          "base_uri": "https://localhost:8080/",
          "height": 206
        }
      },
      "source": [
        "history_dict = history.history\n",
        "history_df=pd.DataFrame(history_dict)\n",
        "history_df.tail()"
      ],
      "execution_count": 84,
      "outputs": [
        {
          "output_type": "execute_result",
          "data": {
            "text/html": [
              "<div>\n",
              "<style scoped>\n",
              "    .dataframe tbody tr th:only-of-type {\n",
              "        vertical-align: middle;\n",
              "    }\n",
              "\n",
              "    .dataframe tbody tr th {\n",
              "        vertical-align: top;\n",
              "    }\n",
              "\n",
              "    .dataframe thead th {\n",
              "        text-align: right;\n",
              "    }\n",
              "</style>\n",
              "<table border=\"1\" class=\"dataframe\">\n",
              "  <thead>\n",
              "    <tr style=\"text-align: right;\">\n",
              "      <th></th>\n",
              "      <th>loss</th>\n",
              "      <th>accuracy</th>\n",
              "      <th>val_loss</th>\n",
              "      <th>val_accuracy</th>\n",
              "    </tr>\n",
              "  </thead>\n",
              "  <tbody>\n",
              "    <tr>\n",
              "      <th>15</th>\n",
              "      <td>0.202850</td>\n",
              "      <td>0.923818</td>\n",
              "      <td>0.196684</td>\n",
              "      <td>0.9260</td>\n",
              "    </tr>\n",
              "    <tr>\n",
              "      <th>16</th>\n",
              "      <td>0.203499</td>\n",
              "      <td>0.924582</td>\n",
              "      <td>0.202539</td>\n",
              "      <td>0.9218</td>\n",
              "    </tr>\n",
              "    <tr>\n",
              "      <th>17</th>\n",
              "      <td>0.199322</td>\n",
              "      <td>0.924636</td>\n",
              "      <td>0.204101</td>\n",
              "      <td>0.9192</td>\n",
              "    </tr>\n",
              "    <tr>\n",
              "      <th>18</th>\n",
              "      <td>0.199041</td>\n",
              "      <td>0.925182</td>\n",
              "      <td>0.225544</td>\n",
              "      <td>0.9118</td>\n",
              "    </tr>\n",
              "    <tr>\n",
              "      <th>19</th>\n",
              "      <td>0.198670</td>\n",
              "      <td>0.925036</td>\n",
              "      <td>0.202349</td>\n",
              "      <td>0.9222</td>\n",
              "    </tr>\n",
              "  </tbody>\n",
              "</table>\n",
              "</div>"
            ],
            "text/plain": [
              "        loss  accuracy  val_loss  val_accuracy\n",
              "15  0.202850  0.923818  0.196684        0.9260\n",
              "16  0.203499  0.924582  0.202539        0.9218\n",
              "17  0.199322  0.924636  0.204101        0.9192\n",
              "18  0.199041  0.925182  0.225544        0.9118\n",
              "19  0.198670  0.925036  0.202349        0.9222"
            ]
          },
          "metadata": {
            "tags": []
          },
          "execution_count": 84
        }
      ]
    },
    {
      "cell_type": "code",
      "metadata": {
        "colab_type": "code",
        "outputId": "5a335692-5f9c-46a7-81ae-15ccf15fd447",
        "id": "aUb_faw354cf",
        "colab": {
          "base_uri": "https://localhost:8080/",
          "height": 150
        }
      },
      "source": [
        "results_dfnew = history_df.iloc[-1:].copy()\n",
        "results_dfnew.insert(0,'model','CNN (4 layers), batch 50') # want the model name to appear first\n",
        "results_dfnew['test_loss'] = test_loss #incorporate test results\n",
        "results_dfnew['test_accuracy'] = test_acc\n",
        "results_dfnew['training time (sec)'] = train_time     \n",
        "results_dfnew['testing time (sec)'] = test_time      # testing time appears last\n",
        "results_dfnew"
      ],
      "execution_count": 85,
      "outputs": [
        {
          "output_type": "execute_result",
          "data": {
            "text/html": [
              "<div>\n",
              "<style scoped>\n",
              "    .dataframe tbody tr th:only-of-type {\n",
              "        vertical-align: middle;\n",
              "    }\n",
              "\n",
              "    .dataframe tbody tr th {\n",
              "        vertical-align: top;\n",
              "    }\n",
              "\n",
              "    .dataframe thead th {\n",
              "        text-align: right;\n",
              "    }\n",
              "</style>\n",
              "<table border=\"1\" class=\"dataframe\">\n",
              "  <thead>\n",
              "    <tr style=\"text-align: right;\">\n",
              "      <th></th>\n",
              "      <th>model</th>\n",
              "      <th>loss</th>\n",
              "      <th>accuracy</th>\n",
              "      <th>val_loss</th>\n",
              "      <th>val_accuracy</th>\n",
              "      <th>test_loss</th>\n",
              "      <th>test_accuracy</th>\n",
              "      <th>training time (sec)</th>\n",
              "      <th>testing time (sec)</th>\n",
              "    </tr>\n",
              "  </thead>\n",
              "  <tbody>\n",
              "    <tr>\n",
              "      <th>19</th>\n",
              "      <td>CNN (4 layers), batch 50</td>\n",
              "      <td>0.19867</td>\n",
              "      <td>0.925036</td>\n",
              "      <td>0.202349</td>\n",
              "      <td>0.9222</td>\n",
              "      <td>0.230737</td>\n",
              "      <td>0.9186</td>\n",
              "      <td>207.484062</td>\n",
              "      <td>0.701456</td>\n",
              "    </tr>\n",
              "  </tbody>\n",
              "</table>\n",
              "</div>"
            ],
            "text/plain": [
              "                       model     loss  ...  training time (sec)  testing time (sec)\n",
              "19  CNN (4 layers), batch 50  0.19867  ...           207.484062            0.701456\n",
              "\n",
              "[1 rows x 9 columns]"
            ]
          },
          "metadata": {
            "tags": []
          },
          "execution_count": 85
        }
      ]
    },
    {
      "cell_type": "code",
      "metadata": {
        "colab_type": "code",
        "outputId": "7329079e-896b-4076-fd98-bfb18999e143",
        "id": "frymqhdA54cj",
        "colab": {
          "base_uri": "https://localhost:8080/",
          "height": 415
        }
      },
      "source": [
        "results_df=results_df.append(results_dfnew,ignore_index=True)\n",
        "results_df"
      ],
      "execution_count": 86,
      "outputs": [
        {
          "output_type": "execute_result",
          "data": {
            "text/html": [
              "<div>\n",
              "<style scoped>\n",
              "    .dataframe tbody tr th:only-of-type {\n",
              "        vertical-align: middle;\n",
              "    }\n",
              "\n",
              "    .dataframe tbody tr th {\n",
              "        vertical-align: top;\n",
              "    }\n",
              "\n",
              "    .dataframe thead th {\n",
              "        text-align: right;\n",
              "    }\n",
              "</style>\n",
              "<table border=\"1\" class=\"dataframe\">\n",
              "  <thead>\n",
              "    <tr style=\"text-align: right;\">\n",
              "      <th></th>\n",
              "      <th>model</th>\n",
              "      <th>loss</th>\n",
              "      <th>accuracy</th>\n",
              "      <th>val_loss</th>\n",
              "      <th>val_accuracy</th>\n",
              "      <th>test_loss</th>\n",
              "      <th>test_accuracy</th>\n",
              "      <th>training time (sec)</th>\n",
              "      <th>testing time (sec)</th>\n",
              "    </tr>\n",
              "  </thead>\n",
              "  <tbody>\n",
              "    <tr>\n",
              "      <th>0</th>\n",
              "      <td>CNN (4 layers), padding1</td>\n",
              "      <td>0.187941</td>\n",
              "      <td>0.927727</td>\n",
              "      <td>0.201251</td>\n",
              "      <td>0.9222</td>\n",
              "      <td>0.229840</td>\n",
              "      <td>0.9171</td>\n",
              "      <td>218.069128</td>\n",
              "      <td>0.767908</td>\n",
              "    </tr>\n",
              "    <tr>\n",
              "      <th>1</th>\n",
              "      <td>CNN (4 layers), padding2</td>\n",
              "      <td>0.179156</td>\n",
              "      <td>0.932255</td>\n",
              "      <td>0.182316</td>\n",
              "      <td>0.9306</td>\n",
              "      <td>0.205239</td>\n",
              "      <td>0.9277</td>\n",
              "      <td>191.595804</td>\n",
              "      <td>0.835073</td>\n",
              "    </tr>\n",
              "    <tr>\n",
              "      <th>2</th>\n",
              "      <td>CNN (4 layers), padding3</td>\n",
              "      <td>0.156231</td>\n",
              "      <td>0.940182</td>\n",
              "      <td>0.191817</td>\n",
              "      <td>0.9288</td>\n",
              "      <td>0.211828</td>\n",
              "      <td>0.9259</td>\n",
              "      <td>227.769529</td>\n",
              "      <td>0.834572</td>\n",
              "    </tr>\n",
              "    <tr>\n",
              "      <th>3</th>\n",
              "      <td>CNN (4 layers), no padding</td>\n",
              "      <td>0.186341</td>\n",
              "      <td>0.929618</td>\n",
              "      <td>0.187195</td>\n",
              "      <td>0.9264</td>\n",
              "      <td>0.212949</td>\n",
              "      <td>0.9239</td>\n",
              "      <td>180.984483</td>\n",
              "      <td>0.744917</td>\n",
              "    </tr>\n",
              "    <tr>\n",
              "      <th>4</th>\n",
              "      <td>CNN (4 layers), batch 50</td>\n",
              "      <td>0.198670</td>\n",
              "      <td>0.925036</td>\n",
              "      <td>0.202349</td>\n",
              "      <td>0.9222</td>\n",
              "      <td>0.230737</td>\n",
              "      <td>0.9186</td>\n",
              "      <td>207.484062</td>\n",
              "      <td>0.701456</td>\n",
              "    </tr>\n",
              "  </tbody>\n",
              "</table>\n",
              "</div>"
            ],
            "text/plain": [
              "                        model  ...  testing time (sec)\n",
              "0    CNN (4 layers), padding1  ...            0.767908\n",
              "1    CNN (4 layers), padding2  ...            0.835073\n",
              "2    CNN (4 layers), padding3  ...            0.834572\n",
              "3  CNN (4 layers), no padding  ...            0.744917\n",
              "4    CNN (4 layers), batch 50  ...            0.701456\n",
              "\n",
              "[5 rows x 9 columns]"
            ]
          },
          "metadata": {
            "tags": []
          },
          "execution_count": 86
        }
      ]
    },
    {
      "cell_type": "markdown",
      "metadata": {
        "colab_type": "text",
        "id": "e7glLMA_54co"
      },
      "source": [
        "## Plotting the performance "
      ]
    },
    {
      "cell_type": "code",
      "metadata": {
        "colab_type": "code",
        "outputId": "3a8a75bf-e03c-4e6a-baee-81706ffc4a7e",
        "id": "HqIKj9we54cp",
        "colab": {
          "base_uri": "https://localhost:8080/",
          "height": 301
        }
      },
      "source": [
        "import matplotlib.pyplot as plt\n",
        "\n",
        "acc = history.history['accuracy']\n",
        "val_acc = history.history['val_accuracy']\n",
        "loss = history.history['loss']\n",
        "val_loss = history.history['val_loss']\n",
        "\n",
        "epochs = range(1, len(acc) + 1)\n",
        "\n",
        "# \"bo\" is for \"blue dot\"\n",
        "plt.plot(epochs, loss, 'bo', label='Training loss')\n",
        "# b is for \"solid blue line\"\n",
        "plt.plot(epochs, val_loss, 'b', label='Validation loss')\n",
        "plt.title('Training and validation loss')\n",
        "\n",
        "plt.xlabel('Epochs')\n",
        "plt.ylabel('Loss')\n",
        "plt.legend()\n",
        "\n",
        "plt.show()"
      ],
      "execution_count": 87,
      "outputs": [
        {
          "output_type": "display_data",
          "data": {
            "image/png": "[encoded data removed]",
            "text/plain": [
              "<Figure size 432x288 with 1 Axes>"
            ]
          },
          "metadata": {
            "tags": [],
            "needs_background": "light"
          }
        }
      ]
    },
    {
      "cell_type": "code",
      "metadata": {
        "colab_type": "code",
        "outputId": "0e70938d-4d08-46b2-e1fd-cf39779d5bbf",
        "id": "evsAMzhN54ct",
        "colab": {
          "base_uri": "https://localhost:8080/",
          "height": 301
        }
      },
      "source": [
        "plt.clf()   # clear figure\n",
        "acc_values = history_dict['accuracy']\n",
        "# val_acc_values = history_dict['val_acc']\n",
        "\n",
        "plt.plot(epochs, acc, 'bo', label='Training acc')\n",
        "plt.plot(epochs, val_acc, 'b', label='Validation acc')\n",
        "plt.title('Training and validation accuracy')\n",
        "\n",
        "plt.xlabel('Epochs')\n",
        "plt.ylabel('Accuracy')\n",
        "plt.legend()\n",
        "\n",
        "plt.show()"
      ],
      "execution_count": 88,
      "outputs": [
        {
          "output_type": "display_data",
          "data": {
            "image/png": "[encoded data removed]",
            "text/plain": [
              "<Figure size 432x288 with 1 Axes>"
            ]
          },
          "metadata": {
            "tags": [],
            "needs_background": "light"
          }
        }
      ]
    },
    {
      "cell_type": "code",
      "metadata": {
        "colab_type": "code",
        "outputId": "8ea9e1e2-0521-4f75-a98e-d76e0264e2d8",
        "id": "ZbTsznNW54c0",
        "colab": {
          "base_uri": "https://localhost:8080/",
          "height": 34
        }
      },
      "source": [
        "# save the model\n",
        "model.save(\"experiment4\")"
      ],
      "execution_count": 89,
      "outputs": [
        {
          "output_type": "stream",
          "text": [
            "INFO:tensorflow:Assets written to: experiment4/assets\n"
          ],
          "name": "stdout"
        }
      ]
    },
    {
      "cell_type": "markdown",
      "metadata": {
        "colab_type": "text",
        "id": "EzGUVW6E5R1x"
      },
      "source": [
        "#Experiment 10\n",
        "4 layer CNN: 64, 64, pool, 128, 128, pool\n"
      ]
    },
    {
      "cell_type": "markdown",
      "metadata": {
        "colab_type": "text",
        "id": "8kXFJzwt5R11"
      },
      "source": [
        "##Build and compile the model"
      ]
    },
    {
      "cell_type": "code",
      "metadata": {
        "colab_type": "code",
        "id": "igaqJXAm5R14",
        "colab": {}
      },
      "source": [
        "model = models.Sequential()\n",
        "model.add(layers.ZeroPadding2D(2))\n",
        "model.add(layers.Conv2D(32, (3, 3), activation='relu', input_shape=(28, 28, 1)))\n",
        "model.add(layers.Dropout(0.25))\n",
        "\n",
        "model.add(layers.Conv2D(32, (3, 3), activation='relu'))\n",
        "model.add(layers.MaxPooling2D((2, 2)))\n",
        "model.add(layers.Dropout(0.25))\n",
        "\n",
        "model.add(layers.Conv2D(64, (3, 3), activation='relu'))\n",
        "model.add(layers.Dropout(0.25))\n",
        "\n",
        "model.add(layers.Conv2D(64, (3, 3), activation='relu'))\n",
        "model.add(layers.MaxPooling2D((2, 2)))\n",
        "model.add(layers.Dropout(0.25))\n",
        "\n",
        "model.add(layers.Flatten())\n",
        "model.add(layers.Dense(256, activation='relu'))\n",
        "model.add(layers.Dropout(0.25))\n",
        "\n",
        "model.add(layers.Dense(10, activation='softmax'))\n",
        "\n",
        "model.compile(optimizer ='adam',\n",
        "              loss='sparse_categorical_crossentropy',\n",
        "              metrics=['accuracy'])"
      ],
      "execution_count": 0,
      "outputs": []
    },
    {
      "cell_type": "code",
      "metadata": {
        "colab_type": "code",
        "id": "f2j731Gn5R2F",
        "colab": {
          "base_uri": "https://localhost:8080/",
          "height": 77
        },
        "outputId": "3b3a9bd4-48da-462a-b9ed-b6011aa1d33d"
      },
      "source": [
        "# keras.utils.plot_model(model, show_shapes=True)"
      ],
      "execution_count": 78,
      "outputs": [
        {
          "output_type": "execute_result",
          "data": {
            "image/png": "[encoded data removed]",
            "text/plain": [
              "<IPython.core.display.Image object>"
            ]
          },
          "metadata": {
            "tags": []
          },
          "execution_count": 78
        }
      ]
    },
    {
      "cell_type": "markdown",
      "metadata": {
        "colab_type": "text",
        "id": "E__a2O975R2M"
      },
      "source": [
        "##Train the model"
      ]
    },
    {
      "cell_type": "code",
      "metadata": {
        "colab_type": "code",
        "outputId": "acd1327b-5790-4ad5-9e81-fdbb33ed99b5",
        "id": "ivj6IoZ15R2N",
        "colab": {
          "base_uri": "https://localhost:8080/",
          "height": 1000
        }
      },
      "source": [
        "train_rt = TrainRuntimeCallback()\n",
        "history = model.fit(train_images, train_labels, callbacks=[train_rt], epochs=30,  batch_size = 100,\n",
        "                    validation_data=(val_images, val_labels))"
      ],
      "execution_count": 65,
      "outputs": [
        {
          "output_type": "stream",
          "text": [
            "Train on 55000 samples, validate on 5000 samples\n",
            "Epoch 1/30\n",
            "55000/55000 [==============================] - 9s 165us/sample - loss: 0.5903 - accuracy: 0.7808 - val_loss: 0.3504 - val_accuracy: 0.8724\n",
            "Epoch 2/30\n",
            "55000/55000 [==============================] - 9s 159us/sample - loss: 0.3678 - accuracy: 0.8632 - val_loss: 0.2809 - val_accuracy: 0.8962\n",
            "Epoch 3/30\n",
            "55000/55000 [==============================] - 9s 159us/sample - loss: 0.3113 - accuracy: 0.8857 - val_loss: 0.2652 - val_accuracy: 0.8984\n",
            "Epoch 4/30\n",
            "55000/55000 [==============================] - 9s 158us/sample - loss: 0.2802 - accuracy: 0.8956 - val_loss: 0.2259 - val_accuracy: 0.9144\n",
            "Epoch 5/30\n",
            "55000/55000 [==============================] - 9s 158us/sample - loss: 0.2570 - accuracy: 0.9035 - val_loss: 0.2174 - val_accuracy: 0.9202\n",
            "Epoch 6/30\n",
            "55000/55000 [==============================] - 9s 158us/sample - loss: 0.2410 - accuracy: 0.9102 - val_loss: 0.2074 - val_accuracy: 0.9222\n",
            "Epoch 7/30\n",
            "55000/55000 [==============================] - 9s 158us/sample - loss: 0.2275 - accuracy: 0.9154 - val_loss: 0.2029 - val_accuracy: 0.9256\n",
            "Epoch 8/30\n",
            "55000/55000 [==============================] - 9s 158us/sample - loss: 0.2179 - accuracy: 0.9189 - val_loss: 0.2000 - val_accuracy: 0.9220\n",
            "Epoch 9/30\n",
            "55000/55000 [==============================] - 9s 157us/sample - loss: 0.2085 - accuracy: 0.9218 - val_loss: 0.1914 - val_accuracy: 0.9248\n",
            "Epoch 10/30\n",
            "55000/55000 [==============================] - 9s 156us/sample - loss: 0.1992 - accuracy: 0.9255 - val_loss: 0.1812 - val_accuracy: 0.9296\n",
            "Epoch 11/30\n",
            "55000/55000 [==============================] - 9s 156us/sample - loss: 0.1934 - accuracy: 0.9263 - val_loss: 0.1815 - val_accuracy: 0.9278\n",
            "Epoch 12/30\n",
            "55000/55000 [==============================] - 9s 156us/sample - loss: 0.1870 - accuracy: 0.9287 - val_loss: 0.1890 - val_accuracy: 0.9292\n",
            "Epoch 13/30\n",
            "55000/55000 [==============================] - 9s 156us/sample - loss: 0.1809 - accuracy: 0.9324 - val_loss: 0.1761 - val_accuracy: 0.9350\n",
            "Epoch 14/30\n",
            "55000/55000 [==============================] - 9s 157us/sample - loss: 0.1746 - accuracy: 0.9346 - val_loss: 0.1818 - val_accuracy: 0.9334\n",
            "Epoch 15/30\n",
            "55000/55000 [==============================] - 9s 157us/sample - loss: 0.1704 - accuracy: 0.9354 - val_loss: 0.1819 - val_accuracy: 0.9332\n",
            "Epoch 16/30\n",
            "55000/55000 [==============================] - 9s 157us/sample - loss: 0.1658 - accuracy: 0.9371 - val_loss: 0.1764 - val_accuracy: 0.9310\n",
            "Epoch 17/30\n",
            "55000/55000 [==============================] - 9s 157us/sample - loss: 0.1608 - accuracy: 0.9396 - val_loss: 0.1819 - val_accuracy: 0.9322\n",
            "Epoch 18/30\n",
            "55000/55000 [==============================] - 9s 156us/sample - loss: 0.1593 - accuracy: 0.9401 - val_loss: 0.1864 - val_accuracy: 0.9314\n",
            "Epoch 19/30\n",
            "55000/55000 [==============================] - 9s 155us/sample - loss: 0.1519 - accuracy: 0.9421 - val_loss: 0.1762 - val_accuracy: 0.9372\n",
            "Epoch 20/30\n",
            "55000/55000 [==============================] - 9s 156us/sample - loss: 0.1507 - accuracy: 0.9430 - val_loss: 0.1795 - val_accuracy: 0.9330\n",
            "Epoch 21/30\n",
            "55000/55000 [==============================] - 9s 156us/sample - loss: 0.1494 - accuracy: 0.9436 - val_loss: 0.1774 - val_accuracy: 0.9354\n",
            "Epoch 22/30\n",
            "55000/55000 [==============================] - 9s 155us/sample - loss: 0.1454 - accuracy: 0.9446 - val_loss: 0.1775 - val_accuracy: 0.9346\n",
            "Epoch 23/30\n",
            "55000/55000 [==============================] - 9s 155us/sample - loss: 0.1420 - accuracy: 0.9456 - val_loss: 0.1893 - val_accuracy: 0.9302\n",
            "Epoch 24/30\n",
            "55000/55000 [==============================] - 9s 156us/sample - loss: 0.1418 - accuracy: 0.9460 - val_loss: 0.1763 - val_accuracy: 0.9336\n",
            "Epoch 25/30\n",
            "55000/55000 [==============================] - 9s 156us/sample - loss: 0.1365 - accuracy: 0.9478 - val_loss: 0.1837 - val_accuracy: 0.9374\n",
            "Epoch 26/30\n",
            "55000/55000 [==============================] - 9s 155us/sample - loss: 0.1349 - accuracy: 0.9494 - val_loss: 0.1803 - val_accuracy: 0.9356\n",
            "Epoch 27/30\n",
            "55000/55000 [==============================] - 9s 155us/sample - loss: 0.1324 - accuracy: 0.9515 - val_loss: 0.1860 - val_accuracy: 0.9364\n",
            "Epoch 28/30\n",
            "55000/55000 [==============================] - 9s 157us/sample - loss: 0.1327 - accuracy: 0.9497 - val_loss: 0.2038 - val_accuracy: 0.9318\n",
            "Epoch 29/30\n",
            "55000/55000 [==============================] - 9s 156us/sample - loss: 0.1295 - accuracy: 0.9502 - val_loss: 0.1815 - val_accuracy: 0.9372\n",
            "Epoch 30/30\n",
            "55000/55000 [==============================] - 9s 156us/sample - loss: 0.1274 - accuracy: 0.9529 - val_loss: 0.1856 - val_accuracy: 0.9392\n"
          ],
          "name": "stdout"
        }
      ]
    },
    {
      "cell_type": "code",
      "metadata": {
        "colab_type": "code",
        "outputId": "802173e1-3572-45a8-bd8a-129e957919b7",
        "id": "XhASxP9B5R2T",
        "colab": {
          "base_uri": "https://localhost:8080/",
          "height": 34
        }
      },
      "source": [
        "# Get the training time\n",
        "train_time = train_rt.process_time\n",
        "train_time # in seconds"
      ],
      "execution_count": 66,
      "outputs": [
        {
          "output_type": "execute_result",
          "data": {
            "text/plain": [
              "260.749492"
            ]
          },
          "metadata": {
            "tags": []
          },
          "execution_count": 66
        }
      ]
    },
    {
      "cell_type": "code",
      "metadata": {
        "id": "LFxn_JM0h6ul",
        "colab_type": "code",
        "colab": {
          "base_uri": "https://localhost:8080/",
          "height": 677
        },
        "outputId": "79571838-7c23-4a78-a66d-621c0f737d8e"
      },
      "source": [
        "model.summary()"
      ],
      "execution_count": 75,
      "outputs": [
        {
          "output_type": "stream",
          "text": [
            "Model: \"sequential_5\"\n",
            "_________________________________________________________________\n",
            "Layer (type)                 Output Shape              Param #   \n",
            "=================================================================\n",
            "zero_padding2d_3 (ZeroPaddin multiple                  0         \n",
            "_________________________________________________________________\n",
            "conv2d_20 (Conv2D)           multiple                  320       \n",
            "_________________________________________________________________\n",
            "dropout_25 (Dropout)         multiple                  0         \n",
            "_________________________________________________________________\n",
            "conv2d_21 (Conv2D)           multiple                  9248      \n",
            "_________________________________________________________________\n",
            "max_pooling2d_10 (MaxPooling multiple                  0         \n",
            "_________________________________________________________________\n",
            "dropout_26 (Dropout)         multiple                  0         \n",
            "_________________________________________________________________\n",
            "conv2d_22 (Conv2D)           multiple                  18496     \n",
            "_________________________________________________________________\n",
            "dropout_27 (Dropout)         multiple                  0         \n",
            "_________________________________________________________________\n",
            "conv2d_23 (Conv2D)           multiple                  36928     \n",
            "_________________________________________________________________\n",
            "max_pooling2d_11 (MaxPooling multiple                  0         \n",
            "_________________________________________________________________\n",
            "dropout_28 (Dropout)         multiple                  0         \n",
            "_________________________________________________________________\n",
            "flatten_5 (Flatten)          multiple                  0         \n",
            "_________________________________________________________________\n",
            "dense_10 (Dense)             multiple                  409856    \n",
            "_________________________________________________________________\n",
            "dropout_29 (Dropout)         multiple                  0         \n",
            "_________________________________________________________________\n",
            "dense_11 (Dense)             multiple                  2570      \n",
            "=================================================================\n",
            "Total params: 477,418\n",
            "Trainable params: 477,418\n",
            "Non-trainable params: 0\n",
            "_________________________________________________________________\n"
          ],
          "name": "stdout"
        }
      ]
    },
    {
      "cell_type": "markdown",
      "metadata": {
        "colab_type": "text",
        "id": "sHbqU92V5R2Z"
      },
      "source": [
        "## Test the model"
      ]
    },
    {
      "cell_type": "code",
      "metadata": {
        "colab_type": "code",
        "outputId": "c0a251b8-3e0a-4867-af30-307333af2c40",
        "id": "0edEwgrH5R2a",
        "colab": {
          "base_uri": "https://localhost:8080/",
          "height": 34
        }
      },
      "source": [
        "test_rt = TestRuntimeCallback()\n",
        "test_loss, test_acc = model.evaluate(test_images, test_labels, callbacks=[test_rt])\n",
        "test_loss, test_acc"
      ],
      "execution_count": 67,
      "outputs": [
        {
          "output_type": "execute_result",
          "data": {
            "text/plain": [
              "(0.20898484981656074, 0.9324)"
            ]
          },
          "metadata": {
            "tags": []
          },
          "execution_count": 67
        }
      ]
    },
    {
      "cell_type": "code",
      "metadata": {
        "colab_type": "code",
        "outputId": "ead7ce23-7120-4f1f-c5f6-b9f1f55610d3",
        "id": "kgS21yaQ5R2e",
        "colab": {
          "base_uri": "https://localhost:8080/",
          "height": 34
        }
      },
      "source": [
        "test_time = test_rt.process_time\n",
        "test_time # in seconds"
      ],
      "execution_count": 68,
      "outputs": [
        {
          "output_type": "execute_result",
          "data": {
            "text/plain": [
              "0.543794"
            ]
          },
          "metadata": {
            "tags": []
          },
          "execution_count": 68
        }
      ]
    },
    {
      "cell_type": "markdown",
      "metadata": {
        "colab_type": "text",
        "id": "H3xueTAZ5R2l"
      },
      "source": [
        "##Add training and test statistics to results dataframe"
      ]
    },
    {
      "cell_type": "code",
      "metadata": {
        "colab_type": "code",
        "outputId": "e2fe16b5-ec16-46f8-d1ad-3c774a2cfaa8",
        "id": "q_UimrbW5R2l",
        "colab": {
          "base_uri": "https://localhost:8080/",
          "height": 206
        }
      },
      "source": [
        "history_dict = history.history\n",
        "history_df=pd.DataFrame(history_dict)\n",
        "history_df.tail()"
      ],
      "execution_count": 69,
      "outputs": [
        {
          "output_type": "execute_result",
          "data": {
            "text/html": [
              "<div>\n",
              "<style scoped>\n",
              "    .dataframe tbody tr th:only-of-type {\n",
              "        vertical-align: middle;\n",
              "    }\n",
              "\n",
              "    .dataframe tbody tr th {\n",
              "        vertical-align: top;\n",
              "    }\n",
              "\n",
              "    .dataframe thead th {\n",
              "        text-align: right;\n",
              "    }\n",
              "</style>\n",
              "<table border=\"1\" class=\"dataframe\">\n",
              "  <thead>\n",
              "    <tr style=\"text-align: right;\">\n",
              "      <th></th>\n",
              "      <th>loss</th>\n",
              "      <th>accuracy</th>\n",
              "      <th>val_loss</th>\n",
              "      <th>val_accuracy</th>\n",
              "    </tr>\n",
              "  </thead>\n",
              "  <tbody>\n",
              "    <tr>\n",
              "      <th>25</th>\n",
              "      <td>0.134879</td>\n",
              "      <td>0.949400</td>\n",
              "      <td>0.180258</td>\n",
              "      <td>0.9356</td>\n",
              "    </tr>\n",
              "    <tr>\n",
              "      <th>26</th>\n",
              "      <td>0.132379</td>\n",
              "      <td>0.951491</td>\n",
              "      <td>0.186000</td>\n",
              "      <td>0.9364</td>\n",
              "    </tr>\n",
              "    <tr>\n",
              "      <th>27</th>\n",
              "      <td>0.132652</td>\n",
              "      <td>0.949673</td>\n",
              "      <td>0.203803</td>\n",
              "      <td>0.9318</td>\n",
              "    </tr>\n",
              "    <tr>\n",
              "      <th>28</th>\n",
              "      <td>0.129548</td>\n",
              "      <td>0.950164</td>\n",
              "      <td>0.181531</td>\n",
              "      <td>0.9372</td>\n",
              "    </tr>\n",
              "    <tr>\n",
              "      <th>29</th>\n",
              "      <td>0.127383</td>\n",
              "      <td>0.952945</td>\n",
              "      <td>0.185557</td>\n",
              "      <td>0.9392</td>\n",
              "    </tr>\n",
              "  </tbody>\n",
              "</table>\n",
              "</div>"
            ],
            "text/plain": [
              "        loss  accuracy  val_loss  val_accuracy\n",
              "25  0.134879  0.949400  0.180258        0.9356\n",
              "26  0.132379  0.951491  0.186000        0.9364\n",
              "27  0.132652  0.949673  0.203803        0.9318\n",
              "28  0.129548  0.950164  0.181531        0.9372\n",
              "29  0.127383  0.952945  0.185557        0.9392"
            ]
          },
          "metadata": {
            "tags": []
          },
          "execution_count": 69
        }
      ]
    },
    {
      "cell_type": "code",
      "metadata": {
        "colab_type": "code",
        "outputId": "dc7154fe-4c4a-4720-ecb9-03d65962eee2",
        "id": "VXjH5gdN5R2s",
        "colab": {
          "base_uri": "https://localhost:8080/",
          "height": 188
        }
      },
      "source": [
        "results_dfnew = history_df.iloc[-1:].copy()\n",
        "results_dfnew.insert(0,'model','CNN (4 layers), padding2, epochs30b') # want the model name to appear first\n",
        "results_dfnew['test_loss'] = test_loss #incorporate test results\n",
        "results_dfnew['test_accuracy'] = test_acc\n",
        "results_dfnew['training time (sec)'] = train_time     \n",
        "results_dfnew['testing time (sec)'] = test_time      # testing time appears last\n",
        "results_dfnew"
      ],
      "execution_count": 70,
      "outputs": [
        {
          "output_type": "execute_result",
          "data": {
            "text/html": [
              "<div>\n",
              "<style scoped>\n",
              "    .dataframe tbody tr th:only-of-type {\n",
              "        vertical-align: middle;\n",
              "    }\n",
              "\n",
              "    .dataframe tbody tr th {\n",
              "        vertical-align: top;\n",
              "    }\n",
              "\n",
              "    .dataframe thead th {\n",
              "        text-align: right;\n",
              "    }\n",
              "</style>\n",
              "<table border=\"1\" class=\"dataframe\">\n",
              "  <thead>\n",
              "    <tr style=\"text-align: right;\">\n",
              "      <th></th>\n",
              "      <th>model</th>\n",
              "      <th>loss</th>\n",
              "      <th>accuracy</th>\n",
              "      <th>val_loss</th>\n",
              "      <th>val_accuracy</th>\n",
              "      <th>test_loss</th>\n",
              "      <th>test_accuracy</th>\n",
              "      <th>training time (sec)</th>\n",
              "      <th>testing time (sec)</th>\n",
              "    </tr>\n",
              "  </thead>\n",
              "  <tbody>\n",
              "    <tr>\n",
              "      <th>29</th>\n",
              "      <td>CNN (4 layers), padding2, epochs30b</td>\n",
              "      <td>0.127383</td>\n",
              "      <td>0.952945</td>\n",
              "      <td>0.185557</td>\n",
              "      <td>0.9392</td>\n",
              "      <td>0.208985</td>\n",
              "      <td>0.9324</td>\n",
              "      <td>260.749492</td>\n",
              "      <td>0.543794</td>\n",
              "    </tr>\n",
              "  </tbody>\n",
              "</table>\n",
              "</div>"
            ],
            "text/plain": [
              "                                  model  ...  testing time (sec)\n",
              "29  CNN (4 layers), padding2, epochs30b  ...            0.543794\n",
              "\n",
              "[1 rows x 9 columns]"
            ]
          },
          "metadata": {
            "tags": []
          },
          "execution_count": 70
        }
      ]
    },
    {
      "cell_type": "code",
      "metadata": {
        "colab_type": "code",
        "outputId": "e1921526-3cd6-43f1-8b95-b9b597d33087",
        "id": "35Mrtlj95R2w",
        "colab": {
          "base_uri": "https://localhost:8080/",
          "height": 452
        }
      },
      "source": [
        "results_df=results_df.append(results_dfnew,ignore_index=True)\n",
        "results_df"
      ],
      "execution_count": 71,
      "outputs": [
        {
          "output_type": "execute_result",
          "data": {
            "text/html": [
              "<div>\n",
              "<style scoped>\n",
              "    .dataframe tbody tr th:only-of-type {\n",
              "        vertical-align: middle;\n",
              "    }\n",
              "\n",
              "    .dataframe tbody tr th {\n",
              "        vertical-align: top;\n",
              "    }\n",
              "\n",
              "    .dataframe thead th {\n",
              "        text-align: right;\n",
              "    }\n",
              "</style>\n",
              "<table border=\"1\" class=\"dataframe\">\n",
              "  <thead>\n",
              "    <tr style=\"text-align: right;\">\n",
              "      <th></th>\n",
              "      <th>model</th>\n",
              "      <th>loss</th>\n",
              "      <th>accuracy</th>\n",
              "      <th>val_loss</th>\n",
              "      <th>val_accuracy</th>\n",
              "      <th>test_loss</th>\n",
              "      <th>test_accuracy</th>\n",
              "      <th>training time (sec)</th>\n",
              "      <th>testing time (sec)</th>\n",
              "    </tr>\n",
              "  </thead>\n",
              "  <tbody>\n",
              "    <tr>\n",
              "      <th>0</th>\n",
              "      <td>CNN (4 layers), padding1</td>\n",
              "      <td>0.192344</td>\n",
              "      <td>0.927236</td>\n",
              "      <td>0.201182</td>\n",
              "      <td>0.9252</td>\n",
              "      <td>0.226993</td>\n",
              "      <td>0.9216</td>\n",
              "      <td>172.042142</td>\n",
              "      <td>0.675763</td>\n",
              "    </tr>\n",
              "    <tr>\n",
              "      <th>1</th>\n",
              "      <td>CNN (4 layers), padding2</td>\n",
              "      <td>0.179967</td>\n",
              "      <td>0.932836</td>\n",
              "      <td>0.178328</td>\n",
              "      <td>0.9320</td>\n",
              "      <td>0.201932</td>\n",
              "      <td>0.9253</td>\n",
              "      <td>153.062832</td>\n",
              "      <td>0.683993</td>\n",
              "    </tr>\n",
              "    <tr>\n",
              "      <th>2</th>\n",
              "      <td>CNN (4 layers), padding3</td>\n",
              "      <td>0.157452</td>\n",
              "      <td>0.939255</td>\n",
              "      <td>0.177916</td>\n",
              "      <td>0.9302</td>\n",
              "      <td>0.201918</td>\n",
              "      <td>0.9285</td>\n",
              "      <td>185.794800</td>\n",
              "      <td>0.716905</td>\n",
              "    </tr>\n",
              "    <tr>\n",
              "      <th>3</th>\n",
              "      <td>CNN (4 layers), no padding</td>\n",
              "      <td>0.185574</td>\n",
              "      <td>0.931291</td>\n",
              "      <td>0.190087</td>\n",
              "      <td>0.9264</td>\n",
              "      <td>0.207297</td>\n",
              "      <td>0.9242</td>\n",
              "      <td>139.408252</td>\n",
              "      <td>0.688485</td>\n",
              "    </tr>\n",
              "    <tr>\n",
              "      <th>4</th>\n",
              "      <td>CNN (4 layers), padding2, epochs30b</td>\n",
              "      <td>0.127383</td>\n",
              "      <td>0.952945</td>\n",
              "      <td>0.185557</td>\n",
              "      <td>0.9392</td>\n",
              "      <td>0.208985</td>\n",
              "      <td>0.9324</td>\n",
              "      <td>260.749492</td>\n",
              "      <td>0.543794</td>\n",
              "    </tr>\n",
              "  </tbody>\n",
              "</table>\n",
              "</div>"
            ],
            "text/plain": [
              "                                 model  ...  testing time (sec)\n",
              "0             CNN (4 layers), padding1  ...            0.675763\n",
              "1             CNN (4 layers), padding2  ...            0.683993\n",
              "2             CNN (4 layers), padding3  ...            0.716905\n",
              "3           CNN (4 layers), no padding  ...            0.688485\n",
              "4  CNN (4 layers), padding2, epochs30b  ...            0.543794\n",
              "\n",
              "[5 rows x 9 columns]"
            ]
          },
          "metadata": {
            "tags": []
          },
          "execution_count": 71
        }
      ]
    },
    {
      "cell_type": "markdown",
      "metadata": {
        "colab_type": "text",
        "id": "GIcm7hDt7rrB"
      },
      "source": [
        "## Plotting the performance "
      ]
    },
    {
      "cell_type": "code",
      "metadata": {
        "colab_type": "code",
        "outputId": "ef7ff75b-1ff5-47d6-e880-a0e0d3946523",
        "id": "WD85UJLd7rrE",
        "colab": {
          "base_uri": "https://localhost:8080/",
          "height": 301
        }
      },
      "source": [
        "import matplotlib.pyplot as plt\n",
        "\n",
        "acc = history.history['accuracy']\n",
        "val_acc = history.history['val_accuracy']\n",
        "loss = history.history['loss']\n",
        "val_loss = history.history['val_loss']\n",
        "\n",
        "epochs = range(1, len(acc) + 1)\n",
        "\n",
        "# \"bo\" is for \"blue dot\"\n",
        "plt.plot(epochs, loss, 'bo', label='Training loss')\n",
        "# b is for \"solid blue line\"\n",
        "plt.plot(epochs, val_loss, 'b', label='Validation loss')\n",
        "plt.title('Training and validation loss')\n",
        "\n",
        "plt.xlabel('Epochs')\n",
        "plt.ylabel('Loss')\n",
        "plt.legend()\n",
        "\n",
        "plt.show()"
      ],
      "execution_count": 72,
      "outputs": [
        {
          "output_type": "display_data",
          "data": {
            "image/png": "[encoded data removed]",
            "text/plain": [
              "<Figure size 432x288 with 1 Axes>"
            ]
          },
          "metadata": {
            "tags": []
          }
        }
      ]
    },
    {
      "cell_type": "code",
      "metadata": {
        "colab_type": "code",
        "outputId": "acfa9509-ebf8-4d33-c47d-e91926794ee3",
        "id": "0F5IqKgt7rrR",
        "colab": {
          "base_uri": "https://localhost:8080/",
          "height": 301
        }
      },
      "source": [
        "plt.clf()   # clear figure\n",
        "acc_values = history_dict['accuracy']\n",
        "# val_acc_values = history_dict['val_acc']\n",
        "\n",
        "plt.plot(epochs, acc, 'bo', label='Training acc')\n",
        "plt.plot(epochs, val_acc, 'b', label='Validation acc')\n",
        "plt.title('Training and validation accuracy')\n",
        "\n",
        "plt.xlabel('Epochs')\n",
        "plt.ylabel('Accuracy')\n",
        "plt.legend()\n",
        "\n",
        "plt.show()"
      ],
      "execution_count": 73,
      "outputs": [
        {
          "output_type": "display_data",
          "data": {
            "image/png": "[encoded data removed]",
            "text/plain": [
              "<Figure size 432x288 with 1 Axes>"
            ]
          },
          "metadata": {
            "tags": []
          }
        }
      ]
    },
    {
      "cell_type": "markdown",
      "metadata": {
        "id": "hIi6ZofBGYrH",
        "colab_type": "text"
      },
      "source": [
        "#Export final results"
      ]
    },
    {
      "cell_type": "code",
      "metadata": {
        "id": "MN4fklj4AZzQ",
        "colab_type": "code",
        "colab": {}
      },
      "source": [
        "#Export results dataframe\n",
        "\n",
        "from google.colab import files\n",
        "\n",
        "results_df.to_csv('A2_4layer-padding.csv')\n",
        "files.download('A2_4layer-padding.csv')"
      ],
      "execution_count": 0,
      "outputs": []
    },
    {
      "cell_type": "code",
      "metadata": {
        "id": "uXla8a-61n1P",
        "colab_type": "code",
        "colab": {}
      },
      "source": [
        ""
      ],
      "execution_count": 0,
      "outputs": []
    }
  ]
}