{
  "nbformat": 4,
  "nbformat_minor": 0,
  "metadata": {
    "colab": {
      "name": "458_Assignment1_Expt3.ipynb",
      "provenance": [],
      "authorship_tag": "ABX9TyNXN0NjhTMUWMEANesRqxn8",
      "include_colab_link": true
    },
    "kernelspec": {
      "name": "python3",
      "display_name": "Python 3"
    },
    "accelerator": "GPU"
  },
  "cells": [
    {
      "cell_type": "markdown",
      "metadata": {
        "id": "view-in-github",
        "colab_type": "text"
      },
      "source": [
        "<a href=\"https://colab.research.google.com/github/Danika-Balas/msds-458/blob/master/458_Assignment1_Expt3_h1-85_h2-range60-72.ipynb\" target=\"_parent\"><img src=\"https://colab.research.google.com/assets/colab-badge.svg\" alt=\"Open In Colab\"/></a>"
      ]
    },
    {
      "cell_type": "markdown",
      "metadata": {
        "id": "tlSigYwlVuKR",
        "colab_type": "text"
      },
      "source": [
        "##Setup and Preprocessing"
      ]
    },
    {
      "cell_type": "code",
      "metadata": {
        "id": "_D8jpVsoTpY4",
        "colab_type": "code",
        "outputId": "fd5d9273-be7a-4f63-88be-e611a3259f7e",
        "colab": {
          "base_uri": "https://localhost:8080/",
          "height": 88
        }
      },
      "source": [
        "import numpy as np\n",
        "import pandas as pd\n",
        "\n",
        "import seaborn as sns\n",
        "import matplotlib.pyplot as plt\n",
        "%matplotlib inline\n",
        "sns.set(style=\"whitegrid\")\n",
        "\n",
        "from sklearn import metrics\n",
        "\n",
        "import tensorflow as tf\n",
        "from tensorflow import keras\n",
        "keras.__version__"
      ],
      "execution_count": 2,
      "outputs": [
        {
          "output_type": "stream",
          "text": [
            "/usr/local/lib/python3.6/dist-packages/statsmodels/tools/_testing.py:19: FutureWarning: pandas.util.testing is deprecated. Use the functions in the public API at pandas.testing instead.\n",
            "  import pandas.util.testing as tm\n"
          ],
          "name": "stderr"
        },
        {
          "output_type": "execute_result",
          "data": {
            "text/plain": [
              "'2.3.0-tf'"
            ]
          },
          "metadata": {
            "tags": []
          },
          "execution_count": 2
        }
      ]
    },
    {
      "cell_type": "code",
      "metadata": {
        "id": "tZZtq6bpWITd",
        "colab_type": "code",
        "outputId": "bf41f0e7-8204-4df6-8122-f612d2e26e24",
        "colab": {
          "base_uri": "https://localhost:8080/",
          "height": 34
        }
      },
      "source": [
        "tf.__version__"
      ],
      "execution_count": 3,
      "outputs": [
        {
          "output_type": "execute_result",
          "data": {
            "text/plain": [
              "'2.2.0-rc3'"
            ]
          },
          "metadata": {
            "tags": []
          },
          "execution_count": 3
        }
      ]
    },
    {
      "cell_type": "code",
      "metadata": {
        "id": "Rp2_1vRkVgVJ",
        "colab_type": "code",
        "colab": {
          "base_uri": "https://localhost:8080/",
          "height": 34
        },
        "outputId": "5b208711-460a-43ad-a216-e26541935424"
      },
      "source": [
        "from keras import metrics"
      ],
      "execution_count": 4,
      "outputs": [
        {
          "output_type": "stream",
          "text": [
            "Using TensorFlow backend.\n"
          ],
          "name": "stderr"
        }
      ]
    },
    {
      "cell_type": "code",
      "metadata": {
        "id": "BO5dsO7-WLFE",
        "colab_type": "code",
        "colab": {}
      },
      "source": [
        "# neccessary for K.gradient to work in TensorFlow 2.x\n",
        "# only needed for the \"Finding a pattern the hidden node maximally responds to\" section below.\n",
        "# but disabled to make Tensorboard work...\n",
        "tf.compat.v1.disable_eager_execution() "
      ],
      "execution_count": 0,
      "outputs": []
    },
    {
      "cell_type": "code",
      "metadata": {
        "id": "fTtBYXtHWztP",
        "colab_type": "code",
        "colab": {}
      },
      "source": [
        "# Set see in order to achieve consistent results across runs\n",
        "keras.backend.clear_session()\n",
        "np.random.seed(42)\n",
        "tf.random.set_seed(42)"
      ],
      "execution_count": 0,
      "outputs": []
    },
    {
      "cell_type": "markdown",
      "metadata": {
        "id": "wpqFxPDEXFup",
        "colab_type": "text"
      },
      "source": [
        "####Import MNIST dataset"
      ]
    },
    {
      "cell_type": "code",
      "metadata": {
        "id": "65M8kDjCXA0p",
        "colab_type": "code",
        "colab": {
          "base_uri": "https://localhost:8080/",
          "height": 51
        },
        "outputId": "aafb8ab6-5884-4e09-cf5a-f5e79fffbabb"
      },
      "source": [
        "from tensorflow.keras.datasets import mnist\n",
        "(train_images, train_labels), (test_images, test_labels) = mnist.load_data()"
      ],
      "execution_count": 7,
      "outputs": [
        {
          "output_type": "stream",
          "text": [
            "Downloading data from https://storage.googleapis.com/tensorflow/tf-keras-datasets/mnist.npz\n",
            "11493376/11490434 [==============================] - 0s 0us/step\n"
          ],
          "name": "stdout"
        }
      ]
    },
    {
      "cell_type": "code",
      "metadata": {
        "id": "5ye8BcA0XYvH",
        "colab_type": "code",
        "outputId": "0233d01b-b5fc-4133-d3af-c5ca7cde8902",
        "colab": {
          "base_uri": "https://localhost:8080/",
          "height": 34
        }
      },
      "source": [
        "train_images.shape, test_images.shape, test_labels.shape, test_labels.shape"
      ],
      "execution_count": 8,
      "outputs": [
        {
          "output_type": "execute_result",
          "data": {
            "text/plain": [
              "((60000, 28, 28), (10000, 28, 28), (10000,), (10000,))"
            ]
          },
          "metadata": {
            "tags": []
          },
          "execution_count": 8
        }
      ]
    },
    {
      "cell_type": "code",
      "metadata": {
        "id": "M5gJtcFsOpHi",
        "colab_type": "code",
        "outputId": "bdec1648-4206-4c0c-83d0-8853ff249e91",
        "colab": {
          "base_uri": "https://localhost:8080/",
          "height": 34
        }
      },
      "source": [
        "#Store copy of training images in order to easily view images even after transformation are performed\n",
        "example_train_images = train_images.copy()\n",
        "example_train_images.shape"
      ],
      "execution_count": 9,
      "outputs": [
        {
          "output_type": "execute_result",
          "data": {
            "text/plain": [
              "(60000, 28, 28)"
            ]
          },
          "metadata": {
            "tags": []
          },
          "execution_count": 9
        }
      ]
    },
    {
      "cell_type": "code",
      "metadata": {
        "id": "jJIB5WuVXwK2",
        "colab_type": "code",
        "outputId": "5ac84429-445a-4d80-9636-16e6682a1fea",
        "colab": {
          "base_uri": "https://localhost:8080/",
          "height": 268
        }
      },
      "source": [
        "# Example of a single sample, a 28x28 pixel image of a handwritten digit\n",
        "digit = example_train_images[2]\n",
        "\n",
        "plt.imshow(digit, cmap=plt.cm.binary)\n",
        "plt.show()"
      ],
      "execution_count": 10,
      "outputs": [
        {
          "output_type": "display_data",
          "data": {
            "image/png": "[encoded data removed]",
            "text/plain": [
              "<Figure size 432x288 with 1 Axes>"
            ]
          },
          "metadata": {
            "tags": []
          }
        }
      ]
    },
    {
      "cell_type": "markdown",
      "metadata": {
        "id": "Nsn_iI4MqBtg",
        "colab_type": "text"
      },
      "source": [
        "####Prepare the data"
      ]
    },
    {
      "cell_type": "code",
      "metadata": {
        "id": "9ME7Vm7GYCwq",
        "colab_type": "code",
        "colab": {}
      },
      "source": [
        "# Reshape the data into the shape that the network expects\n",
        "train_images = train_images.reshape((60000, 28 * 28))\n",
        "\n",
        "# Scale the data to [0,1] interval\n",
        "train_images = train_images.astype('float32') / 255\n",
        "\n",
        "# Do the same for the test dataset\n",
        "test_images = test_images.reshape((10000, 28 * 28))\n",
        "test_images = test_images.astype('float32') / 255"
      ],
      "execution_count": 0,
      "outputs": []
    },
    {
      "cell_type": "code",
      "metadata": {
        "id": "ElgA23UFq0lB",
        "colab_type": "code",
        "colab": {}
      },
      "source": [
        "# Split training data into training set and validation set\n",
        "val_images, train_images = train_images[:5000], train_images[5000:]\n",
        "val_labels, train_labels = train_labels[:5000], train_labels[5000:]"
      ],
      "execution_count": 0,
      "outputs": []
    },
    {
      "cell_type": "markdown",
      "metadata": {
        "id": "fmDzWxIu78_L",
        "colab_type": "text"
      },
      "source": [
        "#Experiment 3"
      ]
    },
    {
      "cell_type": "markdown",
      "metadata": {
        "id": "x5_ueNa18nef",
        "colab_type": "text"
      },
      "source": [
        "We will fine-tune the hyperparameters of the model until we find the 'best' model according to our selected metrics"
      ]
    },
    {
      "cell_type": "code",
      "metadata": {
        "id": "DqLphCVo8D9c",
        "colab_type": "code",
        "colab": {}
      },
      "source": [
        "# Function builds models with 1 hidden layer (by default), then the same number of nodes in each hidden layer\n",
        "from tensorflow.keras import models\n",
        "from tensorflow.keras import layers\n",
        "\n",
        "def build_model(n_hidden=1, n_neurons=2, learning_rate=0.001, input_shape=(28 * 28,)):\n",
        "    model = models.Sequential()\n",
        "    model.add(layers.InputLayer(input_shape=input_shape))\n",
        "    model.add(keras.layers.Dense(85, activation=\"relu\"))\n",
        "    for layer in range(n_hidden):\n",
        "        model.add(keras.layers.Dense(n_neurons, activation=\"relu\"))\n",
        "    model.add(keras.layers.Dropout(0.25))\n",
        "    model.add(layers.Dense(10, activation='softmax'))\n",
        "    optimizer = keras.optimizers.Adam(lr=learning_rate)\n",
        "    model.compile(loss='sparse_categorical_crossentropy', optimizer=optimizer,  metrics=['accuracy'])\n",
        "    return model"
      ],
      "execution_count": 0,
      "outputs": []
    },
    {
      "cell_type": "code",
      "metadata": {
        "id": "P8yORVMj93Hv",
        "colab_type": "code",
        "colab": {}
      },
      "source": [
        "# This function builds models with varying number of nodes in each hidden layer\n",
        "def build_model2(n_neurons=(2,3), learning_rate=0.001, input_shape=(28 * 28,)):\n",
        "    model = models.Sequential()\n",
        "    model.add(layers.InputLayer(input_shape=input_shape))\n",
        "    for layer in range(len(n_neurons)):\n",
        "        model.add(keras.layers.Dense(n_neurons[layer], activation=\"relu\"))\n",
        "    model.add(layers.Dense(10, activation='softmax'))\n",
        "    optimizer = keras.optimizers.Adam(lr=learning_rate)\n",
        "    model.compile(loss='sparse_categorical_crossentropy', optimizer=optimizer,  metrics=['accuracy'])\n",
        "    return model"
      ],
      "execution_count": 0,
      "outputs": []
    },
    {
      "cell_type": "code",
      "metadata": {
        "id": "m40FBZQsFRlD",
        "colab_type": "code",
        "colab": {}
      },
      "source": [
        "from tensorflow.keras.wrappers.scikit_learn import KerasClassifier\n",
        "keras_clf = KerasClassifier(build_model)"
      ],
      "execution_count": 0,
      "outputs": []
    },
    {
      "cell_type": "code",
      "metadata": {
        "id": "n3DYgnj-FY6k",
        "colab_type": "code",
        "outputId": "c43a7558-7cf4-45b4-bc2f-5bbc88714b46",
        "colab": {
          "base_uri": "https://localhost:8080/",
          "height": 34
        }
      },
      "source": [
        "param_grid = {'n_neurons': range(60, 99)}\n",
        "param_grid"
      ],
      "execution_count": 16,
      "outputs": [
        {
          "output_type": "execute_result",
          "data": {
            "text/plain": [
              "{'n_neurons': range(60, 99)}"
            ]
          },
          "metadata": {
            "tags": []
          },
          "execution_count": 16
        }
      ]
    },
    {
      "cell_type": "markdown",
      "metadata": {
        "id": "elLBPW5OF27j",
        "colab_type": "text"
      },
      "source": [
        "Use grid search to train models with different combinations of parameter values"
      ]
    },
    {
      "cell_type": "code",
      "metadata": {
        "id": "crzvlHtkNm3n",
        "colab_type": "code",
        "colab": {
          "base_uri": "https://localhost:8080/",
          "height": 1000
        },
        "outputId": "cdbe7c09-3ab4-4ba9-9431-f18a944fc6c9"
      },
      "source": [
        "from sklearn.model_selection import GridSearchCV\n",
        "\n",
        "grid_cv = GridSearchCV(estimator=keras_clf, param_grid=param_grid,cv=3,verbose = 2)\n",
        "grid_cv.fit(train_images, train_labels, epochs=30,\n",
        "                  validation_data=(val_images, val_labels),\n",
        "                  callbacks=[keras.callbacks.EarlyStopping(patience=2)])"
      ],
      "execution_count": 0,
      "outputs": [
        {
          "output_type": "stream",
          "text": [
            "Fitting 3 folds for each of 39 candidates, totalling 117 fits\n",
            "[CV] n_neurons=60 ....................................................\n",
            "WARNING:tensorflow:From /usr/local/lib/python3.6/dist-packages/tensorflow/python/ops/resource_variable_ops.py:1666: calling BaseResourceVariable.__init__ (from tensorflow.python.ops.resource_variable_ops) with constraint is deprecated and will be removed in a future version.\n",
            "Instructions for updating:\n",
            "If using Keras pass *_constraint arguments to layers.\n"
          ],
          "name": "stdout"
        },
        {
          "output_type": "stream",
          "text": [
            "[Parallel(n_jobs=1)]: Using backend SequentialBackend with 1 concurrent workers.\n"
          ],
          "name": "stderr"
        },
        {
          "output_type": "stream",
          "text": [
            "Train on 36666 samples, validate on 5000 samples\n",
            "Epoch 1/30\n",
            "36666/36666 [==============================] - 4s 113us/sample - loss: 0.4142 - accuracy: 0.8781 - val_loss: 0.1758 - val_accuracy: 0.9476\n",
            "Epoch 2/30\n",
            "36666/36666 [==============================] - 4s 114us/sample - loss: 0.1874 - accuracy: 0.9460 - val_loss: 0.1361 - val_accuracy: 0.9590\n",
            "Epoch 3/30\n",
            "36666/36666 [==============================] - 4s 111us/sample - loss: 0.1371 - accuracy: 0.9592 - val_loss: 0.1050 - val_accuracy: 0.9700\n",
            "Epoch 4/30\n",
            "36666/36666 [==============================] - 4s 112us/sample - loss: 0.1080 - accuracy: 0.9676 - val_loss: 0.1102 - val_accuracy: 0.9674\n",
            "Epoch 5/30\n",
            "36666/36666 [==============================] - 4s 107us/sample - loss: 0.0922 - accuracy: 0.9719 - val_loss: 0.0939 - val_accuracy: 0.9722\n",
            "Epoch 6/30\n",
            "36666/36666 [==============================] - 4s 109us/sample - loss: 0.0749 - accuracy: 0.9766 - val_loss: 0.0967 - val_accuracy: 0.9730\n",
            "Epoch 7/30\n",
            "36666/36666 [==============================] - 4s 114us/sample - loss: 0.0654 - accuracy: 0.9794 - val_loss: 0.1069 - val_accuracy: 0.9716\n",
            "[CV] ..................................... n_neurons=60, total=  39.8s\n",
            "[CV] n_neurons=60 ....................................................\n"
          ],
          "name": "stdout"
        },
        {
          "output_type": "stream",
          "text": [
            "[Parallel(n_jobs=1)]: Done   1 out of   1 | elapsed:   39.8s remaining:    0.0s\n"
          ],
          "name": "stderr"
        },
        {
          "output_type": "stream",
          "text": [
            "Train on 36667 samples, validate on 5000 samples\n",
            "Epoch 1/30\n",
            "36667/36667 [==============================] - 4s 109us/sample - loss: 0.3907 - accuracy: 0.8846 - val_loss: 0.1790 - val_accuracy: 0.9472\n",
            "Epoch 2/30\n",
            "36667/36667 [==============================] - 4s 109us/sample - loss: 0.1767 - accuracy: 0.9480 - val_loss: 0.1172 - val_accuracy: 0.9662\n",
            "Epoch 3/30\n",
            "36667/36667 [==============================] - 4s 121us/sample - loss: 0.1274 - accuracy: 0.9625 - val_loss: 0.1121 - val_accuracy: 0.9662\n",
            "Epoch 4/30\n",
            "36667/36667 [==============================] - 4s 108us/sample - loss: 0.0991 - accuracy: 0.9694 - val_loss: 0.1005 - val_accuracy: 0.9696\n",
            "Epoch 5/30\n",
            "36667/36667 [==============================] - 4s 109us/sample - loss: 0.0836 - accuracy: 0.9742 - val_loss: 0.0998 - val_accuracy: 0.9690\n",
            "Epoch 6/30\n",
            "36667/36667 [==============================] - 4s 109us/sample - loss: 0.0726 - accuracy: 0.9770 - val_loss: 0.0937 - val_accuracy: 0.9740\n",
            "Epoch 7/30\n",
            "36667/36667 [==============================] - 4s 111us/sample - loss: 0.0620 - accuracy: 0.9798 - val_loss: 0.1076 - val_accuracy: 0.9706\n",
            "Epoch 8/30\n",
            "36667/36667 [==============================] - 4s 110us/sample - loss: 0.0523 - accuracy: 0.9834 - val_loss: 0.0912 - val_accuracy: 0.9750\n",
            "Epoch 9/30\n",
            "36667/36667 [==============================] - 4s 109us/sample - loss: 0.0513 - accuracy: 0.9837 - val_loss: 0.1097 - val_accuracy: 0.9708\n",
            "Epoch 10/30\n",
            "36667/36667 [==============================] - 4s 109us/sample - loss: 0.0464 - accuracy: 0.9843 - val_loss: 0.1038 - val_accuracy: 0.9728\n",
            "[CV] ..................................... n_neurons=60, total=  41.9s\n",
            "[CV] n_neurons=60 ....................................................\n",
            "Train on 36667 samples, validate on 5000 samples\n",
            "Epoch 1/30\n",
            "36667/36667 [==============================] - 4s 110us/sample - loss: 0.4078 - accuracy: 0.8795 - val_loss: 0.1563 - val_accuracy: 0.9544\n",
            "Epoch 2/30\n",
            "36667/36667 [==============================] - 4s 114us/sample - loss: 0.1722 - accuracy: 0.9487 - val_loss: 0.1179 - val_accuracy: 0.9654\n",
            "Epoch 3/30\n",
            "36667/36667 [==============================] - 4s 114us/sample - loss: 0.1278 - accuracy: 0.9633 - val_loss: 0.0998 - val_accuracy: 0.9698\n",
            "Epoch 4/30\n",
            "36667/36667 [==============================] - 4s 120us/sample - loss: 0.1007 - accuracy: 0.9698 - val_loss: 0.0924 - val_accuracy: 0.9728\n",
            "Epoch 5/30\n",
            "36667/36667 [==============================] - 4s 111us/sample - loss: 0.0836 - accuracy: 0.9747 - val_loss: 0.0924 - val_accuracy: 0.9700\n",
            "Epoch 6/30\n",
            "36667/36667 [==============================] - 4s 109us/sample - loss: 0.0678 - accuracy: 0.9791 - val_loss: 0.0877 - val_accuracy: 0.9738\n",
            "Epoch 7/30\n",
            "36667/36667 [==============================] - 4s 111us/sample - loss: 0.0606 - accuracy: 0.9804 - val_loss: 0.0876 - val_accuracy: 0.9764\n",
            "Epoch 8/30\n",
            "36667/36667 [==============================] - 4s 114us/sample - loss: 0.0498 - accuracy: 0.9839 - val_loss: 0.0917 - val_accuracy: 0.9756\n",
            "Epoch 9/30\n",
            "36667/36667 [==============================] - 4s 118us/sample - loss: 0.0460 - accuracy: 0.9851 - val_loss: 0.0903 - val_accuracy: 0.9754\n",
            "[CV] ..................................... n_neurons=60, total=  39.0s\n",
            "[CV] n_neurons=61 ....................................................\n",
            "Train on 36666 samples, validate on 5000 samples\n",
            "Epoch 1/30\n",
            "36666/36666 [==============================] - 4s 112us/sample - loss: 0.3980 - accuracy: 0.8804 - val_loss: 0.1680 - val_accuracy: 0.9502\n",
            "Epoch 2/30\n",
            "36666/36666 [==============================] - 4s 112us/sample - loss: 0.1816 - accuracy: 0.9470 - val_loss: 0.1273 - val_accuracy: 0.9608\n",
            "Epoch 3/30\n",
            "36666/36666 [==============================] - 4s 110us/sample - loss: 0.1301 - accuracy: 0.9614 - val_loss: 0.1169 - val_accuracy: 0.9650\n",
            "Epoch 4/30\n",
            "36666/36666 [==============================] - 4s 112us/sample - loss: 0.1040 - accuracy: 0.9695 - val_loss: 0.0961 - val_accuracy: 0.9690\n",
            "Epoch 5/30\n",
            "36666/36666 [==============================] - 4s 107us/sample - loss: 0.0860 - accuracy: 0.9740 - val_loss: 0.0889 - val_accuracy: 0.9746\n",
            "Epoch 6/30\n",
            "36666/36666 [==============================] - 4s 110us/sample - loss: 0.0687 - accuracy: 0.9783 - val_loss: 0.0980 - val_accuracy: 0.9712\n",
            "Epoch 7/30\n",
            "36666/36666 [==============================] - 4s 109us/sample - loss: 0.0610 - accuracy: 0.9794 - val_loss: 0.0934 - val_accuracy: 0.9716\n",
            "[CV] ..................................... n_neurons=61, total=  29.9s\n",
            "[CV] n_neurons=61 ....................................................\n",
            "Train on 36667 samples, validate on 5000 samples\n",
            "Epoch 1/30\n",
            "36667/36667 [==============================] - 4s 112us/sample - loss: 0.4086 - accuracy: 0.8791 - val_loss: 0.1767 - val_accuracy: 0.9480\n",
            "Epoch 2/30\n",
            "36667/36667 [==============================] - 4s 104us/sample - loss: 0.1812 - accuracy: 0.9469 - val_loss: 0.1284 - val_accuracy: 0.9624\n",
            "Epoch 3/30\n",
            "36667/36667 [==============================] - 4s 110us/sample - loss: 0.1339 - accuracy: 0.9593 - val_loss: 0.1150 - val_accuracy: 0.9654\n",
            "Epoch 4/30\n",
            "36667/36667 [==============================] - 4s 107us/sample - loss: 0.1031 - accuracy: 0.9688 - val_loss: 0.1103 - val_accuracy: 0.9656\n",
            "Epoch 5/30\n",
            "36667/36667 [==============================] - 4s 106us/sample - loss: 0.0857 - accuracy: 0.9734 - val_loss: 0.0867 - val_accuracy: 0.9738\n",
            "Epoch 6/30\n",
            "36667/36667 [==============================] - 4s 111us/sample - loss: 0.0732 - accuracy: 0.9776 - val_loss: 0.0987 - val_accuracy: 0.9732\n",
            "Epoch 7/30\n",
            "36667/36667 [==============================] - 4s 109us/sample - loss: 0.0583 - accuracy: 0.9806 - val_loss: 0.0978 - val_accuracy: 0.9716\n",
            "[CV] ..................................... n_neurons=61, total=  29.4s\n",
            "[CV] n_neurons=61 ....................................................\n",
            "Train on 36667 samples, validate on 5000 samples\n",
            "Epoch 1/30\n",
            "36667/36667 [==============================] - 4s 116us/sample - loss: 0.3934 - accuracy: 0.8826 - val_loss: 0.1600 - val_accuracy: 0.9540\n",
            "Epoch 2/30\n",
            "36667/36667 [==============================] - 4s 118us/sample - loss: 0.1745 - accuracy: 0.9493 - val_loss: 0.1285 - val_accuracy: 0.9626\n",
            "Epoch 3/30\n",
            "36667/36667 [==============================] - 4s 117us/sample - loss: 0.1288 - accuracy: 0.9611 - val_loss: 0.1044 - val_accuracy: 0.9700\n",
            "Epoch 4/30\n",
            "36667/36667 [==============================] - 4s 118us/sample - loss: 0.1004 - accuracy: 0.9695 - val_loss: 0.0957 - val_accuracy: 0.9714\n",
            "Epoch 5/30\n",
            "36667/36667 [==============================] - 4s 118us/sample - loss: 0.0824 - accuracy: 0.9746 - val_loss: 0.0995 - val_accuracy: 0.9724\n",
            "Epoch 6/30\n",
            "36667/36667 [==============================] - 4s 122us/sample - loss: 0.0686 - accuracy: 0.9787 - val_loss: 0.0987 - val_accuracy: 0.9716\n",
            "[CV] ..................................... n_neurons=61, total=  27.7s\n",
            "[CV] n_neurons=62 ....................................................\n",
            "Train on 36666 samples, validate on 5000 samples\n",
            "Epoch 1/30\n",
            "36666/36666 [==============================] - 4s 112us/sample - loss: 0.3914 - accuracy: 0.8837 - val_loss: 0.1624 - val_accuracy: 0.9530\n",
            "Epoch 2/30\n",
            "36666/36666 [==============================] - 4s 113us/sample - loss: 0.1772 - accuracy: 0.9485 - val_loss: 0.1296 - val_accuracy: 0.9632\n",
            "Epoch 3/30\n",
            "36666/36666 [==============================] - 4s 116us/sample - loss: 0.1266 - accuracy: 0.9618 - val_loss: 0.1147 - val_accuracy: 0.9652\n",
            "Epoch 4/30\n",
            "36666/36666 [==============================] - 4s 109us/sample - loss: 0.1034 - accuracy: 0.9683 - val_loss: 0.0982 - val_accuracy: 0.9714\n",
            "Epoch 5/30\n",
            "36666/36666 [==============================] - 4s 115us/sample - loss: 0.0852 - accuracy: 0.9733 - val_loss: 0.1114 - val_accuracy: 0.9670\n",
            "Epoch 6/30\n",
            "36666/36666 [==============================] - 4s 111us/sample - loss: 0.0730 - accuracy: 0.9768 - val_loss: 0.0970 - val_accuracy: 0.9706\n",
            "Epoch 7/30\n",
            "36666/36666 [==============================] - 4s 118us/sample - loss: 0.0622 - accuracy: 0.9799 - val_loss: 0.1042 - val_accuracy: 0.9718\n",
            "Epoch 8/30\n",
            "36666/36666 [==============================] - 4s 113us/sample - loss: 0.0517 - accuracy: 0.9833 - val_loss: 0.1007 - val_accuracy: 0.9708\n",
            "[CV] ..................................... n_neurons=62, total=  35.0s\n",
            "[CV] n_neurons=62 ....................................................\n",
            "Train on 36667 samples, validate on 5000 samples\n",
            "Epoch 1/30\n",
            "36667/36667 [==============================] - 4s 118us/sample - loss: 0.3955 - accuracy: 0.8824 - val_loss: 0.1691 - val_accuracy: 0.9490\n",
            "Epoch 2/30\n",
            "36667/36667 [==============================] - 4s 114us/sample - loss: 0.1812 - accuracy: 0.9467 - val_loss: 0.1264 - val_accuracy: 0.9612\n",
            "Epoch 3/30\n",
            "36667/36667 [==============================] - 4s 111us/sample - loss: 0.1318 - accuracy: 0.9605 - val_loss: 0.1049 - val_accuracy: 0.9690\n",
            "Epoch 4/30\n",
            "36667/36667 [==============================] - 4s 114us/sample - loss: 0.1018 - accuracy: 0.9690 - val_loss: 0.0991 - val_accuracy: 0.9702\n",
            "Epoch 5/30\n",
            "36667/36667 [==============================] - 4s 111us/sample - loss: 0.0844 - accuracy: 0.9736 - val_loss: 0.0973 - val_accuracy: 0.9708\n",
            "Epoch 6/30\n",
            "36667/36667 [==============================] - 4s 112us/sample - loss: 0.0697 - accuracy: 0.9782 - val_loss: 0.1033 - val_accuracy: 0.9698\n",
            "Epoch 7/30\n",
            "36667/36667 [==============================] - 4s 115us/sample - loss: 0.0583 - accuracy: 0.9812 - val_loss: 0.0944 - val_accuracy: 0.9724\n",
            "Epoch 8/30\n",
            "36667/36667 [==============================] - 4s 117us/sample - loss: 0.0500 - accuracy: 0.9844 - val_loss: 0.1016 - val_accuracy: 0.9746\n",
            "Epoch 9/30\n",
            "36667/36667 [==============================] - 4s 107us/sample - loss: 0.0464 - accuracy: 0.9851 - val_loss: 0.0912 - val_accuracy: 0.9746\n",
            "Epoch 10/30\n",
            "36667/36667 [==============================] - 4s 111us/sample - loss: 0.0417 - accuracy: 0.9861 - val_loss: 0.0998 - val_accuracy: 0.9724\n",
            "Epoch 11/30\n",
            "36667/36667 [==============================] - 4s 110us/sample - loss: 0.0353 - accuracy: 0.9885 - val_loss: 0.1174 - val_accuracy: 0.9700\n",
            "[CV] ..................................... n_neurons=62, total=  47.3s\n",
            "[CV] n_neurons=62 ....................................................\n",
            "Train on 36667 samples, validate on 5000 samples\n",
            "Epoch 1/30\n",
            "36667/36667 [==============================] - 4s 115us/sample - loss: 0.4053 - accuracy: 0.8797 - val_loss: 0.1629 - val_accuracy: 0.9520\n",
            "Epoch 2/30\n",
            "36667/36667 [==============================] - 4s 109us/sample - loss: 0.1817 - accuracy: 0.9461 - val_loss: 0.1309 - val_accuracy: 0.9620\n",
            "Epoch 3/30\n",
            "36667/36667 [==============================] - 4s 118us/sample - loss: 0.1335 - accuracy: 0.9594 - val_loss: 0.1052 - val_accuracy: 0.9714\n",
            "Epoch 4/30\n",
            "36667/36667 [==============================] - 4s 114us/sample - loss: 0.1009 - accuracy: 0.9684 - val_loss: 0.1003 - val_accuracy: 0.9698\n",
            "Epoch 5/30\n",
            "36667/36667 [==============================] - 4s 114us/sample - loss: 0.0824 - accuracy: 0.9744 - val_loss: 0.0960 - val_accuracy: 0.9736\n",
            "Epoch 6/30\n",
            "36667/36667 [==============================] - 4s 114us/sample - loss: 0.0689 - accuracy: 0.9779 - val_loss: 0.0933 - val_accuracy: 0.9722\n",
            "Epoch 7/30\n",
            "36667/36667 [==============================] - 4s 111us/sample - loss: 0.0618 - accuracy: 0.9804 - val_loss: 0.0970 - val_accuracy: 0.9706\n",
            "Epoch 8/30\n",
            "36667/36667 [==============================] - 4s 118us/sample - loss: 0.0507 - accuracy: 0.9831 - val_loss: 0.0958 - val_accuracy: 0.9758\n",
            "[CV] ..................................... n_neurons=62, total=  35.2s\n",
            "[CV] n_neurons=63 ....................................................\n",
            "Train on 36666 samples, validate on 5000 samples\n",
            "Epoch 1/30\n",
            "36666/36666 [==============================] - 4s 122us/sample - loss: 0.3938 - accuracy: 0.8824 - val_loss: 0.1637 - val_accuracy: 0.9528\n",
            "Epoch 2/30\n",
            "36666/36666 [==============================] - 4s 118us/sample - loss: 0.1719 - accuracy: 0.9488 - val_loss: 0.1197 - val_accuracy: 0.9654\n",
            "Epoch 3/30\n",
            "36666/36666 [==============================] - 4s 113us/sample - loss: 0.1251 - accuracy: 0.9635 - val_loss: 0.1096 - val_accuracy: 0.9678\n",
            "Epoch 4/30\n",
            "36666/36666 [==============================] - 5s 123us/sample - loss: 0.1002 - accuracy: 0.9696 - val_loss: 0.1091 - val_accuracy: 0.9656\n",
            "Epoch 5/30\n",
            "36666/36666 [==============================] - 4s 116us/sample - loss: 0.0814 - accuracy: 0.9752 - val_loss: 0.0905 - val_accuracy: 0.9732\n",
            "Epoch 6/30\n",
            "36666/36666 [==============================] - 4s 116us/sample - loss: 0.0674 - accuracy: 0.9786 - val_loss: 0.0943 - val_accuracy: 0.9698\n",
            "Epoch 7/30\n",
            "36666/36666 [==============================] - 4s 111us/sample - loss: 0.0583 - accuracy: 0.9812 - val_loss: 0.0986 - val_accuracy: 0.9728\n",
            "[CV] ..................................... n_neurons=63, total=  32.0s\n",
            "[CV] n_neurons=63 ....................................................\n",
            "Train on 36667 samples, validate on 5000 samples\n",
            "Epoch 1/30\n",
            "36667/36667 [==============================] - 4s 120us/sample - loss: 0.3968 - accuracy: 0.8833 - val_loss: 0.1702 - val_accuracy: 0.9528\n",
            "Epoch 2/30\n",
            "36667/36667 [==============================] - 4s 114us/sample - loss: 0.1833 - accuracy: 0.9468 - val_loss: 0.1280 - val_accuracy: 0.9620\n",
            "Epoch 3/30\n",
            "36667/36667 [==============================] - 4s 117us/sample - loss: 0.1314 - accuracy: 0.9612 - val_loss: 0.1070 - val_accuracy: 0.9690\n",
            "Epoch 4/30\n",
            "36667/36667 [==============================] - 4s 110us/sample - loss: 0.1040 - accuracy: 0.9690 - val_loss: 0.0990 - val_accuracy: 0.9704\n",
            "Epoch 5/30\n",
            "36667/36667 [==============================] - 4s 114us/sample - loss: 0.0843 - accuracy: 0.9740 - val_loss: 0.0943 - val_accuracy: 0.9748\n",
            "Epoch 6/30\n",
            "36667/36667 [==============================] - 4s 113us/sample - loss: 0.0692 - accuracy: 0.9771 - val_loss: 0.0910 - val_accuracy: 0.9758\n",
            "Epoch 7/30\n",
            "36667/36667 [==============================] - 4s 115us/sample - loss: 0.0593 - accuracy: 0.9808 - val_loss: 0.0912 - val_accuracy: 0.9740\n",
            "Epoch 8/30\n",
            "36667/36667 [==============================] - 4s 115us/sample - loss: 0.0526 - accuracy: 0.9825 - val_loss: 0.0921 - val_accuracy: 0.9740\n",
            "[CV] ..................................... n_neurons=63, total=  35.6s\n",
            "[CV] n_neurons=63 ....................................................\n",
            "Train on 36667 samples, validate on 5000 samples\n",
            "Epoch 1/30\n",
            "36667/36667 [==============================] - 4s 120us/sample - loss: 0.4093 - accuracy: 0.8801 - val_loss: 0.1708 - val_accuracy: 0.9504\n",
            "Epoch 2/30\n",
            "36667/36667 [==============================] - 4s 114us/sample - loss: 0.1847 - accuracy: 0.9459 - val_loss: 0.1256 - val_accuracy: 0.9620\n",
            "Epoch 3/30\n",
            "36667/36667 [==============================] - 4s 119us/sample - loss: 0.1355 - accuracy: 0.9601 - val_loss: 0.1029 - val_accuracy: 0.9706\n",
            "Epoch 4/30\n",
            "36667/36667 [==============================] - 4s 119us/sample - loss: 0.1045 - accuracy: 0.9678 - val_loss: 0.1076 - val_accuracy: 0.9682\n",
            "Epoch 5/30\n",
            "36667/36667 [==============================] - 4s 115us/sample - loss: 0.0879 - accuracy: 0.9727 - val_loss: 0.0959 - val_accuracy: 0.9698\n",
            "Epoch 6/30\n",
            "36667/36667 [==============================] - 4s 116us/sample - loss: 0.0727 - accuracy: 0.9773 - val_loss: 0.1016 - val_accuracy: 0.9694\n",
            "Epoch 7/30\n",
            "36667/36667 [==============================] - 4s 115us/sample - loss: 0.0623 - accuracy: 0.9801 - val_loss: 0.0892 - val_accuracy: 0.9730\n",
            "Epoch 8/30\n",
            "36667/36667 [==============================] - 5s 126us/sample - loss: 0.0520 - accuracy: 0.9834 - val_loss: 0.0964 - val_accuracy: 0.9740\n",
            "Epoch 9/30\n",
            "36667/36667 [==============================] - 4s 118us/sample - loss: 0.0491 - accuracy: 0.9840 - val_loss: 0.1050 - val_accuracy: 0.9730\n",
            "[CV] ..................................... n_neurons=63, total=  41.0s\n",
            "[CV] n_neurons=64 ....................................................\n",
            "Train on 36666 samples, validate on 5000 samples\n",
            "Epoch 1/30\n",
            "36666/36666 [==============================] - 5s 124us/sample - loss: 0.3912 - accuracy: 0.8820 - val_loss: 0.1676 - val_accuracy: 0.9494\n",
            "Epoch 2/30\n",
            "36666/36666 [==============================] - 4s 119us/sample - loss: 0.1794 - accuracy: 0.9469 - val_loss: 0.1233 - val_accuracy: 0.9634\n",
            "Epoch 3/30\n",
            "36666/36666 [==============================] - 4s 111us/sample - loss: 0.1308 - accuracy: 0.9616 - val_loss: 0.1109 - val_accuracy: 0.9666\n",
            "Epoch 4/30\n",
            "36666/36666 [==============================] - 4s 119us/sample - loss: 0.1040 - accuracy: 0.9692 - val_loss: 0.1049 - val_accuracy: 0.9688\n",
            "Epoch 5/30\n",
            "36666/36666 [==============================] - 4s 118us/sample - loss: 0.0842 - accuracy: 0.9741 - val_loss: 0.0999 - val_accuracy: 0.9684\n",
            "Epoch 6/30\n",
            "36666/36666 [==============================] - 4s 116us/sample - loss: 0.0698 - accuracy: 0.9785 - val_loss: 0.0958 - val_accuracy: 0.9738\n",
            "Epoch 7/30\n",
            "36666/36666 [==============================] - 4s 112us/sample - loss: 0.0599 - accuracy: 0.9812 - val_loss: 0.0955 - val_accuracy: 0.9728\n",
            "Epoch 8/30\n",
            "36666/36666 [==============================] - 4s 115us/sample - loss: 0.0536 - accuracy: 0.9832 - val_loss: 0.0967 - val_accuracy: 0.9748\n",
            "Epoch 9/30\n",
            "36666/36666 [==============================] - 4s 113us/sample - loss: 0.0463 - accuracy: 0.9849 - val_loss: 0.1019 - val_accuracy: 0.9742\n",
            "[CV] ..................................... n_neurons=64, total=  40.5s\n",
            "[CV] n_neurons=64 ....................................................\n",
            "Train on 36667 samples, validate on 5000 samples\n",
            "Epoch 1/30\n",
            "36667/36667 [==============================] - 5s 124us/sample - loss: 0.3945 - accuracy: 0.8841 - val_loss: 0.1700 - val_accuracy: 0.9492\n",
            "Epoch 2/30\n",
            "36667/36667 [==============================] - 4s 114us/sample - loss: 0.1780 - accuracy: 0.9477 - val_loss: 0.1231 - val_accuracy: 0.9636\n",
            "Epoch 3/30\n",
            "36667/36667 [==============================] - 4s 115us/sample - loss: 0.1256 - accuracy: 0.9625 - val_loss: 0.1138 - val_accuracy: 0.9670\n",
            "Epoch 4/30\n",
            "36667/36667 [==============================] - 4s 114us/sample - loss: 0.0990 - accuracy: 0.9702 - val_loss: 0.1063 - val_accuracy: 0.9704\n",
            "Epoch 5/30\n",
            "36667/36667 [==============================] - 4s 122us/sample - loss: 0.0808 - accuracy: 0.9744 - val_loss: 0.0915 - val_accuracy: 0.9744\n",
            "Epoch 6/30\n",
            "36667/36667 [==============================] - 4s 122us/sample - loss: 0.0656 - accuracy: 0.9793 - val_loss: 0.0945 - val_accuracy: 0.9746\n",
            "Epoch 7/30\n",
            "36667/36667 [==============================] - 4s 116us/sample - loss: 0.0559 - accuracy: 0.9828 - val_loss: 0.0923 - val_accuracy: 0.9758\n",
            "[CV] ..................................... n_neurons=64, total=  32.4s\n",
            "[CV] n_neurons=64 ....................................................\n",
            "Train on 36667 samples, validate on 5000 samples\n",
            "Epoch 1/30\n",
            "36667/36667 [==============================] - 5s 124us/sample - loss: 0.4143 - accuracy: 0.8786 - val_loss: 0.1601 - val_accuracy: 0.9574\n",
            "Epoch 2/30\n",
            "36667/36667 [==============================] - 4s 114us/sample - loss: 0.1767 - accuracy: 0.9482 - val_loss: 0.1228 - val_accuracy: 0.9652\n",
            "Epoch 3/30\n",
            "36667/36667 [==============================] - 4s 121us/sample - loss: 0.1298 - accuracy: 0.9611 - val_loss: 0.0996 - val_accuracy: 0.9702\n",
            "Epoch 4/30\n",
            "36667/36667 [==============================] - 4s 116us/sample - loss: 0.1051 - accuracy: 0.9682 - val_loss: 0.0900 - val_accuracy: 0.9722\n",
            "Epoch 5/30\n",
            "36667/36667 [==============================] - 5s 124us/sample - loss: 0.0806 - accuracy: 0.9751 - val_loss: 0.0958 - val_accuracy: 0.9702\n",
            "Epoch 6/30\n",
            "36667/36667 [==============================] - 4s 112us/sample - loss: 0.0707 - accuracy: 0.9781 - val_loss: 0.0827 - val_accuracy: 0.9760\n",
            "Epoch 7/30\n",
            "36667/36667 [==============================] - 4s 116us/sample - loss: 0.0596 - accuracy: 0.9808 - val_loss: 0.0871 - val_accuracy: 0.9744\n",
            "Epoch 8/30\n",
            "36667/36667 [==============================] - 5s 123us/sample - loss: 0.0487 - accuracy: 0.9847 - val_loss: 0.0930 - val_accuracy: 0.9756\n",
            "[CV] ..................................... n_neurons=64, total=  36.9s\n",
            "[CV] n_neurons=65 ....................................................\n",
            "Train on 36666 samples, validate on 5000 samples\n",
            "Epoch 1/30\n",
            "36666/36666 [==============================] - 4s 122us/sample - loss: 0.3930 - accuracy: 0.8839 - val_loss: 0.1784 - val_accuracy: 0.9490\n",
            "Epoch 2/30\n",
            "36666/36666 [==============================] - 4s 116us/sample - loss: 0.1780 - accuracy: 0.9477 - val_loss: 0.1375 - val_accuracy: 0.9592\n",
            "Epoch 3/30\n",
            "36666/36666 [==============================] - 4s 118us/sample - loss: 0.1298 - accuracy: 0.9608 - val_loss: 0.1058 - val_accuracy: 0.9686\n",
            "Epoch 4/30\n",
            "36666/36666 [==============================] - 4s 118us/sample - loss: 0.1032 - accuracy: 0.9687 - val_loss: 0.1044 - val_accuracy: 0.9678\n",
            "Epoch 5/30\n",
            "36666/36666 [==============================] - 4s 122us/sample - loss: 0.0838 - accuracy: 0.9743 - val_loss: 0.0957 - val_accuracy: 0.9708\n",
            "Epoch 6/30\n",
            "36666/36666 [==============================] - 4s 122us/sample - loss: 0.0677 - accuracy: 0.9799 - val_loss: 0.0983 - val_accuracy: 0.9716\n",
            "Epoch 7/30\n",
            "36666/36666 [==============================] - 4s 119us/sample - loss: 0.0594 - accuracy: 0.9812 - val_loss: 0.0909 - val_accuracy: 0.9758\n",
            "Epoch 8/30\n",
            "36666/36666 [==============================] - 4s 118us/sample - loss: 0.0523 - accuracy: 0.9836 - val_loss: 0.0966 - val_accuracy: 0.9734\n",
            "Epoch 9/30\n",
            "36666/36666 [==============================] - 4s 118us/sample - loss: 0.0451 - accuracy: 0.9860 - val_loss: 0.0984 - val_accuracy: 0.9748\n",
            "[CV] ..................................... n_neurons=65, total=  41.6s\n",
            "[CV] n_neurons=65 ....................................................\n",
            "Train on 36667 samples, validate on 5000 samples\n",
            "Epoch 1/30\n",
            "36667/36667 [==============================] - 5s 125us/sample - loss: 0.3842 - accuracy: 0.8857 - val_loss: 0.1610 - val_accuracy: 0.9534\n",
            "Epoch 2/30\n",
            "36667/36667 [==============================] - 4s 118us/sample - loss: 0.1683 - accuracy: 0.9502 - val_loss: 0.1230 - val_accuracy: 0.9636\n",
            "Epoch 3/30\n",
            "36667/36667 [==============================] - 4s 117us/sample - loss: 0.1181 - accuracy: 0.9647 - val_loss: 0.1094 - val_accuracy: 0.9692\n",
            "Epoch 4/30\n",
            "36667/36667 [==============================] - 4s 115us/sample - loss: 0.0960 - accuracy: 0.9697 - val_loss: 0.1055 - val_accuracy: 0.9638\n",
            "Epoch 5/30\n",
            "36667/36667 [==============================] - 4s 114us/sample - loss: 0.0777 - accuracy: 0.9752 - val_loss: 0.0907 - val_accuracy: 0.9724\n",
            "Epoch 6/30\n",
            "36667/36667 [==============================] - 4s 120us/sample - loss: 0.0641 - accuracy: 0.9797 - val_loss: 0.0983 - val_accuracy: 0.9738\n",
            "Epoch 7/30\n",
            "36667/36667 [==============================] - 4s 121us/sample - loss: 0.0557 - accuracy: 0.9825 - val_loss: 0.0887 - val_accuracy: 0.9746\n",
            "Epoch 8/30\n",
            "36667/36667 [==============================] - 5s 124us/sample - loss: 0.0496 - accuracy: 0.9835 - val_loss: 0.0922 - val_accuracy: 0.9718\n",
            "Epoch 9/30\n",
            "36667/36667 [==============================] - 4s 121us/sample - loss: 0.0432 - accuracy: 0.9859 - val_loss: 0.1173 - val_accuracy: 0.9684\n",
            "[CV] ..................................... n_neurons=65, total=  41.8s\n",
            "[CV] n_neurons=65 ....................................................\n",
            "Train on 36667 samples, validate on 5000 samples\n",
            "Epoch 1/30\n",
            "36667/36667 [==============================] - 5s 133us/sample - loss: 0.3933 - accuracy: 0.8817 - val_loss: 0.1627 - val_accuracy: 0.9540\n",
            "Epoch 2/30\n",
            "36667/36667 [==============================] - 4s 117us/sample - loss: 0.1712 - accuracy: 0.9489 - val_loss: 0.1202 - val_accuracy: 0.9650\n",
            "Epoch 3/30\n",
            "36667/36667 [==============================] - 4s 121us/sample - loss: 0.1258 - accuracy: 0.9623 - val_loss: 0.0985 - val_accuracy: 0.9714\n",
            "Epoch 4/30\n",
            "36667/36667 [==============================] - 5s 123us/sample - loss: 0.0952 - accuracy: 0.9708 - val_loss: 0.0932 - val_accuracy: 0.9746\n",
            "Epoch 5/30\n",
            "36667/36667 [==============================] - 4s 121us/sample - loss: 0.0799 - accuracy: 0.9746 - val_loss: 0.0867 - val_accuracy: 0.9734\n",
            "Epoch 6/30\n",
            "36667/36667 [==============================] - 4s 122us/sample - loss: 0.0665 - accuracy: 0.9794 - val_loss: 0.0766 - val_accuracy: 0.9766\n",
            "Epoch 7/30\n",
            "36667/36667 [==============================] - 4s 120us/sample - loss: 0.0565 - accuracy: 0.9819 - val_loss: 0.0859 - val_accuracy: 0.9754\n",
            "Epoch 8/30\n",
            "36667/36667 [==============================] - 4s 120us/sample - loss: 0.0501 - accuracy: 0.9841 - val_loss: 0.0881 - val_accuracy: 0.9766\n",
            "[CV] ..................................... n_neurons=65, total=  38.3s\n",
            "[CV] n_neurons=66 ....................................................\n",
            "Train on 36666 samples, validate on 5000 samples\n",
            "Epoch 1/30\n",
            "36666/36666 [==============================] - 5s 130us/sample - loss: 0.4064 - accuracy: 0.8776 - val_loss: 0.1737 - val_accuracy: 0.9506\n",
            "Epoch 2/30\n",
            "36666/36666 [==============================] - 4s 114us/sample - loss: 0.1812 - accuracy: 0.9459 - val_loss: 0.1361 - val_accuracy: 0.9556\n",
            "Epoch 3/30\n",
            "36666/36666 [==============================] - 5s 128us/sample - loss: 0.1303 - accuracy: 0.9601 - val_loss: 0.1098 - val_accuracy: 0.9676\n",
            "Epoch 4/30\n",
            "36666/36666 [==============================] - 4s 116us/sample - loss: 0.1050 - accuracy: 0.9672 - val_loss: 0.0974 - val_accuracy: 0.9702\n",
            "Epoch 5/30\n",
            "36666/36666 [==============================] - 4s 119us/sample - loss: 0.0870 - accuracy: 0.9728 - val_loss: 0.0993 - val_accuracy: 0.9726\n",
            "Epoch 6/30\n",
            "36666/36666 [==============================] - 5s 125us/sample - loss: 0.0686 - accuracy: 0.9786 - val_loss: 0.0970 - val_accuracy: 0.9742\n",
            "Epoch 7/30\n",
            "36666/36666 [==============================] - 4s 113us/sample - loss: 0.0607 - accuracy: 0.9810 - val_loss: 0.1016 - val_accuracy: 0.9702\n",
            "Epoch 8/30\n",
            "36666/36666 [==============================] - 4s 118us/sample - loss: 0.0527 - accuracy: 0.9832 - val_loss: 0.1074 - val_accuracy: 0.9692\n",
            "[CV] ..................................... n_neurons=66, total=  37.8s\n",
            "[CV] n_neurons=66 ....................................................\n",
            "Train on 36667 samples, validate on 5000 samples\n",
            "Epoch 1/30\n",
            "36667/36667 [==============================] - 5s 132us/sample - loss: 0.3898 - accuracy: 0.8837 - val_loss: 0.1718 - val_accuracy: 0.9518\n",
            "Epoch 2/30\n",
            "36667/36667 [==============================] - 4s 121us/sample - loss: 0.1758 - accuracy: 0.9498 - val_loss: 0.1265 - val_accuracy: 0.9632\n",
            "Epoch 3/30\n",
            "36667/36667 [==============================] - 4s 122us/sample - loss: 0.1241 - accuracy: 0.9627 - val_loss: 0.1056 - val_accuracy: 0.9690\n",
            "Epoch 4/30\n",
            "36667/36667 [==============================] - 4s 117us/sample - loss: 0.0973 - accuracy: 0.9708 - val_loss: 0.0968 - val_accuracy: 0.9692\n",
            "Epoch 5/30\n",
            "36667/36667 [==============================] - 5s 123us/sample - loss: 0.0808 - accuracy: 0.9755 - val_loss: 0.0968 - val_accuracy: 0.9726\n",
            "Epoch 6/30\n",
            "36667/36667 [==============================] - 4s 122us/sample - loss: 0.0668 - accuracy: 0.9794 - val_loss: 0.1018 - val_accuracy: 0.9728\n",
            "Epoch 7/30\n",
            "36667/36667 [==============================] - 4s 120us/sample - loss: 0.0578 - accuracy: 0.9813 - val_loss: 0.0955 - val_accuracy: 0.9724\n",
            "Epoch 8/30\n",
            "36667/36667 [==============================] - 4s 115us/sample - loss: 0.0486 - accuracy: 0.9843 - val_loss: 0.0866 - val_accuracy: 0.9764\n",
            "Epoch 9/30\n",
            "36667/36667 [==============================] - 5s 124us/sample - loss: 0.0450 - accuracy: 0.9845 - val_loss: 0.0936 - val_accuracy: 0.9742\n",
            "Epoch 10/30\n",
            "36667/36667 [==============================] - 4s 122us/sample - loss: 0.0382 - accuracy: 0.9874 - val_loss: 0.0927 - val_accuracy: 0.9758\n",
            "[CV] ..................................... n_neurons=66, total=  47.2s\n",
            "[CV] n_neurons=66 ....................................................\n",
            "Train on 36667 samples, validate on 5000 samples\n",
            "Epoch 1/30\n",
            "36667/36667 [==============================] - 5s 129us/sample - loss: 0.4081 - accuracy: 0.8782 - val_loss: 0.1678 - val_accuracy: 0.9544\n",
            "Epoch 2/30\n",
            "36667/36667 [==============================] - 4s 117us/sample - loss: 0.1790 - accuracy: 0.9470 - val_loss: 0.1233 - val_accuracy: 0.9628\n",
            "Epoch 3/30\n",
            "36667/36667 [==============================] - 4s 116us/sample - loss: 0.1297 - accuracy: 0.9609 - val_loss: 0.1007 - val_accuracy: 0.9696\n",
            "Epoch 4/30\n",
            "36667/36667 [==============================] - 4s 116us/sample - loss: 0.1032 - accuracy: 0.9689 - val_loss: 0.0957 - val_accuracy: 0.9714\n",
            "Epoch 5/30\n",
            "36667/36667 [==============================] - 4s 120us/sample - loss: 0.0841 - accuracy: 0.9745 - val_loss: 0.0939 - val_accuracy: 0.9718\n",
            "Epoch 6/30\n",
            "36667/36667 [==============================] - 5s 123us/sample - loss: 0.0686 - accuracy: 0.9785 - val_loss: 0.0956 - val_accuracy: 0.9724\n",
            "Epoch 7/30\n",
            "36667/36667 [==============================] - 4s 121us/sample - loss: 0.0582 - accuracy: 0.9821 - val_loss: 0.1036 - val_accuracy: 0.9726\n",
            "[CV] ..................................... n_neurons=66, total=  33.4s\n",
            "[CV] n_neurons=67 ....................................................\n",
            "Train on 36666 samples, validate on 5000 samples\n",
            "Epoch 1/30\n",
            "36666/36666 [==============================] - 5s 129us/sample - loss: 0.4003 - accuracy: 0.8811 - val_loss: 0.1663 - val_accuracy: 0.9496\n",
            "Epoch 2/30\n",
            "36666/36666 [==============================] - 4s 122us/sample - loss: 0.1800 - accuracy: 0.9478 - val_loss: 0.1364 - val_accuracy: 0.9596\n",
            "Epoch 3/30\n",
            "36666/36666 [==============================] - 4s 117us/sample - loss: 0.1298 - accuracy: 0.9620 - val_loss: 0.1052 - val_accuracy: 0.9666\n",
            "Epoch 4/30\n",
            "36666/36666 [==============================] - 4s 115us/sample - loss: 0.1028 - accuracy: 0.9692 - val_loss: 0.1071 - val_accuracy: 0.9704\n",
            "Epoch 5/30\n",
            "36666/36666 [==============================] - 5s 124us/sample - loss: 0.0834 - accuracy: 0.9740 - val_loss: 0.0978 - val_accuracy: 0.9682\n",
            "Epoch 6/30\n",
            "36666/36666 [==============================] - 4s 120us/sample - loss: 0.0708 - accuracy: 0.9779 - val_loss: 0.0904 - val_accuracy: 0.9760\n",
            "Epoch 7/30\n",
            "36666/36666 [==============================] - 5s 123us/sample - loss: 0.0627 - accuracy: 0.9803 - val_loss: 0.0936 - val_accuracy: 0.9732\n",
            "Epoch 8/30\n",
            "36666/36666 [==============================] - 4s 117us/sample - loss: 0.0525 - accuracy: 0.9829 - val_loss: 0.0973 - val_accuracy: 0.9724\n",
            "[CV] ..................................... n_neurons=67, total=  38.1s\n",
            "[CV] n_neurons=67 ....................................................\n",
            "Train on 36667 samples, validate on 5000 samples\n",
            "Epoch 1/30\n",
            "36667/36667 [==============================] - 5s 138us/sample - loss: 0.3896 - accuracy: 0.8853 - val_loss: 0.1570 - val_accuracy: 0.9532\n",
            "Epoch 2/30\n",
            "36667/36667 [==============================] - 4s 115us/sample - loss: 0.1778 - accuracy: 0.9482 - val_loss: 0.1217 - val_accuracy: 0.9646\n",
            "Epoch 3/30\n",
            "36667/36667 [==============================] - 4s 119us/sample - loss: 0.1281 - accuracy: 0.9623 - val_loss: 0.1021 - val_accuracy: 0.9686\n",
            "Epoch 4/30\n",
            "36667/36667 [==============================] - 4s 118us/sample - loss: 0.1015 - accuracy: 0.9687 - val_loss: 0.0978 - val_accuracy: 0.9718\n",
            "Epoch 5/30\n",
            "36667/36667 [==============================] - 5s 124us/sample - loss: 0.0808 - accuracy: 0.9752 - val_loss: 0.0863 - val_accuracy: 0.9732\n",
            "Epoch 6/30\n",
            "36667/36667 [==============================] - 4s 118us/sample - loss: 0.0681 - accuracy: 0.9783 - val_loss: 0.0874 - val_accuracy: 0.9740\n",
            "Epoch 7/30\n",
            "36667/36667 [==============================] - 4s 121us/sample - loss: 0.0582 - accuracy: 0.9821 - val_loss: 0.0810 - val_accuracy: 0.9784\n",
            "Epoch 8/30\n",
            "36667/36667 [==============================] - 5s 125us/sample - loss: 0.0478 - accuracy: 0.9842 - val_loss: 0.0941 - val_accuracy: 0.9712\n",
            "Epoch 9/30\n",
            "36667/36667 [==============================] - 4s 121us/sample - loss: 0.0430 - accuracy: 0.9859 - val_loss: 0.0933 - val_accuracy: 0.9756\n",
            "[CV] ..................................... n_neurons=67, total=  43.0s\n",
            "[CV] n_neurons=67 ....................................................\n",
            "Train on 36667 samples, validate on 5000 samples\n",
            "Epoch 1/30\n",
            "36667/36667 [==============================] - 5s 129us/sample - loss: 0.3895 - accuracy: 0.8853 - val_loss: 0.1561 - val_accuracy: 0.9550\n",
            "Epoch 2/30\n",
            "36667/36667 [==============================] - 4s 121us/sample - loss: 0.1765 - accuracy: 0.9482 - val_loss: 0.1186 - val_accuracy: 0.9650\n",
            "Epoch 3/30\n",
            "36667/36667 [==============================] - 4s 122us/sample - loss: 0.1267 - accuracy: 0.9624 - val_loss: 0.1073 - val_accuracy: 0.9696\n",
            "Epoch 4/30\n",
            "36667/36667 [==============================] - 4s 118us/sample - loss: 0.0986 - accuracy: 0.9701 - val_loss: 0.0985 - val_accuracy: 0.9732\n",
            "Epoch 5/30\n",
            "36667/36667 [==============================] - 5s 124us/sample - loss: 0.0802 - accuracy: 0.9757 - val_loss: 0.0928 - val_accuracy: 0.9736\n",
            "Epoch 6/30\n",
            "36667/36667 [==============================] - 4s 122us/sample - loss: 0.0676 - accuracy: 0.9786 - val_loss: 0.1035 - val_accuracy: 0.9712\n",
            "Epoch 7/30\n",
            "36667/36667 [==============================] - 4s 116us/sample - loss: 0.0543 - accuracy: 0.9824 - val_loss: 0.1133 - val_accuracy: 0.9700\n",
            "[CV] ..................................... n_neurons=67, total=  33.9s\n",
            "[CV] n_neurons=68 ....................................................\n",
            "Train on 36666 samples, validate on 5000 samples\n",
            "Epoch 1/30\n",
            "36666/36666 [==============================] - 5s 141us/sample - loss: 0.3799 - accuracy: 0.8858 - val_loss: 0.1662 - val_accuracy: 0.9516\n",
            "Epoch 2/30\n",
            "36666/36666 [==============================] - 5s 124us/sample - loss: 0.1721 - accuracy: 0.9490 - val_loss: 0.1200 - val_accuracy: 0.9642\n",
            "Epoch 3/30\n",
            "36666/36666 [==============================] - 5s 127us/sample - loss: 0.1218 - accuracy: 0.9629 - val_loss: 0.1038 - val_accuracy: 0.9678\n",
            "Epoch 4/30\n",
            "36666/36666 [==============================] - 4s 117us/sample - loss: 0.0990 - accuracy: 0.9692 - val_loss: 0.1001 - val_accuracy: 0.9736\n",
            "Epoch 5/30\n",
            "36666/36666 [==============================] - 4s 118us/sample - loss: 0.0764 - accuracy: 0.9756 - val_loss: 0.1045 - val_accuracy: 0.9738\n",
            "Epoch 6/30\n",
            "36666/36666 [==============================] - 4s 119us/sample - loss: 0.0655 - accuracy: 0.9797 - val_loss: 0.0992 - val_accuracy: 0.9730\n",
            "Epoch 7/30\n",
            "36666/36666 [==============================] - 4s 120us/sample - loss: 0.0536 - accuracy: 0.9824 - val_loss: 0.0965 - val_accuracy: 0.9762\n",
            "Epoch 8/30\n",
            "36666/36666 [==============================] - 4s 117us/sample - loss: 0.0494 - accuracy: 0.9838 - val_loss: 0.1061 - val_accuracy: 0.9706\n",
            "Epoch 9/30\n",
            "36666/36666 [==============================] - 4s 121us/sample - loss: 0.0440 - accuracy: 0.9852 - val_loss: 0.0920 - val_accuracy: 0.9752\n",
            "Epoch 10/30\n",
            "36666/36666 [==============================] - 5s 124us/sample - loss: 0.0409 - accuracy: 0.9864 - val_loss: 0.1031 - val_accuracy: 0.9724\n",
            "Epoch 11/30\n",
            "36666/36666 [==============================] - 5s 123us/sample - loss: 0.0339 - accuracy: 0.9887 - val_loss: 0.0994 - val_accuracy: 0.9754\n",
            "[CV] ..................................... n_neurons=68, total=  52.3s\n",
            "[CV] n_neurons=68 ....................................................\n",
            "Train on 36667 samples, validate on 5000 samples\n",
            "Epoch 1/30\n",
            "36667/36667 [==============================] - 5s 134us/sample - loss: 0.3832 - accuracy: 0.8867 - val_loss: 0.1585 - val_accuracy: 0.9536\n",
            "Epoch 2/30\n",
            "36667/36667 [==============================] - 4s 122us/sample - loss: 0.1715 - accuracy: 0.9483 - val_loss: 0.1277 - val_accuracy: 0.9640\n",
            "Epoch 3/30\n",
            "36667/36667 [==============================] - 5s 128us/sample - loss: 0.1226 - accuracy: 0.9626 - val_loss: 0.1164 - val_accuracy: 0.9652\n",
            "Epoch 4/30\n",
            "36667/36667 [==============================] - 5s 124us/sample - loss: 0.0972 - accuracy: 0.9697 - val_loss: 0.1069 - val_accuracy: 0.9696\n",
            "Epoch 5/30\n",
            "36667/36667 [==============================] - 5s 123us/sample - loss: 0.0778 - accuracy: 0.9753 - val_loss: 0.0990 - val_accuracy: 0.9714\n",
            "Epoch 6/30\n",
            "36667/36667 [==============================] - 5s 126us/sample - loss: 0.0658 - accuracy: 0.9788 - val_loss: 0.0948 - val_accuracy: 0.9722\n",
            "Epoch 7/30\n",
            "36667/36667 [==============================] - 5s 131us/sample - loss: 0.0549 - accuracy: 0.9826 - val_loss: 0.1030 - val_accuracy: 0.9720\n",
            "Epoch 8/30\n",
            "36667/36667 [==============================] - 5s 126us/sample - loss: 0.0486 - accuracy: 0.9838 - val_loss: 0.0962 - val_accuracy: 0.9752\n",
            "[CV] ..................................... n_neurons=68, total=  40.0s\n",
            "[CV] n_neurons=68 ....................................................\n",
            "Train on 36667 samples, validate on 5000 samples\n",
            "Epoch 1/30\n",
            "36667/36667 [==============================] - 5s 135us/sample - loss: 0.3992 - accuracy: 0.8823 - val_loss: 0.1666 - val_accuracy: 0.9512\n",
            "Epoch 2/30\n",
            "36667/36667 [==============================] - 4s 122us/sample - loss: 0.1804 - accuracy: 0.9473 - val_loss: 0.1245 - val_accuracy: 0.9640\n",
            "Epoch 3/30\n",
            "36667/36667 [==============================] - 4s 118us/sample - loss: 0.1283 - accuracy: 0.9624 - val_loss: 0.0931 - val_accuracy: 0.9726\n",
            "Epoch 4/30\n",
            "36667/36667 [==============================] - 4s 122us/sample - loss: 0.1027 - accuracy: 0.9686 - val_loss: 0.0928 - val_accuracy: 0.9734\n",
            "Epoch 5/30\n",
            "36667/36667 [==============================] - 5s 123us/sample - loss: 0.0841 - accuracy: 0.9743 - val_loss: 0.1015 - val_accuracy: 0.9702\n",
            "Epoch 6/30\n",
            "36667/36667 [==============================] - 5s 125us/sample - loss: 0.0700 - accuracy: 0.9778 - val_loss: 0.0928 - val_accuracy: 0.9724\n",
            "[CV] ..................................... n_neurons=68, total=  30.4s\n",
            "[CV] n_neurons=69 ....................................................\n",
            "Train on 36666 samples, validate on 5000 samples\n",
            "Epoch 1/30\n",
            "36666/36666 [==============================] - 5s 136us/sample - loss: 0.3999 - accuracy: 0.8808 - val_loss: 0.1678 - val_accuracy: 0.9496\n",
            "Epoch 2/30\n",
            "36666/36666 [==============================] - 4s 122us/sample - loss: 0.1791 - accuracy: 0.9464 - val_loss: 0.1240 - val_accuracy: 0.9610\n",
            "Epoch 3/30\n",
            "36666/36666 [==============================] - 5s 126us/sample - loss: 0.1331 - accuracy: 0.9604 - val_loss: 0.1150 - val_accuracy: 0.9666\n",
            "Epoch 4/30\n",
            "36666/36666 [==============================] - 5s 124us/sample - loss: 0.1033 - accuracy: 0.9694 - val_loss: 0.0988 - val_accuracy: 0.9710\n",
            "Epoch 5/30\n",
            "36666/36666 [==============================] - 4s 119us/sample - loss: 0.0842 - accuracy: 0.9737 - val_loss: 0.1028 - val_accuracy: 0.9704\n",
            "Epoch 6/30\n",
            "36666/36666 [==============================] - 5s 127us/sample - loss: 0.0714 - accuracy: 0.9775 - val_loss: 0.1059 - val_accuracy: 0.9720\n",
            "[CV] ..................................... n_neurons=69, total=  30.6s\n",
            "[CV] n_neurons=69 ....................................................\n",
            "Train on 36667 samples, validate on 5000 samples\n",
            "Epoch 1/30\n",
            "36667/36667 [==============================] - 5s 140us/sample - loss: 0.3838 - accuracy: 0.8854 - val_loss: 0.1746 - val_accuracy: 0.9476\n",
            "Epoch 2/30\n",
            "36667/36667 [==============================] - 5s 125us/sample - loss: 0.1720 - accuracy: 0.9490 - val_loss: 0.1308 - val_accuracy: 0.9602\n",
            "Epoch 3/30\n",
            "36667/36667 [==============================] - 5s 124us/sample - loss: 0.1255 - accuracy: 0.9624 - val_loss: 0.1201 - val_accuracy: 0.9620\n",
            "Epoch 4/30\n",
            "36667/36667 [==============================] - 4s 123us/sample - loss: 0.0946 - accuracy: 0.9707 - val_loss: 0.0963 - val_accuracy: 0.9710\n",
            "Epoch 5/30\n",
            "36667/36667 [==============================] - 5s 129us/sample - loss: 0.0784 - accuracy: 0.9767 - val_loss: 0.0908 - val_accuracy: 0.9732\n",
            "Epoch 6/30\n",
            "36667/36667 [==============================] - 4s 120us/sample - loss: 0.0660 - accuracy: 0.9791 - val_loss: 0.1025 - val_accuracy: 0.9708\n",
            "Epoch 7/30\n",
            "36667/36667 [==============================] - 5s 127us/sample - loss: 0.0550 - accuracy: 0.9822 - val_loss: 0.0928 - val_accuracy: 0.9722\n",
            "[CV] ..................................... n_neurons=69, total=  35.7s\n",
            "[CV] n_neurons=69 ....................................................\n",
            "Train on 36667 samples, validate on 5000 samples\n",
            "Epoch 1/30\n",
            "36667/36667 [==============================] - 5s 140us/sample - loss: 0.3888 - accuracy: 0.8850 - val_loss: 0.1719 - val_accuracy: 0.9518\n",
            "Epoch 2/30\n",
            "36667/36667 [==============================] - 4s 122us/sample - loss: 0.1704 - accuracy: 0.9507 - val_loss: 0.1190 - val_accuracy: 0.9650\n",
            "Epoch 3/30\n",
            "36667/36667 [==============================] - 4s 120us/sample - loss: 0.1242 - accuracy: 0.9635 - val_loss: 0.1185 - val_accuracy: 0.9656\n",
            "Epoch 4/30\n",
            "36667/36667 [==============================] - 5s 124us/sample - loss: 0.0955 - accuracy: 0.9714 - val_loss: 0.0985 - val_accuracy: 0.9706\n",
            "Epoch 5/30\n",
            "36667/36667 [==============================] - 4s 120us/sample - loss: 0.0788 - accuracy: 0.9756 - val_loss: 0.0886 - val_accuracy: 0.9748\n",
            "Epoch 6/30\n",
            "36667/36667 [==============================] - 5s 129us/sample - loss: 0.0681 - accuracy: 0.9786 - val_loss: 0.0961 - val_accuracy: 0.9744\n",
            "Epoch 7/30\n",
            "36667/36667 [==============================] - 5s 136us/sample - loss: 0.0555 - accuracy: 0.9822 - val_loss: 0.0893 - val_accuracy: 0.9778\n",
            "[CV] ..................................... n_neurons=69, total=  35.9s\n",
            "[CV] n_neurons=70 ....................................................\n",
            "Train on 36666 samples, validate on 5000 samples\n",
            "Epoch 1/30\n",
            "36666/36666 [==============================] - 5s 139us/sample - loss: 0.3825 - accuracy: 0.8873 - val_loss: 0.1646 - val_accuracy: 0.9508\n",
            "Epoch 2/30\n",
            "36666/36666 [==============================] - 4s 122us/sample - loss: 0.1731 - accuracy: 0.9486 - val_loss: 0.1245 - val_accuracy: 0.9622\n",
            "Epoch 3/30\n",
            "36666/36666 [==============================] - 5s 127us/sample - loss: 0.1298 - accuracy: 0.9610 - val_loss: 0.1053 - val_accuracy: 0.9684\n",
            "Epoch 4/30\n",
            "36666/36666 [==============================] - 5s 126us/sample - loss: 0.1001 - accuracy: 0.9697 - val_loss: 0.0997 - val_accuracy: 0.9680\n",
            "Epoch 5/30\n",
            "36666/36666 [==============================] - 5s 123us/sample - loss: 0.0825 - accuracy: 0.9748 - val_loss: 0.0992 - val_accuracy: 0.9714\n",
            "Epoch 6/30\n",
            "36666/36666 [==============================] - 4s 123us/sample - loss: 0.0693 - accuracy: 0.9786 - val_loss: 0.0974 - val_accuracy: 0.9738\n",
            "Epoch 7/30\n",
            "36666/36666 [==============================] - 5s 129us/sample - loss: 0.0622 - accuracy: 0.9801 - val_loss: 0.0886 - val_accuracy: 0.9770\n",
            "Epoch 8/30\n",
            "36666/36666 [==============================] - 5s 132us/sample - loss: 0.0501 - accuracy: 0.9833 - val_loss: 0.0973 - val_accuracy: 0.9738\n",
            "Epoch 9/30\n",
            "36666/36666 [==============================] - 4s 120us/sample - loss: 0.0457 - accuracy: 0.9851 - val_loss: 0.0981 - val_accuracy: 0.9752\n",
            "[CV] ..................................... n_neurons=70, total=  45.1s\n",
            "[CV] n_neurons=70 ....................................................\n",
            "Train on 36667 samples, validate on 5000 samples\n",
            "Epoch 1/30\n",
            "36667/36667 [==============================] - 5s 146us/sample - loss: 0.4078 - accuracy: 0.8797 - val_loss: 0.1744 - val_accuracy: 0.9514\n",
            "Epoch 2/30\n",
            "36667/36667 [==============================] - 5s 130us/sample - loss: 0.1837 - accuracy: 0.9472 - val_loss: 0.1322 - val_accuracy: 0.9610\n",
            "Epoch 3/30\n",
            "36667/36667 [==============================] - 5s 123us/sample - loss: 0.1274 - accuracy: 0.9619 - val_loss: 0.1153 - val_accuracy: 0.9650\n",
            "Epoch 4/30\n",
            "36667/36667 [==============================] - 5s 126us/sample - loss: 0.1019 - accuracy: 0.9690 - val_loss: 0.1101 - val_accuracy: 0.9652\n",
            "Epoch 5/30\n",
            "36667/36667 [==============================] - 5s 125us/sample - loss: 0.0790 - accuracy: 0.9758 - val_loss: 0.0962 - val_accuracy: 0.9722\n",
            "Epoch 6/30\n",
            "36667/36667 [==============================] - 5s 126us/sample - loss: 0.0683 - accuracy: 0.9785 - val_loss: 0.0947 - val_accuracy: 0.9728\n",
            "Epoch 7/30\n",
            "36667/36667 [==============================] - 4s 121us/sample - loss: 0.0570 - accuracy: 0.9812 - val_loss: 0.0983 - val_accuracy: 0.9744\n",
            "Epoch 8/30\n",
            "36667/36667 [==============================] - 5s 126us/sample - loss: 0.0488 - accuracy: 0.9849 - val_loss: 0.0908 - val_accuracy: 0.9760\n",
            "Epoch 9/30\n",
            "36667/36667 [==============================] - 5s 135us/sample - loss: 0.0424 - accuracy: 0.9864 - val_loss: 0.1014 - val_accuracy: 0.9736\n",
            "Epoch 10/30\n",
            "36667/36667 [==============================] - 5s 123us/sample - loss: 0.0389 - accuracy: 0.9870 - val_loss: 0.1067 - val_accuracy: 0.9734\n",
            "[CV] ..................................... n_neurons=70, total=  50.2s\n",
            "[CV] n_neurons=70 ....................................................\n",
            "Train on 36667 samples, validate on 5000 samples\n",
            "Epoch 1/30\n",
            "36667/36667 [==============================] - 5s 142us/sample - loss: 0.4047 - accuracy: 0.8795 - val_loss: 0.1684 - val_accuracy: 0.9518\n",
            "Epoch 2/30\n",
            "36667/36667 [==============================] - 5s 131us/sample - loss: 0.1748 - accuracy: 0.9486 - val_loss: 0.1191 - val_accuracy: 0.9632\n",
            "Epoch 3/30\n",
            "36667/36667 [==============================] - 5s 124us/sample - loss: 0.1235 - accuracy: 0.9630 - val_loss: 0.1064 - val_accuracy: 0.9696\n",
            "Epoch 4/30\n",
            "36667/36667 [==============================] - 5s 124us/sample - loss: 0.0962 - accuracy: 0.9707 - val_loss: 0.0936 - val_accuracy: 0.9712\n",
            "Epoch 5/30\n",
            "36667/36667 [==============================] - 5s 131us/sample - loss: 0.0797 - accuracy: 0.9757 - val_loss: 0.0944 - val_accuracy: 0.9742\n",
            "Epoch 6/30\n",
            "36667/36667 [==============================] - 5s 125us/sample - loss: 0.0664 - accuracy: 0.9799 - val_loss: 0.0909 - val_accuracy: 0.9742\n",
            "Epoch 7/30\n",
            "36667/36667 [==============================] - 5s 125us/sample - loss: 0.0544 - accuracy: 0.9829 - val_loss: 0.0958 - val_accuracy: 0.9726\n",
            "Epoch 8/30\n",
            "36667/36667 [==============================] - 5s 128us/sample - loss: 0.0474 - accuracy: 0.9847 - val_loss: 0.0956 - val_accuracy: 0.9738\n",
            "[CV] ..................................... n_neurons=70, total=  41.1s\n",
            "[CV] n_neurons=71 ....................................................\n",
            "Train on 36666 samples, validate on 5000 samples\n",
            "Epoch 1/30\n",
            "36666/36666 [==============================] - 5s 145us/sample - loss: 0.3918 - accuracy: 0.8829 - val_loss: 0.1685 - val_accuracy: 0.9486\n",
            "Epoch 2/30\n",
            "36666/36666 [==============================] - 5s 125us/sample - loss: 0.1725 - accuracy: 0.9512 - val_loss: 0.1330 - val_accuracy: 0.9586\n",
            "Epoch 3/30\n",
            "36666/36666 [==============================] - 5s 127us/sample - loss: 0.1260 - accuracy: 0.9619 - val_loss: 0.1134 - val_accuracy: 0.9672\n",
            "Epoch 4/30\n",
            "36666/36666 [==============================] - 5s 127us/sample - loss: 0.0997 - accuracy: 0.9696 - val_loss: 0.1019 - val_accuracy: 0.9690\n",
            "Epoch 5/30\n",
            "36666/36666 [==============================] - 5s 127us/sample - loss: 0.0814 - accuracy: 0.9746 - val_loss: 0.0982 - val_accuracy: 0.9712\n",
            "Epoch 6/30\n",
            "36666/36666 [==============================] - 4s 122us/sample - loss: 0.0663 - accuracy: 0.9796 - val_loss: 0.1001 - val_accuracy: 0.9702\n",
            "Epoch 7/30\n",
            "36666/36666 [==============================] - 5s 130us/sample - loss: 0.0584 - accuracy: 0.9819 - val_loss: 0.1009 - val_accuracy: 0.9714\n",
            "[CV] ..................................... n_neurons=71, total=  36.5s\n",
            "[CV] n_neurons=71 ....................................................\n",
            "Train on 36667 samples, validate on 5000 samples\n",
            "Epoch 1/30\n",
            "36667/36667 [==============================] - 5s 149us/sample - loss: 0.3815 - accuracy: 0.8868 - val_loss: 0.1645 - val_accuracy: 0.9514\n",
            "Epoch 2/30\n",
            "36667/36667 [==============================] - 5s 126us/sample - loss: 0.1700 - accuracy: 0.9494 - val_loss: 0.1249 - val_accuracy: 0.9630\n",
            "Epoch 3/30\n",
            "36667/36667 [==============================] - 5s 125us/sample - loss: 0.1275 - accuracy: 0.9617 - val_loss: 0.1066 - val_accuracy: 0.9692\n",
            "Epoch 4/30\n",
            "36667/36667 [==============================] - 5s 130us/sample - loss: 0.0981 - accuracy: 0.9700 - val_loss: 0.0977 - val_accuracy: 0.9710\n",
            "Epoch 5/30\n",
            "36667/36667 [==============================] - 5s 127us/sample - loss: 0.0808 - accuracy: 0.9747 - val_loss: 0.0972 - val_accuracy: 0.9722\n",
            "Epoch 6/30\n",
            "36667/36667 [==============================] - 5s 125us/sample - loss: 0.0665 - accuracy: 0.9784 - val_loss: 0.0951 - val_accuracy: 0.9716\n",
            "Epoch 7/30\n",
            "36667/36667 [==============================] - 5s 129us/sample - loss: 0.0584 - accuracy: 0.9806 - val_loss: 0.1004 - val_accuracy: 0.9704\n",
            "Epoch 8/30\n",
            "36667/36667 [==============================] - 5s 124us/sample - loss: 0.0520 - accuracy: 0.9836 - val_loss: 0.0954 - val_accuracy: 0.9730\n",
            "[CV] ..................................... n_neurons=71, total=  41.4s\n",
            "[CV] n_neurons=71 ....................................................\n",
            "Train on 36667 samples, validate on 5000 samples\n",
            "Epoch 1/30\n",
            "36667/36667 [==============================] - 6s 153us/sample - loss: 0.3921 - accuracy: 0.8853 - val_loss: 0.1706 - val_accuracy: 0.9502\n",
            "Epoch 2/30\n",
            "36667/36667 [==============================] - 5s 126us/sample - loss: 0.1753 - accuracy: 0.9483 - val_loss: 0.1199 - val_accuracy: 0.9660\n",
            "Epoch 3/30\n",
            "36667/36667 [==============================] - 5s 134us/sample - loss: 0.1267 - accuracy: 0.9617 - val_loss: 0.0991 - val_accuracy: 0.9704\n",
            "Epoch 4/30\n",
            "36667/36667 [==============================] - 5s 124us/sample - loss: 0.0994 - accuracy: 0.9697 - val_loss: 0.0958 - val_accuracy: 0.9740\n",
            "Epoch 5/30\n",
            "36667/36667 [==============================] - 5s 125us/sample - loss: 0.0820 - accuracy: 0.9753 - val_loss: 0.0924 - val_accuracy: 0.9728\n",
            "Epoch 6/30\n",
            "36667/36667 [==============================] - 5s 125us/sample - loss: 0.0689 - accuracy: 0.9781 - val_loss: 0.0996 - val_accuracy: 0.9706\n",
            "Epoch 7/30\n",
            "36667/36667 [==============================] - 5s 131us/sample - loss: 0.0550 - accuracy: 0.9817 - val_loss: 0.0911 - val_accuracy: 0.9754\n",
            "Epoch 8/30\n",
            "36667/36667 [==============================] - 5s 125us/sample - loss: 0.0490 - accuracy: 0.9847 - val_loss: 0.0948 - val_accuracy: 0.9762\n",
            "Epoch 9/30\n",
            "36667/36667 [==============================] - 5s 129us/sample - loss: 0.0430 - accuracy: 0.9861 - val_loss: 0.0887 - val_accuracy: 0.9762\n",
            "Epoch 10/30\n",
            "36667/36667 [==============================] - 5s 130us/sample - loss: 0.0389 - accuracy: 0.9877 - val_loss: 0.0927 - val_accuracy: 0.9782\n",
            "Epoch 11/30\n",
            "36667/36667 [==============================] - 5s 124us/sample - loss: 0.0354 - accuracy: 0.9874 - val_loss: 0.1049 - val_accuracy: 0.9748\n",
            "[CV] ..................................... n_neurons=71, total=  55.9s\n",
            "[CV] n_neurons=72 ....................................................\n",
            "Train on 36666 samples, validate on 5000 samples\n",
            "Epoch 1/30\n",
            "36666/36666 [==============================] - 5s 149us/sample - loss: 0.3832 - accuracy: 0.8862 - val_loss: 0.1556 - val_accuracy: 0.9530\n",
            "Epoch 2/30\n",
            "36666/36666 [==============================] - 5s 126us/sample - loss: 0.1658 - accuracy: 0.9498 - val_loss: 0.1277 - val_accuracy: 0.9636\n",
            "Epoch 3/30\n",
            "36666/36666 [==============================] - 5s 131us/sample - loss: 0.1185 - accuracy: 0.9641 - val_loss: 0.1071 - val_accuracy: 0.9662\n",
            "Epoch 4/30\n",
            "36666/36666 [==============================] - 5s 131us/sample - loss: 0.0937 - accuracy: 0.9708 - val_loss: 0.1032 - val_accuracy: 0.9708\n",
            "Epoch 5/30\n",
            "36666/36666 [==============================] - 5s 128us/sample - loss: 0.0799 - accuracy: 0.9745 - val_loss: 0.1010 - val_accuracy: 0.9706\n",
            "Epoch 6/30\n",
            "36666/36666 [==============================] - 5s 125us/sample - loss: 0.0658 - accuracy: 0.9793 - val_loss: 0.1056 - val_accuracy: 0.9674\n",
            "Epoch 7/30\n",
            "36666/36666 [==============================] - 5s 137us/sample - loss: 0.0536 - accuracy: 0.9835 - val_loss: 0.1019 - val_accuracy: 0.9732\n",
            "[CV] ..................................... n_neurons=72, total=  37.5s\n",
            "[CV] n_neurons=72 ....................................................\n",
            "Train on 36667 samples, validate on 5000 samples\n",
            "Epoch 1/30\n",
            "36667/36667 [==============================] - 6s 152us/sample - loss: 0.3902 - accuracy: 0.8851 - val_loss: 0.1670 - val_accuracy: 0.9504\n",
            "Epoch 2/30\n",
            "36667/36667 [==============================] - 5s 135us/sample - loss: 0.1738 - accuracy: 0.9494 - val_loss: 0.1285 - val_accuracy: 0.9624\n",
            "Epoch 3/30\n",
            "36667/36667 [==============================] - 5s 132us/sample - loss: 0.1276 - accuracy: 0.9606 - val_loss: 0.1022 - val_accuracy: 0.9696\n",
            "Epoch 4/30\n",
            "36667/36667 [==============================] - 5s 129us/sample - loss: 0.0990 - accuracy: 0.9701 - val_loss: 0.1047 - val_accuracy: 0.9700\n",
            "Epoch 5/30\n",
            "36667/36667 [==============================] - 5s 132us/sample - loss: 0.0795 - accuracy: 0.9752 - val_loss: 0.0963 - val_accuracy: 0.9744\n",
            "Epoch 6/30\n",
            "36667/36667 [==============================] - 5s 129us/sample - loss: 0.0697 - accuracy: 0.9782 - val_loss: 0.0874 - val_accuracy: 0.9750\n",
            "Epoch 7/30\n",
            "36667/36667 [==============================] - 5s 131us/sample - loss: 0.0568 - accuracy: 0.9816 - val_loss: 0.0970 - val_accuracy: 0.9728\n",
            "Epoch 8/30\n",
            "36667/36667 [==============================] - 5s 125us/sample - loss: 0.0511 - accuracy: 0.9839 - val_loss: 0.1039 - val_accuracy: 0.9720\n",
            "[CV] ..................................... n_neurons=72, total=  42.9s\n",
            "[CV] n_neurons=72 ....................................................\n",
            "Train on 36667 samples, validate on 5000 samples\n",
            "Epoch 1/30\n",
            "36667/36667 [==============================] - 6s 150us/sample - loss: 0.3879 - accuracy: 0.8839 - val_loss: 0.1582 - val_accuracy: 0.9572\n",
            "Epoch 2/30\n",
            "36667/36667 [==============================] - 5s 132us/sample - loss: 0.1710 - accuracy: 0.9493 - val_loss: 0.1297 - val_accuracy: 0.9622\n",
            "Epoch 3/30\n",
            "36667/36667 [==============================] - 5s 129us/sample - loss: 0.1237 - accuracy: 0.9636 - val_loss: 0.1059 - val_accuracy: 0.9678\n",
            "Epoch 4/30\n",
            "36667/36667 [==============================] - 5s 127us/sample - loss: 0.0943 - accuracy: 0.9716 - val_loss: 0.0989 - val_accuracy: 0.9720\n",
            "Epoch 5/30\n",
            "36667/36667 [==============================] - 5s 134us/sample - loss: 0.0785 - accuracy: 0.9760 - val_loss: 0.1025 - val_accuracy: 0.9710\n",
            "Epoch 6/30\n",
            "36667/36667 [==============================] - 5s 135us/sample - loss: 0.0663 - accuracy: 0.9788 - val_loss: 0.0969 - val_accuracy: 0.9718\n",
            "Epoch 7/30\n",
            "36667/36667 [==============================] - 5s 125us/sample - loss: 0.0545 - accuracy: 0.9823 - val_loss: 0.0950 - val_accuracy: 0.9758\n",
            "Epoch 8/30\n",
            "36667/36667 [==============================] - 5s 133us/sample - loss: 0.0501 - accuracy: 0.9841 - val_loss: 0.0869 - val_accuracy: 0.9784\n",
            "Epoch 9/30\n",
            "36667/36667 [==============================] - 5s 130us/sample - loss: 0.0407 - accuracy: 0.9867 - val_loss: 0.1026 - val_accuracy: 0.9760\n",
            "Epoch 10/30\n",
            "36667/36667 [==============================] - 5s 128us/sample - loss: 0.0383 - accuracy: 0.9872 - val_loss: 0.0980 - val_accuracy: 0.9784\n",
            "[CV] ..................................... n_neurons=72, total=  52.3s\n",
            "[CV] n_neurons=73 ....................................................\n",
            "Train on 36666 samples, validate on 5000 samples\n",
            "Epoch 1/30\n",
            "36666/36666 [==============================] - 6s 150us/sample - loss: 0.3858 - accuracy: 0.8837 - val_loss: 0.1702 - val_accuracy: 0.9504\n",
            "Epoch 2/30\n",
            "36666/36666 [==============================] - 5s 133us/sample - loss: 0.1662 - accuracy: 0.9507 - val_loss: 0.1358 - val_accuracy: 0.9564\n",
            "Epoch 3/30\n",
            "36666/36666 [==============================] - 5s 135us/sample - loss: 0.1195 - accuracy: 0.9636 - val_loss: 0.1063 - val_accuracy: 0.9698\n",
            "Epoch 4/30\n",
            "36666/36666 [==============================] - 5s 130us/sample - loss: 0.0951 - accuracy: 0.9717 - val_loss: 0.0964 - val_accuracy: 0.9712\n",
            "Epoch 5/30\n",
            "36666/36666 [==============================] - 5s 126us/sample - loss: 0.0779 - accuracy: 0.9754 - val_loss: 0.0986 - val_accuracy: 0.9698\n",
            "Epoch 6/30\n",
            "36666/36666 [==============================] - 5s 128us/sample - loss: 0.0656 - accuracy: 0.9792 - val_loss: 0.0990 - val_accuracy: 0.9736\n",
            "[CV] ..................................... n_neurons=73, total=  33.2s\n",
            "[CV] n_neurons=73 ....................................................\n",
            "Train on 36667 samples, validate on 5000 samples\n",
            "Epoch 1/30\n",
            "36667/36667 [==============================] - 6s 158us/sample - loss: 0.3863 - accuracy: 0.8838 - val_loss: 0.1824 - val_accuracy: 0.9470\n",
            "Epoch 2/30\n",
            "36667/36667 [==============================] - 5s 133us/sample - loss: 0.1666 - accuracy: 0.9503 - val_loss: 0.1243 - val_accuracy: 0.9618\n",
            "Epoch 3/30\n",
            "36667/36667 [==============================] - 5s 129us/sample - loss: 0.1229 - accuracy: 0.9629 - val_loss: 0.1036 - val_accuracy: 0.9710\n",
            "Epoch 4/30\n",
            "36667/36667 [==============================] - 5s 131us/sample - loss: 0.0976 - accuracy: 0.9699 - val_loss: 0.0965 - val_accuracy: 0.9718\n",
            "Epoch 5/30\n",
            "36667/36667 [==============================] - 5s 130us/sample - loss: 0.0796 - accuracy: 0.9744 - val_loss: 0.1049 - val_accuracy: 0.9708\n",
            "Epoch 6/30\n",
            "36667/36667 [==============================] - 5s 131us/sample - loss: 0.0667 - accuracy: 0.9792 - val_loss: 0.0898 - val_accuracy: 0.9744\n",
            "Epoch 7/30\n",
            "36667/36667 [==============================] - 5s 131us/sample - loss: 0.0563 - accuracy: 0.9812 - val_loss: 0.1011 - val_accuracy: 0.9736\n",
            "Epoch 8/30\n",
            "36667/36667 [==============================] - 5s 132us/sample - loss: 0.0502 - accuracy: 0.9833 - val_loss: 0.0943 - val_accuracy: 0.9724\n",
            "[CV] ..................................... n_neurons=73, total=  43.3s\n",
            "[CV] n_neurons=73 ....................................................\n",
            "Train on 36667 samples, validate on 5000 samples\n",
            "Epoch 1/30\n",
            "36667/36667 [==============================] - 6s 153us/sample - loss: 0.3856 - accuracy: 0.8849 - val_loss: 0.1699 - val_accuracy: 0.9490\n",
            "Epoch 2/30\n",
            "36667/36667 [==============================] - 5s 129us/sample - loss: 0.1688 - accuracy: 0.9491 - val_loss: 0.1178 - val_accuracy: 0.9676\n",
            "Epoch 3/30\n",
            "36667/36667 [==============================] - 5s 130us/sample - loss: 0.1196 - accuracy: 0.9641 - val_loss: 0.0972 - val_accuracy: 0.9704\n",
            "Epoch 4/30\n",
            "36667/36667 [==============================] - 5s 130us/sample - loss: 0.0950 - accuracy: 0.9713 - val_loss: 0.0961 - val_accuracy: 0.9726\n",
            "Epoch 5/30\n",
            "36667/36667 [==============================] - 5s 131us/sample - loss: 0.0750 - accuracy: 0.9768 - val_loss: 0.1038 - val_accuracy: 0.9702\n",
            "Epoch 6/30\n",
            "36667/36667 [==============================] - 5s 132us/sample - loss: 0.0647 - accuracy: 0.9799 - val_loss: 0.0916 - val_accuracy: 0.9744\n",
            "Epoch 7/30\n",
            "36667/36667 [==============================] - 5s 132us/sample - loss: 0.0529 - accuracy: 0.9828 - val_loss: 0.0870 - val_accuracy: 0.9770\n",
            "Epoch 8/30\n",
            "36667/36667 [==============================] - 5s 132us/sample - loss: 0.0460 - accuracy: 0.9844 - val_loss: 0.0934 - val_accuracy: 0.9734\n",
            "Epoch 9/30\n",
            "36667/36667 [==============================] - 5s 132us/sample - loss: 0.0380 - accuracy: 0.9872 - val_loss: 0.1007 - val_accuracy: 0.9756\n",
            "[CV] ..................................... n_neurons=73, total=  48.1s\n",
            "[CV] n_neurons=74 ....................................................\n",
            "Train on 36666 samples, validate on 5000 samples\n",
            "Epoch 1/30\n",
            "36666/36666 [==============================] - 6s 161us/sample - loss: 0.3845 - accuracy: 0.8865 - val_loss: 0.1873 - val_accuracy: 0.9438\n",
            "Epoch 2/30\n",
            "36666/36666 [==============================] - 5s 130us/sample - loss: 0.1740 - accuracy: 0.9496 - val_loss: 0.1230 - val_accuracy: 0.9648\n",
            "Epoch 3/30\n",
            "36666/36666 [==============================] - 5s 127us/sample - loss: 0.1301 - accuracy: 0.9602 - val_loss: 0.1168 - val_accuracy: 0.9642\n",
            "Epoch 4/30\n",
            "36666/36666 [==============================] - 5s 131us/sample - loss: 0.1031 - accuracy: 0.9684 - val_loss: 0.1028 - val_accuracy: 0.9676\n",
            "Epoch 5/30\n",
            "36666/36666 [==============================] - 5s 128us/sample - loss: 0.0820 - accuracy: 0.9745 - val_loss: 0.1004 - val_accuracy: 0.9714\n",
            "Epoch 6/30\n",
            "36666/36666 [==============================] - 5s 133us/sample - loss: 0.0697 - accuracy: 0.9777 - val_loss: 0.1021 - val_accuracy: 0.9706\n",
            "Epoch 7/30\n",
            "36666/36666 [==============================] - 5s 129us/sample - loss: 0.0579 - accuracy: 0.9815 - val_loss: 0.0995 - val_accuracy: 0.9722\n",
            "Epoch 8/30\n",
            "36666/36666 [==============================] - 5s 136us/sample - loss: 0.0494 - accuracy: 0.9843 - val_loss: 0.1063 - val_accuracy: 0.9710\n",
            "Epoch 9/30\n",
            "36666/36666 [==============================] - 5s 130us/sample - loss: 0.0450 - accuracy: 0.9849 - val_loss: 0.1283 - val_accuracy: 0.9660\n",
            "[CV] ..................................... n_neurons=74, total=  48.2s\n",
            "[CV] n_neurons=74 ....................................................\n",
            "Train on 36667 samples, validate on 5000 samples\n",
            "Epoch 1/30\n",
            "36667/36667 [==============================] - 6s 158us/sample - loss: 0.3854 - accuracy: 0.8863 - val_loss: 0.1689 - val_accuracy: 0.9488\n",
            "Epoch 2/30\n",
            "36667/36667 [==============================] - 5s 135us/sample - loss: 0.1757 - accuracy: 0.9483 - val_loss: 0.1320 - val_accuracy: 0.9628\n",
            "Epoch 3/30\n",
            "36667/36667 [==============================] - 5s 131us/sample - loss: 0.1251 - accuracy: 0.9628 - val_loss: 0.1240 - val_accuracy: 0.9634\n",
            "Epoch 4/30\n",
            "36667/36667 [==============================] - 5s 133us/sample - loss: 0.0994 - accuracy: 0.9683 - val_loss: 0.0974 - val_accuracy: 0.9710\n",
            "Epoch 5/30\n",
            "36667/36667 [==============================] - 5s 133us/sample - loss: 0.0807 - accuracy: 0.9742 - val_loss: 0.1020 - val_accuracy: 0.9698\n",
            "Epoch 6/30\n",
            "36667/36667 [==============================] - 5s 135us/sample - loss: 0.0662 - accuracy: 0.9789 - val_loss: 0.0930 - val_accuracy: 0.9736\n",
            "Epoch 7/30\n",
            "36667/36667 [==============================] - 5s 137us/sample - loss: 0.0558 - accuracy: 0.9818 - val_loss: 0.0909 - val_accuracy: 0.9740\n",
            "Epoch 8/30\n",
            "36667/36667 [==============================] - 5s 134us/sample - loss: 0.0498 - accuracy: 0.9831 - val_loss: 0.1029 - val_accuracy: 0.9698\n",
            "Epoch 9/30\n",
            "36667/36667 [==============================] - 5s 132us/sample - loss: 0.0428 - accuracy: 0.9860 - val_loss: 0.0948 - val_accuracy: 0.9738\n",
            "[CV] ..................................... n_neurons=74, total=  49.3s\n",
            "[CV] n_neurons=74 ....................................................\n",
            "Train on 36667 samples, validate on 5000 samples\n",
            "Epoch 1/30\n",
            "36667/36667 [==============================] - 6s 160us/sample - loss: 0.3889 - accuracy: 0.8850 - val_loss: 0.1529 - val_accuracy: 0.9542\n",
            "Epoch 2/30\n",
            "36667/36667 [==============================] - 5s 132us/sample - loss: 0.1712 - accuracy: 0.9497 - val_loss: 0.1167 - val_accuracy: 0.9662\n",
            "Epoch 3/30\n",
            "36667/36667 [==============================] - 5s 138us/sample - loss: 0.1224 - accuracy: 0.9630 - val_loss: 0.0963 - val_accuracy: 0.9712\n",
            "Epoch 4/30\n",
            "36667/36667 [==============================] - 5s 138us/sample - loss: 0.0927 - accuracy: 0.9720 - val_loss: 0.1006 - val_accuracy: 0.9708\n",
            "Epoch 5/30\n",
            "36667/36667 [==============================] - 5s 131us/sample - loss: 0.0778 - accuracy: 0.9760 - val_loss: 0.0992 - val_accuracy: 0.9690\n",
            "[CV] ..................................... n_neurons=74, total=  29.8s\n",
            "[CV] n_neurons=75 ....................................................\n",
            "Train on 36666 samples, validate on 5000 samples\n",
            "Epoch 1/30\n",
            "36666/36666 [==============================] - 6s 159us/sample - loss: 0.4039 - accuracy: 0.8807 - val_loss: 0.1680 - val_accuracy: 0.9514\n",
            "Epoch 2/30\n",
            "36666/36666 [==============================] - 5s 133us/sample - loss: 0.1750 - accuracy: 0.9467 - val_loss: 0.1313 - val_accuracy: 0.9614\n",
            "Epoch 3/30\n",
            "36666/36666 [==============================] - 5s 130us/sample - loss: 0.1276 - accuracy: 0.9612 - val_loss: 0.1038 - val_accuracy: 0.9686\n",
            "Epoch 4/30\n",
            "23392/36666 [==================>...........] - ETA: 1s - loss: 0.1002 - accuracy: 0.9700"
          ],
          "name": "stdout"
        }
      ]
    },
    {
      "cell_type": "markdown",
      "metadata": {
        "id": "2u51f7S0ZM5r",
        "colab_type": "text"
      },
      "source": [
        "##EVALUATE"
      ]
    },
    {
      "cell_type": "markdown",
      "metadata": {
        "id": "9jj9jykP5hkD",
        "colab_type": "text"
      },
      "source": [
        "### Inspecting the best estimator"
      ]
    },
    {
      "cell_type": "markdown",
      "metadata": {
        "id": "TmBJMfTB5hkD",
        "colab_type": "text"
      },
      "source": [
        "Let's get the number of neurons that produced the best estimator"
      ]
    },
    {
      "cell_type": "code",
      "metadata": {
        "id": "c_HZWOIe5hkE",
        "colab_type": "code",
        "colab": {}
      },
      "source": [
        "grid_cv.best_params_"
      ],
      "execution_count": 0,
      "outputs": []
    },
    {
      "cell_type": "markdown",
      "metadata": {
        "id": "UyxYloQq5hkG",
        "colab_type": "raw"
      },
      "source": [
        "Let's get the rsults to compare the performance of the 100 models."
      ]
    },
    {
      "cell_type": "code",
      "metadata": {
        "id": "xhkOrfov5hkG",
        "colab_type": "code",
        "colab": {}
      },
      "source": [
        "results = grid_cv.cv_results_\n",
        "results"
      ],
      "execution_count": 0,
      "outputs": []
    },
    {
      "cell_type": "code",
      "metadata": {
        "id": "HNoNkMU15hkL",
        "colab_type": "code",
        "colab": {}
      },
      "source": [
        "results['params'], results['rank_test_score']"
      ],
      "execution_count": 0,
      "outputs": []
    },
    {
      "cell_type": "code",
      "metadata": {
        "id": "yRS71YiS5hkN",
        "colab_type": "code",
        "colab": {}
      },
      "source": [
        "best_model = grid_cv.best_estimator_.model\n",
        "keras.utils.plot_model(best_model, show_shapes=True)"
      ],
      "execution_count": 0,
      "outputs": []
    },
    {
      "cell_type": "code",
      "metadata": {
        "id": "vHakmEh-5hkP",
        "colab_type": "code",
        "colab": {}
      },
      "source": [
        "best_model.evaluate(test_images, test_labels)"
      ],
      "execution_count": 0,
      "outputs": []
    },
    {
      "cell_type": "code",
      "metadata": {
        "id": "zoFWy8n9bYCV",
        "colab_type": "code",
        "colab": {}
      },
      "source": [
        ""
      ],
      "execution_count": 0,
      "outputs": []
    }
  ]
}