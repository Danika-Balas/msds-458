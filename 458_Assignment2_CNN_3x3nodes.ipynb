{
  "nbformat": 4,
  "nbformat_minor": 0,
  "metadata": {
    "colab": {
      "name": "458_Assignment2_CNN_3x3nodes.ipynb",
      "provenance": [],
      "authorship_tag": "ABX9TyO88UrqREqXWuxGv8RxArh8",
      "include_colab_link": true
    },
    "kernelspec": {
      "name": "python3",
      "display_name": "Python 3"
    },
    "accelerator": "GPU"
  },
  "cells": [
    {
      "cell_type": "markdown",
      "metadata": {
        "id": "view-in-github",
        "colab_type": "text"
      },
      "source": [
        "<a href=\"https://colab.research.google.com/github/Danika-Balas/msds-458/blob/master/458_Assignment2_CNN_3x3nodes.ipynb\" target=\"_parent\"><img src=\"https://colab.research.google.com/assets/colab-badge.svg\" alt=\"Open In Colab\"/></a>"
      ]
    },
    {
      "cell_type": "markdown",
      "metadata": {
        "id": "CfRJ290OPFTf",
        "colab_type": "text"
      },
      "source": [
        "In the following code we will set up both dense neural networks and convolutional neural networks to classify images of articles of clothing from the Fashion MNIST dataset into ten classes. We will set up five different experiments in order to explore the impact different nodes on the network and to determine what features in the images are detected by the nodes. \n"
      ]
    },
    {
      "cell_type": "markdown",
      "metadata": {
        "colab_type": "text",
        "id": "W0QDEMZMPHxR"
      },
      "source": [
        "Notebook uses portions of code written by Edward Arroyo and Daniel Jensen"
      ]
    },
    {
      "cell_type": "markdown",
      "metadata": {
        "colab_type": "text",
        "id": "OhMQnPzePHxW"
      },
      "source": [
        "##Setup and Preprocessing"
      ]
    },
    {
      "cell_type": "code",
      "metadata": {
        "colab_type": "code",
        "outputId": "39a590e9-b2bd-49c1-8b0d-9ccb0a8b3f8e",
        "id": "nane5stwPHxa",
        "colab": {
          "base_uri": "https://localhost:8080/",
          "height": 89
        }
      },
      "source": [
        "import numpy as np\n",
        "import pandas as pd\n",
        "\n",
        "import seaborn as sns\n",
        "import matplotlib.pyplot as plt\n",
        "%matplotlib inline\n",
        "sns.set(style=\"whitegrid\")\n",
        "\n",
        "from sklearn import metrics\n",
        "\n",
        "import tensorflow as tf\n",
        "from tensorflow import keras\n",
        "keras.__version__"
      ],
      "execution_count": 1,
      "outputs": [
        {
          "output_type": "stream",
          "text": [
            "/usr/local/lib/python3.6/dist-packages/statsmodels/tools/_testing.py:19: FutureWarning: pandas.util.testing is deprecated. Use the functions in the public API at pandas.testing instead.\n",
            "  import pandas.util.testing as tm\n"
          ],
          "name": "stderr"
        },
        {
          "output_type": "execute_result",
          "data": {
            "text/plain": [
              "'2.3.0-tf'"
            ]
          },
          "metadata": {
            "tags": []
          },
          "execution_count": 1
        }
      ]
    },
    {
      "cell_type": "code",
      "metadata": {
        "colab_type": "code",
        "outputId": "d045c3e5-7eb7-4b3a-e5f2-807bdf0512f3",
        "id": "6wCfk7UGPHxm",
        "colab": {
          "base_uri": "https://localhost:8080/",
          "height": 34
        }
      },
      "source": [
        "tf.__version__"
      ],
      "execution_count": 2,
      "outputs": [
        {
          "output_type": "execute_result",
          "data": {
            "text/plain": [
              "'2.2.0-rc4'"
            ]
          },
          "metadata": {
            "tags": []
          },
          "execution_count": 2
        }
      ]
    },
    {
      "cell_type": "code",
      "metadata": {
        "colab_type": "code",
        "id": "vu3n-p0HPHxv",
        "colab": {
          "base_uri": "https://localhost:8080/",
          "height": 34
        },
        "outputId": "9ea5976f-e678-42e7-9618-7e99f625311c"
      },
      "source": [
        "from keras import metrics\n",
        "from tensorflow.keras import models\n",
        "from tensorflow.keras import layers"
      ],
      "execution_count": 3,
      "outputs": [
        {
          "output_type": "stream",
          "text": [
            "Using TensorFlow backend.\n"
          ],
          "name": "stderr"
        }
      ]
    },
    {
      "cell_type": "code",
      "metadata": {
        "colab_type": "code",
        "id": "JH0hHWwiPHx2",
        "colab": {}
      },
      "source": [
        "# neccessary for K.gradient to work in TensorFlow 2.x\n",
        "# only needed for the \"Finding a pattern the hidden node maximally responds to\" section below.\n",
        "# but disabled to make Tensorboard work...\n",
        "tf.compat.v1.disable_eager_execution() "
      ],
      "execution_count": 0,
      "outputs": []
    },
    {
      "cell_type": "code",
      "metadata": {
        "colab_type": "code",
        "id": "tQymUmiKPHx7",
        "colab": {}
      },
      "source": [
        "# Set see in order to achieve consistent results across runs\n",
        "keras.backend.clear_session()\n",
        "np.random.seed(42)\n",
        "tf.random.set_seed(42)"
      ],
      "execution_count": 0,
      "outputs": []
    },
    {
      "cell_type": "markdown",
      "metadata": {
        "id": "M2Drab4LRK95",
        "colab_type": "text"
      },
      "source": [
        "### Import Fashion-MNIST dataset"
      ]
    },
    {
      "cell_type": "markdown",
      "metadata": {
        "id": "i-sJvLkIRS4R",
        "colab_type": "text"
      },
      "source": [
        "Using data from collected from European fasion platform Zalondo. The dataset has been compiled to mimic the structure of the MNIST dataset. It consists of 60,000 training images and 10,000 testing images. All of the images are in grayscale and 28x28 pixels. Each of the images is labeled with an integer 0-9 that corresponds to the following classes: 'T-shirt/top', 'Trouser', 'Pullover', 'Dress', 'Coat', 'Sandal', 'Shirt', 'Sneaker', 'Bag', 'Ankle boot'.\n",
        "\n",
        "More information can be found here: https://github.com/zalandoresearch/fashion-mnist "
      ]
    },
    {
      "cell_type": "code",
      "metadata": {
        "id": "LATqxX6VPwaC",
        "colab_type": "code",
        "outputId": "6c7943dc-20ef-4a34-e9dd-5d66a21239c9",
        "colab": {
          "base_uri": "https://localhost:8080/",
          "height": 193
        }
      },
      "source": [
        "# https://www.tensorflow.org/api_docs/python/tf/keras/datasets/fashion_mnist/load_data\n",
        "from tensorflow.keras.datasets import fashion_mnist\n",
        "\n",
        "(train_images, train_labels), (test_images, test_labels) = fashion_mnist.load_data()\n",
        "\n",
        "train_images.shape, test_images.shape, train_labels.shape, test_labels.shape"
      ],
      "execution_count": 6,
      "outputs": [
        {
          "output_type": "stream",
          "text": [
            "Downloading data from https://storage.googleapis.com/tensorflow/tf-keras-datasets/train-labels-idx1-ubyte.gz\n",
            "32768/29515 [=================================] - 0s 0us/step\n",
            "Downloading data from https://storage.googleapis.com/tensorflow/tf-keras-datasets/train-images-idx3-ubyte.gz\n",
            "26427392/26421880 [==============================] - 0s 0us/step\n",
            "Downloading data from https://storage.googleapis.com/tensorflow/tf-keras-datasets/t10k-labels-idx1-ubyte.gz\n",
            "8192/5148 [===============================================] - 0s 0us/step\n",
            "Downloading data from https://storage.googleapis.com/tensorflow/tf-keras-datasets/t10k-images-idx3-ubyte.gz\n",
            "4423680/4422102 [==============================] - 0s 0us/step\n"
          ],
          "name": "stdout"
        },
        {
          "output_type": "execute_result",
          "data": {
            "text/plain": [
              "((60000, 28, 28), (10000, 28, 28), (60000,), (10000,))"
            ]
          },
          "metadata": {
            "tags": []
          },
          "execution_count": 6
        }
      ]
    },
    {
      "cell_type": "code",
      "metadata": {
        "id": "fOkkkTLLSRLD",
        "colab_type": "code",
        "outputId": "90f7738f-2a61-45dc-a10d-c7fd3b532638",
        "colab": {
          "base_uri": "https://localhost:8080/",
          "height": 34
        }
      },
      "source": [
        "#Store copy of training images in order to easily view images even after transformations are performed\n",
        "example_train_images = train_images.copy()\n",
        "example_train_images.shape"
      ],
      "execution_count": 7,
      "outputs": [
        {
          "output_type": "execute_result",
          "data": {
            "text/plain": [
              "(60000, 28, 28)"
            ]
          },
          "metadata": {
            "tags": []
          },
          "execution_count": 7
        }
      ]
    },
    {
      "cell_type": "code",
      "metadata": {
        "id": "n4S4laGXSJdO",
        "colab_type": "code",
        "outputId": "bd3f78d9-865d-4060-a796-8266d5dc9996",
        "colab": {
          "base_uri": "https://localhost:8080/",
          "height": 191
        }
      },
      "source": [
        "# The distribution of the classes appears to be uniform\n",
        "from collections import Counter\n",
        "Counter(train_labels).most_common()"
      ],
      "execution_count": 8,
      "outputs": [
        {
          "output_type": "execute_result",
          "data": {
            "text/plain": [
              "[(9, 6000),\n",
              " (0, 6000),\n",
              " (3, 6000),\n",
              " (2, 6000),\n",
              " (7, 6000),\n",
              " (5, 6000),\n",
              " (1, 6000),\n",
              " (6, 6000),\n",
              " (4, 6000),\n",
              " (8, 6000)]"
            ]
          },
          "metadata": {
            "tags": []
          },
          "execution_count": 8
        }
      ]
    },
    {
      "cell_type": "code",
      "metadata": {
        "id": "-Cz1Zx_xTKh6",
        "colab_type": "code",
        "colab": {}
      },
      "source": [
        "# https://github.com/zalandoresearch/fashion-mnist\n",
        "# https://www.tensorflow.org/tutorials/keras/classification\n",
        "\n",
        "class_names = ['T-shirt/top', 'Trouser', 'Pullover', 'Dress', 'Coat',\n",
        "               'Sandal', 'Shirt', 'Sneaker', 'Bag', 'Ankle boot']"
      ],
      "execution_count": 0,
      "outputs": []
    },
    {
      "cell_type": "markdown",
      "metadata": {
        "id": "fm4dTPFLSuwX",
        "colab_type": "text"
      },
      "source": [
        "Example of a single sample, a 28x28 pixel image of an article of clothing"
      ]
    },
    {
      "cell_type": "code",
      "metadata": {
        "id": "aU0h0qwXS1JA",
        "colab_type": "code",
        "outputId": "c70f6a3e-0814-4786-918d-acc506434512",
        "colab": {
          "base_uri": "https://localhost:8080/",
          "height": 264
        }
      },
      "source": [
        "#https://matplotlib.org/tutorials/colors/colormaps.html?highlight=colormap\n",
        "plt.imshow(train_images[0], cmap=\"binary\") \n",
        "plt.axis('off')\n",
        "plt.title(class_names[test_labels[0]], fontsize=12)\n",
        "plt.show()"
      ],
      "execution_count": 10,
      "outputs": [
        {
          "output_type": "display_data",
          "data": {
            "image/png": "[encoded data removed]",
            "text/plain": [
              "<Figure size 432x288 with 1 Axes>"
            ]
          },
          "metadata": {
            "tags": [],
            "needs_background": "light"
          }
        }
      ]
    },
    {
      "cell_type": "markdown",
      "metadata": {
        "id": "2ehBwoUkN2A2",
        "colab_type": "text"
      },
      "source": [
        "### Prepare the data\n"
      ]
    },
    {
      "cell_type": "code",
      "metadata": {
        "id": "9P0iTPCOOBLU",
        "colab_type": "code",
        "colab": {}
      },
      "source": [
        "# Reshape the data into the shape that the network expects\n",
        "train_images = train_images.reshape((60000, 28, 28, 1))\n",
        "\n",
        "# Scale the data to [0,1] interval\n",
        "train_images = train_images.astype('float32') / 255\n",
        "\n",
        "# Do the same for the test dataset\n",
        "test_images = test_images.reshape((10000, 28, 28, 1))\n",
        "test_images = test_images.astype('float32') / 255"
      ],
      "execution_count": 0,
      "outputs": []
    },
    {
      "cell_type": "markdown",
      "metadata": {
        "id": "pgxxzLiEOc6r",
        "colab_type": "text"
      },
      "source": [
        "Set aside 5,000 samples from the training data to use as the validation set."
      ]
    },
    {
      "cell_type": "code",
      "metadata": {
        "id": "3-ag80d_OCom",
        "colab_type": "code",
        "colab": {}
      },
      "source": [
        "val_images, train_images = train_images[:5000], train_images[5000:]\n",
        "val_labels, train_labels = train_labels[:5000], train_labels[5000:]"
      ],
      "execution_count": 0,
      "outputs": []
    },
    {
      "cell_type": "markdown",
      "metadata": {
        "id": "y63m-hEwDC6q",
        "colab_type": "text"
      },
      "source": [
        "#Experiment 5 Baseline: 32, pool, 64, pool\n",
        "Toying with conv dimensions\n"
      ]
    },
    {
      "cell_type": "markdown",
      "metadata": {
        "id": "PlKbzUNPAoTC",
        "colab_type": "text"
      },
      "source": [
        "##Build and compile the model\n"
      ]
    },
    {
      "cell_type": "code",
      "metadata": {
        "id": "ypuJ5q0wsGvS",
        "colab_type": "code",
        "colab": {
          "base_uri": "https://localhost:8080/",
          "height": 89
        },
        "outputId": "bab96d37-70f7-4386-acab-2589ac14e373"
      },
      "source": [
        "# CNN with 2 convolution/max pooling layers\n",
        "\n",
        "model = models.Sequential()\n",
        "model.add(layers.Conv2D(32, (3, 3), activation='relu', input_shape=(28, 28, 1)))\n",
        "model.add(layers.MaxPooling2D((2, 2)))\n",
        "model.add(layers.Dropout(0.2))\n",
        "\n",
        "model.add(layers.Conv2D(64, (3, 3), activation='relu'))\n",
        "model.add(layers.MaxPooling2D((2, 2)))\n",
        "model.add(layers.Dropout(0.2))\n",
        "\n",
        "model.add(layers.Flatten())\n",
        "model.add(layers.Dense(256, activation='relu'))\n",
        "model.add(layers.Dropout(0.2))\n",
        "\n",
        "model.add(layers.Dense(10, activation='softmax'))\n",
        "\n",
        "model.compile(optimizer ='adam',\n",
        "              loss='sparse_categorical_crossentropy',\n",
        "              metrics=['accuracy'])"
      ],
      "execution_count": 13,
      "outputs": [
        {
          "output_type": "stream",
          "text": [
            "WARNING:tensorflow:From /usr/local/lib/python3.6/dist-packages/tensorflow/python/ops/resource_variable_ops.py:1666: calling BaseResourceVariable.__init__ (from tensorflow.python.ops.resource_variable_ops) with constraint is deprecated and will be removed in a future version.\n",
            "Instructions for updating:\n",
            "If using Keras pass *_constraint arguments to layers.\n"
          ],
          "name": "stdout"
        }
      ]
    },
    {
      "cell_type": "code",
      "metadata": {
        "id": "6jUvqmxLDeh9",
        "colab_type": "code",
        "colab": {}
      },
      "source": [
        "#keras.utils.plot_model(model, show_shapes=True)"
      ],
      "execution_count": 0,
      "outputs": []
    },
    {
      "cell_type": "markdown",
      "metadata": {
        "id": "MIx2sGm4Yuc2",
        "colab_type": "text"
      },
      "source": [
        "### Create a callback to get training times"
      ]
    },
    {
      "cell_type": "code",
      "metadata": {
        "id": "uOhAfaCmYY4G",
        "colab_type": "code",
        "colab": {}
      },
      "source": [
        "# Define callback to get total training time\n",
        "import datetime\n",
        "\n",
        "class TrainRuntimeCallback(keras.callbacks.Callback):\n",
        "\n",
        "  def on_train_begin(self,logs={}):\n",
        "    self.start = datetime.datetime.now()\n",
        "\n",
        "  def on_train_end(self,logs={}):\n",
        "    self.process_time = (datetime.datetime.now() - self.start).total_seconds()"
      ],
      "execution_count": 0,
      "outputs": []
    },
    {
      "cell_type": "markdown",
      "metadata": {
        "id": "opEkoJNVBN-F",
        "colab_type": "text"
      },
      "source": [
        "##Train the model"
      ]
    },
    {
      "cell_type": "code",
      "metadata": {
        "id": "cihBVAzRBIbg",
        "colab_type": "code",
        "outputId": "f0a41cf8-e07e-4f21-cf2d-eec56925e3fc",
        "colab": {
          "base_uri": "https://localhost:8080/",
          "height": 749
        }
      },
      "source": [
        "train_rt = TrainRuntimeCallback()\n",
        "history = model.fit(train_images, train_labels, callbacks=[train_rt], epochs=20,  batch_size = 100,\n",
        "                    validation_data=(val_images, val_labels))"
      ],
      "execution_count": 16,
      "outputs": [
        {
          "output_type": "stream",
          "text": [
            "Train on 55000 samples, validate on 5000 samples\n",
            "Epoch 1/20\n",
            "55000/55000 [==============================] - 5s 97us/sample - loss: 0.6038 - accuracy: 0.7780 - val_loss: 0.3779 - val_accuracy: 0.8682\n",
            "Epoch 2/20\n",
            "55000/55000 [==============================] - 5s 95us/sample - loss: 0.3932 - accuracy: 0.8555 - val_loss: 0.3147 - val_accuracy: 0.8848\n",
            "Epoch 3/20\n",
            "55000/55000 [==============================] - 5s 93us/sample - loss: 0.3404 - accuracy: 0.8740 - val_loss: 0.2906 - val_accuracy: 0.8978\n",
            "Epoch 4/20\n",
            "55000/55000 [==============================] - 5s 94us/sample - loss: 0.3090 - accuracy: 0.8851 - val_loss: 0.2641 - val_accuracy: 0.9040\n",
            "Epoch 5/20\n",
            "55000/55000 [==============================] - 5s 93us/sample - loss: 0.2830 - accuracy: 0.8949 - val_loss: 0.2462 - val_accuracy: 0.9112\n",
            "Epoch 6/20\n",
            "55000/55000 [==============================] - 5s 93us/sample - loss: 0.2652 - accuracy: 0.9016 - val_loss: 0.2516 - val_accuracy: 0.9108\n",
            "Epoch 7/20\n",
            "55000/55000 [==============================] - 5s 93us/sample - loss: 0.2531 - accuracy: 0.9052 - val_loss: 0.2438 - val_accuracy: 0.9108\n",
            "Epoch 8/20\n",
            "55000/55000 [==============================] - 5s 94us/sample - loss: 0.2374 - accuracy: 0.9106 - val_loss: 0.2283 - val_accuracy: 0.9196\n",
            "Epoch 9/20\n",
            "55000/55000 [==============================] - 5s 95us/sample - loss: 0.2279 - accuracy: 0.9147 - val_loss: 0.2285 - val_accuracy: 0.9194\n",
            "Epoch 10/20\n",
            "55000/55000 [==============================] - 5s 93us/sample - loss: 0.2170 - accuracy: 0.9190 - val_loss: 0.2219 - val_accuracy: 0.9180\n",
            "Epoch 11/20\n",
            "55000/55000 [==============================] - 5s 94us/sample - loss: 0.2064 - accuracy: 0.9235 - val_loss: 0.2207 - val_accuracy: 0.9178\n",
            "Epoch 12/20\n",
            "55000/55000 [==============================] - 5s 95us/sample - loss: 0.2004 - accuracy: 0.9246 - val_loss: 0.2190 - val_accuracy: 0.9190\n",
            "Epoch 13/20\n",
            "55000/55000 [==============================] - 5s 93us/sample - loss: 0.1912 - accuracy: 0.9269 - val_loss: 0.2142 - val_accuracy: 0.9212\n",
            "Epoch 14/20\n",
            "55000/55000 [==============================] - 5s 94us/sample - loss: 0.1814 - accuracy: 0.9319 - val_loss: 0.2165 - val_accuracy: 0.9210\n",
            "Epoch 15/20\n",
            "55000/55000 [==============================] - 5s 94us/sample - loss: 0.1761 - accuracy: 0.9329 - val_loss: 0.2229 - val_accuracy: 0.9178\n",
            "Epoch 16/20\n",
            "55000/55000 [==============================] - 5s 96us/sample - loss: 0.1707 - accuracy: 0.9360 - val_loss: 0.2160 - val_accuracy: 0.9230\n",
            "Epoch 17/20\n",
            "55000/55000 [==============================] - 5s 95us/sample - loss: 0.1647 - accuracy: 0.9371 - val_loss: 0.2192 - val_accuracy: 0.9244\n",
            "Epoch 18/20\n",
            "55000/55000 [==============================] - 5s 93us/sample - loss: 0.1593 - accuracy: 0.9401 - val_loss: 0.2182 - val_accuracy: 0.9222\n",
            "Epoch 19/20\n",
            "55000/55000 [==============================] - 5s 94us/sample - loss: 0.1527 - accuracy: 0.9423 - val_loss: 0.2249 - val_accuracy: 0.9212\n",
            "Epoch 20/20\n",
            "55000/55000 [==============================] - 5s 94us/sample - loss: 0.1501 - accuracy: 0.9420 - val_loss: 0.2196 - val_accuracy: 0.9260\n"
          ],
          "name": "stdout"
        }
      ]
    },
    {
      "cell_type": "code",
      "metadata": {
        "id": "0auFbjEJBUjb",
        "colab_type": "code",
        "outputId": "4bb1a2b5-2f3b-4ced-d7ef-762d30a7b679",
        "colab": {
          "base_uri": "https://localhost:8080/",
          "height": 34
        }
      },
      "source": [
        "# Get the training time\n",
        "train_time = train_rt.process_time\n",
        "train_time # in seconds"
      ],
      "execution_count": 17,
      "outputs": [
        {
          "output_type": "execute_result",
          "data": {
            "text/plain": [
              "115.624179"
            ]
          },
          "metadata": {
            "tags": []
          },
          "execution_count": 17
        }
      ]
    },
    {
      "cell_type": "markdown",
      "metadata": {
        "colab_type": "text",
        "id": "T3SNc_USDse3"
      },
      "source": [
        "## Test the model"
      ]
    },
    {
      "cell_type": "code",
      "metadata": {
        "id": "28XYLN2DE9BA",
        "colab_type": "code",
        "colab": {}
      },
      "source": [
        "# Define callback to get total test time\n",
        "import datetime\n",
        "\n",
        "class TestRuntimeCallback(keras.callbacks.Callback):\n",
        "\n",
        "  def on_test_begin(self,logs={}):\n",
        "    self.start = datetime.datetime.now()\n",
        "\n",
        "  def on_test_end(self,logs={}):\n",
        "    self.process_time = (datetime.datetime.now() - self.start).total_seconds()"
      ],
      "execution_count": 0,
      "outputs": []
    },
    {
      "cell_type": "code",
      "metadata": {
        "colab_type": "code",
        "outputId": "6a65ca7a-74df-4da7-dcc2-50f1109baab5",
        "id": "3smS2Uh4Dse4",
        "colab": {
          "base_uri": "https://localhost:8080/",
          "height": 34
        }
      },
      "source": [
        "test_rt = TestRuntimeCallback()\n",
        "test_loss, test_acc = model.evaluate(test_images, test_labels, callbacks=[test_rt])\n",
        "test_loss, test_acc"
      ],
      "execution_count": 19,
      "outputs": [
        {
          "output_type": "execute_result",
          "data": {
            "text/plain": [
              "(0.2319909753680229, 0.9187)"
            ]
          },
          "metadata": {
            "tags": []
          },
          "execution_count": 19
        }
      ]
    },
    {
      "cell_type": "code",
      "metadata": {
        "colab_type": "code",
        "outputId": "50d981a5-7bc3-42bf-d9be-20ac470805d5",
        "id": "nGWjHlvfDse8",
        "colab": {
          "base_uri": "https://localhost:8080/",
          "height": 34
        }
      },
      "source": [
        "test_time = test_rt.process_time\n",
        "test_time # in seconds"
      ],
      "execution_count": 20,
      "outputs": [
        {
          "output_type": "execute_result",
          "data": {
            "text/plain": [
              "0.844875"
            ]
          },
          "metadata": {
            "tags": []
          },
          "execution_count": 20
        }
      ]
    },
    {
      "cell_type": "markdown",
      "metadata": {
        "id": "SBKvLr-4Zgqo",
        "colab_type": "text"
      },
      "source": [
        "### Create a dataframe for the training and test statistics"
      ]
    },
    {
      "cell_type": "code",
      "metadata": {
        "id": "kVAHQzl0ZkmV",
        "colab_type": "code",
        "outputId": "c0ec3166-d585-4982-bace-526b7414fb7d",
        "colab": {
          "base_uri": "https://localhost:8080/",
          "height": 34
        }
      },
      "source": [
        "history_dict = history.history\n",
        "history_dict.keys()"
      ],
      "execution_count": 21,
      "outputs": [
        {
          "output_type": "execute_result",
          "data": {
            "text/plain": [
              "dict_keys(['loss', 'accuracy', 'val_loss', 'val_accuracy'])"
            ]
          },
          "metadata": {
            "tags": []
          },
          "execution_count": 21
        }
      ]
    },
    {
      "cell_type": "code",
      "metadata": {
        "id": "2Pm3qQ_KN9Yr",
        "colab_type": "code",
        "outputId": "3c18760e-0ace-4f64-b829-138444eaf43b",
        "colab": {
          "base_uri": "https://localhost:8080/",
          "height": 206
        }
      },
      "source": [
        "history_df=pd.DataFrame(history_dict)\n",
        "history_df.tail()"
      ],
      "execution_count": 22,
      "outputs": [
        {
          "output_type": "execute_result",
          "data": {
            "text/html": [
              "<div>\n",
              "<style scoped>\n",
              "    .dataframe tbody tr th:only-of-type {\n",
              "        vertical-align: middle;\n",
              "    }\n",
              "\n",
              "    .dataframe tbody tr th {\n",
              "        vertical-align: top;\n",
              "    }\n",
              "\n",
              "    .dataframe thead th {\n",
              "        text-align: right;\n",
              "    }\n",
              "</style>\n",
              "<table border=\"1\" class=\"dataframe\">\n",
              "  <thead>\n",
              "    <tr style=\"text-align: right;\">\n",
              "      <th></th>\n",
              "      <th>loss</th>\n",
              "      <th>accuracy</th>\n",
              "      <th>val_loss</th>\n",
              "      <th>val_accuracy</th>\n",
              "    </tr>\n",
              "  </thead>\n",
              "  <tbody>\n",
              "    <tr>\n",
              "      <th>15</th>\n",
              "      <td>0.170699</td>\n",
              "      <td>0.936036</td>\n",
              "      <td>0.216009</td>\n",
              "      <td>0.9230</td>\n",
              "    </tr>\n",
              "    <tr>\n",
              "      <th>16</th>\n",
              "      <td>0.164696</td>\n",
              "      <td>0.937055</td>\n",
              "      <td>0.219202</td>\n",
              "      <td>0.9244</td>\n",
              "    </tr>\n",
              "    <tr>\n",
              "      <th>17</th>\n",
              "      <td>0.159298</td>\n",
              "      <td>0.940127</td>\n",
              "      <td>0.218168</td>\n",
              "      <td>0.9222</td>\n",
              "    </tr>\n",
              "    <tr>\n",
              "      <th>18</th>\n",
              "      <td>0.152709</td>\n",
              "      <td>0.942309</td>\n",
              "      <td>0.224936</td>\n",
              "      <td>0.9212</td>\n",
              "    </tr>\n",
              "    <tr>\n",
              "      <th>19</th>\n",
              "      <td>0.150072</td>\n",
              "      <td>0.942018</td>\n",
              "      <td>0.219612</td>\n",
              "      <td>0.9260</td>\n",
              "    </tr>\n",
              "  </tbody>\n",
              "</table>\n",
              "</div>"
            ],
            "text/plain": [
              "        loss  accuracy  val_loss  val_accuracy\n",
              "15  0.170699  0.936036  0.216009        0.9230\n",
              "16  0.164696  0.937055  0.219202        0.9244\n",
              "17  0.159298  0.940127  0.218168        0.9222\n",
              "18  0.152709  0.942309  0.224936        0.9212\n",
              "19  0.150072  0.942018  0.219612        0.9260"
            ]
          },
          "metadata": {
            "tags": []
          },
          "execution_count": 22
        }
      ]
    },
    {
      "cell_type": "code",
      "metadata": {
        "id": "AdvqcBrWN9Yy",
        "colab_type": "code",
        "outputId": "144b8aa2-ae26-4944-a831-f96880ab6ecc",
        "colab": {
          "base_uri": "https://localhost:8080/",
          "height": 168
        }
      },
      "source": [
        "results_df = history_df.iloc[-1:].copy()\n",
        "results_df.insert(0,'model','CNN (2 layers), baseline 32pool64pool') # model name appears first\n",
        "results_df['test_loss'] = test_loss #incorporate test results\n",
        "results_df['test_accuracy'] = test_acc\n",
        "results_df['training time (sec)'] = train_time    \n",
        "results_df['testing time (sec)'] = test_time      # testing time appears last\n",
        "results_df"
      ],
      "execution_count": 23,
      "outputs": [
        {
          "output_type": "execute_result",
          "data": {
            "text/html": [
              "<div>\n",
              "<style scoped>\n",
              "    .dataframe tbody tr th:only-of-type {\n",
              "        vertical-align: middle;\n",
              "    }\n",
              "\n",
              "    .dataframe tbody tr th {\n",
              "        vertical-align: top;\n",
              "    }\n",
              "\n",
              "    .dataframe thead th {\n",
              "        text-align: right;\n",
              "    }\n",
              "</style>\n",
              "<table border=\"1\" class=\"dataframe\">\n",
              "  <thead>\n",
              "    <tr style=\"text-align: right;\">\n",
              "      <th></th>\n",
              "      <th>model</th>\n",
              "      <th>loss</th>\n",
              "      <th>accuracy</th>\n",
              "      <th>val_loss</th>\n",
              "      <th>val_accuracy</th>\n",
              "      <th>test_loss</th>\n",
              "      <th>test_accuracy</th>\n",
              "      <th>training time (sec)</th>\n",
              "      <th>testing time (sec)</th>\n",
              "    </tr>\n",
              "  </thead>\n",
              "  <tbody>\n",
              "    <tr>\n",
              "      <th>19</th>\n",
              "      <td>CNN (2 layers), baseline 32pool64pool</td>\n",
              "      <td>0.150072</td>\n",
              "      <td>0.942018</td>\n",
              "      <td>0.219612</td>\n",
              "      <td>0.926</td>\n",
              "      <td>0.231991</td>\n",
              "      <td>0.9187</td>\n",
              "      <td>115.624179</td>\n",
              "      <td>0.844875</td>\n",
              "    </tr>\n",
              "  </tbody>\n",
              "</table>\n",
              "</div>"
            ],
            "text/plain": [
              "                                    model  ...  testing time (sec)\n",
              "19  CNN (2 layers), baseline 32pool64pool  ...            0.844875\n",
              "\n",
              "[1 rows x 9 columns]"
            ]
          },
          "metadata": {
            "tags": []
          },
          "execution_count": 23
        }
      ]
    },
    {
      "cell_type": "markdown",
      "metadata": {
        "id": "_NeAd6MKN9Y1",
        "colab_type": "text"
      },
      "source": [
        "### Plotting the performance \n",
        "\n",
        "We use Matplotlib to create 2 plots--displaying the training and validation loss/accuracy for each training epoch side by side."
      ]
    },
    {
      "cell_type": "code",
      "metadata": {
        "id": "z5lD2M7QN9Y2",
        "colab_type": "code",
        "outputId": "ec242dee-2b17-4dd9-cebe-b5c5807c5244",
        "colab": {
          "base_uri": "https://localhost:8080/",
          "height": 301
        }
      },
      "source": [
        "import matplotlib.pyplot as plt\n",
        "\n",
        "acc = history.history['accuracy']\n",
        "val_acc = history.history['val_accuracy']\n",
        "loss = history.history['loss']\n",
        "val_loss = history.history['val_loss']\n",
        "\n",
        "epochs = range(1, len(acc) + 1)\n",
        "\n",
        "# \"bo\" is for \"blue dot\"\n",
        "plt.plot(epochs, loss, 'bo', label='Training loss')\n",
        "# b is for \"solid blue line\"\n",
        "plt.plot(epochs, val_loss, 'b', label='Validation loss')\n",
        "plt.title('Training and validation loss')\n",
        "\n",
        "plt.xlabel('Epochs')\n",
        "plt.ylabel('Loss')\n",
        "plt.legend()\n",
        "\n",
        "plt.show()"
      ],
      "execution_count": 24,
      "outputs": [
        {
          "output_type": "display_data",
          "data": {
            "image/png": "[encoded data removed]",
            "text/plain": [
              "<Figure size 432x288 with 1 Axes>"
            ]
          },
          "metadata": {
            "tags": [],
            "needs_background": "light"
          }
        }
      ]
    },
    {
      "cell_type": "code",
      "metadata": {
        "id": "bACOXGORN9Y6",
        "colab_type": "code",
        "outputId": "08f24aea-484b-4449-bff2-4f1b7bca11ce",
        "colab": {
          "base_uri": "https://localhost:8080/",
          "height": 301
        }
      },
      "source": [
        "plt.clf()   # clear figure\n",
        "acc_values = history_dict['accuracy']\n",
        "# val_acc_values = history_dict['val_acc']\n",
        "\n",
        "plt.plot(epochs, acc, 'bo', label='Training acc')\n",
        "plt.plot(epochs, val_acc, 'b', label='Validation acc')\n",
        "plt.title('Training and validation accuracy')\n",
        "\n",
        "plt.xlabel('Epochs')\n",
        "plt.ylabel('Accuracy')\n",
        "plt.legend()\n",
        "\n",
        "plt.show()"
      ],
      "execution_count": 25,
      "outputs": [
        {
          "output_type": "display_data",
          "data": {
            "image/png": "[encoded data removed]",
            "text/plain": [
              "<Figure size 432x288 with 1 Axes>"
            ]
          },
          "metadata": {
            "tags": [],
            "needs_background": "light"
          }
        }
      ]
    },
    {
      "cell_type": "markdown",
      "metadata": {
        "id": "garEiLN7Fvvt",
        "colab_type": "text"
      },
      "source": [
        "#Experiment 6\n",
        "64, pool, 32, pool"
      ]
    },
    {
      "cell_type": "markdown",
      "metadata": {
        "id": "WTm7TDniHaWQ",
        "colab_type": "text"
      },
      "source": [
        "##Build and compile the model"
      ]
    },
    {
      "cell_type": "code",
      "metadata": {
        "colab_type": "code",
        "id": "zgUPKUmMHiHg",
        "colab": {}
      },
      "source": [
        "# CNN with 2 convolution/max pooling layers\n",
        "\n",
        "model = models.Sequential()\n",
        "model.add(layers.Conv2D(64, (3, 3), activation='relu', input_shape=(28, 28, 1)))\n",
        "model.add(layers.MaxPooling2D((2, 2)))\n",
        "model.add(layers.Dropout(0.2))\n",
        "\n",
        "model.add(layers.Conv2D(32, (3, 3), activation='relu'))\n",
        "model.add(layers.MaxPooling2D((2, 2)))\n",
        "model.add(layers.Dropout(0.2))\n",
        "\n",
        "model.add(layers.Flatten())\n",
        "model.add(layers.Dense(256, activation='relu'))\n",
        "model.add(layers.Dropout(0.2))\n",
        "\n",
        "model.add(layers.Dense(10, activation='softmax'))\n",
        "\n",
        "model.compile(optimizer ='adam',\n",
        "              loss='sparse_categorical_crossentropy',\n",
        "              metrics=['accuracy'])"
      ],
      "execution_count": 0,
      "outputs": []
    },
    {
      "cell_type": "code",
      "metadata": {
        "colab_type": "code",
        "id": "DnqCDWORHiHr",
        "colab": {}
      },
      "source": [
        "# keras.utils.plot_model(model, show_shapes=True)"
      ],
      "execution_count": 0,
      "outputs": []
    },
    {
      "cell_type": "markdown",
      "metadata": {
        "colab_type": "text",
        "id": "WFDE4KyKHiHw"
      },
      "source": [
        "##Train the model"
      ]
    },
    {
      "cell_type": "code",
      "metadata": {
        "colab_type": "code",
        "outputId": "5792f7e4-bdd1-41f6-cca9-96dc0ce6b5ed",
        "id": "jaUiJYH3HiHx",
        "colab": {
          "base_uri": "https://localhost:8080/",
          "height": 0
        }
      },
      "source": [
        "train_rt = TrainRuntimeCallback()\n",
        "history = model.fit(train_images, train_labels, callbacks=[train_rt], epochs=20,  batch_size = 100,\n",
        "                    validation_data=(val_images, val_labels))"
      ],
      "execution_count": 28,
      "outputs": [
        {
          "output_type": "stream",
          "text": [
            "Train on 55000 samples, validate on 5000 samples\n",
            "Epoch 1/20\n",
            "55000/55000 [==============================] - 4s 66us/sample - loss: 0.6192 - accuracy: 0.7690 - val_loss: 0.4077 - val_accuracy: 0.8526\n",
            "Epoch 2/20\n",
            "55000/55000 [==============================] - 4s 64us/sample - loss: 0.4010 - accuracy: 0.8525 - val_loss: 0.3229 - val_accuracy: 0.8828\n",
            "Epoch 3/20\n",
            "55000/55000 [==============================] - 4s 65us/sample - loss: 0.3451 - accuracy: 0.8728 - val_loss: 0.3014 - val_accuracy: 0.8912\n",
            "Epoch 4/20\n",
            "55000/55000 [==============================] - 4s 64us/sample - loss: 0.3152 - accuracy: 0.8829 - val_loss: 0.2764 - val_accuracy: 0.8954\n",
            "Epoch 5/20\n",
            "55000/55000 [==============================] - 4s 64us/sample - loss: 0.2942 - accuracy: 0.8920 - val_loss: 0.2636 - val_accuracy: 0.9020\n",
            "Epoch 6/20\n",
            "55000/55000 [==============================] - 4s 65us/sample - loss: 0.2745 - accuracy: 0.8983 - val_loss: 0.2752 - val_accuracy: 0.8972\n",
            "Epoch 7/20\n",
            "55000/55000 [==============================] - 4s 64us/sample - loss: 0.2621 - accuracy: 0.9024 - val_loss: 0.2448 - val_accuracy: 0.9068\n",
            "Epoch 8/20\n",
            "55000/55000 [==============================] - 4s 64us/sample - loss: 0.2498 - accuracy: 0.9077 - val_loss: 0.2401 - val_accuracy: 0.9038\n",
            "Epoch 9/20\n",
            "55000/55000 [==============================] - 4s 64us/sample - loss: 0.2375 - accuracy: 0.9108 - val_loss: 0.2333 - val_accuracy: 0.9126\n",
            "Epoch 10/20\n",
            "55000/55000 [==============================] - 4s 64us/sample - loss: 0.2278 - accuracy: 0.9145 - val_loss: 0.2327 - val_accuracy: 0.9122\n",
            "Epoch 11/20\n",
            "55000/55000 [==============================] - 3s 64us/sample - loss: 0.2189 - accuracy: 0.9165 - val_loss: 0.2261 - val_accuracy: 0.9176\n",
            "Epoch 12/20\n",
            "55000/55000 [==============================] - 4s 64us/sample - loss: 0.2132 - accuracy: 0.9197 - val_loss: 0.2148 - val_accuracy: 0.9170\n",
            "Epoch 13/20\n",
            "55000/55000 [==============================] - 4s 64us/sample - loss: 0.2037 - accuracy: 0.9236 - val_loss: 0.2167 - val_accuracy: 0.9196\n",
            "Epoch 14/20\n",
            "55000/55000 [==============================] - 4s 64us/sample - loss: 0.1977 - accuracy: 0.9265 - val_loss: 0.2223 - val_accuracy: 0.9196\n",
            "Epoch 15/20\n",
            "55000/55000 [==============================] - 4s 64us/sample - loss: 0.1900 - accuracy: 0.9272 - val_loss: 0.2089 - val_accuracy: 0.9208\n",
            "Epoch 16/20\n",
            "55000/55000 [==============================] - 3s 63us/sample - loss: 0.1858 - accuracy: 0.9292 - val_loss: 0.2244 - val_accuracy: 0.9186\n",
            "Epoch 17/20\n",
            "55000/55000 [==============================] - 4s 64us/sample - loss: 0.1795 - accuracy: 0.9321 - val_loss: 0.2146 - val_accuracy: 0.9190\n",
            "Epoch 18/20\n",
            "55000/55000 [==============================] - 4s 64us/sample - loss: 0.1781 - accuracy: 0.9319 - val_loss: 0.2137 - val_accuracy: 0.9204\n",
            "Epoch 19/20\n",
            "55000/55000 [==============================] - 3s 64us/sample - loss: 0.1713 - accuracy: 0.9347 - val_loss: 0.2084 - val_accuracy: 0.9222\n",
            "Epoch 20/20\n",
            "55000/55000 [==============================] - 4s 64us/sample - loss: 0.1659 - accuracy: 0.9365 - val_loss: 0.2128 - val_accuracy: 0.9248\n"
          ],
          "name": "stdout"
        }
      ]
    },
    {
      "cell_type": "code",
      "metadata": {
        "colab_type": "code",
        "outputId": "586d6cce-d456-48e8-db86-02981857a0b3",
        "id": "Qmc0cmWBHiH1",
        "colab": {
          "base_uri": "https://localhost:8080/",
          "height": 0
        }
      },
      "source": [
        "# Get the training time\n",
        "train_time = train_rt.process_time\n",
        "train_time # in seconds"
      ],
      "execution_count": 29,
      "outputs": [
        {
          "output_type": "execute_result",
          "data": {
            "text/plain": [
              "71.097494"
            ]
          },
          "metadata": {
            "tags": []
          },
          "execution_count": 29
        }
      ]
    },
    {
      "cell_type": "markdown",
      "metadata": {
        "colab_type": "text",
        "id": "8Orz6JTjIL10"
      },
      "source": [
        "## Test the model"
      ]
    },
    {
      "cell_type": "code",
      "metadata": {
        "colab_type": "code",
        "outputId": "6a6fbdea-1268-4f45-e640-ebb6c3fdb101",
        "id": "NqLr7sK8IL12",
        "colab": {
          "base_uri": "https://localhost:8080/",
          "height": 0
        }
      },
      "source": [
        "test_rt = TestRuntimeCallback()\n",
        "test_loss, test_acc = model.evaluate(test_images, test_labels, callbacks=[test_rt])\n",
        "test_loss, test_acc"
      ],
      "execution_count": 30,
      "outputs": [
        {
          "output_type": "execute_result",
          "data": {
            "text/plain": [
              "(0.23763156986832618, 0.9165)"
            ]
          },
          "metadata": {
            "tags": []
          },
          "execution_count": 30
        }
      ]
    },
    {
      "cell_type": "code",
      "metadata": {
        "colab_type": "code",
        "outputId": "e7026f84-c038-4b2e-92fb-2b6954fa2a4f",
        "id": "jCAL8Nj0IL15",
        "colab": {
          "base_uri": "https://localhost:8080/",
          "height": 0
        }
      },
      "source": [
        "test_time = test_rt.process_time\n",
        "test_time # in seconds"
      ],
      "execution_count": 31,
      "outputs": [
        {
          "output_type": "execute_result",
          "data": {
            "text/plain": [
              "0.501577"
            ]
          },
          "metadata": {
            "tags": []
          },
          "execution_count": 31
        }
      ]
    },
    {
      "cell_type": "markdown",
      "metadata": {
        "colab_type": "text",
        "id": "24x4NtczKm1o"
      },
      "source": [
        "##Add training and test statistics to results dataframe"
      ]
    },
    {
      "cell_type": "code",
      "metadata": {
        "colab_type": "code",
        "outputId": "4d22e141-5f71-4160-ec59-62607d84af38",
        "id": "L-TWet-AKm1s",
        "colab": {
          "base_uri": "https://localhost:8080/",
          "height": 0
        }
      },
      "source": [
        "history_dict = history.history\n",
        "history_df=pd.DataFrame(history_dict)\n",
        "history_df.tail()"
      ],
      "execution_count": 32,
      "outputs": [
        {
          "output_type": "execute_result",
          "data": {
            "text/html": [
              "<div>\n",
              "<style scoped>\n",
              "    .dataframe tbody tr th:only-of-type {\n",
              "        vertical-align: middle;\n",
              "    }\n",
              "\n",
              "    .dataframe tbody tr th {\n",
              "        vertical-align: top;\n",
              "    }\n",
              "\n",
              "    .dataframe thead th {\n",
              "        text-align: right;\n",
              "    }\n",
              "</style>\n",
              "<table border=\"1\" class=\"dataframe\">\n",
              "  <thead>\n",
              "    <tr style=\"text-align: right;\">\n",
              "      <th></th>\n",
              "      <th>loss</th>\n",
              "      <th>accuracy</th>\n",
              "      <th>val_loss</th>\n",
              "      <th>val_accuracy</th>\n",
              "    </tr>\n",
              "  </thead>\n",
              "  <tbody>\n",
              "    <tr>\n",
              "      <th>15</th>\n",
              "      <td>0.185832</td>\n",
              "      <td>0.929164</td>\n",
              "      <td>0.224416</td>\n",
              "      <td>0.9186</td>\n",
              "    </tr>\n",
              "    <tr>\n",
              "      <th>16</th>\n",
              "      <td>0.179466</td>\n",
              "      <td>0.932127</td>\n",
              "      <td>0.214648</td>\n",
              "      <td>0.9190</td>\n",
              "    </tr>\n",
              "    <tr>\n",
              "      <th>17</th>\n",
              "      <td>0.178104</td>\n",
              "      <td>0.931891</td>\n",
              "      <td>0.213720</td>\n",
              "      <td>0.9204</td>\n",
              "    </tr>\n",
              "    <tr>\n",
              "      <th>18</th>\n",
              "      <td>0.171284</td>\n",
              "      <td>0.934655</td>\n",
              "      <td>0.208412</td>\n",
              "      <td>0.9222</td>\n",
              "    </tr>\n",
              "    <tr>\n",
              "      <th>19</th>\n",
              "      <td>0.165884</td>\n",
              "      <td>0.936509</td>\n",
              "      <td>0.212797</td>\n",
              "      <td>0.9248</td>\n",
              "    </tr>\n",
              "  </tbody>\n",
              "</table>\n",
              "</div>"
            ],
            "text/plain": [
              "        loss  accuracy  val_loss  val_accuracy\n",
              "15  0.185832  0.929164  0.224416        0.9186\n",
              "16  0.179466  0.932127  0.214648        0.9190\n",
              "17  0.178104  0.931891  0.213720        0.9204\n",
              "18  0.171284  0.934655  0.208412        0.9222\n",
              "19  0.165884  0.936509  0.212797        0.9248"
            ]
          },
          "metadata": {
            "tags": []
          },
          "execution_count": 32
        }
      ]
    },
    {
      "cell_type": "code",
      "metadata": {
        "colab_type": "code",
        "outputId": "413a1f27-8e52-4e0d-b566-c72233bd43c5",
        "id": "XcNETugcKm1z",
        "colab": {
          "base_uri": "https://localhost:8080/",
          "height": 0
        }
      },
      "source": [
        "results_dfnew = history_df.iloc[-1:].copy()\n",
        "results_dfnew.insert(0,'model','CNN (2 layers), 64pool32pool') # want the model name to appear first\n",
        "results_dfnew['test_loss'] = test_loss #incorporate test results\n",
        "results_dfnew['test_accuracy'] = test_acc\n",
        "results_dfnew['training time (sec)'] = train_time     \n",
        "results_dfnew['testing time (sec)'] = test_time      # testing time appears last\n",
        "results_dfnew"
      ],
      "execution_count": 33,
      "outputs": [
        {
          "output_type": "execute_result",
          "data": {
            "text/html": [
              "<div>\n",
              "<style scoped>\n",
              "    .dataframe tbody tr th:only-of-type {\n",
              "        vertical-align: middle;\n",
              "    }\n",
              "\n",
              "    .dataframe tbody tr th {\n",
              "        vertical-align: top;\n",
              "    }\n",
              "\n",
              "    .dataframe thead th {\n",
              "        text-align: right;\n",
              "    }\n",
              "</style>\n",
              "<table border=\"1\" class=\"dataframe\">\n",
              "  <thead>\n",
              "    <tr style=\"text-align: right;\">\n",
              "      <th></th>\n",
              "      <th>model</th>\n",
              "      <th>loss</th>\n",
              "      <th>accuracy</th>\n",
              "      <th>val_loss</th>\n",
              "      <th>val_accuracy</th>\n",
              "      <th>test_loss</th>\n",
              "      <th>test_accuracy</th>\n",
              "      <th>training time (sec)</th>\n",
              "      <th>testing time (sec)</th>\n",
              "    </tr>\n",
              "  </thead>\n",
              "  <tbody>\n",
              "    <tr>\n",
              "      <th>19</th>\n",
              "      <td>CNN (2 layers), 64pool32pool</td>\n",
              "      <td>0.165884</td>\n",
              "      <td>0.936509</td>\n",
              "      <td>0.212797</td>\n",
              "      <td>0.9248</td>\n",
              "      <td>0.237632</td>\n",
              "      <td>0.9165</td>\n",
              "      <td>71.097494</td>\n",
              "      <td>0.501577</td>\n",
              "    </tr>\n",
              "  </tbody>\n",
              "</table>\n",
              "</div>"
            ],
            "text/plain": [
              "                           model  ...  testing time (sec)\n",
              "19  CNN (2 layers), 64pool32pool  ...            0.501577\n",
              "\n",
              "[1 rows x 9 columns]"
            ]
          },
          "metadata": {
            "tags": []
          },
          "execution_count": 33
        }
      ]
    },
    {
      "cell_type": "code",
      "metadata": {
        "colab_type": "code",
        "outputId": "04d304ac-555d-4dac-eca2-acb55674ab03",
        "id": "T1S65m2DKm13",
        "colab": {
          "base_uri": "https://localhost:8080/",
          "height": 0
        }
      },
      "source": [
        "results_df=results_df.append(results_dfnew,ignore_index=True)\n",
        "results_df"
      ],
      "execution_count": 34,
      "outputs": [
        {
          "output_type": "execute_result",
          "data": {
            "text/html": [
              "<div>\n",
              "<style scoped>\n",
              "    .dataframe tbody tr th:only-of-type {\n",
              "        vertical-align: middle;\n",
              "    }\n",
              "\n",
              "    .dataframe tbody tr th {\n",
              "        vertical-align: top;\n",
              "    }\n",
              "\n",
              "    .dataframe thead th {\n",
              "        text-align: right;\n",
              "    }\n",
              "</style>\n",
              "<table border=\"1\" class=\"dataframe\">\n",
              "  <thead>\n",
              "    <tr style=\"text-align: right;\">\n",
              "      <th></th>\n",
              "      <th>model</th>\n",
              "      <th>loss</th>\n",
              "      <th>accuracy</th>\n",
              "      <th>val_loss</th>\n",
              "      <th>val_accuracy</th>\n",
              "      <th>test_loss</th>\n",
              "      <th>test_accuracy</th>\n",
              "      <th>training time (sec)</th>\n",
              "      <th>testing time (sec)</th>\n",
              "    </tr>\n",
              "  </thead>\n",
              "  <tbody>\n",
              "    <tr>\n",
              "      <th>0</th>\n",
              "      <td>CNN (2 layers), baseline 32pool64pool</td>\n",
              "      <td>0.148440</td>\n",
              "      <td>0.942564</td>\n",
              "      <td>0.229695</td>\n",
              "      <td>0.9206</td>\n",
              "      <td>0.240504</td>\n",
              "      <td>0.9187</td>\n",
              "      <td>68.169618</td>\n",
              "      <td>0.486633</td>\n",
              "    </tr>\n",
              "    <tr>\n",
              "      <th>1</th>\n",
              "      <td>CNN (2 layers), 64pool32pool</td>\n",
              "      <td>0.165884</td>\n",
              "      <td>0.936509</td>\n",
              "      <td>0.212797</td>\n",
              "      <td>0.9248</td>\n",
              "      <td>0.237632</td>\n",
              "      <td>0.9165</td>\n",
              "      <td>71.097494</td>\n",
              "      <td>0.501577</td>\n",
              "    </tr>\n",
              "  </tbody>\n",
              "</table>\n",
              "</div>"
            ],
            "text/plain": [
              "                                   model  ...  testing time (sec)\n",
              "0  CNN (2 layers), baseline 32pool64pool  ...            0.486633\n",
              "1           CNN (2 layers), 64pool32pool  ...            0.501577\n",
              "\n",
              "[2 rows x 9 columns]"
            ]
          },
          "metadata": {
            "tags": []
          },
          "execution_count": 34
        }
      ]
    },
    {
      "cell_type": "markdown",
      "metadata": {
        "colab_type": "text",
        "id": "bRWJleMLKm16"
      },
      "source": [
        "## Plotting the performance "
      ]
    },
    {
      "cell_type": "code",
      "metadata": {
        "colab_type": "code",
        "outputId": "c6ea3e14-1807-4b83-9a15-08944207aea8",
        "id": "FpR4gakrKm17",
        "colab": {
          "base_uri": "https://localhost:8080/",
          "height": 301
        }
      },
      "source": [
        "import matplotlib.pyplot as plt\n",
        "\n",
        "acc = history.history['accuracy']\n",
        "val_acc = history.history['val_accuracy']\n",
        "loss = history.history['loss']\n",
        "val_loss = history.history['val_loss']\n",
        "\n",
        "epochs = range(1, len(acc) + 1)\n",
        "\n",
        "# \"bo\" is for \"blue dot\"\n",
        "plt.plot(epochs, loss, 'bo', label='Training loss')\n",
        "# b is for \"solid blue line\"\n",
        "plt.plot(epochs, val_loss, 'b', label='Validation loss')\n",
        "plt.title('Training and validation loss')\n",
        "\n",
        "plt.xlabel('Epochs')\n",
        "plt.ylabel('Loss')\n",
        "plt.legend()\n",
        "\n",
        "plt.show()"
      ],
      "execution_count": 35,
      "outputs": [
        {
          "output_type": "display_data",
          "data": {
            "image/png": "[encoded data removed]",
            "text/plain": [
              "<Figure size 432x288 with 1 Axes>"
            ]
          },
          "metadata": {
            "tags": [],
            "needs_background": "light"
          }
        }
      ]
    },
    {
      "cell_type": "code",
      "metadata": {
        "colab_type": "code",
        "outputId": "f5cc6d67-1486-46fd-dd2a-e9d11cde7f02",
        "id": "ivFuo_99Km19",
        "colab": {
          "base_uri": "https://localhost:8080/",
          "height": 301
        }
      },
      "source": [
        "plt.clf()   # clear figure\n",
        "acc_values = history_dict['accuracy']\n",
        "# val_acc_values = history_dict['val_acc']\n",
        "\n",
        "plt.plot(epochs, acc, 'bo', label='Training acc')\n",
        "plt.plot(epochs, val_acc, 'b', label='Validation acc')\n",
        "plt.title('Training and validation accuracy')\n",
        "\n",
        "plt.xlabel('Epochs')\n",
        "plt.ylabel('Accuracy')\n",
        "plt.legend()\n",
        "\n",
        "plt.show()"
      ],
      "execution_count": 36,
      "outputs": [
        {
          "output_type": "display_data",
          "data": {
            "image/png": "[encoded data removed]",
            "text/plain": [
              "<Figure size 432x288 with 1 Axes>"
            ]
          },
          "metadata": {
            "tags": [],
            "needs_background": "light"
          }
        }
      ]
    },
    {
      "cell_type": "code",
      "metadata": {
        "colab_type": "code",
        "id": "xCUUXs5GKm2A",
        "outputId": "67738230-5ea1-46ae-d939-3876d691eda9",
        "colab": {
          "base_uri": "https://localhost:8080/",
          "height": 34
        }
      },
      "source": [
        "# save the model\n",
        "model.save(\"experiment4\")"
      ],
      "execution_count": 37,
      "outputs": [
        {
          "output_type": "stream",
          "text": [
            "INFO:tensorflow:Assets written to: experiment4/assets\n"
          ],
          "name": "stdout"
        }
      ]
    },
    {
      "cell_type": "markdown",
      "metadata": {
        "colab_type": "text",
        "id": "fKUtJUXlJ4-8"
      },
      "source": [
        "#Experiment 7\n",
        "32, 64, pool\n"
      ]
    },
    {
      "cell_type": "markdown",
      "metadata": {
        "colab_type": "text",
        "id": "7oXCVHCbJ4_E"
      },
      "source": [
        "##Build and compile the model"
      ]
    },
    {
      "cell_type": "code",
      "metadata": {
        "colab_type": "code",
        "id": "Oa_ZNrbxJ4_H",
        "colab": {}
      },
      "source": [
        "# CNN with 2 convolution/max pooling layers\n",
        "\n",
        "model = models.Sequential()\n",
        "model.add(layers.Conv2D(32, (3, 3), activation='relu', input_shape=(28, 28, 1)))\n",
        "model.add(layers.Dropout(0.2))\n",
        "\n",
        "model.add(layers.Conv2D(64, (3, 3), activation='relu'))\n",
        "model.add(layers.MaxPooling2D((2, 2)))\n",
        "model.add(layers.Dropout(0.2))\n",
        "\n",
        "model.add(layers.Flatten())\n",
        "model.add(layers.Dense(256, activation='relu'))\n",
        "model.add(layers.Dropout(0.2))\n",
        "\n",
        "model.add(layers.Dense(10, activation='softmax'))\n",
        "\n",
        "model.compile(optimizer ='adam',\n",
        "              loss='sparse_categorical_crossentropy',\n",
        "              metrics=['accuracy'])"
      ],
      "execution_count": 0,
      "outputs": []
    },
    {
      "cell_type": "code",
      "metadata": {
        "colab_type": "code",
        "id": "dXardhVJJ4_S",
        "colab": {}
      },
      "source": [
        "# keras.utils.plot_model(model, show_shapes=True)"
      ],
      "execution_count": 0,
      "outputs": []
    },
    {
      "cell_type": "markdown",
      "metadata": {
        "colab_type": "text",
        "id": "Po-NkkkxJ4_a"
      },
      "source": [
        "##Train the model"
      ]
    },
    {
      "cell_type": "code",
      "metadata": {
        "colab_type": "code",
        "outputId": "b0af92e7-f8ab-4e11-f7e0-f8a8fc032faa",
        "id": "uUQSUX__J4_b",
        "colab": {
          "base_uri": "https://localhost:8080/",
          "height": 749
        }
      },
      "source": [
        "train_rt = TrainRuntimeCallback()\n",
        "history = model.fit(train_images, train_labels, callbacks=[train_rt], epochs=20,  batch_size = 100,\n",
        "                    validation_data=(val_images, val_labels))"
      ],
      "execution_count": 39,
      "outputs": [
        {
          "output_type": "stream",
          "text": [
            "Train on 55000 samples, validate on 5000 samples\n",
            "Epoch 1/20\n",
            "55000/55000 [==============================] - 6s 115us/sample - loss: 0.4610 - accuracy: 0.8333 - val_loss: 0.3074 - val_accuracy: 0.8880\n",
            "Epoch 2/20\n",
            "55000/55000 [==============================] - 6s 112us/sample - loss: 0.2922 - accuracy: 0.8937 - val_loss: 0.2537 - val_accuracy: 0.9062\n",
            "Epoch 3/20\n",
            "55000/55000 [==============================] - 6s 113us/sample - loss: 0.2426 - accuracy: 0.9115 - val_loss: 0.2237 - val_accuracy: 0.9162\n",
            "Epoch 4/20\n",
            "55000/55000 [==============================] - 6s 114us/sample - loss: 0.2083 - accuracy: 0.9226 - val_loss: 0.2156 - val_accuracy: 0.9226\n",
            "Epoch 5/20\n",
            "55000/55000 [==============================] - 6s 112us/sample - loss: 0.1800 - accuracy: 0.9331 - val_loss: 0.2094 - val_accuracy: 0.9236\n",
            "Epoch 6/20\n",
            "55000/55000 [==============================] - 6s 112us/sample - loss: 0.1562 - accuracy: 0.9427 - val_loss: 0.2098 - val_accuracy: 0.9230\n",
            "Epoch 7/20\n",
            "55000/55000 [==============================] - 6s 113us/sample - loss: 0.1357 - accuracy: 0.9488 - val_loss: 0.2036 - val_accuracy: 0.9264\n",
            "Epoch 8/20\n",
            "55000/55000 [==============================] - 6s 113us/sample - loss: 0.1167 - accuracy: 0.9562 - val_loss: 0.2165 - val_accuracy: 0.9238\n",
            "Epoch 9/20\n",
            "55000/55000 [==============================] - 6s 112us/sample - loss: 0.1022 - accuracy: 0.9618 - val_loss: 0.2168 - val_accuracy: 0.9280\n",
            "Epoch 10/20\n",
            "55000/55000 [==============================] - 6s 112us/sample - loss: 0.0893 - accuracy: 0.9674 - val_loss: 0.2260 - val_accuracy: 0.9304\n",
            "Epoch 11/20\n",
            "55000/55000 [==============================] - 6s 112us/sample - loss: 0.0798 - accuracy: 0.9697 - val_loss: 0.2314 - val_accuracy: 0.9290\n",
            "Epoch 12/20\n",
            "55000/55000 [==============================] - 6s 112us/sample - loss: 0.0715 - accuracy: 0.9734 - val_loss: 0.2679 - val_accuracy: 0.9262\n",
            "Epoch 13/20\n",
            "55000/55000 [==============================] - 6s 112us/sample - loss: 0.0611 - accuracy: 0.9769 - val_loss: 0.2708 - val_accuracy: 0.9302\n",
            "Epoch 14/20\n",
            "55000/55000 [==============================] - 6s 112us/sample - loss: 0.0591 - accuracy: 0.9777 - val_loss: 0.2651 - val_accuracy: 0.9284\n",
            "Epoch 15/20\n",
            "55000/55000 [==============================] - 6s 112us/sample - loss: 0.0527 - accuracy: 0.9801 - val_loss: 0.2516 - val_accuracy: 0.9352\n",
            "Epoch 16/20\n",
            "55000/55000 [==============================] - 6s 112us/sample - loss: 0.0457 - accuracy: 0.9829 - val_loss: 0.2753 - val_accuracy: 0.9288\n",
            "Epoch 17/20\n",
            "55000/55000 [==============================] - 6s 112us/sample - loss: 0.0448 - accuracy: 0.9832 - val_loss: 0.2975 - val_accuracy: 0.9284\n",
            "Epoch 18/20\n",
            "55000/55000 [==============================] - 6s 111us/sample - loss: 0.0421 - accuracy: 0.9846 - val_loss: 0.3115 - val_accuracy: 0.9312\n",
            "Epoch 19/20\n",
            "55000/55000 [==============================] - 6s 112us/sample - loss: 0.0406 - accuracy: 0.9856 - val_loss: 0.3173 - val_accuracy: 0.9300\n",
            "Epoch 20/20\n",
            "55000/55000 [==============================] - 6s 113us/sample - loss: 0.0377 - accuracy: 0.9864 - val_loss: 0.3029 - val_accuracy: 0.9294\n"
          ],
          "name": "stdout"
        }
      ]
    },
    {
      "cell_type": "code",
      "metadata": {
        "colab_type": "code",
        "outputId": "0cb65109-15f9-4fea-e2ff-4e192d1621d8",
        "id": "YzBQNLu_J4_h",
        "colab": {
          "base_uri": "https://localhost:8080/",
          "height": 34
        }
      },
      "source": [
        "# Get the training time\n",
        "train_time = train_rt.process_time\n",
        "train_time # in seconds"
      ],
      "execution_count": 40,
      "outputs": [
        {
          "output_type": "execute_result",
          "data": {
            "text/plain": [
              "124.336392"
            ]
          },
          "metadata": {
            "tags": []
          },
          "execution_count": 40
        }
      ]
    },
    {
      "cell_type": "markdown",
      "metadata": {
        "colab_type": "text",
        "id": "cZajLss6J4_n"
      },
      "source": [
        "## Test the model"
      ]
    },
    {
      "cell_type": "code",
      "metadata": {
        "colab_type": "code",
        "outputId": "13e93215-3b4d-4cdc-8a38-51336adacac2",
        "id": "uwDk61PEJ4_o",
        "colab": {
          "base_uri": "https://localhost:8080/",
          "height": 34
        }
      },
      "source": [
        "test_rt = TestRuntimeCallback()\n",
        "test_loss, test_acc = model.evaluate(test_images, test_labels, callbacks=[test_rt])\n",
        "test_loss, test_acc"
      ],
      "execution_count": 41,
      "outputs": [
        {
          "output_type": "execute_result",
          "data": {
            "text/plain": [
              "(0.3386828497685492, 0.9218)"
            ]
          },
          "metadata": {
            "tags": []
          },
          "execution_count": 41
        }
      ]
    },
    {
      "cell_type": "code",
      "metadata": {
        "colab_type": "code",
        "outputId": "37936fba-48f8-4890-cda4-a2d97fdd4d95",
        "id": "QalUc2P8J4_u",
        "colab": {
          "base_uri": "https://localhost:8080/",
          "height": 34
        }
      },
      "source": [
        "test_time = test_rt.process_time\n",
        "test_time # in seconds"
      ],
      "execution_count": 42,
      "outputs": [
        {
          "output_type": "execute_result",
          "data": {
            "text/plain": [
              "0.570556"
            ]
          },
          "metadata": {
            "tags": []
          },
          "execution_count": 42
        }
      ]
    },
    {
      "cell_type": "markdown",
      "metadata": {
        "colab_type": "text",
        "id": "p0Nbo2Q9J4_0"
      },
      "source": [
        "##Add training and test statistics to results dataframe"
      ]
    },
    {
      "cell_type": "code",
      "metadata": {
        "colab_type": "code",
        "outputId": "28f8554e-feb4-4e1d-d88b-ef81a5cfc6f5",
        "id": "xuRSVFRbJ4_1",
        "colab": {
          "base_uri": "https://localhost:8080/",
          "height": 206
        }
      },
      "source": [
        "history_dict = history.history\n",
        "history_df=pd.DataFrame(history_dict)\n",
        "history_df.tail()"
      ],
      "execution_count": 43,
      "outputs": [
        {
          "output_type": "execute_result",
          "data": {
            "text/html": [
              "<div>\n",
              "<style scoped>\n",
              "    .dataframe tbody tr th:only-of-type {\n",
              "        vertical-align: middle;\n",
              "    }\n",
              "\n",
              "    .dataframe tbody tr th {\n",
              "        vertical-align: top;\n",
              "    }\n",
              "\n",
              "    .dataframe thead th {\n",
              "        text-align: right;\n",
              "    }\n",
              "</style>\n",
              "<table border=\"1\" class=\"dataframe\">\n",
              "  <thead>\n",
              "    <tr style=\"text-align: right;\">\n",
              "      <th></th>\n",
              "      <th>loss</th>\n",
              "      <th>accuracy</th>\n",
              "      <th>val_loss</th>\n",
              "      <th>val_accuracy</th>\n",
              "    </tr>\n",
              "  </thead>\n",
              "  <tbody>\n",
              "    <tr>\n",
              "      <th>15</th>\n",
              "      <td>0.045725</td>\n",
              "      <td>0.982855</td>\n",
              "      <td>0.275304</td>\n",
              "      <td>0.9288</td>\n",
              "    </tr>\n",
              "    <tr>\n",
              "      <th>16</th>\n",
              "      <td>0.044769</td>\n",
              "      <td>0.983236</td>\n",
              "      <td>0.297501</td>\n",
              "      <td>0.9284</td>\n",
              "    </tr>\n",
              "    <tr>\n",
              "      <th>17</th>\n",
              "      <td>0.042122</td>\n",
              "      <td>0.984636</td>\n",
              "      <td>0.311545</td>\n",
              "      <td>0.9312</td>\n",
              "    </tr>\n",
              "    <tr>\n",
              "      <th>18</th>\n",
              "      <td>0.040645</td>\n",
              "      <td>0.985600</td>\n",
              "      <td>0.317275</td>\n",
              "      <td>0.9300</td>\n",
              "    </tr>\n",
              "    <tr>\n",
              "      <th>19</th>\n",
              "      <td>0.037664</td>\n",
              "      <td>0.986400</td>\n",
              "      <td>0.302862</td>\n",
              "      <td>0.9294</td>\n",
              "    </tr>\n",
              "  </tbody>\n",
              "</table>\n",
              "</div>"
            ],
            "text/plain": [
              "        loss  accuracy  val_loss  val_accuracy\n",
              "15  0.045725  0.982855  0.275304        0.9288\n",
              "16  0.044769  0.983236  0.297501        0.9284\n",
              "17  0.042122  0.984636  0.311545        0.9312\n",
              "18  0.040645  0.985600  0.317275        0.9300\n",
              "19  0.037664  0.986400  0.302862        0.9294"
            ]
          },
          "metadata": {
            "tags": []
          },
          "execution_count": 43
        }
      ]
    },
    {
      "cell_type": "code",
      "metadata": {
        "colab_type": "code",
        "outputId": "ede09e53-c273-484f-d750-d5235e218f12",
        "id": "WcfOlvGoJ4_6",
        "colab": {
          "base_uri": "https://localhost:8080/",
          "height": 205
        }
      },
      "source": [
        "results_dfnew = history_df.iloc[-1:].copy()\n",
        "results_dfnew.insert(0,'model','CNN (2 layers), 32-64-pool2') # want the model name to appear first\n",
        "results_dfnew['test_loss'] = test_loss #incorporate test results\n",
        "results_dfnew['test_accuracy'] = test_acc\n",
        "results_dfnew['training time (sec)'] = train_time     \n",
        "results_dfnew['testing time (sec)'] = test_time      # testing time appears last\n",
        "results_dfnew"
      ],
      "execution_count": 44,
      "outputs": [
        {
          "output_type": "execute_result",
          "data": {
            "text/html": [
              "<div>\n",
              "<style scoped>\n",
              "    .dataframe tbody tr th:only-of-type {\n",
              "        vertical-align: middle;\n",
              "    }\n",
              "\n",
              "    .dataframe tbody tr th {\n",
              "        vertical-align: top;\n",
              "    }\n",
              "\n",
              "    .dataframe thead th {\n",
              "        text-align: right;\n",
              "    }\n",
              "</style>\n",
              "<table border=\"1\" class=\"dataframe\">\n",
              "  <thead>\n",
              "    <tr style=\"text-align: right;\">\n",
              "      <th></th>\n",
              "      <th>model</th>\n",
              "      <th>loss</th>\n",
              "      <th>accuracy</th>\n",
              "      <th>val_loss</th>\n",
              "      <th>val_accuracy</th>\n",
              "      <th>test_loss</th>\n",
              "      <th>test_accuracy</th>\n",
              "      <th>training time (sec)</th>\n",
              "      <th>testing time (sec)</th>\n",
              "    </tr>\n",
              "  </thead>\n",
              "  <tbody>\n",
              "    <tr>\n",
              "      <th>19</th>\n",
              "      <td>CNN (2 layers), 32-64-pool2</td>\n",
              "      <td>0.037664</td>\n",
              "      <td>0.9864</td>\n",
              "      <td>0.302862</td>\n",
              "      <td>0.9294</td>\n",
              "      <td>0.338683</td>\n",
              "      <td>0.9218</td>\n",
              "      <td>124.336392</td>\n",
              "      <td>0.570556</td>\n",
              "    </tr>\n",
              "  </tbody>\n",
              "</table>\n",
              "</div>"
            ],
            "text/plain": [
              "                          model  ...  testing time (sec)\n",
              "19  CNN (2 layers), 32-64-pool2  ...            0.570556\n",
              "\n",
              "[1 rows x 9 columns]"
            ]
          },
          "metadata": {
            "tags": []
          },
          "execution_count": 44
        }
      ]
    },
    {
      "cell_type": "code",
      "metadata": {
        "colab_type": "code",
        "outputId": "fbdc97f9-4bbf-4a48-f7d3-d44d66f64f2a",
        "id": "-ryuT1WCJ4_-",
        "colab": {
          "base_uri": "https://localhost:8080/",
          "height": 320
        }
      },
      "source": [
        "results_df=results_df.append(results_dfnew,ignore_index=True)\n",
        "results_df"
      ],
      "execution_count": 45,
      "outputs": [
        {
          "output_type": "execute_result",
          "data": {
            "text/html": [
              "<div>\n",
              "<style scoped>\n",
              "    .dataframe tbody tr th:only-of-type {\n",
              "        vertical-align: middle;\n",
              "    }\n",
              "\n",
              "    .dataframe tbody tr th {\n",
              "        vertical-align: top;\n",
              "    }\n",
              "\n",
              "    .dataframe thead th {\n",
              "        text-align: right;\n",
              "    }\n",
              "</style>\n",
              "<table border=\"1\" class=\"dataframe\">\n",
              "  <thead>\n",
              "    <tr style=\"text-align: right;\">\n",
              "      <th></th>\n",
              "      <th>model</th>\n",
              "      <th>loss</th>\n",
              "      <th>accuracy</th>\n",
              "      <th>val_loss</th>\n",
              "      <th>val_accuracy</th>\n",
              "      <th>test_loss</th>\n",
              "      <th>test_accuracy</th>\n",
              "      <th>training time (sec)</th>\n",
              "      <th>testing time (sec)</th>\n",
              "    </tr>\n",
              "  </thead>\n",
              "  <tbody>\n",
              "    <tr>\n",
              "      <th>0</th>\n",
              "      <td>CNN (2 layers), baseline 32pool64pool</td>\n",
              "      <td>0.148455</td>\n",
              "      <td>0.943418</td>\n",
              "      <td>0.216722</td>\n",
              "      <td>0.9288</td>\n",
              "      <td>0.236925</td>\n",
              "      <td>0.9185</td>\n",
              "      <td>68.474213</td>\n",
              "      <td>0.473921</td>\n",
              "    </tr>\n",
              "    <tr>\n",
              "      <th>1</th>\n",
              "      <td>CNN (2 layers), 32-64-pool</td>\n",
              "      <td>0.033827</td>\n",
              "      <td>0.987745</td>\n",
              "      <td>0.307374</td>\n",
              "      <td>0.9304</td>\n",
              "      <td>0.344505</td>\n",
              "      <td>0.9281</td>\n",
              "      <td>123.952591</td>\n",
              "      <td>0.554755</td>\n",
              "    </tr>\n",
              "    <tr>\n",
              "      <th>2</th>\n",
              "      <td>CNN (2 layers), 32-64-pool2</td>\n",
              "      <td>0.037664</td>\n",
              "      <td>0.986400</td>\n",
              "      <td>0.302862</td>\n",
              "      <td>0.9294</td>\n",
              "      <td>0.338683</td>\n",
              "      <td>0.9218</td>\n",
              "      <td>124.336392</td>\n",
              "      <td>0.570556</td>\n",
              "    </tr>\n",
              "  </tbody>\n",
              "</table>\n",
              "</div>"
            ],
            "text/plain": [
              "                                   model  ...  testing time (sec)\n",
              "0  CNN (2 layers), baseline 32pool64pool  ...            0.473921\n",
              "1             CNN (2 layers), 32-64-pool  ...            0.554755\n",
              "2            CNN (2 layers), 32-64-pool2  ...            0.570556\n",
              "\n",
              "[3 rows x 9 columns]"
            ]
          },
          "metadata": {
            "tags": []
          },
          "execution_count": 45
        }
      ]
    },
    {
      "cell_type": "markdown",
      "metadata": {
        "colab_type": "text",
        "id": "fblzy7-rs0cj"
      },
      "source": [
        "## Plotting the performance "
      ]
    },
    {
      "cell_type": "code",
      "metadata": {
        "colab_type": "code",
        "outputId": "4987145f-bcea-4f90-c1f3-a0eda778d899",
        "id": "YHhV5wygs0co",
        "colab": {
          "base_uri": "https://localhost:8080/",
          "height": 301
        }
      },
      "source": [
        "import matplotlib.pyplot as plt\n",
        "\n",
        "acc = history.history['accuracy']\n",
        "val_acc = history.history['val_accuracy']\n",
        "loss = history.history['loss']\n",
        "val_loss = history.history['val_loss']\n",
        "\n",
        "epochs = range(1, len(acc) + 1)\n",
        "\n",
        "# \"bo\" is for \"blue dot\"\n",
        "plt.plot(epochs, loss, 'bo', label='Training loss')\n",
        "# b is for \"solid blue line\"\n",
        "plt.plot(epochs, val_loss, 'b', label='Validation loss')\n",
        "plt.title('Training and validation loss')\n",
        "\n",
        "plt.xlabel('Epochs')\n",
        "plt.ylabel('Loss')\n",
        "plt.legend()\n",
        "\n",
        "plt.show()"
      ],
      "execution_count": 47,
      "outputs": [
        {
          "output_type": "display_data",
          "data": {
            "image/png": "[encoded data removed]",
            "text/plain": [
              "<Figure size 432x288 with 1 Axes>"
            ]
          },
          "metadata": {
            "tags": [],
            "needs_background": "light"
          }
        }
      ]
    },
    {
      "cell_type": "code",
      "metadata": {
        "colab_type": "code",
        "outputId": "51a96c88-26ab-4816-c303-d58c5c33271b",
        "id": "WDIY68WDs0c5",
        "colab": {
          "base_uri": "https://localhost:8080/",
          "height": 301
        }
      },
      "source": [
        "plt.clf()   # clear figure\n",
        "acc_values = history_dict['accuracy']\n",
        "# val_acc_values = history_dict['val_acc']\n",
        "\n",
        "plt.plot(epochs, acc, 'bo', label='Training acc')\n",
        "plt.plot(epochs, val_acc, 'b', label='Validation acc')\n",
        "plt.title('Training and validation accuracy')\n",
        "\n",
        "plt.xlabel('Epochs')\n",
        "plt.ylabel('Accuracy')\n",
        "plt.legend()\n",
        "\n",
        "plt.show()"
      ],
      "execution_count": 48,
      "outputs": [
        {
          "output_type": "display_data",
          "data": {
            "image/png": "[encoded data removed]",
            "text/plain": [
              "<Figure size 432x288 with 1 Axes>"
            ]
          },
          "metadata": {
            "tags": [],
            "needs_background": "light"
          }
        }
      ]
    },
    {
      "cell_type": "markdown",
      "metadata": {
        "colab_type": "text",
        "id": "NfiBTBF0z6WL"
      },
      "source": [
        "#Experiment 8 \n",
        "4 layer CNN: 32, 32, pool, 64, 64, pool\n"
      ]
    },
    {
      "cell_type": "markdown",
      "metadata": {
        "colab_type": "text",
        "id": "1azPeFcaz6WP"
      },
      "source": [
        "##Build and compile the model"
      ]
    },
    {
      "cell_type": "code",
      "metadata": {
        "colab_type": "code",
        "id": "47pIAir7z6WR",
        "colab": {}
      },
      "source": [
        "model = models.Sequential()\n",
        "model.add(layers.Conv2D(32, (3, 3), activation='relu', input_shape=(28, 28, 1)))\n",
        "model.add(layers.Dropout(0.2))\n",
        "\n",
        "model.add(layers.Conv2D(32, (3, 3), activation='relu', input_shape=(28, 28, 1)))\n",
        "model.add(layers.MaxPooling2D((2, 2)))\n",
        "model.add(layers.Dropout(0.2))\n",
        "\n",
        "model.add(layers.Conv2D(64, (3, 3), activation='relu'))\n",
        "model.add(layers.Dropout(0.2))\n",
        "\n",
        "model.add(layers.Conv2D(64, (3, 3), activation='relu'))\n",
        "model.add(layers.MaxPooling2D((2, 2)))\n",
        "model.add(layers.Dropout(0.2))\n",
        "\n",
        "model.add(layers.Flatten())\n",
        "model.add(layers.Dense(256, activation='relu'))\n",
        "model.add(layers.Dropout(0.2))\n",
        "\n",
        "model.add(layers.Dense(10, activation='softmax'))\n",
        "\n",
        "model.compile(optimizer ='adam',\n",
        "              loss='sparse_categorical_crossentropy',\n",
        "              metrics=['accuracy'])"
      ],
      "execution_count": 0,
      "outputs": []
    },
    {
      "cell_type": "code",
      "metadata": {
        "colab_type": "code",
        "id": "Kbt1iGHKz6Wh",
        "colab": {}
      },
      "source": [
        "# keras.utils.plot_model(model, show_shapes=True)"
      ],
      "execution_count": 0,
      "outputs": []
    },
    {
      "cell_type": "code",
      "metadata": {
        "id": "UMCTxj_mHgms",
        "colab_type": "code",
        "colab": {
          "base_uri": "https://localhost:8080/",
          "height": 642
        },
        "outputId": "64955cf8-4b48-4aad-e3a3-f53ba5b862ac"
      },
      "source": [
        "model.summary()"
      ],
      "execution_count": 41,
      "outputs": [
        {
          "output_type": "stream",
          "text": [
            "Model: \"sequential_4\"\n",
            "_________________________________________________________________\n",
            "Layer (type)                 Output Shape              Param #   \n",
            "=================================================================\n",
            "conv2d_14 (Conv2D)           (None, 26, 26, 32)        320       \n",
            "_________________________________________________________________\n",
            "dropout_16 (Dropout)         (None, 26, 26, 32)        0         \n",
            "_________________________________________________________________\n",
            "conv2d_15 (Conv2D)           (None, 24, 24, 32)        9248      \n",
            "_________________________________________________________________\n",
            "max_pooling2d_9 (MaxPooling2 (None, 12, 12, 32)        0         \n",
            "_________________________________________________________________\n",
            "dropout_17 (Dropout)         (None, 12, 12, 32)        0         \n",
            "_________________________________________________________________\n",
            "conv2d_16 (Conv2D)           (None, 10, 10, 64)        18496     \n",
            "_________________________________________________________________\n",
            "dropout_18 (Dropout)         (None, 10, 10, 64)        0         \n",
            "_________________________________________________________________\n",
            "conv2d_17 (Conv2D)           (None, 8, 8, 64)          36928     \n",
            "_________________________________________________________________\n",
            "max_pooling2d_10 (MaxPooling (None, 4, 4, 64)          0         \n",
            "_________________________________________________________________\n",
            "dropout_19 (Dropout)         (None, 4, 4, 64)          0         \n",
            "_________________________________________________________________\n",
            "flatten_3 (Flatten)          (None, 1024)              0         \n",
            "_________________________________________________________________\n",
            "dense_6 (Dense)              (None, 256)               262400    \n",
            "_________________________________________________________________\n",
            "dropout_20 (Dropout)         (None, 256)               0         \n",
            "_________________________________________________________________\n",
            "dense_7 (Dense)              (None, 10)                2570      \n",
            "=================================================================\n",
            "Total params: 329,962\n",
            "Trainable params: 329,962\n",
            "Non-trainable params: 0\n",
            "_________________________________________________________________\n"
          ],
          "name": "stdout"
        }
      ]
    },
    {
      "cell_type": "markdown",
      "metadata": {
        "colab_type": "text",
        "id": "clkILD3kz6Wo"
      },
      "source": [
        "##Train the model"
      ]
    },
    {
      "cell_type": "code",
      "metadata": {
        "colab_type": "code",
        "outputId": "9cd1c8ee-ed74-4414-e42f-b41cd5c852b3",
        "id": "2Sj0bd1Vz6Wq",
        "colab": {
          "base_uri": "https://localhost:8080/",
          "height": 749
        }
      },
      "source": [
        "train_rt = TrainRuntimeCallback()\n",
        "history = model.fit(train_images, train_labels, callbacks=[train_rt], epochs=20,  batch_size = 100,\n",
        "                    validation_data=(val_images, val_labels))"
      ],
      "execution_count": 28,
      "outputs": [
        {
          "output_type": "stream",
          "text": [
            "Train on 55000 samples, validate on 5000 samples\n",
            "Epoch 1/20\n",
            "55000/55000 [==============================] - 12s 226us/sample - loss: 0.6319 - accuracy: 0.7604 - val_loss: 0.4088 - val_accuracy: 0.8486\n",
            "Epoch 2/20\n",
            "55000/55000 [==============================] - 12s 219us/sample - loss: 0.3969 - accuracy: 0.8528 - val_loss: 0.3074 - val_accuracy: 0.8888\n",
            "Epoch 3/20\n",
            "55000/55000 [==============================] - 12s 220us/sample - loss: 0.3308 - accuracy: 0.8776 - val_loss: 0.2654 - val_accuracy: 0.9014\n",
            "Epoch 4/20\n",
            "55000/55000 [==============================] - 12s 221us/sample - loss: 0.2957 - accuracy: 0.8912 - val_loss: 0.2580 - val_accuracy: 0.9012\n",
            "Epoch 5/20\n",
            "55000/55000 [==============================] - 12s 220us/sample - loss: 0.2745 - accuracy: 0.8978 - val_loss: 0.2501 - val_accuracy: 0.9060\n",
            "Epoch 6/20\n",
            "55000/55000 [==============================] - 12s 221us/sample - loss: 0.2575 - accuracy: 0.9054 - val_loss: 0.2313 - val_accuracy: 0.9150\n",
            "Epoch 7/20\n",
            "55000/55000 [==============================] - 12s 221us/sample - loss: 0.2469 - accuracy: 0.9079 - val_loss: 0.2280 - val_accuracy: 0.9130\n",
            "Epoch 8/20\n",
            "55000/55000 [==============================] - 12s 221us/sample - loss: 0.2322 - accuracy: 0.9135 - val_loss: 0.2207 - val_accuracy: 0.9126\n",
            "Epoch 9/20\n",
            "55000/55000 [==============================] - 12s 222us/sample - loss: 0.2215 - accuracy: 0.9171 - val_loss: 0.2135 - val_accuracy: 0.9188\n",
            "Epoch 10/20\n",
            "55000/55000 [==============================] - 12s 220us/sample - loss: 0.2141 - accuracy: 0.9202 - val_loss: 0.2131 - val_accuracy: 0.9216\n",
            "Epoch 11/20\n",
            "55000/55000 [==============================] - 12s 219us/sample - loss: 0.2091 - accuracy: 0.9218 - val_loss: 0.2116 - val_accuracy: 0.9218\n",
            "Epoch 12/20\n",
            "55000/55000 [==============================] - 12s 220us/sample - loss: 0.2000 - accuracy: 0.9253 - val_loss: 0.2045 - val_accuracy: 0.9210\n",
            "Epoch 13/20\n",
            "55000/55000 [==============================] - 12s 220us/sample - loss: 0.1941 - accuracy: 0.9288 - val_loss: 0.2092 - val_accuracy: 0.9174\n",
            "Epoch 14/20\n",
            "55000/55000 [==============================] - 12s 220us/sample - loss: 0.1866 - accuracy: 0.9312 - val_loss: 0.2139 - val_accuracy: 0.9224\n",
            "Epoch 15/20\n",
            "55000/55000 [==============================] - 12s 220us/sample - loss: 0.1802 - accuracy: 0.9336 - val_loss: 0.1960 - val_accuracy: 0.9238\n",
            "Epoch 16/20\n",
            "55000/55000 [==============================] - 12s 220us/sample - loss: 0.1779 - accuracy: 0.9329 - val_loss: 0.2067 - val_accuracy: 0.9224\n",
            "Epoch 17/20\n",
            "55000/55000 [==============================] - 12s 220us/sample - loss: 0.1712 - accuracy: 0.9350 - val_loss: 0.2081 - val_accuracy: 0.9230\n",
            "Epoch 18/20\n",
            "55000/55000 [==============================] - 12s 220us/sample - loss: 0.1691 - accuracy: 0.9363 - val_loss: 0.1990 - val_accuracy: 0.9270\n",
            "Epoch 19/20\n",
            "55000/55000 [==============================] - 12s 220us/sample - loss: 0.1653 - accuracy: 0.9373 - val_loss: 0.2029 - val_accuracy: 0.9240\n",
            "Epoch 20/20\n",
            "55000/55000 [==============================] - 12s 219us/sample - loss: 0.1620 - accuracy: 0.9393 - val_loss: 0.1976 - val_accuracy: 0.9242\n"
          ],
          "name": "stdout"
        }
      ]
    },
    {
      "cell_type": "code",
      "metadata": {
        "colab_type": "code",
        "outputId": "87ef2720-6bb2-43b5-8dad-ac585f90efee",
        "id": "w7YXsEfJz6Wx",
        "colab": {
          "base_uri": "https://localhost:8080/",
          "height": 34
        }
      },
      "source": [
        "# Get the training time\n",
        "train_time = train_rt.process_time\n",
        "train_time # in seconds"
      ],
      "execution_count": 29,
      "outputs": [
        {
          "output_type": "execute_result",
          "data": {
            "text/plain": [
              "243.798351"
            ]
          },
          "metadata": {
            "tags": []
          },
          "execution_count": 29
        }
      ]
    },
    {
      "cell_type": "markdown",
      "metadata": {
        "colab_type": "text",
        "id": "psmIq2nRz6W4"
      },
      "source": [
        "## Test the model"
      ]
    },
    {
      "cell_type": "code",
      "metadata": {
        "colab_type": "code",
        "outputId": "1eb1d872-fdd0-416d-ae56-821ca13f2259",
        "id": "uhfFRyTtz6W5",
        "colab": {
          "base_uri": "https://localhost:8080/",
          "height": 34
        }
      },
      "source": [
        "test_rt = TestRuntimeCallback()\n",
        "test_loss, test_acc = model.evaluate(test_images, test_labels, callbacks=[test_rt])\n",
        "test_loss, test_acc"
      ],
      "execution_count": 30,
      "outputs": [
        {
          "output_type": "execute_result",
          "data": {
            "text/plain": [
              "(0.22181144415140153, 0.9242)"
            ]
          },
          "metadata": {
            "tags": []
          },
          "execution_count": 30
        }
      ]
    },
    {
      "cell_type": "code",
      "metadata": {
        "colab_type": "code",
        "outputId": "1b4d284d-ff99-4b85-dc3a-6f8e294ad7bb",
        "id": "ZYtgtcJVz6W-",
        "colab": {
          "base_uri": "https://localhost:8080/",
          "height": 34
        }
      },
      "source": [
        "test_time = test_rt.process_time\n",
        "test_time # in seconds"
      ],
      "execution_count": 31,
      "outputs": [
        {
          "output_type": "execute_result",
          "data": {
            "text/plain": [
              "1.056956"
            ]
          },
          "metadata": {
            "tags": []
          },
          "execution_count": 31
        }
      ]
    },
    {
      "cell_type": "markdown",
      "metadata": {
        "colab_type": "text",
        "id": "Zn-nqd28z6XE"
      },
      "source": [
        "##Add training and test statistics to results dataframe"
      ]
    },
    {
      "cell_type": "code",
      "metadata": {
        "colab_type": "code",
        "outputId": "97c621d6-580b-46a6-ad8c-32202af2e812",
        "id": "s9r2mYLXz6XF",
        "colab": {
          "base_uri": "https://localhost:8080/",
          "height": 206
        }
      },
      "source": [
        "history_dict = history.history\n",
        "history_df=pd.DataFrame(history_dict)\n",
        "history_df.tail()"
      ],
      "execution_count": 32,
      "outputs": [
        {
          "output_type": "execute_result",
          "data": {
            "text/html": [
              "<div>\n",
              "<style scoped>\n",
              "    .dataframe tbody tr th:only-of-type {\n",
              "        vertical-align: middle;\n",
              "    }\n",
              "\n",
              "    .dataframe tbody tr th {\n",
              "        vertical-align: top;\n",
              "    }\n",
              "\n",
              "    .dataframe thead th {\n",
              "        text-align: right;\n",
              "    }\n",
              "</style>\n",
              "<table border=\"1\" class=\"dataframe\">\n",
              "  <thead>\n",
              "    <tr style=\"text-align: right;\">\n",
              "      <th></th>\n",
              "      <th>loss</th>\n",
              "      <th>accuracy</th>\n",
              "      <th>val_loss</th>\n",
              "      <th>val_accuracy</th>\n",
              "    </tr>\n",
              "  </thead>\n",
              "  <tbody>\n",
              "    <tr>\n",
              "      <th>15</th>\n",
              "      <td>0.177916</td>\n",
              "      <td>0.932945</td>\n",
              "      <td>0.206743</td>\n",
              "      <td>0.9224</td>\n",
              "    </tr>\n",
              "    <tr>\n",
              "      <th>16</th>\n",
              "      <td>0.171240</td>\n",
              "      <td>0.935000</td>\n",
              "      <td>0.208062</td>\n",
              "      <td>0.9230</td>\n",
              "    </tr>\n",
              "    <tr>\n",
              "      <th>17</th>\n",
              "      <td>0.169073</td>\n",
              "      <td>0.936345</td>\n",
              "      <td>0.199012</td>\n",
              "      <td>0.9270</td>\n",
              "    </tr>\n",
              "    <tr>\n",
              "      <th>18</th>\n",
              "      <td>0.165332</td>\n",
              "      <td>0.937291</td>\n",
              "      <td>0.202852</td>\n",
              "      <td>0.9240</td>\n",
              "    </tr>\n",
              "    <tr>\n",
              "      <th>19</th>\n",
              "      <td>0.162009</td>\n",
              "      <td>0.939345</td>\n",
              "      <td>0.197643</td>\n",
              "      <td>0.9242</td>\n",
              "    </tr>\n",
              "  </tbody>\n",
              "</table>\n",
              "</div>"
            ],
            "text/plain": [
              "        loss  accuracy  val_loss  val_accuracy\n",
              "15  0.177916  0.932945  0.206743        0.9224\n",
              "16  0.171240  0.935000  0.208062        0.9230\n",
              "17  0.169073  0.936345  0.199012        0.9270\n",
              "18  0.165332  0.937291  0.202852        0.9240\n",
              "19  0.162009  0.939345  0.197643        0.9242"
            ]
          },
          "metadata": {
            "tags": []
          },
          "execution_count": 32
        }
      ]
    },
    {
      "cell_type": "code",
      "metadata": {
        "colab_type": "code",
        "outputId": "107b59b3-dea2-47e8-b6b8-c8c9f7bfbeea",
        "id": "BjpGnrLuz6XN",
        "colab": {
          "base_uri": "https://localhost:8080/",
          "height": 168
        }
      },
      "source": [
        "results_dfnew = history_df.iloc[-1:].copy()\n",
        "results_dfnew.insert(0,'model','CNN (4 layers), 32-32pool-64-64pool') # want the model name to appear first\n",
        "results_dfnew['test_loss'] = test_loss #incorporate test results\n",
        "results_dfnew['test_accuracy'] = test_acc\n",
        "results_dfnew['training time (sec)'] = train_time     \n",
        "results_dfnew['testing time (sec)'] = test_time      # testing time appears last\n",
        "results_dfnew"
      ],
      "execution_count": 33,
      "outputs": [
        {
          "output_type": "execute_result",
          "data": {
            "text/html": [
              "<div>\n",
              "<style scoped>\n",
              "    .dataframe tbody tr th:only-of-type {\n",
              "        vertical-align: middle;\n",
              "    }\n",
              "\n",
              "    .dataframe tbody tr th {\n",
              "        vertical-align: top;\n",
              "    }\n",
              "\n",
              "    .dataframe thead th {\n",
              "        text-align: right;\n",
              "    }\n",
              "</style>\n",
              "<table border=\"1\" class=\"dataframe\">\n",
              "  <thead>\n",
              "    <tr style=\"text-align: right;\">\n",
              "      <th></th>\n",
              "      <th>model</th>\n",
              "      <th>loss</th>\n",
              "      <th>accuracy</th>\n",
              "      <th>val_loss</th>\n",
              "      <th>val_accuracy</th>\n",
              "      <th>test_loss</th>\n",
              "      <th>test_accuracy</th>\n",
              "      <th>training time (sec)</th>\n",
              "      <th>testing time (sec)</th>\n",
              "    </tr>\n",
              "  </thead>\n",
              "  <tbody>\n",
              "    <tr>\n",
              "      <th>19</th>\n",
              "      <td>CNN (4 layers), 32-32pool-64-64pool</td>\n",
              "      <td>0.162009</td>\n",
              "      <td>0.939345</td>\n",
              "      <td>0.197643</td>\n",
              "      <td>0.9242</td>\n",
              "      <td>0.221811</td>\n",
              "      <td>0.9242</td>\n",
              "      <td>243.798351</td>\n",
              "      <td>1.056956</td>\n",
              "    </tr>\n",
              "  </tbody>\n",
              "</table>\n",
              "</div>"
            ],
            "text/plain": [
              "                                  model  ...  testing time (sec)\n",
              "19  CNN (4 layers), 32-32pool-64-64pool  ...            1.056956\n",
              "\n",
              "[1 rows x 9 columns]"
            ]
          },
          "metadata": {
            "tags": []
          },
          "execution_count": 33
        }
      ]
    },
    {
      "cell_type": "code",
      "metadata": {
        "colab_type": "code",
        "outputId": "5cb5316a-74cd-4c2d-b7f9-d147c3705f93",
        "id": "h0xYl-c4z6XT",
        "colab": {
          "base_uri": "https://localhost:8080/",
          "height": 251
        }
      },
      "source": [
        "results_df=results_df.append(results_dfnew,ignore_index=True)\n",
        "results_df"
      ],
      "execution_count": 34,
      "outputs": [
        {
          "output_type": "execute_result",
          "data": {
            "text/html": [
              "<div>\n",
              "<style scoped>\n",
              "    .dataframe tbody tr th:only-of-type {\n",
              "        vertical-align: middle;\n",
              "    }\n",
              "\n",
              "    .dataframe tbody tr th {\n",
              "        vertical-align: top;\n",
              "    }\n",
              "\n",
              "    .dataframe thead th {\n",
              "        text-align: right;\n",
              "    }\n",
              "</style>\n",
              "<table border=\"1\" class=\"dataframe\">\n",
              "  <thead>\n",
              "    <tr style=\"text-align: right;\">\n",
              "      <th></th>\n",
              "      <th>model</th>\n",
              "      <th>loss</th>\n",
              "      <th>accuracy</th>\n",
              "      <th>val_loss</th>\n",
              "      <th>val_accuracy</th>\n",
              "      <th>test_loss</th>\n",
              "      <th>test_accuracy</th>\n",
              "      <th>training time (sec)</th>\n",
              "      <th>testing time (sec)</th>\n",
              "    </tr>\n",
              "  </thead>\n",
              "  <tbody>\n",
              "    <tr>\n",
              "      <th>0</th>\n",
              "      <td>CNN (2 layers), baseline 32pool64pool</td>\n",
              "      <td>0.150072</td>\n",
              "      <td>0.942018</td>\n",
              "      <td>0.219612</td>\n",
              "      <td>0.9260</td>\n",
              "      <td>0.231991</td>\n",
              "      <td>0.9187</td>\n",
              "      <td>115.624179</td>\n",
              "      <td>0.844875</td>\n",
              "    </tr>\n",
              "    <tr>\n",
              "      <th>1</th>\n",
              "      <td>CNN (4 layers), 32-32pool-64-64pool</td>\n",
              "      <td>0.162009</td>\n",
              "      <td>0.939345</td>\n",
              "      <td>0.197643</td>\n",
              "      <td>0.9242</td>\n",
              "      <td>0.221811</td>\n",
              "      <td>0.9242</td>\n",
              "      <td>243.798351</td>\n",
              "      <td>1.056956</td>\n",
              "    </tr>\n",
              "  </tbody>\n",
              "</table>\n",
              "</div>"
            ],
            "text/plain": [
              "                                   model  ...  testing time (sec)\n",
              "0  CNN (2 layers), baseline 32pool64pool  ...            0.844875\n",
              "1    CNN (4 layers), 32-32pool-64-64pool  ...            1.056956\n",
              "\n",
              "[2 rows x 9 columns]"
            ]
          },
          "metadata": {
            "tags": []
          },
          "execution_count": 34
        }
      ]
    },
    {
      "cell_type": "markdown",
      "metadata": {
        "colab_type": "text",
        "id": "lMvNAApXEKYs"
      },
      "source": [
        "## Plotting the performance "
      ]
    },
    {
      "cell_type": "code",
      "metadata": {
        "colab_type": "code",
        "outputId": "86502f2c-8999-475f-aabe-b17c5a8998c8",
        "id": "_7QPdNDREKYy",
        "colab": {
          "base_uri": "https://localhost:8080/",
          "height": 301
        }
      },
      "source": [
        "import matplotlib.pyplot as plt\n",
        "\n",
        "acc = history.history['accuracy']\n",
        "val_acc = history.history['val_accuracy']\n",
        "loss = history.history['loss']\n",
        "val_loss = history.history['val_loss']\n",
        "\n",
        "epochs = range(1, len(acc) + 1)\n",
        "\n",
        "# \"bo\" is for \"blue dot\"\n",
        "plt.plot(epochs, loss, 'bo', label='Training loss')\n",
        "# b is for \"solid blue line\"\n",
        "plt.plot(epochs, val_loss, 'b', label='Validation loss')\n",
        "plt.title('Training and validation loss')\n",
        "\n",
        "plt.xlabel('Epochs')\n",
        "plt.ylabel('Loss')\n",
        "plt.legend()\n",
        "\n",
        "plt.show()"
      ],
      "execution_count": 35,
      "outputs": [
        {
          "output_type": "display_data",
          "data": {
            "image/png": "[encoded data removed]",
            "text/plain": [
              "<Figure size 432x288 with 1 Axes>"
            ]
          },
          "metadata": {
            "tags": [],
            "needs_background": "light"
          }
        }
      ]
    },
    {
      "cell_type": "code",
      "metadata": {
        "colab_type": "code",
        "outputId": "f6e1057a-446d-4e36-eb1a-8902d972c26b",
        "id": "6hQ4reinEKZB",
        "colab": {
          "base_uri": "https://localhost:8080/",
          "height": 301
        }
      },
      "source": [
        "plt.clf()   # clear figure\n",
        "acc_values = history_dict['accuracy']\n",
        "# val_acc_values = history_dict['val_acc']\n",
        "\n",
        "plt.plot(epochs, acc, 'bo', label='Training acc')\n",
        "plt.plot(epochs, val_acc, 'b', label='Validation acc')\n",
        "plt.title('Training and validation accuracy')\n",
        "\n",
        "plt.xlabel('Epochs')\n",
        "plt.ylabel('Accuracy')\n",
        "plt.legend()\n",
        "\n",
        "plt.show()"
      ],
      "execution_count": 36,
      "outputs": [
        {
          "output_type": "display_data",
          "data": {
            "image/png": "[encoded data removed]",
            "text/plain": [
              "<Figure size 432x288 with 1 Axes>"
            ]
          },
          "metadata": {
            "tags": [],
            "needs_background": "light"
          }
        }
      ]
    },
    {
      "cell_type": "markdown",
      "metadata": {
        "colab_type": "text",
        "id": "AVxgjFu0CpXp"
      },
      "source": [
        "#Experiment 8b \n",
        "4 layer CNN: 32, pool, 32, pool, 64, pool, 64, pool\n"
      ]
    },
    {
      "cell_type": "markdown",
      "metadata": {
        "colab_type": "text",
        "id": "MWEEpvpeCpXu"
      },
      "source": [
        "##Build and compile the model"
      ]
    },
    {
      "cell_type": "code",
      "metadata": {
        "colab_type": "code",
        "id": "YX6EosJBCpXw",
        "colab": {}
      },
      "source": [
        "model = models.Sequential()\n",
        "model.add(layers.Conv2D(32, (3, 3), activation='relu', input_shape=(28, 28, 1)))\n",
        "model.add(layers.Dropout(0.2))\n",
        "\n",
        "model.add(layers.Conv2D(32, (3, 3), activation='relu', input_shape=(28, 28, 1)))\n",
        "model.add(layers.Dropout(0.2))\n",
        "\n",
        "model.add(layers.Conv2D(64, (3, 3), activation='relu'))\n",
        "model.add(layers.Dropout(0.2))\n",
        "model.add(layers.MaxPooling2D((2, 2)))\n",
        "\n",
        "model.add(layers.Conv2D(64, (3, 3), activation='relu'))\n",
        "model.add(layers.Dropout(0.2))\n",
        "model.add(layers.MaxPooling2D((2, 2)))\n",
        "\n",
        "model.add(layers.Flatten())\n",
        "model.add(layers.Dense(256, activation='relu'))\n",
        "model.add(layers.Dropout(0.2))\n",
        "\n",
        "model.add(layers.Dense(10, activation='softmax'))\n",
        "\n",
        "model.compile(optimizer ='adam',\n",
        "              loss='sparse_categorical_crossentropy',\n",
        "              metrics=['accuracy'])"
      ],
      "execution_count": 0,
      "outputs": []
    },
    {
      "cell_type": "code",
      "metadata": {
        "colab_type": "code",
        "id": "fuXluN4jCpX_",
        "colab": {}
      },
      "source": [
        "# keras.utils.plot_model(model, show_shapes=True)"
      ],
      "execution_count": 0,
      "outputs": []
    },
    {
      "cell_type": "code",
      "metadata": {
        "id": "QjHosztXJfkc",
        "colab_type": "code",
        "colab": {
          "base_uri": "https://localhost:8080/",
          "height": 642
        },
        "outputId": "d27cdb50-7911-4527-e521-d11b4373507c"
      },
      "source": [
        "model.summary()"
      ],
      "execution_count": 69,
      "outputs": [
        {
          "output_type": "stream",
          "text": [
            "Model: \"sequential_8\"\n",
            "_________________________________________________________________\n",
            "Layer (type)                 Output Shape              Param #   \n",
            "=================================================================\n",
            "conv2d_30 (Conv2D)           (None, 26, 26, 32)        320       \n",
            "_________________________________________________________________\n",
            "dropout_34 (Dropout)         (None, 26, 26, 32)        0         \n",
            "_________________________________________________________________\n",
            "conv2d_31 (Conv2D)           (None, 24, 24, 32)        9248      \n",
            "_________________________________________________________________\n",
            "dropout_35 (Dropout)         (None, 24, 24, 32)        0         \n",
            "_________________________________________________________________\n",
            "conv2d_32 (Conv2D)           (None, 22, 22, 64)        18496     \n",
            "_________________________________________________________________\n",
            "dropout_36 (Dropout)         (None, 22, 22, 64)        0         \n",
            "_________________________________________________________________\n",
            "max_pooling2d_18 (MaxPooling (None, 11, 11, 64)        0         \n",
            "_________________________________________________________________\n",
            "conv2d_33 (Conv2D)           (None, 9, 9, 64)          36928     \n",
            "_________________________________________________________________\n",
            "dropout_37 (Dropout)         (None, 9, 9, 64)          0         \n",
            "_________________________________________________________________\n",
            "max_pooling2d_19 (MaxPooling (None, 4, 4, 64)          0         \n",
            "_________________________________________________________________\n",
            "flatten_6 (Flatten)          (None, 1024)              0         \n",
            "_________________________________________________________________\n",
            "dense_12 (Dense)             (None, 256)               262400    \n",
            "_________________________________________________________________\n",
            "dropout_38 (Dropout)         (None, 256)               0         \n",
            "_________________________________________________________________\n",
            "dense_13 (Dense)             (None, 10)                2570      \n",
            "=================================================================\n",
            "Total params: 329,962\n",
            "Trainable params: 329,962\n",
            "Non-trainable params: 0\n",
            "_________________________________________________________________\n"
          ],
          "name": "stdout"
        }
      ]
    },
    {
      "cell_type": "markdown",
      "metadata": {
        "colab_type": "text",
        "id": "zlQOfKC2CpYG"
      },
      "source": [
        "##Train the model"
      ]
    },
    {
      "cell_type": "code",
      "metadata": {
        "colab_type": "code",
        "outputId": "805adbb9-8f80-451a-b6c5-4458dc556250",
        "id": "MDKxxbJ-CpYI",
        "colab": {
          "base_uri": "https://localhost:8080/",
          "height": 749
        }
      },
      "source": [
        "train_rt = TrainRuntimeCallback()\n",
        "history = model.fit(train_images, train_labels, callbacks=[train_rt], epochs=20,  batch_size = 100,\n",
        "                    validation_data=(val_images, val_labels))"
      ],
      "execution_count": 70,
      "outputs": [
        {
          "output_type": "stream",
          "text": [
            "Train on 55000 samples, validate on 5000 samples\n",
            "Epoch 1/20\n",
            "55000/55000 [==============================] - 22s 395us/sample - loss: 0.5943 - accuracy: 0.7801 - val_loss: 0.4003 - val_accuracy: 0.8626\n",
            "Epoch 2/20\n",
            "55000/55000 [==============================] - 21s 389us/sample - loss: 0.3604 - accuracy: 0.8676 - val_loss: 0.3079 - val_accuracy: 0.8958\n",
            "Epoch 3/20\n",
            "55000/55000 [==============================] - 21s 388us/sample - loss: 0.3047 - accuracy: 0.8881 - val_loss: 0.2958 - val_accuracy: 0.8956\n",
            "Epoch 4/20\n",
            "55000/55000 [==============================] - 21s 387us/sample - loss: 0.2787 - accuracy: 0.8974 - val_loss: 0.2490 - val_accuracy: 0.9060\n",
            "Epoch 5/20\n",
            "55000/55000 [==============================] - 21s 386us/sample - loss: 0.2548 - accuracy: 0.9059 - val_loss: 0.2597 - val_accuracy: 0.9094\n",
            "Epoch 6/20\n",
            "55000/55000 [==============================] - 21s 387us/sample - loss: 0.2381 - accuracy: 0.9122 - val_loss: 0.2399 - val_accuracy: 0.9142\n",
            "Epoch 7/20\n",
            "55000/55000 [==============================] - 21s 386us/sample - loss: 0.2246 - accuracy: 0.9171 - val_loss: 0.2341 - val_accuracy: 0.9168\n",
            "Epoch 8/20\n",
            "55000/55000 [==============================] - 21s 387us/sample - loss: 0.2136 - accuracy: 0.9208 - val_loss: 0.2278 - val_accuracy: 0.9174\n",
            "Epoch 9/20\n",
            "55000/55000 [==============================] - 21s 386us/sample - loss: 0.2015 - accuracy: 0.9249 - val_loss: 0.2180 - val_accuracy: 0.9228\n",
            "Epoch 10/20\n",
            "55000/55000 [==============================] - 21s 387us/sample - loss: 0.1901 - accuracy: 0.9300 - val_loss: 0.2166 - val_accuracy: 0.9186\n",
            "Epoch 11/20\n",
            "55000/55000 [==============================] - 21s 386us/sample - loss: 0.1843 - accuracy: 0.9311 - val_loss: 0.2041 - val_accuracy: 0.9248\n",
            "Epoch 12/20\n",
            "55000/55000 [==============================] - 21s 386us/sample - loss: 0.1745 - accuracy: 0.9335 - val_loss: 0.2114 - val_accuracy: 0.9214\n",
            "Epoch 13/20\n",
            "55000/55000 [==============================] - 21s 385us/sample - loss: 0.1680 - accuracy: 0.9365 - val_loss: 0.2154 - val_accuracy: 0.9212\n",
            "Epoch 14/20\n",
            "55000/55000 [==============================] - 21s 385us/sample - loss: 0.1594 - accuracy: 0.9398 - val_loss: 0.2181 - val_accuracy: 0.9198\n",
            "Epoch 15/20\n",
            "55000/55000 [==============================] - 21s 386us/sample - loss: 0.1524 - accuracy: 0.9425 - val_loss: 0.2103 - val_accuracy: 0.9220\n",
            "Epoch 16/20\n",
            "55000/55000 [==============================] - 21s 385us/sample - loss: 0.1508 - accuracy: 0.9422 - val_loss: 0.1987 - val_accuracy: 0.9246\n",
            "Epoch 17/20\n",
            "55000/55000 [==============================] - 21s 386us/sample - loss: 0.1434 - accuracy: 0.9449 - val_loss: 0.2136 - val_accuracy: 0.9206\n",
            "Epoch 18/20\n",
            "55000/55000 [==============================] - 21s 386us/sample - loss: 0.1404 - accuracy: 0.9475 - val_loss: 0.2101 - val_accuracy: 0.9206\n",
            "Epoch 19/20\n",
            "55000/55000 [==============================] - 21s 387us/sample - loss: 0.1312 - accuracy: 0.9494 - val_loss: 0.2050 - val_accuracy: 0.9268\n",
            "Epoch 20/20\n",
            "55000/55000 [==============================] - 21s 385us/sample - loss: 0.1242 - accuracy: 0.9539 - val_loss: 0.2184 - val_accuracy: 0.9206\n"
          ],
          "name": "stdout"
        }
      ]
    },
    {
      "cell_type": "code",
      "metadata": {
        "colab_type": "code",
        "outputId": "3d08c02c-2ad0-4bd8-eed2-1289d4b87000",
        "id": "FdZHtc2UCpYO",
        "colab": {
          "base_uri": "https://localhost:8080/",
          "height": 34
        }
      },
      "source": [
        "# Get the training time\n",
        "train_time = train_rt.process_time\n",
        "train_time # in seconds"
      ],
      "execution_count": 71,
      "outputs": [
        {
          "output_type": "execute_result",
          "data": {
            "text/plain": [
              "427.432288"
            ]
          },
          "metadata": {
            "tags": []
          },
          "execution_count": 71
        }
      ]
    },
    {
      "cell_type": "markdown",
      "metadata": {
        "colab_type": "text",
        "id": "mPKqIWssCpYW"
      },
      "source": [
        "## Test the model"
      ]
    },
    {
      "cell_type": "code",
      "metadata": {
        "colab_type": "code",
        "outputId": "372102fc-accb-4e03-e5b0-a859213581aa",
        "id": "21FnnYJOCpYW",
        "colab": {
          "base_uri": "https://localhost:8080/",
          "height": 34
        }
      },
      "source": [
        "test_rt = TestRuntimeCallback()\n",
        "test_loss, test_acc = model.evaluate(test_images, test_labels, callbacks=[test_rt])\n",
        "test_loss, test_acc"
      ],
      "execution_count": 72,
      "outputs": [
        {
          "output_type": "execute_result",
          "data": {
            "text/plain": [
              "(0.2368437569975853, 0.9183)"
            ]
          },
          "metadata": {
            "tags": []
          },
          "execution_count": 72
        }
      ]
    },
    {
      "cell_type": "code",
      "metadata": {
        "colab_type": "code",
        "outputId": "0327caf3-9a73-43bb-9b62-64e062dd7cab",
        "id": "CmMhEXyDCpYb",
        "colab": {
          "base_uri": "https://localhost:8080/",
          "height": 34
        }
      },
      "source": [
        "test_time = test_rt.process_time\n",
        "test_time # in seconds"
      ],
      "execution_count": 73,
      "outputs": [
        {
          "output_type": "execute_result",
          "data": {
            "text/plain": [
              "1.216509"
            ]
          },
          "metadata": {
            "tags": []
          },
          "execution_count": 73
        }
      ]
    },
    {
      "cell_type": "markdown",
      "metadata": {
        "colab_type": "text",
        "id": "3DuPz1q3CpYh"
      },
      "source": [
        "##Add training and test statistics to results dataframe"
      ]
    },
    {
      "cell_type": "code",
      "metadata": {
        "colab_type": "code",
        "outputId": "753290cc-35e3-4f7f-d279-aaabf4b615d3",
        "id": "L9EIRE4QCpYi",
        "colab": {
          "base_uri": "https://localhost:8080/",
          "height": 206
        }
      },
      "source": [
        "history_dict = history.history\n",
        "history_df=pd.DataFrame(history_dict)\n",
        "history_df.tail()"
      ],
      "execution_count": 74,
      "outputs": [
        {
          "output_type": "execute_result",
          "data": {
            "text/html": [
              "<div>\n",
              "<style scoped>\n",
              "    .dataframe tbody tr th:only-of-type {\n",
              "        vertical-align: middle;\n",
              "    }\n",
              "\n",
              "    .dataframe tbody tr th {\n",
              "        vertical-align: top;\n",
              "    }\n",
              "\n",
              "    .dataframe thead th {\n",
              "        text-align: right;\n",
              "    }\n",
              "</style>\n",
              "<table border=\"1\" class=\"dataframe\">\n",
              "  <thead>\n",
              "    <tr style=\"text-align: right;\">\n",
              "      <th></th>\n",
              "      <th>loss</th>\n",
              "      <th>accuracy</th>\n",
              "      <th>val_loss</th>\n",
              "      <th>val_accuracy</th>\n",
              "    </tr>\n",
              "  </thead>\n",
              "  <tbody>\n",
              "    <tr>\n",
              "      <th>15</th>\n",
              "      <td>0.150796</td>\n",
              "      <td>0.942200</td>\n",
              "      <td>0.198722</td>\n",
              "      <td>0.9246</td>\n",
              "    </tr>\n",
              "    <tr>\n",
              "      <th>16</th>\n",
              "      <td>0.143369</td>\n",
              "      <td>0.944945</td>\n",
              "      <td>0.213594</td>\n",
              "      <td>0.9206</td>\n",
              "    </tr>\n",
              "    <tr>\n",
              "      <th>17</th>\n",
              "      <td>0.140380</td>\n",
              "      <td>0.947473</td>\n",
              "      <td>0.210054</td>\n",
              "      <td>0.9206</td>\n",
              "    </tr>\n",
              "    <tr>\n",
              "      <th>18</th>\n",
              "      <td>0.131233</td>\n",
              "      <td>0.949400</td>\n",
              "      <td>0.205022</td>\n",
              "      <td>0.9268</td>\n",
              "    </tr>\n",
              "    <tr>\n",
              "      <th>19</th>\n",
              "      <td>0.124191</td>\n",
              "      <td>0.953927</td>\n",
              "      <td>0.218363</td>\n",
              "      <td>0.9206</td>\n",
              "    </tr>\n",
              "  </tbody>\n",
              "</table>\n",
              "</div>"
            ],
            "text/plain": [
              "        loss  accuracy  val_loss  val_accuracy\n",
              "15  0.150796  0.942200  0.198722        0.9246\n",
              "16  0.143369  0.944945  0.213594        0.9206\n",
              "17  0.140380  0.947473  0.210054        0.9206\n",
              "18  0.131233  0.949400  0.205022        0.9268\n",
              "19  0.124191  0.953927  0.218363        0.9206"
            ]
          },
          "metadata": {
            "tags": []
          },
          "execution_count": 74
        }
      ]
    },
    {
      "cell_type": "code",
      "metadata": {
        "colab_type": "code",
        "outputId": "77f0ae4e-82f5-466b-fde9-43c6852245ec",
        "id": "9N_lQ9GnCpYp",
        "colab": {
          "base_uri": "https://localhost:8080/",
          "height": 168
        }
      },
      "source": [
        "results_dfnew = history_df.iloc[-1:].copy()\n",
        "results_dfnew.insert(0,'model','CNN (4 layers), 32-32-64pool-64pool') # want the model name to appear first\n",
        "results_dfnew['test_loss'] = test_loss #incorporate test results\n",
        "results_dfnew['test_accuracy'] = test_acc\n",
        "results_dfnew['training time (sec)'] = train_time     \n",
        "results_dfnew['testing time (sec)'] = test_time      # testing time appears last\n",
        "results_dfnew"
      ],
      "execution_count": 75,
      "outputs": [
        {
          "output_type": "execute_result",
          "data": {
            "text/html": [
              "<div>\n",
              "<style scoped>\n",
              "    .dataframe tbody tr th:only-of-type {\n",
              "        vertical-align: middle;\n",
              "    }\n",
              "\n",
              "    .dataframe tbody tr th {\n",
              "        vertical-align: top;\n",
              "    }\n",
              "\n",
              "    .dataframe thead th {\n",
              "        text-align: right;\n",
              "    }\n",
              "</style>\n",
              "<table border=\"1\" class=\"dataframe\">\n",
              "  <thead>\n",
              "    <tr style=\"text-align: right;\">\n",
              "      <th></th>\n",
              "      <th>model</th>\n",
              "      <th>loss</th>\n",
              "      <th>accuracy</th>\n",
              "      <th>val_loss</th>\n",
              "      <th>val_accuracy</th>\n",
              "      <th>test_loss</th>\n",
              "      <th>test_accuracy</th>\n",
              "      <th>training time (sec)</th>\n",
              "      <th>testing time (sec)</th>\n",
              "    </tr>\n",
              "  </thead>\n",
              "  <tbody>\n",
              "    <tr>\n",
              "      <th>19</th>\n",
              "      <td>CNN (4 layers), 32-32-64pool-64pool</td>\n",
              "      <td>0.124191</td>\n",
              "      <td>0.953927</td>\n",
              "      <td>0.218363</td>\n",
              "      <td>0.9206</td>\n",
              "      <td>0.236844</td>\n",
              "      <td>0.9183</td>\n",
              "      <td>427.432288</td>\n",
              "      <td>1.216509</td>\n",
              "    </tr>\n",
              "  </tbody>\n",
              "</table>\n",
              "</div>"
            ],
            "text/plain": [
              "                                  model  ...  testing time (sec)\n",
              "19  CNN (4 layers), 32-32-64pool-64pool  ...            1.216509\n",
              "\n",
              "[1 rows x 9 columns]"
            ]
          },
          "metadata": {
            "tags": []
          },
          "execution_count": 75
        }
      ]
    },
    {
      "cell_type": "code",
      "metadata": {
        "colab_type": "code",
        "outputId": "2dff72ba-0e5b-4f78-8955-424bb9254207",
        "id": "gywP56GACpYt",
        "colab": {
          "base_uri": "https://localhost:8080/",
          "height": 481
        }
      },
      "source": [
        "results_df=results_df.append(results_dfnew,ignore_index=True)\n",
        "results_df"
      ],
      "execution_count": 76,
      "outputs": [
        {
          "output_type": "execute_result",
          "data": {
            "text/html": [
              "<div>\n",
              "<style scoped>\n",
              "    .dataframe tbody tr th:only-of-type {\n",
              "        vertical-align: middle;\n",
              "    }\n",
              "\n",
              "    .dataframe tbody tr th {\n",
              "        vertical-align: top;\n",
              "    }\n",
              "\n",
              "    .dataframe thead th {\n",
              "        text-align: right;\n",
              "    }\n",
              "</style>\n",
              "<table border=\"1\" class=\"dataframe\">\n",
              "  <thead>\n",
              "    <tr style=\"text-align: right;\">\n",
              "      <th></th>\n",
              "      <th>model</th>\n",
              "      <th>loss</th>\n",
              "      <th>accuracy</th>\n",
              "      <th>val_loss</th>\n",
              "      <th>val_accuracy</th>\n",
              "      <th>test_loss</th>\n",
              "      <th>test_accuracy</th>\n",
              "      <th>training time (sec)</th>\n",
              "      <th>testing time (sec)</th>\n",
              "    </tr>\n",
              "  </thead>\n",
              "  <tbody>\n",
              "    <tr>\n",
              "      <th>0</th>\n",
              "      <td>CNN (2 layers), baseline 32pool64pool</td>\n",
              "      <td>0.150072</td>\n",
              "      <td>0.942018</td>\n",
              "      <td>0.219612</td>\n",
              "      <td>0.9260</td>\n",
              "      <td>0.231991</td>\n",
              "      <td>0.9187</td>\n",
              "      <td>115.624179</td>\n",
              "      <td>0.844875</td>\n",
              "    </tr>\n",
              "    <tr>\n",
              "      <th>1</th>\n",
              "      <td>CNN (4 layers), 32-32pool-64-64pool</td>\n",
              "      <td>0.162009</td>\n",
              "      <td>0.939345</td>\n",
              "      <td>0.197643</td>\n",
              "      <td>0.9242</td>\n",
              "      <td>0.221811</td>\n",
              "      <td>0.9242</td>\n",
              "      <td>243.798351</td>\n",
              "      <td>1.056956</td>\n",
              "    </tr>\n",
              "    <tr>\n",
              "      <th>2</th>\n",
              "      <td>CNN (4 layers), 32poolpool-32pool-64-64</td>\n",
              "      <td>0.258497</td>\n",
              "      <td>0.903400</td>\n",
              "      <td>0.228503</td>\n",
              "      <td>0.9142</td>\n",
              "      <td>0.254124</td>\n",
              "      <td>0.9081</td>\n",
              "      <td>116.579235</td>\n",
              "      <td>0.919488</td>\n",
              "    </tr>\n",
              "    <tr>\n",
              "      <th>3</th>\n",
              "      <td>CNN (4 layers), 32pool-32pool-64-64</td>\n",
              "      <td>0.258497</td>\n",
              "      <td>0.903400</td>\n",
              "      <td>0.228503</td>\n",
              "      <td>0.9142</td>\n",
              "      <td>0.254124</td>\n",
              "      <td>0.9081</td>\n",
              "      <td>116.579235</td>\n",
              "      <td>0.919488</td>\n",
              "    </tr>\n",
              "    <tr>\n",
              "      <th>4</th>\n",
              "      <td>CNN (4 layers), 32-32pool-64pool-64</td>\n",
              "      <td>0.172224</td>\n",
              "      <td>0.934891</td>\n",
              "      <td>0.198186</td>\n",
              "      <td>0.9212</td>\n",
              "      <td>0.222971</td>\n",
              "      <td>0.9199</td>\n",
              "      <td>231.822903</td>\n",
              "      <td>0.991374</td>\n",
              "    </tr>\n",
              "    <tr>\n",
              "      <th>5</th>\n",
              "      <td>CNN (4 layers), 32-32-64pool-64pool</td>\n",
              "      <td>0.124191</td>\n",
              "      <td>0.953927</td>\n",
              "      <td>0.218363</td>\n",
              "      <td>0.9206</td>\n",
              "      <td>0.236844</td>\n",
              "      <td>0.9183</td>\n",
              "      <td>427.432288</td>\n",
              "      <td>1.216509</td>\n",
              "    </tr>\n",
              "  </tbody>\n",
              "</table>\n",
              "</div>"
            ],
            "text/plain": [
              "                                     model  ...  testing time (sec)\n",
              "0    CNN (2 layers), baseline 32pool64pool  ...            0.844875\n",
              "1      CNN (4 layers), 32-32pool-64-64pool  ...            1.056956\n",
              "2  CNN (4 layers), 32poolpool-32pool-64-64  ...            0.919488\n",
              "3      CNN (4 layers), 32pool-32pool-64-64  ...            0.919488\n",
              "4      CNN (4 layers), 32-32pool-64pool-64  ...            0.991374\n",
              "5      CNN (4 layers), 32-32-64pool-64pool  ...            1.216509\n",
              "\n",
              "[6 rows x 9 columns]"
            ]
          },
          "metadata": {
            "tags": []
          },
          "execution_count": 76
        }
      ]
    },
    {
      "cell_type": "markdown",
      "metadata": {
        "colab_type": "text",
        "id": "-uE39fUQCpYz"
      },
      "source": [
        "## Plotting the performance "
      ]
    },
    {
      "cell_type": "code",
      "metadata": {
        "colab_type": "code",
        "outputId": "105e1c9b-cb1d-4d30-d25a-36be50c8c655",
        "id": "suha-0aZCpY0",
        "colab": {
          "base_uri": "https://localhost:8080/",
          "height": 301
        }
      },
      "source": [
        "import matplotlib.pyplot as plt\n",
        "\n",
        "acc = history.history['accuracy']\n",
        "val_acc = history.history['val_accuracy']\n",
        "loss = history.history['loss']\n",
        "val_loss = history.history['val_loss']\n",
        "\n",
        "epochs = range(1, len(acc) + 1)\n",
        "\n",
        "# \"bo\" is for \"blue dot\"\n",
        "plt.plot(epochs, loss, 'bo', label='Training loss')\n",
        "# b is for \"solid blue line\"\n",
        "plt.plot(epochs, val_loss, 'b', label='Validation loss')\n",
        "plt.title('Training and validation loss')\n",
        "\n",
        "plt.xlabel('Epochs')\n",
        "plt.ylabel('Loss')\n",
        "plt.legend()\n",
        "\n",
        "plt.show()"
      ],
      "execution_count": 77,
      "outputs": [
        {
          "output_type": "display_data",
          "data": {
            "image/png": "[encoded data removed]",
            "text/plain": [
              "<Figure size 432x288 with 1 Axes>"
            ]
          },
          "metadata": {
            "tags": [],
            "needs_background": "light"
          }
        }
      ]
    },
    {
      "cell_type": "code",
      "metadata": {
        "colab_type": "code",
        "outputId": "5b12fa30-bf55-4e12-ec56-703272a1d14c",
        "id": "XPjwQFYBCpY6",
        "colab": {
          "base_uri": "https://localhost:8080/",
          "height": 301
        }
      },
      "source": [
        "plt.clf()   # clear figure\n",
        "acc_values = history_dict['accuracy']\n",
        "# val_acc_values = history_dict['val_acc']\n",
        "\n",
        "plt.plot(epochs, acc, 'bo', label='Training acc')\n",
        "plt.plot(epochs, val_acc, 'b', label='Validation acc')\n",
        "plt.title('Training and validation accuracy')\n",
        "\n",
        "plt.xlabel('Epochs')\n",
        "plt.ylabel('Accuracy')\n",
        "plt.legend()\n",
        "\n",
        "plt.show()"
      ],
      "execution_count": 78,
      "outputs": [
        {
          "output_type": "display_data",
          "data": {
            "image/png": "[encoded data removed]",
            "text/plain": [
              "<Figure size 432x288 with 1 Axes>"
            ]
          },
          "metadata": {
            "tags": [],
            "needs_background": "light"
          }
        }
      ]
    },
    {
      "cell_type": "markdown",
      "metadata": {
        "colab_type": "text",
        "id": "wmfYP9z_54bb"
      },
      "source": [
        "#Experiment 9\n",
        "64, pool, 128, pool"
      ]
    },
    {
      "cell_type": "markdown",
      "metadata": {
        "colab_type": "text",
        "id": "sodEAtvh54bi"
      },
      "source": [
        "##Build and compile the model"
      ]
    },
    {
      "cell_type": "code",
      "metadata": {
        "colab_type": "code",
        "id": "vXqG5r_O54bl",
        "colab": {}
      },
      "source": [
        "# CNN with 2 convolution/max pooling layers\n",
        "\n",
        "model = models.Sequential()\n",
        "model.add(layers.Conv2D(64, (3, 3), activation='relu', input_shape=(28, 28, 1)))\n",
        "model.add(layers.MaxPooling2D((2, 2)))\n",
        "model.add(layers.Dropout(0.2))\n",
        "\n",
        "model.add(layers.Conv2D(128, (3, 3), activation='relu'))\n",
        "model.add(layers.MaxPooling2D((2, 2)))\n",
        "model.add(layers.Dropout(0.2))\n",
        "\n",
        "model.add(layers.Flatten())\n",
        "model.add(layers.Dense(256, activation='relu'))\n",
        "model.add(layers.Dropout(0.2))\n",
        "\n",
        "model.add(layers.Dense(10, activation='softmax'))\n",
        "\n",
        "model.compile(optimizer ='adam',\n",
        "              loss='sparse_categorical_crossentropy',\n",
        "              metrics=['accuracy'])"
      ],
      "execution_count": 0,
      "outputs": []
    },
    {
      "cell_type": "code",
      "metadata": {
        "colab_type": "code",
        "id": "xx_kF0fV54by",
        "colab": {}
      },
      "source": [
        "# keras.utils.plot_model(model, show_shapes=True)"
      ],
      "execution_count": 0,
      "outputs": []
    },
    {
      "cell_type": "markdown",
      "metadata": {
        "colab_type": "text",
        "id": "UYsWClt554b8"
      },
      "source": [
        "##Train the model"
      ]
    },
    {
      "cell_type": "code",
      "metadata": {
        "colab_type": "code",
        "outputId": "f2dda13e-31f1-46a4-e960-6cd93bfc0899",
        "id": "W0cPRohe54b8",
        "colab": {
          "base_uri": "https://localhost:8080/",
          "height": 0
        }
      },
      "source": [
        "train_rt = TrainRuntimeCallback()\n",
        "history = model.fit(train_images, train_labels, callbacks=[train_rt], epochs=20,  batch_size = 100,\n",
        "                    validation_data=(val_images, val_labels))"
      ],
      "execution_count": 63,
      "outputs": [
        {
          "output_type": "stream",
          "text": [
            "Train on 55000 samples, validate on 5000 samples\n",
            "Epoch 1/20\n",
            "55000/55000 [==============================] - 4s 81us/sample - loss: 0.5217 - accuracy: 0.8091 - val_loss: 0.3351 - val_accuracy: 0.8808\n",
            "Epoch 2/20\n",
            "55000/55000 [==============================] - 4s 77us/sample - loss: 0.3384 - accuracy: 0.8757 - val_loss: 0.2792 - val_accuracy: 0.8994\n",
            "Epoch 3/20\n",
            "55000/55000 [==============================] - 4s 77us/sample - loss: 0.2911 - accuracy: 0.8926 - val_loss: 0.2628 - val_accuracy: 0.8990\n",
            "Epoch 4/20\n",
            "55000/55000 [==============================] - 4s 77us/sample - loss: 0.2606 - accuracy: 0.9035 - val_loss: 0.2590 - val_accuracy: 0.9008\n",
            "Epoch 5/20\n",
            "55000/55000 [==============================] - 4s 77us/sample - loss: 0.2416 - accuracy: 0.9102 - val_loss: 0.2246 - val_accuracy: 0.9164\n",
            "Epoch 6/20\n",
            "55000/55000 [==============================] - 4s 76us/sample - loss: 0.2211 - accuracy: 0.9183 - val_loss: 0.2207 - val_accuracy: 0.9196\n",
            "Epoch 7/20\n",
            "55000/55000 [==============================] - 4s 76us/sample - loss: 0.2060 - accuracy: 0.9229 - val_loss: 0.2192 - val_accuracy: 0.9158\n",
            "Epoch 8/20\n",
            "55000/55000 [==============================] - 4s 76us/sample - loss: 0.1948 - accuracy: 0.9268 - val_loss: 0.2103 - val_accuracy: 0.9236\n",
            "Epoch 9/20\n",
            "55000/55000 [==============================] - 4s 76us/sample - loss: 0.1819 - accuracy: 0.9308 - val_loss: 0.2040 - val_accuracy: 0.9224\n",
            "Epoch 10/20\n",
            "55000/55000 [==============================] - 4s 76us/sample - loss: 0.1690 - accuracy: 0.9371 - val_loss: 0.2393 - val_accuracy: 0.9092\n",
            "Epoch 11/20\n",
            "55000/55000 [==============================] - 4s 76us/sample - loss: 0.1592 - accuracy: 0.9397 - val_loss: 0.2133 - val_accuracy: 0.9218\n",
            "Epoch 12/20\n",
            "55000/55000 [==============================] - 4s 76us/sample - loss: 0.1488 - accuracy: 0.9435 - val_loss: 0.2130 - val_accuracy: 0.9236\n",
            "Epoch 13/20\n",
            "55000/55000 [==============================] - 4s 77us/sample - loss: 0.1372 - accuracy: 0.9469 - val_loss: 0.2159 - val_accuracy: 0.9254\n",
            "Epoch 14/20\n",
            "55000/55000 [==============================] - 4s 76us/sample - loss: 0.1286 - accuracy: 0.9500 - val_loss: 0.2199 - val_accuracy: 0.9230\n",
            "Epoch 15/20\n",
            "55000/55000 [==============================] - 4s 76us/sample - loss: 0.1248 - accuracy: 0.9527 - val_loss: 0.2178 - val_accuracy: 0.9258\n",
            "Epoch 16/20\n",
            "55000/55000 [==============================] - 4s 77us/sample - loss: 0.1163 - accuracy: 0.9555 - val_loss: 0.2208 - val_accuracy: 0.9242\n",
            "Epoch 17/20\n",
            "55000/55000 [==============================] - 4s 76us/sample - loss: 0.1123 - accuracy: 0.9571 - val_loss: 0.2344 - val_accuracy: 0.9216\n",
            "Epoch 18/20\n",
            "55000/55000 [==============================] - 4s 76us/sample - loss: 0.1049 - accuracy: 0.9591 - val_loss: 0.2314 - val_accuracy: 0.9258\n",
            "Epoch 19/20\n",
            "55000/55000 [==============================] - 4s 76us/sample - loss: 0.0972 - accuracy: 0.9624 - val_loss: 0.2171 - val_accuracy: 0.9286\n",
            "Epoch 20/20\n",
            "55000/55000 [==============================] - 4s 77us/sample - loss: 0.0958 - accuracy: 0.9629 - val_loss: 0.2423 - val_accuracy: 0.9218\n"
          ],
          "name": "stdout"
        }
      ]
    },
    {
      "cell_type": "code",
      "metadata": {
        "colab_type": "code",
        "outputId": "9621970f-850b-482e-d185-5cd464a34f06",
        "id": "9TWf8jpm54cE",
        "colab": {
          "base_uri": "https://localhost:8080/",
          "height": 0
        }
      },
      "source": [
        "# Get the training time\n",
        "train_time = train_rt.process_time\n",
        "train_time # in seconds"
      ],
      "execution_count": 64,
      "outputs": [
        {
          "output_type": "execute_result",
          "data": {
            "text/plain": [
              "85.164486"
            ]
          },
          "metadata": {
            "tags": []
          },
          "execution_count": 64
        }
      ]
    },
    {
      "cell_type": "markdown",
      "metadata": {
        "colab_type": "text",
        "id": "9SCm2ek854cK"
      },
      "source": [
        "## Test the model"
      ]
    },
    {
      "cell_type": "code",
      "metadata": {
        "colab_type": "code",
        "outputId": "fdd61df8-af4d-46e3-b57a-ccffc629a82f",
        "id": "sbClGhl354cM",
        "colab": {
          "base_uri": "https://localhost:8080/",
          "height": 0
        }
      },
      "source": [
        "test_rt = TestRuntimeCallback()\n",
        "test_loss, test_acc = model.evaluate(test_images, test_labels, callbacks=[test_rt])\n",
        "test_loss, test_acc"
      ],
      "execution_count": 65,
      "outputs": [
        {
          "output_type": "execute_result",
          "data": {
            "text/plain": [
              "(0.26855262257754803, 0.9209)"
            ]
          },
          "metadata": {
            "tags": []
          },
          "execution_count": 65
        }
      ]
    },
    {
      "cell_type": "code",
      "metadata": {
        "colab_type": "code",
        "outputId": "9e5935ed-9ce4-4a34-c7ee-d8203862a9a9",
        "id": "8fZc03iT54cS",
        "colab": {
          "base_uri": "https://localhost:8080/",
          "height": 0
        }
      },
      "source": [
        "test_time = test_rt.process_time\n",
        "test_time # in seconds"
      ],
      "execution_count": 66,
      "outputs": [
        {
          "output_type": "execute_result",
          "data": {
            "text/plain": [
              "0.56504"
            ]
          },
          "metadata": {
            "tags": []
          },
          "execution_count": 66
        }
      ]
    },
    {
      "cell_type": "markdown",
      "metadata": {
        "colab_type": "text",
        "id": "NHs7x50x54cX"
      },
      "source": [
        "##Add training and test statistics to results dataframe"
      ]
    },
    {
      "cell_type": "code",
      "metadata": {
        "colab_type": "code",
        "outputId": "b09f9848-af1f-49fc-96c6-74d35d0c6f0f",
        "id": "ZxMTvJVh54cZ",
        "colab": {
          "base_uri": "https://localhost:8080/",
          "height": 0
        }
      },
      "source": [
        "history_dict = history.history\n",
        "history_df=pd.DataFrame(history_dict)\n",
        "history_df.tail()"
      ],
      "execution_count": 67,
      "outputs": [
        {
          "output_type": "execute_result",
          "data": {
            "text/html": [
              "<div>\n",
              "<style scoped>\n",
              "    .dataframe tbody tr th:only-of-type {\n",
              "        vertical-align: middle;\n",
              "    }\n",
              "\n",
              "    .dataframe tbody tr th {\n",
              "        vertical-align: top;\n",
              "    }\n",
              "\n",
              "    .dataframe thead th {\n",
              "        text-align: right;\n",
              "    }\n",
              "</style>\n",
              "<table border=\"1\" class=\"dataframe\">\n",
              "  <thead>\n",
              "    <tr style=\"text-align: right;\">\n",
              "      <th></th>\n",
              "      <th>loss</th>\n",
              "      <th>accuracy</th>\n",
              "      <th>val_loss</th>\n",
              "      <th>val_accuracy</th>\n",
              "    </tr>\n",
              "  </thead>\n",
              "  <tbody>\n",
              "    <tr>\n",
              "      <th>15</th>\n",
              "      <td>0.116271</td>\n",
              "      <td>0.955545</td>\n",
              "      <td>0.220752</td>\n",
              "      <td>0.9242</td>\n",
              "    </tr>\n",
              "    <tr>\n",
              "      <th>16</th>\n",
              "      <td>0.112310</td>\n",
              "      <td>0.957091</td>\n",
              "      <td>0.234359</td>\n",
              "      <td>0.9216</td>\n",
              "    </tr>\n",
              "    <tr>\n",
              "      <th>17</th>\n",
              "      <td>0.104940</td>\n",
              "      <td>0.959145</td>\n",
              "      <td>0.231364</td>\n",
              "      <td>0.9258</td>\n",
              "    </tr>\n",
              "    <tr>\n",
              "      <th>18</th>\n",
              "      <td>0.097229</td>\n",
              "      <td>0.962382</td>\n",
              "      <td>0.217148</td>\n",
              "      <td>0.9286</td>\n",
              "    </tr>\n",
              "    <tr>\n",
              "      <th>19</th>\n",
              "      <td>0.095781</td>\n",
              "      <td>0.962927</td>\n",
              "      <td>0.242315</td>\n",
              "      <td>0.9218</td>\n",
              "    </tr>\n",
              "  </tbody>\n",
              "</table>\n",
              "</div>"
            ],
            "text/plain": [
              "        loss  accuracy  val_loss  val_accuracy\n",
              "15  0.116271  0.955545  0.220752        0.9242\n",
              "16  0.112310  0.957091  0.234359        0.9216\n",
              "17  0.104940  0.959145  0.231364        0.9258\n",
              "18  0.097229  0.962382  0.217148        0.9286\n",
              "19  0.095781  0.962927  0.242315        0.9218"
            ]
          },
          "metadata": {
            "tags": []
          },
          "execution_count": 67
        }
      ]
    },
    {
      "cell_type": "code",
      "metadata": {
        "colab_type": "code",
        "outputId": "fd7f63f0-07d7-4bff-a901-1bc5d56a4e85",
        "id": "aUb_faw354cf",
        "colab": {
          "base_uri": "https://localhost:8080/",
          "height": 0
        }
      },
      "source": [
        "results_dfnew = history_df.iloc[-1:].copy()\n",
        "results_dfnew.insert(0,'model','CNN (2 layers), 64pool128pool') # want the model name to appear first\n",
        "results_dfnew['test_loss'] = test_loss #incorporate test results\n",
        "results_dfnew['test_accuracy'] = test_acc\n",
        "results_dfnew['training time (sec)'] = train_time     \n",
        "results_dfnew['testing time (sec)'] = test_time      # testing time appears last\n",
        "results_dfnew"
      ],
      "execution_count": 68,
      "outputs": [
        {
          "output_type": "execute_result",
          "data": {
            "text/html": [
              "<div>\n",
              "<style scoped>\n",
              "    .dataframe tbody tr th:only-of-type {\n",
              "        vertical-align: middle;\n",
              "    }\n",
              "\n",
              "    .dataframe tbody tr th {\n",
              "        vertical-align: top;\n",
              "    }\n",
              "\n",
              "    .dataframe thead th {\n",
              "        text-align: right;\n",
              "    }\n",
              "</style>\n",
              "<table border=\"1\" class=\"dataframe\">\n",
              "  <thead>\n",
              "    <tr style=\"text-align: right;\">\n",
              "      <th></th>\n",
              "      <th>model</th>\n",
              "      <th>loss</th>\n",
              "      <th>accuracy</th>\n",
              "      <th>val_loss</th>\n",
              "      <th>val_accuracy</th>\n",
              "      <th>test_loss</th>\n",
              "      <th>test_accuracy</th>\n",
              "      <th>training time (sec)</th>\n",
              "      <th>testing time (sec)</th>\n",
              "    </tr>\n",
              "  </thead>\n",
              "  <tbody>\n",
              "    <tr>\n",
              "      <th>19</th>\n",
              "      <td>CNN (2 layers), 64pool128pool</td>\n",
              "      <td>0.095781</td>\n",
              "      <td>0.962927</td>\n",
              "      <td>0.242315</td>\n",
              "      <td>0.9218</td>\n",
              "      <td>0.268553</td>\n",
              "      <td>0.9209</td>\n",
              "      <td>85.164486</td>\n",
              "      <td>0.56504</td>\n",
              "    </tr>\n",
              "  </tbody>\n",
              "</table>\n",
              "</div>"
            ],
            "text/plain": [
              "                            model  ...  testing time (sec)\n",
              "19  CNN (2 layers), 64pool128pool  ...             0.56504\n",
              "\n",
              "[1 rows x 9 columns]"
            ]
          },
          "metadata": {
            "tags": []
          },
          "execution_count": 68
        }
      ]
    },
    {
      "cell_type": "code",
      "metadata": {
        "colab_type": "code",
        "outputId": "aa806fa9-75df-4620-ed00-5954c43db2ba",
        "id": "frymqhdA54cj",
        "colab": {
          "base_uri": "https://localhost:8080/",
          "height": 0
        }
      },
      "source": [
        "results_df=results_df.append(results_dfnew,ignore_index=True)\n",
        "results_df"
      ],
      "execution_count": 69,
      "outputs": [
        {
          "output_type": "execute_result",
          "data": {
            "text/html": [
              "<div>\n",
              "<style scoped>\n",
              "    .dataframe tbody tr th:only-of-type {\n",
              "        vertical-align: middle;\n",
              "    }\n",
              "\n",
              "    .dataframe tbody tr th {\n",
              "        vertical-align: top;\n",
              "    }\n",
              "\n",
              "    .dataframe thead th {\n",
              "        text-align: right;\n",
              "    }\n",
              "</style>\n",
              "<table border=\"1\" class=\"dataframe\">\n",
              "  <thead>\n",
              "    <tr style=\"text-align: right;\">\n",
              "      <th></th>\n",
              "      <th>model</th>\n",
              "      <th>loss</th>\n",
              "      <th>accuracy</th>\n",
              "      <th>val_loss</th>\n",
              "      <th>val_accuracy</th>\n",
              "      <th>test_loss</th>\n",
              "      <th>test_accuracy</th>\n",
              "      <th>training time (sec)</th>\n",
              "      <th>testing time (sec)</th>\n",
              "    </tr>\n",
              "  </thead>\n",
              "  <tbody>\n",
              "    <tr>\n",
              "      <th>0</th>\n",
              "      <td>CNN (2 layers), baseline 32pool64pool</td>\n",
              "      <td>0.148440</td>\n",
              "      <td>0.942564</td>\n",
              "      <td>0.229695</td>\n",
              "      <td>0.9206</td>\n",
              "      <td>0.240504</td>\n",
              "      <td>0.9187</td>\n",
              "      <td>68.169618</td>\n",
              "      <td>0.486633</td>\n",
              "    </tr>\n",
              "    <tr>\n",
              "      <th>1</th>\n",
              "      <td>CNN (2 layers), 64pool32pool</td>\n",
              "      <td>0.165884</td>\n",
              "      <td>0.936509</td>\n",
              "      <td>0.212797</td>\n",
              "      <td>0.9248</td>\n",
              "      <td>0.237632</td>\n",
              "      <td>0.9165</td>\n",
              "      <td>71.097494</td>\n",
              "      <td>0.501577</td>\n",
              "    </tr>\n",
              "    <tr>\n",
              "      <th>2</th>\n",
              "      <td>CNN (2 layers), 32-64-pool, 5x5, 3x3</td>\n",
              "      <td>0.056374</td>\n",
              "      <td>0.978818</td>\n",
              "      <td>0.288349</td>\n",
              "      <td>0.9252</td>\n",
              "      <td>0.309188</td>\n",
              "      <td>0.9230</td>\n",
              "      <td>113.877381</td>\n",
              "      <td>0.559199</td>\n",
              "    </tr>\n",
              "    <tr>\n",
              "      <th>3</th>\n",
              "      <td>CNN (4 layers), 32-32pool-64-64pool</td>\n",
              "      <td>0.149929</td>\n",
              "      <td>0.943709</td>\n",
              "      <td>0.213560</td>\n",
              "      <td>0.9236</td>\n",
              "      <td>0.234258</td>\n",
              "      <td>0.9245</td>\n",
              "      <td>128.761204</td>\n",
              "      <td>0.582940</td>\n",
              "    </tr>\n",
              "    <tr>\n",
              "      <th>4</th>\n",
              "      <td>CNN (2 layers), 64pool128pool</td>\n",
              "      <td>0.095781</td>\n",
              "      <td>0.962927</td>\n",
              "      <td>0.242315</td>\n",
              "      <td>0.9218</td>\n",
              "      <td>0.268553</td>\n",
              "      <td>0.9209</td>\n",
              "      <td>85.164486</td>\n",
              "      <td>0.565040</td>\n",
              "    </tr>\n",
              "  </tbody>\n",
              "</table>\n",
              "</div>"
            ],
            "text/plain": [
              "                                   model  ...  testing time (sec)\n",
              "0  CNN (2 layers), baseline 32pool64pool  ...            0.486633\n",
              "1           CNN (2 layers), 64pool32pool  ...            0.501577\n",
              "2   CNN (2 layers), 32-64-pool, 5x5, 3x3  ...            0.559199\n",
              "3    CNN (4 layers), 32-32pool-64-64pool  ...            0.582940\n",
              "4          CNN (2 layers), 64pool128pool  ...            0.565040\n",
              "\n",
              "[5 rows x 9 columns]"
            ]
          },
          "metadata": {
            "tags": []
          },
          "execution_count": 69
        }
      ]
    },
    {
      "cell_type": "markdown",
      "metadata": {
        "colab_type": "text",
        "id": "e7glLMA_54co"
      },
      "source": [
        "## Plotting the performance "
      ]
    },
    {
      "cell_type": "code",
      "metadata": {
        "colab_type": "code",
        "outputId": "642136c7-ad46-42c1-fe47-7951b85cdc28",
        "id": "HqIKj9we54cp",
        "colab": {
          "base_uri": "https://localhost:8080/",
          "height": 301
        }
      },
      "source": [
        "import matplotlib.pyplot as plt\n",
        "\n",
        "acc = history.history['accuracy']\n",
        "val_acc = history.history['val_accuracy']\n",
        "loss = history.history['loss']\n",
        "val_loss = history.history['val_loss']\n",
        "\n",
        "epochs = range(1, len(acc) + 1)\n",
        "\n",
        "# \"bo\" is for \"blue dot\"\n",
        "plt.plot(epochs, loss, 'bo', label='Training loss')\n",
        "# b is for \"solid blue line\"\n",
        "plt.plot(epochs, val_loss, 'b', label='Validation loss')\n",
        "plt.title('Training and validation loss')\n",
        "\n",
        "plt.xlabel('Epochs')\n",
        "plt.ylabel('Loss')\n",
        "plt.legend()\n",
        "\n",
        "plt.show()"
      ],
      "execution_count": 70,
      "outputs": [
        {
          "output_type": "display_data",
          "data": {
            "image/png": "[encoded data removed]",
            "text/plain": [
              "<Figure size 432x288 with 1 Axes>"
            ]
          },
          "metadata": {
            "tags": [],
            "needs_background": "light"
          }
        }
      ]
    },
    {
      "cell_type": "code",
      "metadata": {
        "colab_type": "code",
        "outputId": "38573ff5-af64-4f49-cd0e-93b4bb1367a0",
        "id": "evsAMzhN54ct",
        "colab": {
          "base_uri": "https://localhost:8080/",
          "height": 301
        }
      },
      "source": [
        "plt.clf()   # clear figure\n",
        "acc_values = history_dict['accuracy']\n",
        "# val_acc_values = history_dict['val_acc']\n",
        "\n",
        "plt.plot(epochs, acc, 'bo', label='Training acc')\n",
        "plt.plot(epochs, val_acc, 'b', label='Validation acc')\n",
        "plt.title('Training and validation accuracy')\n",
        "\n",
        "plt.xlabel('Epochs')\n",
        "plt.ylabel('Accuracy')\n",
        "plt.legend()\n",
        "\n",
        "plt.show()"
      ],
      "execution_count": 71,
      "outputs": [
        {
          "output_type": "display_data",
          "data": {
            "image/png": "[encoded data removed]",
            "text/plain": [
              "<Figure size 432x288 with 1 Axes>"
            ]
          },
          "metadata": {
            "tags": [],
            "needs_background": "light"
          }
        }
      ]
    },
    {
      "cell_type": "code",
      "metadata": {
        "colab_type": "code",
        "outputId": "2e608337-4d5a-477e-e2ee-e72cccc992a3",
        "id": "ZbTsznNW54c0",
        "colab": {
          "base_uri": "https://localhost:8080/",
          "height": 34
        }
      },
      "source": [
        "# save the model\n",
        "model.save(\"experiment4\")"
      ],
      "execution_count": 72,
      "outputs": [
        {
          "output_type": "stream",
          "text": [
            "INFO:tensorflow:Assets written to: experiment4/assets\n"
          ],
          "name": "stdout"
        }
      ]
    },
    {
      "cell_type": "markdown",
      "metadata": {
        "colab_type": "text",
        "id": "EzGUVW6E5R1x"
      },
      "source": [
        "#Experiment 10\n",
        "4 layer CNN: 64, 64, pool, 128, 128, pool\n"
      ]
    },
    {
      "cell_type": "markdown",
      "metadata": {
        "colab_type": "text",
        "id": "8kXFJzwt5R11"
      },
      "source": [
        "##Build and compile the model"
      ]
    },
    {
      "cell_type": "code",
      "metadata": {
        "colab_type": "code",
        "id": "igaqJXAm5R14",
        "colab": {}
      },
      "source": [
        "model = models.Sequential()\n",
        "model.add(layers.Conv2D(64, (3, 3), activation='relu', input_shape=(28, 28, 1)))\n",
        "model.add(layers.Dropout(0.2))\n",
        "\n",
        "model.add(layers.Conv2D(64, (3, 3), activation='relu', input_shape=(28, 28, 1)))\n",
        "model.add(layers.MaxPooling2D((2, 2)))\n",
        "model.add(layers.Dropout(0.2))\n",
        "\n",
        "model.add(layers.Conv2D(128, (3, 3), activation='relu'))\n",
        "model.add(layers.Dropout(0.2))\n",
        "\n",
        "model.add(layers.Conv2D(128, (3, 3), activation='relu'))\n",
        "model.add(layers.MaxPooling2D((2, 2)))\n",
        "model.add(layers.Dropout(0.2))\n",
        "\n",
        "model.add(layers.Flatten())\n",
        "model.add(layers.Dense(256, activation='relu'))\n",
        "model.add(layers.Dropout(0.2))\n",
        "\n",
        "model.add(layers.Dense(10, activation='softmax'))\n",
        "\n",
        "model.compile(optimizer ='adam',\n",
        "              loss='sparse_categorical_crossentropy',\n",
        "              metrics=['accuracy'])"
      ],
      "execution_count": 0,
      "outputs": []
    },
    {
      "cell_type": "code",
      "metadata": {
        "colab_type": "code",
        "id": "f2j731Gn5R2F",
        "colab": {}
      },
      "source": [
        "# keras.utils.plot_model(model, show_shapes=True)"
      ],
      "execution_count": 0,
      "outputs": []
    },
    {
      "cell_type": "markdown",
      "metadata": {
        "colab_type": "text",
        "id": "E__a2O975R2M"
      },
      "source": [
        "##Train the model"
      ]
    },
    {
      "cell_type": "code",
      "metadata": {
        "colab_type": "code",
        "outputId": "136c34b5-8a79-4035-cca4-a7b1ccf4dec5",
        "id": "ivj6IoZ15R2N",
        "colab": {
          "base_uri": "https://localhost:8080/",
          "height": 0
        }
      },
      "source": [
        "train_rt = TrainRuntimeCallback()\n",
        "history = model.fit(train_images, train_labels, callbacks=[train_rt], epochs=20,  batch_size = 100,\n",
        "                    validation_data=(val_images, val_labels))"
      ],
      "execution_count": 75,
      "outputs": [
        {
          "output_type": "stream",
          "text": [
            "Train on 55000 samples, validate on 5000 samples\n",
            "Epoch 1/20\n",
            "55000/55000 [==============================] - 12s 210us/sample - loss: 0.5783 - accuracy: 0.7833 - val_loss: 0.3295 - val_accuracy: 0.8786\n",
            "Epoch 2/20\n",
            "55000/55000 [==============================] - 11s 207us/sample - loss: 0.3416 - accuracy: 0.8740 - val_loss: 0.2883 - val_accuracy: 0.8986\n",
            "Epoch 3/20\n",
            "55000/55000 [==============================] - 11s 205us/sample - loss: 0.2853 - accuracy: 0.8944 - val_loss: 0.2426 - val_accuracy: 0.9094\n",
            "Epoch 4/20\n",
            "55000/55000 [==============================] - 11s 205us/sample - loss: 0.2589 - accuracy: 0.9028 - val_loss: 0.2231 - val_accuracy: 0.9160\n",
            "Epoch 5/20\n",
            "55000/55000 [==============================] - 11s 206us/sample - loss: 0.2378 - accuracy: 0.9114 - val_loss: 0.2294 - val_accuracy: 0.9158\n",
            "Epoch 6/20\n",
            "55000/55000 [==============================] - 11s 205us/sample - loss: 0.2200 - accuracy: 0.9188 - val_loss: 0.2128 - val_accuracy: 0.9190\n",
            "Epoch 7/20\n",
            "55000/55000 [==============================] - 11s 205us/sample - loss: 0.2056 - accuracy: 0.9230 - val_loss: 0.2086 - val_accuracy: 0.9246\n",
            "Epoch 8/20\n",
            "55000/55000 [==============================] - 11s 205us/sample - loss: 0.1930 - accuracy: 0.9286 - val_loss: 0.1958 - val_accuracy: 0.9268\n",
            "Epoch 9/20\n",
            "55000/55000 [==============================] - 11s 205us/sample - loss: 0.1814 - accuracy: 0.9322 - val_loss: 0.1949 - val_accuracy: 0.9282\n",
            "Epoch 10/20\n",
            "55000/55000 [==============================] - 11s 205us/sample - loss: 0.1687 - accuracy: 0.9357 - val_loss: 0.1888 - val_accuracy: 0.9288\n",
            "Epoch 11/20\n",
            "55000/55000 [==============================] - 11s 204us/sample - loss: 0.1622 - accuracy: 0.9379 - val_loss: 0.1861 - val_accuracy: 0.9332\n",
            "Epoch 12/20\n",
            "55000/55000 [==============================] - 11s 205us/sample - loss: 0.1537 - accuracy: 0.9424 - val_loss: 0.2001 - val_accuracy: 0.9252\n",
            "Epoch 13/20\n",
            "55000/55000 [==============================] - 11s 205us/sample - loss: 0.1460 - accuracy: 0.9452 - val_loss: 0.1980 - val_accuracy: 0.9246\n",
            "Epoch 14/20\n",
            "55000/55000 [==============================] - 11s 205us/sample - loss: 0.1411 - accuracy: 0.9460 - val_loss: 0.1902 - val_accuracy: 0.9294\n",
            "Epoch 15/20\n",
            "55000/55000 [==============================] - 11s 204us/sample - loss: 0.1346 - accuracy: 0.9494 - val_loss: 0.1947 - val_accuracy: 0.9300\n",
            "Epoch 16/20\n",
            "55000/55000 [==============================] - 11s 204us/sample - loss: 0.1291 - accuracy: 0.9510 - val_loss: 0.1978 - val_accuracy: 0.9314\n",
            "Epoch 17/20\n",
            "55000/55000 [==============================] - 11s 205us/sample - loss: 0.1240 - accuracy: 0.9537 - val_loss: 0.1994 - val_accuracy: 0.9308\n",
            "Epoch 18/20\n",
            "55000/55000 [==============================] - 11s 205us/sample - loss: 0.1192 - accuracy: 0.9544 - val_loss: 0.1991 - val_accuracy: 0.9310\n",
            "Epoch 19/20\n",
            "55000/55000 [==============================] - 11s 205us/sample - loss: 0.1145 - accuracy: 0.9559 - val_loss: 0.2069 - val_accuracy: 0.9318\n",
            "Epoch 20/20\n",
            "55000/55000 [==============================] - 11s 205us/sample - loss: 0.1107 - accuracy: 0.9577 - val_loss: 0.1945 - val_accuracy: 0.9342\n"
          ],
          "name": "stdout"
        }
      ]
    },
    {
      "cell_type": "code",
      "metadata": {
        "colab_type": "code",
        "outputId": "4a202e0d-263a-4bb3-94f5-1bd1abd21fd6",
        "id": "XhASxP9B5R2T",
        "colab": {
          "base_uri": "https://localhost:8080/",
          "height": 0
        }
      },
      "source": [
        "# Get the training time\n",
        "train_time = train_rt.process_time\n",
        "train_time # in seconds"
      ],
      "execution_count": 76,
      "outputs": [
        {
          "output_type": "execute_result",
          "data": {
            "text/plain": [
              "226.995776"
            ]
          },
          "metadata": {
            "tags": []
          },
          "execution_count": 76
        }
      ]
    },
    {
      "cell_type": "markdown",
      "metadata": {
        "colab_type": "text",
        "id": "sHbqU92V5R2Z"
      },
      "source": [
        "## Test the model"
      ]
    },
    {
      "cell_type": "code",
      "metadata": {
        "colab_type": "code",
        "outputId": "36d1fa83-8701-44f2-c2c4-925de709596f",
        "id": "0edEwgrH5R2a",
        "colab": {
          "base_uri": "https://localhost:8080/",
          "height": 0
        }
      },
      "source": [
        "test_rt = TestRuntimeCallback()\n",
        "test_loss, test_acc = model.evaluate(test_images, test_labels, callbacks=[test_rt])\n",
        "test_loss, test_acc"
      ],
      "execution_count": 77,
      "outputs": [
        {
          "output_type": "execute_result",
          "data": {
            "text/plain": [
              "(0.2432280492171645, 0.9265)"
            ]
          },
          "metadata": {
            "tags": []
          },
          "execution_count": 77
        }
      ]
    },
    {
      "cell_type": "code",
      "metadata": {
        "colab_type": "code",
        "outputId": "92ffc2c5-a60c-44c9-fb4a-5faebd9a8941",
        "id": "kgS21yaQ5R2e",
        "colab": {
          "base_uri": "https://localhost:8080/",
          "height": 0
        }
      },
      "source": [
        "test_time = test_rt.process_time\n",
        "test_time # in seconds"
      ],
      "execution_count": 78,
      "outputs": [
        {
          "output_type": "execute_result",
          "data": {
            "text/plain": [
              "0.667235"
            ]
          },
          "metadata": {
            "tags": []
          },
          "execution_count": 78
        }
      ]
    },
    {
      "cell_type": "markdown",
      "metadata": {
        "colab_type": "text",
        "id": "H3xueTAZ5R2l"
      },
      "source": [
        "##Add training and test statistics to results dataframe"
      ]
    },
    {
      "cell_type": "code",
      "metadata": {
        "colab_type": "code",
        "outputId": "548607d3-23f2-4962-cdf6-b71e3b98292b",
        "id": "q_UimrbW5R2l",
        "colab": {
          "base_uri": "https://localhost:8080/",
          "height": 0
        }
      },
      "source": [
        "history_dict = history.history\n",
        "history_df=pd.DataFrame(history_dict)\n",
        "history_df.tail()"
      ],
      "execution_count": 79,
      "outputs": [
        {
          "output_type": "execute_result",
          "data": {
            "text/html": [
              "<div>\n",
              "<style scoped>\n",
              "    .dataframe tbody tr th:only-of-type {\n",
              "        vertical-align: middle;\n",
              "    }\n",
              "\n",
              "    .dataframe tbody tr th {\n",
              "        vertical-align: top;\n",
              "    }\n",
              "\n",
              "    .dataframe thead th {\n",
              "        text-align: right;\n",
              "    }\n",
              "</style>\n",
              "<table border=\"1\" class=\"dataframe\">\n",
              "  <thead>\n",
              "    <tr style=\"text-align: right;\">\n",
              "      <th></th>\n",
              "      <th>loss</th>\n",
              "      <th>accuracy</th>\n",
              "      <th>val_loss</th>\n",
              "      <th>val_accuracy</th>\n",
              "    </tr>\n",
              "  </thead>\n",
              "  <tbody>\n",
              "    <tr>\n",
              "      <th>15</th>\n",
              "      <td>0.129122</td>\n",
              "      <td>0.951036</td>\n",
              "      <td>0.197779</td>\n",
              "      <td>0.9314</td>\n",
              "    </tr>\n",
              "    <tr>\n",
              "      <th>16</th>\n",
              "      <td>0.124039</td>\n",
              "      <td>0.953727</td>\n",
              "      <td>0.199424</td>\n",
              "      <td>0.9308</td>\n",
              "    </tr>\n",
              "    <tr>\n",
              "      <th>17</th>\n",
              "      <td>0.119188</td>\n",
              "      <td>0.954400</td>\n",
              "      <td>0.199098</td>\n",
              "      <td>0.9310</td>\n",
              "    </tr>\n",
              "    <tr>\n",
              "      <th>18</th>\n",
              "      <td>0.114459</td>\n",
              "      <td>0.955891</td>\n",
              "      <td>0.206939</td>\n",
              "      <td>0.9318</td>\n",
              "    </tr>\n",
              "    <tr>\n",
              "      <th>19</th>\n",
              "      <td>0.110739</td>\n",
              "      <td>0.957727</td>\n",
              "      <td>0.194529</td>\n",
              "      <td>0.9342</td>\n",
              "    </tr>\n",
              "  </tbody>\n",
              "</table>\n",
              "</div>"
            ],
            "text/plain": [
              "        loss  accuracy  val_loss  val_accuracy\n",
              "15  0.129122  0.951036  0.197779        0.9314\n",
              "16  0.124039  0.953727  0.199424        0.9308\n",
              "17  0.119188  0.954400  0.199098        0.9310\n",
              "18  0.114459  0.955891  0.206939        0.9318\n",
              "19  0.110739  0.957727  0.194529        0.9342"
            ]
          },
          "metadata": {
            "tags": []
          },
          "execution_count": 79
        }
      ]
    },
    {
      "cell_type": "code",
      "metadata": {
        "colab_type": "code",
        "outputId": "acc24d50-faf2-4cc5-e1ed-0e772a5b80a2",
        "id": "VXjH5gdN5R2s",
        "colab": {
          "base_uri": "https://localhost:8080/",
          "height": 0
        }
      },
      "source": [
        "results_dfnew = history_df.iloc[-1:].copy()\n",
        "results_dfnew.insert(0,'model','CNN (4 layers), 64-64pool-128-128pool') # want the model name to appear first\n",
        "results_dfnew['test_loss'] = test_loss #incorporate test results\n",
        "results_dfnew['test_accuracy'] = test_acc\n",
        "results_dfnew['training time (sec)'] = train_time     \n",
        "results_dfnew['testing time (sec)'] = test_time      # testing time appears last\n",
        "results_dfnew"
      ],
      "execution_count": 80,
      "outputs": [
        {
          "output_type": "execute_result",
          "data": {
            "text/html": [
              "<div>\n",
              "<style scoped>\n",
              "    .dataframe tbody tr th:only-of-type {\n",
              "        vertical-align: middle;\n",
              "    }\n",
              "\n",
              "    .dataframe tbody tr th {\n",
              "        vertical-align: top;\n",
              "    }\n",
              "\n",
              "    .dataframe thead th {\n",
              "        text-align: right;\n",
              "    }\n",
              "</style>\n",
              "<table border=\"1\" class=\"dataframe\">\n",
              "  <thead>\n",
              "    <tr style=\"text-align: right;\">\n",
              "      <th></th>\n",
              "      <th>model</th>\n",
              "      <th>loss</th>\n",
              "      <th>accuracy</th>\n",
              "      <th>val_loss</th>\n",
              "      <th>val_accuracy</th>\n",
              "      <th>test_loss</th>\n",
              "      <th>test_accuracy</th>\n",
              "      <th>training time (sec)</th>\n",
              "      <th>testing time (sec)</th>\n",
              "    </tr>\n",
              "  </thead>\n",
              "  <tbody>\n",
              "    <tr>\n",
              "      <th>19</th>\n",
              "      <td>CNN (4 layers), 64-64pool-128-128pool</td>\n",
              "      <td>0.110739</td>\n",
              "      <td>0.957727</td>\n",
              "      <td>0.194529</td>\n",
              "      <td>0.9342</td>\n",
              "      <td>0.243228</td>\n",
              "      <td>0.9265</td>\n",
              "      <td>226.995776</td>\n",
              "      <td>0.667235</td>\n",
              "    </tr>\n",
              "  </tbody>\n",
              "</table>\n",
              "</div>"
            ],
            "text/plain": [
              "                                    model  ...  testing time (sec)\n",
              "19  CNN (4 layers), 64-64pool-128-128pool  ...            0.667235\n",
              "\n",
              "[1 rows x 9 columns]"
            ]
          },
          "metadata": {
            "tags": []
          },
          "execution_count": 80
        }
      ]
    },
    {
      "cell_type": "code",
      "metadata": {
        "colab_type": "code",
        "outputId": "2d8cc0ed-35b4-4fb7-b55a-8d2dbb662aff",
        "id": "35Mrtlj95R2w",
        "colab": {
          "base_uri": "https://localhost:8080/",
          "height": 0
        }
      },
      "source": [
        "results_df=results_df.append(results_dfnew,ignore_index=True)\n",
        "results_df"
      ],
      "execution_count": 81,
      "outputs": [
        {
          "output_type": "execute_result",
          "data": {
            "text/html": [
              "<div>\n",
              "<style scoped>\n",
              "    .dataframe tbody tr th:only-of-type {\n",
              "        vertical-align: middle;\n",
              "    }\n",
              "\n",
              "    .dataframe tbody tr th {\n",
              "        vertical-align: top;\n",
              "    }\n",
              "\n",
              "    .dataframe thead th {\n",
              "        text-align: right;\n",
              "    }\n",
              "</style>\n",
              "<table border=\"1\" class=\"dataframe\">\n",
              "  <thead>\n",
              "    <tr style=\"text-align: right;\">\n",
              "      <th></th>\n",
              "      <th>model</th>\n",
              "      <th>loss</th>\n",
              "      <th>accuracy</th>\n",
              "      <th>val_loss</th>\n",
              "      <th>val_accuracy</th>\n",
              "      <th>test_loss</th>\n",
              "      <th>test_accuracy</th>\n",
              "      <th>training time (sec)</th>\n",
              "      <th>testing time (sec)</th>\n",
              "    </tr>\n",
              "  </thead>\n",
              "  <tbody>\n",
              "    <tr>\n",
              "      <th>0</th>\n",
              "      <td>CNN (2 layers), baseline 32pool64pool</td>\n",
              "      <td>0.148440</td>\n",
              "      <td>0.942564</td>\n",
              "      <td>0.229695</td>\n",
              "      <td>0.9206</td>\n",
              "      <td>0.240504</td>\n",
              "      <td>0.9187</td>\n",
              "      <td>68.169618</td>\n",
              "      <td>0.486633</td>\n",
              "    </tr>\n",
              "    <tr>\n",
              "      <th>1</th>\n",
              "      <td>CNN (2 layers), 64pool32pool</td>\n",
              "      <td>0.165884</td>\n",
              "      <td>0.936509</td>\n",
              "      <td>0.212797</td>\n",
              "      <td>0.9248</td>\n",
              "      <td>0.237632</td>\n",
              "      <td>0.9165</td>\n",
              "      <td>71.097494</td>\n",
              "      <td>0.501577</td>\n",
              "    </tr>\n",
              "    <tr>\n",
              "      <th>2</th>\n",
              "      <td>CNN (2 layers), 32-64-pool, 5x5, 3x3</td>\n",
              "      <td>0.056374</td>\n",
              "      <td>0.978818</td>\n",
              "      <td>0.288349</td>\n",
              "      <td>0.9252</td>\n",
              "      <td>0.309188</td>\n",
              "      <td>0.9230</td>\n",
              "      <td>113.877381</td>\n",
              "      <td>0.559199</td>\n",
              "    </tr>\n",
              "    <tr>\n",
              "      <th>3</th>\n",
              "      <td>CNN (4 layers), 32-32pool-64-64pool</td>\n",
              "      <td>0.149929</td>\n",
              "      <td>0.943709</td>\n",
              "      <td>0.213560</td>\n",
              "      <td>0.9236</td>\n",
              "      <td>0.234258</td>\n",
              "      <td>0.9245</td>\n",
              "      <td>128.761204</td>\n",
              "      <td>0.582940</td>\n",
              "    </tr>\n",
              "    <tr>\n",
              "      <th>4</th>\n",
              "      <td>CNN (2 layers), 64pool128pool</td>\n",
              "      <td>0.095781</td>\n",
              "      <td>0.962927</td>\n",
              "      <td>0.242315</td>\n",
              "      <td>0.9218</td>\n",
              "      <td>0.268553</td>\n",
              "      <td>0.9209</td>\n",
              "      <td>85.164486</td>\n",
              "      <td>0.565040</td>\n",
              "    </tr>\n",
              "    <tr>\n",
              "      <th>5</th>\n",
              "      <td>CNN (4 layers), 64-64pool-128-128pool</td>\n",
              "      <td>0.110739</td>\n",
              "      <td>0.957727</td>\n",
              "      <td>0.194529</td>\n",
              "      <td>0.9342</td>\n",
              "      <td>0.243228</td>\n",
              "      <td>0.9265</td>\n",
              "      <td>226.995776</td>\n",
              "      <td>0.667235</td>\n",
              "    </tr>\n",
              "  </tbody>\n",
              "</table>\n",
              "</div>"
            ],
            "text/plain": [
              "                                   model  ...  testing time (sec)\n",
              "0  CNN (2 layers), baseline 32pool64pool  ...            0.486633\n",
              "1           CNN (2 layers), 64pool32pool  ...            0.501577\n",
              "2   CNN (2 layers), 32-64-pool, 5x5, 3x3  ...            0.559199\n",
              "3    CNN (4 layers), 32-32pool-64-64pool  ...            0.582940\n",
              "4          CNN (2 layers), 64pool128pool  ...            0.565040\n",
              "5  CNN (4 layers), 64-64pool-128-128pool  ...            0.667235\n",
              "\n",
              "[6 rows x 9 columns]"
            ]
          },
          "metadata": {
            "tags": []
          },
          "execution_count": 81
        }
      ]
    },
    {
      "cell_type": "markdown",
      "metadata": {
        "colab_type": "text",
        "id": "GIcm7hDt7rrB"
      },
      "source": [
        "## Plotting the performance "
      ]
    },
    {
      "cell_type": "code",
      "metadata": {
        "colab_type": "code",
        "outputId": "a8022bf9-6285-4a33-d350-cc3ed6c07e01",
        "id": "WD85UJLd7rrE",
        "colab": {
          "base_uri": "https://localhost:8080/",
          "height": 0
        }
      },
      "source": [
        "import matplotlib.pyplot as plt\n",
        "\n",
        "acc = history.history['accuracy']\n",
        "val_acc = history.history['val_accuracy']\n",
        "loss = history.history['loss']\n",
        "val_loss = history.history['val_loss']\n",
        "\n",
        "epochs = range(1, len(acc) + 1)\n",
        "\n",
        "# \"bo\" is for \"blue dot\"\n",
        "plt.plot(epochs, loss, 'bo', label='Training loss')\n",
        "# b is for \"solid blue line\"\n",
        "plt.plot(epochs, val_loss, 'b', label='Validation loss')\n",
        "plt.title('Training and validation loss')\n",
        "\n",
        "plt.xlabel('Epochs')\n",
        "plt.ylabel('Loss')\n",
        "plt.legend()\n",
        "\n",
        "plt.show()"
      ],
      "execution_count": 82,
      "outputs": [
        {
          "output_type": "display_data",
          "data": {
            "image/png": "[encoded data removed]",
            "text/plain": [
              "<Figure size 432x288 with 1 Axes>"
            ]
          },
          "metadata": {
            "tags": [],
            "needs_background": "light"
          }
        }
      ]
    },
    {
      "cell_type": "code",
      "metadata": {
        "colab_type": "code",
        "outputId": "b688dd14-db97-44a8-c4d4-c5f5f9b20162",
        "id": "0F5IqKgt7rrR",
        "colab": {
          "base_uri": "https://localhost:8080/",
          "height": 0
        }
      },
      "source": [
        "plt.clf()   # clear figure\n",
        "acc_values = history_dict['accuracy']\n",
        "# val_acc_values = history_dict['val_acc']\n",
        "\n",
        "plt.plot(epochs, acc, 'bo', label='Training acc')\n",
        "plt.plot(epochs, val_acc, 'b', label='Validation acc')\n",
        "plt.title('Training and validation accuracy')\n",
        "\n",
        "plt.xlabel('Epochs')\n",
        "plt.ylabel('Accuracy')\n",
        "plt.legend()\n",
        "\n",
        "plt.show()"
      ],
      "execution_count": 83,
      "outputs": [
        {
          "output_type": "display_data",
          "data": {
            "image/png": "[encoded data removed]",
            "text/plain": [
              "<Figure size 432x288 with 1 Axes>"
            ]
          },
          "metadata": {
            "tags": [],
            "needs_background": "light"
          }
        }
      ]
    },
    {
      "cell_type": "markdown",
      "metadata": {
        "colab_type": "text",
        "id": "KAVwl1Y57F3o"
      },
      "source": [
        "#Experiment 11\n",
        "6 layer CNN: 64, 64, pool, 32, 32, pool\n"
      ]
    },
    {
      "cell_type": "markdown",
      "metadata": {
        "colab_type": "text",
        "id": "Ows7li0g7F3s"
      },
      "source": [
        "##Build and compile the model"
      ]
    },
    {
      "cell_type": "code",
      "metadata": {
        "colab_type": "code",
        "id": "dOvZV-j57F3v",
        "colab": {}
      },
      "source": [
        "model = models.Sequential()\n",
        "\n",
        "model.add(layers.Conv2D(64, (3, 3), activation='relu'))\n",
        "model.add(layers.Dropout(0.2))\n",
        "\n",
        "model.add(layers.Conv2D(64, (3, 3), activation='relu'))\n",
        "model.add(layers.MaxPooling2D((2, 2)))\n",
        "model.add(layers.Dropout(0.2))\n",
        "\n",
        "model.add(layers.Conv2D(32, (3, 3), activation='relu', input_shape=(28, 28, 1)))\n",
        "model.add(layers.Dropout(0.2))\n",
        "\n",
        "model.add(layers.Conv2D(32, (3, 3), activation='relu', input_shape=(28, 28, 1)))\n",
        "model.add(layers.MaxPooling2D((2, 2)))\n",
        "model.add(layers.Dropout(0.2))\n",
        "\n",
        "model.add(layers.Flatten())\n",
        "model.add(layers.Dense(256, activation='relu'))\n",
        "model.add(layers.Dropout(0.2))\n",
        "\n",
        "model.add(layers.Dense(10, activation='softmax'))\n",
        "\n",
        "model.compile(optimizer ='adam',\n",
        "              loss='sparse_categorical_crossentropy',\n",
        "              metrics=['accuracy'])"
      ],
      "execution_count": 0,
      "outputs": []
    },
    {
      "cell_type": "code",
      "metadata": {
        "colab_type": "code",
        "id": "8I5J417y7F37",
        "colab": {}
      },
      "source": [
        "# keras.utils.plot_model(model, show_shapes=True)"
      ],
      "execution_count": 0,
      "outputs": []
    },
    {
      "cell_type": "markdown",
      "metadata": {
        "colab_type": "text",
        "id": "4braMmc_7F4D"
      },
      "source": [
        "##Train the model"
      ]
    },
    {
      "cell_type": "code",
      "metadata": {
        "colab_type": "code",
        "outputId": "45c21522-e18b-4134-c52c-d057c3d249b2",
        "id": "36Xtv5ZM7F4E",
        "colab": {
          "base_uri": "https://localhost:8080/",
          "height": 0
        }
      },
      "source": [
        "train_rt = TrainRuntimeCallback()\n",
        "history = model.fit(train_images, train_labels, callbacks=[train_rt], epochs=20,  batch_size = 100,\n",
        "                    validation_data=(val_images, val_labels))"
      ],
      "execution_count": 86,
      "outputs": [
        {
          "output_type": "stream",
          "text": [
            "Train on 55000 samples, validate on 5000 samples\n",
            "Epoch 1/20\n",
            "55000/55000 [==============================] - 10s 184us/sample - loss: 0.6542 - accuracy: 0.7542 - val_loss: 0.3755 - val_accuracy: 0.8664\n",
            "Epoch 2/20\n",
            "55000/55000 [==============================] - 10s 178us/sample - loss: 0.4064 - accuracy: 0.8490 - val_loss: 0.3159 - val_accuracy: 0.8834\n",
            "Epoch 3/20\n",
            "55000/55000 [==============================] - 10s 178us/sample - loss: 0.3435 - accuracy: 0.8724 - val_loss: 0.2760 - val_accuracy: 0.8972\n",
            "Epoch 4/20\n",
            "55000/55000 [==============================] - 10s 178us/sample - loss: 0.3150 - accuracy: 0.8829 - val_loss: 0.2610 - val_accuracy: 0.9002\n",
            "Epoch 5/20\n",
            "55000/55000 [==============================] - 10s 178us/sample - loss: 0.2935 - accuracy: 0.8931 - val_loss: 0.2450 - val_accuracy: 0.9094\n",
            "Epoch 6/20\n",
            "55000/55000 [==============================] - 10s 179us/sample - loss: 0.2776 - accuracy: 0.8965 - val_loss: 0.2373 - val_accuracy: 0.9098\n",
            "Epoch 7/20\n",
            "55000/55000 [==============================] - 10s 179us/sample - loss: 0.2662 - accuracy: 0.9012 - val_loss: 0.2333 - val_accuracy: 0.9118\n",
            "Epoch 8/20\n",
            "55000/55000 [==============================] - 10s 178us/sample - loss: 0.2566 - accuracy: 0.9045 - val_loss: 0.2236 - val_accuracy: 0.9140\n",
            "Epoch 9/20\n",
            "55000/55000 [==============================] - 10s 178us/sample - loss: 0.2447 - accuracy: 0.9093 - val_loss: 0.2207 - val_accuracy: 0.9130\n",
            "Epoch 10/20\n",
            "55000/55000 [==============================] - 10s 178us/sample - loss: 0.2382 - accuracy: 0.9111 - val_loss: 0.2138 - val_accuracy: 0.9194\n",
            "Epoch 11/20\n",
            "55000/55000 [==============================] - 10s 179us/sample - loss: 0.2315 - accuracy: 0.9141 - val_loss: 0.2182 - val_accuracy: 0.9170\n",
            "Epoch 12/20\n",
            "55000/55000 [==============================] - 10s 178us/sample - loss: 0.2257 - accuracy: 0.9155 - val_loss: 0.2073 - val_accuracy: 0.9188\n",
            "Epoch 13/20\n",
            "55000/55000 [==============================] - 10s 178us/sample - loss: 0.2183 - accuracy: 0.9180 - val_loss: 0.2164 - val_accuracy: 0.9190\n",
            "Epoch 14/20\n",
            "55000/55000 [==============================] - 10s 178us/sample - loss: 0.2146 - accuracy: 0.9209 - val_loss: 0.2010 - val_accuracy: 0.9236\n",
            "Epoch 15/20\n",
            "55000/55000 [==============================] - 10s 178us/sample - loss: 0.2078 - accuracy: 0.9221 - val_loss: 0.2063 - val_accuracy: 0.9210\n",
            "Epoch 16/20\n",
            "55000/55000 [==============================] - 10s 178us/sample - loss: 0.2055 - accuracy: 0.9223 - val_loss: 0.2009 - val_accuracy: 0.9222\n",
            "Epoch 17/20\n",
            "55000/55000 [==============================] - 10s 178us/sample - loss: 0.2024 - accuracy: 0.9245 - val_loss: 0.1967 - val_accuracy: 0.9262\n",
            "Epoch 18/20\n",
            "55000/55000 [==============================] - 10s 177us/sample - loss: 0.1959 - accuracy: 0.9275 - val_loss: 0.2052 - val_accuracy: 0.9188\n",
            "Epoch 19/20\n",
            "55000/55000 [==============================] - 10s 178us/sample - loss: 0.1953 - accuracy: 0.9265 - val_loss: 0.1993 - val_accuracy: 0.9238\n",
            "Epoch 20/20\n",
            "55000/55000 [==============================] - 10s 178us/sample - loss: 0.1907 - accuracy: 0.9275 - val_loss: 0.1966 - val_accuracy: 0.9240\n"
          ],
          "name": "stdout"
        }
      ]
    },
    {
      "cell_type": "code",
      "metadata": {
        "colab_type": "code",
        "id": "f2SzUTBc7F4M",
        "outputId": "fd198f3d-a062-4da8-e626-067b1a662239",
        "colab": {
          "base_uri": "https://localhost:8080/",
          "height": 0
        }
      },
      "source": [
        "# Get the training time\n",
        "train_time = train_rt.process_time\n",
        "train_time # in seconds"
      ],
      "execution_count": 87,
      "outputs": [
        {
          "output_type": "execute_result",
          "data": {
            "text/plain": [
              "197.533521"
            ]
          },
          "metadata": {
            "tags": []
          },
          "execution_count": 87
        }
      ]
    },
    {
      "cell_type": "markdown",
      "metadata": {
        "colab_type": "text",
        "id": "42O86aKO7F4S"
      },
      "source": [
        "## Test the model"
      ]
    },
    {
      "cell_type": "code",
      "metadata": {
        "colab_type": "code",
        "id": "41P55HtN7F4S",
        "outputId": "b28bf9af-e263-40f1-83da-862ffc7b6dc1",
        "colab": {
          "base_uri": "https://localhost:8080/",
          "height": 0
        }
      },
      "source": [
        "test_rt = TestRuntimeCallback()\n",
        "test_loss, test_acc = model.evaluate(test_images, test_labels, callbacks=[test_rt])\n",
        "test_loss, test_acc"
      ],
      "execution_count": 88,
      "outputs": [
        {
          "output_type": "execute_result",
          "data": {
            "text/plain": [
              "(0.22332618759274483, 0.9191)"
            ]
          },
          "metadata": {
            "tags": []
          },
          "execution_count": 88
        }
      ]
    },
    {
      "cell_type": "code",
      "metadata": {
        "colab_type": "code",
        "id": "6ePqXc3V7F4Y",
        "outputId": "b0e0ca62-e31b-445b-f69b-77d8dd5b0502",
        "colab": {
          "base_uri": "https://localhost:8080/",
          "height": 0
        }
      },
      "source": [
        "test_time = test_rt.process_time\n",
        "test_time # in seconds"
      ],
      "execution_count": 89,
      "outputs": [
        {
          "output_type": "execute_result",
          "data": {
            "text/plain": [
              "0.621062"
            ]
          },
          "metadata": {
            "tags": []
          },
          "execution_count": 89
        }
      ]
    },
    {
      "cell_type": "markdown",
      "metadata": {
        "colab_type": "text",
        "id": "iyfOIpkR7F4d"
      },
      "source": [
        "##Add training and test statistics to results dataframe"
      ]
    },
    {
      "cell_type": "code",
      "metadata": {
        "colab_type": "code",
        "id": "reb3TdZC7F4e",
        "outputId": "d8346692-9aae-4c68-8b45-52c150eb961a",
        "colab": {
          "base_uri": "https://localhost:8080/",
          "height": 0
        }
      },
      "source": [
        "history_dict = history.history\n",
        "history_df=pd.DataFrame(history_dict)\n",
        "history_df.tail()"
      ],
      "execution_count": 90,
      "outputs": [
        {
          "output_type": "execute_result",
          "data": {
            "text/html": [
              "<div>\n",
              "<style scoped>\n",
              "    .dataframe tbody tr th:only-of-type {\n",
              "        vertical-align: middle;\n",
              "    }\n",
              "\n",
              "    .dataframe tbody tr th {\n",
              "        vertical-align: top;\n",
              "    }\n",
              "\n",
              "    .dataframe thead th {\n",
              "        text-align: right;\n",
              "    }\n",
              "</style>\n",
              "<table border=\"1\" class=\"dataframe\">\n",
              "  <thead>\n",
              "    <tr style=\"text-align: right;\">\n",
              "      <th></th>\n",
              "      <th>loss</th>\n",
              "      <th>accuracy</th>\n",
              "      <th>val_loss</th>\n",
              "      <th>val_accuracy</th>\n",
              "    </tr>\n",
              "  </thead>\n",
              "  <tbody>\n",
              "    <tr>\n",
              "      <th>15</th>\n",
              "      <td>0.205545</td>\n",
              "      <td>0.922273</td>\n",
              "      <td>0.200881</td>\n",
              "      <td>0.9222</td>\n",
              "    </tr>\n",
              "    <tr>\n",
              "      <th>16</th>\n",
              "      <td>0.202409</td>\n",
              "      <td>0.924491</td>\n",
              "      <td>0.196699</td>\n",
              "      <td>0.9262</td>\n",
              "    </tr>\n",
              "    <tr>\n",
              "      <th>17</th>\n",
              "      <td>0.195863</td>\n",
              "      <td>0.927491</td>\n",
              "      <td>0.205175</td>\n",
              "      <td>0.9188</td>\n",
              "    </tr>\n",
              "    <tr>\n",
              "      <th>18</th>\n",
              "      <td>0.195326</td>\n",
              "      <td>0.926491</td>\n",
              "      <td>0.199331</td>\n",
              "      <td>0.9238</td>\n",
              "    </tr>\n",
              "    <tr>\n",
              "      <th>19</th>\n",
              "      <td>0.190692</td>\n",
              "      <td>0.927491</td>\n",
              "      <td>0.196606</td>\n",
              "      <td>0.9240</td>\n",
              "    </tr>\n",
              "  </tbody>\n",
              "</table>\n",
              "</div>"
            ],
            "text/plain": [
              "        loss  accuracy  val_loss  val_accuracy\n",
              "15  0.205545  0.922273  0.200881        0.9222\n",
              "16  0.202409  0.924491  0.196699        0.9262\n",
              "17  0.195863  0.927491  0.205175        0.9188\n",
              "18  0.195326  0.926491  0.199331        0.9238\n",
              "19  0.190692  0.927491  0.196606        0.9240"
            ]
          },
          "metadata": {
            "tags": []
          },
          "execution_count": 90
        }
      ]
    },
    {
      "cell_type": "code",
      "metadata": {
        "colab_type": "code",
        "outputId": "7c016fc7-4095-4641-dc28-3937d3a5cc1b",
        "id": "BgBL5Jqm7F4i",
        "colab": {
          "base_uri": "https://localhost:8080/",
          "height": 0
        }
      },
      "source": [
        "results_dfnew = history_df.iloc[-1:].copy()\n",
        "results_dfnew.insert(0,'model','CNN (4 layers), 64-64pool-32-32-pool') # want the model name to appear first\n",
        "results_dfnew['test_loss'] = test_loss #incorporate test results\n",
        "results_dfnew['test_accuracy'] = test_acc\n",
        "results_dfnew['training time (sec)'] = train_time     \n",
        "results_dfnew['testing time (sec)'] = test_time      # testing time appears last\n",
        "results_dfnew"
      ],
      "execution_count": 91,
      "outputs": [
        {
          "output_type": "execute_result",
          "data": {
            "text/html": [
              "<div>\n",
              "<style scoped>\n",
              "    .dataframe tbody tr th:only-of-type {\n",
              "        vertical-align: middle;\n",
              "    }\n",
              "\n",
              "    .dataframe tbody tr th {\n",
              "        vertical-align: top;\n",
              "    }\n",
              "\n",
              "    .dataframe thead th {\n",
              "        text-align: right;\n",
              "    }\n",
              "</style>\n",
              "<table border=\"1\" class=\"dataframe\">\n",
              "  <thead>\n",
              "    <tr style=\"text-align: right;\">\n",
              "      <th></th>\n",
              "      <th>model</th>\n",
              "      <th>loss</th>\n",
              "      <th>accuracy</th>\n",
              "      <th>val_loss</th>\n",
              "      <th>val_accuracy</th>\n",
              "      <th>test_loss</th>\n",
              "      <th>test_accuracy</th>\n",
              "      <th>training time (sec)</th>\n",
              "      <th>testing time (sec)</th>\n",
              "    </tr>\n",
              "  </thead>\n",
              "  <tbody>\n",
              "    <tr>\n",
              "      <th>19</th>\n",
              "      <td>CNN (4 layers), 64-64pool-32-32-pool</td>\n",
              "      <td>0.190692</td>\n",
              "      <td>0.927491</td>\n",
              "      <td>0.196606</td>\n",
              "      <td>0.924</td>\n",
              "      <td>0.223326</td>\n",
              "      <td>0.9191</td>\n",
              "      <td>197.533521</td>\n",
              "      <td>0.621062</td>\n",
              "    </tr>\n",
              "  </tbody>\n",
              "</table>\n",
              "</div>"
            ],
            "text/plain": [
              "                                   model  ...  testing time (sec)\n",
              "19  CNN (4 layers), 64-64pool-32-32-pool  ...            0.621062\n",
              "\n",
              "[1 rows x 9 columns]"
            ]
          },
          "metadata": {
            "tags": []
          },
          "execution_count": 91
        }
      ]
    },
    {
      "cell_type": "code",
      "metadata": {
        "colab_type": "code",
        "outputId": "a57b5d1d-6581-401b-fbb8-0fa32a4fdf8f",
        "id": "-PEUyUHp7F4n",
        "colab": {
          "base_uri": "https://localhost:8080/",
          "height": 0
        }
      },
      "source": [
        "results_df=results_df.append(results_dfnew,ignore_index=True)\n",
        "results_df"
      ],
      "execution_count": 92,
      "outputs": [
        {
          "output_type": "execute_result",
          "data": {
            "text/html": [
              "<div>\n",
              "<style scoped>\n",
              "    .dataframe tbody tr th:only-of-type {\n",
              "        vertical-align: middle;\n",
              "    }\n",
              "\n",
              "    .dataframe tbody tr th {\n",
              "        vertical-align: top;\n",
              "    }\n",
              "\n",
              "    .dataframe thead th {\n",
              "        text-align: right;\n",
              "    }\n",
              "</style>\n",
              "<table border=\"1\" class=\"dataframe\">\n",
              "  <thead>\n",
              "    <tr style=\"text-align: right;\">\n",
              "      <th></th>\n",
              "      <th>model</th>\n",
              "      <th>loss</th>\n",
              "      <th>accuracy</th>\n",
              "      <th>val_loss</th>\n",
              "      <th>val_accuracy</th>\n",
              "      <th>test_loss</th>\n",
              "      <th>test_accuracy</th>\n",
              "      <th>training time (sec)</th>\n",
              "      <th>testing time (sec)</th>\n",
              "    </tr>\n",
              "  </thead>\n",
              "  <tbody>\n",
              "    <tr>\n",
              "      <th>0</th>\n",
              "      <td>CNN (2 layers), baseline 32pool64pool</td>\n",
              "      <td>0.148440</td>\n",
              "      <td>0.942564</td>\n",
              "      <td>0.229695</td>\n",
              "      <td>0.9206</td>\n",
              "      <td>0.240504</td>\n",
              "      <td>0.9187</td>\n",
              "      <td>68.169618</td>\n",
              "      <td>0.486633</td>\n",
              "    </tr>\n",
              "    <tr>\n",
              "      <th>1</th>\n",
              "      <td>CNN (2 layers), 64pool32pool</td>\n",
              "      <td>0.165884</td>\n",
              "      <td>0.936509</td>\n",
              "      <td>0.212797</td>\n",
              "      <td>0.9248</td>\n",
              "      <td>0.237632</td>\n",
              "      <td>0.9165</td>\n",
              "      <td>71.097494</td>\n",
              "      <td>0.501577</td>\n",
              "    </tr>\n",
              "    <tr>\n",
              "      <th>2</th>\n",
              "      <td>CNN (2 layers), 32-64-pool, 5x5, 3x3</td>\n",
              "      <td>0.056374</td>\n",
              "      <td>0.978818</td>\n",
              "      <td>0.288349</td>\n",
              "      <td>0.9252</td>\n",
              "      <td>0.309188</td>\n",
              "      <td>0.9230</td>\n",
              "      <td>113.877381</td>\n",
              "      <td>0.559199</td>\n",
              "    </tr>\n",
              "    <tr>\n",
              "      <th>3</th>\n",
              "      <td>CNN (4 layers), 32-32pool-64-64pool</td>\n",
              "      <td>0.149929</td>\n",
              "      <td>0.943709</td>\n",
              "      <td>0.213560</td>\n",
              "      <td>0.9236</td>\n",
              "      <td>0.234258</td>\n",
              "      <td>0.9245</td>\n",
              "      <td>128.761204</td>\n",
              "      <td>0.582940</td>\n",
              "    </tr>\n",
              "    <tr>\n",
              "      <th>4</th>\n",
              "      <td>CNN (2 layers), 64pool128pool</td>\n",
              "      <td>0.095781</td>\n",
              "      <td>0.962927</td>\n",
              "      <td>0.242315</td>\n",
              "      <td>0.9218</td>\n",
              "      <td>0.268553</td>\n",
              "      <td>0.9209</td>\n",
              "      <td>85.164486</td>\n",
              "      <td>0.565040</td>\n",
              "    </tr>\n",
              "    <tr>\n",
              "      <th>5</th>\n",
              "      <td>CNN (4 layers), 64-64pool-128-128pool</td>\n",
              "      <td>0.110739</td>\n",
              "      <td>0.957727</td>\n",
              "      <td>0.194529</td>\n",
              "      <td>0.9342</td>\n",
              "      <td>0.243228</td>\n",
              "      <td>0.9265</td>\n",
              "      <td>226.995776</td>\n",
              "      <td>0.667235</td>\n",
              "    </tr>\n",
              "    <tr>\n",
              "      <th>6</th>\n",
              "      <td>CNN (4 layers), 64-64pool-32-32-pool</td>\n",
              "      <td>0.190692</td>\n",
              "      <td>0.927491</td>\n",
              "      <td>0.196606</td>\n",
              "      <td>0.9240</td>\n",
              "      <td>0.223326</td>\n",
              "      <td>0.9191</td>\n",
              "      <td>197.533521</td>\n",
              "      <td>0.621062</td>\n",
              "    </tr>\n",
              "  </tbody>\n",
              "</table>\n",
              "</div>"
            ],
            "text/plain": [
              "                                   model  ...  testing time (sec)\n",
              "0  CNN (2 layers), baseline 32pool64pool  ...            0.486633\n",
              "1           CNN (2 layers), 64pool32pool  ...            0.501577\n",
              "2   CNN (2 layers), 32-64-pool, 5x5, 3x3  ...            0.559199\n",
              "3    CNN (4 layers), 32-32pool-64-64pool  ...            0.582940\n",
              "4          CNN (2 layers), 64pool128pool  ...            0.565040\n",
              "5  CNN (4 layers), 64-64pool-128-128pool  ...            0.667235\n",
              "6   CNN (4 layers), 64-64pool-32-32-pool  ...            0.621062\n",
              "\n",
              "[7 rows x 9 columns]"
            ]
          },
          "metadata": {
            "tags": []
          },
          "execution_count": 92
        }
      ]
    },
    {
      "cell_type": "markdown",
      "metadata": {
        "colab_type": "text",
        "id": "X8dM3Gw79TG2"
      },
      "source": [
        "## Plotting the performance "
      ]
    },
    {
      "cell_type": "code",
      "metadata": {
        "colab_type": "code",
        "outputId": "78a4e3ba-9ea0-4e7b-ae73-16eb224d937a",
        "id": "FLzbaykO9TG5",
        "colab": {
          "base_uri": "https://localhost:8080/",
          "height": 0
        }
      },
      "source": [
        "import matplotlib.pyplot as plt\n",
        "\n",
        "acc = history.history['accuracy']\n",
        "val_acc = history.history['val_accuracy']\n",
        "loss = history.history['loss']\n",
        "val_loss = history.history['val_loss']\n",
        "\n",
        "epochs = range(1, len(acc) + 1)\n",
        "\n",
        "# \"bo\" is for \"blue dot\"\n",
        "plt.plot(epochs, loss, 'bo', label='Training loss')\n",
        "# b is for \"solid blue line\"\n",
        "plt.plot(epochs, val_loss, 'b', label='Validation loss')\n",
        "plt.title('Training and validation loss')\n",
        "\n",
        "plt.xlabel('Epochs')\n",
        "plt.ylabel('Loss')\n",
        "plt.legend()\n",
        "\n",
        "plt.show()"
      ],
      "execution_count": 93,
      "outputs": [
        {
          "output_type": "display_data",
          "data": {
            "image/png": "[encoded data removed]",
            "text/plain": [
              "<Figure size 432x288 with 1 Axes>"
            ]
          },
          "metadata": {
            "tags": [],
            "needs_background": "light"
          }
        }
      ]
    },
    {
      "cell_type": "code",
      "metadata": {
        "colab_type": "code",
        "outputId": "1437a958-0fb8-4455-de19-83b27f7253c4",
        "id": "aZSbloPt9THI",
        "colab": {
          "base_uri": "https://localhost:8080/",
          "height": 0
        }
      },
      "source": [
        "plt.clf()   # clear figure\n",
        "acc_values = history_dict['accuracy']\n",
        "# val_acc_values = history_dict['val_acc']\n",
        "\n",
        "plt.plot(epochs, acc, 'bo', label='Training acc')\n",
        "plt.plot(epochs, val_acc, 'b', label='Validation acc')\n",
        "plt.title('Training and validation accuracy')\n",
        "\n",
        "plt.xlabel('Epochs')\n",
        "plt.ylabel('Accuracy')\n",
        "plt.legend()\n",
        "\n",
        "plt.show()"
      ],
      "execution_count": 94,
      "outputs": [
        {
          "output_type": "display_data",
          "data": {
            "image/png": "[encoded data removed]",
            "text/plain": [
              "<Figure size 432x288 with 1 Axes>"
            ]
          },
          "metadata": {
            "tags": [],
            "needs_background": "light"
          }
        }
      ]
    },
    {
      "cell_type": "markdown",
      "metadata": {
        "colab_type": "text",
        "id": "vZ76NCRb9dJE"
      },
      "source": [
        "#Experiment 12 \n",
        "4 layer CNN: 128, 128, pool, 64, 64, pool\n"
      ]
    },
    {
      "cell_type": "markdown",
      "metadata": {
        "colab_type": "text",
        "id": "p_LQxJZL9dJI"
      },
      "source": [
        "##Build and compile the model"
      ]
    },
    {
      "cell_type": "code",
      "metadata": {
        "colab_type": "code",
        "id": "GLjxWPOb9dJL",
        "colab": {}
      },
      "source": [
        "model = models.Sequential()\n",
        "model.add(layers.Conv2D(128, (3, 3), activation='relu', input_shape=(28, 28, 1)))\n",
        "model.add(layers.Dropout(0.2))\n",
        "\n",
        "model.add(layers.Conv2D(128, (3, 3), activation='relu', input_shape=(28, 28, 1)))\n",
        "model.add(layers.MaxPooling2D((2, 2)))\n",
        "model.add(layers.Dropout(0.2))\n",
        "\n",
        "model.add(layers.Conv2D(64, (3, 3), activation='relu'))\n",
        "model.add(layers.Dropout(0.2))\n",
        "\n",
        "model.add(layers.Conv2D(64, (3, 3), activation='relu'))\n",
        "model.add(layers.MaxPooling2D((2, 2)))\n",
        "model.add(layers.Dropout(0.2))\n",
        "\n",
        "model.add(layers.Flatten())\n",
        "model.add(layers.Dense(256, activation='relu'))\n",
        "model.add(layers.Dropout(0.2))\n",
        "\n",
        "model.add(layers.Dense(10, activation='softmax'))\n",
        "\n",
        "model.compile(optimizer ='adam',\n",
        "              loss='sparse_categorical_crossentropy',\n",
        "              metrics=['accuracy'])"
      ],
      "execution_count": 0,
      "outputs": []
    },
    {
      "cell_type": "code",
      "metadata": {
        "colab_type": "code",
        "id": "-UNQfC3E9dJY",
        "colab": {}
      },
      "source": [
        "# keras.utils.plot_model(model, show_shapes=True)"
      ],
      "execution_count": 0,
      "outputs": []
    },
    {
      "cell_type": "markdown",
      "metadata": {
        "colab_type": "text",
        "id": "7y40Ks5s9dJg"
      },
      "source": [
        "##Train the model"
      ]
    },
    {
      "cell_type": "code",
      "metadata": {
        "colab_type": "code",
        "outputId": "0ba23c9f-d172-408e-eab1-e812e06c505e",
        "id": "I17oRl1z9dJi",
        "colab": {
          "base_uri": "https://localhost:8080/",
          "height": 749
        }
      },
      "source": [
        "train_rt = TrainRuntimeCallback()\n",
        "history = model.fit(train_images, train_labels, callbacks=[train_rt], epochs=20,  batch_size = 100,\n",
        "                    validation_data=(val_images, val_labels))"
      ],
      "execution_count": 97,
      "outputs": [
        {
          "output_type": "stream",
          "text": [
            "Train on 55000 samples, validate on 5000 samples\n",
            "Epoch 1/20\n",
            "55000/55000 [==============================] - 18s 334us/sample - loss: 0.5710 - accuracy: 0.7867 - val_loss: 0.3447 - val_accuracy: 0.8768\n",
            "Epoch 2/20\n",
            "55000/55000 [==============================] - 18s 328us/sample - loss: 0.3408 - accuracy: 0.8753 - val_loss: 0.2718 - val_accuracy: 0.8996\n",
            "Epoch 3/20\n",
            "55000/55000 [==============================] - 18s 327us/sample - loss: 0.2901 - accuracy: 0.8927 - val_loss: 0.2393 - val_accuracy: 0.9126\n",
            "Epoch 4/20\n",
            "55000/55000 [==============================] - 18s 327us/sample - loss: 0.2656 - accuracy: 0.9024 - val_loss: 0.2282 - val_accuracy: 0.9166\n",
            "Epoch 5/20\n",
            "55000/55000 [==============================] - 18s 327us/sample - loss: 0.2468 - accuracy: 0.9095 - val_loss: 0.2171 - val_accuracy: 0.9170\n",
            "Epoch 6/20\n",
            "55000/55000 [==============================] - 18s 327us/sample - loss: 0.2304 - accuracy: 0.9157 - val_loss: 0.2142 - val_accuracy: 0.9182\n",
            "Epoch 7/20\n",
            "55000/55000 [==============================] - 18s 327us/sample - loss: 0.2152 - accuracy: 0.9200 - val_loss: 0.2024 - val_accuracy: 0.9254\n",
            "Epoch 8/20\n",
            "55000/55000 [==============================] - 18s 327us/sample - loss: 0.2059 - accuracy: 0.9235 - val_loss: 0.1974 - val_accuracy: 0.9232\n",
            "Epoch 9/20\n",
            "55000/55000 [==============================] - 18s 327us/sample - loss: 0.1951 - accuracy: 0.9271 - val_loss: 0.1930 - val_accuracy: 0.9290\n",
            "Epoch 10/20\n",
            "55000/55000 [==============================] - 18s 327us/sample - loss: 0.1866 - accuracy: 0.9311 - val_loss: 0.1951 - val_accuracy: 0.9286\n",
            "Epoch 11/20\n",
            "55000/55000 [==============================] - 18s 327us/sample - loss: 0.1823 - accuracy: 0.9327 - val_loss: 0.1909 - val_accuracy: 0.9304\n",
            "Epoch 12/20\n",
            "55000/55000 [==============================] - 18s 329us/sample - loss: 0.1723 - accuracy: 0.9355 - val_loss: 0.1893 - val_accuracy: 0.9312\n",
            "Epoch 13/20\n",
            "55000/55000 [==============================] - 18s 327us/sample - loss: 0.1703 - accuracy: 0.9365 - val_loss: 0.1925 - val_accuracy: 0.9288\n",
            "Epoch 14/20\n",
            "55000/55000 [==============================] - 18s 326us/sample - loss: 0.1619 - accuracy: 0.9397 - val_loss: 0.1899 - val_accuracy: 0.9302\n",
            "Epoch 15/20\n",
            "55000/55000 [==============================] - 18s 327us/sample - loss: 0.1558 - accuracy: 0.9407 - val_loss: 0.1888 - val_accuracy: 0.9288\n",
            "Epoch 16/20\n",
            "55000/55000 [==============================] - 18s 326us/sample - loss: 0.1543 - accuracy: 0.9403 - val_loss: 0.1880 - val_accuracy: 0.9314\n",
            "Epoch 17/20\n",
            "55000/55000 [==============================] - 18s 327us/sample - loss: 0.1477 - accuracy: 0.9449 - val_loss: 0.1848 - val_accuracy: 0.9314\n",
            "Epoch 18/20\n",
            "55000/55000 [==============================] - 18s 326us/sample - loss: 0.1403 - accuracy: 0.9473 - val_loss: 0.1961 - val_accuracy: 0.9272\n",
            "Epoch 19/20\n",
            "55000/55000 [==============================] - 18s 327us/sample - loss: 0.1377 - accuracy: 0.9486 - val_loss: 0.2157 - val_accuracy: 0.9214\n",
            "Epoch 20/20\n",
            "55000/55000 [==============================] - 18s 327us/sample - loss: 0.1357 - accuracy: 0.9489 - val_loss: 0.1995 - val_accuracy: 0.9342\n"
          ],
          "name": "stdout"
        }
      ]
    },
    {
      "cell_type": "code",
      "metadata": {
        "colab_type": "code",
        "outputId": "c70dcb8d-59f2-4ede-e70f-2025245264ef",
        "id": "rR978a9h9dJo",
        "colab": {
          "base_uri": "https://localhost:8080/",
          "height": 34
        }
      },
      "source": [
        "# Get the training time\n",
        "train_time = train_rt.process_time\n",
        "train_time # in seconds"
      ],
      "execution_count": 98,
      "outputs": [
        {
          "output_type": "execute_result",
          "data": {
            "text/plain": [
              "361.905492"
            ]
          },
          "metadata": {
            "tags": []
          },
          "execution_count": 98
        }
      ]
    },
    {
      "cell_type": "markdown",
      "metadata": {
        "colab_type": "text",
        "id": "Ir5j2pbu9dJt"
      },
      "source": [
        "## Test the model"
      ]
    },
    {
      "cell_type": "code",
      "metadata": {
        "colab_type": "code",
        "outputId": "4819dd7e-1967-4228-abac-c82d6ff30f6f",
        "id": "ODmviiIc9dJu",
        "colab": {
          "base_uri": "https://localhost:8080/",
          "height": 0
        }
      },
      "source": [
        "test_rt = TestRuntimeCallback()\n",
        "test_loss, test_acc = model.evaluate(test_images, test_labels, callbacks=[test_rt])\n",
        "test_loss, test_acc"
      ],
      "execution_count": 99,
      "outputs": [
        {
          "output_type": "execute_result",
          "data": {
            "text/plain": [
              "(0.21988401926457882, 0.9291)"
            ]
          },
          "metadata": {
            "tags": []
          },
          "execution_count": 99
        }
      ]
    },
    {
      "cell_type": "code",
      "metadata": {
        "colab_type": "code",
        "outputId": "e2d6dd45-badc-4273-858e-93884cc86b1a",
        "id": "4UGMTktg9dJ1",
        "colab": {
          "base_uri": "https://localhost:8080/",
          "height": 0
        }
      },
      "source": [
        "test_time = test_rt.process_time\n",
        "test_time # in seconds"
      ],
      "execution_count": 100,
      "outputs": [
        {
          "output_type": "execute_result",
          "data": {
            "text/plain": [
              "0.780554"
            ]
          },
          "metadata": {
            "tags": []
          },
          "execution_count": 100
        }
      ]
    },
    {
      "cell_type": "markdown",
      "metadata": {
        "colab_type": "text",
        "id": "RrQfh2Nr9dJ7"
      },
      "source": [
        "##Add training and test statistics to results dataframe"
      ]
    },
    {
      "cell_type": "code",
      "metadata": {
        "colab_type": "code",
        "outputId": "d6a52878-c552-4bb6-ad5f-681c55061dd3",
        "id": "mjr5VQtA9dJ7",
        "colab": {
          "base_uri": "https://localhost:8080/",
          "height": 0
        }
      },
      "source": [
        "history_dict = history.history\n",
        "history_df=pd.DataFrame(history_dict)\n",
        "history_df.tail()"
      ],
      "execution_count": 101,
      "outputs": [
        {
          "output_type": "execute_result",
          "data": {
            "text/html": [
              "<div>\n",
              "<style scoped>\n",
              "    .dataframe tbody tr th:only-of-type {\n",
              "        vertical-align: middle;\n",
              "    }\n",
              "\n",
              "    .dataframe tbody tr th {\n",
              "        vertical-align: top;\n",
              "    }\n",
              "\n",
              "    .dataframe thead th {\n",
              "        text-align: right;\n",
              "    }\n",
              "</style>\n",
              "<table border=\"1\" class=\"dataframe\">\n",
              "  <thead>\n",
              "    <tr style=\"text-align: right;\">\n",
              "      <th></th>\n",
              "      <th>loss</th>\n",
              "      <th>accuracy</th>\n",
              "      <th>val_loss</th>\n",
              "      <th>val_accuracy</th>\n",
              "    </tr>\n",
              "  </thead>\n",
              "  <tbody>\n",
              "    <tr>\n",
              "      <th>15</th>\n",
              "      <td>0.154309</td>\n",
              "      <td>0.940345</td>\n",
              "      <td>0.188002</td>\n",
              "      <td>0.9314</td>\n",
              "    </tr>\n",
              "    <tr>\n",
              "      <th>16</th>\n",
              "      <td>0.147668</td>\n",
              "      <td>0.944927</td>\n",
              "      <td>0.184828</td>\n",
              "      <td>0.9314</td>\n",
              "    </tr>\n",
              "    <tr>\n",
              "      <th>17</th>\n",
              "      <td>0.140275</td>\n",
              "      <td>0.947291</td>\n",
              "      <td>0.196094</td>\n",
              "      <td>0.9272</td>\n",
              "    </tr>\n",
              "    <tr>\n",
              "      <th>18</th>\n",
              "      <td>0.137737</td>\n",
              "      <td>0.948636</td>\n",
              "      <td>0.215701</td>\n",
              "      <td>0.9214</td>\n",
              "    </tr>\n",
              "    <tr>\n",
              "      <th>19</th>\n",
              "      <td>0.135746</td>\n",
              "      <td>0.948909</td>\n",
              "      <td>0.199482</td>\n",
              "      <td>0.9342</td>\n",
              "    </tr>\n",
              "  </tbody>\n",
              "</table>\n",
              "</div>"
            ],
            "text/plain": [
              "        loss  accuracy  val_loss  val_accuracy\n",
              "15  0.154309  0.940345  0.188002        0.9314\n",
              "16  0.147668  0.944927  0.184828        0.9314\n",
              "17  0.140275  0.947291  0.196094        0.9272\n",
              "18  0.137737  0.948636  0.215701        0.9214\n",
              "19  0.135746  0.948909  0.199482        0.9342"
            ]
          },
          "metadata": {
            "tags": []
          },
          "execution_count": 101
        }
      ]
    },
    {
      "cell_type": "code",
      "metadata": {
        "colab_type": "code",
        "outputId": "2b02cd93-a341-41d5-d26b-cdbc9c114497",
        "id": "fzOslt4o9dJ_",
        "colab": {
          "base_uri": "https://localhost:8080/",
          "height": 0
        }
      },
      "source": [
        "results_dfnew = history_df.iloc[-1:].copy()\n",
        "results_dfnew.insert(0,'model','CNN (4 layers), 128-128pool-64-64pool') # want the model name to appear first\n",
        "results_dfnew['test_loss'] = test_loss #incorporate test results\n",
        "results_dfnew['test_accuracy'] = test_acc\n",
        "results_dfnew['training time (sec)'] = train_time     \n",
        "results_dfnew['testing time (sec)'] = test_time      # testing time appears last\n",
        "results_dfnew"
      ],
      "execution_count": 102,
      "outputs": [
        {
          "output_type": "execute_result",
          "data": {
            "text/html": [
              "<div>\n",
              "<style scoped>\n",
              "    .dataframe tbody tr th:only-of-type {\n",
              "        vertical-align: middle;\n",
              "    }\n",
              "\n",
              "    .dataframe tbody tr th {\n",
              "        vertical-align: top;\n",
              "    }\n",
              "\n",
              "    .dataframe thead th {\n",
              "        text-align: right;\n",
              "    }\n",
              "</style>\n",
              "<table border=\"1\" class=\"dataframe\">\n",
              "  <thead>\n",
              "    <tr style=\"text-align: right;\">\n",
              "      <th></th>\n",
              "      <th>model</th>\n",
              "      <th>loss</th>\n",
              "      <th>accuracy</th>\n",
              "      <th>val_loss</th>\n",
              "      <th>val_accuracy</th>\n",
              "      <th>test_loss</th>\n",
              "      <th>test_accuracy</th>\n",
              "      <th>training time (sec)</th>\n",
              "      <th>testing time (sec)</th>\n",
              "    </tr>\n",
              "  </thead>\n",
              "  <tbody>\n",
              "    <tr>\n",
              "      <th>19</th>\n",
              "      <td>CNN (4 layers), 128-128pool-64-64pool</td>\n",
              "      <td>0.135746</td>\n",
              "      <td>0.948909</td>\n",
              "      <td>0.199482</td>\n",
              "      <td>0.9342</td>\n",
              "      <td>0.219884</td>\n",
              "      <td>0.9291</td>\n",
              "      <td>361.905492</td>\n",
              "      <td>0.780554</td>\n",
              "    </tr>\n",
              "  </tbody>\n",
              "</table>\n",
              "</div>"
            ],
            "text/plain": [
              "                                    model  ...  testing time (sec)\n",
              "19  CNN (4 layers), 128-128pool-64-64pool  ...            0.780554\n",
              "\n",
              "[1 rows x 9 columns]"
            ]
          },
          "metadata": {
            "tags": []
          },
          "execution_count": 102
        }
      ]
    },
    {
      "cell_type": "code",
      "metadata": {
        "colab_type": "code",
        "outputId": "96fe8c6d-ad45-4d82-9225-a0469d2e02bd",
        "id": "OKPBLgPy9dKE",
        "colab": {
          "base_uri": "https://localhost:8080/",
          "height": 0
        }
      },
      "source": [
        "results_df=results_df.append(results_dfnew,ignore_index=True)\n",
        "results_df"
      ],
      "execution_count": 103,
      "outputs": [
        {
          "output_type": "execute_result",
          "data": {
            "text/html": [
              "<div>\n",
              "<style scoped>\n",
              "    .dataframe tbody tr th:only-of-type {\n",
              "        vertical-align: middle;\n",
              "    }\n",
              "\n",
              "    .dataframe tbody tr th {\n",
              "        vertical-align: top;\n",
              "    }\n",
              "\n",
              "    .dataframe thead th {\n",
              "        text-align: right;\n",
              "    }\n",
              "</style>\n",
              "<table border=\"1\" class=\"dataframe\">\n",
              "  <thead>\n",
              "    <tr style=\"text-align: right;\">\n",
              "      <th></th>\n",
              "      <th>model</th>\n",
              "      <th>loss</th>\n",
              "      <th>accuracy</th>\n",
              "      <th>val_loss</th>\n",
              "      <th>val_accuracy</th>\n",
              "      <th>test_loss</th>\n",
              "      <th>test_accuracy</th>\n",
              "      <th>training time (sec)</th>\n",
              "      <th>testing time (sec)</th>\n",
              "    </tr>\n",
              "  </thead>\n",
              "  <tbody>\n",
              "    <tr>\n",
              "      <th>0</th>\n",
              "      <td>CNN (2 layers), baseline 32pool64pool</td>\n",
              "      <td>0.148440</td>\n",
              "      <td>0.942564</td>\n",
              "      <td>0.229695</td>\n",
              "      <td>0.9206</td>\n",
              "      <td>0.240504</td>\n",
              "      <td>0.9187</td>\n",
              "      <td>68.169618</td>\n",
              "      <td>0.486633</td>\n",
              "    </tr>\n",
              "    <tr>\n",
              "      <th>1</th>\n",
              "      <td>CNN (2 layers), 64pool32pool</td>\n",
              "      <td>0.165884</td>\n",
              "      <td>0.936509</td>\n",
              "      <td>0.212797</td>\n",
              "      <td>0.9248</td>\n",
              "      <td>0.237632</td>\n",
              "      <td>0.9165</td>\n",
              "      <td>71.097494</td>\n",
              "      <td>0.501577</td>\n",
              "    </tr>\n",
              "    <tr>\n",
              "      <th>2</th>\n",
              "      <td>CNN (2 layers), 32-64-pool, 5x5, 3x3</td>\n",
              "      <td>0.056374</td>\n",
              "      <td>0.978818</td>\n",
              "      <td>0.288349</td>\n",
              "      <td>0.9252</td>\n",
              "      <td>0.309188</td>\n",
              "      <td>0.9230</td>\n",
              "      <td>113.877381</td>\n",
              "      <td>0.559199</td>\n",
              "    </tr>\n",
              "    <tr>\n",
              "      <th>3</th>\n",
              "      <td>CNN (4 layers), 32-32pool-64-64pool</td>\n",
              "      <td>0.149929</td>\n",
              "      <td>0.943709</td>\n",
              "      <td>0.213560</td>\n",
              "      <td>0.9236</td>\n",
              "      <td>0.234258</td>\n",
              "      <td>0.9245</td>\n",
              "      <td>128.761204</td>\n",
              "      <td>0.582940</td>\n",
              "    </tr>\n",
              "    <tr>\n",
              "      <th>4</th>\n",
              "      <td>CNN (2 layers), 64pool128pool</td>\n",
              "      <td>0.095781</td>\n",
              "      <td>0.962927</td>\n",
              "      <td>0.242315</td>\n",
              "      <td>0.9218</td>\n",
              "      <td>0.268553</td>\n",
              "      <td>0.9209</td>\n",
              "      <td>85.164486</td>\n",
              "      <td>0.565040</td>\n",
              "    </tr>\n",
              "    <tr>\n",
              "      <th>5</th>\n",
              "      <td>CNN (4 layers), 64-64pool-128-128pool</td>\n",
              "      <td>0.110739</td>\n",
              "      <td>0.957727</td>\n",
              "      <td>0.194529</td>\n",
              "      <td>0.9342</td>\n",
              "      <td>0.243228</td>\n",
              "      <td>0.9265</td>\n",
              "      <td>226.995776</td>\n",
              "      <td>0.667235</td>\n",
              "    </tr>\n",
              "    <tr>\n",
              "      <th>6</th>\n",
              "      <td>CNN (4 layers), 64-64pool-32-32-pool</td>\n",
              "      <td>0.190692</td>\n",
              "      <td>0.927491</td>\n",
              "      <td>0.196606</td>\n",
              "      <td>0.9240</td>\n",
              "      <td>0.223326</td>\n",
              "      <td>0.9191</td>\n",
              "      <td>197.533521</td>\n",
              "      <td>0.621062</td>\n",
              "    </tr>\n",
              "    <tr>\n",
              "      <th>7</th>\n",
              "      <td>CNN (4 layers), 128-128pool-64-64pool</td>\n",
              "      <td>0.135746</td>\n",
              "      <td>0.948909</td>\n",
              "      <td>0.199482</td>\n",
              "      <td>0.9342</td>\n",
              "      <td>0.219884</td>\n",
              "      <td>0.9291</td>\n",
              "      <td>361.905492</td>\n",
              "      <td>0.780554</td>\n",
              "    </tr>\n",
              "  </tbody>\n",
              "</table>\n",
              "</div>"
            ],
            "text/plain": [
              "                                   model  ...  testing time (sec)\n",
              "0  CNN (2 layers), baseline 32pool64pool  ...            0.486633\n",
              "1           CNN (2 layers), 64pool32pool  ...            0.501577\n",
              "2   CNN (2 layers), 32-64-pool, 5x5, 3x3  ...            0.559199\n",
              "3    CNN (4 layers), 32-32pool-64-64pool  ...            0.582940\n",
              "4          CNN (2 layers), 64pool128pool  ...            0.565040\n",
              "5  CNN (4 layers), 64-64pool-128-128pool  ...            0.667235\n",
              "6   CNN (4 layers), 64-64pool-32-32-pool  ...            0.621062\n",
              "7  CNN (4 layers), 128-128pool-64-64pool  ...            0.780554\n",
              "\n",
              "[8 rows x 9 columns]"
            ]
          },
          "metadata": {
            "tags": []
          },
          "execution_count": 103
        }
      ]
    },
    {
      "cell_type": "markdown",
      "metadata": {
        "colab_type": "text",
        "id": "P3WsOsAi9rpH"
      },
      "source": [
        "## Plotting the performance "
      ]
    },
    {
      "cell_type": "code",
      "metadata": {
        "colab_type": "code",
        "outputId": "1b7adbc2-6a7f-4c72-f172-3f36d1d8ab36",
        "id": "XC-uoZER9rpN",
        "colab": {
          "base_uri": "https://localhost:8080/",
          "height": 301
        }
      },
      "source": [
        "import matplotlib.pyplot as plt\n",
        "\n",
        "acc = history.history['accuracy']\n",
        "val_acc = history.history['val_accuracy']\n",
        "loss = history.history['loss']\n",
        "val_loss = history.history['val_loss']\n",
        "\n",
        "epochs = range(1, len(acc) + 1)\n",
        "\n",
        "# \"bo\" is for \"blue dot\"\n",
        "plt.plot(epochs, loss, 'bo', label='Training loss')\n",
        "# b is for \"solid blue line\"\n",
        "plt.plot(epochs, val_loss, 'b', label='Validation loss')\n",
        "plt.title('Training and validation loss')\n",
        "\n",
        "plt.xlabel('Epochs')\n",
        "plt.ylabel('Loss')\n",
        "plt.legend()\n",
        "\n",
        "plt.show()"
      ],
      "execution_count": 104,
      "outputs": [
        {
          "output_type": "display_data",
          "data": {
            "image/png": "[encoded data removed]",
            "text/plain": [
              "<Figure size 432x288 with 1 Axes>"
            ]
          },
          "metadata": {
            "tags": [],
            "needs_background": "light"
          }
        }
      ]
    },
    {
      "cell_type": "code",
      "metadata": {
        "colab_type": "code",
        "outputId": "9495b696-1720-431e-a1be-caa041db8b07",
        "id": "ABPlnl3U9rpa",
        "colab": {
          "base_uri": "https://localhost:8080/",
          "height": 301
        }
      },
      "source": [
        "plt.clf()   # clear figure\n",
        "acc_values = history_dict['accuracy']\n",
        "# val_acc_values = history_dict['val_acc']\n",
        "\n",
        "plt.plot(epochs, acc, 'bo', label='Training acc')\n",
        "plt.plot(epochs, val_acc, 'b', label='Validation acc')\n",
        "plt.title('Training and validation accuracy')\n",
        "\n",
        "plt.xlabel('Epochs')\n",
        "plt.ylabel('Accuracy')\n",
        "plt.legend()\n",
        "\n",
        "plt.show()"
      ],
      "execution_count": 105,
      "outputs": [
        {
          "output_type": "display_data",
          "data": {
            "image/png": "[encoded data removed]",
            "text/plain": [
              "<Figure size 432x288 with 1 Axes>"
            ]
          },
          "metadata": {
            "tags": [],
            "needs_background": "light"
          }
        }
      ]
    },
    {
      "cell_type": "code",
      "metadata": {
        "id": "-5SFRziHCC3a",
        "colab_type": "code",
        "colab": {}
      },
      "source": [
        ""
      ],
      "execution_count": 0,
      "outputs": []
    },
    {
      "cell_type": "markdown",
      "metadata": {
        "colab_type": "text",
        "id": "GfbrZV73CDqS"
      },
      "source": [
        "#Experiment 13\n",
        "32 (5x5), 64 (3x3), pool\n"
      ]
    },
    {
      "cell_type": "markdown",
      "metadata": {
        "colab_type": "text",
        "id": "d-F4ff9rCDqW"
      },
      "source": [
        "##Build and compile the model"
      ]
    },
    {
      "cell_type": "code",
      "metadata": {
        "colab_type": "code",
        "id": "tuZwTDtKCDqY",
        "colab": {}
      },
      "source": [
        "# CNN with 2 convolution/max pooling layers\n",
        "\n",
        "model = models.Sequential()\n",
        "model.add(layers.Conv2D(32, (5, 5), activation='relu', input_shape=(28, 28, 1)))\n",
        "model.add(layers.Dropout(0.2))\n",
        "\n",
        "model.add(layers.Conv2D(64, (3, 3), activation='relu'))\n",
        "model.add(layers.MaxPooling2D((2, 2)))\n",
        "model.add(layers.Dropout(0.2))\n",
        "\n",
        "model.add(layers.Flatten())\n",
        "model.add(layers.Dense(256, activation='relu'))\n",
        "model.add(layers.Dropout(0.2))\n",
        "\n",
        "model.add(layers.Dense(10, activation='softmax'))\n",
        "\n",
        "model.compile(optimizer ='adam',\n",
        "              loss='sparse_categorical_crossentropy',\n",
        "              metrics=['accuracy'])"
      ],
      "execution_count": 0,
      "outputs": []
    },
    {
      "cell_type": "code",
      "metadata": {
        "colab_type": "code",
        "id": "Tzw6zgb_CDqi",
        "colab": {}
      },
      "source": [
        "# keras.utils.plot_model(model, show_shapes=True)"
      ],
      "execution_count": 0,
      "outputs": []
    },
    {
      "cell_type": "markdown",
      "metadata": {
        "colab_type": "text",
        "id": "W5OyMzeqCDqn"
      },
      "source": [
        "##Train the model"
      ]
    },
    {
      "cell_type": "code",
      "metadata": {
        "colab_type": "code",
        "outputId": "6c67fe35-6903-4e01-9e12-1227a04f47fa",
        "id": "jYpjgnTmCDqp",
        "colab": {
          "base_uri": "https://localhost:8080/",
          "height": 749
        }
      },
      "source": [
        "train_rt = TrainRuntimeCallback()\n",
        "history = model.fit(train_images, train_labels, callbacks=[train_rt], epochs=20,  batch_size = 100,\n",
        "                    validation_data=(val_images, val_labels))"
      ],
      "execution_count": 108,
      "outputs": [
        {
          "output_type": "stream",
          "text": [
            "Train on 55000 samples, validate on 5000 samples\n",
            "Epoch 1/20\n",
            "55000/55000 [==============================] - 6s 112us/sample - loss: 0.4939 - accuracy: 0.8197 - val_loss: 0.3223 - val_accuracy: 0.8860\n",
            "Epoch 2/20\n",
            "55000/55000 [==============================] - 6s 105us/sample - loss: 0.3155 - accuracy: 0.8850 - val_loss: 0.2807 - val_accuracy: 0.9004\n",
            "Epoch 3/20\n",
            "55000/55000 [==============================] - 6s 105us/sample - loss: 0.2674 - accuracy: 0.9010 - val_loss: 0.2460 - val_accuracy: 0.9076\n",
            "Epoch 4/20\n",
            "55000/55000 [==============================] - 6s 105us/sample - loss: 0.2335 - accuracy: 0.9135 - val_loss: 0.2309 - val_accuracy: 0.9148\n",
            "Epoch 5/20\n",
            "55000/55000 [==============================] - 6s 105us/sample - loss: 0.2077 - accuracy: 0.9221 - val_loss: 0.2267 - val_accuracy: 0.9200\n",
            "Epoch 6/20\n",
            "55000/55000 [==============================] - 6s 104us/sample - loss: 0.1875 - accuracy: 0.9292 - val_loss: 0.2079 - val_accuracy: 0.9216\n",
            "Epoch 7/20\n",
            "55000/55000 [==============================] - 6s 105us/sample - loss: 0.1671 - accuracy: 0.9368 - val_loss: 0.2044 - val_accuracy: 0.9280\n",
            "Epoch 8/20\n",
            "55000/55000 [==============================] - 6s 105us/sample - loss: 0.1480 - accuracy: 0.9439 - val_loss: 0.2105 - val_accuracy: 0.9280\n",
            "Epoch 9/20\n",
            "55000/55000 [==============================] - 6s 105us/sample - loss: 0.1350 - accuracy: 0.9487 - val_loss: 0.2228 - val_accuracy: 0.9276\n",
            "Epoch 10/20\n",
            "55000/55000 [==============================] - 6s 105us/sample - loss: 0.1210 - accuracy: 0.9537 - val_loss: 0.2082 - val_accuracy: 0.9292\n",
            "Epoch 11/20\n",
            "55000/55000 [==============================] - 6s 105us/sample - loss: 0.1084 - accuracy: 0.9586 - val_loss: 0.2238 - val_accuracy: 0.9276\n",
            "Epoch 12/20\n",
            "55000/55000 [==============================] - 6s 105us/sample - loss: 0.0988 - accuracy: 0.9627 - val_loss: 0.2344 - val_accuracy: 0.9244\n",
            "Epoch 13/20\n",
            "55000/55000 [==============================] - 6s 104us/sample - loss: 0.0888 - accuracy: 0.9670 - val_loss: 0.2304 - val_accuracy: 0.9280\n",
            "Epoch 14/20\n",
            "55000/55000 [==============================] - 6s 104us/sample - loss: 0.0832 - accuracy: 0.9690 - val_loss: 0.2399 - val_accuracy: 0.9268\n",
            "Epoch 15/20\n",
            "55000/55000 [==============================] - 6s 104us/sample - loss: 0.0754 - accuracy: 0.9712 - val_loss: 0.2542 - val_accuracy: 0.9288\n",
            "Epoch 16/20\n",
            "55000/55000 [==============================] - 6s 104us/sample - loss: 0.0687 - accuracy: 0.9744 - val_loss: 0.2568 - val_accuracy: 0.9280\n",
            "Epoch 17/20\n",
            "55000/55000 [==============================] - 6s 104us/sample - loss: 0.0659 - accuracy: 0.9755 - val_loss: 0.2628 - val_accuracy: 0.9310\n",
            "Epoch 18/20\n",
            "55000/55000 [==============================] - 6s 104us/sample - loss: 0.0609 - accuracy: 0.9773 - val_loss: 0.2849 - val_accuracy: 0.9264\n",
            "Epoch 19/20\n",
            "55000/55000 [==============================] - 6s 104us/sample - loss: 0.0578 - accuracy: 0.9784 - val_loss: 0.2723 - val_accuracy: 0.9280\n",
            "Epoch 20/20\n",
            "55000/55000 [==============================] - 6s 104us/sample - loss: 0.0551 - accuracy: 0.9793 - val_loss: 0.2706 - val_accuracy: 0.9280\n"
          ],
          "name": "stdout"
        }
      ]
    },
    {
      "cell_type": "code",
      "metadata": {
        "colab_type": "code",
        "outputId": "0bc01b0e-237b-43a7-b6ac-8b5662096306",
        "id": "fPme2rMJCDq0",
        "colab": {
          "base_uri": "https://localhost:8080/",
          "height": 34
        }
      },
      "source": [
        "# Get the training time\n",
        "train_time = train_rt.process_time\n",
        "train_time # in seconds"
      ],
      "execution_count": 109,
      "outputs": [
        {
          "output_type": "execute_result",
          "data": {
            "text/plain": [
              "116.663987"
            ]
          },
          "metadata": {
            "tags": []
          },
          "execution_count": 109
        }
      ]
    },
    {
      "cell_type": "markdown",
      "metadata": {
        "colab_type": "text",
        "id": "aMH0-21PCDq7"
      },
      "source": [
        "## Test the model"
      ]
    },
    {
      "cell_type": "code",
      "metadata": {
        "colab_type": "code",
        "outputId": "9a7c21ca-9a18-4324-9317-797d52ff8a6e",
        "id": "sOGiic1oCDq8",
        "colab": {
          "base_uri": "https://localhost:8080/",
          "height": 34
        }
      },
      "source": [
        "test_rt = TestRuntimeCallback()\n",
        "test_loss, test_acc = model.evaluate(test_images, test_labels, callbacks=[test_rt])\n",
        "test_loss, test_acc"
      ],
      "execution_count": 110,
      "outputs": [
        {
          "output_type": "execute_result",
          "data": {
            "text/plain": [
              "(0.3220721814654767, 0.9222)"
            ]
          },
          "metadata": {
            "tags": []
          },
          "execution_count": 110
        }
      ]
    },
    {
      "cell_type": "code",
      "metadata": {
        "colab_type": "code",
        "outputId": "c1277435-7c63-47a7-d9a5-9cfeeebd3aef",
        "id": "H-AlytV6CDrB",
        "colab": {
          "base_uri": "https://localhost:8080/",
          "height": 34
        }
      },
      "source": [
        "test_time = test_rt.process_time\n",
        "test_time # in seconds"
      ],
      "execution_count": 111,
      "outputs": [
        {
          "output_type": "execute_result",
          "data": {
            "text/plain": [
              "0.565231"
            ]
          },
          "metadata": {
            "tags": []
          },
          "execution_count": 111
        }
      ]
    },
    {
      "cell_type": "markdown",
      "metadata": {
        "colab_type": "text",
        "id": "RB7fzmu3CDrG"
      },
      "source": [
        "##Add training and test statistics to results dataframe"
      ]
    },
    {
      "cell_type": "code",
      "metadata": {
        "colab_type": "code",
        "outputId": "bd6c5b01-8d11-4a39-8f44-16e69d019a16",
        "id": "ItxjDNtxCDrH",
        "colab": {
          "base_uri": "https://localhost:8080/",
          "height": 206
        }
      },
      "source": [
        "history_dict = history.history\n",
        "history_df=pd.DataFrame(history_dict)\n",
        "history_df.tail()"
      ],
      "execution_count": 112,
      "outputs": [
        {
          "output_type": "execute_result",
          "data": {
            "text/html": [
              "<div>\n",
              "<style scoped>\n",
              "    .dataframe tbody tr th:only-of-type {\n",
              "        vertical-align: middle;\n",
              "    }\n",
              "\n",
              "    .dataframe tbody tr th {\n",
              "        vertical-align: top;\n",
              "    }\n",
              "\n",
              "    .dataframe thead th {\n",
              "        text-align: right;\n",
              "    }\n",
              "</style>\n",
              "<table border=\"1\" class=\"dataframe\">\n",
              "  <thead>\n",
              "    <tr style=\"text-align: right;\">\n",
              "      <th></th>\n",
              "      <th>loss</th>\n",
              "      <th>accuracy</th>\n",
              "      <th>val_loss</th>\n",
              "      <th>val_accuracy</th>\n",
              "    </tr>\n",
              "  </thead>\n",
              "  <tbody>\n",
              "    <tr>\n",
              "      <th>15</th>\n",
              "      <td>0.068713</td>\n",
              "      <td>0.974382</td>\n",
              "      <td>0.256795</td>\n",
              "      <td>0.9280</td>\n",
              "    </tr>\n",
              "    <tr>\n",
              "      <th>16</th>\n",
              "      <td>0.065885</td>\n",
              "      <td>0.975545</td>\n",
              "      <td>0.262751</td>\n",
              "      <td>0.9310</td>\n",
              "    </tr>\n",
              "    <tr>\n",
              "      <th>17</th>\n",
              "      <td>0.060932</td>\n",
              "      <td>0.977291</td>\n",
              "      <td>0.284940</td>\n",
              "      <td>0.9264</td>\n",
              "    </tr>\n",
              "    <tr>\n",
              "      <th>18</th>\n",
              "      <td>0.057802</td>\n",
              "      <td>0.978400</td>\n",
              "      <td>0.272332</td>\n",
              "      <td>0.9280</td>\n",
              "    </tr>\n",
              "    <tr>\n",
              "      <th>19</th>\n",
              "      <td>0.055121</td>\n",
              "      <td>0.979273</td>\n",
              "      <td>0.270570</td>\n",
              "      <td>0.9280</td>\n",
              "    </tr>\n",
              "  </tbody>\n",
              "</table>\n",
              "</div>"
            ],
            "text/plain": [
              "        loss  accuracy  val_loss  val_accuracy\n",
              "15  0.068713  0.974382  0.256795        0.9280\n",
              "16  0.065885  0.975545  0.262751        0.9310\n",
              "17  0.060932  0.977291  0.284940        0.9264\n",
              "18  0.057802  0.978400  0.272332        0.9280\n",
              "19  0.055121  0.979273  0.270570        0.9280"
            ]
          },
          "metadata": {
            "tags": []
          },
          "execution_count": 112
        }
      ]
    },
    {
      "cell_type": "code",
      "metadata": {
        "colab_type": "code",
        "outputId": "d0461298-a5bf-48d2-ff79-b7be679ff020",
        "id": "bvaVNWmrCDrP",
        "colab": {
          "base_uri": "https://localhost:8080/",
          "height": 168
        }
      },
      "source": [
        "results_dfnew = history_df.iloc[-1:].copy()\n",
        "results_dfnew.insert(0,'model','CNN (2 layers), 32-64-pool, 5x5, 3x3') # want the model name to appear first\n",
        "results_dfnew['test_loss'] = test_loss #incorporate test results\n",
        "results_dfnew['test_accuracy'] = test_acc\n",
        "results_dfnew['training time (sec)'] = train_time     \n",
        "results_dfnew['testing time (sec)'] = test_time      # testing time appears last\n",
        "results_dfnew"
      ],
      "execution_count": 113,
      "outputs": [
        {
          "output_type": "execute_result",
          "data": {
            "text/html": [
              "<div>\n",
              "<style scoped>\n",
              "    .dataframe tbody tr th:only-of-type {\n",
              "        vertical-align: middle;\n",
              "    }\n",
              "\n",
              "    .dataframe tbody tr th {\n",
              "        vertical-align: top;\n",
              "    }\n",
              "\n",
              "    .dataframe thead th {\n",
              "        text-align: right;\n",
              "    }\n",
              "</style>\n",
              "<table border=\"1\" class=\"dataframe\">\n",
              "  <thead>\n",
              "    <tr style=\"text-align: right;\">\n",
              "      <th></th>\n",
              "      <th>model</th>\n",
              "      <th>loss</th>\n",
              "      <th>accuracy</th>\n",
              "      <th>val_loss</th>\n",
              "      <th>val_accuracy</th>\n",
              "      <th>test_loss</th>\n",
              "      <th>test_accuracy</th>\n",
              "      <th>training time (sec)</th>\n",
              "      <th>testing time (sec)</th>\n",
              "    </tr>\n",
              "  </thead>\n",
              "  <tbody>\n",
              "    <tr>\n",
              "      <th>19</th>\n",
              "      <td>CNN (2 layers), 32-64-pool, 5x5, 3x3</td>\n",
              "      <td>0.055121</td>\n",
              "      <td>0.979273</td>\n",
              "      <td>0.27057</td>\n",
              "      <td>0.928</td>\n",
              "      <td>0.322072</td>\n",
              "      <td>0.9222</td>\n",
              "      <td>116.663987</td>\n",
              "      <td>0.565231</td>\n",
              "    </tr>\n",
              "  </tbody>\n",
              "</table>\n",
              "</div>"
            ],
            "text/plain": [
              "                                   model  ...  testing time (sec)\n",
              "19  CNN (2 layers), 32-64-pool, 5x5, 3x3  ...            0.565231\n",
              "\n",
              "[1 rows x 9 columns]"
            ]
          },
          "metadata": {
            "tags": []
          },
          "execution_count": 113
        }
      ]
    },
    {
      "cell_type": "code",
      "metadata": {
        "colab_type": "code",
        "outputId": "ed217404-46e5-4c32-a9a4-736533180f50",
        "id": "mSqLWvrtCDrT",
        "colab": {
          "base_uri": "https://localhost:8080/",
          "height": 644
        }
      },
      "source": [
        "results_df=results_df.append(results_dfnew,ignore_index=True)\n",
        "results_df"
      ],
      "execution_count": 114,
      "outputs": [
        {
          "output_type": "execute_result",
          "data": {
            "text/html": [
              "<div>\n",
              "<style scoped>\n",
              "    .dataframe tbody tr th:only-of-type {\n",
              "        vertical-align: middle;\n",
              "    }\n",
              "\n",
              "    .dataframe tbody tr th {\n",
              "        vertical-align: top;\n",
              "    }\n",
              "\n",
              "    .dataframe thead th {\n",
              "        text-align: right;\n",
              "    }\n",
              "</style>\n",
              "<table border=\"1\" class=\"dataframe\">\n",
              "  <thead>\n",
              "    <tr style=\"text-align: right;\">\n",
              "      <th></th>\n",
              "      <th>model</th>\n",
              "      <th>loss</th>\n",
              "      <th>accuracy</th>\n",
              "      <th>val_loss</th>\n",
              "      <th>val_accuracy</th>\n",
              "      <th>test_loss</th>\n",
              "      <th>test_accuracy</th>\n",
              "      <th>training time (sec)</th>\n",
              "      <th>testing time (sec)</th>\n",
              "    </tr>\n",
              "  </thead>\n",
              "  <tbody>\n",
              "    <tr>\n",
              "      <th>0</th>\n",
              "      <td>CNN (2 layers), baseline 32pool64pool</td>\n",
              "      <td>0.148440</td>\n",
              "      <td>0.942564</td>\n",
              "      <td>0.229695</td>\n",
              "      <td>0.9206</td>\n",
              "      <td>0.240504</td>\n",
              "      <td>0.9187</td>\n",
              "      <td>68.169618</td>\n",
              "      <td>0.486633</td>\n",
              "    </tr>\n",
              "    <tr>\n",
              "      <th>1</th>\n",
              "      <td>CNN (2 layers), 64pool32pool</td>\n",
              "      <td>0.165884</td>\n",
              "      <td>0.936509</td>\n",
              "      <td>0.212797</td>\n",
              "      <td>0.9248</td>\n",
              "      <td>0.237632</td>\n",
              "      <td>0.9165</td>\n",
              "      <td>71.097494</td>\n",
              "      <td>0.501577</td>\n",
              "    </tr>\n",
              "    <tr>\n",
              "      <th>2</th>\n",
              "      <td>CNN (2 layers), 32-64-pool, 5x5, 3x3</td>\n",
              "      <td>0.056374</td>\n",
              "      <td>0.978818</td>\n",
              "      <td>0.288349</td>\n",
              "      <td>0.9252</td>\n",
              "      <td>0.309188</td>\n",
              "      <td>0.9230</td>\n",
              "      <td>113.877381</td>\n",
              "      <td>0.559199</td>\n",
              "    </tr>\n",
              "    <tr>\n",
              "      <th>3</th>\n",
              "      <td>CNN (4 layers), 32-32pool-64-64pool</td>\n",
              "      <td>0.149929</td>\n",
              "      <td>0.943709</td>\n",
              "      <td>0.213560</td>\n",
              "      <td>0.9236</td>\n",
              "      <td>0.234258</td>\n",
              "      <td>0.9245</td>\n",
              "      <td>128.761204</td>\n",
              "      <td>0.582940</td>\n",
              "    </tr>\n",
              "    <tr>\n",
              "      <th>4</th>\n",
              "      <td>CNN (2 layers), 64pool128pool</td>\n",
              "      <td>0.095781</td>\n",
              "      <td>0.962927</td>\n",
              "      <td>0.242315</td>\n",
              "      <td>0.9218</td>\n",
              "      <td>0.268553</td>\n",
              "      <td>0.9209</td>\n",
              "      <td>85.164486</td>\n",
              "      <td>0.565040</td>\n",
              "    </tr>\n",
              "    <tr>\n",
              "      <th>5</th>\n",
              "      <td>CNN (4 layers), 64-64pool-128-128pool</td>\n",
              "      <td>0.110739</td>\n",
              "      <td>0.957727</td>\n",
              "      <td>0.194529</td>\n",
              "      <td>0.9342</td>\n",
              "      <td>0.243228</td>\n",
              "      <td>0.9265</td>\n",
              "      <td>226.995776</td>\n",
              "      <td>0.667235</td>\n",
              "    </tr>\n",
              "    <tr>\n",
              "      <th>6</th>\n",
              "      <td>CNN (4 layers), 64-64pool-32-32-pool</td>\n",
              "      <td>0.190692</td>\n",
              "      <td>0.927491</td>\n",
              "      <td>0.196606</td>\n",
              "      <td>0.9240</td>\n",
              "      <td>0.223326</td>\n",
              "      <td>0.9191</td>\n",
              "      <td>197.533521</td>\n",
              "      <td>0.621062</td>\n",
              "    </tr>\n",
              "    <tr>\n",
              "      <th>7</th>\n",
              "      <td>CNN (4 layers), 128-128pool-64-64pool</td>\n",
              "      <td>0.135746</td>\n",
              "      <td>0.948909</td>\n",
              "      <td>0.199482</td>\n",
              "      <td>0.9342</td>\n",
              "      <td>0.219884</td>\n",
              "      <td>0.9291</td>\n",
              "      <td>361.905492</td>\n",
              "      <td>0.780554</td>\n",
              "    </tr>\n",
              "    <tr>\n",
              "      <th>8</th>\n",
              "      <td>CNN (2 layers), 32-64-pool, 5x5, 3x3</td>\n",
              "      <td>0.055121</td>\n",
              "      <td>0.979273</td>\n",
              "      <td>0.270570</td>\n",
              "      <td>0.9280</td>\n",
              "      <td>0.322072</td>\n",
              "      <td>0.9222</td>\n",
              "      <td>116.663987</td>\n",
              "      <td>0.565231</td>\n",
              "    </tr>\n",
              "  </tbody>\n",
              "</table>\n",
              "</div>"
            ],
            "text/plain": [
              "                                   model  ...  testing time (sec)\n",
              "0  CNN (2 layers), baseline 32pool64pool  ...            0.486633\n",
              "1           CNN (2 layers), 64pool32pool  ...            0.501577\n",
              "2   CNN (2 layers), 32-64-pool, 5x5, 3x3  ...            0.559199\n",
              "3    CNN (4 layers), 32-32pool-64-64pool  ...            0.582940\n",
              "4          CNN (2 layers), 64pool128pool  ...            0.565040\n",
              "5  CNN (4 layers), 64-64pool-128-128pool  ...            0.667235\n",
              "6   CNN (4 layers), 64-64pool-32-32-pool  ...            0.621062\n",
              "7  CNN (4 layers), 128-128pool-64-64pool  ...            0.780554\n",
              "8   CNN (2 layers), 32-64-pool, 5x5, 3x3  ...            0.565231\n",
              "\n",
              "[9 rows x 9 columns]"
            ]
          },
          "metadata": {
            "tags": []
          },
          "execution_count": 114
        }
      ]
    },
    {
      "cell_type": "markdown",
      "metadata": {
        "colab_type": "text",
        "id": "O_qCTpz1CDrZ"
      },
      "source": [
        "## Plotting the performance "
      ]
    },
    {
      "cell_type": "code",
      "metadata": {
        "colab_type": "code",
        "outputId": "f65aaa4a-6c18-431e-e6c5-96e6e5741a34",
        "id": "w_2rwPY7CDrZ",
        "colab": {
          "base_uri": "https://localhost:8080/",
          "height": 301
        }
      },
      "source": [
        "import matplotlib.pyplot as plt\n",
        "\n",
        "acc = history.history['accuracy']\n",
        "val_acc = history.history['val_accuracy']\n",
        "loss = history.history['loss']\n",
        "val_loss = history.history['val_loss']\n",
        "\n",
        "epochs = range(1, len(acc) + 1)\n",
        "\n",
        "# \"bo\" is for \"blue dot\"\n",
        "plt.plot(epochs, loss, 'bo', label='Training loss')\n",
        "# b is for \"solid blue line\"\n",
        "plt.plot(epochs, val_loss, 'b', label='Validation loss')\n",
        "plt.title('Training and validation loss')\n",
        "\n",
        "plt.xlabel('Epochs')\n",
        "plt.ylabel('Loss')\n",
        "plt.legend()\n",
        "\n",
        "plt.show()"
      ],
      "execution_count": 115,
      "outputs": [
        {
          "output_type": "display_data",
          "data": {
            "image/png": "[encoded data removed]",
            "text/plain": [
              "<Figure size 432x288 with 1 Axes>"
            ]
          },
          "metadata": {
            "tags": [],
            "needs_background": "light"
          }
        }
      ]
    },
    {
      "cell_type": "code",
      "metadata": {
        "colab_type": "code",
        "outputId": "58e06f96-1f06-4831-f5c8-7cb112ecfcf8",
        "id": "iAvjBZxuCDrd",
        "colab": {
          "base_uri": "https://localhost:8080/",
          "height": 301
        }
      },
      "source": [
        "plt.clf()   # clear figure\n",
        "acc_values = history_dict['accuracy']\n",
        "# val_acc_values = history_dict['val_acc']\n",
        "\n",
        "plt.plot(epochs, acc, 'bo', label='Training acc')\n",
        "plt.plot(epochs, val_acc, 'b', label='Validation acc')\n",
        "plt.title('Training and validation accuracy')\n",
        "\n",
        "plt.xlabel('Epochs')\n",
        "plt.ylabel('Accuracy')\n",
        "plt.legend()\n",
        "\n",
        "plt.show()"
      ],
      "execution_count": 116,
      "outputs": [
        {
          "output_type": "display_data",
          "data": {
            "image/png": "[encoded data removed]",
            "text/plain": [
              "<Figure size 432x288 with 1 Axes>"
            ]
          },
          "metadata": {
            "tags": [],
            "needs_background": "light"
          }
        }
      ]
    },
    {
      "cell_type": "code",
      "metadata": {
        "id": "HMm8VaxTCsvs",
        "colab_type": "code",
        "colab": {}
      },
      "source": [
        ""
      ],
      "execution_count": 0,
      "outputs": []
    },
    {
      "cell_type": "markdown",
      "metadata": {
        "colab_type": "text",
        "id": "vP0i0V_SCtCi"
      },
      "source": [
        "#Experiment 14\n",
        "32 (3x3), 64 (5x5), pool\n"
      ]
    },
    {
      "cell_type": "markdown",
      "metadata": {
        "colab_type": "text",
        "id": "VMgP2KW8CtCm"
      },
      "source": [
        "##Build and compile the model"
      ]
    },
    {
      "cell_type": "code",
      "metadata": {
        "colab_type": "code",
        "id": "XXQpjkUqCtCo",
        "colab": {}
      },
      "source": [
        "# CNN with 2 convolution/max pooling layers\n",
        "\n",
        "model = models.Sequential()\n",
        "model.add(layers.Conv2D(32, (3, 3), activation='relu', input_shape=(28, 28, 1)))\n",
        "model.add(layers.Dropout(0.2))\n",
        "\n",
        "model.add(layers.Conv2D(64, (5, 5), activation='relu'))\n",
        "model.add(layers.MaxPooling2D((2, 2)))\n",
        "model.add(layers.Dropout(0.2))\n",
        "\n",
        "model.add(layers.Flatten())\n",
        "model.add(layers.Dense(256, activation='relu'))\n",
        "model.add(layers.Dropout(0.2))\n",
        "\n",
        "model.add(layers.Dense(10, activation='softmax'))\n",
        "\n",
        "model.compile(optimizer ='adam',\n",
        "              loss='sparse_categorical_crossentropy',\n",
        "              metrics=['accuracy'])"
      ],
      "execution_count": 0,
      "outputs": []
    },
    {
      "cell_type": "code",
      "metadata": {
        "colab_type": "code",
        "id": "vExtklwcCtC0",
        "colab": {}
      },
      "source": [
        "# keras.utils.plot_model(model, show_shapes=True)"
      ],
      "execution_count": 0,
      "outputs": []
    },
    {
      "cell_type": "markdown",
      "metadata": {
        "colab_type": "text",
        "id": "xaeE7QOsCtC_"
      },
      "source": [
        "##Train the model"
      ]
    },
    {
      "cell_type": "code",
      "metadata": {
        "colab_type": "code",
        "outputId": "5a8031e2-a993-4caa-ea14-feb6134e8ed5",
        "id": "z6czBVBMCtDA",
        "colab": {
          "base_uri": "https://localhost:8080/",
          "height": 749
        }
      },
      "source": [
        "train_rt = TrainRuntimeCallback()\n",
        "history = model.fit(train_images, train_labels, callbacks=[train_rt], epochs=20,  batch_size = 100,\n",
        "                    validation_data=(val_images, val_labels))"
      ],
      "execution_count": 119,
      "outputs": [
        {
          "output_type": "stream",
          "text": [
            "Train on 55000 samples, validate on 5000 samples\n",
            "Epoch 1/20\n",
            "55000/55000 [==============================] - 7s 122us/sample - loss: 0.4586 - accuracy: 0.8348 - val_loss: 0.2978 - val_accuracy: 0.8934\n",
            "Epoch 2/20\n",
            "55000/55000 [==============================] - 6s 115us/sample - loss: 0.2919 - accuracy: 0.8943 - val_loss: 0.2515 - val_accuracy: 0.9102\n",
            "Epoch 3/20\n",
            "55000/55000 [==============================] - 6s 114us/sample - loss: 0.2408 - accuracy: 0.9113 - val_loss: 0.2389 - val_accuracy: 0.9118\n",
            "Epoch 4/20\n",
            "55000/55000 [==============================] - 6s 114us/sample - loss: 0.2045 - accuracy: 0.9244 - val_loss: 0.2166 - val_accuracy: 0.9182\n",
            "Epoch 5/20\n",
            "55000/55000 [==============================] - 6s 114us/sample - loss: 0.1785 - accuracy: 0.9339 - val_loss: 0.2050 - val_accuracy: 0.9238\n",
            "Epoch 6/20\n",
            "55000/55000 [==============================] - 6s 115us/sample - loss: 0.1540 - accuracy: 0.9412 - val_loss: 0.2067 - val_accuracy: 0.9232\n",
            "Epoch 7/20\n",
            "55000/55000 [==============================] - 6s 114us/sample - loss: 0.1337 - accuracy: 0.9493 - val_loss: 0.2159 - val_accuracy: 0.9242\n",
            "Epoch 8/20\n",
            "55000/55000 [==============================] - 6s 113us/sample - loss: 0.1147 - accuracy: 0.9572 - val_loss: 0.2164 - val_accuracy: 0.9260\n",
            "Epoch 9/20\n",
            "55000/55000 [==============================] - 6s 114us/sample - loss: 0.1022 - accuracy: 0.9618 - val_loss: 0.2232 - val_accuracy: 0.9224\n",
            "Epoch 10/20\n",
            "55000/55000 [==============================] - 6s 114us/sample - loss: 0.0903 - accuracy: 0.9665 - val_loss: 0.2316 - val_accuracy: 0.9224\n",
            "Epoch 11/20\n",
            "55000/55000 [==============================] - 6s 114us/sample - loss: 0.0796 - accuracy: 0.9700 - val_loss: 0.2347 - val_accuracy: 0.9254\n",
            "Epoch 12/20\n",
            "55000/55000 [==============================] - 6s 113us/sample - loss: 0.0706 - accuracy: 0.9748 - val_loss: 0.2597 - val_accuracy: 0.9218\n",
            "Epoch 13/20\n",
            "55000/55000 [==============================] - 6s 114us/sample - loss: 0.0623 - accuracy: 0.9769 - val_loss: 0.2570 - val_accuracy: 0.9292\n",
            "Epoch 14/20\n",
            "55000/55000 [==============================] - 6s 114us/sample - loss: 0.0578 - accuracy: 0.9784 - val_loss: 0.2851 - val_accuracy: 0.9266\n",
            "Epoch 15/20\n",
            "55000/55000 [==============================] - 6s 113us/sample - loss: 0.0550 - accuracy: 0.9793 - val_loss: 0.2779 - val_accuracy: 0.9284\n",
            "Epoch 16/20\n",
            "55000/55000 [==============================] - 6s 114us/sample - loss: 0.0505 - accuracy: 0.9815 - val_loss: 0.3073 - val_accuracy: 0.9262\n",
            "Epoch 17/20\n",
            "55000/55000 [==============================] - 6s 114us/sample - loss: 0.0471 - accuracy: 0.9825 - val_loss: 0.2921 - val_accuracy: 0.9242\n",
            "Epoch 18/20\n",
            "55000/55000 [==============================] - 6s 114us/sample - loss: 0.0420 - accuracy: 0.9853 - val_loss: 0.3159 - val_accuracy: 0.9176\n",
            "Epoch 19/20\n",
            "55000/55000 [==============================] - 6s 113us/sample - loss: 0.0389 - accuracy: 0.9856 - val_loss: 0.3215 - val_accuracy: 0.9240\n",
            "Epoch 20/20\n",
            "55000/55000 [==============================] - 6s 113us/sample - loss: 0.0363 - accuracy: 0.9873 - val_loss: 0.3122 - val_accuracy: 0.9238\n"
          ],
          "name": "stdout"
        }
      ]
    },
    {
      "cell_type": "code",
      "metadata": {
        "colab_type": "code",
        "outputId": "cd959c5e-a475-4ba0-c0c4-917d26e71e8c",
        "id": "57KZpPw5CtDH",
        "colab": {
          "base_uri": "https://localhost:8080/",
          "height": 34
        }
      },
      "source": [
        "# Get the training time\n",
        "train_time = train_rt.process_time\n",
        "train_time # in seconds"
      ],
      "execution_count": 120,
      "outputs": [
        {
          "output_type": "execute_result",
          "data": {
            "text/plain": [
              "127.146923"
            ]
          },
          "metadata": {
            "tags": []
          },
          "execution_count": 120
        }
      ]
    },
    {
      "cell_type": "markdown",
      "metadata": {
        "colab_type": "text",
        "id": "DIkIw02fCtDN"
      },
      "source": [
        "## Test the model"
      ]
    },
    {
      "cell_type": "code",
      "metadata": {
        "colab_type": "code",
        "outputId": "1db16c2c-fcd9-4211-8b05-7c170fea8369",
        "id": "9RmGxXgRCtDP",
        "colab": {
          "base_uri": "https://localhost:8080/",
          "height": 34
        }
      },
      "source": [
        "test_rt = TestRuntimeCallback()\n",
        "test_loss, test_acc = model.evaluate(test_images, test_labels, callbacks=[test_rt])\n",
        "test_loss, test_acc"
      ],
      "execution_count": 121,
      "outputs": [
        {
          "output_type": "execute_result",
          "data": {
            "text/plain": [
              "(0.35371681201979516, 0.9253)"
            ]
          },
          "metadata": {
            "tags": []
          },
          "execution_count": 121
        }
      ]
    },
    {
      "cell_type": "code",
      "metadata": {
        "colab_type": "code",
        "outputId": "c7068724-0af5-4c58-b7a4-42f2c3499dc5",
        "id": "VCLoRaxHCtDU",
        "colab": {
          "base_uri": "https://localhost:8080/",
          "height": 34
        }
      },
      "source": [
        "test_time = test_rt.process_time\n",
        "test_time # in seconds"
      ],
      "execution_count": 122,
      "outputs": [
        {
          "output_type": "execute_result",
          "data": {
            "text/plain": [
              "0.589047"
            ]
          },
          "metadata": {
            "tags": []
          },
          "execution_count": 122
        }
      ]
    },
    {
      "cell_type": "markdown",
      "metadata": {
        "colab_type": "text",
        "id": "lpDn-Ms2CtDY"
      },
      "source": [
        "##Add training and test statistics to results dataframe"
      ]
    },
    {
      "cell_type": "code",
      "metadata": {
        "colab_type": "code",
        "outputId": "78727089-4992-436f-e775-13f52176765f",
        "id": "6KRoShyPCtDa",
        "colab": {
          "base_uri": "https://localhost:8080/",
          "height": 206
        }
      },
      "source": [
        "history_dict = history.history\n",
        "history_df=pd.DataFrame(history_dict)\n",
        "history_df.tail()"
      ],
      "execution_count": 123,
      "outputs": [
        {
          "output_type": "execute_result",
          "data": {
            "text/html": [
              "<div>\n",
              "<style scoped>\n",
              "    .dataframe tbody tr th:only-of-type {\n",
              "        vertical-align: middle;\n",
              "    }\n",
              "\n",
              "    .dataframe tbody tr th {\n",
              "        vertical-align: top;\n",
              "    }\n",
              "\n",
              "    .dataframe thead th {\n",
              "        text-align: right;\n",
              "    }\n",
              "</style>\n",
              "<table border=\"1\" class=\"dataframe\">\n",
              "  <thead>\n",
              "    <tr style=\"text-align: right;\">\n",
              "      <th></th>\n",
              "      <th>loss</th>\n",
              "      <th>accuracy</th>\n",
              "      <th>val_loss</th>\n",
              "      <th>val_accuracy</th>\n",
              "    </tr>\n",
              "  </thead>\n",
              "  <tbody>\n",
              "    <tr>\n",
              "      <th>15</th>\n",
              "      <td>0.050527</td>\n",
              "      <td>0.981455</td>\n",
              "      <td>0.307340</td>\n",
              "      <td>0.9262</td>\n",
              "    </tr>\n",
              "    <tr>\n",
              "      <th>16</th>\n",
              "      <td>0.047124</td>\n",
              "      <td>0.982455</td>\n",
              "      <td>0.292114</td>\n",
              "      <td>0.9242</td>\n",
              "    </tr>\n",
              "    <tr>\n",
              "      <th>17</th>\n",
              "      <td>0.042043</td>\n",
              "      <td>0.985291</td>\n",
              "      <td>0.315916</td>\n",
              "      <td>0.9176</td>\n",
              "    </tr>\n",
              "    <tr>\n",
              "      <th>18</th>\n",
              "      <td>0.038856</td>\n",
              "      <td>0.985600</td>\n",
              "      <td>0.321544</td>\n",
              "      <td>0.9240</td>\n",
              "    </tr>\n",
              "    <tr>\n",
              "      <th>19</th>\n",
              "      <td>0.036320</td>\n",
              "      <td>0.987309</td>\n",
              "      <td>0.312200</td>\n",
              "      <td>0.9238</td>\n",
              "    </tr>\n",
              "  </tbody>\n",
              "</table>\n",
              "</div>"
            ],
            "text/plain": [
              "        loss  accuracy  val_loss  val_accuracy\n",
              "15  0.050527  0.981455  0.307340        0.9262\n",
              "16  0.047124  0.982455  0.292114        0.9242\n",
              "17  0.042043  0.985291  0.315916        0.9176\n",
              "18  0.038856  0.985600  0.321544        0.9240\n",
              "19  0.036320  0.987309  0.312200        0.9238"
            ]
          },
          "metadata": {
            "tags": []
          },
          "execution_count": 123
        }
      ]
    },
    {
      "cell_type": "code",
      "metadata": {
        "colab_type": "code",
        "outputId": "0b2708ee-1812-49f5-ed09-1853bcabb175",
        "id": "j2QPv-qNCtDf",
        "colab": {
          "base_uri": "https://localhost:8080/",
          "height": 168
        }
      },
      "source": [
        "results_dfnew = history_df.iloc[-1:].copy()\n",
        "results_dfnew.insert(0,'model','CNN (2 layers), 32-64-pool, 3x3, 5x5') # want the model name to appear first\n",
        "results_dfnew['test_loss'] = test_loss #incorporate test results\n",
        "results_dfnew['test_accuracy'] = test_acc\n",
        "results_dfnew['training time (sec)'] = train_time     \n",
        "results_dfnew['testing time (sec)'] = test_time      # testing time appears last\n",
        "results_dfnew"
      ],
      "execution_count": 124,
      "outputs": [
        {
          "output_type": "execute_result",
          "data": {
            "text/html": [
              "<div>\n",
              "<style scoped>\n",
              "    .dataframe tbody tr th:only-of-type {\n",
              "        vertical-align: middle;\n",
              "    }\n",
              "\n",
              "    .dataframe tbody tr th {\n",
              "        vertical-align: top;\n",
              "    }\n",
              "\n",
              "    .dataframe thead th {\n",
              "        text-align: right;\n",
              "    }\n",
              "</style>\n",
              "<table border=\"1\" class=\"dataframe\">\n",
              "  <thead>\n",
              "    <tr style=\"text-align: right;\">\n",
              "      <th></th>\n",
              "      <th>model</th>\n",
              "      <th>loss</th>\n",
              "      <th>accuracy</th>\n",
              "      <th>val_loss</th>\n",
              "      <th>val_accuracy</th>\n",
              "      <th>test_loss</th>\n",
              "      <th>test_accuracy</th>\n",
              "      <th>training time (sec)</th>\n",
              "      <th>testing time (sec)</th>\n",
              "    </tr>\n",
              "  </thead>\n",
              "  <tbody>\n",
              "    <tr>\n",
              "      <th>19</th>\n",
              "      <td>CNN (2 layers), 32-64-pool, 3x3, 5x5</td>\n",
              "      <td>0.03632</td>\n",
              "      <td>0.987309</td>\n",
              "      <td>0.3122</td>\n",
              "      <td>0.9238</td>\n",
              "      <td>0.353717</td>\n",
              "      <td>0.9253</td>\n",
              "      <td>127.146923</td>\n",
              "      <td>0.589047</td>\n",
              "    </tr>\n",
              "  </tbody>\n",
              "</table>\n",
              "</div>"
            ],
            "text/plain": [
              "                                   model  ...  testing time (sec)\n",
              "19  CNN (2 layers), 32-64-pool, 3x3, 5x5  ...            0.589047\n",
              "\n",
              "[1 rows x 9 columns]"
            ]
          },
          "metadata": {
            "tags": []
          },
          "execution_count": 124
        }
      ]
    },
    {
      "cell_type": "code",
      "metadata": {
        "colab_type": "code",
        "outputId": "434b442a-1a44-4c8f-d97f-1beb5470d48e",
        "id": "QGL0FghGCtDl",
        "colab": {
          "base_uri": "https://localhost:8080/",
          "height": 710
        }
      },
      "source": [
        "results_df=results_df.append(results_dfnew,ignore_index=True)\n",
        "results_df"
      ],
      "execution_count": 125,
      "outputs": [
        {
          "output_type": "execute_result",
          "data": {
            "text/html": [
              "<div>\n",
              "<style scoped>\n",
              "    .dataframe tbody tr th:only-of-type {\n",
              "        vertical-align: middle;\n",
              "    }\n",
              "\n",
              "    .dataframe tbody tr th {\n",
              "        vertical-align: top;\n",
              "    }\n",
              "\n",
              "    .dataframe thead th {\n",
              "        text-align: right;\n",
              "    }\n",
              "</style>\n",
              "<table border=\"1\" class=\"dataframe\">\n",
              "  <thead>\n",
              "    <tr style=\"text-align: right;\">\n",
              "      <th></th>\n",
              "      <th>model</th>\n",
              "      <th>loss</th>\n",
              "      <th>accuracy</th>\n",
              "      <th>val_loss</th>\n",
              "      <th>val_accuracy</th>\n",
              "      <th>test_loss</th>\n",
              "      <th>test_accuracy</th>\n",
              "      <th>training time (sec)</th>\n",
              "      <th>testing time (sec)</th>\n",
              "    </tr>\n",
              "  </thead>\n",
              "  <tbody>\n",
              "    <tr>\n",
              "      <th>0</th>\n",
              "      <td>CNN (2 layers), baseline 32pool64pool</td>\n",
              "      <td>0.148440</td>\n",
              "      <td>0.942564</td>\n",
              "      <td>0.229695</td>\n",
              "      <td>0.9206</td>\n",
              "      <td>0.240504</td>\n",
              "      <td>0.9187</td>\n",
              "      <td>68.169618</td>\n",
              "      <td>0.486633</td>\n",
              "    </tr>\n",
              "    <tr>\n",
              "      <th>1</th>\n",
              "      <td>CNN (2 layers), 64pool32pool</td>\n",
              "      <td>0.165884</td>\n",
              "      <td>0.936509</td>\n",
              "      <td>0.212797</td>\n",
              "      <td>0.9248</td>\n",
              "      <td>0.237632</td>\n",
              "      <td>0.9165</td>\n",
              "      <td>71.097494</td>\n",
              "      <td>0.501577</td>\n",
              "    </tr>\n",
              "    <tr>\n",
              "      <th>2</th>\n",
              "      <td>CNN (2 layers), 32-64-pool, 5x5, 3x3</td>\n",
              "      <td>0.056374</td>\n",
              "      <td>0.978818</td>\n",
              "      <td>0.288349</td>\n",
              "      <td>0.9252</td>\n",
              "      <td>0.309188</td>\n",
              "      <td>0.9230</td>\n",
              "      <td>113.877381</td>\n",
              "      <td>0.559199</td>\n",
              "    </tr>\n",
              "    <tr>\n",
              "      <th>3</th>\n",
              "      <td>CNN (4 layers), 32-32pool-64-64pool</td>\n",
              "      <td>0.149929</td>\n",
              "      <td>0.943709</td>\n",
              "      <td>0.213560</td>\n",
              "      <td>0.9236</td>\n",
              "      <td>0.234258</td>\n",
              "      <td>0.9245</td>\n",
              "      <td>128.761204</td>\n",
              "      <td>0.582940</td>\n",
              "    </tr>\n",
              "    <tr>\n",
              "      <th>4</th>\n",
              "      <td>CNN (2 layers), 64pool128pool</td>\n",
              "      <td>0.095781</td>\n",
              "      <td>0.962927</td>\n",
              "      <td>0.242315</td>\n",
              "      <td>0.9218</td>\n",
              "      <td>0.268553</td>\n",
              "      <td>0.9209</td>\n",
              "      <td>85.164486</td>\n",
              "      <td>0.565040</td>\n",
              "    </tr>\n",
              "    <tr>\n",
              "      <th>5</th>\n",
              "      <td>CNN (4 layers), 64-64pool-128-128pool</td>\n",
              "      <td>0.110739</td>\n",
              "      <td>0.957727</td>\n",
              "      <td>0.194529</td>\n",
              "      <td>0.9342</td>\n",
              "      <td>0.243228</td>\n",
              "      <td>0.9265</td>\n",
              "      <td>226.995776</td>\n",
              "      <td>0.667235</td>\n",
              "    </tr>\n",
              "    <tr>\n",
              "      <th>6</th>\n",
              "      <td>CNN (4 layers), 64-64pool-32-32-pool</td>\n",
              "      <td>0.190692</td>\n",
              "      <td>0.927491</td>\n",
              "      <td>0.196606</td>\n",
              "      <td>0.9240</td>\n",
              "      <td>0.223326</td>\n",
              "      <td>0.9191</td>\n",
              "      <td>197.533521</td>\n",
              "      <td>0.621062</td>\n",
              "    </tr>\n",
              "    <tr>\n",
              "      <th>7</th>\n",
              "      <td>CNN (4 layers), 128-128pool-64-64pool</td>\n",
              "      <td>0.135746</td>\n",
              "      <td>0.948909</td>\n",
              "      <td>0.199482</td>\n",
              "      <td>0.9342</td>\n",
              "      <td>0.219884</td>\n",
              "      <td>0.9291</td>\n",
              "      <td>361.905492</td>\n",
              "      <td>0.780554</td>\n",
              "    </tr>\n",
              "    <tr>\n",
              "      <th>8</th>\n",
              "      <td>CNN (2 layers), 32-64-pool, 5x5, 3x3</td>\n",
              "      <td>0.055121</td>\n",
              "      <td>0.979273</td>\n",
              "      <td>0.270570</td>\n",
              "      <td>0.9280</td>\n",
              "      <td>0.322072</td>\n",
              "      <td>0.9222</td>\n",
              "      <td>116.663987</td>\n",
              "      <td>0.565231</td>\n",
              "    </tr>\n",
              "    <tr>\n",
              "      <th>9</th>\n",
              "      <td>CNN (2 layers), 32-64-pool, 3x3, 5x5</td>\n",
              "      <td>0.036320</td>\n",
              "      <td>0.987309</td>\n",
              "      <td>0.312200</td>\n",
              "      <td>0.9238</td>\n",
              "      <td>0.353717</td>\n",
              "      <td>0.9253</td>\n",
              "      <td>127.146923</td>\n",
              "      <td>0.589047</td>\n",
              "    </tr>\n",
              "  </tbody>\n",
              "</table>\n",
              "</div>"
            ],
            "text/plain": [
              "                                   model  ...  testing time (sec)\n",
              "0  CNN (2 layers), baseline 32pool64pool  ...            0.486633\n",
              "1           CNN (2 layers), 64pool32pool  ...            0.501577\n",
              "2   CNN (2 layers), 32-64-pool, 5x5, 3x3  ...            0.559199\n",
              "3    CNN (4 layers), 32-32pool-64-64pool  ...            0.582940\n",
              "4          CNN (2 layers), 64pool128pool  ...            0.565040\n",
              "5  CNN (4 layers), 64-64pool-128-128pool  ...            0.667235\n",
              "6   CNN (4 layers), 64-64pool-32-32-pool  ...            0.621062\n",
              "7  CNN (4 layers), 128-128pool-64-64pool  ...            0.780554\n",
              "8   CNN (2 layers), 32-64-pool, 5x5, 3x3  ...            0.565231\n",
              "9   CNN (2 layers), 32-64-pool, 3x3, 5x5  ...            0.589047\n",
              "\n",
              "[10 rows x 9 columns]"
            ]
          },
          "metadata": {
            "tags": []
          },
          "execution_count": 125
        }
      ]
    },
    {
      "cell_type": "markdown",
      "metadata": {
        "colab_type": "text",
        "id": "vwvGpvSNCtDq"
      },
      "source": [
        "## Plotting the performance "
      ]
    },
    {
      "cell_type": "code",
      "metadata": {
        "colab_type": "code",
        "outputId": "ecf57a44-b9eb-4272-c15e-f2f78183fe6e",
        "id": "TV6fUiITCtDq",
        "colab": {
          "base_uri": "https://localhost:8080/",
          "height": 301
        }
      },
      "source": [
        "import matplotlib.pyplot as plt\n",
        "\n",
        "acc = history.history['accuracy']\n",
        "val_acc = history.history['val_accuracy']\n",
        "loss = history.history['loss']\n",
        "val_loss = history.history['val_loss']\n",
        "\n",
        "epochs = range(1, len(acc) + 1)\n",
        "\n",
        "# \"bo\" is for \"blue dot\"\n",
        "plt.plot(epochs, loss, 'bo', label='Training loss')\n",
        "# b is for \"solid blue line\"\n",
        "plt.plot(epochs, val_loss, 'b', label='Validation loss')\n",
        "plt.title('Training and validation loss')\n",
        "\n",
        "plt.xlabel('Epochs')\n",
        "plt.ylabel('Loss')\n",
        "plt.legend()\n",
        "\n",
        "plt.show()"
      ],
      "execution_count": 126,
      "outputs": [
        {
          "output_type": "display_data",
          "data": {
            "image/png": "[encoded data removed]",
            "text/plain": [
              "<Figure size 432x288 with 1 Axes>"
            ]
          },
          "metadata": {
            "tags": [],
            "needs_background": "light"
          }
        }
      ]
    },
    {
      "cell_type": "code",
      "metadata": {
        "colab_type": "code",
        "outputId": "6a69dac2-7be6-4b7a-a5a8-a4635a561cbc",
        "id": "h10jNmZuCtDv",
        "colab": {
          "base_uri": "https://localhost:8080/",
          "height": 301
        }
      },
      "source": [
        "plt.clf()   # clear figure\n",
        "acc_values = history_dict['accuracy']\n",
        "# val_acc_values = history_dict['val_acc']\n",
        "\n",
        "plt.plot(epochs, acc, 'bo', label='Training acc')\n",
        "plt.plot(epochs, val_acc, 'b', label='Validation acc')\n",
        "plt.title('Training and validation accuracy')\n",
        "\n",
        "plt.xlabel('Epochs')\n",
        "plt.ylabel('Accuracy')\n",
        "plt.legend()\n",
        "\n",
        "plt.show()"
      ],
      "execution_count": 127,
      "outputs": [
        {
          "output_type": "display_data",
          "data": {
            "image/png": "[encoded data removed]",
            "text/plain": [
              "<Figure size 432x288 with 1 Axes>"
            ]
          },
          "metadata": {
            "tags": [],
            "needs_background": "light"
          }
        }
      ]
    },
    {
      "cell_type": "markdown",
      "metadata": {
        "id": "hIi6ZofBGYrH",
        "colab_type": "text"
      },
      "source": [
        "#Export final results"
      ]
    },
    {
      "cell_type": "code",
      "metadata": {
        "id": "MN4fklj4AZzQ",
        "colab_type": "code",
        "colab": {}
      },
      "source": [
        "#Export results dataframe\n",
        "\n",
        "from google.colab import files\n",
        "\n",
        "results_df.to_csv('A2_3x3convNodes_line.csv')\n",
        "files.download('A2_3x3convNodes_line.csv')"
      ],
      "execution_count": 0,
      "outputs": []
    },
    {
      "cell_type": "code",
      "metadata": {
        "id": "uXla8a-61n1P",
        "colab_type": "code",
        "colab": {}
      },
      "source": [
        ""
      ],
      "execution_count": 0,
      "outputs": []
    }
  ]
}