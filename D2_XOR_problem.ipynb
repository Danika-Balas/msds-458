{
  "nbformat": 4,
  "nbformat_minor": 0,
  "metadata": {
    "colab": {
      "name": "D2_XOR_problem.ipynb",
      "provenance": [],
      "authorship_tag": "ABX9TyOL//6jF63YWSUkIvVcnDD+",
      "include_colab_link": true
    },
    "kernelspec": {
      "name": "python3",
      "display_name": "Python 3"
    }
  },
  "cells": [
    {
      "cell_type": "markdown",
      "metadata": {
        "id": "view-in-github",
        "colab_type": "text"
      },
      "source": [
        "<a href=\"https://colab.research.google.com/github/Danika-Balas/msds-458/blob/master/D2_XOR_problem.ipynb\" target=\"_parent\"><img src=\"https://colab.research.google.com/assets/colab-badge.svg\" alt=\"Open In Colab\"/></a>"
      ]
    },
    {
      "cell_type": "markdown",
      "metadata": {
        "id": "3i3Gm6tYeASG",
        "colab_type": "text"
      },
      "source": [
        "##Set Up"
      ]
    },
    {
      "cell_type": "code",
      "metadata": {
        "id": "PN9V4gtBcRS8",
        "colab_type": "code",
        "colab": {
          "base_uri": "https://localhost:8080/",
          "height": 34
        },
        "outputId": "3c6c8ee6-2344-42fb-eca2-ed93c80a6e1c"
      },
      "source": [
        "#import needed\n",
        "import numpy as np\n",
        "from keras import models\n",
        "from keras import layers"
      ],
      "execution_count": 1,
      "outputs": [
        {
          "output_type": "stream",
          "text": [
            "Using TensorFlow backend.\n"
          ],
          "name": "stderr"
        }
      ]
    },
    {
      "cell_type": "markdown",
      "metadata": {
        "id": "0y00GyoCeQTQ",
        "colab_type": "text"
      },
      "source": [
        "##XOR Data"
      ]
    },
    {
      "cell_type": "code",
      "metadata": {
        "id": "D0zJ3zG_d-Se",
        "colab_type": "code",
        "colab": {}
      },
      "source": [
        "xor_input = np.array([[0,0],\n",
        "                       [0,1],\n",
        "                       [1,0],\n",
        "                       [1,1]])"
      ],
      "execution_count": 0,
      "outputs": []
    },
    {
      "cell_type": "code",
      "metadata": {
        "id": "kkcPBeSjdu6a",
        "colab_type": "code",
        "colab": {}
      },
      "source": [
        "xor_labels = np.array([0,1,1,0])"
      ],
      "execution_count": 0,
      "outputs": []
    },
    {
      "cell_type": "code",
      "metadata": {
        "id": "9jY4Ie5YgAaj",
        "colab_type": "code",
        "colab": {}
      },
      "source": [
        ""
      ],
      "execution_count": 0,
      "outputs": []
    }
  ]
}