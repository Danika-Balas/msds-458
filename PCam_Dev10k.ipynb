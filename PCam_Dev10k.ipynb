{
  "nbformat": 4,
  "nbformat_minor": 0,
  "metadata": {
    "colab": {
      "name": "PCam_Final_Project.ipynb",
      "provenance": [],
      "authorship_tag": "ABX9TyP38s+gxXnmStkaNjaX/zwX",
      "include_colab_link": true
    },
    "kernelspec": {
      "name": "python3",
      "display_name": "Python 3"
    },
    "accelerator": "GPU",
    "widgets": {
      "application/vnd.jupyter.widget-state+json": {
        "88e57e218e65456ea2511930a9b4d045": {
          "model_module": "@jupyter-widgets/controls",
          "model_name": "HBoxModel",
          "state": {
            "_view_name": "HBoxView",
            "_dom_classes": [],
            "_model_name": "HBoxModel",
            "_view_module": "@jupyter-widgets/controls",
            "_model_module_version": "1.5.0",
            "_view_count": null,
            "_view_module_version": "1.5.0",
            "box_style": "",
            "layout": "IPY_MODEL_96f46bb779974cc8b9af44ea3c4a2b35",
            "_model_module": "@jupyter-widgets/controls",
            "children": [
              "IPY_MODEL_4905cd8b09884cd0bbc40bfd89ae7963",
              "IPY_MODEL_1e33c88b3882404aa9f527085d191ec0"
            ]
          }
        },
        "96f46bb779974cc8b9af44ea3c4a2b35": {
          "model_module": "@jupyter-widgets/base",
          "model_name": "LayoutModel",
          "state": {
            "_view_name": "LayoutView",
            "grid_template_rows": null,
            "right": null,
            "justify_content": null,
            "_view_module": "@jupyter-widgets/base",
            "overflow": null,
            "_model_module_version": "1.2.0",
            "_view_count": null,
            "flex_flow": null,
            "width": null,
            "min_width": null,
            "border": null,
            "align_items": null,
            "bottom": null,
            "_model_module": "@jupyter-widgets/base",
            "top": null,
            "grid_column": null,
            "overflow_y": null,
            "overflow_x": null,
            "grid_auto_flow": null,
            "grid_area": null,
            "grid_template_columns": null,
            "flex": null,
            "_model_name": "LayoutModel",
            "justify_items": null,
            "grid_row": null,
            "max_height": null,
            "align_content": null,
            "visibility": null,
            "align_self": null,
            "height": null,
            "min_height": null,
            "padding": null,
            "grid_auto_rows": null,
            "grid_gap": null,
            "max_width": null,
            "order": null,
            "_view_module_version": "1.2.0",
            "grid_template_areas": null,
            "object_position": null,
            "object_fit": null,
            "grid_auto_columns": null,
            "margin": null,
            "display": null,
            "left": null
          }
        },
        "4905cd8b09884cd0bbc40bfd89ae7963": {
          "model_module": "@jupyter-widgets/controls",
          "model_name": "FloatProgressModel",
          "state": {
            "_view_name": "ProgressView",
            "style": "IPY_MODEL_84bec42cd8704405995d2737ae7ec602",
            "_dom_classes": [],
            "description": " 99%",
            "_model_name": "FloatProgressModel",
            "bar_style": "danger",
            "max": 1000,
            "_view_module": "@jupyter-widgets/controls",
            "_model_module_version": "1.5.0",
            "value": 994,
            "_view_count": null,
            "_view_module_version": "1.5.0",
            "orientation": "horizontal",
            "min": 0,
            "description_tooltip": null,
            "_model_module": "@jupyter-widgets/controls",
            "layout": "IPY_MODEL_d71fa657230e427db12945b65c59e302"
          }
        },
        "1e33c88b3882404aa9f527085d191ec0": {
          "model_module": "@jupyter-widgets/controls",
          "model_name": "HTMLModel",
          "state": {
            "_view_name": "HTMLView",
            "style": "IPY_MODEL_78a771945426423c87f833b73102ddf0",
            "_dom_classes": [],
            "description": "",
            "_model_name": "HTMLModel",
            "placeholder": "​",
            "_view_module": "@jupyter-widgets/controls",
            "_model_module_version": "1.5.0",
            "value": " 994/1000 [00:06&lt;00:00, 146.13it/s]",
            "_view_count": null,
            "_view_module_version": "1.5.0",
            "description_tooltip": null,
            "_model_module": "@jupyter-widgets/controls",
            "layout": "IPY_MODEL_3199ddd0b94b45999ac111fd48b59c53"
          }
        },
        "84bec42cd8704405995d2737ae7ec602": {
          "model_module": "@jupyter-widgets/controls",
          "model_name": "ProgressStyleModel",
          "state": {
            "_view_name": "StyleView",
            "_model_name": "ProgressStyleModel",
            "description_width": "initial",
            "_view_module": "@jupyter-widgets/base",
            "_model_module_version": "1.5.0",
            "_view_count": null,
            "_view_module_version": "1.2.0",
            "bar_color": null,
            "_model_module": "@jupyter-widgets/controls"
          }
        },
        "d71fa657230e427db12945b65c59e302": {
          "model_module": "@jupyter-widgets/base",
          "model_name": "LayoutModel",
          "state": {
            "_view_name": "LayoutView",
            "grid_template_rows": null,
            "right": null,
            "justify_content": null,
            "_view_module": "@jupyter-widgets/base",
            "overflow": null,
            "_model_module_version": "1.2.0",
            "_view_count": null,
            "flex_flow": null,
            "width": null,
            "min_width": null,
            "border": null,
            "align_items": null,
            "bottom": null,
            "_model_module": "@jupyter-widgets/base",
            "top": null,
            "grid_column": null,
            "overflow_y": null,
            "overflow_x": null,
            "grid_auto_flow": null,
            "grid_area": null,
            "grid_template_columns": null,
            "flex": null,
            "_model_name": "LayoutModel",
            "justify_items": null,
            "grid_row": null,
            "max_height": null,
            "align_content": null,
            "visibility": null,
            "align_self": null,
            "height": null,
            "min_height": null,
            "padding": null,
            "grid_auto_rows": null,
            "grid_gap": null,
            "max_width": null,
            "order": null,
            "_view_module_version": "1.2.0",
            "grid_template_areas": null,
            "object_position": null,
            "object_fit": null,
            "grid_auto_columns": null,
            "margin": null,
            "display": null,
            "left": null
          }
        },
        "78a771945426423c87f833b73102ddf0": {
          "model_module": "@jupyter-widgets/controls",
          "model_name": "DescriptionStyleModel",
          "state": {
            "_view_name": "StyleView",
            "_model_name": "DescriptionStyleModel",
            "description_width": "",
            "_view_module": "@jupyter-widgets/base",
            "_model_module_version": "1.5.0",
            "_view_count": null,
            "_view_module_version": "1.2.0",
            "_model_module": "@jupyter-widgets/controls"
          }
        },
        "3199ddd0b94b45999ac111fd48b59c53": {
          "model_module": "@jupyter-widgets/base",
          "model_name": "LayoutModel",
          "state": {
            "_view_name": "LayoutView",
            "grid_template_rows": null,
            "right": null,
            "justify_content": null,
            "_view_module": "@jupyter-widgets/base",
            "overflow": null,
            "_model_module_version": "1.2.0",
            "_view_count": null,
            "flex_flow": null,
            "width": null,
            "min_width": null,
            "border": null,
            "align_items": null,
            "bottom": null,
            "_model_module": "@jupyter-widgets/base",
            "top": null,
            "grid_column": null,
            "overflow_y": null,
            "overflow_x": null,
            "grid_auto_flow": null,
            "grid_area": null,
            "grid_template_columns": null,
            "flex": null,
            "_model_name": "LayoutModel",
            "justify_items": null,
            "grid_row": null,
            "max_height": null,
            "align_content": null,
            "visibility": null,
            "align_self": null,
            "height": null,
            "min_height": null,
            "padding": null,
            "grid_auto_rows": null,
            "grid_gap": null,
            "max_width": null,
            "order": null,
            "_view_module_version": "1.2.0",
            "grid_template_areas": null,
            "object_position": null,
            "object_fit": null,
            "grid_auto_columns": null,
            "margin": null,
            "display": null,
            "left": null
          }
        },
        "c582af09ba1e4696a0d5c4825f95bd53": {
          "model_module": "@jupyter-widgets/controls",
          "model_name": "HBoxModel",
          "state": {
            "_view_name": "HBoxView",
            "_dom_classes": [],
            "_model_name": "HBoxModel",
            "_view_module": "@jupyter-widgets/controls",
            "_model_module_version": "1.5.0",
            "_view_count": null,
            "_view_module_version": "1.5.0",
            "box_style": "",
            "layout": "IPY_MODEL_7f6486409d59438084ea735f73476b84",
            "_model_module": "@jupyter-widgets/controls",
            "children": [
              "IPY_MODEL_39f291f4928140429aafb80a682960bb",
              "IPY_MODEL_a15670fcbe3e494cbb6a51cf56688dfa"
            ]
          }
        },
        "7f6486409d59438084ea735f73476b84": {
          "model_module": "@jupyter-widgets/base",
          "model_name": "LayoutModel",
          "state": {
            "_view_name": "LayoutView",
            "grid_template_rows": null,
            "right": null,
            "justify_content": null,
            "_view_module": "@jupyter-widgets/base",
            "overflow": null,
            "_model_module_version": "1.2.0",
            "_view_count": null,
            "flex_flow": null,
            "width": null,
            "min_width": null,
            "border": null,
            "align_items": null,
            "bottom": null,
            "_model_module": "@jupyter-widgets/base",
            "top": null,
            "grid_column": null,
            "overflow_y": null,
            "overflow_x": null,
            "grid_auto_flow": null,
            "grid_area": null,
            "grid_template_columns": null,
            "flex": null,
            "_model_name": "LayoutModel",
            "justify_items": null,
            "grid_row": null,
            "max_height": null,
            "align_content": null,
            "visibility": null,
            "align_self": null,
            "height": null,
            "min_height": null,
            "padding": null,
            "grid_auto_rows": null,
            "grid_gap": null,
            "max_width": null,
            "order": null,
            "_view_module_version": "1.2.0",
            "grid_template_areas": null,
            "object_position": null,
            "object_fit": null,
            "grid_auto_columns": null,
            "margin": null,
            "display": null,
            "left": null
          }
        },
        "39f291f4928140429aafb80a682960bb": {
          "model_module": "@jupyter-widgets/controls",
          "model_name": "FloatProgressModel",
          "state": {
            "_view_name": "ProgressView",
            "style": "IPY_MODEL_a7f300e593724ae8a5ad88d2156bbccf",
            "_dom_classes": [],
            "description": "100%",
            "_model_name": "FloatProgressModel",
            "bar_style": "success",
            "max": 10000,
            "_view_module": "@jupyter-widgets/controls",
            "_model_module_version": "1.5.0",
            "value": 10000,
            "_view_count": null,
            "_view_module_version": "1.5.0",
            "orientation": "horizontal",
            "min": 0,
            "description_tooltip": null,
            "_model_module": "@jupyter-widgets/controls",
            "layout": "IPY_MODEL_b96a61dba45443b59bc3865ff3e912a9"
          }
        },
        "a15670fcbe3e494cbb6a51cf56688dfa": {
          "model_module": "@jupyter-widgets/controls",
          "model_name": "HTMLModel",
          "state": {
            "_view_name": "HTMLView",
            "style": "IPY_MODEL_2b2505adac064b62b5db5de0b94485ea",
            "_dom_classes": [],
            "description": "",
            "_model_name": "HTMLModel",
            "placeholder": "​",
            "_view_module": "@jupyter-widgets/controls",
            "_model_module_version": "1.5.0",
            "value": " 10000/10000 [01:04&lt;00:00, 153.92it/s]",
            "_view_count": null,
            "_view_module_version": "1.5.0",
            "description_tooltip": null,
            "_model_module": "@jupyter-widgets/controls",
            "layout": "IPY_MODEL_a5cd9d8edd504e27b944f46a875ac585"
          }
        },
        "a7f300e593724ae8a5ad88d2156bbccf": {
          "model_module": "@jupyter-widgets/controls",
          "model_name": "ProgressStyleModel",
          "state": {
            "_view_name": "StyleView",
            "_model_name": "ProgressStyleModel",
            "description_width": "initial",
            "_view_module": "@jupyter-widgets/base",
            "_model_module_version": "1.5.0",
            "_view_count": null,
            "_view_module_version": "1.2.0",
            "bar_color": null,
            "_model_module": "@jupyter-widgets/controls"
          }
        },
        "b96a61dba45443b59bc3865ff3e912a9": {
          "model_module": "@jupyter-widgets/base",
          "model_name": "LayoutModel",
          "state": {
            "_view_name": "LayoutView",
            "grid_template_rows": null,
            "right": null,
            "justify_content": null,
            "_view_module": "@jupyter-widgets/base",
            "overflow": null,
            "_model_module_version": "1.2.0",
            "_view_count": null,
            "flex_flow": null,
            "width": null,
            "min_width": null,
            "border": null,
            "align_items": null,
            "bottom": null,
            "_model_module": "@jupyter-widgets/base",
            "top": null,
            "grid_column": null,
            "overflow_y": null,
            "overflow_x": null,
            "grid_auto_flow": null,
            "grid_area": null,
            "grid_template_columns": null,
            "flex": null,
            "_model_name": "LayoutModel",
            "justify_items": null,
            "grid_row": null,
            "max_height": null,
            "align_content": null,
            "visibility": null,
            "align_self": null,
            "height": null,
            "min_height": null,
            "padding": null,
            "grid_auto_rows": null,
            "grid_gap": null,
            "max_width": null,
            "order": null,
            "_view_module_version": "1.2.0",
            "grid_template_areas": null,
            "object_position": null,
            "object_fit": null,
            "grid_auto_columns": null,
            "margin": null,
            "display": null,
            "left": null
          }
        },
        "2b2505adac064b62b5db5de0b94485ea": {
          "model_module": "@jupyter-widgets/controls",
          "model_name": "DescriptionStyleModel",
          "state": {
            "_view_name": "StyleView",
            "_model_name": "DescriptionStyleModel",
            "description_width": "",
            "_view_module": "@jupyter-widgets/base",
            "_model_module_version": "1.5.0",
            "_view_count": null,
            "_view_module_version": "1.2.0",
            "_model_module": "@jupyter-widgets/controls"
          }
        },
        "a5cd9d8edd504e27b944f46a875ac585": {
          "model_module": "@jupyter-widgets/base",
          "model_name": "LayoutModel",
          "state": {
            "_view_name": "LayoutView",
            "grid_template_rows": null,
            "right": null,
            "justify_content": null,
            "_view_module": "@jupyter-widgets/base",
            "overflow": null,
            "_model_module_version": "1.2.0",
            "_view_count": null,
            "flex_flow": null,
            "width": null,
            "min_width": null,
            "border": null,
            "align_items": null,
            "bottom": null,
            "_model_module": "@jupyter-widgets/base",
            "top": null,
            "grid_column": null,
            "overflow_y": null,
            "overflow_x": null,
            "grid_auto_flow": null,
            "grid_area": null,
            "grid_template_columns": null,
            "flex": null,
            "_model_name": "LayoutModel",
            "justify_items": null,
            "grid_row": null,
            "max_height": null,
            "align_content": null,
            "visibility": null,
            "align_self": null,
            "height": null,
            "min_height": null,
            "padding": null,
            "grid_auto_rows": null,
            "grid_gap": null,
            "max_width": null,
            "order": null,
            "_view_module_version": "1.2.0",
            "grid_template_areas": null,
            "object_position": null,
            "object_fit": null,
            "grid_auto_columns": null,
            "margin": null,
            "display": null,
            "left": null
          }
        }
      }
    }
  },
  "cells": [
    {
      "cell_type": "markdown",
      "metadata": {
        "id": "view-in-github",
        "colab_type": "text"
      },
      "source": [
        "<a href=\"https://colab.research.google.com/github/Danika-Balas/msds-458/blob/master/PCam_Dev10k.ipynb\" target=\"_parent\"><img src=\"https://colab.research.google.com/assets/colab-badge.svg\" alt=\"Open In Colab\"/></a>"
      ]
    },
    {
      "cell_type": "markdown",
      "metadata": {
        "id": "EuIf4MgbWCkt",
        "colab_type": "text"
      },
      "source": [
        "#Introduction"
      ]
    },
    {
      "cell_type": "markdown",
      "metadata": {
        "id": "QUmBtNT9WGVj",
        "colab_type": "text"
      },
      "source": [
        "Data is a modified version of the PCam dataset--duplicates have been removed. The goal is to classify the images as cancerous or non-cancerous. A positive label indicates that the center 32x32px region of a patch contains at least one pixel of tumor tissue. Tumor tissue in the outer region of the patch does not influence the label.\n",
        "https://www.kaggle.com/c/histopathologic-cancer-detection/data?select=train_labels.csv "
      ]
    },
    {
      "cell_type": "markdown",
      "metadata": {
        "id": "rfFzZqWf8qfG",
        "colab_type": "text"
      },
      "source": [
        "###Acknowledgements\n",
        "Code was adapted from the following notebooks:\n",
        "\n",
        "https://www.kaggle.com/gomezp/complete-beginner-s-guide-eda-keras-lb-0-93\n",
        "\n",
        "https://www.kaggle.com/vbookshelf/cnn-how-to-use-160-000-images-without-crashing\n",
        "\n",
        "https://www.kaggle.com/artgor/simple-eda-and-model-in-pytorch\n"
      ]
    },
    {
      "cell_type": "markdown",
      "metadata": {
        "id": "46ktLwNXWRrL",
        "colab_type": "text"
      },
      "source": [
        "#Setup and Preprocessing"
      ]
    },
    {
      "cell_type": "code",
      "metadata": {
        "id": "bVUBcfj6V8wV",
        "colab_type": "code",
        "outputId": "85f2e42b-8abd-4031-e626-cdc792548120",
        "colab": {
          "base_uri": "https://localhost:8080/",
          "height": 34
        }
      },
      "source": [
        "import numpy as np\n",
        "import pandas as pd\n",
        "\n",
        "import seaborn as sns\n",
        "\n",
        "import matplotlib.pyplot as plt\n",
        "#%matplotlib inline\n",
        "#sns.set(style=\"whitegrid\")\n",
        "\n",
        "from sklearn import metrics\n",
        "from sklearn.model_selection import train_test_split\n",
        "from sklearn.metrics import roc_curve, auc, roc_auc_score\n",
        "\n",
        "import os, random\n",
        "from random import shuffle\n",
        "import cv2 #image processing\n",
        "from glob import glob #for easily finding matching filenames \n",
        "from tqdm import tqdm, tqdm_notebook, trange #progress bar\n",
        "import gc #garbage collection, for saving RAM\n",
        "\n",
        "import tensorflow as tf\n",
        "from tensorflow import keras\n",
        "keras.__version__"
      ],
      "execution_count": 249,
      "outputs": [
        {
          "output_type": "execute_result",
          "data": {
            "text/plain": [
              "'2.3.0-tf'"
            ]
          },
          "metadata": {
            "tags": []
          },
          "execution_count": 249
        }
      ]
    },
    {
      "cell_type": "code",
      "metadata": {
        "id": "1bUQV47mV16w",
        "colab_type": "code",
        "colab": {}
      },
      "source": [
        "from keras import metrics\n",
        "from keras import models\n",
        "from keras import layers"
      ],
      "execution_count": 0,
      "outputs": []
    },
    {
      "cell_type": "markdown",
      "metadata": {
        "id": "977XrOffXG91",
        "colab_type": "text"
      },
      "source": [
        "##Upload data"
      ]
    },
    {
      "cell_type": "code",
      "metadata": {
        "id": "uS6bECQbW92Z",
        "colab_type": "code",
        "outputId": "4162f796-381c-437a-9b66-c086d9cc53ab",
        "colab": {
          "base_uri": "https://localhost:8080/",
          "height": 34
        }
      },
      "source": [
        "from google.colab import drive\n",
        "drive.mount('/content/drive')"
      ],
      "execution_count": 251,
      "outputs": [
        {
          "output_type": "stream",
          "text": [
            "Drive already mounted at /content/drive; to attempt to forcibly remount, call drive.mount(\"/content/drive\", force_remount=True).\n"
          ],
          "name": "stdout"
        }
      ]
    },
    {
      "cell_type": "markdown",
      "metadata": {
        "id": "ZtYtcPBdiLzk",
        "colab_type": "text"
      },
      "source": [
        "Code executed once to unzip the files, then commented out:"
      ]
    },
    {
      "cell_type": "code",
      "metadata": {
        "id": "SOhx0-FRXNzY",
        "colab_type": "code",
        "colab": {}
      },
      "source": [
        "# #unzip set of training files (smaller dataset to make sure it works)\n",
        "# !unzip -uq \"/content/drive/My Drive/MSDS 458/PCam/sampleTrain.zip\" -d \"/content/drive/My Drive/MSDS 458/PCam/unzipped/sampleTrain\""
      ],
      "execution_count": 0,
      "outputs": []
    },
    {
      "cell_type": "code",
      "metadata": {
        "id": "hITzW1Qcb90s",
        "colab_type": "code",
        "outputId": "276d233b-3d8d-4757-a555-3d6bb3d31c26",
        "colab": {
          "base_uri": "https://localhost:8080/",
          "height": 71
        }
      },
      "source": [
        "#Check whether sample files are readable\n",
        "sample_names = os.listdir('/content/drive/My Drive/MSDS 458/PCam/unzipped/sampleTrain/sampleTrain')\n",
        "print(f'{len(sample_names)} files in sample directory')\n",
        "print(sample_names[:5])"
      ],
      "execution_count": 253,
      "outputs": [
        {
          "output_type": "stream",
          "text": [
            "10 files in sample directory\n",
            "['00a0ad1de2cdf805f02c524a985bca5bce1d1b5f.tif', '0a0a8bdf1d78af77dcc0b94aef6fb5c2f841a3c0.tif', '0a0a2e923bdedb11f270dcd3f11d0f001df98f00.tif', '0a0d1a09e5cf9fcc308ecdc210450aecd204d344.tif', '0a0b4604d66cecfe668e26383c22fafb74484eef.tif']\n"
          ],
          "name": "stdout"
        }
      ]
    },
    {
      "cell_type": "markdown",
      "metadata": {
        "id": "7arAHAd02BbG",
        "colab_type": "text"
      },
      "source": [
        "Starting with 10,000 training files in order develop model\n",
        "\n",
        "Be sure to change path below when adding more files"
      ]
    },
    {
      "cell_type": "code",
      "metadata": {
        "id": "cwML_g3SckkP",
        "colab_type": "code",
        "colab": {}
      },
      "source": [
        "# #unzip set of training files\n",
        "# !unzip -uq \"/content/drive/My Drive/MSDS 458/PCam/train10.zip\" -d \"/content/drive/My Drive/MSDS 458/PCam/unzipped/train\""
      ],
      "execution_count": 0,
      "outputs": []
    },
    {
      "cell_type": "code",
      "metadata": {
        "id": "UNA6TEjlAW5x",
        "colab_type": "code",
        "colab": {}
      },
      "source": [
        "# drive.mount(\"/content/drive\", force_remount=True)"
      ],
      "execution_count": 0,
      "outputs": []
    },
    {
      "cell_type": "code",
      "metadata": {
        "id": "U6mu0zFJiqax",
        "colab_type": "code",
        "outputId": "abb8a793-c111-4cf6-cf7e-5a319c67ecf4",
        "colab": {
          "base_uri": "https://localhost:8080/",
          "height": 71
        }
      },
      "source": [
        "#Check whether sample files are readable\n",
        "train_names = os.listdir('/content/drive/My Drive/MSDS 458/PCam/unzipped/train/train10')\n",
        "print(f'{len(train_names)} files in training directory')\n",
        "print(train_names[:5])"
      ],
      "execution_count": 256,
      "outputs": [
        {
          "output_type": "stream",
          "text": [
            "10000 files in training directory\n",
            "['98fd60e94bfb24264403c55339c1796eb600b456.tif', '98c96c61647457e6c4a4d277c373834069eca0a8.tif', '98e570bcbc7f928a0caff3fec9e6f3b0e9abc66d.tif', '98defffe091541cc07bae3c7e73993462c7ede91.tif', '98ce67acddba7d19ce88c35ecfea0540d1e631d1.tif']\n"
          ],
          "name": "stdout"
        }
      ]
    },
    {
      "cell_type": "markdown",
      "metadata": {
        "id": "bpw2zhs8kyqr",
        "colab_type": "text"
      },
      "source": [
        "Code below to unzip testing data. It has not been run yet it order to save space on Drive."
      ]
    },
    {
      "cell_type": "code",
      "metadata": {
        "id": "D1vMDizZlAoV",
        "colab_type": "code",
        "colab": {}
      },
      "source": [
        "# #unzip set of testing files \n",
        "# !unzip -uq \"/content/drive/My Drive/MSDS 458/PCam/test.zip\" -d \"/content/drive/My Drive/MSDS 458/PCam/unzipped/test\""
      ],
      "execution_count": 0,
      "outputs": []
    },
    {
      "cell_type": "code",
      "metadata": {
        "id": "kJhpmt1LlGeE",
        "colab_type": "code",
        "colab": {}
      },
      "source": [
        "# #Check whether sample files are readable\n",
        "# test_names = os.listdir('/content/drive/My Drive/MSDS 458/PCam/unzipped/test')\n",
        "# print(f'{len(test_names)} files in testing directory')\n",
        "# print(test_names[:5])"
      ],
      "execution_count": 0,
      "outputs": []
    },
    {
      "cell_type": "markdown",
      "metadata": {
        "id": "1JGeNvb0rbWB",
        "colab_type": "text"
      },
      "source": [
        "##Set paths"
      ]
    },
    {
      "cell_type": "code",
      "metadata": {
        "id": "otvpvIUmrgDP",
        "colab_type": "code",
        "colab": {}
      },
      "source": [
        "path = '/content/drive/My Drive/MSDS 458/PCam/unzipped/'\n",
        "train_path = path+'train/train10'\n",
        "test_path =  path+'test/'\n",
        "sample_path = path+'sampleTrain/sampleTrain'  #contains 10 images, simply for testing data can be read"
      ],
      "execution_count": 0,
      "outputs": []
    },
    {
      "cell_type": "markdown",
      "metadata": {
        "id": "9mh-cSUzjERn",
        "colab_type": "text"
      },
      "source": [
        "##Load labels and filenames"
      ]
    },
    {
      "cell_type": "code",
      "metadata": {
        "id": "c9MPGFROkvn1",
        "colab_type": "code",
        "colab": {}
      },
      "source": [
        "labels = pd.read_csv('/content/drive/My Drive/MSDS 458/PCam/train_labels.csv')"
      ],
      "execution_count": 0,
      "outputs": []
    },
    {
      "cell_type": "code",
      "metadata": {
        "id": "8WdlM0jl7tXm",
        "colab_type": "code",
        "colab": {
          "base_uri": "https://localhost:8080/",
          "height": 204
        },
        "outputId": "da9b1e76-58c8-4f5d-d1e2-7d4c749c0689"
      },
      "source": [
        "df = pd.DataFrame({'path': glob(os.path.join(train_path,'*.tif'))}) # load the filenames\n",
        "df['id'] = df.path.map(lambda x: x.split('/')[9].split(\".\")[0]) # keep only the file names in 'id'\n",
        "df.head()"
      ],
      "execution_count": 261,
      "outputs": [
        {
          "output_type": "execute_result",
          "data": {
            "text/html": [
              "<div>\n",
              "<style scoped>\n",
              "    .dataframe tbody tr th:only-of-type {\n",
              "        vertical-align: middle;\n",
              "    }\n",
              "\n",
              "    .dataframe tbody tr th {\n",
              "        vertical-align: top;\n",
              "    }\n",
              "\n",
              "    .dataframe thead th {\n",
              "        text-align: right;\n",
              "    }\n",
              "</style>\n",
              "<table border=\"1\" class=\"dataframe\">\n",
              "  <thead>\n",
              "    <tr style=\"text-align: right;\">\n",
              "      <th></th>\n",
              "      <th>path</th>\n",
              "      <th>id</th>\n",
              "    </tr>\n",
              "  </thead>\n",
              "  <tbody>\n",
              "    <tr>\n",
              "      <th>0</th>\n",
              "      <td>/content/drive/My Drive/MSDS 458/PCam/unzipped...</td>\n",
              "      <td>98fd60e94bfb24264403c55339c1796eb600b456</td>\n",
              "    </tr>\n",
              "    <tr>\n",
              "      <th>1</th>\n",
              "      <td>/content/drive/My Drive/MSDS 458/PCam/unzipped...</td>\n",
              "      <td>98c96c61647457e6c4a4d277c373834069eca0a8</td>\n",
              "    </tr>\n",
              "    <tr>\n",
              "      <th>2</th>\n",
              "      <td>/content/drive/My Drive/MSDS 458/PCam/unzipped...</td>\n",
              "      <td>98e570bcbc7f928a0caff3fec9e6f3b0e9abc66d</td>\n",
              "    </tr>\n",
              "    <tr>\n",
              "      <th>3</th>\n",
              "      <td>/content/drive/My Drive/MSDS 458/PCam/unzipped...</td>\n",
              "      <td>98defffe091541cc07bae3c7e73993462c7ede91</td>\n",
              "    </tr>\n",
              "    <tr>\n",
              "      <th>4</th>\n",
              "      <td>/content/drive/My Drive/MSDS 458/PCam/unzipped...</td>\n",
              "      <td>98ce67acddba7d19ce88c35ecfea0540d1e631d1</td>\n",
              "    </tr>\n",
              "  </tbody>\n",
              "</table>\n",
              "</div>"
            ],
            "text/plain": [
              "                                                path                                        id\n",
              "0  /content/drive/My Drive/MSDS 458/PCam/unzipped...  98fd60e94bfb24264403c55339c1796eb600b456\n",
              "1  /content/drive/My Drive/MSDS 458/PCam/unzipped...  98c96c61647457e6c4a4d277c373834069eca0a8\n",
              "2  /content/drive/My Drive/MSDS 458/PCam/unzipped...  98e570bcbc7f928a0caff3fec9e6f3b0e9abc66d\n",
              "3  /content/drive/My Drive/MSDS 458/PCam/unzipped...  98defffe091541cc07bae3c7e73993462c7ede91\n",
              "4  /content/drive/My Drive/MSDS 458/PCam/unzipped...  98ce67acddba7d19ce88c35ecfea0540d1e631d1"
            ]
          },
          "metadata": {
            "tags": []
          },
          "execution_count": 261
        }
      ]
    },
    {
      "cell_type": "code",
      "metadata": {
        "id": "AEFekrtP9L07",
        "colab_type": "code",
        "colab": {}
      },
      "source": [
        "df = df.merge(labels, on = \"id\") # merge labels and filepaths"
      ],
      "execution_count": 0,
      "outputs": []
    },
    {
      "cell_type": "code",
      "metadata": {
        "id": "xnTVjto3-tOs",
        "colab_type": "code",
        "colab": {
          "base_uri": "https://localhost:8080/",
          "height": 204
        },
        "outputId": "6d07acd4-e028-4bc2-b5a2-ec644eb51f95"
      },
      "source": [
        "df.head(5) # print the first five entries"
      ],
      "execution_count": 263,
      "outputs": [
        {
          "output_type": "execute_result",
          "data": {
            "text/html": [
              "<div>\n",
              "<style scoped>\n",
              "    .dataframe tbody tr th:only-of-type {\n",
              "        vertical-align: middle;\n",
              "    }\n",
              "\n",
              "    .dataframe tbody tr th {\n",
              "        vertical-align: top;\n",
              "    }\n",
              "\n",
              "    .dataframe thead th {\n",
              "        text-align: right;\n",
              "    }\n",
              "</style>\n",
              "<table border=\"1\" class=\"dataframe\">\n",
              "  <thead>\n",
              "    <tr style=\"text-align: right;\">\n",
              "      <th></th>\n",
              "      <th>path</th>\n",
              "      <th>id</th>\n",
              "      <th>label</th>\n",
              "    </tr>\n",
              "  </thead>\n",
              "  <tbody>\n",
              "    <tr>\n",
              "      <th>0</th>\n",
              "      <td>/content/drive/My Drive/MSDS 458/PCam/unzipped...</td>\n",
              "      <td>98fd60e94bfb24264403c55339c1796eb600b456</td>\n",
              "      <td>0</td>\n",
              "    </tr>\n",
              "    <tr>\n",
              "      <th>1</th>\n",
              "      <td>/content/drive/My Drive/MSDS 458/PCam/unzipped...</td>\n",
              "      <td>98c96c61647457e6c4a4d277c373834069eca0a8</td>\n",
              "      <td>0</td>\n",
              "    </tr>\n",
              "    <tr>\n",
              "      <th>2</th>\n",
              "      <td>/content/drive/My Drive/MSDS 458/PCam/unzipped...</td>\n",
              "      <td>98e570bcbc7f928a0caff3fec9e6f3b0e9abc66d</td>\n",
              "      <td>0</td>\n",
              "    </tr>\n",
              "    <tr>\n",
              "      <th>3</th>\n",
              "      <td>/content/drive/My Drive/MSDS 458/PCam/unzipped...</td>\n",
              "      <td>98defffe091541cc07bae3c7e73993462c7ede91</td>\n",
              "      <td>1</td>\n",
              "    </tr>\n",
              "    <tr>\n",
              "      <th>4</th>\n",
              "      <td>/content/drive/My Drive/MSDS 458/PCam/unzipped...</td>\n",
              "      <td>98ce67acddba7d19ce88c35ecfea0540d1e631d1</td>\n",
              "      <td>1</td>\n",
              "    </tr>\n",
              "  </tbody>\n",
              "</table>\n",
              "</div>"
            ],
            "text/plain": [
              "                                                path  ... label\n",
              "0  /content/drive/My Drive/MSDS 458/PCam/unzipped...  ...     0\n",
              "1  /content/drive/My Drive/MSDS 458/PCam/unzipped...  ...     0\n",
              "2  /content/drive/My Drive/MSDS 458/PCam/unzipped...  ...     0\n",
              "3  /content/drive/My Drive/MSDS 458/PCam/unzipped...  ...     1\n",
              "4  /content/drive/My Drive/MSDS 458/PCam/unzipped...  ...     1\n",
              "\n",
              "[5 rows x 3 columns]"
            ]
          },
          "metadata": {
            "tags": []
          },
          "execution_count": 263
        }
      ]
    },
    {
      "cell_type": "code",
      "metadata": {
        "id": "ul7B8_2y-w1U",
        "colab_type": "code",
        "colab": {
          "base_uri": "https://localhost:8080/",
          "height": 255
        },
        "outputId": "c0173a63-0bdd-410a-a4bf-60c905bb3c55"
      },
      "source": [
        "print(df.count) #check total number of rows in dataframe"
      ],
      "execution_count": 264,
      "outputs": [
        {
          "output_type": "stream",
          "text": [
            "<bound method DataFrame.count of                                                    path  ... label\n",
            "0     /content/drive/My Drive/MSDS 458/PCam/unzipped...  ...     0\n",
            "1     /content/drive/My Drive/MSDS 458/PCam/unzipped...  ...     0\n",
            "2     /content/drive/My Drive/MSDS 458/PCam/unzipped...  ...     0\n",
            "3     /content/drive/My Drive/MSDS 458/PCam/unzipped...  ...     1\n",
            "4     /content/drive/My Drive/MSDS 458/PCam/unzipped...  ...     1\n",
            "...                                                 ...  ...   ...\n",
            "9995  /content/drive/My Drive/MSDS 458/PCam/unzipped...  ...     1\n",
            "9996  /content/drive/My Drive/MSDS 458/PCam/unzipped...  ...     1\n",
            "9997  /content/drive/My Drive/MSDS 458/PCam/unzipped...  ...     0\n",
            "9998  /content/drive/My Drive/MSDS 458/PCam/unzipped...  ...     1\n",
            "9999  /content/drive/My Drive/MSDS 458/PCam/unzipped...  ...     1\n",
            "\n",
            "[10000 rows x 3 columns]>\n"
          ],
          "name": "stdout"
        }
      ]
    },
    {
      "cell_type": "markdown",
      "metadata": {
        "id": "AW_f2HZu_sIU",
        "colab_type": "text"
      },
      "source": [
        "##Load images"
      ]
    },
    {
      "cell_type": "code",
      "metadata": {
        "id": "pPeADFeC_oua",
        "colab_type": "code",
        "colab": {}
      },
      "source": [
        "def load_data(N,df):\n",
        "    \"\"\" This functions loads N images using the data df\n",
        "    \"\"\"\n",
        "    # allocate a numpy array for the images (N, 96x96px, 3 channels, values 0 - 255)\n",
        "    X = np.zeros([N,96,96,3],dtype=np.uint8) \n",
        "    #convert the labels to a numpy array too\n",
        "    dfLabel=df['label']\n",
        "    y = np.squeeze(dfLabel.to_numpy())[0:N]\n",
        "    #read images one by one, tdqm notebook displays a progress bar\n",
        "    for i, row in tqdm_notebook(df.iterrows(), total=N):\n",
        "        if i == N:\n",
        "            break\n",
        "        X[i] = cv2.imread(row['path'])\n",
        "          \n",
        "    return X,y"
      ],
      "execution_count": 0,
      "outputs": []
    },
    {
      "cell_type": "code",
      "metadata": {
        "id": "uNb81FKL__Ju",
        "colab_type": "code",
        "colab": {
          "base_uri": "https://localhost:8080/",
          "height": 100,
          "referenced_widgets": [
            "88e57e218e65456ea2511930a9b4d045",
            "96f46bb779974cc8b9af44ea3c4a2b35",
            "4905cd8b09884cd0bbc40bfd89ae7963",
            "1e33c88b3882404aa9f527085d191ec0",
            "84bec42cd8704405995d2737ae7ec602",
            "d71fa657230e427db12945b65c59e302",
            "78a771945426423c87f833b73102ddf0",
            "3199ddd0b94b45999ac111fd48b59c53"
          ]
        },
        "outputId": "26a4c7b7-81d2-4e3d-c46a-b28f124c01ef"
      },
      "source": [
        "# Load some of the images\n",
        "N=1000\n",
        "X,y = load_data(N=N,df=df) "
      ],
      "execution_count": 266,
      "outputs": [
        {
          "output_type": "stream",
          "text": [
            "/usr/local/lib/python3.6/dist-packages/ipykernel_launcher.py:10: TqdmDeprecationWarning: This function will be removed in tqdm==5.0.0\n",
            "Please use `tqdm.notebook.tqdm` instead of `tqdm.tqdm_notebook`\n",
            "  # Remove the CWD from sys.path while we load stuff.\n"
          ],
          "name": "stderr"
        },
        {
          "output_type": "display_data",
          "data": {
            "application/vnd.jupyter.widget-view+json": {
              "model_id": "88e57e218e65456ea2511930a9b4d045",
              "version_minor": 0,
              "version_major": 2
            },
            "text/plain": [
              "HBox(children=(FloatProgress(value=0.0, max=1000.0), HTML(value='')))"
            ]
          },
          "metadata": {
            "tags": []
          }
        }
      ]
    },
    {
      "cell_type": "markdown",
      "metadata": {
        "id": "7kIbf365ox3R",
        "colab_type": "text"
      },
      "source": [
        "##EDA"
      ]
    },
    {
      "cell_type": "markdown",
      "metadata": {
        "id": "GKaqlk2UqPuv",
        "colab_type": "text"
      },
      "source": [
        "View some sample images. Non-cancerous samples are labeled 0, and cancerous samples are labeled 1."
      ]
    },
    {
      "cell_type": "code",
      "metadata": {
        "id": "1CWJ-z5hozUm",
        "colab_type": "code",
        "outputId": "d717b175-f786-47fc-e279-5e33da2943e0",
        "colab": {
          "base_uri": "https://localhost:8080/",
          "height": 311
        }
      },
      "source": [
        "fig = plt.figure(figsize=(10, 4), dpi=100)\n",
        "np.random.seed(777) #we can use the seed to get a different set of random images\n",
        "for plotNr,idx in enumerate(np.random.randint(0,N,20)):\n",
        "    ax = fig.add_subplot(2, 20//2, plotNr+1, xticks=[], yticks=[]) #add subplots\n",
        "    plt.imshow(X[idx]) #plot image\n",
        "    ax.set_title('Label: ' + str(y[idx])) #show the label corresponding to the image"
      ],
      "execution_count": 267,
      "outputs": [
        {
          "output_type": "stream",
          "text": [
            "\n"
          ],
          "name": "stdout"
        },
        {
          "output_type": "display_data",
          "data": {
            "image/png": "[encoded data removed]",
            "text/plain": [
              "<Figure size 1000x400 with 20 Axes>"
            ]
          },
          "metadata": {
            "tags": []
          }
        }
      ]
    },
    {
      "cell_type": "markdown",
      "metadata": {
        "id": "6fB3iGh2Oe2m",
        "colab_type": "text"
      },
      "source": [
        "Evaluate the distribution of the two classes"
      ]
    },
    {
      "cell_type": "code",
      "metadata": {
        "id": "__uUhz_-NQsn",
        "colab_type": "code",
        "colab": {
          "base_uri": "https://localhost:8080/",
          "height": 344
        },
        "outputId": "28d8868f-85eb-4081-c33e-ad9a27669f27"
      },
      "source": [
        "plt.figure(figsize=[8,4])\n",
        "plt.bar([0,1], [(y==0).sum(), (y==1).sum()])\n",
        "plt.axis()\n",
        "plt.xticks([0,1],[f\"Negative (N={(y==0).sum()})\",f\"Positive (N={(y==1).sum()})\"],rotation=45)\n",
        "#plt.xticks(rotation=45)\n",
        "#plt.rc('xtick',labelsize=10)\n",
        "plt.ylabel('Samples')\n"
      ],
      "execution_count": 268,
      "outputs": [
        {
          "output_type": "execute_result",
          "data": {
            "text/plain": [
              "Text(0, 0.5, 'Samples')"
            ]
          },
          "metadata": {
            "tags": []
          },
          "execution_count": 268
        },
        {
          "output_type": "display_data",
          "data": {
            "image/png": "[encoded data removed]",
            "text/plain": [
              "<Figure size 576x288 with 1 Axes>"
            ]
          },
          "metadata": {
            "tags": [],
            "needs_background": "light"
          }
        }
      ]
    },
    {
      "cell_type": "code",
      "metadata": {
        "id": "Ri3Zo5Qa3dMU",
        "colab_type": "code",
        "colab": {
          "base_uri": "https://localhost:8080/",
          "height": 34
        },
        "outputId": "31543387-8554-42b0-a98d-ed6785603baa"
      },
      "source": [
        "print(f\"{(y==1).sum()/y.sum()*100} percent of the samples are positive.\")"
      ],
      "execution_count": 269,
      "outputs": [
        {
          "output_type": "stream",
          "text": [
            "100.0 percent of the samples are positive.\n"
          ],
          "name": "stdout"
        }
      ]
    },
    {
      "cell_type": "markdown",
      "metadata": {
        "id": "ZGtn7rtYc4kG",
        "colab_type": "text"
      },
      "source": [
        "###To evaluate the classes individually"
      ]
    },
    {
      "cell_type": "code",
      "metadata": {
        "id": "IKBTWyvndA9C",
        "colab_type": "code",
        "colab": {}
      },
      "source": [
        "positive_samples = X[y == 1]\n",
        "negative_samples = X[y == 0]"
      ],
      "execution_count": 0,
      "outputs": []
    },
    {
      "cell_type": "markdown",
      "metadata": {
        "id": "D3QS8JhwdHzB",
        "colab_type": "text"
      },
      "source": [
        "Look at the distribution of the pixels for each color channel"
      ]
    },
    {
      "cell_type": "code",
      "metadata": {
        "id": "BUW6VMQldOnV",
        "colab_type": "code",
        "colab": {}
      },
      "source": [
        "# nr_of_bins = 256 #each possible pixel value will get a bin in the following histograms\n",
        "# fig,axs = plt.subplots(4,2,sharey=True,figsize=(8,8),dpi=150)\n",
        "\n",
        "# #RGB channels\n",
        "# axs[0,0].hist(positive_samples[:,:,:,0].flatten(),bins=nr_of_bins,density=True)\n",
        "# axs[0,1].hist(negative_samples[:,:,:,0].flatten(),bins=nr_of_bins,density=True)\n",
        "# axs[1,0].hist(positive_samples[:,:,:,1].flatten(),bins=nr_of_bins,density=True)\n",
        "# axs[1,1].hist(negative_samples[:,:,:,1].flatten(),bins=nr_of_bins,density=True)\n",
        "# axs[2,0].hist(positive_samples[:,:,:,2].flatten(),bins=nr_of_bins,density=True)\n",
        "# axs[2,1].hist(negative_samples[:,:,:,2].flatten(),bins=nr_of_bins,density=True)\n",
        "\n",
        "# #All channels\n",
        "# axs[3,0].hist(positive_samples.flatten(),bins=nr_of_bins,density=True)\n",
        "# axs[3,1].hist(negative_samples.flatten(),bins=nr_of_bins,density=True)\n",
        "\n",
        "# #Set image labels\n",
        "# axs[0,0].set_title(\"Positive samples (N =\" + str(positive_samples.shape[0]) + \")\");\n",
        "# axs[0,1].set_title(\"Negative samples (N =\" + str(negative_samples.shape[0]) + \")\");\n",
        "# axs[0,1].set_ylabel(\"Red\",rotation='horizontal',labelpad=35,fontsize=12)\n",
        "# axs[1,1].set_ylabel(\"Green\",rotation='horizontal',labelpad=35,fontsize=12)\n",
        "# axs[2,1].set_ylabel(\"Blue\",rotation='horizontal',labelpad=35,fontsize=12)\n",
        "# axs[3,1].set_ylabel(\"RGB\",rotation='horizontal',labelpad=35,fontsize=12)\n",
        "# for i in range(4):\n",
        "#     axs[i,0].set_ylabel(\"Relative frequency\")\n",
        "# axs[3,0].set_xlabel(\"Pixel value\")\n",
        "# axs[3,1].set_xlabel(\"Pixel value\")\n",
        "# fig.tight_layout()"
      ],
      "execution_count": 0,
      "outputs": []
    },
    {
      "cell_type": "code",
      "metadata": {
        "id": "TBe8GEDWd_2r",
        "colab_type": "code",
        "colab": {
          "base_uri": "https://localhost:8080/",
          "height": 367
        },
        "outputId": "b1e2b274-d301-42ec-ca95-e72c7085a535"
      },
      "source": [
        "nr_of_bins = 64 #we use a bit fewer bins to get a smoother image\n",
        "fig,axs = plt.subplots(1,2,sharey=True, sharex = True, figsize=(8,2),dpi=150)\n",
        "axs[0].hist(np.mean(positive_samples,axis=(1,2,3)),bins=nr_of_bins,density=True);\n",
        "axs[1].hist(np.mean(negative_samples,axis=(1,2,3)),bins=nr_of_bins,density=True);\n",
        "axs[0].set_title(\"Mean brightness, positive samples\");\n",
        "axs[1].set_title(\"Mean brightness, negative samples\");\n",
        "axs[0].set_xlabel(\"Image mean brightness\")\n",
        "axs[1].set_xlabel(\"Image mean brightness\")\n",
        "axs[0].set_ylabel(\"Relative frequency\")\n",
        "axs[1].set_ylabel(\"Relative frequency\");"
      ],
      "execution_count": 272,
      "outputs": [
        {
          "output_type": "display_data",
          "data": {
            "image/png": "[encoded data removed]",
            "text/plain": [
              "<Figure size 1200x300 with 2 Axes>"
            ]
          },
          "metadata": {
            "tags": [],
            "needs_background": "light"
          }
        }
      ]
    },
    {
      "cell_type": "code",
      "metadata": {
        "id": "22_315iJeNsI",
        "colab_type": "code",
        "colab": {}
      },
      "source": [
        "#Clean up variables to free up RAM\n",
        "#Collect garbage\n",
        "positives_samples = None\n",
        "negative_samples = None\n",
        "gc.collect();"
      ],
      "execution_count": 0,
      "outputs": []
    },
    {
      "cell_type": "markdown",
      "metadata": {
        "id": "r694e4euZDvU",
        "colab_type": "text"
      },
      "source": [
        "#Prepare data for modeling"
      ]
    },
    {
      "cell_type": "code",
      "metadata": {
        "id": "CZcz-oTpZDcL",
        "colab_type": "code",
        "colab": {
          "base_uri": "https://localhost:8080/",
          "height": 117,
          "referenced_widgets": [
            "c582af09ba1e4696a0d5c4825f95bd53",
            "7f6486409d59438084ea735f73476b84",
            "39f291f4928140429aafb80a682960bb",
            "a15670fcbe3e494cbb6a51cf56688dfa",
            "a7f300e593724ae8a5ad88d2156bbccf",
            "b96a61dba45443b59bc3865ff3e912a9",
            "2b2505adac064b62b5db5de0b94485ea",
            "a5cd9d8edd504e27b944f46a875ac585"
          ]
        },
        "outputId": "c1d5db33-951a-4f31-cb38-167f65e9f7e4"
      },
      "source": [
        "#Load remainder of dataset\n",
        "N = df[\"path\"].size # get the number of images in the training data set\n",
        "X,y = load_data(N=N,df=df)\n"
      ],
      "execution_count": 274,
      "outputs": [
        {
          "output_type": "stream",
          "text": [
            "/usr/local/lib/python3.6/dist-packages/ipykernel_launcher.py:10: TqdmDeprecationWarning: This function will be removed in tqdm==5.0.0\n",
            "Please use `tqdm.notebook.tqdm` instead of `tqdm.tqdm_notebook`\n",
            "  # Remove the CWD from sys.path while we load stuff.\n"
          ],
          "name": "stderr"
        },
        {
          "output_type": "display_data",
          "data": {
            "application/vnd.jupyter.widget-view+json": {
              "model_id": "c582af09ba1e4696a0d5c4825f95bd53",
              "version_minor": 0,
              "version_major": 2
            },
            "text/plain": [
              "HBox(children=(FloatProgress(value=0.0, max=10000.0), HTML(value='')))"
            ]
          },
          "metadata": {
            "tags": []
          }
        },
        {
          "output_type": "stream",
          "text": [
            "\n"
          ],
          "name": "stdout"
        }
      ]
    },
    {
      "cell_type": "markdown",
      "metadata": {
        "id": "4aCbSzQjcoev",
        "colab_type": "text"
      },
      "source": [
        "##Train test split"
      ]
    },
    {
      "cell_type": "code",
      "metadata": {
        "id": "agpN_Ph0aE1K",
        "colab_type": "code",
        "colab": {}
      },
      "source": [
        "# Split into train and test (80/20)\n",
        "from sklearn.model_selection import train_test_split\n",
        "X_train, X_test, y_train, y_test = train_test_split(X, y, test_size=0.2, random_state=42)"
      ],
      "execution_count": 0,
      "outputs": []
    },
    {
      "cell_type": "code",
      "metadata": {
        "id": "XKKhHhN-l3sA",
        "colab_type": "code",
        "colab": {
          "base_uri": "https://localhost:8080/",
          "height": 0
        },
        "outputId": "72e7958e-032a-4a66-be9c-4f0e834524a3"
      },
      "source": [
        "X_train.shape, X_test.shape, y_train.shape, y_test.shape"
      ],
      "execution_count": 276,
      "outputs": [
        {
          "output_type": "execute_result",
          "data": {
            "text/plain": [
              "((8000, 96, 96, 3), (2000, 96, 96, 3), (8000,), (2000,))"
            ]
          },
          "metadata": {
            "tags": []
          },
          "execution_count": 276
        }
      ]
    },
    {
      "cell_type": "markdown",
      "metadata": {
        "id": "43HW321Efw8j",
        "colab_type": "text"
      },
      "source": [
        "#Define callbacks for training/testing times"
      ]
    },
    {
      "cell_type": "code",
      "metadata": {
        "id": "jowqucp9f0Bx",
        "colab_type": "code",
        "colab": {}
      },
      "source": [
        "# Define callback to get total training time\n",
        "import datetime\n",
        "\n",
        "class TrainRuntimeCallback(keras.callbacks.Callback):\n",
        "\n",
        "  def on_train_begin(self,logs={}):\n",
        "    self.start = datetime.datetime.now()\n",
        "\n",
        "  def on_train_end(self,logs={}):\n",
        "    self.process_time = (datetime.datetime.now() - self.start).total_seconds()"
      ],
      "execution_count": 0,
      "outputs": []
    },
    {
      "cell_type": "code",
      "metadata": {
        "id": "Xjq-1R9xgH3J",
        "colab_type": "code",
        "colab": {}
      },
      "source": [
        "# Define callback to get total test time\n",
        "import datetime\n",
        "\n",
        "class TestRuntimeCallback(keras.callbacks.Callback):\n",
        "\n",
        "  def on_test_begin(self,logs={}):\n",
        "    self.start = datetime.datetime.now()\n",
        "\n",
        "  def on_test_end(self,logs={}):\n",
        "    self.process_time = (datetime.datetime.now() - self.start).total_seconds()"
      ],
      "execution_count": 0,
      "outputs": []
    },
    {
      "cell_type": "markdown",
      "metadata": {
        "id": "kBYrgKeV10O-",
        "colab_type": "text"
      },
      "source": [
        "#Experiment 1:DNN\n",
        "Establish a baseline"
      ]
    },
    {
      "cell_type": "markdown",
      "metadata": {
        "id": "h072pR90f8Pv",
        "colab_type": "text"
      },
      "source": [
        "##Build and compile the model"
      ]
    },
    {
      "cell_type": "code",
      "metadata": {
        "id": "NmjWF9nl8a-Y",
        "colab_type": "code",
        "colab": {
          "base_uri": "https://localhost:8080/",
          "height": 255
        },
        "outputId": "49374776-308d-46c1-f8e0-3ec6b969ef03"
      },
      "source": [
        "model = models.Sequential()\n",
        "\n",
        "model.add(layers.Flatten(input_shape=(96, 96, 3)))\n",
        "model.add(layers.Dense(100, activation='relu'))\n",
        "model.add(layers.Dense(1, activation='sigmoid'))\n",
        "\n",
        "model.summary()"
      ],
      "execution_count": 279,
      "outputs": [
        {
          "output_type": "stream",
          "text": [
            "Model: \"sequential_15\"\n",
            "_________________________________________________________________\n",
            "Layer (type)                 Output Shape              Param #   \n",
            "=================================================================\n",
            "flatten_13 (Flatten)         (None, 27648)             0         \n",
            "_________________________________________________________________\n",
            "dense_32 (Dense)             (None, 100)               2764900   \n",
            "_________________________________________________________________\n",
            "dense_33 (Dense)             (None, 1)                 101       \n",
            "=================================================================\n",
            "Total params: 2,765,001\n",
            "Trainable params: 2,765,001\n",
            "Non-trainable params: 0\n",
            "_________________________________________________________________\n"
          ],
          "name": "stdout"
        }
      ]
    },
    {
      "cell_type": "code",
      "metadata": {
        "id": "rzymbDjbf18b",
        "colab_type": "code",
        "colab": {}
      },
      "source": [
        "model.compile(loss='binary_crossentropy', \n",
        "                   optimizer='adam',  \n",
        "                   metrics=['accuracy'])"
      ],
      "execution_count": 0,
      "outputs": []
    },
    {
      "cell_type": "markdown",
      "metadata": {
        "id": "CAvfwEE66i7x",
        "colab_type": "text"
      },
      "source": [
        "##Train the model"
      ]
    },
    {
      "cell_type": "code",
      "metadata": {
        "id": "i3O5Mc_4f5zH",
        "colab_type": "code",
        "colab": {
          "base_uri": "https://localhost:8080/",
          "height": 544
        },
        "outputId": "6508fd1e-466d-49cb-c447-36df9db07267"
      },
      "source": [
        "train_rt = TrainRuntimeCallback()\n",
        "history = model.fit(X_train, \n",
        "                    y_train,\n",
        "                    callbacks=[train_rt],\n",
        "                    epochs=15,\n",
        "                    batch_size = 100,\n",
        "                    validation_split = 0.15)"
      ],
      "execution_count": 281,
      "outputs": [
        {
          "output_type": "stream",
          "text": [
            "Train on 6800 samples, validate on 1200 samples\n",
            "Epoch 1/15\n",
            "6800/6800 [==============================] - 1s 107us/step - loss: 560.4187 - accuracy: 0.5459 - val_loss: 366.1000 - val_accuracy: 0.3933\n",
            "Epoch 2/15\n",
            "6800/6800 [==============================] - 1s 85us/step - loss: 173.0504 - accuracy: 0.5525 - val_loss: 29.0049 - val_accuracy: 0.5958\n",
            "Epoch 3/15\n",
            "6800/6800 [==============================] - 1s 84us/step - loss: 72.3061 - accuracy: 0.5781 - val_loss: 173.3016 - val_accuracy: 0.6067\n",
            "Epoch 4/15\n",
            "6800/6800 [==============================] - 1s 84us/step - loss: 161.1012 - accuracy: 0.5731 - val_loss: 77.3560 - val_accuracy: 0.6075\n",
            "Epoch 5/15\n",
            "6800/6800 [==============================] - 1s 82us/step - loss: 75.4576 - accuracy: 0.5885 - val_loss: 118.6177 - val_accuracy: 0.3958\n",
            "Epoch 6/15\n",
            "6800/6800 [==============================] - 1s 86us/step - loss: 86.0809 - accuracy: 0.5846 - val_loss: 57.8649 - val_accuracy: 0.6008\n",
            "Epoch 7/15\n",
            "6800/6800 [==============================] - 1s 81us/step - loss: 77.5462 - accuracy: 0.5796 - val_loss: 88.2218 - val_accuracy: 0.6067\n",
            "Epoch 8/15\n",
            "6800/6800 [==============================] - 1s 85us/step - loss: 44.9623 - accuracy: 0.6038 - val_loss: 55.6656 - val_accuracy: 0.6092\n",
            "Epoch 9/15\n",
            "6800/6800 [==============================] - 1s 81us/step - loss: 40.4397 - accuracy: 0.6093 - val_loss: 56.3667 - val_accuracy: 0.6067\n",
            "Epoch 10/15\n",
            "6800/6800 [==============================] - 1s 80us/step - loss: 31.6070 - accuracy: 0.6306 - val_loss: 64.8968 - val_accuracy: 0.4025\n",
            "Epoch 11/15\n",
            "6800/6800 [==============================] - 1s 80us/step - loss: 36.7014 - accuracy: 0.6100 - val_loss: 68.8576 - val_accuracy: 0.6067\n",
            "Epoch 12/15\n",
            "6800/6800 [==============================] - 1s 85us/step - loss: 42.8273 - accuracy: 0.6269 - val_loss: 87.4479 - val_accuracy: 0.6083\n",
            "Epoch 13/15\n",
            "6800/6800 [==============================] - 1s 85us/step - loss: 32.1468 - accuracy: 0.6287 - val_loss: 132.6702 - val_accuracy: 0.6067\n",
            "Epoch 14/15\n",
            "6800/6800 [==============================] - 1s 82us/step - loss: 48.8687 - accuracy: 0.6250 - val_loss: 16.1018 - val_accuracy: 0.6050\n",
            "Epoch 15/15\n",
            "6800/6800 [==============================] - 1s 85us/step - loss: 31.1310 - accuracy: 0.6235 - val_loss: 16.3847 - val_accuracy: 0.6067\n"
          ],
          "name": "stdout"
        }
      ]
    },
    {
      "cell_type": "code",
      "metadata": {
        "id": "nCIw1LDy6sri",
        "colab_type": "code",
        "colab": {
          "base_uri": "https://localhost:8080/",
          "height": 34
        },
        "outputId": "aa0acd1e-d66a-4714-f039-907c6181dcc4"
      },
      "source": [
        "# Get the training time\n",
        "train_time = train_rt.process_time\n",
        "train_time # in seconds"
      ],
      "execution_count": 282,
      "outputs": [
        {
          "output_type": "execute_result",
          "data": {
            "text/plain": [
              "8.703477"
            ]
          },
          "metadata": {
            "tags": []
          },
          "execution_count": 282
        }
      ]
    },
    {
      "cell_type": "markdown",
      "metadata": {
        "id": "pSgqtMFXExkL",
        "colab_type": "text"
      },
      "source": [
        "##Test the model"
      ]
    },
    {
      "cell_type": "code",
      "metadata": {
        "id": "n0pxftgGExOa",
        "colab_type": "code",
        "colab": {
          "base_uri": "https://localhost:8080/",
          "height": 51
        },
        "outputId": "eca8f31d-90c5-484a-db86-bb263a07a448"
      },
      "source": [
        "test_rt = TestRuntimeCallback()\n",
        "test_loss, test_acc = model.evaluate(X_test, y_test, callbacks=[test_rt])\n",
        "test_loss, test_acc"
      ],
      "execution_count": 283,
      "outputs": [
        {
          "output_type": "stream",
          "text": [
            "2000/2000 [==============================] - 0s 106us/step\n"
          ],
          "name": "stdout"
        },
        {
          "output_type": "execute_result",
          "data": {
            "text/plain": [
              "(17.13296455383301, 0.6134999990463257)"
            ]
          },
          "metadata": {
            "tags": []
          },
          "execution_count": 283
        }
      ]
    },
    {
      "cell_type": "code",
      "metadata": {
        "id": "tiI5pFmDGWQF",
        "colab_type": "code",
        "colab": {
          "base_uri": "https://localhost:8080/",
          "height": 34
        },
        "outputId": "2dae4747-f535-4f8e-ffd9-77c5b5ff0acb"
      },
      "source": [
        "test_time = test_rt.process_time\n",
        "test_time # in seconds"
      ],
      "execution_count": 284,
      "outputs": [
        {
          "output_type": "execute_result",
          "data": {
            "text/plain": [
              "0.214072"
            ]
          },
          "metadata": {
            "tags": []
          },
          "execution_count": 284
        }
      ]
    },
    {
      "cell_type": "markdown",
      "metadata": {
        "id": "SBKvLr-4Zgqo",
        "colab_type": "text"
      },
      "source": [
        "### Create a dataframe for the training and test statistics"
      ]
    },
    {
      "cell_type": "code",
      "metadata": {
        "id": "kVAHQzl0ZkmV",
        "colab_type": "code",
        "outputId": "4ac05d4a-74c7-4d7f-9174-1030b063f0bc",
        "colab": {
          "base_uri": "https://localhost:8080/",
          "height": 34
        }
      },
      "source": [
        "history_dict = history.history\n",
        "history_dict.keys()"
      ],
      "execution_count": 285,
      "outputs": [
        {
          "output_type": "execute_result",
          "data": {
            "text/plain": [
              "dict_keys(['val_loss', 'val_accuracy', 'loss', 'accuracy'])"
            ]
          },
          "metadata": {
            "tags": []
          },
          "execution_count": 285
        }
      ]
    },
    {
      "cell_type": "code",
      "metadata": {
        "id": "2Pm3qQ_KN9Yr",
        "colab_type": "code",
        "outputId": "c6026685-a17a-480f-ec5c-0847d9bb0cb3",
        "colab": {
          "base_uri": "https://localhost:8080/",
          "height": 204
        }
      },
      "source": [
        "history_df=pd.DataFrame(history_dict)\n",
        "history_df.tail()"
      ],
      "execution_count": 286,
      "outputs": [
        {
          "output_type": "execute_result",
          "data": {
            "text/html": [
              "<div>\n",
              "<style scoped>\n",
              "    .dataframe tbody tr th:only-of-type {\n",
              "        vertical-align: middle;\n",
              "    }\n",
              "\n",
              "    .dataframe tbody tr th {\n",
              "        vertical-align: top;\n",
              "    }\n",
              "\n",
              "    .dataframe thead th {\n",
              "        text-align: right;\n",
              "    }\n",
              "</style>\n",
              "<table border=\"1\" class=\"dataframe\">\n",
              "  <thead>\n",
              "    <tr style=\"text-align: right;\">\n",
              "      <th></th>\n",
              "      <th>val_loss</th>\n",
              "      <th>val_accuracy</th>\n",
              "      <th>loss</th>\n",
              "      <th>accuracy</th>\n",
              "    </tr>\n",
              "  </thead>\n",
              "  <tbody>\n",
              "    <tr>\n",
              "      <th>10</th>\n",
              "      <td>68.857613</td>\n",
              "      <td>0.606667</td>\n",
              "      <td>36.701415</td>\n",
              "      <td>0.610000</td>\n",
              "    </tr>\n",
              "    <tr>\n",
              "      <th>11</th>\n",
              "      <td>87.447867</td>\n",
              "      <td>0.608333</td>\n",
              "      <td>42.827340</td>\n",
              "      <td>0.626912</td>\n",
              "    </tr>\n",
              "    <tr>\n",
              "      <th>12</th>\n",
              "      <td>132.670160</td>\n",
              "      <td>0.606667</td>\n",
              "      <td>32.146788</td>\n",
              "      <td>0.628676</td>\n",
              "    </tr>\n",
              "    <tr>\n",
              "      <th>13</th>\n",
              "      <td>16.101786</td>\n",
              "      <td>0.605000</td>\n",
              "      <td>48.868672</td>\n",
              "      <td>0.625000</td>\n",
              "    </tr>\n",
              "    <tr>\n",
              "      <th>14</th>\n",
              "      <td>16.384727</td>\n",
              "      <td>0.606667</td>\n",
              "      <td>31.130980</td>\n",
              "      <td>0.623529</td>\n",
              "    </tr>\n",
              "  </tbody>\n",
              "</table>\n",
              "</div>"
            ],
            "text/plain": [
              "      val_loss  val_accuracy       loss  accuracy\n",
              "10   68.857613      0.606667  36.701415  0.610000\n",
              "11   87.447867      0.608333  42.827340  0.626912\n",
              "12  132.670160      0.606667  32.146788  0.628676\n",
              "13   16.101786      0.605000  48.868672  0.625000\n",
              "14   16.384727      0.606667  31.130980  0.623529"
            ]
          },
          "metadata": {
            "tags": []
          },
          "execution_count": 286
        }
      ]
    },
    {
      "cell_type": "code",
      "metadata": {
        "id": "AdvqcBrWN9Yy",
        "colab_type": "code",
        "outputId": "e06cbb3d-ce46-45d1-e1c4-7f6e8449b600",
        "colab": {
          "base_uri": "https://localhost:8080/",
          "height": 80
        }
      },
      "source": [
        "results_df = history_df.iloc[-1:].copy()\n",
        "results_df.insert(0,'model','DNN (1 layer)') \n",
        "results_df['test_loss'] = test_loss #incorporate test results\n",
        "results_df['test_accuracy'] = test_acc\n",
        "results_df['train time'] = train_time    \n",
        "results_df['test time'] = test_time     \n",
        "results_df"
      ],
      "execution_count": 287,
      "outputs": [
        {
          "output_type": "execute_result",
          "data": {
            "text/html": [
              "<div>\n",
              "<style scoped>\n",
              "    .dataframe tbody tr th:only-of-type {\n",
              "        vertical-align: middle;\n",
              "    }\n",
              "\n",
              "    .dataframe tbody tr th {\n",
              "        vertical-align: top;\n",
              "    }\n",
              "\n",
              "    .dataframe thead th {\n",
              "        text-align: right;\n",
              "    }\n",
              "</style>\n",
              "<table border=\"1\" class=\"dataframe\">\n",
              "  <thead>\n",
              "    <tr style=\"text-align: right;\">\n",
              "      <th></th>\n",
              "      <th>model</th>\n",
              "      <th>val_loss</th>\n",
              "      <th>val_accuracy</th>\n",
              "      <th>loss</th>\n",
              "      <th>accuracy</th>\n",
              "      <th>test_loss</th>\n",
              "      <th>test_accuracy</th>\n",
              "      <th>train time</th>\n",
              "      <th>test time</th>\n",
              "    </tr>\n",
              "  </thead>\n",
              "  <tbody>\n",
              "    <tr>\n",
              "      <th>14</th>\n",
              "      <td>DNN (1 layer)</td>\n",
              "      <td>16.384727</td>\n",
              "      <td>0.606667</td>\n",
              "      <td>31.13098</td>\n",
              "      <td>0.623529</td>\n",
              "      <td>17.132965</td>\n",
              "      <td>0.6135</td>\n",
              "      <td>8.703477</td>\n",
              "      <td>0.214072</td>\n",
              "    </tr>\n",
              "  </tbody>\n",
              "</table>\n",
              "</div>"
            ],
            "text/plain": [
              "            model   val_loss  ...  train time  test time\n",
              "14  DNN (1 layer)  16.384727  ...    8.703477   0.214072\n",
              "\n",
              "[1 rows x 9 columns]"
            ]
          },
          "metadata": {
            "tags": []
          },
          "execution_count": 287
        }
      ]
    },
    {
      "cell_type": "markdown",
      "metadata": {
        "id": "_NeAd6MKN9Y1",
        "colab_type": "text"
      },
      "source": [
        "### Plotting the performance \n",
        "\n",
        "We use Matplotlib to create 2 plots--displaying the training and validation loss/accuracy for each training epoch side by side."
      ]
    },
    {
      "cell_type": "code",
      "metadata": {
        "id": "z5lD2M7QN9Y2",
        "colab_type": "code",
        "outputId": "cdb02524-3c57-4b1d-b668-dfbd1e18f64b",
        "colab": {
          "base_uri": "https://localhost:8080/",
          "height": 295
        }
      },
      "source": [
        "import matplotlib.pyplot as plt\n",
        "\n",
        "acc = history.history['accuracy']\n",
        "val_acc = history.history['val_accuracy']\n",
        "loss = history.history['loss']\n",
        "val_loss = history.history['val_loss']\n",
        "\n",
        "epochs = range(1, len(acc) + 1)\n",
        "\n",
        "plt.plot(epochs, loss, label='Training loss')\n",
        "plt.plot(epochs, val_loss, label='Validation loss')\n",
        "plt.title('Training and validation loss')\n",
        "\n",
        "plt.xlabel('Epochs')\n",
        "plt.ylabel('Loss')\n",
        "plt.legend()\n",
        "\n",
        "plt.show()"
      ],
      "execution_count": 288,
      "outputs": [
        {
          "output_type": "display_data",
          "data": {
            "image/png": "[encoded data removed]",
            "text/plain": [
              "<Figure size 432x288 with 1 Axes>"
            ]
          },
          "metadata": {
            "tags": [],
            "needs_background": "light"
          }
        }
      ]
    },
    {
      "cell_type": "code",
      "metadata": {
        "id": "bACOXGORN9Y6",
        "colab_type": "code",
        "outputId": "5b69878c-3400-4354-8315-feac67d5758c",
        "colab": {
          "base_uri": "https://localhost:8080/",
          "height": 295
        }
      },
      "source": [
        "plt.clf()   # clear figure\n",
        "acc_values = history_dict['accuracy']\n",
        "# val_acc_values = history_dict['val_acc']\n",
        "\n",
        "plt.plot(epochs, acc, label='Training acc')\n",
        "plt.plot(epochs, val_acc, label='Validation acc')\n",
        "plt.title('Training and validation accuracy')\n",
        "\n",
        "plt.xlabel('Epochs')\n",
        "plt.ylabel('Accuracy')\n",
        "plt.legend()\n",
        "\n",
        "plt.show()"
      ],
      "execution_count": 289,
      "outputs": [
        {
          "output_type": "display_data",
          "data": {
            "image/png": "[encoded data removed]",
            "text/plain": [
              "<Figure size 432x288 with 1 Axes>"
            ]
          },
          "metadata": {
            "tags": [],
            "needs_background": "light"
          }
        }
      ]
    },
    {
      "cell_type": "markdown",
      "metadata": {
        "id": "oOsgl86XPj2x",
        "colab_type": "text"
      },
      "source": [
        "###ROC and AUROC"
      ]
    },
    {
      "cell_type": "code",
      "metadata": {
        "id": "QxRWeIJlQFD4",
        "colab_type": "code",
        "colab": {}
      },
      "source": [
        "#Generate predicted probabilities for X_test, and calculate FPR and TPR \n",
        "y_pred = model.predict(X_test).ravel()\n",
        "fpr, tpr, thresholds = roc_curve(y_test, y_pred)"
      ],
      "execution_count": 0,
      "outputs": []
    },
    {
      "cell_type": "code",
      "metadata": {
        "id": "DcS0N7KvQSDM",
        "colab_type": "code",
        "colab": {}
      },
      "source": [
        "auc_keras = auc(fpr, tpr)"
      ],
      "execution_count": 0,
      "outputs": []
    },
    {
      "cell_type": "code",
      "metadata": {
        "id": "yuQUpSVuRY-O",
        "colab_type": "code",
        "colab": {
          "base_uri": "https://localhost:8080/",
          "height": 295
        },
        "outputId": "d8784608-285e-468f-deba-2d2d96d4288a"
      },
      "source": [
        "#Plot ROC\n",
        "plt.figure(1)\n",
        "plt.plot([0, 1], [0, 1], 'k--')\n",
        "plt.plot(fpr, tpr, label='Area = {:.3f}'.format(auc_keras))\n",
        "plt.xlabel('False positive rate')\n",
        "plt.ylabel('True positive rate')\n",
        "plt.title('ROC curve')\n",
        "plt.legend(loc='best')\n",
        "plt.show()"
      ],
      "execution_count": 292,
      "outputs": [
        {
          "output_type": "display_data",
          "data": {
            "image/png": "[encoded data removed]",
            "text/plain": [
              "<Figure size 432x288 with 1 Axes>"
            ]
          },
          "metadata": {
            "tags": [],
            "needs_background": "light"
          }
        }
      ]
    },
    {
      "cell_type": "markdown",
      "metadata": {
        "id": "7R1JIalN3iJg",
        "colab_type": "text"
      },
      "source": [
        "#Experiment 2, second DNN"
      ]
    },
    {
      "cell_type": "markdown",
      "metadata": {
        "id": "kj4NHDLB3l-s",
        "colab_type": "text"
      },
      "source": [
        "This model is the same as in Experiment 1, but with an additional hidden layer. First hidden layer has 200 nodes, second hidden layer has 100 nodes."
      ]
    },
    {
      "cell_type": "markdown",
      "metadata": {
        "colab_type": "text",
        "id": "y5d1Loc54CSm"
      },
      "source": [
        "##Build and compile the model"
      ]
    },
    {
      "cell_type": "code",
      "metadata": {
        "colab_type": "code",
        "outputId": "9ef512f1-9870-4b5a-d558-0238158a90fe",
        "id": "5mVGnyhf4CSn",
        "colab": {
          "base_uri": "https://localhost:8080/",
          "height": 289
        }
      },
      "source": [
        "model = models.Sequential()\n",
        "\n",
        "model.add(layers.Flatten(input_shape=(96, 96, 3)))\n",
        "model.add(layers.Dense(200, activation='relu'))\n",
        "model.add(layers.Dense(100, activation='relu'))\n",
        "model.add(layers.Dense(1, activation='sigmoid'))\n",
        "\n",
        "model.summary()"
      ],
      "execution_count": 293,
      "outputs": [
        {
          "output_type": "stream",
          "text": [
            "Model: \"sequential_16\"\n",
            "_________________________________________________________________\n",
            "Layer (type)                 Output Shape              Param #   \n",
            "=================================================================\n",
            "flatten_14 (Flatten)         (None, 27648)             0         \n",
            "_________________________________________________________________\n",
            "dense_34 (Dense)             (None, 200)               5529800   \n",
            "_________________________________________________________________\n",
            "dense_35 (Dense)             (None, 100)               20100     \n",
            "_________________________________________________________________\n",
            "dense_36 (Dense)             (None, 1)                 101       \n",
            "=================================================================\n",
            "Total params: 5,550,001\n",
            "Trainable params: 5,550,001\n",
            "Non-trainable params: 0\n",
            "_________________________________________________________________\n"
          ],
          "name": "stdout"
        }
      ]
    },
    {
      "cell_type": "code",
      "metadata": {
        "colab_type": "code",
        "id": "xidl1PBp4CSq",
        "colab": {}
      },
      "source": [
        "model.compile(loss='binary_crossentropy', \n",
        "                   optimizer='adam',  \n",
        "                   metrics=['accuracy'])"
      ],
      "execution_count": 0,
      "outputs": []
    },
    {
      "cell_type": "markdown",
      "metadata": {
        "colab_type": "text",
        "id": "ikWitBFP4CSs"
      },
      "source": [
        "##Train the model"
      ]
    },
    {
      "cell_type": "code",
      "metadata": {
        "colab_type": "code",
        "outputId": "f5edaa53-b436-4467-d257-ffa27c51e613",
        "id": "eAra-8nk4CSt",
        "colab": {
          "base_uri": "https://localhost:8080/",
          "height": 544
        }
      },
      "source": [
        "train_rt = TrainRuntimeCallback()\n",
        "history = model.fit(X_train, \n",
        "                    y_train,\n",
        "                    callbacks=[train_rt],\n",
        "                    epochs=15,\n",
        "                    batch_size = 100,\n",
        "                    validation_split = 0.15)"
      ],
      "execution_count": 295,
      "outputs": [
        {
          "output_type": "stream",
          "text": [
            "Train on 6800 samples, validate on 1200 samples\n",
            "Epoch 1/15\n",
            "6800/6800 [==============================] - 1s 121us/step - loss: 886.0594 - accuracy: 0.5500 - val_loss: 29.8526 - val_accuracy: 0.5950\n",
            "Epoch 2/15\n",
            "6800/6800 [==============================] - 1s 99us/step - loss: 88.3553 - accuracy: 0.5581 - val_loss: 93.3366 - val_accuracy: 0.6067\n",
            "Epoch 3/15\n",
            "6800/6800 [==============================] - 1s 104us/step - loss: 41.3894 - accuracy: 0.5722 - val_loss: 65.5486 - val_accuracy: 0.6067\n",
            "Epoch 4/15\n",
            "6800/6800 [==============================] - 1s 96us/step - loss: 80.9811 - accuracy: 0.5599 - val_loss: 125.1726 - val_accuracy: 0.6067\n",
            "Epoch 5/15\n",
            "6800/6800 [==============================] - 1s 100us/step - loss: 43.5034 - accuracy: 0.5859 - val_loss: 8.6601 - val_accuracy: 0.6050\n",
            "Epoch 6/15\n",
            "6800/6800 [==============================] - 1s 103us/step - loss: 35.6304 - accuracy: 0.5700 - val_loss: 64.0834 - val_accuracy: 0.3933\n",
            "Epoch 7/15\n",
            "6800/6800 [==============================] - 1s 99us/step - loss: 41.5132 - accuracy: 0.5637 - val_loss: 43.9743 - val_accuracy: 0.3942\n",
            "Epoch 8/15\n",
            "6800/6800 [==============================] - 1s 102us/step - loss: 46.8985 - accuracy: 0.5688 - val_loss: 8.6079 - val_accuracy: 0.5758\n",
            "Epoch 9/15\n",
            "6800/6800 [==============================] - 1s 106us/step - loss: 7.4757 - accuracy: 0.5901 - val_loss: 2.7925 - val_accuracy: 0.6100\n",
            "Epoch 10/15\n",
            "6800/6800 [==============================] - 1s 104us/step - loss: 4.5926 - accuracy: 0.6243 - val_loss: 11.3902 - val_accuracy: 0.6067\n",
            "Epoch 11/15\n",
            "6800/6800 [==============================] - 1s 97us/step - loss: 4.7616 - accuracy: 0.6118 - val_loss: 1.7353 - val_accuracy: 0.5950\n",
            "Epoch 12/15\n",
            "6800/6800 [==============================] - 1s 99us/step - loss: 3.7150 - accuracy: 0.6029 - val_loss: 1.4494 - val_accuracy: 0.6117\n",
            "Epoch 13/15\n",
            "6800/6800 [==============================] - 1s 96us/step - loss: 1.3044 - accuracy: 0.6568 - val_loss: 1.0956 - val_accuracy: 0.5908\n",
            "Epoch 14/15\n",
            "6800/6800 [==============================] - 1s 100us/step - loss: 0.7619 - accuracy: 0.6971 - val_loss: 0.9627 - val_accuracy: 0.6025\n",
            "Epoch 15/15\n",
            "6800/6800 [==============================] - 1s 101us/step - loss: 0.6912 - accuracy: 0.6987 - val_loss: 0.9195 - val_accuracy: 0.5967\n"
          ],
          "name": "stdout"
        }
      ]
    },
    {
      "cell_type": "code",
      "metadata": {
        "colab_type": "code",
        "outputId": "2c9500bd-dd07-4bb8-e141-ceb660a8e316",
        "id": "sm3GRpEH4CSu",
        "colab": {
          "base_uri": "https://localhost:8080/",
          "height": 34
        }
      },
      "source": [
        "# Get the training time\n",
        "train_time = train_rt.process_time\n",
        "train_time # in seconds"
      ],
      "execution_count": 296,
      "outputs": [
        {
          "output_type": "execute_result",
          "data": {
            "text/plain": [
              "10.441911"
            ]
          },
          "metadata": {
            "tags": []
          },
          "execution_count": 296
        }
      ]
    },
    {
      "cell_type": "markdown",
      "metadata": {
        "colab_type": "text",
        "id": "jsGX4qN94CSw"
      },
      "source": [
        "##Test the model"
      ]
    },
    {
      "cell_type": "code",
      "metadata": {
        "colab_type": "code",
        "outputId": "96610c83-7c05-456c-a019-585760a87cc7",
        "id": "SavsGC4C4CSx",
        "colab": {
          "base_uri": "https://localhost:8080/",
          "height": 51
        }
      },
      "source": [
        "test_rt = TestRuntimeCallback()\n",
        "test_loss, test_acc = model.evaluate(X_test, y_test, callbacks=[test_rt])\n",
        "test_loss, test_acc"
      ],
      "execution_count": 297,
      "outputs": [
        {
          "output_type": "stream",
          "text": [
            "2000/2000 [==============================] - 0s 109us/step\n"
          ],
          "name": "stdout"
        },
        {
          "output_type": "execute_result",
          "data": {
            "text/plain": [
              "(0.965983338356018, 0.5755000114440918)"
            ]
          },
          "metadata": {
            "tags": []
          },
          "execution_count": 297
        }
      ]
    },
    {
      "cell_type": "code",
      "metadata": {
        "colab_type": "code",
        "outputId": "c91d638d-bb07-4e28-abe9-93a15f2a1c43",
        "id": "uVJ6hV604CS0",
        "colab": {
          "base_uri": "https://localhost:8080/",
          "height": 34
        }
      },
      "source": [
        "test_time = test_rt.process_time\n",
        "test_time # in seconds"
      ],
      "execution_count": 298,
      "outputs": [
        {
          "output_type": "execute_result",
          "data": {
            "text/plain": [
              "0.218529"
            ]
          },
          "metadata": {
            "tags": []
          },
          "execution_count": 298
        }
      ]
    },
    {
      "cell_type": "markdown",
      "metadata": {
        "id": "ALWnJHNM5Rbt",
        "colab_type": "text"
      },
      "source": [
        "###Add training and test statistics to results dataframe"
      ]
    },
    {
      "cell_type": "code",
      "metadata": {
        "id": "7-pHoJyY5Vvw",
        "colab_type": "code",
        "colab": {
          "base_uri": "https://localhost:8080/",
          "height": 80
        },
        "outputId": "108aeceb-6784-4840-9683-100d7e6c7b7e"
      },
      "source": [
        "history_dict = history.history\n",
        "history_df=pd.DataFrame(history_dict)\n",
        "df = history_df.iloc[-1:].copy()\n",
        "df.insert(0,'model','DNN (2 layers)') \n",
        "df['test_loss'] = test_loss \n",
        "df['test_accuracy'] = test_acc\n",
        "df['train time'] = train_time     \n",
        "df['test time'] = test_time   \n",
        "df"
      ],
      "execution_count": 299,
      "outputs": [
        {
          "output_type": "execute_result",
          "data": {
            "text/html": [
              "<div>\n",
              "<style scoped>\n",
              "    .dataframe tbody tr th:only-of-type {\n",
              "        vertical-align: middle;\n",
              "    }\n",
              "\n",
              "    .dataframe tbody tr th {\n",
              "        vertical-align: top;\n",
              "    }\n",
              "\n",
              "    .dataframe thead th {\n",
              "        text-align: right;\n",
              "    }\n",
              "</style>\n",
              "<table border=\"1\" class=\"dataframe\">\n",
              "  <thead>\n",
              "    <tr style=\"text-align: right;\">\n",
              "      <th></th>\n",
              "      <th>model</th>\n",
              "      <th>val_loss</th>\n",
              "      <th>val_accuracy</th>\n",
              "      <th>loss</th>\n",
              "      <th>accuracy</th>\n",
              "      <th>test_loss</th>\n",
              "      <th>test_accuracy</th>\n",
              "      <th>train time</th>\n",
              "      <th>test time</th>\n",
              "    </tr>\n",
              "  </thead>\n",
              "  <tbody>\n",
              "    <tr>\n",
              "      <th>14</th>\n",
              "      <td>DNN (2 layers)</td>\n",
              "      <td>0.919493</td>\n",
              "      <td>0.596667</td>\n",
              "      <td>0.691228</td>\n",
              "      <td>0.698676</td>\n",
              "      <td>0.965983</td>\n",
              "      <td>0.5755</td>\n",
              "      <td>10.441911</td>\n",
              "      <td>0.218529</td>\n",
              "    </tr>\n",
              "  </tbody>\n",
              "</table>\n",
              "</div>"
            ],
            "text/plain": [
              "             model  val_loss  ...  train time  test time\n",
              "14  DNN (2 layers)  0.919493  ...   10.441911   0.218529\n",
              "\n",
              "[1 rows x 9 columns]"
            ]
          },
          "metadata": {
            "tags": []
          },
          "execution_count": 299
        }
      ]
    },
    {
      "cell_type": "code",
      "metadata": {
        "id": "tcLvsDpH5ui3",
        "colab_type": "code",
        "colab": {
          "base_uri": "https://localhost:8080/",
          "height": 111
        },
        "outputId": "51ee7c1e-4d7e-4e7a-de38-49a037f3444e"
      },
      "source": [
        "results_df=results_df.append(df,ignore_index=True)\n",
        "results_df"
      ],
      "execution_count": 300,
      "outputs": [
        {
          "output_type": "execute_result",
          "data": {
            "text/html": [
              "<div>\n",
              "<style scoped>\n",
              "    .dataframe tbody tr th:only-of-type {\n",
              "        vertical-align: middle;\n",
              "    }\n",
              "\n",
              "    .dataframe tbody tr th {\n",
              "        vertical-align: top;\n",
              "    }\n",
              "\n",
              "    .dataframe thead th {\n",
              "        text-align: right;\n",
              "    }\n",
              "</style>\n",
              "<table border=\"1\" class=\"dataframe\">\n",
              "  <thead>\n",
              "    <tr style=\"text-align: right;\">\n",
              "      <th></th>\n",
              "      <th>model</th>\n",
              "      <th>val_loss</th>\n",
              "      <th>val_accuracy</th>\n",
              "      <th>loss</th>\n",
              "      <th>accuracy</th>\n",
              "      <th>test_loss</th>\n",
              "      <th>test_accuracy</th>\n",
              "      <th>train time</th>\n",
              "      <th>test time</th>\n",
              "    </tr>\n",
              "  </thead>\n",
              "  <tbody>\n",
              "    <tr>\n",
              "      <th>0</th>\n",
              "      <td>DNN (1 layer)</td>\n",
              "      <td>16.384727</td>\n",
              "      <td>0.606667</td>\n",
              "      <td>31.130980</td>\n",
              "      <td>0.623529</td>\n",
              "      <td>17.132965</td>\n",
              "      <td>0.6135</td>\n",
              "      <td>8.703477</td>\n",
              "      <td>0.214072</td>\n",
              "    </tr>\n",
              "    <tr>\n",
              "      <th>1</th>\n",
              "      <td>DNN (2 layers)</td>\n",
              "      <td>0.919493</td>\n",
              "      <td>0.596667</td>\n",
              "      <td>0.691228</td>\n",
              "      <td>0.698676</td>\n",
              "      <td>0.965983</td>\n",
              "      <td>0.5755</td>\n",
              "      <td>10.441911</td>\n",
              "      <td>0.218529</td>\n",
              "    </tr>\n",
              "  </tbody>\n",
              "</table>\n",
              "</div>"
            ],
            "text/plain": [
              "            model   val_loss  ...  train time  test time\n",
              "0   DNN (1 layer)  16.384727  ...    8.703477   0.214072\n",
              "1  DNN (2 layers)   0.919493  ...   10.441911   0.218529\n",
              "\n",
              "[2 rows x 9 columns]"
            ]
          },
          "metadata": {
            "tags": []
          },
          "execution_count": 300
        }
      ]
    },
    {
      "cell_type": "markdown",
      "metadata": {
        "colab_type": "text",
        "id": "JdR0Kqml5zjh"
      },
      "source": [
        "### Plotting the performance \n"
      ]
    },
    {
      "cell_type": "code",
      "metadata": {
        "colab_type": "code",
        "outputId": "bd3cd0f4-5a6c-406e-8524-ce9137c20f57",
        "id": "1MddMWBT5zjh",
        "colab": {
          "base_uri": "https://localhost:8080/",
          "height": 295
        }
      },
      "source": [
        "import matplotlib.pyplot as plt\n",
        "\n",
        "acc = history.history['accuracy']\n",
        "val_acc = history.history['val_accuracy']\n",
        "loss = history.history['loss']\n",
        "val_loss = history.history['val_loss']\n",
        "\n",
        "epochs = range(1, len(acc) + 1)\n",
        "\n",
        "plt.plot(epochs, loss, label='Training loss')\n",
        "plt.plot(epochs, val_loss, label='Validation loss')\n",
        "plt.title('Training and validation loss')\n",
        "\n",
        "plt.xlabel('Epochs')\n",
        "plt.ylabel('Loss')\n",
        "plt.legend()\n",
        "\n",
        "plt.show()"
      ],
      "execution_count": 301,
      "outputs": [
        {
          "output_type": "display_data",
          "data": {
            "image/png": "[encoded data removed]",
            "text/plain": [
              "<Figure size 432x288 with 1 Axes>"
            ]
          },
          "metadata": {
            "tags": [],
            "needs_background": "light"
          }
        }
      ]
    },
    {
      "cell_type": "code",
      "metadata": {
        "colab_type": "code",
        "outputId": "cc4f3b4a-ec19-4d8d-fa74-e9e43f5d28af",
        "id": "IoblV1xK5zjk",
        "colab": {
          "base_uri": "https://localhost:8080/",
          "height": 295
        }
      },
      "source": [
        "plt.clf()   # clear figure\n",
        "acc_values = history_dict['accuracy']\n",
        "# val_acc_values = history_dict['val_acc']\n",
        "\n",
        "plt.plot(epochs, acc, label='Training acc')\n",
        "plt.plot(epochs, val_acc, label='Validation acc')\n",
        "plt.title('Training and validation accuracy')\n",
        "\n",
        "plt.xlabel('Epochs')\n",
        "plt.ylabel('Accuracy')\n",
        "plt.legend()\n",
        "\n",
        "plt.show()"
      ],
      "execution_count": 302,
      "outputs": [
        {
          "output_type": "display_data",
          "data": {
            "image/png": "[encoded data removed]",
            "text/plain": [
              "<Figure size 432x288 with 1 Axes>"
            ]
          },
          "metadata": {
            "tags": [],
            "needs_background": "light"
          }
        }
      ]
    },
    {
      "cell_type": "markdown",
      "metadata": {
        "colab_type": "text",
        "id": "cZyHwrmGU1TZ"
      },
      "source": [
        "###ROC and AUROC"
      ]
    },
    {
      "cell_type": "code",
      "metadata": {
        "colab_type": "code",
        "id": "O6dZ9LRGU1TZ",
        "colab": {}
      },
      "source": [
        "#Generate predicted probabilities for X_test, and calculate FPR and TPR \n",
        "y_pred = model.predict(X_test).ravel()\n",
        "fpr, tpr, thresholds = roc_curve(y_test, y_pred)"
      ],
      "execution_count": 0,
      "outputs": []
    },
    {
      "cell_type": "code",
      "metadata": {
        "colab_type": "code",
        "id": "4-UQNTF6U1Tc",
        "colab": {}
      },
      "source": [
        "auc_keras = auc(fpr, tpr)"
      ],
      "execution_count": 0,
      "outputs": []
    },
    {
      "cell_type": "code",
      "metadata": {
        "colab_type": "code",
        "outputId": "8ed364c9-274d-4511-b3d5-0a9b1bd0eb7a",
        "id": "Jrw5dGxgU1Td",
        "colab": {
          "base_uri": "https://localhost:8080/",
          "height": 295
        }
      },
      "source": [
        "#Plot ROC\n",
        "plt.figure(1)\n",
        "plt.plot([0, 1], [0, 1], 'k--')\n",
        "plt.plot(fpr, tpr, label='Area = {:.3f}'.format(auc_keras))\n",
        "plt.xlabel('False positive rate')\n",
        "plt.ylabel('True positive rate')\n",
        "plt.title('ROC curve')\n",
        "plt.legend(loc='best')\n",
        "plt.show()"
      ],
      "execution_count": 305,
      "outputs": [
        {
          "output_type": "display_data",
          "data": {
            "image/png": "[encoded data removed]",
            "text/plain": [
              "<Figure size 432x288 with 1 Axes>"
            ]
          },
          "metadata": {
            "tags": [],
            "needs_background": "light"
          }
        }
      ]
    },
    {
      "cell_type": "markdown",
      "metadata": {
        "id": "CTlRkKQ-osCC",
        "colab_type": "text"
      },
      "source": [
        "#Experiment 3: CNN with 2 convolutional layers"
      ]
    },
    {
      "cell_type": "code",
      "metadata": {
        "id": "70JIzuz7oupp",
        "colab_type": "code",
        "colab": {
          "base_uri": "https://localhost:8080/",
          "height": 391
        },
        "outputId": "8107b02e-7b84-4f0f-9cb4-0abba348d77b"
      },
      "source": [
        "model = models.Sequential()\n",
        "\n",
        "model.add(layers.Conv2D(32, (3, 3), activation='relu', input_shape=(96, 96, 3)))\n",
        "model.add(layers.MaxPooling2D((2, 2)))\n",
        "#model.add(layers.Dropout(0.2))\n",
        "\n",
        "model.add(layers.Conv2D(64, (3, 3), activation='relu'))\n",
        "model.add(layers.MaxPooling2D((2, 2)))\n",
        "#model.add(layers.Dropout(0.2))\n",
        "\n",
        "model.add(layers.Flatten())\n",
        "model.add(layers.Dense(256, activation='relu'))\n",
        "#model.add(layers.Dropout(0.2))\n",
        "\n",
        "model.add(layers.Dense(1, activation='sigmoid'))\n",
        "\n",
        "model.summary()"
      ],
      "execution_count": 306,
      "outputs": [
        {
          "output_type": "stream",
          "text": [
            "Model: \"sequential_17\"\n",
            "_________________________________________________________________\n",
            "Layer (type)                 Output Shape              Param #   \n",
            "=================================================================\n",
            "conv2d_9 (Conv2D)            (None, 94, 94, 32)        896       \n",
            "_________________________________________________________________\n",
            "max_pooling2d_9 (MaxPooling2 (None, 47, 47, 32)        0         \n",
            "_________________________________________________________________\n",
            "conv2d_10 (Conv2D)           (None, 45, 45, 64)        18496     \n",
            "_________________________________________________________________\n",
            "max_pooling2d_10 (MaxPooling (None, 22, 22, 64)        0         \n",
            "_________________________________________________________________\n",
            "flatten_15 (Flatten)         (None, 30976)             0         \n",
            "_________________________________________________________________\n",
            "dense_37 (Dense)             (None, 256)               7930112   \n",
            "_________________________________________________________________\n",
            "dense_38 (Dense)             (None, 1)                 257       \n",
            "=================================================================\n",
            "Total params: 7,949,761\n",
            "Trainable params: 7,949,761\n",
            "Non-trainable params: 0\n",
            "_________________________________________________________________\n"
          ],
          "name": "stdout"
        }
      ]
    },
    {
      "cell_type": "code",
      "metadata": {
        "colab_type": "code",
        "id": "Qa5GTUWm77OL",
        "colab": {}
      },
      "source": [
        "model.compile(loss='binary_crossentropy', \n",
        "                   optimizer='adam',  \n",
        "                   metrics=['accuracy'])"
      ],
      "execution_count": 0,
      "outputs": []
    },
    {
      "cell_type": "markdown",
      "metadata": {
        "colab_type": "text",
        "id": "a41kmXQM77ON"
      },
      "source": [
        "##Train the model"
      ]
    },
    {
      "cell_type": "code",
      "metadata": {
        "colab_type": "code",
        "outputId": "ec42c558-3f2b-4af6-daa5-2594199b566c",
        "id": "OqbOiuFH77OO",
        "colab": {
          "base_uri": "https://localhost:8080/",
          "height": 544
        }
      },
      "source": [
        "train_rt = TrainRuntimeCallback()\n",
        "history = model.fit(X_train, \n",
        "                    y_train,\n",
        "                    callbacks=[train_rt],\n",
        "                    epochs=15,\n",
        "                    batch_size = 100,\n",
        "                    validation_split = 0.15)"
      ],
      "execution_count": 308,
      "outputs": [
        {
          "output_type": "stream",
          "text": [
            "Train on 6800 samples, validate on 1200 samples\n",
            "Epoch 1/15\n",
            "6800/6800 [==============================] - 2s 255us/step - loss: 38.3950 - accuracy: 0.6300 - val_loss: 0.5538 - val_accuracy: 0.7300\n",
            "Epoch 2/15\n",
            "6800/6800 [==============================] - 1s 219us/step - loss: 0.5024 - accuracy: 0.7538 - val_loss: 0.5347 - val_accuracy: 0.7458\n",
            "Epoch 3/15\n",
            "6800/6800 [==============================] - 1s 220us/step - loss: 0.4274 - accuracy: 0.8128 - val_loss: 0.5256 - val_accuracy: 0.7700\n",
            "Epoch 4/15\n",
            "6800/6800 [==============================] - 2s 221us/step - loss: 0.3857 - accuracy: 0.8253 - val_loss: 0.5892 - val_accuracy: 0.7433\n",
            "Epoch 5/15\n",
            "6800/6800 [==============================] - 1s 220us/step - loss: 0.3316 - accuracy: 0.8628 - val_loss: 0.5891 - val_accuracy: 0.7725\n",
            "Epoch 6/15\n",
            "6800/6800 [==============================] - 2s 222us/step - loss: 0.2919 - accuracy: 0.8800 - val_loss: 0.5727 - val_accuracy: 0.7708\n",
            "Epoch 7/15\n",
            "6800/6800 [==============================] - 2s 223us/step - loss: 0.2612 - accuracy: 0.8913 - val_loss: 0.7132 - val_accuracy: 0.7275\n",
            "Epoch 8/15\n",
            "6800/6800 [==============================] - 2s 227us/step - loss: 0.2147 - accuracy: 0.9151 - val_loss: 0.7526 - val_accuracy: 0.7292\n",
            "Epoch 9/15\n",
            "6800/6800 [==============================] - 2s 222us/step - loss: 0.1769 - accuracy: 0.9362 - val_loss: 0.8588 - val_accuracy: 0.7350\n",
            "Epoch 10/15\n",
            "6800/6800 [==============================] - 2s 221us/step - loss: 0.1470 - accuracy: 0.9482 - val_loss: 1.1022 - val_accuracy: 0.7392\n",
            "Epoch 11/15\n",
            "6800/6800 [==============================] - 2s 225us/step - loss: 0.1068 - accuracy: 0.9651 - val_loss: 1.1240 - val_accuracy: 0.7183\n",
            "Epoch 12/15\n",
            "6800/6800 [==============================] - 2s 222us/step - loss: 0.1083 - accuracy: 0.9631 - val_loss: 1.1340 - val_accuracy: 0.7175\n",
            "Epoch 13/15\n",
            "6800/6800 [==============================] - 1s 217us/step - loss: 0.0927 - accuracy: 0.9725 - val_loss: 1.2275 - val_accuracy: 0.7233\n",
            "Epoch 14/15\n",
            "6800/6800 [==============================] - 2s 224us/step - loss: 0.0727 - accuracy: 0.9771 - val_loss: 1.2914 - val_accuracy: 0.7183\n",
            "Epoch 15/15\n",
            "6800/6800 [==============================] - 2s 229us/step - loss: 0.0518 - accuracy: 0.9865 - val_loss: 1.5750 - val_accuracy: 0.7117\n"
          ],
          "name": "stdout"
        }
      ]
    },
    {
      "cell_type": "code",
      "metadata": {
        "colab_type": "code",
        "outputId": "4078c051-95e3-479e-81df-5342e41e617e",
        "id": "ifzgcCZZ77OQ",
        "colab": {
          "base_uri": "https://localhost:8080/",
          "height": 34
        }
      },
      "source": [
        "# Get the training time\n",
        "train_time = train_rt.process_time\n",
        "train_time # in seconds"
      ],
      "execution_count": 309,
      "outputs": [
        {
          "output_type": "execute_result",
          "data": {
            "text/plain": [
              "22.954449"
            ]
          },
          "metadata": {
            "tags": []
          },
          "execution_count": 309
        }
      ]
    },
    {
      "cell_type": "markdown",
      "metadata": {
        "colab_type": "text",
        "id": "S06tVoDw77OT"
      },
      "source": [
        "##Test the model"
      ]
    },
    {
      "cell_type": "code",
      "metadata": {
        "colab_type": "code",
        "outputId": "70cf83b4-9238-443d-b832-9404ddf695c2",
        "id": "Gawe-DIm77OT",
        "colab": {
          "base_uri": "https://localhost:8080/",
          "height": 51
        }
      },
      "source": [
        "test_rt = TestRuntimeCallback()\n",
        "test_loss, test_acc = model.evaluate(X_test, y_test, callbacks=[test_rt])\n",
        "test_loss, test_acc"
      ],
      "execution_count": 310,
      "outputs": [
        {
          "output_type": "stream",
          "text": [
            "2000/2000 [==============================] - 0s 158us/step\n"
          ],
          "name": "stdout"
        },
        {
          "output_type": "execute_result",
          "data": {
            "text/plain": [
              "(1.4900504379272461, 0.7365000247955322)"
            ]
          },
          "metadata": {
            "tags": []
          },
          "execution_count": 310
        }
      ]
    },
    {
      "cell_type": "code",
      "metadata": {
        "colab_type": "code",
        "outputId": "65407074-4205-4076-cb7e-e52439423812",
        "id": "jTrlmg6G77OW",
        "colab": {
          "base_uri": "https://localhost:8080/",
          "height": 34
        }
      },
      "source": [
        "test_time = test_rt.process_time\n",
        "test_time # in seconds"
      ],
      "execution_count": 311,
      "outputs": [
        {
          "output_type": "execute_result",
          "data": {
            "text/plain": [
              "0.316235"
            ]
          },
          "metadata": {
            "tags": []
          },
          "execution_count": 311
        }
      ]
    },
    {
      "cell_type": "markdown",
      "metadata": {
        "colab_type": "text",
        "id": "owRpzcfr77OY"
      },
      "source": [
        "###Add training and test statistics to results dataframe"
      ]
    },
    {
      "cell_type": "code",
      "metadata": {
        "colab_type": "code",
        "outputId": "d8d5ecc1-c14f-45d3-8818-b42ee138d89d",
        "id": "RHB9P6QK77OY",
        "colab": {
          "base_uri": "https://localhost:8080/",
          "height": 80
        }
      },
      "source": [
        "history_dict = history.history\n",
        "history_df=pd.DataFrame(history_dict)\n",
        "df = history_df.iloc[-1:].copy()\n",
        "df.insert(0,'model','CNN (2 layers)') \n",
        "df['test_loss'] = test_loss \n",
        "df['test_accuracy'] = test_acc\n",
        "df['train time'] = train_time     \n",
        "df['test time'] = test_time   \n",
        "df"
      ],
      "execution_count": 312,
      "outputs": [
        {
          "output_type": "execute_result",
          "data": {
            "text/html": [
              "<div>\n",
              "<style scoped>\n",
              "    .dataframe tbody tr th:only-of-type {\n",
              "        vertical-align: middle;\n",
              "    }\n",
              "\n",
              "    .dataframe tbody tr th {\n",
              "        vertical-align: top;\n",
              "    }\n",
              "\n",
              "    .dataframe thead th {\n",
              "        text-align: right;\n",
              "    }\n",
              "</style>\n",
              "<table border=\"1\" class=\"dataframe\">\n",
              "  <thead>\n",
              "    <tr style=\"text-align: right;\">\n",
              "      <th></th>\n",
              "      <th>model</th>\n",
              "      <th>val_loss</th>\n",
              "      <th>val_accuracy</th>\n",
              "      <th>loss</th>\n",
              "      <th>accuracy</th>\n",
              "      <th>test_loss</th>\n",
              "      <th>test_accuracy</th>\n",
              "      <th>train time</th>\n",
              "      <th>test time</th>\n",
              "    </tr>\n",
              "  </thead>\n",
              "  <tbody>\n",
              "    <tr>\n",
              "      <th>14</th>\n",
              "      <td>CNN (2 layers)</td>\n",
              "      <td>1.574971</td>\n",
              "      <td>0.711667</td>\n",
              "      <td>0.051818</td>\n",
              "      <td>0.986471</td>\n",
              "      <td>1.49005</td>\n",
              "      <td>0.7365</td>\n",
              "      <td>22.954449</td>\n",
              "      <td>0.316235</td>\n",
              "    </tr>\n",
              "  </tbody>\n",
              "</table>\n",
              "</div>"
            ],
            "text/plain": [
              "             model  val_loss  ...  train time  test time\n",
              "14  CNN (2 layers)  1.574971  ...   22.954449   0.316235\n",
              "\n",
              "[1 rows x 9 columns]"
            ]
          },
          "metadata": {
            "tags": []
          },
          "execution_count": 312
        }
      ]
    },
    {
      "cell_type": "code",
      "metadata": {
        "colab_type": "code",
        "outputId": "eecd7b05-44a0-45e1-8cd6-2c69cebcd518",
        "id": "0mWfNOiJ77Oa",
        "colab": {
          "base_uri": "https://localhost:8080/",
          "height": 142
        }
      },
      "source": [
        "results_df=results_df.append(df,ignore_index=True)\n",
        "results_df"
      ],
      "execution_count": 313,
      "outputs": [
        {
          "output_type": "execute_result",
          "data": {
            "text/html": [
              "<div>\n",
              "<style scoped>\n",
              "    .dataframe tbody tr th:only-of-type {\n",
              "        vertical-align: middle;\n",
              "    }\n",
              "\n",
              "    .dataframe tbody tr th {\n",
              "        vertical-align: top;\n",
              "    }\n",
              "\n",
              "    .dataframe thead th {\n",
              "        text-align: right;\n",
              "    }\n",
              "</style>\n",
              "<table border=\"1\" class=\"dataframe\">\n",
              "  <thead>\n",
              "    <tr style=\"text-align: right;\">\n",
              "      <th></th>\n",
              "      <th>model</th>\n",
              "      <th>val_loss</th>\n",
              "      <th>val_accuracy</th>\n",
              "      <th>loss</th>\n",
              "      <th>accuracy</th>\n",
              "      <th>test_loss</th>\n",
              "      <th>test_accuracy</th>\n",
              "      <th>train time</th>\n",
              "      <th>test time</th>\n",
              "    </tr>\n",
              "  </thead>\n",
              "  <tbody>\n",
              "    <tr>\n",
              "      <th>0</th>\n",
              "      <td>DNN (1 layer)</td>\n",
              "      <td>16.384727</td>\n",
              "      <td>0.606667</td>\n",
              "      <td>31.130980</td>\n",
              "      <td>0.623529</td>\n",
              "      <td>17.132965</td>\n",
              "      <td>0.6135</td>\n",
              "      <td>8.703477</td>\n",
              "      <td>0.214072</td>\n",
              "    </tr>\n",
              "    <tr>\n",
              "      <th>1</th>\n",
              "      <td>DNN (2 layers)</td>\n",
              "      <td>0.919493</td>\n",
              "      <td>0.596667</td>\n",
              "      <td>0.691228</td>\n",
              "      <td>0.698676</td>\n",
              "      <td>0.965983</td>\n",
              "      <td>0.5755</td>\n",
              "      <td>10.441911</td>\n",
              "      <td>0.218529</td>\n",
              "    </tr>\n",
              "    <tr>\n",
              "      <th>2</th>\n",
              "      <td>CNN (2 layers)</td>\n",
              "      <td>1.574971</td>\n",
              "      <td>0.711667</td>\n",
              "      <td>0.051818</td>\n",
              "      <td>0.986471</td>\n",
              "      <td>1.490050</td>\n",
              "      <td>0.7365</td>\n",
              "      <td>22.954449</td>\n",
              "      <td>0.316235</td>\n",
              "    </tr>\n",
              "  </tbody>\n",
              "</table>\n",
              "</div>"
            ],
            "text/plain": [
              "            model   val_loss  ...  train time  test time\n",
              "0   DNN (1 layer)  16.384727  ...    8.703477   0.214072\n",
              "1  DNN (2 layers)   0.919493  ...   10.441911   0.218529\n",
              "2  CNN (2 layers)   1.574971  ...   22.954449   0.316235\n",
              "\n",
              "[3 rows x 9 columns]"
            ]
          },
          "metadata": {
            "tags": []
          },
          "execution_count": 313
        }
      ]
    },
    {
      "cell_type": "markdown",
      "metadata": {
        "colab_type": "text",
        "id": "VOq_14dy77Ob"
      },
      "source": [
        "### Plotting the performance \n"
      ]
    },
    {
      "cell_type": "code",
      "metadata": {
        "colab_type": "code",
        "outputId": "93d9c10b-7436-4142-e18b-ec6d762dc5f4",
        "id": "TtA97hS-77Oc",
        "colab": {
          "base_uri": "https://localhost:8080/",
          "height": 295
        }
      },
      "source": [
        "import matplotlib.pyplot as plt\n",
        "\n",
        "acc = history.history['accuracy']\n",
        "val_acc = history.history['val_accuracy']\n",
        "loss = history.history['loss']\n",
        "val_loss = history.history['val_loss']\n",
        "\n",
        "epochs = range(1, len(acc) + 1)\n",
        "\n",
        "plt.plot(epochs, loss, label='Training loss')\n",
        "plt.plot(epochs, val_loss, label='Validation loss')\n",
        "plt.title('Training and validation loss')\n",
        "\n",
        "plt.xlabel('Epochs')\n",
        "plt.ylabel('Loss')\n",
        "plt.legend()\n",
        "\n",
        "plt.show()"
      ],
      "execution_count": 314,
      "outputs": [
        {
          "output_type": "display_data",
          "data": {
            "image/png": "[encoded data removed]",
            "text/plain": [
              "<Figure size 432x288 with 1 Axes>"
            ]
          },
          "metadata": {
            "tags": [],
            "needs_background": "light"
          }
        }
      ]
    },
    {
      "cell_type": "code",
      "metadata": {
        "colab_type": "code",
        "outputId": "724ca201-f259-4732-81ad-b5baeea9c981",
        "id": "o4FpQYjw77Od",
        "colab": {
          "base_uri": "https://localhost:8080/",
          "height": 295
        }
      },
      "source": [
        "plt.clf()   # clear figure\n",
        "acc_values = history_dict['accuracy']\n",
        "# val_acc_values = history_dict['val_acc']\n",
        "\n",
        "plt.plot(epochs, acc, label='Training acc')\n",
        "plt.plot(epochs, val_acc, label='Validation acc')\n",
        "plt.title('Training and validation accuracy')\n",
        "\n",
        "plt.xlabel('Epochs')\n",
        "plt.ylabel('Accuracy')\n",
        "plt.legend()\n",
        "\n",
        "plt.show()"
      ],
      "execution_count": 315,
      "outputs": [
        {
          "output_type": "display_data",
          "data": {
            "image/png": "[encoded data removed]",
            "text/plain": [
              "<Figure size 432x288 with 1 Axes>"
            ]
          },
          "metadata": {
            "tags": [],
            "needs_background": "light"
          }
        }
      ]
    },
    {
      "cell_type": "markdown",
      "metadata": {
        "colab_type": "text",
        "id": "fNuYN2bYU5h5"
      },
      "source": [
        "###ROC and AUROC"
      ]
    },
    {
      "cell_type": "code",
      "metadata": {
        "colab_type": "code",
        "id": "FIPAZkhsU5h6",
        "colab": {}
      },
      "source": [
        "#Generate predicted probabilities for X_test, and calculate FPR and TPR \n",
        "y_pred = model.predict(X_test).ravel()\n",
        "fpr, tpr, thresholds = roc_curve(y_test, y_pred)"
      ],
      "execution_count": 0,
      "outputs": []
    },
    {
      "cell_type": "code",
      "metadata": {
        "colab_type": "code",
        "id": "Yrv5P7hDU5h7",
        "colab": {}
      },
      "source": [
        "auc_keras = auc(fpr, tpr)"
      ],
      "execution_count": 0,
      "outputs": []
    },
    {
      "cell_type": "code",
      "metadata": {
        "colab_type": "code",
        "outputId": "f1082758-95e1-40f6-a5b5-6bee6073b375",
        "id": "D6KaRdm-U5h9",
        "colab": {
          "base_uri": "https://localhost:8080/",
          "height": 295
        }
      },
      "source": [
        "#Plot ROC\n",
        "plt.figure(1)\n",
        "plt.plot([0, 1], [0, 1], 'k--')\n",
        "plt.plot(fpr, tpr, label='Area = {:.3f}'.format(auc_keras))\n",
        "plt.xlabel('False positive rate')\n",
        "plt.ylabel('True positive rate')\n",
        "plt.title('ROC curve')\n",
        "plt.legend(loc='best')\n",
        "plt.show()"
      ],
      "execution_count": 318,
      "outputs": [
        {
          "output_type": "display_data",
          "data": {
            "image/png": "[encoded data removed]",
            "text/plain": [
              "<Figure size 432x288 with 1 Axes>"
            ]
          },
          "metadata": {
            "tags": [],
            "needs_background": "light"
          }
        }
      ]
    },
    {
      "cell_type": "markdown",
      "metadata": {
        "colab_type": "text",
        "id": "nXVCEA2T-PEW"
      },
      "source": [
        "#Experiment 4: CNN with 2 convolutional layers, dropout"
      ]
    },
    {
      "cell_type": "code",
      "metadata": {
        "colab_type": "code",
        "outputId": "10acf6d7-03f5-460e-ac9a-5cfdfe2a8cda",
        "id": "G8dWI56u-PEW",
        "colab": {
          "base_uri": "https://localhost:8080/",
          "height": 493
        }
      },
      "source": [
        "model = models.Sequential()\n",
        "\n",
        "model.add(layers.Conv2D(32, (3, 3), activation='relu', input_shape=(96, 96, 3)))\n",
        "model.add(layers.MaxPooling2D((2, 2)))\n",
        "model.add(layers.Dropout(0.2))\n",
        "\n",
        "model.add(layers.Conv2D(64, (3, 3), activation='relu'))\n",
        "model.add(layers.MaxPooling2D((2, 2)))\n",
        "model.add(layers.Dropout(0.2))\n",
        "\n",
        "model.add(layers.Flatten())\n",
        "model.add(layers.Dense(256, activation='relu'))\n",
        "model.add(layers.Dropout(0.2))\n",
        "\n",
        "model.add(layers.Dense(1, activation='sigmoid'))\n",
        "\n",
        "model.summary()"
      ],
      "execution_count": 319,
      "outputs": [
        {
          "output_type": "stream",
          "text": [
            "Model: \"sequential_18\"\n",
            "_________________________________________________________________\n",
            "Layer (type)                 Output Shape              Param #   \n",
            "=================================================================\n",
            "conv2d_11 (Conv2D)           (None, 94, 94, 32)        896       \n",
            "_________________________________________________________________\n",
            "max_pooling2d_11 (MaxPooling (None, 47, 47, 32)        0         \n",
            "_________________________________________________________________\n",
            "dropout_7 (Dropout)          (None, 47, 47, 32)        0         \n",
            "_________________________________________________________________\n",
            "conv2d_12 (Conv2D)           (None, 45, 45, 64)        18496     \n",
            "_________________________________________________________________\n",
            "max_pooling2d_12 (MaxPooling (None, 22, 22, 64)        0         \n",
            "_________________________________________________________________\n",
            "dropout_8 (Dropout)          (None, 22, 22, 64)        0         \n",
            "_________________________________________________________________\n",
            "flatten_16 (Flatten)         (None, 30976)             0         \n",
            "_________________________________________________________________\n",
            "dense_39 (Dense)             (None, 256)               7930112   \n",
            "_________________________________________________________________\n",
            "dropout_9 (Dropout)          (None, 256)               0         \n",
            "_________________________________________________________________\n",
            "dense_40 (Dense)             (None, 1)                 257       \n",
            "=================================================================\n",
            "Total params: 7,949,761\n",
            "Trainable params: 7,949,761\n",
            "Non-trainable params: 0\n",
            "_________________________________________________________________\n"
          ],
          "name": "stdout"
        }
      ]
    },
    {
      "cell_type": "code",
      "metadata": {
        "colab_type": "code",
        "id": "iHALu5aG-PEZ",
        "colab": {}
      },
      "source": [
        "model.compile(loss='binary_crossentropy', \n",
        "                   optimizer='adam',  \n",
        "                   metrics=['accuracy'])"
      ],
      "execution_count": 0,
      "outputs": []
    },
    {
      "cell_type": "markdown",
      "metadata": {
        "colab_type": "text",
        "id": "khaL7P8O-PEb"
      },
      "source": [
        "##Train the model"
      ]
    },
    {
      "cell_type": "code",
      "metadata": {
        "colab_type": "code",
        "outputId": "88e79e1c-0630-4bb1-985e-30bad55bc25c",
        "id": "hHYMI32M-PEb",
        "colab": {
          "base_uri": "https://localhost:8080/",
          "height": 544
        }
      },
      "source": [
        "train_rt = TrainRuntimeCallback()\n",
        "history = model.fit(X_train, \n",
        "                    y_train,\n",
        "                    callbacks=[train_rt],\n",
        "                    epochs=15,\n",
        "                    batch_size = 100,\n",
        "                    validation_split = 0.15)"
      ],
      "execution_count": 321,
      "outputs": [
        {
          "output_type": "stream",
          "text": [
            "Train on 6800 samples, validate on 1200 samples\n",
            "Epoch 1/15\n",
            "6800/6800 [==============================] - 2s 290us/step - loss: 77.4875 - accuracy: 0.5966 - val_loss: 0.7012 - val_accuracy: 0.3975\n",
            "Epoch 2/15\n",
            "6800/6800 [==============================] - 2s 248us/step - loss: 0.5996 - accuracy: 0.6644 - val_loss: 0.7529 - val_accuracy: 0.3933\n",
            "Epoch 3/15\n",
            "6800/6800 [==============================] - 2s 246us/step - loss: 0.5823 - accuracy: 0.7038 - val_loss: 0.8613 - val_accuracy: 0.3950\n",
            "Epoch 4/15\n",
            "6800/6800 [==============================] - 2s 251us/step - loss: 0.5543 - accuracy: 0.7347 - val_loss: 0.9980 - val_accuracy: 0.3958\n",
            "Epoch 5/15\n",
            "6800/6800 [==============================] - 2s 243us/step - loss: 0.5508 - accuracy: 0.7360 - val_loss: 1.1274 - val_accuracy: 0.3958\n",
            "Epoch 6/15\n",
            "6800/6800 [==============================] - 2s 243us/step - loss: 0.5330 - accuracy: 0.7460 - val_loss: 1.2419 - val_accuracy: 0.3958\n",
            "Epoch 7/15\n",
            "6800/6800 [==============================] - 2s 245us/step - loss: 0.5147 - accuracy: 0.7568 - val_loss: 1.3681 - val_accuracy: 0.3925\n",
            "Epoch 8/15\n",
            "6800/6800 [==============================] - 2s 244us/step - loss: 0.5114 - accuracy: 0.7621 - val_loss: 1.3612 - val_accuracy: 0.4033\n",
            "Epoch 9/15\n",
            "6800/6800 [==============================] - 2s 244us/step - loss: 0.4979 - accuracy: 0.7672 - val_loss: 1.3369 - val_accuracy: 0.4192\n",
            "Epoch 10/15\n",
            "6800/6800 [==============================] - 2s 245us/step - loss: 0.4912 - accuracy: 0.7751 - val_loss: 1.4358 - val_accuracy: 0.4050\n",
            "Epoch 11/15\n",
            "6800/6800 [==============================] - 2s 246us/step - loss: 0.4982 - accuracy: 0.7750 - val_loss: 1.3628 - val_accuracy: 0.4317\n",
            "Epoch 12/15\n",
            "6800/6800 [==============================] - 2s 245us/step - loss: 0.4893 - accuracy: 0.7768 - val_loss: 1.3964 - val_accuracy: 0.4433\n",
            "Epoch 13/15\n",
            "6800/6800 [==============================] - 2s 241us/step - loss: 0.4803 - accuracy: 0.7828 - val_loss: 1.6152 - val_accuracy: 0.4000\n",
            "Epoch 14/15\n",
            "6800/6800 [==============================] - 2s 245us/step - loss: 0.4839 - accuracy: 0.7815 - val_loss: 1.5476 - val_accuracy: 0.4125\n",
            "Epoch 15/15\n",
            "6800/6800 [==============================] - 2s 243us/step - loss: 0.4824 - accuracy: 0.7782 - val_loss: 1.5252 - val_accuracy: 0.4150\n"
          ],
          "name": "stdout"
        }
      ]
    },
    {
      "cell_type": "code",
      "metadata": {
        "colab_type": "code",
        "outputId": "cca3cbd3-0375-4796-e906-5148cb5e24df",
        "id": "3JZxMxgw-PEd",
        "colab": {
          "base_uri": "https://localhost:8080/",
          "height": 34
        }
      },
      "source": [
        "# Get the training time\n",
        "train_time = train_rt.process_time\n",
        "train_time # in seconds"
      ],
      "execution_count": 322,
      "outputs": [
        {
          "output_type": "execute_result",
          "data": {
            "text/plain": [
              "25.347958"
            ]
          },
          "metadata": {
            "tags": []
          },
          "execution_count": 322
        }
      ]
    },
    {
      "cell_type": "markdown",
      "metadata": {
        "colab_type": "text",
        "id": "EqtMMOck-PEe"
      },
      "source": [
        "##Test the model"
      ]
    },
    {
      "cell_type": "code",
      "metadata": {
        "colab_type": "code",
        "outputId": "2c579b6f-6c14-4d72-bfa6-aae6735f3b97",
        "id": "WYB5zgP0-PEf",
        "colab": {
          "base_uri": "https://localhost:8080/",
          "height": 51
        }
      },
      "source": [
        "test_rt = TestRuntimeCallback()\n",
        "test_loss, test_acc = model.evaluate(X_test, y_test, callbacks=[test_rt])\n",
        "test_loss, test_acc"
      ],
      "execution_count": 323,
      "outputs": [
        {
          "output_type": "stream",
          "text": [
            "2000/2000 [==============================] - 0s 162us/step\n"
          ],
          "name": "stdout"
        },
        {
          "output_type": "execute_result",
          "data": {
            "text/plain": [
              "(1.443521912574768, 0.4440000057220459)"
            ]
          },
          "metadata": {
            "tags": []
          },
          "execution_count": 323
        }
      ]
    },
    {
      "cell_type": "code",
      "metadata": {
        "colab_type": "code",
        "outputId": "b99226de-634f-4c9a-96e9-e9407a5ec47c",
        "id": "7xciv3uR-PEh",
        "colab": {
          "base_uri": "https://localhost:8080/",
          "height": 34
        }
      },
      "source": [
        "test_time = test_rt.process_time\n",
        "test_time # in seconds"
      ],
      "execution_count": 324,
      "outputs": [
        {
          "output_type": "execute_result",
          "data": {
            "text/plain": [
              "0.3245"
            ]
          },
          "metadata": {
            "tags": []
          },
          "execution_count": 324
        }
      ]
    },
    {
      "cell_type": "markdown",
      "metadata": {
        "colab_type": "text",
        "id": "2AYEtkcP-PEj"
      },
      "source": [
        "###Add training and test statistics to results dataframe"
      ]
    },
    {
      "cell_type": "code",
      "metadata": {
        "colab_type": "code",
        "outputId": "c2ef5431-c608-4499-8666-8d44a00991b2",
        "id": "O-iSFVc5-PEj",
        "colab": {
          "base_uri": "https://localhost:8080/",
          "height": 80
        }
      },
      "source": [
        "history_dict = history.history\n",
        "history_df=pd.DataFrame(history_dict)\n",
        "df = history_df.iloc[-1:].copy()\n",
        "df.insert(0,'model','CNN (2 layers, D)') \n",
        "df['test_loss'] = test_loss \n",
        "df['test_accuracy'] = test_acc\n",
        "df['train time'] = train_time     \n",
        "df['test time'] = test_time   \n",
        "df"
      ],
      "execution_count": 325,
      "outputs": [
        {
          "output_type": "execute_result",
          "data": {
            "text/html": [
              "<div>\n",
              "<style scoped>\n",
              "    .dataframe tbody tr th:only-of-type {\n",
              "        vertical-align: middle;\n",
              "    }\n",
              "\n",
              "    .dataframe tbody tr th {\n",
              "        vertical-align: top;\n",
              "    }\n",
              "\n",
              "    .dataframe thead th {\n",
              "        text-align: right;\n",
              "    }\n",
              "</style>\n",
              "<table border=\"1\" class=\"dataframe\">\n",
              "  <thead>\n",
              "    <tr style=\"text-align: right;\">\n",
              "      <th></th>\n",
              "      <th>model</th>\n",
              "      <th>val_loss</th>\n",
              "      <th>val_accuracy</th>\n",
              "      <th>loss</th>\n",
              "      <th>accuracy</th>\n",
              "      <th>test_loss</th>\n",
              "      <th>test_accuracy</th>\n",
              "      <th>train time</th>\n",
              "      <th>test time</th>\n",
              "    </tr>\n",
              "  </thead>\n",
              "  <tbody>\n",
              "    <tr>\n",
              "      <th>14</th>\n",
              "      <td>CNN (2 layers, D)</td>\n",
              "      <td>1.5252</td>\n",
              "      <td>0.415</td>\n",
              "      <td>0.482424</td>\n",
              "      <td>0.778235</td>\n",
              "      <td>1.443522</td>\n",
              "      <td>0.444</td>\n",
              "      <td>25.347958</td>\n",
              "      <td>0.3245</td>\n",
              "    </tr>\n",
              "  </tbody>\n",
              "</table>\n",
              "</div>"
            ],
            "text/plain": [
              "                model  val_loss  ...  train time  test time\n",
              "14  CNN (2 layers, D)    1.5252  ...   25.347958     0.3245\n",
              "\n",
              "[1 rows x 9 columns]"
            ]
          },
          "metadata": {
            "tags": []
          },
          "execution_count": 325
        }
      ]
    },
    {
      "cell_type": "code",
      "metadata": {
        "colab_type": "code",
        "outputId": "effbc766-5a6e-4367-890e-9e08eb0e6484",
        "id": "TAJRhHKP-PEm",
        "colab": {
          "base_uri": "https://localhost:8080/",
          "height": 173
        }
      },
      "source": [
        "results_df=results_df.append(df,ignore_index=True)\n",
        "results_df"
      ],
      "execution_count": 326,
      "outputs": [
        {
          "output_type": "execute_result",
          "data": {
            "text/html": [
              "<div>\n",
              "<style scoped>\n",
              "    .dataframe tbody tr th:only-of-type {\n",
              "        vertical-align: middle;\n",
              "    }\n",
              "\n",
              "    .dataframe tbody tr th {\n",
              "        vertical-align: top;\n",
              "    }\n",
              "\n",
              "    .dataframe thead th {\n",
              "        text-align: right;\n",
              "    }\n",
              "</style>\n",
              "<table border=\"1\" class=\"dataframe\">\n",
              "  <thead>\n",
              "    <tr style=\"text-align: right;\">\n",
              "      <th></th>\n",
              "      <th>model</th>\n",
              "      <th>val_loss</th>\n",
              "      <th>val_accuracy</th>\n",
              "      <th>loss</th>\n",
              "      <th>accuracy</th>\n",
              "      <th>test_loss</th>\n",
              "      <th>test_accuracy</th>\n",
              "      <th>train time</th>\n",
              "      <th>test time</th>\n",
              "    </tr>\n",
              "  </thead>\n",
              "  <tbody>\n",
              "    <tr>\n",
              "      <th>0</th>\n",
              "      <td>DNN (1 layer)</td>\n",
              "      <td>16.384727</td>\n",
              "      <td>0.606667</td>\n",
              "      <td>31.130980</td>\n",
              "      <td>0.623529</td>\n",
              "      <td>17.132965</td>\n",
              "      <td>0.6135</td>\n",
              "      <td>8.703477</td>\n",
              "      <td>0.214072</td>\n",
              "    </tr>\n",
              "    <tr>\n",
              "      <th>1</th>\n",
              "      <td>DNN (2 layers)</td>\n",
              "      <td>0.919493</td>\n",
              "      <td>0.596667</td>\n",
              "      <td>0.691228</td>\n",
              "      <td>0.698676</td>\n",
              "      <td>0.965983</td>\n",
              "      <td>0.5755</td>\n",
              "      <td>10.441911</td>\n",
              "      <td>0.218529</td>\n",
              "    </tr>\n",
              "    <tr>\n",
              "      <th>2</th>\n",
              "      <td>CNN (2 layers)</td>\n",
              "      <td>1.574971</td>\n",
              "      <td>0.711667</td>\n",
              "      <td>0.051818</td>\n",
              "      <td>0.986471</td>\n",
              "      <td>1.490050</td>\n",
              "      <td>0.7365</td>\n",
              "      <td>22.954449</td>\n",
              "      <td>0.316235</td>\n",
              "    </tr>\n",
              "    <tr>\n",
              "      <th>3</th>\n",
              "      <td>CNN (2 layers, D)</td>\n",
              "      <td>1.525200</td>\n",
              "      <td>0.415000</td>\n",
              "      <td>0.482424</td>\n",
              "      <td>0.778235</td>\n",
              "      <td>1.443522</td>\n",
              "      <td>0.4440</td>\n",
              "      <td>25.347958</td>\n",
              "      <td>0.324500</td>\n",
              "    </tr>\n",
              "  </tbody>\n",
              "</table>\n",
              "</div>"
            ],
            "text/plain": [
              "               model   val_loss  ...  train time  test time\n",
              "0      DNN (1 layer)  16.384727  ...    8.703477   0.214072\n",
              "1     DNN (2 layers)   0.919493  ...   10.441911   0.218529\n",
              "2     CNN (2 layers)   1.574971  ...   22.954449   0.316235\n",
              "3  CNN (2 layers, D)   1.525200  ...   25.347958   0.324500\n",
              "\n",
              "[4 rows x 9 columns]"
            ]
          },
          "metadata": {
            "tags": []
          },
          "execution_count": 326
        }
      ]
    },
    {
      "cell_type": "markdown",
      "metadata": {
        "colab_type": "text",
        "id": "YATCILoi-PEn"
      },
      "source": [
        "### Plotting the performance \n"
      ]
    },
    {
      "cell_type": "code",
      "metadata": {
        "colab_type": "code",
        "outputId": "3f0206c7-d9d1-4ec9-f327-35a08d63ba41",
        "id": "Vf9BwqBW-PEo",
        "colab": {
          "base_uri": "https://localhost:8080/",
          "height": 295
        }
      },
      "source": [
        "import matplotlib.pyplot as plt\n",
        "\n",
        "acc = history.history['accuracy']\n",
        "val_acc = history.history['val_accuracy']\n",
        "loss = history.history['loss']\n",
        "val_loss = history.history['val_loss']\n",
        "\n",
        "epochs = range(1, len(acc) + 1)\n",
        "\n",
        "plt.plot(epochs, loss, label='Training loss')\n",
        "plt.plot(epochs, val_loss, label='Validation loss')\n",
        "plt.title('Training and validation loss')\n",
        "\n",
        "plt.xlabel('Epochs')\n",
        "plt.ylabel('Loss')\n",
        "plt.legend()\n",
        "\n",
        "plt.show()"
      ],
      "execution_count": 327,
      "outputs": [
        {
          "output_type": "display_data",
          "data": {
            "image/png": "[encoded data removed]",
            "text/plain": [
              "<Figure size 432x288 with 1 Axes>"
            ]
          },
          "metadata": {
            "tags": [],
            "needs_background": "light"
          }
        }
      ]
    },
    {
      "cell_type": "code",
      "metadata": {
        "colab_type": "code",
        "outputId": "edb86a73-1f8e-4e64-d8ee-5e31392a04bd",
        "id": "p0wtBrwE-PEp",
        "colab": {
          "base_uri": "https://localhost:8080/",
          "height": 295
        }
      },
      "source": [
        "plt.clf()   # clear figure\n",
        "acc_values = history_dict['accuracy']\n",
        "# val_acc_values = history_dict['val_acc']\n",
        "\n",
        "plt.plot(epochs, acc, label='Training acc')\n",
        "plt.plot(epochs, val_acc, label='Validation acc')\n",
        "plt.title('Training and validation accuracy')\n",
        "\n",
        "plt.xlabel('Epochs')\n",
        "plt.ylabel('Accuracy')\n",
        "plt.legend()\n",
        "\n",
        "plt.show()"
      ],
      "execution_count": 328,
      "outputs": [
        {
          "output_type": "display_data",
          "data": {
            "image/png": "[encoded data removed]",
            "text/plain": [
              "<Figure size 432x288 with 1 Axes>"
            ]
          },
          "metadata": {
            "tags": [],
            "needs_background": "light"
          }
        }
      ]
    },
    {
      "cell_type": "markdown",
      "metadata": {
        "colab_type": "text",
        "id": "04hb1iMyU9DQ"
      },
      "source": [
        "###ROC and AUROC"
      ]
    },
    {
      "cell_type": "code",
      "metadata": {
        "colab_type": "code",
        "id": "2IvZuS1wU9DR",
        "colab": {}
      },
      "source": [
        "#Generate predicted probabilities for X_test, and calculate FPR and TPR \n",
        "y_pred = model.predict(X_test).ravel()\n",
        "fpr, tpr, thresholds = roc_curve(y_test, y_pred)"
      ],
      "execution_count": 0,
      "outputs": []
    },
    {
      "cell_type": "code",
      "metadata": {
        "colab_type": "code",
        "id": "gurQ_COxU9DT",
        "colab": {}
      },
      "source": [
        "auc_keras = auc(fpr, tpr)"
      ],
      "execution_count": 0,
      "outputs": []
    },
    {
      "cell_type": "code",
      "metadata": {
        "colab_type": "code",
        "outputId": "ad95ac3a-3d5c-4aab-b239-9532cc870ac2",
        "id": "vWFsU3_DU9DV",
        "colab": {
          "base_uri": "https://localhost:8080/",
          "height": 295
        }
      },
      "source": [
        "#Plot ROC\n",
        "plt.figure(1)\n",
        "plt.plot([0, 1], [0, 1], 'k--')\n",
        "plt.plot(fpr, tpr, label='Area = {:.3f}'.format(auc_keras))\n",
        "plt.xlabel('False positive rate')\n",
        "plt.ylabel('True positive rate')\n",
        "plt.title('ROC curve')\n",
        "plt.legend(loc='best')\n",
        "plt.show()"
      ],
      "execution_count": 331,
      "outputs": [
        {
          "output_type": "display_data",
          "data": {
            "image/png": "[encoded data removed]",
            "text/plain": [
              "<Figure size 432x288 with 1 Axes>"
            ]
          },
          "metadata": {
            "tags": [],
            "needs_background": "light"
          }
        }
      ]
    }
  ]
}