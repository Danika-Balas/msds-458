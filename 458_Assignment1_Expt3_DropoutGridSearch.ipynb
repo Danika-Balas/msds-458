{
  "nbformat": 4,
  "nbformat_minor": 0,
  "metadata": {
    "colab": {
      "name": "458_Assignment1_Expt3.ipynb",
      "provenance": [],
      "authorship_tag": "ABX9TyMrrz1iPKfds0VUucOma5sO",
      "include_colab_link": true
    },
    "kernelspec": {
      "name": "python3",
      "display_name": "Python 3"
    },
    "accelerator": "GPU"
  },
  "cells": [
    {
      "cell_type": "markdown",
      "metadata": {
        "id": "view-in-github",
        "colab_type": "text"
      },
      "source": [
        "<a href=\"https://colab.research.google.com/github/Danika-Balas/msds-458/blob/master/458_Assignment1_Expt3_DropoutGridSearch.ipynb\" target=\"_parent\"><img src=\"https://colab.research.google.com/assets/colab-badge.svg\" alt=\"Open In Colab\"/></a>"
      ]
    },
    {
      "cell_type": "markdown",
      "metadata": {
        "id": "tlSigYwlVuKR",
        "colab_type": "text"
      },
      "source": [
        "##Setup and Preprocessing"
      ]
    },
    {
      "cell_type": "code",
      "metadata": {
        "id": "_D8jpVsoTpY4",
        "colab_type": "code",
        "outputId": "86a7591b-96a7-4144-eac3-61207dab3faa",
        "colab": {
          "base_uri": "https://localhost:8080/",
          "height": 34
        }
      },
      "source": [
        "import numpy as np\n",
        "import pandas as pd\n",
        "\n",
        "import seaborn as sns\n",
        "import matplotlib.pyplot as plt\n",
        "%matplotlib inline\n",
        "sns.set(style=\"whitegrid\")\n",
        "\n",
        "from sklearn import metrics\n",
        "\n",
        "import tensorflow as tf\n",
        "from tensorflow import keras\n",
        "keras.__version__"
      ],
      "execution_count": 22,
      "outputs": [
        {
          "output_type": "execute_result",
          "data": {
            "text/plain": [
              "'2.3.0-tf'"
            ]
          },
          "metadata": {
            "tags": []
          },
          "execution_count": 22
        }
      ]
    },
    {
      "cell_type": "code",
      "metadata": {
        "id": "tZZtq6bpWITd",
        "colab_type": "code",
        "outputId": "e3609673-caf5-4feb-d1bb-9d032bf4ce24",
        "colab": {
          "base_uri": "https://localhost:8080/",
          "height": 34
        }
      },
      "source": [
        "tf.__version__"
      ],
      "execution_count": 23,
      "outputs": [
        {
          "output_type": "execute_result",
          "data": {
            "text/plain": [
              "'2.2.0-rc3'"
            ]
          },
          "metadata": {
            "tags": []
          },
          "execution_count": 23
        }
      ]
    },
    {
      "cell_type": "code",
      "metadata": {
        "id": "Rp2_1vRkVgVJ",
        "colab_type": "code",
        "colab": {}
      },
      "source": [
        "from keras import metrics"
      ],
      "execution_count": 0,
      "outputs": []
    },
    {
      "cell_type": "code",
      "metadata": {
        "id": "BO5dsO7-WLFE",
        "colab_type": "code",
        "colab": {}
      },
      "source": [
        "# neccessary for K.gradient to work in TensorFlow 2.x\n",
        "# only needed for the \"Finding a pattern the hidden node maximally responds to\" section below.\n",
        "# but disabled to make Tensorboard work...\n",
        "tf.compat.v1.disable_eager_execution() "
      ],
      "execution_count": 0,
      "outputs": []
    },
    {
      "cell_type": "code",
      "metadata": {
        "id": "fTtBYXtHWztP",
        "colab_type": "code",
        "colab": {}
      },
      "source": [
        "# Set see in order to achieve consistent results across runs\n",
        "keras.backend.clear_session()\n",
        "np.random.seed(42)\n",
        "tf.random.set_seed(42)"
      ],
      "execution_count": 0,
      "outputs": []
    },
    {
      "cell_type": "markdown",
      "metadata": {
        "id": "wpqFxPDEXFup",
        "colab_type": "text"
      },
      "source": [
        "####Import MNIST dataset"
      ]
    },
    {
      "cell_type": "code",
      "metadata": {
        "id": "65M8kDjCXA0p",
        "colab_type": "code",
        "colab": {}
      },
      "source": [
        "from tensorflow.keras.datasets import mnist\n",
        "(train_images, train_labels), (test_images, test_labels) = mnist.load_data()"
      ],
      "execution_count": 0,
      "outputs": []
    },
    {
      "cell_type": "code",
      "metadata": {
        "id": "5ye8BcA0XYvH",
        "colab_type": "code",
        "outputId": "2b1c59e1-1674-4365-c1e4-3bf443c687ae",
        "colab": {
          "base_uri": "https://localhost:8080/",
          "height": 34
        }
      },
      "source": [
        "train_images.shape, test_images.shape, test_labels.shape, test_labels.shape"
      ],
      "execution_count": 28,
      "outputs": [
        {
          "output_type": "execute_result",
          "data": {
            "text/plain": [
              "((60000, 28, 28), (10000, 28, 28), (10000,), (10000,))"
            ]
          },
          "metadata": {
            "tags": []
          },
          "execution_count": 28
        }
      ]
    },
    {
      "cell_type": "code",
      "metadata": {
        "id": "M5gJtcFsOpHi",
        "colab_type": "code",
        "outputId": "ed99ef3a-022e-408d-9716-a650a70cf7e6",
        "colab": {
          "base_uri": "https://localhost:8080/",
          "height": 34
        }
      },
      "source": [
        "#Store copy of training images in order to easily view images even after transformation are performed\n",
        "example_train_images = train_images.copy()\n",
        "example_train_images.shape"
      ],
      "execution_count": 29,
      "outputs": [
        {
          "output_type": "execute_result",
          "data": {
            "text/plain": [
              "(60000, 28, 28)"
            ]
          },
          "metadata": {
            "tags": []
          },
          "execution_count": 29
        }
      ]
    },
    {
      "cell_type": "code",
      "metadata": {
        "id": "jJIB5WuVXwK2",
        "colab_type": "code",
        "outputId": "718677aa-e279-4150-c4be-8d4c866e9542",
        "colab": {
          "base_uri": "https://localhost:8080/",
          "height": 268
        }
      },
      "source": [
        "# Example of a single sample, a 28x28 pixel image of a handwritten digit\n",
        "digit = example_train_images[2]\n",
        "\n",
        "plt.imshow(digit, cmap=plt.cm.binary)\n",
        "plt.show()"
      ],
      "execution_count": 30,
      "outputs": [
        {
          "output_type": "display_data",
          "data": {
            "image/png": "[encoded data removed]",
            "text/plain": [
              "<Figure size 432x288 with 1 Axes>"
            ]
          },
          "metadata": {
            "tags": []
          }
        }
      ]
    },
    {
      "cell_type": "markdown",
      "metadata": {
        "id": "Nsn_iI4MqBtg",
        "colab_type": "text"
      },
      "source": [
        "####Prepare the data"
      ]
    },
    {
      "cell_type": "code",
      "metadata": {
        "id": "9ME7Vm7GYCwq",
        "colab_type": "code",
        "colab": {}
      },
      "source": [
        "# Reshape the data into the shape that the network expects\n",
        "train_images = train_images.reshape((60000, 28 * 28))\n",
        "\n",
        "# Scale the data to [0,1] interval\n",
        "train_images = train_images.astype('float32') / 255\n",
        "\n",
        "# Do the same for the test dataset\n",
        "test_images = test_images.reshape((10000, 28 * 28))\n",
        "test_images = test_images.astype('float32') / 255"
      ],
      "execution_count": 0,
      "outputs": []
    },
    {
      "cell_type": "code",
      "metadata": {
        "id": "ElgA23UFq0lB",
        "colab_type": "code",
        "colab": {}
      },
      "source": [
        "# Split training data into training set and validation set\n",
        "val_images, train_images = train_images[:5000], train_images[5000:]\n",
        "val_labels, train_labels = train_labels[:5000], train_labels[5000:]"
      ],
      "execution_count": 0,
      "outputs": []
    },
    {
      "cell_type": "markdown",
      "metadata": {
        "id": "fmDzWxIu78_L",
        "colab_type": "text"
      },
      "source": [
        "#Experiment 3"
      ]
    },
    {
      "cell_type": "markdown",
      "metadata": {
        "id": "x5_ueNa18nef",
        "colab_type": "text"
      },
      "source": [
        "We will fine-tune the hyperparameters of the model until we find the 'best' model according to our selected metrics"
      ]
    },
    {
      "cell_type": "code",
      "metadata": {
        "id": "DqLphCVo8D9c",
        "colab_type": "code",
        "colab": {}
      },
      "source": [
        "# Function builds models with 1 hidden layer (by default), then the same number of nodes in each hidden layer\n",
        "from tensorflow.keras import models\n",
        "from tensorflow.keras import layers\n",
        "\n",
        "def build_model(n_hidden=1, n_neurons=2, learning_rate=0.001, input_shape=(28 * 28,)):\n",
        "    model = models.Sequential()\n",
        "    model.add(layers.InputLayer(input_shape=input_shape))\n",
        "    model.add(keras.layers.Dense(85, activation=\"relu\"))\n",
        "    for layer in range(n_hidden):\n",
        "        model.add(keras.layers.Dense(n_neurons, activation=\"relu\"))\n",
        "    model.add(keras.layers.Dropout(0.25))\n",
        "    model.add(layers.Dense(10, activation='softmax'))\n",
        "    optimizer = keras.optimizers.Adam(lr=learning_rate)\n",
        "    model.compile(loss='sparse_categorical_crossentropy', optimizer=optimizer,  metrics=['accuracy'])\n",
        "    return model"
      ],
      "execution_count": 0,
      "outputs": []
    },
    {
      "cell_type": "code",
      "metadata": {
        "id": "P8yORVMj93Hv",
        "colab_type": "code",
        "colab": {}
      },
      "source": [
        "# This function builds models with varying number of nodes in each hidden layer\n",
        "def build_model2(n_neurons=(2,3), learning_rate=0.001, input_shape=(28 * 28,)):\n",
        "    model = models.Sequential()\n",
        "    model.add(layers.InputLayer(input_shape=input_shape))\n",
        "    for layer in range(len(n_neurons)):\n",
        "        model.add(keras.layers.Dense(n_neurons[layer], activation=\"relu\"))\n",
        "    model.add(layers.Dense(10, activation='softmax'))\n",
        "    optimizer = keras.optimizers.Adam(lr=learning_rate)\n",
        "    model.compile(loss='sparse_categorical_crossentropy', optimizer=optimizer,  metrics=['accuracy'])\n",
        "    return model"
      ],
      "execution_count": 0,
      "outputs": []
    },
    {
      "cell_type": "code",
      "metadata": {
        "id": "LWNTDtmilzlI",
        "colab_type": "code",
        "colab": {}
      },
      "source": [
        "# Function builds models with 1 hidden layer (by default), then the same number of nodes in each hidden layer\n",
        "from tensorflow.keras import models\n",
        "from tensorflow.keras import layers\n",
        "\n",
        "def build_model3(n_hidden=1, n_neurons=2, learning_rate=0.001, input_shape=(28 * 28,), n_dropout=0.05):\n",
        "    model = models.Sequential()\n",
        "    model.add(layers.InputLayer(input_shape=input_shape))\n",
        "    model.add(keras.layers.Dense(110, activation=\"relu\"))\n",
        "    model.add(keras.layers.Dropout(n_dropout))\n",
        "    model.add(layers.Dense(10, activation='softmax'))\n",
        "    optimizer = keras.optimizers.Adam(lr=learning_rate)\n",
        "    model.compile(loss='sparse_categorical_crossentropy', optimizer=optimizer,  metrics=['accuracy'])\n",
        "    return model"
      ],
      "execution_count": 0,
      "outputs": []
    },
    {
      "cell_type": "code",
      "metadata": {
        "id": "m40FBZQsFRlD",
        "colab_type": "code",
        "colab": {}
      },
      "source": [
        "from tensorflow.keras.wrappers.scikit_learn import KerasClassifier\n",
        "keras_clf = KerasClassifier(build_model3)"
      ],
      "execution_count": 0,
      "outputs": []
    },
    {
      "cell_type": "code",
      "metadata": {
        "id": "n3DYgnj-FY6k",
        "colab_type": "code",
        "outputId": "5f28d910-d7b0-4a5d-dc03-837dd09274c7",
        "colab": {
          "base_uri": "https://localhost:8080/",
          "height": 34
        }
      },
      "source": [
        "#param_grid = {'n_neurons': range(680,720,5)}\n",
        "param_grid = {'n_dropout': (0,0.05,0.1,0.15,0.2,0.25,0.3)}\n",
        "param_grid"
      ],
      "execution_count": 41,
      "outputs": [
        {
          "output_type": "execute_result",
          "data": {
            "text/plain": [
              "{'n_dropout': (0, 0.05, 0.1, 0.15, 0.2, 0.25, 0.3)}"
            ]
          },
          "metadata": {
            "tags": []
          },
          "execution_count": 41
        }
      ]
    },
    {
      "cell_type": "markdown",
      "metadata": {
        "id": "elLBPW5OF27j",
        "colab_type": "text"
      },
      "source": [
        "Use grid search to train models with different combinations of parameter values"
      ]
    },
    {
      "cell_type": "code",
      "metadata": {
        "id": "crzvlHtkNm3n",
        "colab_type": "code",
        "colab": {
          "base_uri": "https://localhost:8080/",
          "height": 1000
        },
        "outputId": "6aaa93a8-7ee6-469f-a728-8a3167e5f83b"
      },
      "source": [
        "from sklearn.model_selection import GridSearchCV\n",
        "\n",
        "grid_cv = GridSearchCV(estimator=keras_clf, param_grid=param_grid,cv=3,verbose = 2)\n",
        "grid_cv.fit(train_images, train_labels, epochs=30,\n",
        "                  validation_data=(val_images, val_labels),\n",
        "                  callbacks=[keras.callbacks.EarlyStopping(patience=2)])"
      ],
      "execution_count": 42,
      "outputs": [
        {
          "output_type": "stream",
          "text": [
            "Fitting 3 folds for each of 7 candidates, totalling 21 fits\n",
            "[CV] n_dropout=0 .....................................................\n"
          ],
          "name": "stdout"
        },
        {
          "output_type": "stream",
          "text": [
            "[Parallel(n_jobs=1)]: Using backend SequentialBackend with 1 concurrent workers.\n"
          ],
          "name": "stderr"
        },
        {
          "output_type": "stream",
          "text": [
            "Train on 36666 samples, validate on 5000 samples\n",
            "Epoch 1/30\n",
            "36666/36666 [==============================] - 4s 121us/sample - loss: 0.3285 - accuracy: 0.9073 - val_loss: 0.1801 - val_accuracy: 0.9510\n",
            "Epoch 2/30\n",
            "36666/36666 [==============================] - 4s 110us/sample - loss: 0.1547 - accuracy: 0.9550 - val_loss: 0.1321 - val_accuracy: 0.9638\n",
            "Epoch 3/30\n",
            "36666/36666 [==============================] - 4s 116us/sample - loss: 0.1062 - accuracy: 0.9690 - val_loss: 0.1065 - val_accuracy: 0.9684\n",
            "Epoch 4/30\n",
            "36666/36666 [==============================] - 4s 108us/sample - loss: 0.0803 - accuracy: 0.9753 - val_loss: 0.1023 - val_accuracy: 0.9678\n",
            "Epoch 5/30\n",
            "36666/36666 [==============================] - 4s 108us/sample - loss: 0.0621 - accuracy: 0.9807 - val_loss: 0.0981 - val_accuracy: 0.9724\n",
            "Epoch 6/30\n",
            "36666/36666 [==============================] - 4s 106us/sample - loss: 0.0493 - accuracy: 0.9851 - val_loss: 0.0940 - val_accuracy: 0.9726\n",
            "Epoch 7/30\n",
            "36666/36666 [==============================] - 4s 109us/sample - loss: 0.0398 - accuracy: 0.9881 - val_loss: 0.0947 - val_accuracy: 0.9708\n",
            "Epoch 8/30\n",
            "36666/36666 [==============================] - 4s 113us/sample - loss: 0.0319 - accuracy: 0.9907 - val_loss: 0.0873 - val_accuracy: 0.9750\n",
            "Epoch 9/30\n",
            "36666/36666 [==============================] - 4s 114us/sample - loss: 0.0269 - accuracy: 0.9918 - val_loss: 0.1007 - val_accuracy: 0.9702\n",
            "Epoch 10/30\n",
            "36666/36666 [==============================] - 4s 108us/sample - loss: 0.0192 - accuracy: 0.9949 - val_loss: 0.0991 - val_accuracy: 0.9704\n",
            "[CV] ...................................... n_dropout=0, total=  42.4s\n",
            "[CV] n_dropout=0 .....................................................\n"
          ],
          "name": "stdout"
        },
        {
          "output_type": "stream",
          "text": [
            "[Parallel(n_jobs=1)]: Done   1 out of   1 | elapsed:   42.4s remaining:    0.0s\n"
          ],
          "name": "stderr"
        },
        {
          "output_type": "stream",
          "text": [
            "Train on 36667 samples, validate on 5000 samples\n",
            "Epoch 1/30\n",
            "36667/36667 [==============================] - 4s 115us/sample - loss: 0.3250 - accuracy: 0.9082 - val_loss: 0.1799 - val_accuracy: 0.9532\n",
            "Epoch 2/30\n",
            "36667/36667 [==============================] - 4s 111us/sample - loss: 0.1504 - accuracy: 0.9567 - val_loss: 0.1318 - val_accuracy: 0.9646\n",
            "Epoch 3/30\n",
            "36667/36667 [==============================] - 4s 111us/sample - loss: 0.1056 - accuracy: 0.9685 - val_loss: 0.1107 - val_accuracy: 0.9676\n",
            "Epoch 4/30\n",
            "36667/36667 [==============================] - 4s 106us/sample - loss: 0.0793 - accuracy: 0.9763 - val_loss: 0.0981 - val_accuracy: 0.9716\n",
            "Epoch 5/30\n",
            "36667/36667 [==============================] - 4s 111us/sample - loss: 0.0596 - accuracy: 0.9823 - val_loss: 0.0987 - val_accuracy: 0.9688\n",
            "Epoch 6/30\n",
            "36667/36667 [==============================] - 4s 105us/sample - loss: 0.0473 - accuracy: 0.9855 - val_loss: 0.0904 - val_accuracy: 0.9740\n",
            "Epoch 7/30\n",
            "36667/36667 [==============================] - 4s 108us/sample - loss: 0.0381 - accuracy: 0.9888 - val_loss: 0.0849 - val_accuracy: 0.9764\n",
            "Epoch 8/30\n",
            "36667/36667 [==============================] - 4s 112us/sample - loss: 0.0297 - accuracy: 0.9911 - val_loss: 0.0966 - val_accuracy: 0.9724\n",
            "Epoch 9/30\n",
            "36667/36667 [==============================] - 4s 107us/sample - loss: 0.0237 - accuracy: 0.9927 - val_loss: 0.0868 - val_accuracy: 0.9760\n",
            "[CV] ...................................... n_dropout=0, total=  37.7s\n",
            "[CV] n_dropout=0 .....................................................\n",
            "Train on 36667 samples, validate on 5000 samples\n",
            "Epoch 1/30\n",
            "36667/36667 [==============================] - 4s 114us/sample - loss: 0.3294 - accuracy: 0.9076 - val_loss: 0.1785 - val_accuracy: 0.9498\n",
            "Epoch 2/30\n",
            "36667/36667 [==============================] - 4s 110us/sample - loss: 0.1503 - accuracy: 0.9561 - val_loss: 0.1400 - val_accuracy: 0.9620\n",
            "Epoch 3/30\n",
            "36667/36667 [==============================] - 4s 112us/sample - loss: 0.1053 - accuracy: 0.9687 - val_loss: 0.1207 - val_accuracy: 0.9638\n",
            "Epoch 4/30\n",
            "36667/36667 [==============================] - 4s 111us/sample - loss: 0.0790 - accuracy: 0.9764 - val_loss: 0.0960 - val_accuracy: 0.9718\n",
            "Epoch 5/30\n",
            "36667/36667 [==============================] - 4s 111us/sample - loss: 0.0599 - accuracy: 0.9822 - val_loss: 0.0991 - val_accuracy: 0.9714\n",
            "Epoch 6/30\n",
            "36667/36667 [==============================] - 4s 108us/sample - loss: 0.0485 - accuracy: 0.9857 - val_loss: 0.0935 - val_accuracy: 0.9718\n",
            "Epoch 7/30\n",
            "36667/36667 [==============================] - 4s 113us/sample - loss: 0.0381 - accuracy: 0.9890 - val_loss: 0.0871 - val_accuracy: 0.9748\n",
            "Epoch 8/30\n",
            "36667/36667 [==============================] - 4s 109us/sample - loss: 0.0304 - accuracy: 0.9913 - val_loss: 0.0933 - val_accuracy: 0.9748\n",
            "Epoch 9/30\n",
            "36667/36667 [==============================] - 4s 113us/sample - loss: 0.0245 - accuracy: 0.9930 - val_loss: 0.0960 - val_accuracy: 0.9736\n",
            "[CV] ...................................... n_dropout=0, total=  38.5s\n",
            "[CV] n_dropout=0.05 ..................................................\n",
            "Train on 36666 samples, validate on 5000 samples\n",
            "Epoch 1/30\n",
            "36666/36666 [==============================] - 4s 122us/sample - loss: 0.3366 - accuracy: 0.9050 - val_loss: 0.1743 - val_accuracy: 0.9512\n",
            "Epoch 2/30\n",
            "36666/36666 [==============================] - 4s 113us/sample - loss: 0.1601 - accuracy: 0.9528 - val_loss: 0.1367 - val_accuracy: 0.9616\n",
            "Epoch 3/30\n",
            "36666/36666 [==============================] - 4s 117us/sample - loss: 0.1123 - accuracy: 0.9665 - val_loss: 0.1123 - val_accuracy: 0.9662\n",
            "Epoch 4/30\n",
            "36666/36666 [==============================] - 4s 115us/sample - loss: 0.0889 - accuracy: 0.9742 - val_loss: 0.0974 - val_accuracy: 0.9696\n",
            "Epoch 5/30\n",
            "36666/36666 [==============================] - 4s 107us/sample - loss: 0.0711 - accuracy: 0.9785 - val_loss: 0.0977 - val_accuracy: 0.9702\n",
            "Epoch 6/30\n",
            "36666/36666 [==============================] - 4s 109us/sample - loss: 0.0585 - accuracy: 0.9816 - val_loss: 0.0855 - val_accuracy: 0.9760\n",
            "Epoch 7/30\n",
            "36666/36666 [==============================] - 4s 113us/sample - loss: 0.0487 - accuracy: 0.9847 - val_loss: 0.0975 - val_accuracy: 0.9700\n",
            "Epoch 8/30\n",
            "36666/36666 [==============================] - 4s 111us/sample - loss: 0.0416 - accuracy: 0.9872 - val_loss: 0.0923 - val_accuracy: 0.9730\n",
            "[CV] ................................... n_dropout=0.05, total=  34.9s\n",
            "[CV] n_dropout=0.05 ..................................................\n",
            "Train on 36667 samples, validate on 5000 samples\n",
            "Epoch 1/30\n",
            "36667/36667 [==============================] - 4s 120us/sample - loss: 0.3474 - accuracy: 0.9000 - val_loss: 0.1842 - val_accuracy: 0.9506\n",
            "Epoch 2/30\n",
            "36667/36667 [==============================] - 4s 112us/sample - loss: 0.1638 - accuracy: 0.9533 - val_loss: 0.1324 - val_accuracy: 0.9646\n",
            "Epoch 3/30\n",
            "36667/36667 [==============================] - 4s 117us/sample - loss: 0.1123 - accuracy: 0.9666 - val_loss: 0.1089 - val_accuracy: 0.9700\n",
            "Epoch 4/30\n",
            "36667/36667 [==============================] - 4s 112us/sample - loss: 0.0868 - accuracy: 0.9732 - val_loss: 0.0910 - val_accuracy: 0.9724\n",
            "Epoch 5/30\n",
            "36667/36667 [==============================] - 4s 108us/sample - loss: 0.0691 - accuracy: 0.9789 - val_loss: 0.0891 - val_accuracy: 0.9724\n",
            "Epoch 6/30\n",
            "36667/36667 [==============================] - 4s 106us/sample - loss: 0.0565 - accuracy: 0.9824 - val_loss: 0.0967 - val_accuracy: 0.9702\n",
            "Epoch 7/30\n",
            "36667/36667 [==============================] - 4s 108us/sample - loss: 0.0448 - accuracy: 0.9858 - val_loss: 0.0814 - val_accuracy: 0.9758\n",
            "Epoch 8/30\n",
            "36667/36667 [==============================] - 4s 114us/sample - loss: 0.0402 - accuracy: 0.9873 - val_loss: 0.0869 - val_accuracy: 0.9756\n",
            "Epoch 9/30\n",
            "36667/36667 [==============================] - 4s 111us/sample - loss: 0.0334 - accuracy: 0.9894 - val_loss: 0.0901 - val_accuracy: 0.9722\n",
            "[CV] ................................... n_dropout=0.05, total=  38.7s\n",
            "[CV] n_dropout=0.05 ..................................................\n",
            "Train on 36667 samples, validate on 5000 samples\n",
            "Epoch 1/30\n",
            "36667/36667 [==============================] - 4s 114us/sample - loss: 0.3449 - accuracy: 0.9009 - val_loss: 0.1738 - val_accuracy: 0.9520\n",
            "Epoch 2/30\n",
            "36667/36667 [==============================] - 4s 109us/sample - loss: 0.1607 - accuracy: 0.9527 - val_loss: 0.1285 - val_accuracy: 0.9638\n",
            "Epoch 3/30\n",
            "36667/36667 [==============================] - 4s 110us/sample - loss: 0.1127 - accuracy: 0.9652 - val_loss: 0.1039 - val_accuracy: 0.9704\n",
            "Epoch 4/30\n",
            "36667/36667 [==============================] - 4s 110us/sample - loss: 0.0860 - accuracy: 0.9737 - val_loss: 0.1051 - val_accuracy: 0.9684\n",
            "Epoch 5/30\n",
            "36667/36667 [==============================] - 4s 109us/sample - loss: 0.0687 - accuracy: 0.9785 - val_loss: 0.0967 - val_accuracy: 0.9704\n",
            "Epoch 6/30\n",
            "36667/36667 [==============================] - 4s 108us/sample - loss: 0.0568 - accuracy: 0.9821 - val_loss: 0.0848 - val_accuracy: 0.9742\n",
            "Epoch 7/30\n",
            "36667/36667 [==============================] - 4s 109us/sample - loss: 0.0487 - accuracy: 0.9843 - val_loss: 0.0909 - val_accuracy: 0.9734\n",
            "Epoch 8/30\n",
            "36667/36667 [==============================] - 4s 119us/sample - loss: 0.0403 - accuracy: 0.9874 - val_loss: 0.0897 - val_accuracy: 0.9742\n",
            "[CV] ................................... n_dropout=0.05, total=  34.4s\n",
            "[CV] n_dropout=0.1 ...................................................\n",
            "Train on 36666 samples, validate on 5000 samples\n",
            "Epoch 1/30\n",
            "36666/36666 [==============================] - 4s 115us/sample - loss: 0.3499 - accuracy: 0.8982 - val_loss: 0.1769 - val_accuracy: 0.9504\n",
            "Epoch 2/30\n",
            "36666/36666 [==============================] - 4s 107us/sample - loss: 0.1692 - accuracy: 0.9499 - val_loss: 0.1266 - val_accuracy: 0.9656\n",
            "Epoch 3/30\n",
            "36666/36666 [==============================] - 4s 111us/sample - loss: 0.1221 - accuracy: 0.9641 - val_loss: 0.1047 - val_accuracy: 0.9688\n",
            "Epoch 4/30\n",
            "36666/36666 [==============================] - 4s 115us/sample - loss: 0.0952 - accuracy: 0.9712 - val_loss: 0.0962 - val_accuracy: 0.9720\n",
            "Epoch 5/30\n",
            "36666/36666 [==============================] - 4s 115us/sample - loss: 0.0786 - accuracy: 0.9759 - val_loss: 0.0893 - val_accuracy: 0.9752\n",
            "Epoch 6/30\n",
            "36666/36666 [==============================] - 4s 108us/sample - loss: 0.0651 - accuracy: 0.9802 - val_loss: 0.0900 - val_accuracy: 0.9734\n",
            "Epoch 7/30\n",
            "36666/36666 [==============================] - 4s 108us/sample - loss: 0.0550 - accuracy: 0.9831 - val_loss: 0.0855 - val_accuracy: 0.9732\n",
            "Epoch 8/30\n",
            "36666/36666 [==============================] - 4s 107us/sample - loss: 0.0468 - accuracy: 0.9854 - val_loss: 0.0831 - val_accuracy: 0.9744\n",
            "Epoch 9/30\n",
            "36666/36666 [==============================] - 4s 107us/sample - loss: 0.0421 - accuracy: 0.9864 - val_loss: 0.0846 - val_accuracy: 0.9764\n",
            "Epoch 10/30\n",
            "36666/36666 [==============================] - 4s 115us/sample - loss: 0.0377 - accuracy: 0.9879 - val_loss: 0.0789 - val_accuracy: 0.9784\n",
            "Epoch 11/30\n",
            "36666/36666 [==============================] - 4s 116us/sample - loss: 0.0309 - accuracy: 0.9897 - val_loss: 0.0824 - val_accuracy: 0.9752\n",
            "Epoch 12/30\n",
            "36666/36666 [==============================] - 4s 120us/sample - loss: 0.0289 - accuracy: 0.9908 - val_loss: 0.0901 - val_accuracy: 0.9756\n",
            "[CV] .................................... n_dropout=0.1, total=  51.2s\n",
            "[CV] n_dropout=0.1 ...................................................\n",
            "Train on 36667 samples, validate on 5000 samples\n",
            "Epoch 1/30\n",
            "36667/36667 [==============================] - 4s 116us/sample - loss: 0.3442 - accuracy: 0.9003 - val_loss: 0.1756 - val_accuracy: 0.9490\n",
            "Epoch 2/30\n",
            "36667/36667 [==============================] - 4s 116us/sample - loss: 0.1639 - accuracy: 0.9517 - val_loss: 0.1290 - val_accuracy: 0.9652\n",
            "Epoch 3/30\n",
            "36667/36667 [==============================] - 4s 107us/sample - loss: 0.1194 - accuracy: 0.9638 - val_loss: 0.1158 - val_accuracy: 0.9664\n",
            "Epoch 4/30\n",
            "36667/36667 [==============================] - 4s 112us/sample - loss: 0.0942 - accuracy: 0.9711 - val_loss: 0.0967 - val_accuracy: 0.9730\n",
            "Epoch 5/30\n",
            "36667/36667 [==============================] - 4s 113us/sample - loss: 0.0745 - accuracy: 0.9775 - val_loss: 0.0896 - val_accuracy: 0.9728\n",
            "Epoch 6/30\n",
            "36667/36667 [==============================] - 4s 114us/sample - loss: 0.0648 - accuracy: 0.9793 - val_loss: 0.0874 - val_accuracy: 0.9734\n",
            "Epoch 7/30\n",
            "36667/36667 [==============================] - 4s 110us/sample - loss: 0.0547 - accuracy: 0.9829 - val_loss: 0.0849 - val_accuracy: 0.9764\n",
            "Epoch 8/30\n",
            "36667/36667 [==============================] - 4s 107us/sample - loss: 0.0448 - accuracy: 0.9856 - val_loss: 0.0824 - val_accuracy: 0.9772\n",
            "Epoch 9/30\n",
            "36667/36667 [==============================] - 4s 112us/sample - loss: 0.0390 - accuracy: 0.9876 - val_loss: 0.0818 - val_accuracy: 0.9782\n",
            "Epoch 10/30\n",
            "36667/36667 [==============================] - 4s 107us/sample - loss: 0.0355 - accuracy: 0.9883 - val_loss: 0.0937 - val_accuracy: 0.9740\n",
            "Epoch 11/30\n",
            "36667/36667 [==============================] - 4s 107us/sample - loss: 0.0313 - accuracy: 0.9899 - val_loss: 0.0786 - val_accuracy: 0.9790\n",
            "Epoch 12/30\n",
            "36667/36667 [==============================] - 4s 111us/sample - loss: 0.0287 - accuracy: 0.9912 - val_loss: 0.0774 - val_accuracy: 0.9798\n",
            "Epoch 13/30\n",
            "36667/36667 [==============================] - 4s 107us/sample - loss: 0.0254 - accuracy: 0.9919 - val_loss: 0.0846 - val_accuracy: 0.9776\n",
            "Epoch 14/30\n",
            "36667/36667 [==============================] - 4s 109us/sample - loss: 0.0233 - accuracy: 0.9926 - val_loss: 0.0908 - val_accuracy: 0.9766\n",
            "[CV] .................................... n_dropout=0.1, total=  58.7s\n",
            "[CV] n_dropout=0.1 ...................................................\n",
            "Train on 36667 samples, validate on 5000 samples\n",
            "Epoch 1/30\n",
            "36667/36667 [==============================] - 4s 112us/sample - loss: 0.3525 - accuracy: 0.8980 - val_loss: 0.1784 - val_accuracy: 0.9492\n",
            "Epoch 2/30\n",
            "36667/36667 [==============================] - 4s 112us/sample - loss: 0.1650 - accuracy: 0.9514 - val_loss: 0.1305 - val_accuracy: 0.9638\n",
            "Epoch 3/30\n",
            "36667/36667 [==============================] - 4s 108us/sample - loss: 0.1188 - accuracy: 0.9649 - val_loss: 0.1017 - val_accuracy: 0.9692\n",
            "Epoch 4/30\n",
            "36667/36667 [==============================] - 4s 108us/sample - loss: 0.0923 - accuracy: 0.9729 - val_loss: 0.0921 - val_accuracy: 0.9738\n",
            "Epoch 5/30\n",
            "36667/36667 [==============================] - 4s 113us/sample - loss: 0.0755 - accuracy: 0.9765 - val_loss: 0.0886 - val_accuracy: 0.9730\n",
            "Epoch 6/30\n",
            "36667/36667 [==============================] - 4s 106us/sample - loss: 0.0628 - accuracy: 0.9809 - val_loss: 0.0884 - val_accuracy: 0.9742\n",
            "Epoch 7/30\n",
            "36667/36667 [==============================] - 4s 110us/sample - loss: 0.0512 - accuracy: 0.9836 - val_loss: 0.0804 - val_accuracy: 0.9770\n",
            "Epoch 8/30\n",
            "36667/36667 [==============================] - 4s 106us/sample - loss: 0.0469 - accuracy: 0.9856 - val_loss: 0.0864 - val_accuracy: 0.9764\n",
            "Epoch 9/30\n",
            "36667/36667 [==============================] - 4s 109us/sample - loss: 0.0390 - accuracy: 0.9875 - val_loss: 0.0795 - val_accuracy: 0.9784\n",
            "Epoch 10/30\n",
            "36667/36667 [==============================] - 4s 117us/sample - loss: 0.0365 - accuracy: 0.9875 - val_loss: 0.0769 - val_accuracy: 0.9784\n",
            "Epoch 11/30\n",
            "36667/36667 [==============================] - 4s 106us/sample - loss: 0.0325 - accuracy: 0.9898 - val_loss: 0.0829 - val_accuracy: 0.9772\n",
            "Epoch 12/30\n",
            "36667/36667 [==============================] - 4s 105us/sample - loss: 0.0280 - accuracy: 0.9915 - val_loss: 0.0802 - val_accuracy: 0.9778\n",
            "[CV] .................................... n_dropout=0.1, total=  50.1s\n",
            "[CV] n_dropout=0.15 ..................................................\n",
            "Train on 36666 samples, validate on 5000 samples\n",
            "Epoch 1/30\n",
            "36666/36666 [==============================] - 4s 117us/sample - loss: 0.3597 - accuracy: 0.8955 - val_loss: 0.1762 - val_accuracy: 0.9522\n",
            "Epoch 2/30\n",
            "36666/36666 [==============================] - 4s 116us/sample - loss: 0.1746 - accuracy: 0.9498 - val_loss: 0.1261 - val_accuracy: 0.9622\n",
            "Epoch 3/30\n",
            "36666/36666 [==============================] - 4s 111us/sample - loss: 0.1311 - accuracy: 0.9605 - val_loss: 0.1152 - val_accuracy: 0.9646\n",
            "Epoch 4/30\n",
            "36666/36666 [==============================] - 4s 115us/sample - loss: 0.1045 - accuracy: 0.9689 - val_loss: 0.0992 - val_accuracy: 0.9726\n",
            "Epoch 5/30\n",
            "36666/36666 [==============================] - 4s 115us/sample - loss: 0.0877 - accuracy: 0.9729 - val_loss: 0.0960 - val_accuracy: 0.9706\n",
            "Epoch 6/30\n",
            "36666/36666 [==============================] - 4s 111us/sample - loss: 0.0728 - accuracy: 0.9775 - val_loss: 0.0925 - val_accuracy: 0.9728\n",
            "Epoch 7/30\n",
            "36666/36666 [==============================] - 4s 106us/sample - loss: 0.0641 - accuracy: 0.9800 - val_loss: 0.0889 - val_accuracy: 0.9754\n",
            "Epoch 8/30\n",
            "36666/36666 [==============================] - 4s 112us/sample - loss: 0.0555 - accuracy: 0.9815 - val_loss: 0.0846 - val_accuracy: 0.9740\n",
            "Epoch 9/30\n",
            "36666/36666 [==============================] - 4s 111us/sample - loss: 0.0510 - accuracy: 0.9836 - val_loss: 0.0887 - val_accuracy: 0.9746\n",
            "Epoch 10/30\n",
            "36666/36666 [==============================] - 4s 115us/sample - loss: 0.0451 - accuracy: 0.9851 - val_loss: 0.0870 - val_accuracy: 0.9754\n",
            "[CV] ................................... n_dropout=0.15, total=  43.4s\n",
            "[CV] n_dropout=0.15 ..................................................\n",
            "Train on 36667 samples, validate on 5000 samples\n",
            "Epoch 1/30\n",
            "36667/36667 [==============================] - 4s 114us/sample - loss: 0.3778 - accuracy: 0.8921 - val_loss: 0.1912 - val_accuracy: 0.9462\n",
            "Epoch 2/30\n",
            "36667/36667 [==============================] - 4s 107us/sample - loss: 0.1828 - accuracy: 0.9464 - val_loss: 0.1364 - val_accuracy: 0.9628\n",
            "Epoch 3/30\n",
            "36667/36667 [==============================] - 4s 105us/sample - loss: 0.1324 - accuracy: 0.9613 - val_loss: 0.1111 - val_accuracy: 0.9662\n",
            "Epoch 4/30\n",
            "36667/36667 [==============================] - 4s 105us/sample - loss: 0.1058 - accuracy: 0.9684 - val_loss: 0.0960 - val_accuracy: 0.9698\n",
            "Epoch 5/30\n",
            "36667/36667 [==============================] - 4s 108us/sample - loss: 0.0872 - accuracy: 0.9733 - val_loss: 0.0929 - val_accuracy: 0.9708\n",
            "Epoch 6/30\n",
            "36667/36667 [==============================] - 4s 107us/sample - loss: 0.0721 - accuracy: 0.9779 - val_loss: 0.0836 - val_accuracy: 0.9746\n",
            "Epoch 7/30\n",
            "36667/36667 [==============================] - 4s 107us/sample - loss: 0.0639 - accuracy: 0.9798 - val_loss: 0.0804 - val_accuracy: 0.9744\n",
            "Epoch 8/30\n",
            "36667/36667 [==============================] - 4s 106us/sample - loss: 0.0548 - accuracy: 0.9820 - val_loss: 0.0834 - val_accuracy: 0.9766\n",
            "Epoch 9/30\n",
            "36667/36667 [==============================] - 4s 105us/sample - loss: 0.0482 - accuracy: 0.9840 - val_loss: 0.0871 - val_accuracy: 0.9728\n",
            "[CV] ................................... n_dropout=0.15, total=  37.3s\n",
            "[CV] n_dropout=0.15 ..................................................\n",
            "Train on 36667 samples, validate on 5000 samples\n",
            "Epoch 1/30\n",
            "36667/36667 [==============================] - 4s 112us/sample - loss: 0.3709 - accuracy: 0.8937 - val_loss: 0.1798 - val_accuracy: 0.9492\n",
            "Epoch 2/30\n",
            "36667/36667 [==============================] - 4s 113us/sample - loss: 0.1781 - accuracy: 0.9465 - val_loss: 0.1305 - val_accuracy: 0.9642\n",
            "Epoch 3/30\n",
            "36667/36667 [==============================] - 4s 116us/sample - loss: 0.1310 - accuracy: 0.9599 - val_loss: 0.1178 - val_accuracy: 0.9660\n",
            "Epoch 4/30\n",
            "36667/36667 [==============================] - 4s 111us/sample - loss: 0.1036 - accuracy: 0.9689 - val_loss: 0.0946 - val_accuracy: 0.9732\n",
            "Epoch 5/30\n",
            "36667/36667 [==============================] - 4s 108us/sample - loss: 0.0864 - accuracy: 0.9726 - val_loss: 0.0887 - val_accuracy: 0.9740\n",
            "Epoch 6/30\n",
            "36667/36667 [==============================] - 4s 106us/sample - loss: 0.0735 - accuracy: 0.9768 - val_loss: 0.0933 - val_accuracy: 0.9730\n",
            "Epoch 7/30\n",
            "36667/36667 [==============================] - 4s 107us/sample - loss: 0.0638 - accuracy: 0.9792 - val_loss: 0.0829 - val_accuracy: 0.9768\n",
            "Epoch 8/30\n",
            "36667/36667 [==============================] - 4s 105us/sample - loss: 0.0554 - accuracy: 0.9815 - val_loss: 0.0797 - val_accuracy: 0.9746\n",
            "Epoch 9/30\n",
            "36667/36667 [==============================] - 4s 109us/sample - loss: 0.0505 - accuracy: 0.9839 - val_loss: 0.0794 - val_accuracy: 0.9776\n",
            "Epoch 10/30\n",
            "36667/36667 [==============================] - 4s 108us/sample - loss: 0.0463 - accuracy: 0.9845 - val_loss: 0.0798 - val_accuracy: 0.9776\n",
            "Epoch 11/30\n",
            "36667/36667 [==============================] - 4s 119us/sample - loss: 0.0408 - accuracy: 0.9870 - val_loss: 0.0729 - val_accuracy: 0.9796\n",
            "Epoch 12/30\n",
            "36667/36667 [==============================] - 4s 108us/sample - loss: 0.0364 - accuracy: 0.9883 - val_loss: 0.0785 - val_accuracy: 0.9788\n",
            "Epoch 13/30\n",
            "36667/36667 [==============================] - 4s 116us/sample - loss: 0.0335 - accuracy: 0.9886 - val_loss: 0.0851 - val_accuracy: 0.9766\n",
            "[CV] ................................... n_dropout=0.15, total=  54.8s\n",
            "[CV] n_dropout=0.2 ...................................................\n",
            "Train on 36666 samples, validate on 5000 samples\n",
            "Epoch 1/30\n",
            "36666/36666 [==============================] - 4s 113us/sample - loss: 0.3764 - accuracy: 0.8905 - val_loss: 0.1810 - val_accuracy: 0.9522\n",
            "Epoch 2/30\n",
            "36666/36666 [==============================] - 4s 108us/sample - loss: 0.1847 - accuracy: 0.9464 - val_loss: 0.1346 - val_accuracy: 0.9606\n",
            "Epoch 3/30\n",
            "36666/36666 [==============================] - 4s 105us/sample - loss: 0.1414 - accuracy: 0.9572 - val_loss: 0.1103 - val_accuracy: 0.9680\n",
            "Epoch 4/30\n",
            "36666/36666 [==============================] - 4s 106us/sample - loss: 0.1146 - accuracy: 0.9642 - val_loss: 0.0992 - val_accuracy: 0.9714\n",
            "Epoch 5/30\n",
            "36666/36666 [==============================] - 4s 109us/sample - loss: 0.0962 - accuracy: 0.9703 - val_loss: 0.0907 - val_accuracy: 0.9724\n",
            "Epoch 6/30\n",
            "36666/36666 [==============================] - 4s 109us/sample - loss: 0.0837 - accuracy: 0.9731 - val_loss: 0.0887 - val_accuracy: 0.9726\n",
            "Epoch 7/30\n",
            "36666/36666 [==============================] - 4s 107us/sample - loss: 0.0731 - accuracy: 0.9762 - val_loss: 0.0893 - val_accuracy: 0.9738\n",
            "Epoch 8/30\n",
            "36666/36666 [==============================] - 4s 105us/sample - loss: 0.0630 - accuracy: 0.9797 - val_loss: 0.0856 - val_accuracy: 0.9746\n",
            "Epoch 9/30\n",
            "36666/36666 [==============================] - 4s 112us/sample - loss: 0.0598 - accuracy: 0.9801 - val_loss: 0.0808 - val_accuracy: 0.9758\n",
            "Epoch 10/30\n",
            "36666/36666 [==============================] - 4s 105us/sample - loss: 0.0526 - accuracy: 0.9831 - val_loss: 0.0869 - val_accuracy: 0.9746\n",
            "Epoch 11/30\n",
            "36666/36666 [==============================] - 4s 114us/sample - loss: 0.0476 - accuracy: 0.9847 - val_loss: 0.0810 - val_accuracy: 0.9758\n",
            "[CV] .................................... n_dropout=0.2, total=  45.8s\n",
            "[CV] n_dropout=0.2 ...................................................\n",
            "Train on 36667 samples, validate on 5000 samples\n",
            "Epoch 1/30\n",
            "36667/36667 [==============================] - 4s 115us/sample - loss: 0.3704 - accuracy: 0.8938 - val_loss: 0.1771 - val_accuracy: 0.9498\n",
            "Epoch 2/30\n",
            "36667/36667 [==============================] - 4s 108us/sample - loss: 0.1833 - accuracy: 0.9471 - val_loss: 0.1265 - val_accuracy: 0.9650\n",
            "Epoch 3/30\n",
            "36667/36667 [==============================] - 4s 116us/sample - loss: 0.1364 - accuracy: 0.9590 - val_loss: 0.1102 - val_accuracy: 0.9644\n",
            "Epoch 4/30\n",
            "36667/36667 [==============================] - 4s 115us/sample - loss: 0.1129 - accuracy: 0.9655 - val_loss: 0.0959 - val_accuracy: 0.9702\n",
            "Epoch 5/30\n",
            "36667/36667 [==============================] - 4s 114us/sample - loss: 0.0963 - accuracy: 0.9704 - val_loss: 0.0886 - val_accuracy: 0.9716\n",
            "Epoch 6/30\n",
            "36667/36667 [==============================] - 4s 107us/sample - loss: 0.0792 - accuracy: 0.9758 - val_loss: 0.0879 - val_accuracy: 0.9728\n",
            "Epoch 7/30\n",
            "36667/36667 [==============================] - 4s 111us/sample - loss: 0.0733 - accuracy: 0.9773 - val_loss: 0.0827 - val_accuracy: 0.9746\n",
            "Epoch 8/30\n",
            "36667/36667 [==============================] - 4s 108us/sample - loss: 0.0608 - accuracy: 0.9803 - val_loss: 0.0825 - val_accuracy: 0.9754\n",
            "Epoch 9/30\n",
            "36667/36667 [==============================] - 4s 111us/sample - loss: 0.0568 - accuracy: 0.9820 - val_loss: 0.0804 - val_accuracy: 0.9768\n",
            "Epoch 10/30\n",
            "36667/36667 [==============================] - 4s 117us/sample - loss: 0.0525 - accuracy: 0.9830 - val_loss: 0.0899 - val_accuracy: 0.9724\n",
            "Epoch 11/30\n",
            "36667/36667 [==============================] - 4s 112us/sample - loss: 0.0466 - accuracy: 0.9851 - val_loss: 0.0770 - val_accuracy: 0.9786\n",
            "Epoch 12/30\n",
            "36667/36667 [==============================] - 4s 109us/sample - loss: 0.0434 - accuracy: 0.9860 - val_loss: 0.0780 - val_accuracy: 0.9786\n",
            "Epoch 13/30\n",
            "36667/36667 [==============================] - 4s 109us/sample - loss: 0.0409 - accuracy: 0.9860 - val_loss: 0.0795 - val_accuracy: 0.9788\n",
            "[CV] .................................... n_dropout=0.2, total=  55.4s\n",
            "[CV] n_dropout=0.2 ...................................................\n",
            "Train on 36667 samples, validate on 5000 samples\n",
            "Epoch 1/30\n",
            "36667/36667 [==============================] - 4s 116us/sample - loss: 0.3822 - accuracy: 0.8884 - val_loss: 0.1764 - val_accuracy: 0.9494\n",
            "Epoch 2/30\n",
            "36667/36667 [==============================] - 4s 110us/sample - loss: 0.1851 - accuracy: 0.9459 - val_loss: 0.1298 - val_accuracy: 0.9628\n",
            "Epoch 3/30\n",
            "36667/36667 [==============================] - 4s 114us/sample - loss: 0.1419 - accuracy: 0.9578 - val_loss: 0.1113 - val_accuracy: 0.9694\n",
            "Epoch 4/30\n",
            "36667/36667 [==============================] - 4s 115us/sample - loss: 0.1160 - accuracy: 0.9652 - val_loss: 0.0971 - val_accuracy: 0.9690\n",
            "Epoch 5/30\n",
            "36667/36667 [==============================] - 4s 106us/sample - loss: 0.0962 - accuracy: 0.9706 - val_loss: 0.0938 - val_accuracy: 0.9714\n",
            "Epoch 6/30\n",
            "36667/36667 [==============================] - 4s 121us/sample - loss: 0.0857 - accuracy: 0.9731 - val_loss: 0.0874 - val_accuracy: 0.9746\n",
            "Epoch 7/30\n",
            "36667/36667 [==============================] - 4s 112us/sample - loss: 0.0747 - accuracy: 0.9757 - val_loss: 0.0883 - val_accuracy: 0.9738\n",
            "Epoch 8/30\n",
            "36667/36667 [==============================] - 4s 108us/sample - loss: 0.0653 - accuracy: 0.9789 - val_loss: 0.0874 - val_accuracy: 0.9734\n",
            "Epoch 9/30\n",
            "36667/36667 [==============================] - 4s 108us/sample - loss: 0.0590 - accuracy: 0.9815 - val_loss: 0.0843 - val_accuracy: 0.9756\n",
            "Epoch 10/30\n",
            "36667/36667 [==============================] - 4s 108us/sample - loss: 0.0526 - accuracy: 0.9819 - val_loss: 0.0890 - val_accuracy: 0.9746\n",
            "Epoch 11/30\n",
            "36667/36667 [==============================] - 4s 107us/sample - loss: 0.0493 - accuracy: 0.9839 - val_loss: 0.0859 - val_accuracy: 0.9756\n",
            "[CV] .................................... n_dropout=0.2, total=  47.1s\n",
            "[CV] n_dropout=0.25 ..................................................\n",
            "Train on 36666 samples, validate on 5000 samples\n",
            "Epoch 1/30\n",
            "36666/36666 [==============================] - 4s 119us/sample - loss: 0.3933 - accuracy: 0.8845 - val_loss: 0.1924 - val_accuracy: 0.9450\n",
            "Epoch 2/30\n",
            "36666/36666 [==============================] - 4s 109us/sample - loss: 0.2041 - accuracy: 0.9392 - val_loss: 0.1441 - val_accuracy: 0.9580\n",
            "Epoch 3/30\n",
            "36666/36666 [==============================] - 4s 114us/sample - loss: 0.1553 - accuracy: 0.9529 - val_loss: 0.1227 - val_accuracy: 0.9648\n",
            "Epoch 4/30\n",
            "36666/36666 [==============================] - 4s 108us/sample - loss: 0.1252 - accuracy: 0.9610 - val_loss: 0.1042 - val_accuracy: 0.9686\n",
            "Epoch 5/30\n",
            "36666/36666 [==============================] - 4s 106us/sample - loss: 0.1099 - accuracy: 0.9653 - val_loss: 0.1020 - val_accuracy: 0.9698\n",
            "Epoch 6/30\n",
            "36666/36666 [==============================] - 4s 107us/sample - loss: 0.0952 - accuracy: 0.9698 - val_loss: 0.0946 - val_accuracy: 0.9704\n",
            "Epoch 7/30\n",
            "36666/36666 [==============================] - 4s 110us/sample - loss: 0.0854 - accuracy: 0.9740 - val_loss: 0.0903 - val_accuracy: 0.9740\n",
            "Epoch 8/30\n",
            "36666/36666 [==============================] - 4s 109us/sample - loss: 0.0775 - accuracy: 0.9761 - val_loss: 0.0842 - val_accuracy: 0.9758\n",
            "Epoch 9/30\n",
            "36666/36666 [==============================] - 4s 112us/sample - loss: 0.0708 - accuracy: 0.9762 - val_loss: 0.0827 - val_accuracy: 0.9752\n",
            "Epoch 10/30\n",
            "36666/36666 [==============================] - 4s 116us/sample - loss: 0.0661 - accuracy: 0.9786 - val_loss: 0.0867 - val_accuracy: 0.9774\n",
            "Epoch 11/30\n",
            "36666/36666 [==============================] - 4s 111us/sample - loss: 0.0588 - accuracy: 0.9805 - val_loss: 0.0807 - val_accuracy: 0.9774\n",
            "Epoch 12/30\n",
            "36666/36666 [==============================] - 4s 113us/sample - loss: 0.0563 - accuracy: 0.9814 - val_loss: 0.0860 - val_accuracy: 0.9752\n",
            "Epoch 13/30\n",
            "36666/36666 [==============================] - 4s 112us/sample - loss: 0.0540 - accuracy: 0.9816 - val_loss: 0.0854 - val_accuracy: 0.9752\n",
            "[CV] ................................... n_dropout=0.25, total=  55.2s\n",
            "[CV] n_dropout=0.25 ..................................................\n",
            "Train on 36667 samples, validate on 5000 samples\n",
            "Epoch 1/30\n",
            "36667/36667 [==============================] - 4s 120us/sample - loss: 0.3856 - accuracy: 0.8886 - val_loss: 0.1860 - val_accuracy: 0.9492\n",
            "Epoch 2/30\n",
            "36667/36667 [==============================] - 4s 108us/sample - loss: 0.1960 - accuracy: 0.9425 - val_loss: 0.1380 - val_accuracy: 0.9614\n",
            "Epoch 3/30\n",
            "36667/36667 [==============================] - 4s 112us/sample - loss: 0.1499 - accuracy: 0.9553 - val_loss: 0.1079 - val_accuracy: 0.9684\n",
            "Epoch 4/30\n",
            "36667/36667 [==============================] - 4s 107us/sample - loss: 0.1220 - accuracy: 0.9618 - val_loss: 0.1014 - val_accuracy: 0.9714\n",
            "Epoch 5/30\n",
            "36667/36667 [==============================] - 4s 109us/sample - loss: 0.1052 - accuracy: 0.9674 - val_loss: 0.0968 - val_accuracy: 0.9730\n",
            "Epoch 6/30\n",
            "36667/36667 [==============================] - 4s 108us/sample - loss: 0.0921 - accuracy: 0.9711 - val_loss: 0.0867 - val_accuracy: 0.9742\n",
            "Epoch 7/30\n",
            "36667/36667 [==============================] - 4s 108us/sample - loss: 0.0796 - accuracy: 0.9741 - val_loss: 0.0853 - val_accuracy: 0.9730\n",
            "Epoch 8/30\n",
            "36667/36667 [==============================] - 4s 110us/sample - loss: 0.0729 - accuracy: 0.9768 - val_loss: 0.0848 - val_accuracy: 0.9748\n",
            "Epoch 9/30\n",
            "36667/36667 [==============================] - 4s 111us/sample - loss: 0.0657 - accuracy: 0.9789 - val_loss: 0.0862 - val_accuracy: 0.9762\n",
            "Epoch 10/30\n",
            "36667/36667 [==============================] - 4s 118us/sample - loss: 0.0620 - accuracy: 0.9794 - val_loss: 0.0895 - val_accuracy: 0.9742\n",
            "[CV] ................................... n_dropout=0.25, total=  43.0s\n",
            "[CV] n_dropout=0.25 ..................................................\n",
            "Train on 36667 samples, validate on 5000 samples\n",
            "Epoch 1/30\n",
            "36667/36667 [==============================] - 4s 122us/sample - loss: 0.3968 - accuracy: 0.8840 - val_loss: 0.1831 - val_accuracy: 0.9498\n",
            "Epoch 2/30\n",
            "36667/36667 [==============================] - 4s 107us/sample - loss: 0.2038 - accuracy: 0.9398 - val_loss: 0.1352 - val_accuracy: 0.9638\n",
            "Epoch 3/30\n",
            "36667/36667 [==============================] - 4s 109us/sample - loss: 0.1556 - accuracy: 0.9526 - val_loss: 0.1170 - val_accuracy: 0.9664\n",
            "Epoch 4/30\n",
            "36667/36667 [==============================] - 4s 108us/sample - loss: 0.1321 - accuracy: 0.9600 - val_loss: 0.1018 - val_accuracy: 0.9710\n",
            "Epoch 5/30\n",
            "36667/36667 [==============================] - 4s 111us/sample - loss: 0.1082 - accuracy: 0.9671 - val_loss: 0.0943 - val_accuracy: 0.9730\n",
            "Epoch 6/30\n",
            "36667/36667 [==============================] - 4s 109us/sample - loss: 0.0951 - accuracy: 0.9710 - val_loss: 0.0964 - val_accuracy: 0.9716\n",
            "Epoch 7/30\n",
            "36667/36667 [==============================] - 4s 108us/sample - loss: 0.0859 - accuracy: 0.9730 - val_loss: 0.0926 - val_accuracy: 0.9732\n",
            "Epoch 8/30\n",
            "36667/36667 [==============================] - 4s 112us/sample - loss: 0.0768 - accuracy: 0.9756 - val_loss: 0.0922 - val_accuracy: 0.9732\n",
            "Epoch 9/30\n",
            "36667/36667 [==============================] - 4s 108us/sample - loss: 0.0712 - accuracy: 0.9769 - val_loss: 0.0879 - val_accuracy: 0.9746\n",
            "Epoch 10/30\n",
            "36667/36667 [==============================] - 4s 110us/sample - loss: 0.0638 - accuracy: 0.9787 - val_loss: 0.0838 - val_accuracy: 0.9750\n",
            "Epoch 11/30\n",
            "36667/36667 [==============================] - 4s 108us/sample - loss: 0.0604 - accuracy: 0.9799 - val_loss: 0.0891 - val_accuracy: 0.9764\n",
            "Epoch 12/30\n",
            "36667/36667 [==============================] - 4s 108us/sample - loss: 0.0550 - accuracy: 0.9812 - val_loss: 0.0944 - val_accuracy: 0.9770\n",
            "[CV] ................................... n_dropout=0.25, total=  50.7s\n",
            "[CV] n_dropout=0.3 ...................................................\n",
            "Train on 36666 samples, validate on 5000 samples\n",
            "Epoch 1/30\n",
            "36666/36666 [==============================] - 4s 121us/sample - loss: 0.4049 - accuracy: 0.8812 - val_loss: 0.1873 - val_accuracy: 0.9462\n",
            "Epoch 2/30\n",
            "36666/36666 [==============================] - 4s 110us/sample - loss: 0.2131 - accuracy: 0.9371 - val_loss: 0.1364 - val_accuracy: 0.9610\n",
            "Epoch 3/30\n",
            "36666/36666 [==============================] - 4s 116us/sample - loss: 0.1637 - accuracy: 0.9518 - val_loss: 0.1173 - val_accuracy: 0.9674\n",
            "Epoch 4/30\n",
            "36666/36666 [==============================] - 4s 109us/sample - loss: 0.1394 - accuracy: 0.9584 - val_loss: 0.1005 - val_accuracy: 0.9726\n",
            "Epoch 5/30\n",
            "36666/36666 [==============================] - 4s 111us/sample - loss: 0.1203 - accuracy: 0.9626 - val_loss: 0.0970 - val_accuracy: 0.9726\n",
            "Epoch 6/30\n",
            "36666/36666 [==============================] - 4s 113us/sample - loss: 0.1056 - accuracy: 0.9677 - val_loss: 0.0967 - val_accuracy: 0.9702\n",
            "Epoch 7/30\n",
            "36666/36666 [==============================] - 4s 109us/sample - loss: 0.0954 - accuracy: 0.9698 - val_loss: 0.0838 - val_accuracy: 0.9740\n",
            "Epoch 8/30\n",
            "36666/36666 [==============================] - 4s 114us/sample - loss: 0.0855 - accuracy: 0.9728 - val_loss: 0.0851 - val_accuracy: 0.9770\n",
            "Epoch 9/30\n",
            "36666/36666 [==============================] - 4s 115us/sample - loss: 0.0795 - accuracy: 0.9743 - val_loss: 0.0839 - val_accuracy: 0.9750\n",
            "[CV] .................................... n_dropout=0.3, total=  39.6s\n",
            "[CV] n_dropout=0.3 ...................................................\n",
            "Train on 36667 samples, validate on 5000 samples\n",
            "Epoch 1/30\n",
            "36667/36667 [==============================] - 5s 127us/sample - loss: 0.4022 - accuracy: 0.8810 - val_loss: 0.1903 - val_accuracy: 0.9446\n",
            "Epoch 2/30\n",
            "36667/36667 [==============================] - 4s 113us/sample - loss: 0.2105 - accuracy: 0.9389 - val_loss: 0.1445 - val_accuracy: 0.9592\n",
            "Epoch 3/30\n",
            "36667/36667 [==============================] - 4s 112us/sample - loss: 0.1623 - accuracy: 0.9516 - val_loss: 0.1154 - val_accuracy: 0.9670\n",
            "Epoch 4/30\n",
            "36667/36667 [==============================] - 4s 108us/sample - loss: 0.1355 - accuracy: 0.9586 - val_loss: 0.1051 - val_accuracy: 0.9696\n",
            "Epoch 5/30\n",
            "36667/36667 [==============================] - 4s 110us/sample - loss: 0.1193 - accuracy: 0.9635 - val_loss: 0.0953 - val_accuracy: 0.9714\n",
            "Epoch 6/30\n",
            "36667/36667 [==============================] - 4s 113us/sample - loss: 0.1052 - accuracy: 0.9666 - val_loss: 0.0904 - val_accuracy: 0.9740\n",
            "Epoch 7/30\n",
            "36667/36667 [==============================] - 4s 113us/sample - loss: 0.0963 - accuracy: 0.9688 - val_loss: 0.0855 - val_accuracy: 0.9744\n",
            "Epoch 8/30\n",
            "36667/36667 [==============================] - 4s 115us/sample - loss: 0.0863 - accuracy: 0.9725 - val_loss: 0.0867 - val_accuracy: 0.9764\n",
            "Epoch 9/30\n",
            "36667/36667 [==============================] - 4s 116us/sample - loss: 0.0785 - accuracy: 0.9754 - val_loss: 0.0862 - val_accuracy: 0.9754\n",
            "[CV] .................................... n_dropout=0.3, total=  40.2s\n",
            "[CV] n_dropout=0.3 ...................................................\n",
            "Train on 36667 samples, validate on 5000 samples\n",
            "Epoch 1/30\n",
            "36667/36667 [==============================] - 4s 121us/sample - loss: 0.4009 - accuracy: 0.8817 - val_loss: 0.1770 - val_accuracy: 0.9484\n",
            "Epoch 2/30\n",
            "36667/36667 [==============================] - 4s 113us/sample - loss: 0.2070 - accuracy: 0.9381 - val_loss: 0.1342 - val_accuracy: 0.9616\n",
            "Epoch 3/30\n",
            "36667/36667 [==============================] - 4s 116us/sample - loss: 0.1594 - accuracy: 0.9517 - val_loss: 0.1126 - val_accuracy: 0.9678\n",
            "Epoch 4/30\n",
            "36667/36667 [==============================] - 4s 111us/sample - loss: 0.1350 - accuracy: 0.9587 - val_loss: 0.1014 - val_accuracy: 0.9706\n",
            "Epoch 5/30\n",
            "36667/36667 [==============================] - 4s 110us/sample - loss: 0.1151 - accuracy: 0.9651 - val_loss: 0.0986 - val_accuracy: 0.9728\n",
            "Epoch 6/30\n",
            "36667/36667 [==============================] - 4s 109us/sample - loss: 0.1040 - accuracy: 0.9679 - val_loss: 0.0954 - val_accuracy: 0.9722\n",
            "Epoch 7/30\n",
            "36667/36667 [==============================] - 4s 112us/sample - loss: 0.0935 - accuracy: 0.9707 - val_loss: 0.0902 - val_accuracy: 0.9732\n",
            "Epoch 8/30\n",
            "36667/36667 [==============================] - 4s 112us/sample - loss: 0.0846 - accuracy: 0.9729 - val_loss: 0.0911 - val_accuracy: 0.9748\n",
            "Epoch 9/30\n",
            "36667/36667 [==============================] - 4s 117us/sample - loss: 0.0786 - accuracy: 0.9745 - val_loss: 0.0893 - val_accuracy: 0.9756\n",
            "Epoch 10/30\n",
            "36667/36667 [==============================] - 4s 112us/sample - loss: 0.0741 - accuracy: 0.9756 - val_loss: 0.0973 - val_accuracy: 0.9764\n",
            "Epoch 11/30\n",
            "36667/36667 [==============================] - 4s 114us/sample - loss: 0.0703 - accuracy: 0.9767 - val_loss: 0.0873 - val_accuracy: 0.9772\n",
            "Epoch 12/30\n",
            "36667/36667 [==============================] - 4s 112us/sample - loss: 0.0627 - accuracy: 0.9793 - val_loss: 0.0892 - val_accuracy: 0.9770\n",
            "Epoch 13/30\n",
            "36667/36667 [==============================] - 4s 110us/sample - loss: 0.0611 - accuracy: 0.9788 - val_loss: 0.0870 - val_accuracy: 0.9788\n",
            "Epoch 14/30\n",
            "36667/36667 [==============================] - 4s 112us/sample - loss: 0.0586 - accuracy: 0.9803 - val_loss: 0.0859 - val_accuracy: 0.9782\n",
            "Epoch 15/30\n",
            "36667/36667 [==============================] - 4s 114us/sample - loss: 0.0549 - accuracy: 0.9818 - val_loss: 0.0891 - val_accuracy: 0.9794\n",
            "Epoch 16/30\n",
            "36667/36667 [==============================] - 4s 114us/sample - loss: 0.0538 - accuracy: 0.9822 - val_loss: 0.0883 - val_accuracy: 0.9778\n",
            "[CV] .................................... n_dropout=0.3, total= 1.1min\n"
          ],
          "name": "stdout"
        },
        {
          "output_type": "stream",
          "text": [
            "[Parallel(n_jobs=1)]: Done  21 out of  21 | elapsed: 16.1min finished\n"
          ],
          "name": "stderr"
        },
        {
          "output_type": "stream",
          "text": [
            "Train on 55000 samples, validate on 5000 samples\n",
            "Epoch 1/30\n",
            "55000/55000 [==============================] - 7s 120us/sample - loss: 0.3198 - accuracy: 0.9070 - val_loss: 0.1463 - val_accuracy: 0.9598\n",
            "Epoch 2/30\n",
            "55000/55000 [==============================] - 6s 115us/sample - loss: 0.1590 - accuracy: 0.9526 - val_loss: 0.1155 - val_accuracy: 0.9662\n",
            "Epoch 3/30\n",
            "55000/55000 [==============================] - 6s 113us/sample - loss: 0.1218 - accuracy: 0.9633 - val_loss: 0.0999 - val_accuracy: 0.9710\n",
            "Epoch 4/30\n",
            "55000/55000 [==============================] - 6s 114us/sample - loss: 0.1011 - accuracy: 0.9695 - val_loss: 0.0888 - val_accuracy: 0.9762\n",
            "Epoch 5/30\n",
            "55000/55000 [==============================] - 6s 107us/sample - loss: 0.0881 - accuracy: 0.9725 - val_loss: 0.0816 - val_accuracy: 0.9770\n",
            "Epoch 6/30\n",
            "55000/55000 [==============================] - 6s 109us/sample - loss: 0.0759 - accuracy: 0.9760 - val_loss: 0.0766 - val_accuracy: 0.9778\n",
            "Epoch 7/30\n",
            "55000/55000 [==============================] - 6s 114us/sample - loss: 0.0679 - accuracy: 0.9784 - val_loss: 0.0723 - val_accuracy: 0.9800\n",
            "Epoch 8/30\n",
            "55000/55000 [==============================] - 6s 113us/sample - loss: 0.0615 - accuracy: 0.9799 - val_loss: 0.0746 - val_accuracy: 0.9794\n",
            "Epoch 9/30\n",
            "55000/55000 [==============================] - 6s 109us/sample - loss: 0.0575 - accuracy: 0.9813 - val_loss: 0.0712 - val_accuracy: 0.9778\n",
            "Epoch 10/30\n",
            "55000/55000 [==============================] - 6s 108us/sample - loss: 0.0543 - accuracy: 0.9820 - val_loss: 0.0720 - val_accuracy: 0.9784\n",
            "Epoch 11/30\n",
            "55000/55000 [==============================] - 6s 109us/sample - loss: 0.0488 - accuracy: 0.9835 - val_loss: 0.0730 - val_accuracy: 0.9786\n"
          ],
          "name": "stdout"
        },
        {
          "output_type": "execute_result",
          "data": {
            "text/plain": [
              "GridSearchCV(cv=3, error_score=nan,\n",
              "             estimator=<tensorflow.python.keras.wrappers.scikit_learn.KerasClassifier object at 0x7f79d5901a58>,\n",
              "             iid='deprecated', n_jobs=None,\n",
              "             param_grid={'n_dropout': (0, 0.05, 0.1, 0.15, 0.2, 0.25, 0.3)},\n",
              "             pre_dispatch='2*n_jobs', refit=True, return_train_score=False,\n",
              "             scoring=None, verbose=2)"
            ]
          },
          "metadata": {
            "tags": []
          },
          "execution_count": 42
        }
      ]
    },
    {
      "cell_type": "markdown",
      "metadata": {
        "id": "2u51f7S0ZM5r",
        "colab_type": "text"
      },
      "source": [
        "##EVALUATE"
      ]
    },
    {
      "cell_type": "markdown",
      "metadata": {
        "id": "9jj9jykP5hkD",
        "colab_type": "text"
      },
      "source": [
        "### Inspecting the best estimator"
      ]
    },
    {
      "cell_type": "markdown",
      "metadata": {
        "id": "TmBJMfTB5hkD",
        "colab_type": "text"
      },
      "source": [
        "Let's get the number of neurons that produced the best estimator"
      ]
    },
    {
      "cell_type": "code",
      "metadata": {
        "id": "c_HZWOIe5hkE",
        "colab_type": "code",
        "outputId": "466bd32c-90dc-43da-eaed-5d01e70ce4ac",
        "colab": {
          "base_uri": "https://localhost:8080/",
          "height": 34
        }
      },
      "source": [
        "grid_cv.best_params_"
      ],
      "execution_count": 43,
      "outputs": [
        {
          "output_type": "execute_result",
          "data": {
            "text/plain": [
              "{'n_dropout': 0.2}"
            ]
          },
          "metadata": {
            "tags": []
          },
          "execution_count": 43
        }
      ]
    },
    {
      "cell_type": "markdown",
      "metadata": {
        "id": "UyxYloQq5hkG",
        "colab_type": "raw"
      },
      "source": [
        "Let's get the rsults to compare the performance of the 100 models."
      ]
    },
    {
      "cell_type": "code",
      "metadata": {
        "id": "xhkOrfov5hkG",
        "colab_type": "code",
        "outputId": "8254a7e8-1cb8-4664-fbe5-d29a120e070c",
        "colab": {
          "base_uri": "https://localhost:8080/",
          "height": 527
        }
      },
      "source": [
        "results = grid_cv.cv_results_\n",
        "results"
      ],
      "execution_count": 44,
      "outputs": [
        {
          "output_type": "execute_result",
          "data": {
            "text/plain": [
              "{'mean_fit_time': array([38.57532223, 35.02270214, 52.35684395, 44.1775624 , 48.41713222,\n",
              "        48.62662633, 48.4961946 ]),\n",
              " 'mean_score_time': array([0.94864575, 0.98161713, 0.99158804, 0.96690671, 1.0049475 ,\n",
              "        1.0106651 , 1.06902782]),\n",
              " 'mean_test_score': array([0.96963638, 0.97134546, 0.97236363, 0.97103633, 0.97432727,\n",
              "        0.9709091 , 0.97067277]),\n",
              " 'param_n_dropout': masked_array(data=[0, 0.05, 0.1, 0.15, 0.2, 0.25, 0.3],\n",
              "              mask=[False, False, False, False, False, False, False],\n",
              "        fill_value='?',\n",
              "             dtype=object),\n",
              " 'params': [{'n_dropout': 0},\n",
              "  {'n_dropout': 0.05},\n",
              "  {'n_dropout': 0.1},\n",
              "  {'n_dropout': 0.15},\n",
              "  {'n_dropout': 0.2},\n",
              "  {'n_dropout': 0.25},\n",
              "  {'n_dropout': 0.3}],\n",
              " 'rank_test_score': array([7, 3, 2, 4, 1, 5, 6], dtype=int32),\n",
              " 'split0_test_score': array([0.9695102 , 0.97109199, 0.97223735, 0.9725101 , 0.97491002,\n",
              "        0.97180104, 0.96923751]),\n",
              " 'split1_test_score': array([0.96972674, 0.97092676, 0.97299951, 0.96879941, 0.97343588,\n",
              "        0.9696722 , 0.96994489]),\n",
              " 'split2_test_score': array([0.9696722 , 0.97201765, 0.97185403, 0.97179949, 0.9746359 ,\n",
              "        0.97125405, 0.9728359 ]),\n",
              " 'std_fit_time': array([ 2.075345  ,  1.89955499,  3.87001078,  7.24421589,  4.24544701,\n",
              "         5.00760807, 13.67187531]),\n",
              " 'std_score_time': array([0.0462012 , 0.05143208, 0.04527203, 0.00959005, 0.02259687,\n",
              "        0.02920574, 0.0240988 ]),\n",
              " 'std_test_score': array([9.19609466e-05, 4.80066435e-04, 4.76090130e-04, 1.60812674e-03,\n",
              "        6.40163725e-04, 9.02675018e-04, 1.55658913e-03])}"
            ]
          },
          "metadata": {
            "tags": []
          },
          "execution_count": 44
        }
      ]
    },
    {
      "cell_type": "code",
      "metadata": {
        "id": "HNoNkMU15hkL",
        "colab_type": "code",
        "outputId": "8164dfd1-e15b-40fb-b3c6-6617743d85da",
        "colab": {
          "base_uri": "https://localhost:8080/",
          "height": 153
        }
      },
      "source": [
        "results['params'], results['rank_test_score']"
      ],
      "execution_count": 45,
      "outputs": [
        {
          "output_type": "execute_result",
          "data": {
            "text/plain": [
              "([{'n_dropout': 0},\n",
              "  {'n_dropout': 0.05},\n",
              "  {'n_dropout': 0.1},\n",
              "  {'n_dropout': 0.15},\n",
              "  {'n_dropout': 0.2},\n",
              "  {'n_dropout': 0.25},\n",
              "  {'n_dropout': 0.3}],\n",
              " array([7, 3, 2, 4, 1, 5, 6], dtype=int32))"
            ]
          },
          "metadata": {
            "tags": []
          },
          "execution_count": 45
        }
      ]
    },
    {
      "cell_type": "code",
      "metadata": {
        "id": "yRS71YiS5hkN",
        "colab_type": "code",
        "outputId": "60a6d4ff-5972-4d82-8b5f-b5d1f542bc56",
        "colab": {
          "base_uri": "https://localhost:8080/",
          "height": 422
        }
      },
      "source": [
        "best_model = grid_cv.best_estimator_.model\n",
        "keras.utils.plot_model(best_model, show_shapes=True)"
      ],
      "execution_count": 46,
      "outputs": [
        {
          "output_type": "execute_result",
          "data": {
            "image/png": "[encoded data removed]",
            "text/plain": [
              "<IPython.core.display.Image object>"
            ]
          },
          "metadata": {
            "tags": []
          },
          "execution_count": 46
        }
      ]
    },
    {
      "cell_type": "code",
      "metadata": {
        "id": "vHakmEh-5hkP",
        "colab_type": "code",
        "outputId": "15982902-ed6b-484c-c8cd-0844a7482392",
        "colab": {
          "base_uri": "https://localhost:8080/",
          "height": 34
        }
      },
      "source": [
        "best_model.evaluate(test_images, test_labels)"
      ],
      "execution_count": 47,
      "outputs": [
        {
          "output_type": "execute_result",
          "data": {
            "text/plain": [
              "[0.07647609669162193, 0.9771]"
            ]
          },
          "metadata": {
            "tags": []
          },
          "execution_count": 47
        }
      ]
    }
  ]
}