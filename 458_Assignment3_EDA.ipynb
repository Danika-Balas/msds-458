{
  "nbformat": 4,
  "nbformat_minor": 0,
  "metadata": {
    "colab": {
      "name": "458_Assignment3_EDA.ipynb",
      "provenance": [],
      "authorship_tag": "ABX9TyOq5umsfYpamaBLwHx7TRWs",
      "include_colab_link": true
    },
    "kernelspec": {
      "name": "python3",
      "display_name": "Python 3"
    }
  },
  "cells": [
    {
      "cell_type": "markdown",
      "metadata": {
        "id": "view-in-github",
        "colab_type": "text"
      },
      "source": [
        "<a href=\"https://colab.research.google.com/github/Danika-Balas/msds-458/blob/master/458_Assignment3_EDA.ipynb\" target=\"_parent\"><img src=\"https://colab.research.google.com/assets/colab-badge.svg\" alt=\"Open In Colab\"/></a>"
      ]
    },
    {
      "cell_type": "markdown",
      "metadata": {
        "id": "CfRJ290OPFTf",
        "colab_type": "text"
      },
      "source": [
        "In the following code we will set up both dense neural networks and recurrent neural networks to classify documents from the Reuters financial newswire service into categories by topic. We will set up four different experiments in order to explore the performance and resource demands of different network topologies for this task.\n"
      ]
    },
    {
      "cell_type": "markdown",
      "metadata": {
        "id": "s0V72M6yQII7",
        "colab_type": "text"
      },
      "source": [
        "See https://keras.io/api/datasets/reuters/#load_data-function\n",
        "\n",
        "\n",
        "\"Each newswire is encoded as a list of word indexes (integers). For convenience, words are indexed by overall frequency in the dataset, so that for instance the integer \"3\" encodes the 3rd most frequent word in the data. This allows for quick filtering operations such as: \"only consider the top 10,000 most common words, but eliminate the top 20 most common words\".\""
      ]
    },
    {
      "cell_type": "markdown",
      "metadata": {
        "colab_type": "text",
        "id": "W0QDEMZMPHxR"
      },
      "source": [
        "Notebook uses portions of code written by Edward Arroyo, Daniel Jensen, and Syamala Srinivasan"
      ]
    },
    {
      "cell_type": "markdown",
      "metadata": {
        "colab_type": "text",
        "id": "OhMQnPzePHxW"
      },
      "source": [
        "#Setup and Preprocessing"
      ]
    },
    {
      "cell_type": "code",
      "metadata": {
        "colab_type": "code",
        "outputId": "f2effc9d-0b9c-46c2-895e-3e74a30f582d",
        "id": "nane5stwPHxa",
        "colab": {
          "base_uri": "https://localhost:8080/",
          "height": 34
        }
      },
      "source": [
        "import numpy as np\n",
        "import pandas as pd\n",
        "\n",
        "import seaborn as sns\n",
        "import matplotlib.pyplot as plt\n",
        "%matplotlib inline\n",
        "#sns.set(style=\"whitegrid\")\n",
        "\n",
        "from sklearn import metrics\n",
        "\n",
        "import tensorflow as tf\n",
        "from tensorflow import keras\n",
        "keras.__version__"
      ],
      "execution_count": 63,
      "outputs": [
        {
          "output_type": "execute_result",
          "data": {
            "text/plain": [
              "'2.3.0-tf'"
            ]
          },
          "metadata": {
            "tags": []
          },
          "execution_count": 63
        }
      ]
    },
    {
      "cell_type": "code",
      "metadata": {
        "colab_type": "code",
        "outputId": "de314811-5ac5-49cc-d041-3199c366426f",
        "id": "6wCfk7UGPHxm",
        "colab": {
          "base_uri": "https://localhost:8080/",
          "height": 34
        }
      },
      "source": [
        "tf.__version__"
      ],
      "execution_count": 64,
      "outputs": [
        {
          "output_type": "execute_result",
          "data": {
            "text/plain": [
              "'2.2.0'"
            ]
          },
          "metadata": {
            "tags": []
          },
          "execution_count": 64
        }
      ]
    },
    {
      "cell_type": "code",
      "metadata": {
        "colab_type": "code",
        "id": "vu3n-p0HPHxv",
        "colab": {}
      },
      "source": [
        "from keras import metrics\n",
        "from tensorflow.keras import models\n",
        "from tensorflow.keras import layers"
      ],
      "execution_count": 0,
      "outputs": []
    },
    {
      "cell_type": "code",
      "metadata": {
        "colab_type": "code",
        "id": "JH0hHWwiPHx2",
        "colab": {}
      },
      "source": [
        "# neccessary for K.gradient to work in TensorFlow 2.x\n",
        "# only needed for the \"Finding a pattern the hidden node maximally responds to\" section below.\n",
        "# but disabled to make Tensorboard work...\n",
        "tf.compat.v1.disable_eager_execution() "
      ],
      "execution_count": 0,
      "outputs": []
    },
    {
      "cell_type": "code",
      "metadata": {
        "colab_type": "code",
        "id": "tQymUmiKPHx7",
        "colab": {}
      },
      "source": [
        "# Set see in order to achieve consistent results across runs\n",
        "keras.backend.clear_session()\n",
        "np.random.seed(42)\n",
        "tf.random.set_seed(42)"
      ],
      "execution_count": 0,
      "outputs": []
    },
    {
      "cell_type": "markdown",
      "metadata": {
        "id": "EIH4ZMntGG42",
        "colab_type": "text"
      },
      "source": [
        "##Import Reuters dataset"
      ]
    },
    {
      "cell_type": "code",
      "metadata": {
        "id": "QmUi0GKfjl7z",
        "colab_type": "code",
        "colab": {
          "base_uri": "https://localhost:8080/",
          "height": 52
        },
        "outputId": "3cb905ea-cfe3-421a-d5ae-4b876cd483e0"
      },
      "source": [
        "# https://keras.io/datasets/#reuters-newswire-topics-classification\n",
        "from tensorflow.keras.datasets import reuters\n",
        "\n",
        "voc_size = 10000\n",
        "(data, labels), (_, _) = reuters.load_data(num_words=voc_size, test_split=0)\n",
        "print(f\"There are {len(data)} newswires with {len(labels)} labels.\")\n",
        "print(f\"There are {len(set(labels))} different label categories.\")"
      ],
      "execution_count": 68,
      "outputs": [
        {
          "output_type": "stream",
          "text": [
            "There are 11228 newswires with 11228 labels.\n",
            "There are 46 different label categories.\n"
          ],
          "name": "stdout"
        }
      ]
    },
    {
      "cell_type": "code",
      "metadata": {
        "id": "cEzBFhvLAiFz",
        "colab_type": "code",
        "colab": {}
      },
      "source": [
        "# https://www.kaggle.com/maximarufo/nlp-classification-reuters-dataset\n",
        "class_to_idx =  \\\n",
        "{'copper': 6, 'livestock': 28, 'gold': 25, \n",
        " 'money-fx': 19, 'ipi': 30, 'trade': 11, \n",
        " 'cocoa': 0, 'iron-steel': 31, 'reserves': 12, \n",
        " 'tin': 26, 'zinc': 37, 'jobs': 34, 'ship': 13, \n",
        " 'cotton': 14, 'alum': 23, 'strategic-metal': 27, \n",
        " 'lead': 45, 'housing': 7, 'meal-feed': 22, 'gnp': 21, \n",
        " 'sugar': 10, 'rubber': 32, 'dlr': 40, 'veg-oil': 2, \n",
        " 'interest': 20, 'crude': 16, 'coffee': 9, 'wheat': 5, \n",
        " 'carcass': 15, 'lei': 35, 'gas': 41, 'nat-gas': 17, \n",
        " 'oilseed': 24, 'orange': 38, 'heat': 33, 'wpi': 43, \n",
        " 'silver': 42, 'cpi': 18, 'earn': 3, 'bop': 36, 'money-supply': 8, \n",
        " 'hog': 44, 'acq': 4, 'pet-chem': 39, 'grain': 1, 'retail': 29}"
      ],
      "execution_count": 0,
      "outputs": []
    },
    {
      "cell_type": "code",
      "metadata": {
        "id": "CSSSyfnXAiF1",
        "colab_type": "code",
        "outputId": "72f60513-77d4-4565-a0da-c09d838345cc",
        "colab": {
          "base_uri": "https://localhost:8080/",
          "height": 278
        }
      },
      "source": [
        "idx_to_class = dict([(value, key) for (key, value) in class_to_idx.items()])\n",
        "{k: idx_to_class[k] for k in list(idx_to_class)[:15]} # get 15 key value pairs"
      ],
      "execution_count": 70,
      "outputs": [
        {
          "output_type": "execute_result",
          "data": {
            "text/plain": [
              "{0: 'cocoa',\n",
              " 6: 'copper',\n",
              " 11: 'trade',\n",
              " 12: 'reserves',\n",
              " 13: 'ship',\n",
              " 14: 'cotton',\n",
              " 19: 'money-fx',\n",
              " 23: 'alum',\n",
              " 25: 'gold',\n",
              " 26: 'tin',\n",
              " 28: 'livestock',\n",
              " 30: 'ipi',\n",
              " 31: 'iron-steel',\n",
              " 34: 'jobs',\n",
              " 37: 'zinc'}"
            ]
          },
          "metadata": {
            "tags": []
          },
          "execution_count": 70
        }
      ]
    },
    {
      "cell_type": "code",
      "metadata": {
        "id": "UfuWcXaK05BQ",
        "colab_type": "code",
        "colab": {
          "base_uri": "https://localhost:8080/",
          "height": 54
        },
        "outputId": "df32f274-57f9-4c3a-b114-cc97d5affb49"
      },
      "source": [
        "classes = [idx_to_class[label] for label in labels]\n",
        "print(f\"The first five classes are: {classes[:35]}\")"
      ],
      "execution_count": 71,
      "outputs": [
        {
          "output_type": "stream",
          "text": [
            "The first five classes are: ['earn', 'acq', 'earn', 'acq', 'acq', 'acq', 'acq', 'earn', 'earn', 'crude', 'earn', 'earn', 'acq', 'acq', 'money-fx', 'money-supply', 'crude', 'earn', 'earn', 'gnp', 'trade', 'acq', 'acq', 'earn', 'earn', 'grain', 'earn', 'grain', 'earn', 'crude', 'grain', 'acq', 'ship', 'interest', 'grain']\n"
          ],
          "name": "stdout"
        }
      ]
    },
    {
      "cell_type": "code",
      "metadata": {
        "id": "TVNvNMLmjl3j",
        "colab_type": "code",
        "colab": {
          "base_uri": "https://localhost:8080/",
          "height": 816
        },
        "outputId": "f055393a-a84d-45da-8339-86d650070ac1"
      },
      "source": [
        "from collections import Counter\n",
        "Counter(classes).most_common()"
      ],
      "execution_count": 72,
      "outputs": [
        {
          "output_type": "execute_result",
          "data": {
            "text/plain": [
              "[('earn', 3972),\n",
              " ('acq', 2423),\n",
              " ('money-fx', 682),\n",
              " ('crude', 543),\n",
              " ('grain', 537),\n",
              " ('trade', 473),\n",
              " ('interest', 339),\n",
              " ('ship', 209),\n",
              " ('money-supply', 177),\n",
              " ('sugar', 154),\n",
              " ('gnp', 127),\n",
              " ('coffee', 126),\n",
              " ('gold', 123),\n",
              " ('veg-oil', 94),\n",
              " ('cpi', 86),\n",
              " ('oilseed', 81),\n",
              " ('cocoa', 67),\n",
              " ('copper', 62),\n",
              " ('reserves', 62),\n",
              " ('bop', 60),\n",
              " ('livestock', 58),\n",
              " ('ipi', 57),\n",
              " ('jobs', 57),\n",
              " ('alum', 53),\n",
              " ('iron-steel', 52),\n",
              " ('nat-gas', 51),\n",
              " ('dlr', 46),\n",
              " ('rubber', 42),\n",
              " ('gas', 38),\n",
              " ('tin', 32),\n",
              " ('carcass', 29),\n",
              " ('pet-chem', 29),\n",
              " ('cotton', 28),\n",
              " ('wpi', 27),\n",
              " ('retail', 23),\n",
              " ('orange', 22),\n",
              " ('meal-feed', 22),\n",
              " ('wheat', 22),\n",
              " ('zinc', 21),\n",
              " ('housing', 19),\n",
              " ('lead', 19),\n",
              " ('strategic-metal', 19),\n",
              " ('hog', 17),\n",
              " ('lei', 16),\n",
              " ('silver', 16),\n",
              " ('heat', 16)]"
            ]
          },
          "metadata": {
            "tags": []
          },
          "execution_count": 72
        }
      ]
    },
    {
      "cell_type": "code",
      "metadata": {
        "id": "W9SPebDC2PGk",
        "colab_type": "code",
        "colab": {
          "base_uri": "https://localhost:8080/",
          "height": 431
        },
        "outputId": "9a38e08f-8a51-447f-c303-c033e48b43ac"
      },
      "source": [
        "plt.figure(figsize=[8,6])\n",
        "plt.hist(classes, bins=46)\n",
        "plt.axis()\n",
        "plt.xlabel('Topic')\n",
        "plt.xticks(rotation=45)\n",
        "plt.rc('xtick',labelsize=6)\n",
        "plt.ylabel('Documents')\n"
      ],
      "execution_count": 73,
      "outputs": [
        {
          "output_type": "execute_result",
          "data": {
            "text/plain": [
              "Text(0, 0.5, 'Documents')"
            ]
          },
          "metadata": {
            "tags": []
          },
          "execution_count": 73
        },
        {
          "output_type": "display_data",
          "data": {
            "image/png": "[encoded data removed]",
            "text/plain": [
              "<Figure size 576x432 with 1 Axes>"
            ]
          },
          "metadata": {
            "tags": [],
            "needs_background": "light"
          }
        }
      ]
    },
    {
      "cell_type": "code",
      "metadata": {
        "id": "PU0Nh-9PcDXa",
        "colab_type": "code",
        "colab": {}
      },
      "source": [
        "counts=Counter(classes).most_common()"
      ],
      "execution_count": 0,
      "outputs": []
    },
    {
      "cell_type": "markdown",
      "metadata": {
        "colab_type": "text",
        "id": "xZ3sttRm922H"
      },
      "source": [
        "Let's retrieve the word index so that we can \"decode\" the samples and look at some examples."
      ]
    },
    {
      "cell_type": "code",
      "metadata": {
        "colab_type": "code",
        "id": "XZYDVAQl922U",
        "colab": {}
      },
      "source": [
        "word_index = reuters.get_word_index()\n",
        "reverse_word_index = dict([(value, key) for (key, value) in word_index.items()])"
      ],
      "execution_count": 0,
      "outputs": []
    },
    {
      "cell_type": "code",
      "metadata": {
        "id": "ksSuOcQ7jl05",
        "colab_type": "code",
        "colab": {
          "base_uri": "https://localhost:8080/",
          "height": 471
        },
        "outputId": "1d7b8200-cb23-4a9e-bc18-d23fbd028872"
      },
      "source": [
        "# Note that our indices were offset by 3\n",
        "# because 0, 1 and 2 are reserved indices for \"padding\", \"start of sequence\", and \"unknown\".\n",
        "for k in [29,30,31,32,33]:\n",
        "  decoded_newswire = ' '.join([reverse_word_index.get(i - 3, '?') for i in data[k]])\n",
        "  print(f\"Document {k}:\\n{decoded_newswire}\",\"\\n\")\n",
        "  print(f\"Topic: {classes[k]}\\n\")"
      ],
      "execution_count": 76,
      "outputs": [
        {
          "output_type": "stream",
          "text": [
            "Document 29:\n",
            "? australia's crude oil tax strategy is probably best ? in terms of a targeted rather than broadly based approach federal resources and energy minister ? evans told a meeting here he told the australian petroleum exploration association apea annual conference there was a prospect of developing a package that would recognise the government's economic priorities while also meeting some of the industry's concerns evans was referring to a nearly completed government review of oil taxation evans said there were plenty of ? where targeted approaches to oil industry taxation had produced good results in recent years these include the reduction in the top marginal crude excise rate on ? bass strait oil found before september 1975 to 80 pct from 87 pct and the waiver of excise on onshore oil announced last september he said the industry through the apea has been calling for the elimination of secondary taxation on oil in order to boost incentives for prospecting against a background of weak prices and australia's relatively low exploration levels while nobody wants to add further unnecessary ? to an already complex taxation regime i am inclined to favour these kinds of ? approaches ahead of sweeping changes which leave government revenue much reduced and may still leave a lot of uncertainty as to what individual companies are going to do in major areas evans said he said the government did not intend to change its resource rent taxation ? legislation now before parliament in response to industry calls to allow all exploration expenditure in a given area to be ? as previously reported ? is a tax of 40 pct limited to highly prospective offshore areas based on profits after a certain rate of return has been achieved for individual projects apea has said it is not a true profit based tax because exploration ? is limited to successful projects evans said the decision not to change ? was based more than anything on the government's desire to ensure the ? and stability of the new regime adding that major investments have already been planned on the existing ground rules reuter 3 \n",
            "\n",
            "Topic: crude\n",
            "\n",
            "Document 30:\n",
            "? the u s agriculture department said private u s exporters reported sales of 200 000 tonnes of wheat to jordan 300 000 tonnes of soybean meal to iraq and 100 000 tonnes of corn to algeria the wheat for jordan includes 165 000 tonnes of hard red winter and 35 000 tonnes of soft red winter and is for delivery during the 1987 88 marketing year the soybean meal sales to iraq includes 180 000 tonnes for delivery during the 1986 87 season and 120 000 tonnes during the 1987 88 season the department said the 100 000 tonnes of corn sales to algeria are for delivery during the 1986 87 season it said the marketing year for wheat begins june 1 corn september 1 and soybean meal october 1 reuter 3 \n",
            "\n",
            "Topic: grain\n",
            "\n",
            "Document 31:\n",
            "? general acquisition co said it was disappointed by gencorp's response to its tender offer and asked how the company might give better value to shareholders gencorp had earlier urged shareholders to reject a 100 dlr per share tender offer from general acquisition an affiliate of wagner and brown and afg industries inc and said it was studying financially superior alternatives the general acquisition partnership called the response ? and ? particularly since it had tried to discuss the offer with gencorp the partnership said gencorp failed to say how it would provide a superior value yet they continue their attempt to prevent a satisfactory offer by failing to redeem their poison pill poison ? are shareholder rights plans that make takeovers more expensive gencorp said in its statement earlier that it planned to put off the date its rights will trade separately from the common stock to april 6 from april 3 it said the extension was subject to further ? by the board and is conditional on no person acquiring beneficial ownership of 20 pct or more of gencorp before april 6 general acquisition said it is confident its offer can be completed in a timely manner using its financial arrangements the partnership in its statement again urged gencorp management to work with it to facilitate a transaction reuter 3 \n",
            "\n",
            "Topic: acq\n",
            "\n",
            "Document 32:\n",
            "? the u s house agriculture committee approved proposals to extend the life of the export enhancement program eep through fiscal 1990 and urged the reagan administration offer eep wheat to the soviet union the proposals were approved as amendments to a comprehensive trade bill moving through congress this year in addition to the amendments on eep the committee approved several proposals which could restrict imports of lamb ? sugar containing products and tobacco those amendments affecting imports face an uncertain future because the house ways and means committee which has overall jurisdiction over trade legislation will oppose them congressional sources said the effect of the eep amendments would be to extend the life of the program five years through fiscal 1990 rather than the current three years through fiscal 1988 the amendments offered by rep dan glickman d kan also would increase funding for the program to 2 5 billion dlrs from 1 5 billion now furthermore the committee passed an amendment offered by rep glickman which ? the u s agriculture department to value eep bonus commodities at market value not acquisition value glickman said the change would make the program 30 pct less expensive to operate the provision on eep wheat to the soviet union offered by rep bob smith r ore does not require the administration make an offer but urges such action the committee approved an amendment offered by rep glenn english d okla requiring the secretary of agriculture to begin discussions with other major grain producing countries aimed at jointly reducing world grain production trade representative clayton yeutter yesterday opposed the amendment saying such commodity agreements do not work among the host of amendments to restrict imports approved by the panel the most significant would require quotas on imports of goods containing more than 25 pct of a bulk farm product that is subject to u s quotas the amendment offered by rep ? stangeland r minn is aimed primarily at curbing imports from canada of products containing sugar and foreign foods containing dairy products it also may affect ? cotton and tobacco imports committee sources said another amendment would place a quota on u s imports of ? a dairy product shipped to the u s primarily by new zealand and ireland the panel also voted to apply to lamb imports the same ? import quota law which is operating for u s beef imports other ? amendments included urging the administration consider ? against japan and south korea if those countries do not remove restrictions on beef imports boosting the amount of u s grain which must be shipped each year under a food aid program called section 416 to 800 000 tonnes from 500 000 tonnes now requiring the agriculture secretary conduct a study of the canadian wheat board import licensing system for wheat to determine if it is a non tariff trade barrier requiring the agriculture secretary reimburse the national corn growers association up to 500 000 dlrs for the costs of defending the u s feedgrains program against a canadian countervailing duty case this year urging the administration oppose the canadian decision to apply a duty on u s corn imports and a proposal by the european community to apply a vegetable oils tax usda conduct a study of the findings of a national commission on agricultural export policy which recommended a reorganization of usda's trade policy ? reuter 3 \n",
            "\n",
            "Topic: ship\n",
            "\n",
            "Document 33:\n",
            "? the belgian national bank cut interest rates on one two and three month treasury certificates to 7 30 pct from 7 40 pct effective immediately the bank said in a telex message the bank last adjusted its short term treasury certificate rates on march 23 when it also reduced rates for all three periods by 0 10 points a national bank spokesman said the latest adjustment would bring the rates closer in line with currently prevailing interbank interest rates the spokesman said it was too early to predict whether the move would herald a reduction in discount rate which currently stands at eight pct when the bank holds its regular weekly meeting at which the rate is discussed next wednesday the discount rate generally moves in tandem with the three month treasury certificate rate however there is no formal link and the discount rate was not adjusted following the march 23 changes reuter 3 \n",
            "\n",
            "Topic: interest\n",
            "\n"
          ],
          "name": "stdout"
        }
      ]
    },
    {
      "cell_type": "markdown",
      "metadata": {
        "id": "iI_kGBgDAYyf",
        "colab_type": "text"
      },
      "source": [
        "##Look at the frequency of the words in the corpus"
      ]
    },
    {
      "cell_type": "code",
      "metadata": {
        "id": "MS9sSux1jltU",
        "colab_type": "code",
        "colab": {
          "base_uri": "https://localhost:8080/",
          "height": 34
        },
        "outputId": "0425e9b7-3607-4e39-ea2e-540e4fb757bd"
      },
      "source": [
        "indexes = [word for doc in data for word in doc]\n",
        "print(f\"There are {len(indexes)} words in the data corpus.\")"
      ],
      "execution_count": 77,
      "outputs": [
        {
          "output_type": "stream",
          "text": [
            "There are 1638886 words in the data corpus.\n"
          ],
          "name": "stdout"
        }
      ]
    },
    {
      "cell_type": "code",
      "metadata": {
        "id": "Op8CjdUQjlqw",
        "colab_type": "code",
        "colab": {
          "base_uri": "https://localhost:8080/",
          "height": 34
        },
        "outputId": "3ab560c3-f99d-4242-d230-e9593b48bbea"
      },
      "source": [
        "corpus = [reverse_word_index.get(index, '?') for index in indexes]\n",
        "len(corpus)"
      ],
      "execution_count": 78,
      "outputs": [
        {
          "output_type": "execute_result",
          "data": {
            "text/plain": [
              "1638886"
            ]
          },
          "metadata": {
            "tags": []
          },
          "execution_count": 78
        }
      ]
    },
    {
      "cell_type": "code",
      "metadata": {
        "id": "qq9igBb4Bmy4",
        "colab_type": "code",
        "colab": {
          "base_uri": "https://localhost:8080/",
          "height": 34
        },
        "outputId": "ad5268d4-6a2d-4c9a-a9b8-516fc1c7c903"
      },
      "source": [
        "unique_indexes = list(set(indexes))\n",
        "print(f\"There are {len(unique_indexes)} unique words in the data corpus, not including '?'\")"
      ],
      "execution_count": 79,
      "outputs": [
        {
          "output_type": "stream",
          "text": [
            "There are 9998 unique words in the data corpus, not including '?'\n"
          ],
          "name": "stdout"
        }
      ]
    },
    {
      "cell_type": "code",
      "metadata": {
        "id": "uJloOMDbBmxr",
        "colab_type": "code",
        "colab": {
          "base_uri": "https://localhost:8080/",
          "height": 34
        },
        "outputId": "6f3df49c-dfd3-4790-a4a9-46537f468e49"
      },
      "source": [
        "unique_corpus = [reverse_word_index.get(w, '?') for w in unique_indexes]\n",
        "len(unique_corpus)"
      ],
      "execution_count": 80,
      "outputs": [
        {
          "output_type": "execute_result",
          "data": {
            "text/plain": [
              "9998"
            ]
          },
          "metadata": {
            "tags": []
          },
          "execution_count": 80
        }
      ]
    },
    {
      "cell_type": "markdown",
      "metadata": {
        "id": "x5OGFZ58DV0k",
        "colab_type": "text"
      },
      "source": [
        "The 200 most frequently used words in the corpus:"
      ]
    },
    {
      "cell_type": "code",
      "metadata": {
        "id": "ckEL6QytBmuU",
        "colab_type": "code",
        "colab": {
          "base_uri": "https://localhost:8080/",
          "height": 1000
        },
        "outputId": "f71bde21-a894-445c-b8e3-20119a26578e"
      },
      "source": [
        "corpus_frequency = Counter(corpus).most_common()\n",
        "corpus_frequency[:200]\n"
      ],
      "execution_count": 81,
      "outputs": [
        {
          "output_type": "execute_result",
          "data": {
            "text/plain": [
              "[('in', 82723),\n",
              " ('of', 44880),\n",
              " ('said', 42393),\n",
              " ('and', 40350),\n",
              " ('a', 33157),\n",
              " ('mln', 29978),\n",
              " ('3', 29956),\n",
              " ('for', 29581),\n",
              " ('vs', 20141),\n",
              " ('dlrs', 16668),\n",
              " ('it', 15224),\n",
              " ('reuter', 15015),\n",
              " ('000', 13329),\n",
              " ('1', 12395),\n",
              " ('the', 11228),\n",
              " ('pct', 11191),\n",
              " ('on', 11039),\n",
              " ('from', 10755),\n",
              " ('is', 10746),\n",
              " ('that', 10377),\n",
              " ('its', 9345),\n",
              " ('cts', 9113),\n",
              " ('by', 9022),\n",
              " ('at', 8579),\n",
              " ('year', 8451),\n",
              " ('be', 8311),\n",
              " ('with', 8056),\n",
              " ('2', 7797),\n",
              " ('will', 7627),\n",
              " ('was', 7288),\n",
              " ('billion', 7100),\n",
              " ('he', 7037),\n",
              " ('u', 7010),\n",
              " ('s', 6588),\n",
              " ('net', 6436),\n",
              " ('has', 6266),\n",
              " ('would', 6157),\n",
              " ('an', 5818),\n",
              " ('as', 5593),\n",
              " ('5', 5553),\n",
              " ('not', 5379),\n",
              " ('loss', 5369),\n",
              " ('4', 5082),\n",
              " ('1986', 5081),\n",
              " ('company', 4836),\n",
              " ('which', 4688),\n",
              " ('but', 4574),\n",
              " ('this', 4565),\n",
              " ('shr', 4383),\n",
              " ('last', 4256),\n",
              " ('are', 4244),\n",
              " ('lt', 4213),\n",
              " ('have', 3858),\n",
              " ('or', 3838),\n",
              " ('6', 3810),\n",
              " ('bank', 3756),\n",
              " ('7', 3710),\n",
              " ('were', 3689),\n",
              " ('8', 3654),\n",
              " ('had', 3652),\n",
              " ('oil', 3646),\n",
              " ('trade', 3492),\n",
              " ('share', 3453),\n",
              " ('one', 3440),\n",
              " ('about', 3380),\n",
              " ('0', 3374),\n",
              " ('inc', 3363),\n",
              " ('9', 3203),\n",
              " ('new', 3184),\n",
              " ('profit', 3120),\n",
              " ('also', 3091),\n",
              " ('market', 3061),\n",
              " ('they', 3060),\n",
              " ('two', 3040),\n",
              " ('shares', 3019),\n",
              " ('stock', 3011),\n",
              " ('corp', 2905),\n",
              " ('tonnes', 2883),\n",
              " ('10', 2749),\n",
              " ('up', 2664),\n",
              " ('been', 2605),\n",
              " ('revs', 2597),\n",
              " ('prices', 2506),\n",
              " ('sales', 2474),\n",
              " ('1987', 2434),\n",
              " ('per', 2405),\n",
              " ('may', 2381),\n",
              " ('after', 2371),\n",
              " ('april', 2331),\n",
              " ('march', 2277),\n",
              " ('more', 2248),\n",
              " ('price', 2246),\n",
              " ('than', 2181),\n",
              " ('quarter', 2162),\n",
              " ('first', 2097),\n",
              " ('other', 2077),\n",
              " ('rate', 2063),\n",
              " ('15', 2044),\n",
              " ('group', 1956),\n",
              " ('february', 1923),\n",
              " ('1985', 1921),\n",
              " ('government', 1911),\n",
              " ('if', 1883),\n",
              " ('exchange', 1866),\n",
              " ('three', 1859),\n",
              " ('january', 1841),\n",
              " ('co', 1812),\n",
              " ('against', 1810),\n",
              " ('dollar', 1758),\n",
              " ('could', 1753),\n",
              " ('we', 1753),\n",
              " ('offer', 1749),\n",
              " ('over', 1737),\n",
              " ('told', 1737),\n",
              " ('20', 1706),\n",
              " ('agreement', 1705),\n",
              " ('week', 1704),\n",
              " ('production', 1703),\n",
              " ('note', 1694),\n",
              " ('30', 1693),\n",
              " ('their', 1690),\n",
              " ('some', 1680),\n",
              " ('foreign', 1676),\n",
              " ('interest', 1665),\n",
              " ('no', 1644),\n",
              " ('japan', 1629),\n",
              " ('tax', 1619),\n",
              " ('50', 1617),\n",
              " ('expected', 1617),\n",
              " ('12', 1607),\n",
              " ('total', 1586),\n",
              " ('under', 1566),\n",
              " ('all', 1564),\n",
              " ('rose', 1519),\n",
              " ('month', 1514),\n",
              " ('rates', 1505),\n",
              " ('international', 1500),\n",
              " ('five', 1491),\n",
              " ('current', 1471),\n",
              " ('there', 1468),\n",
              " ('today', 1466),\n",
              " ('record', 1439),\n",
              " ('25', 1430),\n",
              " ('increase', 1407),\n",
              " ('ltd', 1402),\n",
              " ('dlr', 1400),\n",
              " ('nine', 1374),\n",
              " ('added', 1371),\n",
              " ('end', 1366),\n",
              " ('rise', 1363),\n",
              " ('six', 1363),\n",
              " ('31', 1359),\n",
              " ('earlier', 1331),\n",
              " ('16', 1328),\n",
              " ('growth', 1323),\n",
              " ('11', 1319),\n",
              " ('because', 1318),\n",
              " ('meeting', 1298),\n",
              " ('exports', 1298),\n",
              " ('between', 1272),\n",
              " ('13', 1267),\n",
              " ('board', 1258),\n",
              " ('stg', 1243),\n",
              " ('economic', 1232),\n",
              " ('world', 1226),\n",
              " ('made', 1224),\n",
              " ('banks', 1207),\n",
              " ('into', 1206),\n",
              " ('officials', 1196),\n",
              " ('japanese', 1191),\n",
              " ('common', 1182),\n",
              " ('spokesman', 1182),\n",
              " ('months', 1180),\n",
              " ('oper', 1176),\n",
              " ('official', 1172),\n",
              " ('avg', 1166),\n",
              " ('major', 1160),\n",
              " ('industry', 1148),\n",
              " ('shrs', 1143),\n",
              " ('while', 1140),\n",
              " ('when', 1137),\n",
              " ('earnings', 1133),\n",
              " ('14', 1129),\n",
              " ('four', 1128),\n",
              " ('now', 1121),\n",
              " ('countries', 1121),\n",
              " ('17', 1114),\n",
              " ('west', 1107),\n",
              " ('87', 1100),\n",
              " ('any', 1098),\n",
              " ('president', 1095),\n",
              " ('18', 1093),\n",
              " ('cash', 1086),\n",
              " ('export', 1081),\n",
              " ('sources', 1072),\n",
              " ('agreed', 1067),\n",
              " ('companies', 1058),\n",
              " ('fell', 1051),\n",
              " ('central', 1050),\n",
              " ('imports', 1050)]"
            ]
          },
          "metadata": {
            "tags": []
          },
          "execution_count": 81
        }
      ]
    },
    {
      "cell_type": "markdown",
      "metadata": {
        "id": "c7D9PqscDdLX",
        "colab_type": "text"
      },
      "source": [
        "The 100 least frequently used words in the corpus:"
      ]
    },
    {
      "cell_type": "code",
      "metadata": {
        "id": "kQiqMC2fBmr5",
        "colab_type": "code",
        "colab": {
          "base_uri": "https://localhost:8080/",
          "height": 1000
        },
        "outputId": "ec87f139-ac69-4be4-ec7e-85daf61425f9"
      },
      "source": [
        "corpus_frequency[:-100:-1]"
      ],
      "execution_count": 82,
      "outputs": [
        {
          "output_type": "execute_result",
          "data": {
            "text/plain": [
              "[('bryson', 7),\n",
              " ('steelmakers', 7),\n",
              " ('diablo', 7),\n",
              " ('haruo', 7),\n",
              " ('marcus', 7),\n",
              " ('adequately', 7),\n",
              " ('anhui', 7),\n",
              " ('ross', 7),\n",
              " ('inform', 7),\n",
              " ('rosenberg', 7),\n",
              " ('ousted', 7),\n",
              " ('disclosing', 7),\n",
              " ('detected', 7),\n",
              " ('hardline', 7),\n",
              " ('loosen', 7),\n",
              " ('biopharmaceutics', 7),\n",
              " ('dock', 7),\n",
              " ('vetoed', 7),\n",
              " ('ideally', 7),\n",
              " ('kilowatt', 7),\n",
              " ('ica', 7),\n",
              " ('decades', 7),\n",
              " ('rivals', 7),\n",
              " ('leather', 7),\n",
              " ('pine', 7),\n",
              " ('sake', 7),\n",
              " ('lac', 7),\n",
              " ('vigorous', 7),\n",
              " ('thick', 7),\n",
              " ('electro', 7),\n",
              " ('getty', 7),\n",
              " ('meinhardt', 7),\n",
              " ('dockworkers', 7),\n",
              " ('siddeley', 7),\n",
              " ('chen', 7),\n",
              " ('schweizerische', 7),\n",
              " ('ian', 7),\n",
              " ('irwin', 7),\n",
              " ('older', 7),\n",
              " ('arose', 7),\n",
              " ('mad', 7),\n",
              " ('crepe', 7),\n",
              " ('monfort', 7),\n",
              " ('diminishing', 7),\n",
              " ('signalling', 7),\n",
              " ('inefficient', 7),\n",
              " ('warmer', 7),\n",
              " ('cardiovascular', 7),\n",
              " ('guillaume', 7),\n",
              " (\"champlin's\", 7),\n",
              " ('fuelled', 7),\n",
              " ('alongside', 7),\n",
              " ('conform', 7),\n",
              " ('sheets', 7),\n",
              " ('ralph', 7),\n",
              " ('reallocated', 7),\n",
              " ('heaviest', 7),\n",
              " ('staged', 7),\n",
              " ('2001', 7),\n",
              " ('feeder', 7),\n",
              " ('policymakers', 7),\n",
              " ('ceilings', 7),\n",
              " ('belongs', 7),\n",
              " ('hawkins', 7),\n",
              " ('forint', 7),\n",
              " ('buitoni', 7),\n",
              " ('aps', 7),\n",
              " ('ichi', 7),\n",
              " ('reprisals', 7),\n",
              " ('wolf', 7),\n",
              " ('milwaukee', 7),\n",
              " ('murphy', 7),\n",
              " ('agribusiness', 7),\n",
              " ('cascade', 7),\n",
              " ('clouded', 7),\n",
              " ('graan', 7),\n",
              " ('workstations', 7),\n",
              " ('anew', 7),\n",
              " ('midwestern', 7),\n",
              " (\"bally's\", 7),\n",
              " ('grammes', 7),\n",
              " ('ingots', 7),\n",
              " ('humans', 7),\n",
              " ('deflator', 7),\n",
              " ('upheld', 7),\n",
              " ('interfirst', 7),\n",
              " ('coffees', 7),\n",
              " ('aggression', 7),\n",
              " ('shrank', 7),\n",
              " ('crellin', 7),\n",
              " ('protracted', 7),\n",
              " ('affiliation', 7),\n",
              " ('checks', 7),\n",
              " ('indium', 7),\n",
              " ('grosso', 7),\n",
              " ('wx', 7),\n",
              " (\"francs'\", 7),\n",
              " ('narrower', 7),\n",
              " ('sunshine', 7)]"
            ]
          },
          "metadata": {
            "tags": []
          },
          "execution_count": 82
        }
      ]
    },
    {
      "cell_type": "code",
      "metadata": {
        "id": "0n-ULdrYEbyZ",
        "colab_type": "code",
        "colab": {
          "base_uri": "https://localhost:8080/",
          "height": 34
        },
        "outputId": "7ee2b109-b12a-436e-b7a4-f52208a6ea7c"
      },
      "source": [
        "data_unique = [list(set(d)) for d in data]\n",
        "len(data_unique)"
      ],
      "execution_count": 83,
      "outputs": [
        {
          "output_type": "execute_result",
          "data": {
            "text/plain": [
              "11228"
            ]
          },
          "metadata": {
            "tags": []
          },
          "execution_count": 83
        }
      ]
    },
    {
      "cell_type": "code",
      "metadata": {
        "id": "AtjFuw-QEjvm",
        "colab_type": "code",
        "colab": {
          "base_uri": "https://localhost:8080/",
          "height": 34
        },
        "outputId": "9020f6db-5571-409a-d64d-39f1634b7beb"
      },
      "source": [
        "ones = [word for word, freq in Counter(corpus).items() if freq == 1]\n",
        "print(f\"There are {len(ones)} words that only occur once in the corpus\")"
      ],
      "execution_count": 84,
      "outputs": [
        {
          "output_type": "stream",
          "text": [
            "There are 0 words that only occur once in the corpus\n"
          ],
          "name": "stdout"
        }
      ]
    },
    {
      "cell_type": "code",
      "metadata": {
        "id": "tY8F8QfCFJdX",
        "colab_type": "code",
        "colab": {
          "base_uri": "https://localhost:8080/",
          "height": 34
        },
        "outputId": "147fc8d8-02ab-43e7-a1b4-25cccfca6030"
      },
      "source": [
        "sevens = [word for word, freq in Counter(corpus).items() if freq == 7]\n",
        "print(f\"There are {len(sevens)} words that only occur 7 times in the corpus\")"
      ],
      "execution_count": 85,
      "outputs": [
        {
          "output_type": "stream",
          "text": [
            "There are 616 words that only occur 7 times in the corpus\n"
          ],
          "name": "stdout"
        }
      ]
    },
    {
      "cell_type": "code",
      "metadata": {
        "id": "SA8RYy0_Fs1k",
        "colab_type": "code",
        "colab": {
          "base_uri": "https://localhost:8080/",
          "height": 364
        },
        "outputId": "560843be-c99a-4b22-8d64-3e37db695661"
      },
      "source": [
        "Counter(Counter(corpus).values()).most_common(20)"
      ],
      "execution_count": 86,
      "outputs": [
        {
          "output_type": "execute_result",
          "data": {
            "text/plain": [
              "[(7, 616),\n",
              " (8, 578),\n",
              " (9, 451),\n",
              " (10, 380),\n",
              " (11, 379),\n",
              " (12, 346),\n",
              " (13, 288),\n",
              " (15, 271),\n",
              " (14, 266),\n",
              " (16, 258),\n",
              " (18, 251),\n",
              " (17, 224),\n",
              " (20, 210),\n",
              " (19, 186),\n",
              " (21, 180),\n",
              " (22, 163),\n",
              " (24, 142),\n",
              " (26, 131),\n",
              " (23, 131),\n",
              " (25, 127)]"
            ]
          },
          "metadata": {
            "tags": []
          },
          "execution_count": 86
        }
      ]
    },
    {
      "cell_type": "code",
      "metadata": {
        "id": "3QmN0LsYGXPm",
        "colab_type": "code",
        "colab": {
          "base_uri": "https://localhost:8080/",
          "height": 677
        },
        "outputId": "348d067a-9da8-4e18-db18-dc50f9e7eb7d"
      },
      "source": [
        "import pandas as pd\n",
        "df2 = pd.DataFrame(Counter(Counter(corpus).values()).most_common(),\n",
        "                   columns=['frequency', 'num of words'])\n",
        "df2.head(20)"
      ],
      "execution_count": 87,
      "outputs": [
        {
          "output_type": "execute_result",
          "data": {
            "text/html": [
              "<div>\n",
              "<style scoped>\n",
              "    .dataframe tbody tr th:only-of-type {\n",
              "        vertical-align: middle;\n",
              "    }\n",
              "\n",
              "    .dataframe tbody tr th {\n",
              "        vertical-align: top;\n",
              "    }\n",
              "\n",
              "    .dataframe thead th {\n",
              "        text-align: right;\n",
              "    }\n",
              "</style>\n",
              "<table border=\"1\" class=\"dataframe\">\n",
              "  <thead>\n",
              "    <tr style=\"text-align: right;\">\n",
              "      <th></th>\n",
              "      <th>frequency</th>\n",
              "      <th>num of words</th>\n",
              "    </tr>\n",
              "  </thead>\n",
              "  <tbody>\n",
              "    <tr>\n",
              "      <th>0</th>\n",
              "      <td>7</td>\n",
              "      <td>616</td>\n",
              "    </tr>\n",
              "    <tr>\n",
              "      <th>1</th>\n",
              "      <td>8</td>\n",
              "      <td>578</td>\n",
              "    </tr>\n",
              "    <tr>\n",
              "      <th>2</th>\n",
              "      <td>9</td>\n",
              "      <td>451</td>\n",
              "    </tr>\n",
              "    <tr>\n",
              "      <th>3</th>\n",
              "      <td>10</td>\n",
              "      <td>380</td>\n",
              "    </tr>\n",
              "    <tr>\n",
              "      <th>4</th>\n",
              "      <td>11</td>\n",
              "      <td>379</td>\n",
              "    </tr>\n",
              "    <tr>\n",
              "      <th>5</th>\n",
              "      <td>12</td>\n",
              "      <td>346</td>\n",
              "    </tr>\n",
              "    <tr>\n",
              "      <th>6</th>\n",
              "      <td>13</td>\n",
              "      <td>288</td>\n",
              "    </tr>\n",
              "    <tr>\n",
              "      <th>7</th>\n",
              "      <td>15</td>\n",
              "      <td>271</td>\n",
              "    </tr>\n",
              "    <tr>\n",
              "      <th>8</th>\n",
              "      <td>14</td>\n",
              "      <td>266</td>\n",
              "    </tr>\n",
              "    <tr>\n",
              "      <th>9</th>\n",
              "      <td>16</td>\n",
              "      <td>258</td>\n",
              "    </tr>\n",
              "    <tr>\n",
              "      <th>10</th>\n",
              "      <td>18</td>\n",
              "      <td>251</td>\n",
              "    </tr>\n",
              "    <tr>\n",
              "      <th>11</th>\n",
              "      <td>17</td>\n",
              "      <td>224</td>\n",
              "    </tr>\n",
              "    <tr>\n",
              "      <th>12</th>\n",
              "      <td>20</td>\n",
              "      <td>210</td>\n",
              "    </tr>\n",
              "    <tr>\n",
              "      <th>13</th>\n",
              "      <td>19</td>\n",
              "      <td>186</td>\n",
              "    </tr>\n",
              "    <tr>\n",
              "      <th>14</th>\n",
              "      <td>21</td>\n",
              "      <td>180</td>\n",
              "    </tr>\n",
              "    <tr>\n",
              "      <th>15</th>\n",
              "      <td>22</td>\n",
              "      <td>163</td>\n",
              "    </tr>\n",
              "    <tr>\n",
              "      <th>16</th>\n",
              "      <td>24</td>\n",
              "      <td>142</td>\n",
              "    </tr>\n",
              "    <tr>\n",
              "      <th>17</th>\n",
              "      <td>26</td>\n",
              "      <td>131</td>\n",
              "    </tr>\n",
              "    <tr>\n",
              "      <th>18</th>\n",
              "      <td>23</td>\n",
              "      <td>131</td>\n",
              "    </tr>\n",
              "    <tr>\n",
              "      <th>19</th>\n",
              "      <td>25</td>\n",
              "      <td>127</td>\n",
              "    </tr>\n",
              "  </tbody>\n",
              "</table>\n",
              "</div>"
            ],
            "text/plain": [
              "    frequency  num of words\n",
              "0           7           616\n",
              "1           8           578\n",
              "2           9           451\n",
              "3          10           380\n",
              "4          11           379\n",
              "5          12           346\n",
              "6          13           288\n",
              "7          15           271\n",
              "8          14           266\n",
              "9          16           258\n",
              "10         18           251\n",
              "11         17           224\n",
              "12         20           210\n",
              "13         19           186\n",
              "14         21           180\n",
              "15         22           163\n",
              "16         24           142\n",
              "17         26           131\n",
              "18         23           131\n",
              "19         25           127"
            ]
          },
          "metadata": {
            "tags": []
          },
          "execution_count": 87
        }
      ]
    },
    {
      "cell_type": "code",
      "metadata": {
        "id": "xHxgac8xO9mm",
        "colab_type": "code",
        "colab": {
          "base_uri": "https://localhost:8080/",
          "height": 677
        },
        "outputId": "a141c37f-fbc4-44a2-a340-d26c4cd3a153"
      },
      "source": [
        "df2.tail(20)"
      ],
      "execution_count": 88,
      "outputs": [
        {
          "output_type": "execute_result",
          "data": {
            "text/html": [
              "<div>\n",
              "<style scoped>\n",
              "    .dataframe tbody tr th:only-of-type {\n",
              "        vertical-align: middle;\n",
              "    }\n",
              "\n",
              "    .dataframe tbody tr th {\n",
              "        vertical-align: top;\n",
              "    }\n",
              "\n",
              "    .dataframe thead th {\n",
              "        text-align: right;\n",
              "    }\n",
              "</style>\n",
              "<table border=\"1\" class=\"dataframe\">\n",
              "  <thead>\n",
              "    <tr style=\"text-align: right;\">\n",
              "      <th></th>\n",
              "      <th>frequency</th>\n",
              "      <th>num of words</th>\n",
              "    </tr>\n",
              "  </thead>\n",
              "  <tbody>\n",
              "    <tr>\n",
              "      <th>799</th>\n",
              "      <td>470</td>\n",
              "      <td>1</td>\n",
              "    </tr>\n",
              "    <tr>\n",
              "      <th>800</th>\n",
              "      <td>336</td>\n",
              "      <td>1</td>\n",
              "    </tr>\n",
              "    <tr>\n",
              "      <th>801</th>\n",
              "      <td>266</td>\n",
              "      <td>1</td>\n",
              "    </tr>\n",
              "    <tr>\n",
              "      <th>802</th>\n",
              "      <td>282</td>\n",
              "      <td>1</td>\n",
              "    </tr>\n",
              "    <tr>\n",
              "      <th>803</th>\n",
              "      <td>532</td>\n",
              "      <td>1</td>\n",
              "    </tr>\n",
              "    <tr>\n",
              "      <th>804</th>\n",
              "      <td>628</td>\n",
              "      <td>1</td>\n",
              "    </tr>\n",
              "    <tr>\n",
              "      <th>805</th>\n",
              "      <td>366</td>\n",
              "      <td>1</td>\n",
              "    </tr>\n",
              "    <tr>\n",
              "      <th>806</th>\n",
              "      <td>539</td>\n",
              "      <td>1</td>\n",
              "    </tr>\n",
              "    <tr>\n",
              "      <th>807</th>\n",
              "      <td>619</td>\n",
              "      <td>1</td>\n",
              "    </tr>\n",
              "    <tr>\n",
              "      <th>808</th>\n",
              "      <td>268</td>\n",
              "      <td>1</td>\n",
              "    </tr>\n",
              "    <tr>\n",
              "      <th>809</th>\n",
              "      <td>431</td>\n",
              "      <td>1</td>\n",
              "    </tr>\n",
              "    <tr>\n",
              "      <th>810</th>\n",
              "      <td>183</td>\n",
              "      <td>1</td>\n",
              "    </tr>\n",
              "    <tr>\n",
              "      <th>811</th>\n",
              "      <td>427</td>\n",
              "      <td>1</td>\n",
              "    </tr>\n",
              "    <tr>\n",
              "      <th>812</th>\n",
              "      <td>445</td>\n",
              "      <td>1</td>\n",
              "    </tr>\n",
              "    <tr>\n",
              "      <th>813</th>\n",
              "      <td>353</td>\n",
              "      <td>1</td>\n",
              "    </tr>\n",
              "    <tr>\n",
              "      <th>814</th>\n",
              "      <td>349</td>\n",
              "      <td>1</td>\n",
              "    </tr>\n",
              "    <tr>\n",
              "      <th>815</th>\n",
              "      <td>329</td>\n",
              "      <td>1</td>\n",
              "    </tr>\n",
              "    <tr>\n",
              "      <th>816</th>\n",
              "      <td>367</td>\n",
              "      <td>1</td>\n",
              "    </tr>\n",
              "    <tr>\n",
              "      <th>817</th>\n",
              "      <td>310</td>\n",
              "      <td>1</td>\n",
              "    </tr>\n",
              "    <tr>\n",
              "      <th>818</th>\n",
              "      <td>317</td>\n",
              "      <td>1</td>\n",
              "    </tr>\n",
              "  </tbody>\n",
              "</table>\n",
              "</div>"
            ],
            "text/plain": [
              "     frequency  num of words\n",
              "799        470             1\n",
              "800        336             1\n",
              "801        266             1\n",
              "802        282             1\n",
              "803        532             1\n",
              "804        628             1\n",
              "805        366             1\n",
              "806        539             1\n",
              "807        619             1\n",
              "808        268             1\n",
              "809        431             1\n",
              "810        183             1\n",
              "811        427             1\n",
              "812        445             1\n",
              "813        353             1\n",
              "814        349             1\n",
              "815        329             1\n",
              "816        367             1\n",
              "817        310             1\n",
              "818        317             1"
            ]
          },
          "metadata": {
            "tags": []
          },
          "execution_count": 88
        }
      ]
    },
    {
      "cell_type": "code",
      "metadata": {
        "id": "d7nvrlS7Hd9n",
        "colab_type": "code",
        "colab": {
          "base_uri": "https://localhost:8080/",
          "height": 1000
        },
        "outputId": "92d61f83-352f-44bf-9699-2d75895c0593"
      },
      "source": [
        "df2['perc'] = round(df2['num of words']*100/df2['num of words'].sum(),4)\n",
        "df2.sort_values(by='frequency',).head(50)"
      ],
      "execution_count": 89,
      "outputs": [
        {
          "output_type": "execute_result",
          "data": {
            "text/html": [
              "<div>\n",
              "<style scoped>\n",
              "    .dataframe tbody tr th:only-of-type {\n",
              "        vertical-align: middle;\n",
              "    }\n",
              "\n",
              "    .dataframe tbody tr th {\n",
              "        vertical-align: top;\n",
              "    }\n",
              "\n",
              "    .dataframe thead th {\n",
              "        text-align: right;\n",
              "    }\n",
              "</style>\n",
              "<table border=\"1\" class=\"dataframe\">\n",
              "  <thead>\n",
              "    <tr style=\"text-align: right;\">\n",
              "      <th></th>\n",
              "      <th>frequency</th>\n",
              "      <th>num of words</th>\n",
              "      <th>perc</th>\n",
              "    </tr>\n",
              "  </thead>\n",
              "  <tbody>\n",
              "    <tr>\n",
              "      <th>0</th>\n",
              "      <td>7</td>\n",
              "      <td>616</td>\n",
              "      <td>6.1612</td>\n",
              "    </tr>\n",
              "    <tr>\n",
              "      <th>1</th>\n",
              "      <td>8</td>\n",
              "      <td>578</td>\n",
              "      <td>5.7812</td>\n",
              "    </tr>\n",
              "    <tr>\n",
              "      <th>2</th>\n",
              "      <td>9</td>\n",
              "      <td>451</td>\n",
              "      <td>4.5109</td>\n",
              "    </tr>\n",
              "    <tr>\n",
              "      <th>3</th>\n",
              "      <td>10</td>\n",
              "      <td>380</td>\n",
              "      <td>3.8008</td>\n",
              "    </tr>\n",
              "    <tr>\n",
              "      <th>4</th>\n",
              "      <td>11</td>\n",
              "      <td>379</td>\n",
              "      <td>3.7908</td>\n",
              "    </tr>\n",
              "    <tr>\n",
              "      <th>5</th>\n",
              "      <td>12</td>\n",
              "      <td>346</td>\n",
              "      <td>3.4607</td>\n",
              "    </tr>\n",
              "    <tr>\n",
              "      <th>6</th>\n",
              "      <td>13</td>\n",
              "      <td>288</td>\n",
              "      <td>2.8806</td>\n",
              "    </tr>\n",
              "    <tr>\n",
              "      <th>8</th>\n",
              "      <td>14</td>\n",
              "      <td>266</td>\n",
              "      <td>2.6605</td>\n",
              "    </tr>\n",
              "    <tr>\n",
              "      <th>7</th>\n",
              "      <td>15</td>\n",
              "      <td>271</td>\n",
              "      <td>2.7105</td>\n",
              "    </tr>\n",
              "    <tr>\n",
              "      <th>9</th>\n",
              "      <td>16</td>\n",
              "      <td>258</td>\n",
              "      <td>2.5805</td>\n",
              "    </tr>\n",
              "    <tr>\n",
              "      <th>11</th>\n",
              "      <td>17</td>\n",
              "      <td>224</td>\n",
              "      <td>2.2404</td>\n",
              "    </tr>\n",
              "    <tr>\n",
              "      <th>10</th>\n",
              "      <td>18</td>\n",
              "      <td>251</td>\n",
              "      <td>2.5105</td>\n",
              "    </tr>\n",
              "    <tr>\n",
              "      <th>13</th>\n",
              "      <td>19</td>\n",
              "      <td>186</td>\n",
              "      <td>1.8604</td>\n",
              "    </tr>\n",
              "    <tr>\n",
              "      <th>12</th>\n",
              "      <td>20</td>\n",
              "      <td>210</td>\n",
              "      <td>2.1004</td>\n",
              "    </tr>\n",
              "    <tr>\n",
              "      <th>14</th>\n",
              "      <td>21</td>\n",
              "      <td>180</td>\n",
              "      <td>1.8004</td>\n",
              "    </tr>\n",
              "    <tr>\n",
              "      <th>15</th>\n",
              "      <td>22</td>\n",
              "      <td>163</td>\n",
              "      <td>1.6303</td>\n",
              "    </tr>\n",
              "    <tr>\n",
              "      <th>18</th>\n",
              "      <td>23</td>\n",
              "      <td>131</td>\n",
              "      <td>1.3103</td>\n",
              "    </tr>\n",
              "    <tr>\n",
              "      <th>16</th>\n",
              "      <td>24</td>\n",
              "      <td>142</td>\n",
              "      <td>1.4203</td>\n",
              "    </tr>\n",
              "    <tr>\n",
              "      <th>19</th>\n",
              "      <td>25</td>\n",
              "      <td>127</td>\n",
              "      <td>1.2703</td>\n",
              "    </tr>\n",
              "    <tr>\n",
              "      <th>17</th>\n",
              "      <td>26</td>\n",
              "      <td>131</td>\n",
              "      <td>1.3103</td>\n",
              "    </tr>\n",
              "    <tr>\n",
              "      <th>21</th>\n",
              "      <td>27</td>\n",
              "      <td>110</td>\n",
              "      <td>1.1002</td>\n",
              "    </tr>\n",
              "    <tr>\n",
              "      <th>22</th>\n",
              "      <td>28</td>\n",
              "      <td>104</td>\n",
              "      <td>1.0402</td>\n",
              "    </tr>\n",
              "    <tr>\n",
              "      <th>23</th>\n",
              "      <td>29</td>\n",
              "      <td>104</td>\n",
              "      <td>1.0402</td>\n",
              "    </tr>\n",
              "    <tr>\n",
              "      <th>24</th>\n",
              "      <td>30</td>\n",
              "      <td>94</td>\n",
              "      <td>0.9402</td>\n",
              "    </tr>\n",
              "    <tr>\n",
              "      <th>20</th>\n",
              "      <td>31</td>\n",
              "      <td>116</td>\n",
              "      <td>1.1602</td>\n",
              "    </tr>\n",
              "    <tr>\n",
              "      <th>25</th>\n",
              "      <td>32</td>\n",
              "      <td>90</td>\n",
              "      <td>0.9002</td>\n",
              "    </tr>\n",
              "    <tr>\n",
              "      <th>28</th>\n",
              "      <td>33</td>\n",
              "      <td>79</td>\n",
              "      <td>0.7902</td>\n",
              "    </tr>\n",
              "    <tr>\n",
              "      <th>26</th>\n",
              "      <td>34</td>\n",
              "      <td>90</td>\n",
              "      <td>0.9002</td>\n",
              "    </tr>\n",
              "    <tr>\n",
              "      <th>27</th>\n",
              "      <td>35</td>\n",
              "      <td>81</td>\n",
              "      <td>0.8102</td>\n",
              "    </tr>\n",
              "    <tr>\n",
              "      <th>30</th>\n",
              "      <td>36</td>\n",
              "      <td>73</td>\n",
              "      <td>0.7301</td>\n",
              "    </tr>\n",
              "    <tr>\n",
              "      <th>29</th>\n",
              "      <td>37</td>\n",
              "      <td>78</td>\n",
              "      <td>0.7802</td>\n",
              "    </tr>\n",
              "    <tr>\n",
              "      <th>36</th>\n",
              "      <td>38</td>\n",
              "      <td>50</td>\n",
              "      <td>0.5001</td>\n",
              "    </tr>\n",
              "    <tr>\n",
              "      <th>32</th>\n",
              "      <td>39</td>\n",
              "      <td>59</td>\n",
              "      <td>0.5901</td>\n",
              "    </tr>\n",
              "    <tr>\n",
              "      <th>35</th>\n",
              "      <td>40</td>\n",
              "      <td>50</td>\n",
              "      <td>0.5001</td>\n",
              "    </tr>\n",
              "    <tr>\n",
              "      <th>33</th>\n",
              "      <td>41</td>\n",
              "      <td>52</td>\n",
              "      <td>0.5201</td>\n",
              "    </tr>\n",
              "    <tr>\n",
              "      <th>31</th>\n",
              "      <td>42</td>\n",
              "      <td>62</td>\n",
              "      <td>0.6201</td>\n",
              "    </tr>\n",
              "    <tr>\n",
              "      <th>39</th>\n",
              "      <td>43</td>\n",
              "      <td>48</td>\n",
              "      <td>0.4801</td>\n",
              "    </tr>\n",
              "    <tr>\n",
              "      <th>34</th>\n",
              "      <td>44</td>\n",
              "      <td>51</td>\n",
              "      <td>0.5101</td>\n",
              "    </tr>\n",
              "    <tr>\n",
              "      <th>37</th>\n",
              "      <td>45</td>\n",
              "      <td>49</td>\n",
              "      <td>0.4901</td>\n",
              "    </tr>\n",
              "    <tr>\n",
              "      <th>42</th>\n",
              "      <td>46</td>\n",
              "      <td>43</td>\n",
              "      <td>0.4301</td>\n",
              "    </tr>\n",
              "    <tr>\n",
              "      <th>40</th>\n",
              "      <td>47</td>\n",
              "      <td>45</td>\n",
              "      <td>0.4501</td>\n",
              "    </tr>\n",
              "    <tr>\n",
              "      <th>43</th>\n",
              "      <td>48</td>\n",
              "      <td>41</td>\n",
              "      <td>0.4101</td>\n",
              "    </tr>\n",
              "    <tr>\n",
              "      <th>41</th>\n",
              "      <td>49</td>\n",
              "      <td>44</td>\n",
              "      <td>0.4401</td>\n",
              "    </tr>\n",
              "    <tr>\n",
              "      <th>45</th>\n",
              "      <td>50</td>\n",
              "      <td>40</td>\n",
              "      <td>0.4001</td>\n",
              "    </tr>\n",
              "    <tr>\n",
              "      <th>47</th>\n",
              "      <td>51</td>\n",
              "      <td>36</td>\n",
              "      <td>0.3601</td>\n",
              "    </tr>\n",
              "    <tr>\n",
              "      <th>44</th>\n",
              "      <td>52</td>\n",
              "      <td>41</td>\n",
              "      <td>0.4101</td>\n",
              "    </tr>\n",
              "    <tr>\n",
              "      <th>57</th>\n",
              "      <td>53</td>\n",
              "      <td>29</td>\n",
              "      <td>0.2901</td>\n",
              "    </tr>\n",
              "    <tr>\n",
              "      <th>55</th>\n",
              "      <td>54</td>\n",
              "      <td>30</td>\n",
              "      <td>0.3001</td>\n",
              "    </tr>\n",
              "    <tr>\n",
              "      <th>46</th>\n",
              "      <td>55</td>\n",
              "      <td>37</td>\n",
              "      <td>0.3701</td>\n",
              "    </tr>\n",
              "    <tr>\n",
              "      <th>56</th>\n",
              "      <td>56</td>\n",
              "      <td>30</td>\n",
              "      <td>0.3001</td>\n",
              "    </tr>\n",
              "  </tbody>\n",
              "</table>\n",
              "</div>"
            ],
            "text/plain": [
              "    frequency  num of words    perc\n",
              "0           7           616  6.1612\n",
              "1           8           578  5.7812\n",
              "2           9           451  4.5109\n",
              "3          10           380  3.8008\n",
              "4          11           379  3.7908\n",
              "5          12           346  3.4607\n",
              "6          13           288  2.8806\n",
              "8          14           266  2.6605\n",
              "7          15           271  2.7105\n",
              "9          16           258  2.5805\n",
              "11         17           224  2.2404\n",
              "10         18           251  2.5105\n",
              "13         19           186  1.8604\n",
              "12         20           210  2.1004\n",
              "14         21           180  1.8004\n",
              "15         22           163  1.6303\n",
              "18         23           131  1.3103\n",
              "16         24           142  1.4203\n",
              "19         25           127  1.2703\n",
              "17         26           131  1.3103\n",
              "21         27           110  1.1002\n",
              "22         28           104  1.0402\n",
              "23         29           104  1.0402\n",
              "24         30            94  0.9402\n",
              "20         31           116  1.1602\n",
              "25         32            90  0.9002\n",
              "28         33            79  0.7902\n",
              "26         34            90  0.9002\n",
              "27         35            81  0.8102\n",
              "30         36            73  0.7301\n",
              "29         37            78  0.7802\n",
              "36         38            50  0.5001\n",
              "32         39            59  0.5901\n",
              "35         40            50  0.5001\n",
              "33         41            52  0.5201\n",
              "31         42            62  0.6201\n",
              "39         43            48  0.4801\n",
              "34         44            51  0.5101\n",
              "37         45            49  0.4901\n",
              "42         46            43  0.4301\n",
              "40         47            45  0.4501\n",
              "43         48            41  0.4101\n",
              "41         49            44  0.4401\n",
              "45         50            40  0.4001\n",
              "47         51            36  0.3601\n",
              "44         52            41  0.4101\n",
              "57         53            29  0.2901\n",
              "55         54            30  0.3001\n",
              "46         55            37  0.3701\n",
              "56         56            30  0.3001"
            ]
          },
          "metadata": {
            "tags": []
          },
          "execution_count": 89
        }
      ]
    },
    {
      "cell_type": "markdown",
      "metadata": {
        "id": "wr3K-AhoITlw",
        "colab_type": "text"
      },
      "source": [
        "###Histogram based on number of words in each document and a histogram of the frequency of the unique words in the corpus"
      ]
    },
    {
      "cell_type": "code",
      "metadata": {
        "id": "6UtE7qSvIcZU",
        "colab_type": "code",
        "colab": {
          "base_uri": "https://localhost:8080/",
          "height": 34
        },
        "outputId": "0d73b1fe-4e35-46d2-9f63-fd76e2f7be06"
      },
      "source": [
        "doc_sizes = ([len(lst) for lst in data]) #number of words per doc\n",
        "print(f\"Number of words in the documents: {min(doc_sizes)} to {max(doc_sizes)}\")"
      ],
      "execution_count": 90,
      "outputs": [
        {
          "output_type": "stream",
          "text": [
            "Number of words in the documents: 2 to 2376\n"
          ],
          "name": "stdout"
        }
      ]
    },
    {
      "cell_type": "code",
      "metadata": {
        "id": "2JF_GZ0ZIcWn",
        "colab_type": "code",
        "colab": {
          "base_uri": "https://localhost:8080/",
          "height": 383
        },
        "outputId": "f55322b7-ee68-42c8-8d62-064225d5d560"
      },
      "source": [
        "plt.figure(figsize=[8,6])\n",
        "plt.hist(doc_sizes, bins=30)\n",
        "\n",
        "plt.axis()\n",
        "plt.xlabel('Words per document')\n",
        "plt.ylabel('Frequency')\n",
        "plt.rc('xtick',labelsize=10)"
      ],
      "execution_count": 91,
      "outputs": [
        {
          "output_type": "display_data",
          "data": {
            "image/png": "[encoded data removed]",
            "text/plain": [
              "<Figure size 576x432 with 1 Axes>"
            ]
          },
          "metadata": {
            "tags": [],
            "needs_background": "light"
          }
        }
      ]
    },
    {
      "cell_type": "markdown",
      "metadata": {
        "id": "DeFVgUouKmgL",
        "colab_type": "text"
      },
      "source": [
        "There is a long tail in the histgram. Limit to documents with 800 or fewer words:"
      ]
    },
    {
      "cell_type": "code",
      "metadata": {
        "id": "YFVz7lXYIcUm",
        "colab_type": "code",
        "colab": {
          "base_uri": "https://localhost:8080/",
          "height": 388
        },
        "outputId": "47e75f22-d29e-4102-9918-cc8513bd4e67"
      },
      "source": [
        "plt.figure(figsize=[8,6])\n",
        "plt.hist(doc_sizes, bins=30, range = (0,800))\n",
        "\n",
        "plt.axis()\n",
        "plt.xlabel('Words per document')\n",
        "plt.ylabel('Frequency')\n",
        "plt.rc('xtick',labelsize=10)"
      ],
      "execution_count": 92,
      "outputs": [
        {
          "output_type": "display_data",
          "data": {
            "image/png": "[encoded data removed]",
            "text/plain": [
              "<Figure size 576x432 with 1 Axes>"
            ]
          },
          "metadata": {
            "tags": [],
            "needs_background": "light"
          }
        }
      ]
    },
    {
      "cell_type": "markdown",
      "metadata": {
        "id": "HFiD688ALcoc",
        "colab_type": "text"
      },
      "source": [
        "###Limit the corpus based on the findings of the EDA"
      ]
    },
    {
      "cell_type": "markdown",
      "metadata": {
        "id": "8iGRbn4vMNz7",
        "colab_type": "text"
      },
      "source": [
        "Unique words to include:"
      ]
    },
    {
      "cell_type": "code",
      "metadata": {
        "id": "fX9l-KMJIcSe",
        "colab_type": "code",
        "colab": {}
      },
      "source": [
        "skip_top = 10\n",
        "voc_size = 10000"
      ],
      "execution_count": 0,
      "outputs": []
    },
    {
      "cell_type": "markdown",
      "metadata": {
        "id": "5A4Q_YYkMUBY",
        "colab_type": "text"
      },
      "source": [
        "Maximum words per document:"
      ]
    },
    {
      "cell_type": "code",
      "metadata": {
        "id": "J-_4CO3UMTrm",
        "colab_type": "code",
        "colab": {
          "base_uri": "https://localhost:8080/",
          "height": 34
        },
        "outputId": "4a7cb255-4088-47ae-ef18-158f2ae982ec"
      },
      "source": [
        "maxlen = int(np.percentile(doc_sizes, 90))\n",
        "print(f\"80th percentile of document size: {maxlen}\")"
      ],
      "execution_count": 94,
      "outputs": [
        {
          "output_type": "stream",
          "text": [
            "80th percentile of document size: 315\n"
          ],
          "name": "stdout"
        }
      ]
    },
    {
      "cell_type": "markdown",
      "metadata": {
        "id": "pQ0-eRYONZds",
        "colab_type": "text"
      },
      "source": [
        "##Import the data using the new restrictions"
      ]
    },
    {
      "cell_type": "markdown",
      "metadata": {
        "id": "d7q60A0fQgXI",
        "colab_type": "text"
      },
      "source": [
        "The data is restricted to the 10,000 most frequently occurring words in the data, after skipping the 10 most frequently occurring words."
      ]
    },
    {
      "cell_type": "code",
      "metadata": {
        "id": "ruQc4QqqNo9B",
        "colab_type": "code",
        "colab": {}
      },
      "source": [
        "# https://keras.io/datasets/#reuters-newswire-topics-classification\n",
        "from tensorflow.keras.datasets import reuters\n",
        "\n",
        "(train_data, train_labels), (test_data, test_labels) =\\\n",
        "reuters.load_data(test_split=0.20, num_words=voc_size, skip_top=skip_top, maxlen=maxlen)"
      ],
      "execution_count": 0,
      "outputs": []
    },
    {
      "cell_type": "code",
      "metadata": {
        "id": "tr2aLxLrQUx1",
        "colab_type": "code",
        "outputId": "b2cd4f69-b388-4641-b21f-cc72f6eacae7",
        "colab": {
          "base_uri": "https://localhost:8080/",
          "height": 34
        }
      },
      "source": [
        "len(train_data), len(train_labels), len(test_data), len(test_labels)"
      ],
      "execution_count": 96,
      "outputs": [
        {
          "output_type": "execute_result",
          "data": {
            "text/plain": [
              "(8083, 8083, 2021, 2021)"
            ]
          },
          "metadata": {
            "tags": []
          },
          "execution_count": 96
        }
      ]
    },
    {
      "cell_type": "markdown",
      "metadata": {
        "id": "jyQgBT3QAiEG",
        "colab_type": "text"
      },
      "source": [
        "Each example is a list of integers (word indices):"
      ]
    },
    {
      "cell_type": "code",
      "metadata": {
        "id": "evC73B44AiEI",
        "colab_type": "code",
        "outputId": "7642b1ff-7a0a-4b70-e7dc-299bf28d8655",
        "colab": {
          "base_uri": "https://localhost:8080/",
          "height": 54
        }
      },
      "source": [
        "print(train_data[1]) "
      ],
      "execution_count": 97,
      "outputs": [
        {
          "output_type": "stream",
          "text": [
            "[2, 3267, 699, 3434, 2295, 56, 2, 7511, 2, 56, 3906, 1073, 81, 2, 1198, 57, 366, 737, 132, 20, 4093, 2, 2, 49, 2295, 2, 1037, 3267, 699, 3434, 2, 2, 10, 241, 16, 855, 129, 231, 783, 2, 2, 587, 2295, 2, 2, 775, 2, 48, 34, 191, 44, 35, 1795, 505, 17, 12]\n"
          ],
          "name": "stdout"
        }
      ]
    },
    {
      "cell_type": "markdown",
      "metadata": {
        "id": "L1rDAz7JRru9",
        "colab_type": "text"
      },
      "source": [
        "The document with the most unique words in the training data has 131 unique words"
      ]
    },
    {
      "cell_type": "code",
      "metadata": {
        "id": "xBP4hEnaAiEN",
        "colab_type": "code",
        "outputId": "2b0096c6-74e1-4a4c-d436-566cd82fc9ff",
        "colab": {
          "base_uri": "https://localhost:8080/",
          "height": 34
        }
      },
      "source": [
        "max([len(set(lst)) for lst in train_data])"
      ],
      "execution_count": 98,
      "outputs": [
        {
          "output_type": "execute_result",
          "data": {
            "text/plain": [
              "190"
            ]
          },
          "metadata": {
            "tags": []
          },
          "execution_count": 98
        }
      ]
    },
    {
      "cell_type": "markdown",
      "metadata": {
        "id": "3g2tgakdSVpQ",
        "colab_type": "text"
      },
      "source": [
        "Let's retrieve the word index so that we can \"decode\" the samples and look at some examples."
      ]
    },
    {
      "cell_type": "code",
      "metadata": {
        "id": "i_Tbh-MuAiES",
        "colab_type": "code",
        "outputId": "99985311-391e-4b91-e78b-c84d16db8bcd",
        "colab": {
          "base_uri": "https://localhost:8080/",
          "height": 54
        }
      },
      "source": [
        "word_index = reuters.get_word_index()\n",
        "reverse_word_index = dict([(value, key) for (key, value) in word_index.items()])\n",
        "# Note that our indices were offset by 3\n",
        "# because 0, 1 and 2 are reserved indices for \"padding\", \"start of sequence\", and \"unknown\".\n",
        "decoded_newswire = ' '.join([reverse_word_index.get(i - 3, '?') for i in train_data[42]])\n",
        "decoded_newswire"
      ],
      "execution_count": 99,
      "outputs": [
        {
          "output_type": "execute_result",
          "data": {
            "text/plain": [
              "\"? bank ? japan governor satoshi sumita ? he welcomed monday's u s ? west german joint confirmation ? their commitment ? ? louvre accord sumita ? ? a statement that world ? were excessively concerned about ? economic future ? bank ? japan will continue ? adhere ? a system ? policy coordination based upon ? louvre accord ? february he ? ? accord called for stability ? foreign exchange rates exchange rates generally are ? stability ? ? economies ? industrialised nations are heading for a steady recovery he ? reuter 3\""
            ]
          },
          "metadata": {
            "tags": []
          },
          "execution_count": 99
        }
      ]
    },
    {
      "cell_type": "code",
      "metadata": {
        "id": "hz5HkR2pAiEX",
        "colab_type": "code",
        "outputId": "6a536188-5af6-41a6-e2f1-050eb3123abc",
        "colab": {
          "base_uri": "https://localhost:8080/",
          "height": 34
        }
      },
      "source": [
        "len(decoded_newswire.split()) # number words in the newswire document"
      ],
      "execution_count": 100,
      "outputs": [
        {
          "output_type": "execute_result",
          "data": {
            "text/plain": [
              "94"
            ]
          },
          "metadata": {
            "tags": []
          },
          "execution_count": 100
        }
      ]
    },
    {
      "cell_type": "code",
      "metadata": {
        "id": "Xk9HL5DOAiEc",
        "colab_type": "code",
        "outputId": "3eb8a6db-dade-4b46-b591-c50e17694c0c",
        "colab": {
          "base_uri": "https://localhost:8080/",
          "height": 34
        }
      },
      "source": [
        "decoded_newswire.split()[:7]   # first 7 words in the document"
      ],
      "execution_count": 101,
      "outputs": [
        {
          "output_type": "execute_result",
          "data": {
            "text/plain": [
              "['?', 'bank', '?', 'japan', 'governor', 'satoshi', 'sumita']"
            ]
          },
          "metadata": {
            "tags": []
          },
          "execution_count": 101
        }
      ]
    },
    {
      "cell_type": "code",
      "metadata": {
        "id": "2XGZWKYFAiEh",
        "colab_type": "code",
        "outputId": "feaffdfd-01fe-4883-cb40-0b049332fb7f",
        "colab": {
          "base_uri": "https://localhost:8080/",
          "height": 34
        }
      },
      "source": [
        "len(train_data[1])  # The list of encodings is the same size as the number of words in the document"
      ],
      "execution_count": 102,
      "outputs": [
        {
          "output_type": "execute_result",
          "data": {
            "text/plain": [
              "56"
            ]
          },
          "metadata": {
            "tags": []
          },
          "execution_count": 102
        }
      ]
    },
    {
      "cell_type": "code",
      "metadata": {
        "id": "AgUU_w0JAiEl",
        "colab_type": "code",
        "outputId": "6256a5d8-6516-4552-92fa-93d81d02aa59",
        "colab": {
          "base_uri": "https://localhost:8080/",
          "height": 34
        }
      },
      "source": [
        "train_data[1][:7] # The encodings of the first 7 words in the document. Again, 2 = \"unknown\""
      ],
      "execution_count": 103,
      "outputs": [
        {
          "output_type": "execute_result",
          "data": {
            "text/plain": [
              "[2, 3267, 699, 3434, 2295, 56, 2]"
            ]
          },
          "metadata": {
            "tags": []
          },
          "execution_count": 103
        }
      ]
    },
    {
      "cell_type": "markdown",
      "metadata": {
        "id": "nc5lO1J7UJHw",
        "colab_type": "text"
      },
      "source": [
        "##Reducing the number of topics\n",
        "\n",
        "---\n",
        "\n"
      ]
    },
    {
      "cell_type": "code",
      "metadata": {
        "id": "htAIaRPQTifM",
        "colab_type": "code",
        "colab": {
          "base_uri": "https://localhost:8080/",
          "height": 34
        },
        "outputId": "b87e6927-51b2-4526-d5f6-5b00741066f9"
      },
      "source": [
        "from collections import Counter\n",
        "len(Counter(list(train_labels)).keys()) # There are 46 topics"
      ],
      "execution_count": 104,
      "outputs": [
        {
          "output_type": "execute_result",
          "data": {
            "text/plain": [
              "46"
            ]
          },
          "metadata": {
            "tags": []
          },
          "execution_count": 104
        }
      ]
    },
    {
      "cell_type": "code",
      "metadata": {
        "id": "foO3QwESUaw4",
        "colab_type": "code",
        "colab": {
          "base_uri": "https://localhost:8080/",
          "height": 278
        },
        "outputId": "a81c043c-c2cc-4cde-cec6-a550e98e5a6b"
      },
      "source": [
        "# The ten most common train labels\n",
        "train_label_tuples = \\\n",
        "Counter(list(train_labels)).most_common(15) # if we keep the top nine we get the same training and test labels\n",
        "train_label_tuples"
      ],
      "execution_count": 105,
      "outputs": [
        {
          "output_type": "execute_result",
          "data": {
            "text/plain": [
              "[(3, 3065),\n",
              " (4, 1789),\n",
              " (19, 466),\n",
              " (1, 371),\n",
              " (16, 345),\n",
              " (11, 283),\n",
              " (20, 222),\n",
              " (13, 158),\n",
              " (8, 115),\n",
              " (10, 109),\n",
              " (25, 87),\n",
              " (9, 77),\n",
              " (21, 68),\n",
              " (18, 62),\n",
              " (2, 62)]"
            ]
          },
          "metadata": {
            "tags": []
          },
          "execution_count": 105
        }
      ]
    },
    {
      "cell_type": "code",
      "metadata": {
        "id": "q3nmX04PUjEG",
        "colab_type": "code",
        "colab": {
          "base_uri": "https://localhost:8080/",
          "height": 278
        },
        "outputId": "f7f150fc-8024-4f34-ab7c-376011853602"
      },
      "source": [
        "# The ten most common test labels\n",
        "test_label_tuples = \\\n",
        "Counter(list(test_labels)).most_common(15) # if we keep the top 9 we get the same training and test labels\n",
        "test_label_tuples"
      ],
      "execution_count": 106,
      "outputs": [
        {
          "output_type": "execute_result",
          "data": {
            "text/plain": [
              "[(3, 796),\n",
              " (4, 441),\n",
              " (19, 98),\n",
              " (1, 86),\n",
              " (16, 77),\n",
              " (11, 63),\n",
              " (20, 55),\n",
              " (13, 33),\n",
              " (8, 32),\n",
              " (25, 31),\n",
              " (10, 26),\n",
              " (9, 24),\n",
              " (21, 18),\n",
              " (2, 18),\n",
              " (24, 18)]"
            ]
          },
          "metadata": {
            "tags": []
          },
          "execution_count": 106
        }
      ]
    },
    {
      "cell_type": "markdown",
      "metadata": {
        "id": "BlLP5AMPT18t",
        "colab_type": "text"
      },
      "source": [
        "Note that the top 12 topics in the training and test datasets are the same, even though they are in slightly different orders"
      ]
    },
    {
      "cell_type": "code",
      "metadata": {
        "id": "DXjdtxk8AiFA",
        "colab_type": "code",
        "outputId": "43fd6e13-27b7-4f73-d00a-cd846643fa7b",
        "colab": {
          "base_uri": "https://localhost:8080/",
          "height": 34
        }
      },
      "source": [
        "# Separate the labels from their frequencies\n",
        "topics_train_tpl, train_freq = zip(*Counter(list(train_labels)).most_common(11))\n",
        "topics_train_tpl"
      ],
      "execution_count": 107,
      "outputs": [
        {
          "output_type": "execute_result",
          "data": {
            "text/plain": [
              "(3, 4, 19, 1, 16, 11, 20, 13, 8, 10, 25)"
            ]
          },
          "metadata": {
            "tags": []
          },
          "execution_count": 107
        }
      ]
    },
    {
      "cell_type": "code",
      "metadata": {
        "id": "3WjU2nmnAiFD",
        "colab_type": "code",
        "outputId": "2b2c84fb-9c8b-4ae1-d4aa-1dffe784987e",
        "colab": {
          "base_uri": "https://localhost:8080/",
          "height": 34
        }
      },
      "source": [
        "train_freq"
      ],
      "execution_count": 108,
      "outputs": [
        {
          "output_type": "execute_result",
          "data": {
            "text/plain": [
              "(3065, 1789, 466, 371, 345, 283, 222, 158, 115, 109, 87)"
            ]
          },
          "metadata": {
            "tags": []
          },
          "execution_count": 108
        }
      ]
    },
    {
      "cell_type": "code",
      "metadata": {
        "id": "pkauVgNJAiFH",
        "colab_type": "code",
        "outputId": "3d0a5024-5b03-429d-a24b-e48c2b56f1a1",
        "colab": {
          "base_uri": "https://localhost:8080/",
          "height": 34
        }
      },
      "source": [
        "topics_test_tpl, test_freq = zip(*Counter(list(test_labels)).most_common(11))\n",
        "topics_test_tpl"
      ],
      "execution_count": 109,
      "outputs": [
        {
          "output_type": "execute_result",
          "data": {
            "text/plain": [
              "(3, 4, 19, 1, 16, 11, 20, 13, 8, 25, 10)"
            ]
          },
          "metadata": {
            "tags": []
          },
          "execution_count": 109
        }
      ]
    },
    {
      "cell_type": "code",
      "metadata": {
        "id": "s12hr8AzAiFK",
        "colab_type": "code",
        "outputId": "e724ce5b-4c84-41ad-d6f8-76cfc0c8300b",
        "colab": {
          "base_uri": "https://localhost:8080/",
          "height": 34
        }
      },
      "source": [
        "sum(test_freq) # number of test values in top 11"
      ],
      "execution_count": 110,
      "outputs": [
        {
          "output_type": "execute_result",
          "data": {
            "text/plain": [
              "1738"
            ]
          },
          "metadata": {
            "tags": []
          },
          "execution_count": 110
        }
      ]
    },
    {
      "cell_type": "code",
      "metadata": {
        "id": "rg188uqoAiFN",
        "colab_type": "code",
        "outputId": "fcd24ef2-1a6f-46f5-f375-a3e4753f4ea2",
        "colab": {
          "base_uri": "https://localhost:8080/",
          "height": 34
        }
      },
      "source": [
        "sum(train_freq)  # number of training values in top 11"
      ],
      "execution_count": 111,
      "outputs": [
        {
          "output_type": "execute_result",
          "data": {
            "text/plain": [
              "7010"
            ]
          },
          "metadata": {
            "tags": []
          },
          "execution_count": 111
        }
      ]
    },
    {
      "cell_type": "code",
      "metadata": {
        "id": "fFGQJU8IAiFS",
        "colab_type": "code",
        "colab": {}
      },
      "source": [
        "train_data_sm, train_labels_sm = zip(*((x,y) for x,y in zip(train_data,train_labels)\n",
        " if y in topics_train_tpl))"
      ],
      "execution_count": 0,
      "outputs": []
    },
    {
      "cell_type": "code",
      "metadata": {
        "id": "kFP7KaPdAiFV",
        "colab_type": "code",
        "colab": {}
      },
      "source": [
        "import numpy as np\n",
        "train_data_sm, train_labels_sm = np.array(train_data_sm), np.array(train_labels_sm)"
      ],
      "execution_count": 0,
      "outputs": []
    },
    {
      "cell_type": "code",
      "metadata": {
        "id": "kilAqIIeAiFY",
        "colab_type": "code",
        "outputId": "57517411-46e0-467a-d626-5e24668795f8",
        "colab": {
          "base_uri": "https://localhost:8080/",
          "height": 34
        }
      },
      "source": [
        "len(train_data_sm), len(train_labels_sm)  # matches number of training values in top 10"
      ],
      "execution_count": 114,
      "outputs": [
        {
          "output_type": "execute_result",
          "data": {
            "text/plain": [
              "(7010, 7010)"
            ]
          },
          "metadata": {
            "tags": []
          },
          "execution_count": 114
        }
      ]
    },
    {
      "cell_type": "code",
      "metadata": {
        "id": "5q6UcRd9AiFc",
        "colab_type": "code",
        "colab": {}
      },
      "source": [
        "test_data_sm, test_labels_sm = zip(*((x,y) for x,y in zip(test_data,test_labels) if y in topics_test_tpl))"
      ],
      "execution_count": 0,
      "outputs": []
    },
    {
      "cell_type": "code",
      "metadata": {
        "id": "3y539qymAiFe",
        "colab_type": "code",
        "colab": {}
      },
      "source": [
        "test_data_sm, test_labels_sm = np.array(test_data_sm), np.array(test_labels_sm)"
      ],
      "execution_count": 0,
      "outputs": []
    },
    {
      "cell_type": "code",
      "metadata": {
        "id": "MRRJ_qQtAiFi",
        "colab_type": "code",
        "outputId": "e03dd1f5-5aa3-4451-a2b3-de64f4d599a3",
        "colab": {
          "base_uri": "https://localhost:8080/",
          "height": 34
        }
      },
      "source": [
        "len(test_data_sm), len(test_labels_sm) # matches number of test values in top 10"
      ],
      "execution_count": 117,
      "outputs": [
        {
          "output_type": "execute_result",
          "data": {
            "text/plain": [
              "(1738, 1738)"
            ]
          },
          "metadata": {
            "tags": []
          },
          "execution_count": 117
        }
      ]
    },
    {
      "cell_type": "code",
      "metadata": {
        "id": "I6dAOEzlAiFk",
        "colab_type": "code",
        "outputId": "b59c6e6d-b2c0-4560-ccc7-283d4851dab0",
        "colab": {
          "base_uri": "https://localhost:8080/",
          "height": 208
        }
      },
      "source": [
        "Counter(train_labels_sm) # another sanity check on the the new smaller set of training labels. See In [13]."
      ],
      "execution_count": 118,
      "outputs": [
        {
          "output_type": "execute_result",
          "data": {
            "text/plain": [
              "Counter({1: 371,\n",
              "         3: 3065,\n",
              "         4: 1789,\n",
              "         8: 115,\n",
              "         10: 109,\n",
              "         11: 283,\n",
              "         13: 158,\n",
              "         16: 345,\n",
              "         19: 466,\n",
              "         20: 222,\n",
              "         25: 87})"
            ]
          },
          "metadata": {
            "tags": []
          },
          "execution_count": 118
        }
      ]
    },
    {
      "cell_type": "code",
      "metadata": {
        "id": "w5vLpNaYAiFp",
        "colab_type": "code",
        "outputId": "85fbcbbc-1449-4d60-a519-03994c8294f6",
        "colab": {
          "base_uri": "https://localhost:8080/",
          "height": 208
        }
      },
      "source": [
        "Counter(test_labels_sm) # another sanity check on the the new smaller set of test labels. See In [14]."
      ],
      "execution_count": 119,
      "outputs": [
        {
          "output_type": "execute_result",
          "data": {
            "text/plain": [
              "Counter({1: 86,\n",
              "         3: 796,\n",
              "         4: 441,\n",
              "         8: 32,\n",
              "         10: 26,\n",
              "         11: 63,\n",
              "         13: 33,\n",
              "         16: 77,\n",
              "         19: 98,\n",
              "         20: 55,\n",
              "         25: 31})"
            ]
          },
          "metadata": {
            "tags": []
          },
          "execution_count": 119
        }
      ]
    },
    {
      "cell_type": "markdown",
      "metadata": {
        "id": "8oB5A-5WVA_M",
        "colab_type": "text"
      },
      "source": [
        "###Relabel the 11 most frequent topics, so that we can use 11 nodes in our output layer\n"
      ]
    },
    {
      "cell_type": "markdown",
      "metadata": {
        "id": "0_35hFhCVYTd",
        "colab_type": "text"
      },
      "source": [
        "Modify the labels to make them sequential"
      ]
    },
    {
      "cell_type": "code",
      "metadata": {
        "id": "SHqd4I0_AiFs",
        "colab_type": "code",
        "outputId": "48a2ad3a-dec4-4792-ac69-59252776f6b0",
        "colab": {
          "base_uri": "https://localhost:8080/",
          "height": 34
        }
      },
      "source": [
        "# first define relabeling function\n",
        "keys = Counter(test_labels_sm).keys()\n",
        "conv = dict(zip(sorted(keys),range(0,11)))\n",
        "conv"
      ],
      "execution_count": 120,
      "outputs": [
        {
          "output_type": "execute_result",
          "data": {
            "text/plain": [
              "{1: 0, 3: 1, 4: 2, 8: 3, 10: 4, 11: 5, 13: 6, 16: 7, 19: 8, 20: 9, 25: 10}"
            ]
          },
          "metadata": {
            "tags": []
          },
          "execution_count": 120
        }
      ]
    },
    {
      "cell_type": "code",
      "metadata": {
        "id": "MgTSuKLCAiFw",
        "colab_type": "code",
        "outputId": "bfeac295-7d83-44e2-e916-bf718671bd29",
        "colab": {
          "base_uri": "https://localhost:8080/",
          "height": 72
        }
      },
      "source": [
        "# next create the new labels\n",
        "train_labels_sm2 = [conv[l] for l in train_labels_sm]\n",
        "test_labels_sm2 = [conv[l] for l in test_labels_sm]\n",
        "print(Counter(train_labels_sm2))  # Looks like they were relabeled correctly\n",
        "print(Counter(test_labels_sm2))   # Looks like they were relabeled correctly"
      ],
      "execution_count": 121,
      "outputs": [
        {
          "output_type": "stream",
          "text": [
            "Counter({1: 3065, 2: 1789, 8: 466, 0: 371, 7: 345, 5: 283, 9: 222, 6: 158, 3: 115, 4: 109, 10: 87})\n",
            "Counter({1: 796, 2: 441, 8: 98, 0: 86, 7: 77, 5: 63, 9: 55, 6: 33, 3: 32, 10: 31, 4: 26})\n"
          ],
          "name": "stdout"
        }
      ]
    },
    {
      "cell_type": "code",
      "metadata": {
        "colab_type": "code",
        "id": "20S_o_TBWC5k",
        "colab": {}
      },
      "source": [
        "# https://www.kaggle.com/maximarufo/nlp-classification-reuters-dataset\n",
        "class_to_idx =  \\\n",
        "{'copper': 6, 'livestock': 28, 'gold': 25, \n",
        " 'money-fx': 19, 'ipi': 30, 'trade': 11, \n",
        " 'cocoa': 0, 'iron-steel': 31, 'reserves': 12, \n",
        " 'tin': 26, 'zinc': 37, 'jobs': 34, 'ship': 13, \n",
        " 'cotton': 14, 'alum': 23, 'strategic-metal': 27, \n",
        " 'lead': 45, 'housing': 7, 'meal-feed': 22, 'gnp': 21, \n",
        " 'sugar': 10, 'rubber': 32, 'dlr': 40, 'veg-oil': 2, \n",
        " 'interest': 20, 'crude': 16, 'coffee': 9, 'wheat': 5, \n",
        " 'carcass': 15, 'lei': 35, 'gas': 41, 'nat-gas': 17, \n",
        " 'oilseed': 24, 'orange': 38, 'heat': 33, 'wpi': 43, \n",
        " 'silver': 42, 'cpi': 18, 'earn': 3, 'bop': 36, 'money-supply': 8, \n",
        " 'hog': 44, 'acq': 4, 'pet-chem': 39, 'grain': 1, 'retail': 29}"
      ],
      "execution_count": 0,
      "outputs": []
    },
    {
      "cell_type": "code",
      "metadata": {
        "colab_type": "code",
        "outputId": "e4e27454-92a3-4f7e-e3a7-c09c27660006",
        "id": "UcN9jBLtWC51",
        "colab": {
          "base_uri": "https://localhost:8080/",
          "height": 278
        }
      },
      "source": [
        "idx_to_class = dict([(value, key) for (key, value) in class_to_idx.items()])\n",
        "{k: idx_to_class[k] for k in list(idx_to_class)[:15]} # get 15 key value pairs"
      ],
      "execution_count": 123,
      "outputs": [
        {
          "output_type": "execute_result",
          "data": {
            "text/plain": [
              "{0: 'cocoa',\n",
              " 6: 'copper',\n",
              " 11: 'trade',\n",
              " 12: 'reserves',\n",
              " 13: 'ship',\n",
              " 14: 'cotton',\n",
              " 19: 'money-fx',\n",
              " 23: 'alum',\n",
              " 25: 'gold',\n",
              " 26: 'tin',\n",
              " 28: 'livestock',\n",
              " 30: 'ipi',\n",
              " 31: 'iron-steel',\n",
              " 34: 'jobs',\n",
              " 37: 'zinc'}"
            ]
          },
          "metadata": {
            "tags": []
          },
          "execution_count": 123
        }
      ]
    },
    {
      "cell_type": "code",
      "metadata": {
        "id": "xMhSnd1bAiF3",
        "colab_type": "code",
        "outputId": "ce2e65e0-e9d5-4a8c-8266-bf929b5c9e54",
        "colab": {
          "base_uri": "https://localhost:8080/",
          "height": 208
        }
      },
      "source": [
        "# get the dictionary for our smaller data set\n",
        "idx_to_class_sm = {k:v for k,v in idx_to_class.items() if k in topics_test_tpl}\n",
        "idx_to_class_sm "
      ],
      "execution_count": 124,
      "outputs": [
        {
          "output_type": "execute_result",
          "data": {
            "text/plain": [
              "{1: 'grain',\n",
              " 3: 'earn',\n",
              " 4: 'acq',\n",
              " 8: 'money-supply',\n",
              " 10: 'sugar',\n",
              " 11: 'trade',\n",
              " 13: 'ship',\n",
              " 16: 'crude',\n",
              " 19: 'money-fx',\n",
              " 20: 'interest',\n",
              " 25: 'gold'}"
            ]
          },
          "metadata": {
            "tags": []
          },
          "execution_count": 124
        }
      ]
    },
    {
      "cell_type": "code",
      "metadata": {
        "id": "b3EqbFCKAiF6",
        "colab_type": "code",
        "outputId": "42b52ceb-52ac-4cc4-a0ef-3af1d67b4dc0",
        "colab": {
          "base_uri": "https://localhost:8080/",
          "height": 54
        }
      },
      "source": [
        "decoded_newswire = ' '.join([reverse_word_index.get(i - 3, '?') for i in train_data_sm[11]])\n",
        "decoded_newswire"
      ],
      "execution_count": 125,
      "outputs": [
        {
          "output_type": "execute_result",
          "data": {
            "text/plain": [
              "'? lt international thomson organisation ltd ? it will report financial results ? u s funds rather than sterling beginning from jan 1 1987 it ? ? change will not be applied retroactively ? prior financial periods ? company ? as a result ? recent investments most ? its assets now are located ? ? united states reuter 3'"
            ]
          },
          "metadata": {
            "tags": []
          },
          "execution_count": 125
        }
      ]
    },
    {
      "cell_type": "code",
      "metadata": {
        "id": "pRXW-MJpAiF9",
        "colab_type": "code",
        "outputId": "016de54d-8544-44a0-ed45-74babc6af6da",
        "colab": {
          "base_uri": "https://localhost:8080/",
          "height": 34
        }
      },
      "source": [
        "idx_to_class_sm[train_labels_sm[11]]   # checking the dictionary...topic seems to be right"
      ],
      "execution_count": 126,
      "outputs": [
        {
          "output_type": "execute_result",
          "data": {
            "text/plain": [
              "'earn'"
            ]
          },
          "metadata": {
            "tags": []
          },
          "execution_count": 126
        }
      ]
    }
  ]
}