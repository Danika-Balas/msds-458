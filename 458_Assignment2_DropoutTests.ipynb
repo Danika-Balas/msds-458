{
  "nbformat": 4,
  "nbformat_minor": 0,
  "metadata": {
    "colab": {
      "name": "458_Assignment2_DropoutTests.ipynb",
      "provenance": [],
      "authorship_tag": "ABX9TyP0kN30bkxxC6sxagBaA10u",
      "include_colab_link": true
    },
    "kernelspec": {
      "name": "python3",
      "display_name": "Python 3"
    },
    "accelerator": "GPU"
  },
  "cells": [
    {
      "cell_type": "markdown",
      "metadata": {
        "id": "view-in-github",
        "colab_type": "text"
      },
      "source": [
        "<a href=\"https://colab.research.google.com/github/Danika-Balas/msds-458/blob/master/458_Assignment2_DropoutTests.ipynb\" target=\"_parent\"><img src=\"https://colab.research.google.com/assets/colab-badge.svg\" alt=\"Open In Colab\"/></a>"
      ]
    },
    {
      "cell_type": "markdown",
      "metadata": {
        "id": "CfRJ290OPFTf",
        "colab_type": "text"
      },
      "source": [
        "In the following code we will set up both dense neural networks and convolutional neural networks to classify images of articles of clothing from the Fashion MNIST dataset into ten classes. We will set up five different experiments in order to explore the impact different nodes on the network and to determine what features in the images are detected by the nodes. \n"
      ]
    },
    {
      "cell_type": "markdown",
      "metadata": {
        "colab_type": "text",
        "id": "W0QDEMZMPHxR"
      },
      "source": [
        "Notebook uses portions of code written by Edward Arroyo and Daniel Jensen"
      ]
    },
    {
      "cell_type": "markdown",
      "metadata": {
        "colab_type": "text",
        "id": "OhMQnPzePHxW"
      },
      "source": [
        "##Setup and Preprocessing"
      ]
    },
    {
      "cell_type": "code",
      "metadata": {
        "colab_type": "code",
        "outputId": "92afe77b-8001-4366-c224-73201cc26df5",
        "id": "nane5stwPHxa",
        "colab": {
          "base_uri": "https://localhost:8080/",
          "height": 34
        }
      },
      "source": [
        "import numpy as np\n",
        "import pandas as pd\n",
        "\n",
        "import seaborn as sns\n",
        "import matplotlib.pyplot as plt\n",
        "%matplotlib inline\n",
        "sns.set(style=\"whitegrid\")\n",
        "\n",
        "from sklearn import metrics\n",
        "\n",
        "import tensorflow as tf\n",
        "from tensorflow import keras\n",
        "keras.__version__"
      ],
      "execution_count": 121,
      "outputs": [
        {
          "output_type": "execute_result",
          "data": {
            "text/plain": [
              "'2.3.0-tf'"
            ]
          },
          "metadata": {
            "tags": []
          },
          "execution_count": 121
        }
      ]
    },
    {
      "cell_type": "code",
      "metadata": {
        "colab_type": "code",
        "outputId": "b7aba470-0e2c-44be-8671-5a0c4adad3c3",
        "id": "6wCfk7UGPHxm",
        "colab": {
          "base_uri": "https://localhost:8080/",
          "height": 34
        }
      },
      "source": [
        "tf.__version__"
      ],
      "execution_count": 122,
      "outputs": [
        {
          "output_type": "execute_result",
          "data": {
            "text/plain": [
              "'2.2.0-rc4'"
            ]
          },
          "metadata": {
            "tags": []
          },
          "execution_count": 122
        }
      ]
    },
    {
      "cell_type": "code",
      "metadata": {
        "colab_type": "code",
        "id": "vu3n-p0HPHxv",
        "colab": {}
      },
      "source": [
        "from keras import metrics"
      ],
      "execution_count": 0,
      "outputs": []
    },
    {
      "cell_type": "code",
      "metadata": {
        "colab_type": "code",
        "id": "JH0hHWwiPHx2",
        "colab": {}
      },
      "source": [
        "# neccessary for K.gradient to work in TensorFlow 2.x\n",
        "# only needed for the \"Finding a pattern the hidden node maximally responds to\" section below.\n",
        "# but disabled to make Tensorboard work...\n",
        "tf.compat.v1.disable_eager_execution() "
      ],
      "execution_count": 0,
      "outputs": []
    },
    {
      "cell_type": "code",
      "metadata": {
        "colab_type": "code",
        "id": "tQymUmiKPHx7",
        "colab": {}
      },
      "source": [
        "# Set see in order to achieve consistent results across runs\n",
        "keras.backend.clear_session()\n",
        "np.random.seed(42)\n",
        "tf.random.set_seed(42)"
      ],
      "execution_count": 0,
      "outputs": []
    },
    {
      "cell_type": "markdown",
      "metadata": {
        "id": "M2Drab4LRK95",
        "colab_type": "text"
      },
      "source": [
        "### Import Fashion-MNIST dataset"
      ]
    },
    {
      "cell_type": "markdown",
      "metadata": {
        "id": "i-sJvLkIRS4R",
        "colab_type": "text"
      },
      "source": [
        "Using data from collected from European fasion platform Zalondo. The dataset has been compiled to mimic the structure of the MNIST dataset. It consists of 60,000 training images and 10,000 testing images. All of the images are in grayscale and 28x28 pixels. Each of the images is labeled with an integer 0-9 that corresponds to the following classes: 'T-shirt/top', 'Trouser', 'Pullover', 'Dress', 'Coat', 'Sandal', 'Shirt', 'Sneaker', 'Bag', 'Ankle boot'.\n",
        "\n",
        "More information can be found here: https://github.com/zalandoresearch/fashion-mnist "
      ]
    },
    {
      "cell_type": "code",
      "metadata": {
        "id": "LATqxX6VPwaC",
        "colab_type": "code",
        "outputId": "20c9b60e-544e-4282-cdfd-8ba121e9d71c",
        "colab": {
          "base_uri": "https://localhost:8080/",
          "height": 34
        }
      },
      "source": [
        "# https://www.tensorflow.org/api_docs/python/tf/keras/datasets/fashion_mnist/load_data\n",
        "from tensorflow.keras.datasets import fashion_mnist\n",
        "\n",
        "(train_images, train_labels), (test_images, test_labels) = fashion_mnist.load_data()\n",
        "\n",
        "train_images.shape, test_images.shape, train_labels.shape, test_labels.shape"
      ],
      "execution_count": 126,
      "outputs": [
        {
          "output_type": "execute_result",
          "data": {
            "text/plain": [
              "((60000, 28, 28), (10000, 28, 28), (60000,), (10000,))"
            ]
          },
          "metadata": {
            "tags": []
          },
          "execution_count": 126
        }
      ]
    },
    {
      "cell_type": "code",
      "metadata": {
        "id": "fOkkkTLLSRLD",
        "colab_type": "code",
        "outputId": "b31808ea-746a-431f-e73a-bed0f434bbf9",
        "colab": {
          "base_uri": "https://localhost:8080/",
          "height": 34
        }
      },
      "source": [
        "#Store copy of training images in order to easily view images even after transformations are performed\n",
        "example_train_images = train_images.copy()\n",
        "example_train_images.shape"
      ],
      "execution_count": 127,
      "outputs": [
        {
          "output_type": "execute_result",
          "data": {
            "text/plain": [
              "(60000, 28, 28)"
            ]
          },
          "metadata": {
            "tags": []
          },
          "execution_count": 127
        }
      ]
    },
    {
      "cell_type": "code",
      "metadata": {
        "id": "n4S4laGXSJdO",
        "colab_type": "code",
        "outputId": "464cdbef-c03b-4bec-a1b8-b271ac55aea6",
        "colab": {
          "base_uri": "https://localhost:8080/",
          "height": 191
        }
      },
      "source": [
        "# The distribution of the classes appears to be uniform\n",
        "from collections import Counter\n",
        "Counter(train_labels).most_common()"
      ],
      "execution_count": 128,
      "outputs": [
        {
          "output_type": "execute_result",
          "data": {
            "text/plain": [
              "[(9, 6000),\n",
              " (0, 6000),\n",
              " (3, 6000),\n",
              " (2, 6000),\n",
              " (7, 6000),\n",
              " (5, 6000),\n",
              " (1, 6000),\n",
              " (6, 6000),\n",
              " (4, 6000),\n",
              " (8, 6000)]"
            ]
          },
          "metadata": {
            "tags": []
          },
          "execution_count": 128
        }
      ]
    },
    {
      "cell_type": "code",
      "metadata": {
        "id": "-Cz1Zx_xTKh6",
        "colab_type": "code",
        "colab": {}
      },
      "source": [
        "# https://github.com/zalandoresearch/fashion-mnist\n",
        "# https://www.tensorflow.org/tutorials/keras/classification\n",
        "\n",
        "class_names = ['T-shirt/top', 'Trouser', 'Pullover', 'Dress', 'Coat',\n",
        "               'Sandal', 'Shirt', 'Sneaker', 'Bag', 'Ankle boot']"
      ],
      "execution_count": 0,
      "outputs": []
    },
    {
      "cell_type": "markdown",
      "metadata": {
        "id": "fm4dTPFLSuwX",
        "colab_type": "text"
      },
      "source": [
        "Example of a single sample, a 28x28 pixel image of an article of clothing"
      ]
    },
    {
      "cell_type": "code",
      "metadata": {
        "id": "aU0h0qwXS1JA",
        "colab_type": "code",
        "outputId": "c044d822-1c9e-4708-eb0f-965c222d8ceb",
        "colab": {
          "base_uri": "https://localhost:8080/",
          "height": 264
        }
      },
      "source": [
        "#https://matplotlib.org/tutorials/colors/colormaps.html?highlight=colormap\n",
        "plt.imshow(train_images[0], cmap=\"binary\") \n",
        "plt.axis('off')\n",
        "plt.title(class_names[test_labels[0]], fontsize=12)\n",
        "plt.show()"
      ],
      "execution_count": 130,
      "outputs": [
        {
          "output_type": "display_data",
          "data": {
            "image/png": "[encoded data removed]",
            "text/plain": [
              "<Figure size 432x288 with 1 Axes>"
            ]
          },
          "metadata": {
            "tags": []
          }
        }
      ]
    },
    {
      "cell_type": "markdown",
      "metadata": {
        "id": "2ehBwoUkN2A2",
        "colab_type": "text"
      },
      "source": [
        "### Prepare the data\n"
      ]
    },
    {
      "cell_type": "code",
      "metadata": {
        "id": "9P0iTPCOOBLU",
        "colab_type": "code",
        "colab": {}
      },
      "source": [
        "# Reshape the data into the shape that the network expects\n",
        "train_images = train_images.reshape((60000, 28 * 28))\n",
        "\n",
        "# Scale the data to [0,1] interval\n",
        "train_images = train_images.astype('float32') / 255\n",
        "\n",
        "# Do the same for the test dataset\n",
        "test_images = test_images.reshape((10000, 28 * 28))\n",
        "test_images = test_images.astype('float32') / 255"
      ],
      "execution_count": 0,
      "outputs": []
    },
    {
      "cell_type": "markdown",
      "metadata": {
        "id": "pgxxzLiEOc6r",
        "colab_type": "text"
      },
      "source": [
        "Set aside 5,000 samples from the training data to use as the validation set."
      ]
    },
    {
      "cell_type": "code",
      "metadata": {
        "id": "3-ag80d_OCom",
        "colab_type": "code",
        "colab": {}
      },
      "source": [
        "val_images, train_images = train_images[:5000], train_images[5000:]\n",
        "val_labels, train_labels = train_labels[:5000], train_labels[5000:]"
      ],
      "execution_count": 0,
      "outputs": []
    },
    {
      "cell_type": "markdown",
      "metadata": {
        "id": "LCrQgfWhKOYO",
        "colab_type": "text"
      },
      "source": [
        "# Experiment 1\n",
        "'Best' DNN model from assignment 1 which used the MNIST dataset. \n",
        "Consists of a single hidden layer with 700 nodes, sigmoid activation, and Adam optimizer. The dropout layer was omitted for this experiment."
      ]
    },
    {
      "cell_type": "markdown",
      "metadata": {
        "id": "qxgqEfoFYho5",
        "colab_type": "text"
      },
      "source": [
        "### Build and compile the model"
      ]
    },
    {
      "cell_type": "code",
      "metadata": {
        "id": "zmnUVlp6S780",
        "colab_type": "code",
        "colab": {}
      },
      "source": [
        "from tensorflow.keras import models\n",
        "from tensorflow.keras import layers\n",
        "\n",
        "model = models.Sequential()\n",
        "\n",
        "model.add(layers.Dense(700, activation='sigmoid', input_shape=(28*28,)))\n",
        "model.add(layers.Dropout(0.25))\n",
        "model.add(layers.Dense(10, activation='softmax'))\n",
        "\n",
        "optimizer = keras.optimizers.Adam(lr=0.001)\n",
        "model.compile(loss='sparse_categorical_crossentropy', optimizer=optimizer,  metrics=['accuracy'])"
      ],
      "execution_count": 0,
      "outputs": []
    },
    {
      "cell_type": "code",
      "metadata": {
        "id": "zZgojihlYX-W",
        "colab_type": "code",
        "outputId": "451340b2-ee81-4326-e0a8-e3a0184ec17f",
        "colab": {
          "base_uri": "https://localhost:8080/",
          "height": 422
        }
      },
      "source": [
        "# Plot a graph of the model\n",
        "keras.utils.plot_model(model, show_shapes=True) "
      ],
      "execution_count": 134,
      "outputs": [
        {
          "output_type": "execute_result",
          "data": {
            "image/png": "[encoded data removed]",
            "text/plain": [
              "<IPython.core.display.Image object>"
            ]
          },
          "metadata": {
            "tags": []
          },
          "execution_count": 134
        }
      ]
    },
    {
      "cell_type": "markdown",
      "metadata": {
        "id": "MIx2sGm4Yuc2",
        "colab_type": "text"
      },
      "source": [
        "### Create a callback to get training times"
      ]
    },
    {
      "cell_type": "code",
      "metadata": {
        "id": "uOhAfaCmYY4G",
        "colab_type": "code",
        "colab": {}
      },
      "source": [
        "# Define callback to get total training time\n",
        "import datetime\n",
        "\n",
        "class TrainRuntimeCallback(keras.callbacks.Callback):\n",
        "\n",
        "  def on_train_begin(self,logs={}):\n",
        "    self.start = datetime.datetime.now()\n",
        "\n",
        "  def on_train_end(self,logs={}):\n",
        "    self.process_time = (datetime.datetime.now() - self.start).total_seconds()"
      ],
      "execution_count": 0,
      "outputs": []
    },
    {
      "cell_type": "markdown",
      "metadata": {
        "id": "ysMF9YPMZBvJ",
        "colab_type": "text"
      },
      "source": [
        "### Train the model\n",
        "Using 20 epochs and batch size 100"
      ]
    },
    {
      "cell_type": "code",
      "metadata": {
        "id": "GN23IHjzYY0M",
        "colab_type": "code",
        "outputId": "ee0ebebb-e2ce-4dba-b070-da2dde2f0377",
        "colab": {
          "base_uri": "https://localhost:8080/",
          "height": 749
        }
      },
      "source": [
        "train_rt = TrainRuntimeCallback()\n",
        "history = model.fit(train_images, train_labels, callbacks=[train_rt], epochs=20, batch_size = 100,\n",
        "                    validation_data=(val_images, val_labels))"
      ],
      "execution_count": 136,
      "outputs": [
        {
          "output_type": "stream",
          "text": [
            "Train on 55000 samples, validate on 5000 samples\n",
            "Epoch 1/20\n",
            "55000/55000 [==============================] - 2s 29us/sample - loss: 0.5935 - accuracy: 0.7888 - val_loss: 0.4353 - val_accuracy: 0.8488\n",
            "Epoch 2/20\n",
            "55000/55000 [==============================] - 2s 28us/sample - loss: 0.4408 - accuracy: 0.8417 - val_loss: 0.4073 - val_accuracy: 0.8524\n",
            "Epoch 3/20\n",
            "55000/55000 [==============================] - 2s 27us/sample - loss: 0.4020 - accuracy: 0.8550 - val_loss: 0.3765 - val_accuracy: 0.8666\n",
            "Epoch 4/20\n",
            "55000/55000 [==============================] - 2s 27us/sample - loss: 0.3756 - accuracy: 0.8645 - val_loss: 0.3625 - val_accuracy: 0.8686\n",
            "Epoch 5/20\n",
            "55000/55000 [==============================] - 2s 27us/sample - loss: 0.3570 - accuracy: 0.8704 - val_loss: 0.3472 - val_accuracy: 0.8724\n",
            "Epoch 6/20\n",
            "55000/55000 [==============================] - 2s 29us/sample - loss: 0.3386 - accuracy: 0.8769 - val_loss: 0.3477 - val_accuracy: 0.8754\n",
            "Epoch 7/20\n",
            "55000/55000 [==============================] - 2s 29us/sample - loss: 0.3268 - accuracy: 0.8798 - val_loss: 0.3259 - val_accuracy: 0.8804\n",
            "Epoch 8/20\n",
            "55000/55000 [==============================] - 1s 27us/sample - loss: 0.3140 - accuracy: 0.8840 - val_loss: 0.3124 - val_accuracy: 0.8870\n",
            "Epoch 9/20\n",
            "55000/55000 [==============================] - 2s 27us/sample - loss: 0.3019 - accuracy: 0.8899 - val_loss: 0.3139 - val_accuracy: 0.8864\n",
            "Epoch 10/20\n",
            "55000/55000 [==============================] - 2s 27us/sample - loss: 0.2918 - accuracy: 0.8911 - val_loss: 0.3129 - val_accuracy: 0.8874\n",
            "Epoch 11/20\n",
            "55000/55000 [==============================] - 2s 27us/sample - loss: 0.2816 - accuracy: 0.8953 - val_loss: 0.3030 - val_accuracy: 0.8910\n",
            "Epoch 12/20\n",
            "55000/55000 [==============================] - 2s 28us/sample - loss: 0.2756 - accuracy: 0.8984 - val_loss: 0.3020 - val_accuracy: 0.8910\n",
            "Epoch 13/20\n",
            "55000/55000 [==============================] - 2s 27us/sample - loss: 0.2685 - accuracy: 0.8983 - val_loss: 0.2963 - val_accuracy: 0.8918\n",
            "Epoch 14/20\n",
            "55000/55000 [==============================] - 2s 28us/sample - loss: 0.2584 - accuracy: 0.9035 - val_loss: 0.3059 - val_accuracy: 0.8894\n",
            "Epoch 15/20\n",
            "55000/55000 [==============================] - 2s 28us/sample - loss: 0.2530 - accuracy: 0.9048 - val_loss: 0.2846 - val_accuracy: 0.8954\n",
            "Epoch 16/20\n",
            "55000/55000 [==============================] - 2s 28us/sample - loss: 0.2454 - accuracy: 0.9086 - val_loss: 0.2889 - val_accuracy: 0.8950\n",
            "Epoch 17/20\n",
            "55000/55000 [==============================] - 2s 28us/sample - loss: 0.2404 - accuracy: 0.9096 - val_loss: 0.2931 - val_accuracy: 0.8962\n",
            "Epoch 18/20\n",
            "55000/55000 [==============================] - 2s 28us/sample - loss: 0.2343 - accuracy: 0.9110 - val_loss: 0.2840 - val_accuracy: 0.8992\n",
            "Epoch 19/20\n",
            "55000/55000 [==============================] - 2s 28us/sample - loss: 0.2282 - accuracy: 0.9135 - val_loss: 0.2884 - val_accuracy: 0.8936\n",
            "Epoch 20/20\n",
            "55000/55000 [==============================] - 2s 27us/sample - loss: 0.2228 - accuracy: 0.9159 - val_loss: 0.2804 - val_accuracy: 0.8982\n"
          ],
          "name": "stdout"
        }
      ]
    },
    {
      "cell_type": "code",
      "metadata": {
        "id": "s1OTM2zmYYqv",
        "colab_type": "code",
        "outputId": "59948e06-0e41-42d5-8b87-7a2701c41227",
        "colab": {
          "base_uri": "https://localhost:8080/",
          "height": 34
        }
      },
      "source": [
        "# Get the training time\n",
        "train_time = train_rt.process_time\n",
        "train_time # in seconds"
      ],
      "execution_count": 137,
      "outputs": [
        {
          "output_type": "execute_result",
          "data": {
            "text/plain": [
              "30.854909"
            ]
          },
          "metadata": {
            "tags": []
          },
          "execution_count": 137
        }
      ]
    },
    {
      "cell_type": "markdown",
      "metadata": {
        "id": "fR1YqyU0ZP1V",
        "colab_type": "text"
      },
      "source": [
        "### Test the model"
      ]
    },
    {
      "cell_type": "code",
      "metadata": {
        "id": "Aaa-5D8VZSm5",
        "colab_type": "code",
        "colab": {}
      },
      "source": [
        "# Define callback to get total test time\n",
        "import datetime\n",
        "\n",
        "class TestRuntimeCallback(keras.callbacks.Callback):\n",
        "\n",
        "  def on_test_begin(self,logs={}):\n",
        "    self.start = datetime.datetime.now()\n",
        "\n",
        "  def on_test_end(self,logs={}):\n",
        "    self.process_time = (datetime.datetime.now() - self.start).total_seconds()"
      ],
      "execution_count": 0,
      "outputs": []
    },
    {
      "cell_type": "code",
      "metadata": {
        "id": "uERAtgJqZcLK",
        "colab_type": "code",
        "colab": {}
      },
      "source": [
        "test_rt = TestRuntimeCallback()\n",
        "test_loss, test_acc = model.evaluate(test_images, test_labels, callbacks=[test_rt])"
      ],
      "execution_count": 0,
      "outputs": []
    },
    {
      "cell_type": "code",
      "metadata": {
        "id": "QJLoUSPzaICw",
        "colab_type": "code",
        "outputId": "c0517bb4-be15-4531-c52e-cd691dfb10d4",
        "colab": {
          "base_uri": "https://localhost:8080/",
          "height": 0
        }
      },
      "source": [
        "test_time = test_rt.process_time\n",
        "test_time # in seconds"
      ],
      "execution_count": 140,
      "outputs": [
        {
          "output_type": "execute_result",
          "data": {
            "text/plain": [
              "0.451103"
            ]
          },
          "metadata": {
            "tags": []
          },
          "execution_count": 140
        }
      ]
    },
    {
      "cell_type": "markdown",
      "metadata": {
        "id": "SBKvLr-4Zgqo",
        "colab_type": "text"
      },
      "source": [
        "### Create a dataframe for the training and test statistics"
      ]
    },
    {
      "cell_type": "code",
      "metadata": {
        "id": "kVAHQzl0ZkmV",
        "colab_type": "code",
        "outputId": "7b50a0b6-152f-4ac6-8665-263dfad22842",
        "colab": {
          "base_uri": "https://localhost:8080/",
          "height": 0
        }
      },
      "source": [
        "history_dict = history.history\n",
        "history_dict.keys()"
      ],
      "execution_count": 141,
      "outputs": [
        {
          "output_type": "execute_result",
          "data": {
            "text/plain": [
              "dict_keys(['loss', 'accuracy', 'val_loss', 'val_accuracy'])"
            ]
          },
          "metadata": {
            "tags": []
          },
          "execution_count": 141
        }
      ]
    },
    {
      "cell_type": "code",
      "metadata": {
        "id": "2Pm3qQ_KN9Yr",
        "colab_type": "code",
        "outputId": "15f067a3-46d8-4393-e97f-8ec07339c3ca",
        "colab": {
          "base_uri": "https://localhost:8080/",
          "height": 0
        }
      },
      "source": [
        "history_df=pd.DataFrame(history_dict)\n",
        "history_df.tail()"
      ],
      "execution_count": 142,
      "outputs": [
        {
          "output_type": "execute_result",
          "data": {
            "text/html": [
              "<div>\n",
              "<style scoped>\n",
              "    .dataframe tbody tr th:only-of-type {\n",
              "        vertical-align: middle;\n",
              "    }\n",
              "\n",
              "    .dataframe tbody tr th {\n",
              "        vertical-align: top;\n",
              "    }\n",
              "\n",
              "    .dataframe thead th {\n",
              "        text-align: right;\n",
              "    }\n",
              "</style>\n",
              "<table border=\"1\" class=\"dataframe\">\n",
              "  <thead>\n",
              "    <tr style=\"text-align: right;\">\n",
              "      <th></th>\n",
              "      <th>loss</th>\n",
              "      <th>accuracy</th>\n",
              "      <th>val_loss</th>\n",
              "      <th>val_accuracy</th>\n",
              "    </tr>\n",
              "  </thead>\n",
              "  <tbody>\n",
              "    <tr>\n",
              "      <th>15</th>\n",
              "      <td>0.245369</td>\n",
              "      <td>0.908564</td>\n",
              "      <td>0.288887</td>\n",
              "      <td>0.8950</td>\n",
              "    </tr>\n",
              "    <tr>\n",
              "      <th>16</th>\n",
              "      <td>0.240403</td>\n",
              "      <td>0.909600</td>\n",
              "      <td>0.293059</td>\n",
              "      <td>0.8962</td>\n",
              "    </tr>\n",
              "    <tr>\n",
              "      <th>17</th>\n",
              "      <td>0.234331</td>\n",
              "      <td>0.911036</td>\n",
              "      <td>0.284022</td>\n",
              "      <td>0.8992</td>\n",
              "    </tr>\n",
              "    <tr>\n",
              "      <th>18</th>\n",
              "      <td>0.228162</td>\n",
              "      <td>0.913545</td>\n",
              "      <td>0.288431</td>\n",
              "      <td>0.8936</td>\n",
              "    </tr>\n",
              "    <tr>\n",
              "      <th>19</th>\n",
              "      <td>0.222847</td>\n",
              "      <td>0.915909</td>\n",
              "      <td>0.280405</td>\n",
              "      <td>0.8982</td>\n",
              "    </tr>\n",
              "  </tbody>\n",
              "</table>\n",
              "</div>"
            ],
            "text/plain": [
              "        loss  accuracy  val_loss  val_accuracy\n",
              "15  0.245369  0.908564  0.288887        0.8950\n",
              "16  0.240403  0.909600  0.293059        0.8962\n",
              "17  0.234331  0.911036  0.284022        0.8992\n",
              "18  0.228162  0.913545  0.288431        0.8936\n",
              "19  0.222847  0.915909  0.280405        0.8982"
            ]
          },
          "metadata": {
            "tags": []
          },
          "execution_count": 142
        }
      ]
    },
    {
      "cell_type": "code",
      "metadata": {
        "id": "AdvqcBrWN9Yy",
        "colab_type": "code",
        "outputId": "2c28f2ba-1bd1-4cc2-eacc-ef421ff36615",
        "colab": {
          "base_uri": "https://localhost:8080/",
          "height": 0
        }
      },
      "source": [
        "results_df = history_df.iloc[-1:].copy()\n",
        "results_df.insert(0,'model','DNN (2 layers)') # model name to appears first\n",
        "results_df['test_loss'] = test_loss #incorporate test results\n",
        "results_df['test_accuracy'] = test_acc #incorporate test results\n",
        "results_df['training time (sec)'] = train_time    \n",
        "results_df['testing time (sec)'] = test_time      # testing time appears last\n",
        "results_df"
      ],
      "execution_count": 143,
      "outputs": [
        {
          "output_type": "execute_result",
          "data": {
            "text/html": [
              "<div>\n",
              "<style scoped>\n",
              "    .dataframe tbody tr th:only-of-type {\n",
              "        vertical-align: middle;\n",
              "    }\n",
              "\n",
              "    .dataframe tbody tr th {\n",
              "        vertical-align: top;\n",
              "    }\n",
              "\n",
              "    .dataframe thead th {\n",
              "        text-align: right;\n",
              "    }\n",
              "</style>\n",
              "<table border=\"1\" class=\"dataframe\">\n",
              "  <thead>\n",
              "    <tr style=\"text-align: right;\">\n",
              "      <th></th>\n",
              "      <th>model</th>\n",
              "      <th>loss</th>\n",
              "      <th>accuracy</th>\n",
              "      <th>val_loss</th>\n",
              "      <th>val_accuracy</th>\n",
              "      <th>test_loss</th>\n",
              "      <th>test_accuracy</th>\n",
              "      <th>training time (sec)</th>\n",
              "      <th>testing time (sec)</th>\n",
              "    </tr>\n",
              "  </thead>\n",
              "  <tbody>\n",
              "    <tr>\n",
              "      <th>19</th>\n",
              "      <td>DNN (2 layers)</td>\n",
              "      <td>0.222847</td>\n",
              "      <td>0.915909</td>\n",
              "      <td>0.280405</td>\n",
              "      <td>0.8982</td>\n",
              "      <td>0.316551</td>\n",
              "      <td>0.8879</td>\n",
              "      <td>30.854909</td>\n",
              "      <td>0.451103</td>\n",
              "    </tr>\n",
              "  </tbody>\n",
              "</table>\n",
              "</div>"
            ],
            "text/plain": [
              "             model      loss  ...  training time (sec)  testing time (sec)\n",
              "19  DNN (2 layers)  0.222847  ...            30.854909            0.451103\n",
              "\n",
              "[1 rows x 9 columns]"
            ]
          },
          "metadata": {
            "tags": []
          },
          "execution_count": 143
        }
      ]
    },
    {
      "cell_type": "code",
      "metadata": {
        "id": "DqBj7PZ6aCbZ",
        "colab_type": "code",
        "colab": {}
      },
      "source": [
        ""
      ],
      "execution_count": 0,
      "outputs": []
    },
    {
      "cell_type": "markdown",
      "metadata": {
        "id": "_NeAd6MKN9Y1",
        "colab_type": "text"
      },
      "source": [
        "### Plotting the performance \n",
        "\n",
        "We use Matplotlib to create 2 plots--displaying the training and validation loss (resp. accuracy) for each (training) epoch side by side."
      ]
    },
    {
      "cell_type": "code",
      "metadata": {
        "id": "z5lD2M7QN9Y2",
        "colab_type": "code",
        "outputId": "6dc537bd-615a-49f8-88fa-fe224ddea793",
        "colab": {
          "base_uri": "https://localhost:8080/",
          "height": 0
        }
      },
      "source": [
        "import matplotlib.pyplot as plt\n",
        "\n",
        "acc = history.history['accuracy']\n",
        "val_acc = history.history['val_accuracy']\n",
        "loss = history.history['loss']\n",
        "val_loss = history.history['val_loss']\n",
        "\n",
        "epochs = range(1, len(acc) + 1)\n",
        "\n",
        "# \"bo\" is for \"blue dot\"\n",
        "plt.plot(epochs, loss, 'bo', label='Training loss')\n",
        "# b is for \"solid blue line\"\n",
        "plt.plot(epochs, val_loss, 'b', label='Validation loss')\n",
        "plt.title('Training and validation loss')\n",
        "\n",
        "plt.xlabel('Epochs')\n",
        "plt.ylabel('Loss')\n",
        "plt.legend()\n",
        "\n",
        "plt.show()"
      ],
      "execution_count": 144,
      "outputs": [
        {
          "output_type": "display_data",
          "data": {
            "image/png": "[encoded data removed]",
            "text/plain": [
              "<Figure size 432x288 with 1 Axes>"
            ]
          },
          "metadata": {
            "tags": []
          }
        }
      ]
    },
    {
      "cell_type": "code",
      "metadata": {
        "id": "bACOXGORN9Y6",
        "colab_type": "code",
        "outputId": "d8560001-a0da-432d-ab6a-a2447130cda1",
        "colab": {
          "base_uri": "https://localhost:8080/",
          "height": 0
        }
      },
      "source": [
        "plt.clf()   # clear figure\n",
        "acc_values = history_dict['accuracy']\n",
        "# val_acc_values = history_dict['val_acc']\n",
        "\n",
        "plt.plot(epochs, acc, 'bo', label='Training acc')\n",
        "plt.plot(epochs, val_acc, 'b', label='Validation acc')\n",
        "plt.title('Training and validation accuracy')\n",
        "\n",
        "plt.xlabel('Epochs')\n",
        "plt.ylabel('Accuracy')\n",
        "plt.legend()\n",
        "\n",
        "plt.show()"
      ],
      "execution_count": 145,
      "outputs": [
        {
          "output_type": "display_data",
          "data": {
            "image/png": "[encoded data removed]",
            "text/plain": [
              "<Figure size 432x288 with 1 Axes>"
            ]
          },
          "metadata": {
            "tags": []
          }
        }
      ]
    },
    {
      "cell_type": "markdown",
      "metadata": {
        "id": "yJIXMRlFa0c_",
        "colab_type": "text"
      },
      "source": [
        "# Experiment 2\n",
        "This DNN is the same as in Experiment 1, but with an additional hidden layer.\n",
        "784 input nodes, hidden layer with 700 nodes, hidden layer with **370** nodes, and 10 output nodes."
      ]
    },
    {
      "cell_type": "markdown",
      "metadata": {
        "colab_type": "text",
        "id": "DZbpvtWhj2-5"
      },
      "source": [
        "## Build and compile the model"
      ]
    },
    {
      "cell_type": "code",
      "metadata": {
        "colab_type": "code",
        "id": "zACdPGldj2-_",
        "colab": {}
      },
      "source": [
        "from tensorflow.keras import models\n",
        "from tensorflow.keras import layers\n",
        "\n",
        "model = models.Sequential()\n",
        "\n",
        "model.add(layers.Dense(700, activation='sigmoid', input_shape=(28*28,)))\n",
        "model.add(layers.Dense(370, activation='sigmoid'))\n",
        "\n",
        "model.add(layers.Dropout(0.25))\n",
        "\n",
        "model.add(layers.Dense(10, activation='softmax'))\n",
        "\n",
        "optimizer = keras.optimizers.Adam(lr=0.001)\n",
        "model.compile(loss='sparse_categorical_crossentropy', optimizer=optimizer,  metrics=['accuracy'])"
      ],
      "execution_count": 0,
      "outputs": []
    },
    {
      "cell_type": "code",
      "metadata": {
        "colab_type": "code",
        "outputId": "1428a70d-95dc-4a80-fcff-0bae3834803e",
        "id": "uT0ebkfSj2_I",
        "colab": {
          "base_uri": "https://localhost:8080/",
          "height": 533
        }
      },
      "source": [
        "# Plot a graph of the model\n",
        "keras.utils.plot_model(model, show_shapes=True) "
      ],
      "execution_count": 147,
      "outputs": [
        {
          "output_type": "execute_result",
          "data": {
            "image/png": "[encoded data removed]",
            "text/plain": [
              "<IPython.core.display.Image object>"
            ]
          },
          "metadata": {
            "tags": []
          },
          "execution_count": 147
        }
      ]
    },
    {
      "cell_type": "markdown",
      "metadata": {
        "colab_type": "text",
        "id": "L0M7c0cMj2_Q"
      },
      "source": [
        "## Train the model\n",
        "Using 20 epochs and batch size 100"
      ]
    },
    {
      "cell_type": "code",
      "metadata": {
        "colab_type": "code",
        "outputId": "e3edff80-1c7e-4fa1-e596-214d4286294d",
        "id": "Cd0Dngzuj2_R",
        "colab": {
          "base_uri": "https://localhost:8080/",
          "height": 749
        }
      },
      "source": [
        "train_rt = TrainRuntimeCallback()\n",
        "history = model.fit(train_images, train_labels, callbacks=[train_rt], epochs=20, batch_size = 100,\n",
        "                    validation_data=(val_images, val_labels))"
      ],
      "execution_count": 148,
      "outputs": [
        {
          "output_type": "stream",
          "text": [
            "Train on 55000 samples, validate on 5000 samples\n",
            "Epoch 1/20\n",
            "55000/55000 [==============================] - 2s 31us/sample - loss: 0.6383 - accuracy: 0.7699 - val_loss: 0.4455 - val_accuracy: 0.8436\n",
            "Epoch 2/20\n",
            "55000/55000 [==============================] - 2s 30us/sample - loss: 0.4236 - accuracy: 0.8468 - val_loss: 0.3782 - val_accuracy: 0.8618\n",
            "Epoch 3/20\n",
            "55000/55000 [==============================] - 2s 30us/sample - loss: 0.3766 - accuracy: 0.8634 - val_loss: 0.3496 - val_accuracy: 0.8720\n",
            "Epoch 4/20\n",
            "55000/55000 [==============================] - 2s 30us/sample - loss: 0.3514 - accuracy: 0.8701 - val_loss: 0.3542 - val_accuracy: 0.8682\n",
            "Epoch 5/20\n",
            "55000/55000 [==============================] - 2s 29us/sample - loss: 0.3298 - accuracy: 0.8794 - val_loss: 0.3287 - val_accuracy: 0.8834\n",
            "Epoch 6/20\n",
            "55000/55000 [==============================] - 2s 30us/sample - loss: 0.3131 - accuracy: 0.8830 - val_loss: 0.3255 - val_accuracy: 0.8796\n",
            "Epoch 7/20\n",
            "55000/55000 [==============================] - 2s 30us/sample - loss: 0.2994 - accuracy: 0.8883 - val_loss: 0.2986 - val_accuracy: 0.8874\n",
            "Epoch 8/20\n",
            "55000/55000 [==============================] - 2s 30us/sample - loss: 0.2843 - accuracy: 0.8943 - val_loss: 0.3053 - val_accuracy: 0.8894\n",
            "Epoch 9/20\n",
            "55000/55000 [==============================] - 2s 29us/sample - loss: 0.2735 - accuracy: 0.8976 - val_loss: 0.2890 - val_accuracy: 0.8922\n",
            "Epoch 10/20\n",
            "55000/55000 [==============================] - 2s 30us/sample - loss: 0.2615 - accuracy: 0.9023 - val_loss: 0.3028 - val_accuracy: 0.8882\n",
            "Epoch 11/20\n",
            "55000/55000 [==============================] - 2s 30us/sample - loss: 0.2520 - accuracy: 0.9046 - val_loss: 0.2910 - val_accuracy: 0.8950\n",
            "Epoch 12/20\n",
            "55000/55000 [==============================] - 2s 30us/sample - loss: 0.2441 - accuracy: 0.9082 - val_loss: 0.2973 - val_accuracy: 0.8920\n",
            "Epoch 13/20\n",
            "55000/55000 [==============================] - 2s 30us/sample - loss: 0.2332 - accuracy: 0.9124 - val_loss: 0.2930 - val_accuracy: 0.8974\n",
            "Epoch 14/20\n",
            "55000/55000 [==============================] - 2s 30us/sample - loss: 0.2269 - accuracy: 0.9132 - val_loss: 0.2751 - val_accuracy: 0.8990\n",
            "Epoch 15/20\n",
            "55000/55000 [==============================] - 2s 30us/sample - loss: 0.2165 - accuracy: 0.9185 - val_loss: 0.2799 - val_accuracy: 0.8956\n",
            "Epoch 16/20\n",
            "55000/55000 [==============================] - 2s 29us/sample - loss: 0.2092 - accuracy: 0.9213 - val_loss: 0.3044 - val_accuracy: 0.8938\n",
            "Epoch 17/20\n",
            "55000/55000 [==============================] - 2s 29us/sample - loss: 0.2002 - accuracy: 0.9225 - val_loss: 0.3051 - val_accuracy: 0.8908\n",
            "Epoch 18/20\n",
            "55000/55000 [==============================] - 2s 30us/sample - loss: 0.1929 - accuracy: 0.9266 - val_loss: 0.2822 - val_accuracy: 0.9014\n",
            "Epoch 19/20\n",
            "55000/55000 [==============================] - 2s 29us/sample - loss: 0.1865 - accuracy: 0.9290 - val_loss: 0.2884 - val_accuracy: 0.8988\n",
            "Epoch 20/20\n",
            "55000/55000 [==============================] - 2s 30us/sample - loss: 0.1803 - accuracy: 0.9317 - val_loss: 0.2923 - val_accuracy: 0.8988\n"
          ],
          "name": "stdout"
        }
      ]
    },
    {
      "cell_type": "code",
      "metadata": {
        "colab_type": "code",
        "outputId": "c7e1ca62-76cb-4081-cc7c-82b815f809a7",
        "id": "zW18_snvj2_T",
        "colab": {
          "base_uri": "https://localhost:8080/",
          "height": 34
        }
      },
      "source": [
        "# Get the training time\n",
        "train_time = train_rt.process_time\n",
        "train_time # in seconds"
      ],
      "execution_count": 149,
      "outputs": [
        {
          "output_type": "execute_result",
          "data": {
            "text/plain": [
              "33.153875"
            ]
          },
          "metadata": {
            "tags": []
          },
          "execution_count": 149
        }
      ]
    },
    {
      "cell_type": "markdown",
      "metadata": {
        "colab_type": "text",
        "id": "ijUW2L93j2_W"
      },
      "source": [
        "## Test the model"
      ]
    },
    {
      "cell_type": "code",
      "metadata": {
        "colab_type": "code",
        "id": "Z0mTz5wnj2_Z",
        "outputId": "6d9c1a9a-cbd2-42f5-cee9-cafa8843af3e",
        "colab": {
          "base_uri": "https://localhost:8080/",
          "height": 0
        }
      },
      "source": [
        "test_rt = TestRuntimeCallback()\n",
        "test_loss, test_acc = model.evaluate(test_images, test_labels, callbacks=[test_rt])\n",
        "test_loss, test_acc"
      ],
      "execution_count": 150,
      "outputs": [
        {
          "output_type": "execute_result",
          "data": {
            "text/plain": [
              "(0.32473828854560854, 0.892)"
            ]
          },
          "metadata": {
            "tags": []
          },
          "execution_count": 150
        }
      ]
    },
    {
      "cell_type": "code",
      "metadata": {
        "colab_type": "code",
        "outputId": "c5467c86-f5d4-4f2f-9e2c-1b7eed8a817c",
        "id": "l2O-0Qurj2_c",
        "colab": {
          "base_uri": "https://localhost:8080/",
          "height": 0
        }
      },
      "source": [
        "test_time = test_rt.process_time\n",
        "test_time # in seconds"
      ],
      "execution_count": 151,
      "outputs": [
        {
          "output_type": "execute_result",
          "data": {
            "text/plain": [
              "0.428712"
            ]
          },
          "metadata": {
            "tags": []
          },
          "execution_count": 151
        }
      ]
    },
    {
      "cell_type": "markdown",
      "metadata": {
        "id": "Apzzp2wfljDN",
        "colab_type": "text"
      },
      "source": [
        "##Add training and testing statistics to the results dataframe"
      ]
    },
    {
      "cell_type": "code",
      "metadata": {
        "id": "71VqxFYoN9Zd",
        "colab_type": "code",
        "outputId": "edd32a5b-2d5d-4436-f9c9-ceb1a94d9745",
        "colab": {
          "base_uri": "https://localhost:8080/",
          "height": 0
        }
      },
      "source": [
        "history_dict = history.history\n",
        "history_df=pd.DataFrame(history_dict)\n",
        "results_df2 = history_df.iloc[-1:].copy()\n",
        "results_df2.insert(0,'model','DNN (3 layers)') # want the model name to appear first\n",
        "results_df2['test_loss'] = test_loss #incorporate test results\n",
        "results_df2['test_accuracy'] = test_acc\n",
        "results_df2['training time (sec)'] = train_time     \n",
        "results_df2['testing time (sec)'] = test_time      # testing time appears last\n",
        "results_df2"
      ],
      "execution_count": 152,
      "outputs": [
        {
          "output_type": "execute_result",
          "data": {
            "text/html": [
              "<div>\n",
              "<style scoped>\n",
              "    .dataframe tbody tr th:only-of-type {\n",
              "        vertical-align: middle;\n",
              "    }\n",
              "\n",
              "    .dataframe tbody tr th {\n",
              "        vertical-align: top;\n",
              "    }\n",
              "\n",
              "    .dataframe thead th {\n",
              "        text-align: right;\n",
              "    }\n",
              "</style>\n",
              "<table border=\"1\" class=\"dataframe\">\n",
              "  <thead>\n",
              "    <tr style=\"text-align: right;\">\n",
              "      <th></th>\n",
              "      <th>model</th>\n",
              "      <th>loss</th>\n",
              "      <th>accuracy</th>\n",
              "      <th>val_loss</th>\n",
              "      <th>val_accuracy</th>\n",
              "      <th>test_loss</th>\n",
              "      <th>test_accuracy</th>\n",
              "      <th>training time (sec)</th>\n",
              "      <th>testing time (sec)</th>\n",
              "    </tr>\n",
              "  </thead>\n",
              "  <tbody>\n",
              "    <tr>\n",
              "      <th>19</th>\n",
              "      <td>DNN (3 layers)</td>\n",
              "      <td>0.180324</td>\n",
              "      <td>0.931709</td>\n",
              "      <td>0.292309</td>\n",
              "      <td>0.8988</td>\n",
              "      <td>0.324738</td>\n",
              "      <td>0.892</td>\n",
              "      <td>33.153875</td>\n",
              "      <td>0.428712</td>\n",
              "    </tr>\n",
              "  </tbody>\n",
              "</table>\n",
              "</div>"
            ],
            "text/plain": [
              "             model      loss  ...  training time (sec)  testing time (sec)\n",
              "19  DNN (3 layers)  0.180324  ...            33.153875            0.428712\n",
              "\n",
              "[1 rows x 9 columns]"
            ]
          },
          "metadata": {
            "tags": []
          },
          "execution_count": 152
        }
      ]
    },
    {
      "cell_type": "markdown",
      "metadata": {
        "id": "NsxbZ4GfN9Ze",
        "colab_type": "raw"
      },
      "source": [
        "Add the new data to results_df"
      ]
    },
    {
      "cell_type": "code",
      "metadata": {
        "id": "IwI9qQvSN9Zg",
        "colab_type": "code",
        "outputId": "dcd4faa9-4527-430f-ebcd-da4cd107bf4d",
        "colab": {
          "base_uri": "https://localhost:8080/",
          "height": 0
        }
      },
      "source": [
        "results_df=results_df.append(results_df2,ignore_index=True)\n",
        "results_df"
      ],
      "execution_count": 153,
      "outputs": [
        {
          "output_type": "execute_result",
          "data": {
            "text/html": [
              "<div>\n",
              "<style scoped>\n",
              "    .dataframe tbody tr th:only-of-type {\n",
              "        vertical-align: middle;\n",
              "    }\n",
              "\n",
              "    .dataframe tbody tr th {\n",
              "        vertical-align: top;\n",
              "    }\n",
              "\n",
              "    .dataframe thead th {\n",
              "        text-align: right;\n",
              "    }\n",
              "</style>\n",
              "<table border=\"1\" class=\"dataframe\">\n",
              "  <thead>\n",
              "    <tr style=\"text-align: right;\">\n",
              "      <th></th>\n",
              "      <th>model</th>\n",
              "      <th>loss</th>\n",
              "      <th>accuracy</th>\n",
              "      <th>val_loss</th>\n",
              "      <th>val_accuracy</th>\n",
              "      <th>test_loss</th>\n",
              "      <th>test_accuracy</th>\n",
              "      <th>training time (sec)</th>\n",
              "      <th>testing time (sec)</th>\n",
              "    </tr>\n",
              "  </thead>\n",
              "  <tbody>\n",
              "    <tr>\n",
              "      <th>0</th>\n",
              "      <td>DNN (2 layers)</td>\n",
              "      <td>0.222847</td>\n",
              "      <td>0.915909</td>\n",
              "      <td>0.280405</td>\n",
              "      <td>0.8982</td>\n",
              "      <td>0.316551</td>\n",
              "      <td>0.8879</td>\n",
              "      <td>30.854909</td>\n",
              "      <td>0.451103</td>\n",
              "    </tr>\n",
              "    <tr>\n",
              "      <th>1</th>\n",
              "      <td>DNN (3 layers)</td>\n",
              "      <td>0.180324</td>\n",
              "      <td>0.931709</td>\n",
              "      <td>0.292309</td>\n",
              "      <td>0.8988</td>\n",
              "      <td>0.324738</td>\n",
              "      <td>0.8920</td>\n",
              "      <td>33.153875</td>\n",
              "      <td>0.428712</td>\n",
              "    </tr>\n",
              "  </tbody>\n",
              "</table>\n",
              "</div>"
            ],
            "text/plain": [
              "            model      loss  ...  training time (sec)  testing time (sec)\n",
              "0  DNN (2 layers)  0.222847  ...            30.854909            0.451103\n",
              "1  DNN (3 layers)  0.180324  ...            33.153875            0.428712\n",
              "\n",
              "[2 rows x 9 columns]"
            ]
          },
          "metadata": {
            "tags": []
          },
          "execution_count": 153
        }
      ]
    },
    {
      "cell_type": "markdown",
      "metadata": {
        "colab_type": "text",
        "id": "Oc4WNNgdr0_I"
      },
      "source": [
        "## Plotting the performance "
      ]
    },
    {
      "cell_type": "code",
      "metadata": {
        "colab_type": "code",
        "outputId": "dbfa9643-6a0a-46c6-d3c2-85bf3876e978",
        "id": "HK6h4raar0_Q",
        "colab": {
          "base_uri": "https://localhost:8080/",
          "height": 0
        }
      },
      "source": [
        "import matplotlib.pyplot as plt\n",
        "\n",
        "acc = history.history['accuracy']\n",
        "val_acc = history.history['val_accuracy']\n",
        "loss = history.history['loss']\n",
        "val_loss = history.history['val_loss']\n",
        "\n",
        "epochs = range(1, len(acc) + 1)\n",
        "\n",
        "# \"bo\" is for \"blue dot\"\n",
        "plt.plot(epochs, loss, 'bo', label='Training loss')\n",
        "# b is for \"solid blue line\"\n",
        "plt.plot(epochs, val_loss, 'b', label='Validation loss')\n",
        "plt.title('Training and validation loss')\n",
        "\n",
        "plt.xlabel('Epochs')\n",
        "plt.ylabel('Loss')\n",
        "plt.legend()\n",
        "\n",
        "plt.show()"
      ],
      "execution_count": 154,
      "outputs": [
        {
          "output_type": "display_data",
          "data": {
            "image/png": "[encoded data removed]",
            "text/plain": [
              "<Figure size 432x288 with 1 Axes>"
            ]
          },
          "metadata": {
            "tags": []
          }
        }
      ]
    },
    {
      "cell_type": "code",
      "metadata": {
        "colab_type": "code",
        "outputId": "13189681-afed-44b5-cab6-0f9050a22d92",
        "id": "oBgGCyxUr0_Z",
        "colab": {
          "base_uri": "https://localhost:8080/",
          "height": 0
        }
      },
      "source": [
        "plt.clf()   # clear figure\n",
        "acc_values = history_dict['accuracy']\n",
        "# val_acc_values = history_dict['val_acc']\n",
        "\n",
        "plt.plot(epochs, acc, 'bo', label='Training acc')\n",
        "plt.plot(epochs, val_acc, 'b', label='Validation acc')\n",
        "plt.title('Training and validation accuracy')\n",
        "\n",
        "plt.xlabel('Epochs')\n",
        "plt.ylabel('Accuracy')\n",
        "plt.legend()\n",
        "\n",
        "plt.show()"
      ],
      "execution_count": 155,
      "outputs": [
        {
          "output_type": "display_data",
          "data": {
            "image/png": "[encoded data removed]",
            "text/plain": [
              "<Figure size 432x288 with 1 Axes>"
            ]
          },
          "metadata": {
            "tags": []
          }
        }
      ]
    },
    {
      "cell_type": "markdown",
      "metadata": {
        "id": "ET40PvdnADY1",
        "colab_type": "text"
      },
      "source": [
        "# Experiment 3\n",
        "CNN with 2 convolution/max pooling layers and no dropout."
      ]
    },
    {
      "cell_type": "markdown",
      "metadata": {
        "id": "qLtU4aDkCCR_",
        "colab_type": "text"
      },
      "source": [
        "##Prepare the data\n",
        "Must reshape the data"
      ]
    },
    {
      "cell_type": "code",
      "metadata": {
        "id": "XC24QFbmCboW",
        "colab_type": "code",
        "outputId": "f824dd91-fecd-46c8-f1c6-e787f92166cb",
        "colab": {
          "base_uri": "https://localhost:8080/",
          "height": 0
        }
      },
      "source": [
        "train_images.shape"
      ],
      "execution_count": 156,
      "outputs": [
        {
          "output_type": "execute_result",
          "data": {
            "text/plain": [
              "(55000, 784)"
            ]
          },
          "metadata": {
            "tags": []
          },
          "execution_count": 156
        }
      ]
    },
    {
      "cell_type": "code",
      "metadata": {
        "id": "TU4vgVO_CGG-",
        "colab_type": "code",
        "colab": {}
      },
      "source": [
        "train_images = train_images.reshape((55000, 28, 28, 1))\n",
        "\n",
        "test_images = test_images.reshape((10000, 28, 28, 1))\n",
        "\n",
        "val_images = val_images.reshape((5000, 28, 28, 1))"
      ],
      "execution_count": 0,
      "outputs": []
    },
    {
      "cell_type": "markdown",
      "metadata": {
        "id": "PlKbzUNPAoTC",
        "colab_type": "text"
      },
      "source": [
        "##Build and compile the model\n"
      ]
    },
    {
      "cell_type": "code",
      "metadata": {
        "id": "ypuJ5q0wsGvS",
        "colab_type": "code",
        "colab": {}
      },
      "source": [
        "# CNN with 2 convolution/max pooling layers\n",
        "\n",
        "\n",
        "model = models.Sequential()\n",
        "model.add(layers.Conv2D(32, (3, 3), activation='relu', input_shape=(28, 28, 1)))\n",
        "model.add(layers.MaxPooling2D((2, 2)))\n",
        "model.add(layers.Dropout(0.25))\n",
        "\n",
        "model.add(layers.Conv2D(64, (3, 3), activation='relu'))\n",
        "model.add(layers.MaxPooling2D((2, 2)))\n",
        "model.add(layers.Dropout(0.25))\n",
        "\n",
        "model.add(layers.Flatten())\n",
        "model.add(layers.Dense(512, activation='relu'))\n",
        "\n",
        "model.add(layers.Dropout(0.25))\n",
        "\n",
        "model.add(layers.Dense(10, activation='softmax'))\n",
        "\n",
        "model.compile(optimizer ='adam',\n",
        "              loss='sparse_categorical_crossentropy',\n",
        "              metrics=['accuracy'])"
      ],
      "execution_count": 0,
      "outputs": []
    },
    {
      "cell_type": "code",
      "metadata": {
        "id": "6jUvqmxLDeh9",
        "colab_type": "code",
        "outputId": "0033961a-fa5f-475d-f506-97739ed9868a",
        "colab": {
          "base_uri": "https://localhost:8080/",
          "height": 1000
        }
      },
      "source": [
        "keras.utils.plot_model(model, show_shapes=True)"
      ],
      "execution_count": 159,
      "outputs": [
        {
          "output_type": "execute_result",
          "data": {
            "image/png": "[encoded data removed]",
            "text/plain": [
              "<IPython.core.display.Image object>"
            ]
          },
          "metadata": {
            "tags": []
          },
          "execution_count": 159
        }
      ]
    },
    {
      "cell_type": "markdown",
      "metadata": {
        "id": "opEkoJNVBN-F",
        "colab_type": "text"
      },
      "source": [
        "##Train the model"
      ]
    },
    {
      "cell_type": "code",
      "metadata": {
        "id": "cihBVAzRBIbg",
        "colab_type": "code",
        "outputId": "6b318902-fabc-40ee-8182-cf620ef73bf5",
        "colab": {
          "base_uri": "https://localhost:8080/",
          "height": 0
        }
      },
      "source": [
        "train_rt = TrainRuntimeCallback()\n",
        "history = model.fit(train_images, train_labels, callbacks=[train_rt], epochs=20,  batch_size = 100,\n",
        "                    validation_data=(val_images, val_labels))"
      ],
      "execution_count": 160,
      "outputs": [
        {
          "output_type": "stream",
          "text": [
            "Train on 55000 samples, validate on 5000 samples\n",
            "Epoch 1/20\n",
            "55000/55000 [==============================] - 3s 59us/sample - loss: 0.5668 - accuracy: 0.7887 - val_loss: 0.3763 - val_accuracy: 0.8648\n",
            "Epoch 2/20\n",
            "55000/55000 [==============================] - 3s 55us/sample - loss: 0.3792 - accuracy: 0.8607 - val_loss: 0.3100 - val_accuracy: 0.8862\n",
            "Epoch 3/20\n",
            "55000/55000 [==============================] - 3s 55us/sample - loss: 0.3235 - accuracy: 0.8806 - val_loss: 0.2692 - val_accuracy: 0.9046\n",
            "Epoch 4/20\n",
            "55000/55000 [==============================] - 3s 55us/sample - loss: 0.2949 - accuracy: 0.8917 - val_loss: 0.2533 - val_accuracy: 0.9062\n",
            "Epoch 5/20\n",
            "55000/55000 [==============================] - 3s 55us/sample - loss: 0.2747 - accuracy: 0.8981 - val_loss: 0.2537 - val_accuracy: 0.9086\n",
            "Epoch 6/20\n",
            "55000/55000 [==============================] - 3s 55us/sample - loss: 0.2578 - accuracy: 0.9031 - val_loss: 0.2416 - val_accuracy: 0.9104\n",
            "Epoch 7/20\n",
            "55000/55000 [==============================] - 3s 55us/sample - loss: 0.2407 - accuracy: 0.9101 - val_loss: 0.2244 - val_accuracy: 0.9184\n",
            "Epoch 8/20\n",
            "55000/55000 [==============================] - 3s 55us/sample - loss: 0.2291 - accuracy: 0.9141 - val_loss: 0.2235 - val_accuracy: 0.9194\n",
            "Epoch 9/20\n",
            "55000/55000 [==============================] - 3s 55us/sample - loss: 0.2193 - accuracy: 0.9174 - val_loss: 0.2119 - val_accuracy: 0.9204\n",
            "Epoch 10/20\n",
            "55000/55000 [==============================] - 3s 55us/sample - loss: 0.2086 - accuracy: 0.9225 - val_loss: 0.2077 - val_accuracy: 0.9232\n",
            "Epoch 11/20\n",
            "55000/55000 [==============================] - 3s 56us/sample - loss: 0.2033 - accuracy: 0.9229 - val_loss: 0.2121 - val_accuracy: 0.9182\n",
            "Epoch 12/20\n",
            "55000/55000 [==============================] - 3s 55us/sample - loss: 0.1916 - accuracy: 0.9292 - val_loss: 0.2026 - val_accuracy: 0.9252\n",
            "Epoch 13/20\n",
            "55000/55000 [==============================] - 3s 55us/sample - loss: 0.1873 - accuracy: 0.9288 - val_loss: 0.1993 - val_accuracy: 0.9256\n",
            "Epoch 14/20\n",
            "55000/55000 [==============================] - 3s 55us/sample - loss: 0.1778 - accuracy: 0.9330 - val_loss: 0.1997 - val_accuracy: 0.9270\n",
            "Epoch 15/20\n",
            "55000/55000 [==============================] - 3s 54us/sample - loss: 0.1707 - accuracy: 0.9346 - val_loss: 0.2064 - val_accuracy: 0.9248\n",
            "Epoch 16/20\n",
            "55000/55000 [==============================] - 3s 56us/sample - loss: 0.1659 - accuracy: 0.9364 - val_loss: 0.2085 - val_accuracy: 0.9276\n",
            "Epoch 17/20\n",
            "55000/55000 [==============================] - 3s 55us/sample - loss: 0.1606 - accuracy: 0.9391 - val_loss: 0.2033 - val_accuracy: 0.9278\n",
            "Epoch 18/20\n",
            "55000/55000 [==============================] - 3s 55us/sample - loss: 0.1549 - accuracy: 0.9414 - val_loss: 0.2066 - val_accuracy: 0.9242\n",
            "Epoch 19/20\n",
            "55000/55000 [==============================] - 3s 55us/sample - loss: 0.1482 - accuracy: 0.9443 - val_loss: 0.2123 - val_accuracy: 0.9268\n",
            "Epoch 20/20\n",
            "55000/55000 [==============================] - 3s 55us/sample - loss: 0.1437 - accuracy: 0.9453 - val_loss: 0.2062 - val_accuracy: 0.9260\n"
          ],
          "name": "stdout"
        }
      ]
    },
    {
      "cell_type": "code",
      "metadata": {
        "id": "0auFbjEJBUjb",
        "colab_type": "code",
        "outputId": "c1e011e1-4979-4708-c1ee-7a6531bf4867",
        "colab": {
          "base_uri": "https://localhost:8080/",
          "height": 0
        }
      },
      "source": [
        "# Get the training time\n",
        "train_time = train_rt.process_time\n",
        "train_time # in seconds"
      ],
      "execution_count": 161,
      "outputs": [
        {
          "output_type": "execute_result",
          "data": {
            "text/plain": [
              "61.345303"
            ]
          },
          "metadata": {
            "tags": []
          },
          "execution_count": 161
        }
      ]
    },
    {
      "cell_type": "markdown",
      "metadata": {
        "colab_type": "text",
        "id": "T3SNc_USDse3"
      },
      "source": [
        "## Test the model"
      ]
    },
    {
      "cell_type": "code",
      "metadata": {
        "colab_type": "code",
        "outputId": "491381d5-9111-4d65-f5ca-c9c14fdb1028",
        "id": "3smS2Uh4Dse4",
        "colab": {
          "base_uri": "https://localhost:8080/",
          "height": 0
        }
      },
      "source": [
        "test_rt = TestRuntimeCallback()\n",
        "test_loss, test_acc = model.evaluate(test_images, test_labels, callbacks=[test_rt])\n",
        "test_loss, test_acc"
      ],
      "execution_count": 162,
      "outputs": [
        {
          "output_type": "execute_result",
          "data": {
            "text/plain": [
              "(0.23274013988673686, 0.9206)"
            ]
          },
          "metadata": {
            "tags": []
          },
          "execution_count": 162
        }
      ]
    },
    {
      "cell_type": "code",
      "metadata": {
        "colab_type": "code",
        "outputId": "ea89f198-86bd-4bff-ca1e-51f5dade2f0b",
        "id": "nGWjHlvfDse8",
        "colab": {
          "base_uri": "https://localhost:8080/",
          "height": 0
        }
      },
      "source": [
        "test_time = test_rt.process_time\n",
        "test_time # in seconds"
      ],
      "execution_count": 163,
      "outputs": [
        {
          "output_type": "execute_result",
          "data": {
            "text/plain": [
              "0.541184"
            ]
          },
          "metadata": {
            "tags": []
          },
          "execution_count": 163
        }
      ]
    },
    {
      "cell_type": "markdown",
      "metadata": {
        "id": "cvwrNSSEFAXX",
        "colab_type": "text"
      },
      "source": [
        "##Add training and test statistics to results dataframe"
      ]
    },
    {
      "cell_type": "code",
      "metadata": {
        "id": "5GESxjsfFE6h",
        "colab_type": "code",
        "outputId": "52a7bc56-4926-4577-9632-4af224a5d94b",
        "colab": {
          "base_uri": "https://localhost:8080/",
          "height": 0
        }
      },
      "source": [
        "history_dict = history.history\n",
        "history_df=pd.DataFrame(history_dict)\n",
        "history_df.tail()"
      ],
      "execution_count": 164,
      "outputs": [
        {
          "output_type": "execute_result",
          "data": {
            "text/html": [
              "<div>\n",
              "<style scoped>\n",
              "    .dataframe tbody tr th:only-of-type {\n",
              "        vertical-align: middle;\n",
              "    }\n",
              "\n",
              "    .dataframe tbody tr th {\n",
              "        vertical-align: top;\n",
              "    }\n",
              "\n",
              "    .dataframe thead th {\n",
              "        text-align: right;\n",
              "    }\n",
              "</style>\n",
              "<table border=\"1\" class=\"dataframe\">\n",
              "  <thead>\n",
              "    <tr style=\"text-align: right;\">\n",
              "      <th></th>\n",
              "      <th>loss</th>\n",
              "      <th>accuracy</th>\n",
              "      <th>val_loss</th>\n",
              "      <th>val_accuracy</th>\n",
              "    </tr>\n",
              "  </thead>\n",
              "  <tbody>\n",
              "    <tr>\n",
              "      <th>15</th>\n",
              "      <td>0.165940</td>\n",
              "      <td>0.936400</td>\n",
              "      <td>0.208499</td>\n",
              "      <td>0.9276</td>\n",
              "    </tr>\n",
              "    <tr>\n",
              "      <th>16</th>\n",
              "      <td>0.160602</td>\n",
              "      <td>0.939145</td>\n",
              "      <td>0.203301</td>\n",
              "      <td>0.9278</td>\n",
              "    </tr>\n",
              "    <tr>\n",
              "      <th>17</th>\n",
              "      <td>0.154945</td>\n",
              "      <td>0.941400</td>\n",
              "      <td>0.206589</td>\n",
              "      <td>0.9242</td>\n",
              "    </tr>\n",
              "    <tr>\n",
              "      <th>18</th>\n",
              "      <td>0.148197</td>\n",
              "      <td>0.944345</td>\n",
              "      <td>0.212350</td>\n",
              "      <td>0.9268</td>\n",
              "    </tr>\n",
              "    <tr>\n",
              "      <th>19</th>\n",
              "      <td>0.143708</td>\n",
              "      <td>0.945273</td>\n",
              "      <td>0.206207</td>\n",
              "      <td>0.9260</td>\n",
              "    </tr>\n",
              "  </tbody>\n",
              "</table>\n",
              "</div>"
            ],
            "text/plain": [
              "        loss  accuracy  val_loss  val_accuracy\n",
              "15  0.165940  0.936400  0.208499        0.9276\n",
              "16  0.160602  0.939145  0.203301        0.9278\n",
              "17  0.154945  0.941400  0.206589        0.9242\n",
              "18  0.148197  0.944345  0.212350        0.9268\n",
              "19  0.143708  0.945273  0.206207        0.9260"
            ]
          },
          "metadata": {
            "tags": []
          },
          "execution_count": 164
        }
      ]
    },
    {
      "cell_type": "code",
      "metadata": {
        "colab_type": "code",
        "outputId": "a6c716fd-4053-4df9-8f5f-3fbf5c856282",
        "id": "sadSVfZwFmTh",
        "colab": {
          "base_uri": "https://localhost:8080/",
          "height": 0
        }
      },
      "source": [
        "results_df3 = history_df.iloc[-1:].copy()\n",
        "results_df3.insert(0,'model','CNN (2 layers)') # want the model name to appear first\n",
        "results_df3['test_loss'] = test_loss #incorporate test results\n",
        "results_df3['test_accuracy'] = test_acc\n",
        "results_df3['training time (sec)'] = train_time     \n",
        "results_df3['testing time (sec)'] = test_time      # testing time appears last\n",
        "results_df3"
      ],
      "execution_count": 165,
      "outputs": [
        {
          "output_type": "execute_result",
          "data": {
            "text/html": [
              "<div>\n",
              "<style scoped>\n",
              "    .dataframe tbody tr th:only-of-type {\n",
              "        vertical-align: middle;\n",
              "    }\n",
              "\n",
              "    .dataframe tbody tr th {\n",
              "        vertical-align: top;\n",
              "    }\n",
              "\n",
              "    .dataframe thead th {\n",
              "        text-align: right;\n",
              "    }\n",
              "</style>\n",
              "<table border=\"1\" class=\"dataframe\">\n",
              "  <thead>\n",
              "    <tr style=\"text-align: right;\">\n",
              "      <th></th>\n",
              "      <th>model</th>\n",
              "      <th>loss</th>\n",
              "      <th>accuracy</th>\n",
              "      <th>val_loss</th>\n",
              "      <th>val_accuracy</th>\n",
              "      <th>test_loss</th>\n",
              "      <th>test_accuracy</th>\n",
              "      <th>training time (sec)</th>\n",
              "      <th>testing time (sec)</th>\n",
              "    </tr>\n",
              "  </thead>\n",
              "  <tbody>\n",
              "    <tr>\n",
              "      <th>19</th>\n",
              "      <td>CNN (2 layers)</td>\n",
              "      <td>0.143708</td>\n",
              "      <td>0.945273</td>\n",
              "      <td>0.206207</td>\n",
              "      <td>0.926</td>\n",
              "      <td>0.23274</td>\n",
              "      <td>0.9206</td>\n",
              "      <td>61.345303</td>\n",
              "      <td>0.541184</td>\n",
              "    </tr>\n",
              "  </tbody>\n",
              "</table>\n",
              "</div>"
            ],
            "text/plain": [
              "             model      loss  ...  training time (sec)  testing time (sec)\n",
              "19  CNN (2 layers)  0.143708  ...            61.345303            0.541184\n",
              "\n",
              "[1 rows x 9 columns]"
            ]
          },
          "metadata": {
            "tags": []
          },
          "execution_count": 165
        }
      ]
    },
    {
      "cell_type": "code",
      "metadata": {
        "colab_type": "code",
        "outputId": "54a642f9-c271-407d-a951-8716e31748ec",
        "id": "VQsRoYkOFmTq",
        "colab": {
          "base_uri": "https://localhost:8080/",
          "height": 0
        }
      },
      "source": [
        "results_df=results_df.append(results_df3,ignore_index=True)\n",
        "results_df"
      ],
      "execution_count": 166,
      "outputs": [
        {
          "output_type": "execute_result",
          "data": {
            "text/html": [
              "<div>\n",
              "<style scoped>\n",
              "    .dataframe tbody tr th:only-of-type {\n",
              "        vertical-align: middle;\n",
              "    }\n",
              "\n",
              "    .dataframe tbody tr th {\n",
              "        vertical-align: top;\n",
              "    }\n",
              "\n",
              "    .dataframe thead th {\n",
              "        text-align: right;\n",
              "    }\n",
              "</style>\n",
              "<table border=\"1\" class=\"dataframe\">\n",
              "  <thead>\n",
              "    <tr style=\"text-align: right;\">\n",
              "      <th></th>\n",
              "      <th>model</th>\n",
              "      <th>loss</th>\n",
              "      <th>accuracy</th>\n",
              "      <th>val_loss</th>\n",
              "      <th>val_accuracy</th>\n",
              "      <th>test_loss</th>\n",
              "      <th>test_accuracy</th>\n",
              "      <th>training time (sec)</th>\n",
              "      <th>testing time (sec)</th>\n",
              "    </tr>\n",
              "  </thead>\n",
              "  <tbody>\n",
              "    <tr>\n",
              "      <th>0</th>\n",
              "      <td>DNN (2 layers)</td>\n",
              "      <td>0.222847</td>\n",
              "      <td>0.915909</td>\n",
              "      <td>0.280405</td>\n",
              "      <td>0.8982</td>\n",
              "      <td>0.316551</td>\n",
              "      <td>0.8879</td>\n",
              "      <td>30.854909</td>\n",
              "      <td>0.451103</td>\n",
              "    </tr>\n",
              "    <tr>\n",
              "      <th>1</th>\n",
              "      <td>DNN (3 layers)</td>\n",
              "      <td>0.180324</td>\n",
              "      <td>0.931709</td>\n",
              "      <td>0.292309</td>\n",
              "      <td>0.8988</td>\n",
              "      <td>0.324738</td>\n",
              "      <td>0.8920</td>\n",
              "      <td>33.153875</td>\n",
              "      <td>0.428712</td>\n",
              "    </tr>\n",
              "    <tr>\n",
              "      <th>2</th>\n",
              "      <td>CNN (2 layers)</td>\n",
              "      <td>0.143708</td>\n",
              "      <td>0.945273</td>\n",
              "      <td>0.206207</td>\n",
              "      <td>0.9260</td>\n",
              "      <td>0.232740</td>\n",
              "      <td>0.9206</td>\n",
              "      <td>61.345303</td>\n",
              "      <td>0.541184</td>\n",
              "    </tr>\n",
              "  </tbody>\n",
              "</table>\n",
              "</div>"
            ],
            "text/plain": [
              "            model      loss  ...  training time (sec)  testing time (sec)\n",
              "0  DNN (2 layers)  0.222847  ...            30.854909            0.451103\n",
              "1  DNN (3 layers)  0.180324  ...            33.153875            0.428712\n",
              "2  CNN (2 layers)  0.143708  ...            61.345303            0.541184\n",
              "\n",
              "[3 rows x 9 columns]"
            ]
          },
          "metadata": {
            "tags": []
          },
          "execution_count": 166
        }
      ]
    },
    {
      "cell_type": "markdown",
      "metadata": {
        "colab_type": "text",
        "id": "9x0I4r1FFmTu"
      },
      "source": [
        "## Plotting the performance "
      ]
    },
    {
      "cell_type": "code",
      "metadata": {
        "colab_type": "code",
        "outputId": "d45db27d-2f01-4097-a295-191fc0831d4d",
        "id": "_Dd7-aQNFmTu",
        "colab": {
          "base_uri": "https://localhost:8080/",
          "height": 0
        }
      },
      "source": [
        "import matplotlib.pyplot as plt\n",
        "\n",
        "acc = history.history['accuracy']\n",
        "val_acc = history.history['val_accuracy']\n",
        "loss = history.history['loss']\n",
        "val_loss = history.history['val_loss']\n",
        "\n",
        "epochs = range(1, len(acc) + 1)\n",
        "\n",
        "# \"bo\" is for \"blue dot\"\n",
        "plt.plot(epochs, loss, 'bo', label='Training loss')\n",
        "# b is for \"solid blue line\"\n",
        "plt.plot(epochs, val_loss, 'b', label='Validation loss')\n",
        "plt.title('Training and validation loss')\n",
        "\n",
        "plt.xlabel('Epochs')\n",
        "plt.ylabel('Loss')\n",
        "plt.legend()\n",
        "\n",
        "plt.show()"
      ],
      "execution_count": 167,
      "outputs": [
        {
          "output_type": "display_data",
          "data": {
            "image/png": "[encoded data removed]",
            "text/plain": [
              "<Figure size 432x288 with 1 Axes>"
            ]
          },
          "metadata": {
            "tags": []
          }
        }
      ]
    },
    {
      "cell_type": "code",
      "metadata": {
        "colab_type": "code",
        "outputId": "2637fa17-54e3-456f-c190-7f16f8a35b3d",
        "id": "fOIUTCiBFmTy",
        "colab": {
          "base_uri": "https://localhost:8080/",
          "height": 0
        }
      },
      "source": [
        "plt.clf()   # clear figure\n",
        "acc_values = history_dict['accuracy']\n",
        "# val_acc_values = history_dict['val_acc']\n",
        "\n",
        "plt.plot(epochs, acc, 'bo', label='Training acc')\n",
        "plt.plot(epochs, val_acc, 'b', label='Validation acc')\n",
        "plt.title('Training and validation accuracy')\n",
        "\n",
        "plt.xlabel('Epochs')\n",
        "plt.ylabel('Accuracy')\n",
        "plt.legend()\n",
        "\n",
        "plt.show()"
      ],
      "execution_count": 168,
      "outputs": [
        {
          "output_type": "display_data",
          "data": {
            "image/png": "[encoded data removed]",
            "text/plain": [
              "<Figure size 432x288 with 1 Axes>"
            ]
          },
          "metadata": {
            "tags": []
          }
        }
      ]
    },
    {
      "cell_type": "code",
      "metadata": {
        "id": "31gb_xWRFSAm",
        "colab_type": "code",
        "outputId": "7eaeea17-e344-4900-dcef-b838b79ac9ed",
        "colab": {
          "base_uri": "https://localhost:8080/",
          "height": 0
        }
      },
      "source": [
        "# save the model\n",
        "model.save(\"experiment3_dropout\")"
      ],
      "execution_count": 169,
      "outputs": [
        {
          "output_type": "stream",
          "text": [
            "INFO:tensorflow:Assets written to: experiment3_dropout/assets\n"
          ],
          "name": "stdout"
        }
      ]
    },
    {
      "cell_type": "markdown",
      "metadata": {
        "id": "mPa6hjB0HQPq",
        "colab_type": "text"
      },
      "source": [
        "#Experiment 4\n",
        "CNN with 3 convolution/max pooling layers"
      ]
    },
    {
      "cell_type": "markdown",
      "metadata": {
        "id": "WTm7TDniHaWQ",
        "colab_type": "text"
      },
      "source": [
        "##Build and compile the model"
      ]
    },
    {
      "cell_type": "code",
      "metadata": {
        "colab_type": "code",
        "id": "zgUPKUmMHiHg",
        "colab": {}
      },
      "source": [
        "# CNN with 3 convolution/max pooling layers\n",
        "\n",
        "\n",
        "model = models.Sequential()\n",
        "model.add(layers.Conv2D(32, (3, 3), activation='relu', input_shape=(28, 28, 1)))\n",
        "model.add(layers.MaxPooling2D((2, 2)))\n",
        "model.add(layers.Dropout(0.25))\n",
        "\n",
        "model.add(layers.Conv2D(64, (3, 3), activation='relu'))\n",
        "model.add(layers.MaxPooling2D((2, 2)))\n",
        "model.add(layers.Dropout(0.2))\n",
        "\n",
        "model.add(layers.Conv2D(64, (3,3), activation='relu'))\n",
        "model.add(layers.MaxPooling2D((2,2)))\n",
        "model.add(layers.Dropout(0.25))\n",
        "\n",
        "model.add(layers.Flatten())\n",
        "model.add(layers.Dense(512, activation='relu'))\n",
        "\n",
        "model.add(layers.Dropout(0.25))\n",
        "\n",
        "model.add(layers.Dense(10, activation='softmax'))\n",
        "\n",
        "model.compile(optimizer ='adam',\n",
        "              loss='sparse_categorical_crossentropy',\n",
        "              metrics=['accuracy'])"
      ],
      "execution_count": 0,
      "outputs": []
    },
    {
      "cell_type": "code",
      "metadata": {
        "colab_type": "code",
        "id": "DnqCDWORHiHr",
        "outputId": "938a8c63-7341-4925-e6cd-c382b747a35c",
        "colab": {
          "base_uri": "https://localhost:8080/",
          "height": 1000
        }
      },
      "source": [
        "keras.utils.plot_model(model, show_shapes=True)"
      ],
      "execution_count": 171,
      "outputs": [
        {
          "output_type": "execute_result",
          "data": {
            "image/png": "[encoded data removed]",
            "text/plain": [
              "<IPython.core.display.Image object>"
            ]
          },
          "metadata": {
            "tags": []
          },
          "execution_count": 171
        }
      ]
    },
    {
      "cell_type": "markdown",
      "metadata": {
        "colab_type": "text",
        "id": "WFDE4KyKHiHw"
      },
      "source": [
        "##Train the model"
      ]
    },
    {
      "cell_type": "code",
      "metadata": {
        "colab_type": "code",
        "outputId": "1ad4af5c-c0c5-4dbd-de20-53ef89daa492",
        "id": "jaUiJYH3HiHx",
        "colab": {
          "base_uri": "https://localhost:8080/",
          "height": 749
        }
      },
      "source": [
        "train_rt = TrainRuntimeCallback()\n",
        "history = model.fit(train_images, train_labels, callbacks=[train_rt], epochs=20,  batch_size = 100,\n",
        "                    validation_data=(val_images, val_labels))"
      ],
      "execution_count": 172,
      "outputs": [
        {
          "output_type": "stream",
          "text": [
            "Train on 55000 samples, validate on 5000 samples\n",
            "Epoch 1/20\n",
            "55000/55000 [==============================] - 4s 67us/sample - loss: 0.8625 - accuracy: 0.6723 - val_loss: 0.5392 - val_accuracy: 0.8002\n",
            "Epoch 2/20\n",
            "55000/55000 [==============================] - 3s 62us/sample - loss: 0.5804 - accuracy: 0.7880 - val_loss: 0.4652 - val_accuracy: 0.8274\n",
            "Epoch 3/20\n",
            "55000/55000 [==============================] - 3s 62us/sample - loss: 0.5144 - accuracy: 0.8117 - val_loss: 0.4024 - val_accuracy: 0.8542\n",
            "Epoch 4/20\n",
            "55000/55000 [==============================] - 3s 60us/sample - loss: 0.4757 - accuracy: 0.8247 - val_loss: 0.3982 - val_accuracy: 0.8502\n",
            "Epoch 5/20\n",
            "55000/55000 [==============================] - 3s 60us/sample - loss: 0.4458 - accuracy: 0.8345 - val_loss: 0.3695 - val_accuracy: 0.8660\n",
            "Epoch 6/20\n",
            "55000/55000 [==============================] - 3s 59us/sample - loss: 0.4190 - accuracy: 0.8475 - val_loss: 0.3466 - val_accuracy: 0.8682\n",
            "Epoch 7/20\n",
            "55000/55000 [==============================] - 3s 59us/sample - loss: 0.4006 - accuracy: 0.8537 - val_loss: 0.3310 - val_accuracy: 0.8774\n",
            "Epoch 8/20\n",
            "55000/55000 [==============================] - 3s 60us/sample - loss: 0.3879 - accuracy: 0.8568 - val_loss: 0.3323 - val_accuracy: 0.8756\n",
            "Epoch 9/20\n",
            "55000/55000 [==============================] - 3s 59us/sample - loss: 0.3745 - accuracy: 0.8638 - val_loss: 0.3136 - val_accuracy: 0.8818\n",
            "Epoch 10/20\n",
            "55000/55000 [==============================] - 3s 59us/sample - loss: 0.3684 - accuracy: 0.8635 - val_loss: 0.3063 - val_accuracy: 0.8862\n",
            "Epoch 11/20\n",
            "55000/55000 [==============================] - 3s 60us/sample - loss: 0.3553 - accuracy: 0.8679 - val_loss: 0.2981 - val_accuracy: 0.8866\n",
            "Epoch 12/20\n",
            "55000/55000 [==============================] - 3s 59us/sample - loss: 0.3511 - accuracy: 0.8717 - val_loss: 0.2969 - val_accuracy: 0.8896\n",
            "Epoch 13/20\n",
            "55000/55000 [==============================] - 3s 60us/sample - loss: 0.3447 - accuracy: 0.8732 - val_loss: 0.3010 - val_accuracy: 0.8826\n",
            "Epoch 14/20\n",
            "55000/55000 [==============================] - 3s 60us/sample - loss: 0.3364 - accuracy: 0.8766 - val_loss: 0.2907 - val_accuracy: 0.8940\n",
            "Epoch 15/20\n",
            "55000/55000 [==============================] - 3s 60us/sample - loss: 0.3311 - accuracy: 0.8772 - val_loss: 0.2800 - val_accuracy: 0.8968\n",
            "Epoch 16/20\n",
            "55000/55000 [==============================] - 3s 60us/sample - loss: 0.3272 - accuracy: 0.8792 - val_loss: 0.2828 - val_accuracy: 0.8960\n",
            "Epoch 17/20\n",
            "55000/55000 [==============================] - 3s 60us/sample - loss: 0.3243 - accuracy: 0.8812 - val_loss: 0.2817 - val_accuracy: 0.8958\n",
            "Epoch 18/20\n",
            "55000/55000 [==============================] - 3s 60us/sample - loss: 0.3169 - accuracy: 0.8820 - val_loss: 0.2809 - val_accuracy: 0.8954\n",
            "Epoch 19/20\n",
            "55000/55000 [==============================] - 3s 59us/sample - loss: 0.3161 - accuracy: 0.8830 - val_loss: 0.2708 - val_accuracy: 0.8982\n",
            "Epoch 20/20\n",
            "55000/55000 [==============================] - 3s 59us/sample - loss: 0.3135 - accuracy: 0.8830 - val_loss: 0.2751 - val_accuracy: 0.8946\n"
          ],
          "name": "stdout"
        }
      ]
    },
    {
      "cell_type": "code",
      "metadata": {
        "colab_type": "code",
        "outputId": "4ce69dd5-0392-40c7-9ca4-882fb8faa75f",
        "id": "Qmc0cmWBHiH1",
        "colab": {
          "base_uri": "https://localhost:8080/",
          "height": 34
        }
      },
      "source": [
        "# Get the training time\n",
        "train_time = train_rt.process_time\n",
        "train_time # in seconds"
      ],
      "execution_count": 173,
      "outputs": [
        {
          "output_type": "execute_result",
          "data": {
            "text/plain": [
              "66.862215"
            ]
          },
          "metadata": {
            "tags": []
          },
          "execution_count": 173
        }
      ]
    },
    {
      "cell_type": "markdown",
      "metadata": {
        "colab_type": "text",
        "id": "8Orz6JTjIL10"
      },
      "source": [
        "## Test the model"
      ]
    },
    {
      "cell_type": "code",
      "metadata": {
        "colab_type": "code",
        "outputId": "3d53cb2d-098f-444b-c33b-a8357bbf97d0",
        "id": "NqLr7sK8IL12",
        "colab": {
          "base_uri": "https://localhost:8080/",
          "height": 0
        }
      },
      "source": [
        "test_rt = TestRuntimeCallback()\n",
        "test_loss, test_acc = model.evaluate(test_images, test_labels, callbacks=[test_rt])\n",
        "test_loss, test_acc"
      ],
      "execution_count": 174,
      "outputs": [
        {
          "output_type": "execute_result",
          "data": {
            "text/plain": [
              "(0.30356152247190477, 0.8888)"
            ]
          },
          "metadata": {
            "tags": []
          },
          "execution_count": 174
        }
      ]
    },
    {
      "cell_type": "code",
      "metadata": {
        "colab_type": "code",
        "outputId": "b3e4f1aa-5949-40de-bc7e-5add1c6135d0",
        "id": "jCAL8Nj0IL15",
        "colab": {
          "base_uri": "https://localhost:8080/",
          "height": 0
        }
      },
      "source": [
        "test_time = test_rt.process_time\n",
        "test_time # in seconds"
      ],
      "execution_count": 175,
      "outputs": [
        {
          "output_type": "execute_result",
          "data": {
            "text/plain": [
              "0.538814"
            ]
          },
          "metadata": {
            "tags": []
          },
          "execution_count": 175
        }
      ]
    },
    {
      "cell_type": "markdown",
      "metadata": {
        "colab_type": "text",
        "id": "24x4NtczKm1o"
      },
      "source": [
        "##Add training and test statistics to results dataframe"
      ]
    },
    {
      "cell_type": "code",
      "metadata": {
        "colab_type": "code",
        "outputId": "a3fa7bc7-ccdc-4841-b418-e4bf5c87c7fc",
        "id": "L-TWet-AKm1s",
        "colab": {
          "base_uri": "https://localhost:8080/",
          "height": 206
        }
      },
      "source": [
        "history_dict = history.history\n",
        "history_df=pd.DataFrame(history_dict)\n",
        "history_df.tail()"
      ],
      "execution_count": 176,
      "outputs": [
        {
          "output_type": "execute_result",
          "data": {
            "text/html": [
              "<div>\n",
              "<style scoped>\n",
              "    .dataframe tbody tr th:only-of-type {\n",
              "        vertical-align: middle;\n",
              "    }\n",
              "\n",
              "    .dataframe tbody tr th {\n",
              "        vertical-align: top;\n",
              "    }\n",
              "\n",
              "    .dataframe thead th {\n",
              "        text-align: right;\n",
              "    }\n",
              "</style>\n",
              "<table border=\"1\" class=\"dataframe\">\n",
              "  <thead>\n",
              "    <tr style=\"text-align: right;\">\n",
              "      <th></th>\n",
              "      <th>loss</th>\n",
              "      <th>accuracy</th>\n",
              "      <th>val_loss</th>\n",
              "      <th>val_accuracy</th>\n",
              "    </tr>\n",
              "  </thead>\n",
              "  <tbody>\n",
              "    <tr>\n",
              "      <th>15</th>\n",
              "      <td>0.327242</td>\n",
              "      <td>0.879218</td>\n",
              "      <td>0.282845</td>\n",
              "      <td>0.8960</td>\n",
              "    </tr>\n",
              "    <tr>\n",
              "      <th>16</th>\n",
              "      <td>0.324251</td>\n",
              "      <td>0.881182</td>\n",
              "      <td>0.281667</td>\n",
              "      <td>0.8958</td>\n",
              "    </tr>\n",
              "    <tr>\n",
              "      <th>17</th>\n",
              "      <td>0.316871</td>\n",
              "      <td>0.882018</td>\n",
              "      <td>0.280903</td>\n",
              "      <td>0.8954</td>\n",
              "    </tr>\n",
              "    <tr>\n",
              "      <th>18</th>\n",
              "      <td>0.316091</td>\n",
              "      <td>0.883000</td>\n",
              "      <td>0.270753</td>\n",
              "      <td>0.8982</td>\n",
              "    </tr>\n",
              "    <tr>\n",
              "      <th>19</th>\n",
              "      <td>0.313537</td>\n",
              "      <td>0.882982</td>\n",
              "      <td>0.275148</td>\n",
              "      <td>0.8946</td>\n",
              "    </tr>\n",
              "  </tbody>\n",
              "</table>\n",
              "</div>"
            ],
            "text/plain": [
              "        loss  accuracy  val_loss  val_accuracy\n",
              "15  0.327242  0.879218  0.282845        0.8960\n",
              "16  0.324251  0.881182  0.281667        0.8958\n",
              "17  0.316871  0.882018  0.280903        0.8954\n",
              "18  0.316091  0.883000  0.270753        0.8982\n",
              "19  0.313537  0.882982  0.275148        0.8946"
            ]
          },
          "metadata": {
            "tags": []
          },
          "execution_count": 176
        }
      ]
    },
    {
      "cell_type": "code",
      "metadata": {
        "colab_type": "code",
        "outputId": "5cbeb4a6-ecde-4901-8f5b-770d83f59e23",
        "id": "XcNETugcKm1z",
        "colab": {
          "base_uri": "https://localhost:8080/",
          "height": 170
        }
      },
      "source": [
        "results_df4 = history_df.iloc[-1:].copy()\n",
        "results_df4.insert(0,'model','CNN (3 layers)') # want the model name to appear first\n",
        "results_df4['test_loss'] = test_loss #incorporate test results\n",
        "results_df4['test_accuracy'] = test_acc\n",
        "results_df4['training time (sec)'] = train_time     \n",
        "results_df4['testing time (sec)'] = test_time      # testing time appears last\n",
        "results_df4"
      ],
      "execution_count": 177,
      "outputs": [
        {
          "output_type": "execute_result",
          "data": {
            "text/html": [
              "<div>\n",
              "<style scoped>\n",
              "    .dataframe tbody tr th:only-of-type {\n",
              "        vertical-align: middle;\n",
              "    }\n",
              "\n",
              "    .dataframe tbody tr th {\n",
              "        vertical-align: top;\n",
              "    }\n",
              "\n",
              "    .dataframe thead th {\n",
              "        text-align: right;\n",
              "    }\n",
              "</style>\n",
              "<table border=\"1\" class=\"dataframe\">\n",
              "  <thead>\n",
              "    <tr style=\"text-align: right;\">\n",
              "      <th></th>\n",
              "      <th>model</th>\n",
              "      <th>loss</th>\n",
              "      <th>accuracy</th>\n",
              "      <th>val_loss</th>\n",
              "      <th>val_accuracy</th>\n",
              "      <th>test_loss</th>\n",
              "      <th>test_accuracy</th>\n",
              "      <th>training time (sec)</th>\n",
              "      <th>testing time (sec)</th>\n",
              "    </tr>\n",
              "  </thead>\n",
              "  <tbody>\n",
              "    <tr>\n",
              "      <th>19</th>\n",
              "      <td>CNN (3 layers)</td>\n",
              "      <td>0.313537</td>\n",
              "      <td>0.882982</td>\n",
              "      <td>0.275148</td>\n",
              "      <td>0.8946</td>\n",
              "      <td>0.303562</td>\n",
              "      <td>0.8888</td>\n",
              "      <td>66.862215</td>\n",
              "      <td>0.538814</td>\n",
              "    </tr>\n",
              "  </tbody>\n",
              "</table>\n",
              "</div>"
            ],
            "text/plain": [
              "             model      loss  ...  training time (sec)  testing time (sec)\n",
              "19  CNN (3 layers)  0.313537  ...            66.862215            0.538814\n",
              "\n",
              "[1 rows x 9 columns]"
            ]
          },
          "metadata": {
            "tags": []
          },
          "execution_count": 177
        }
      ]
    },
    {
      "cell_type": "code",
      "metadata": {
        "colab_type": "code",
        "outputId": "01f0f9d7-3a53-4971-f2b7-061da3b160d4",
        "id": "T1S65m2DKm13",
        "colab": {
          "base_uri": "https://localhost:8080/",
          "height": 369
        }
      },
      "source": [
        "results_df=results_df.append(results_df4,ignore_index=True)\n",
        "results_df"
      ],
      "execution_count": 178,
      "outputs": [
        {
          "output_type": "execute_result",
          "data": {
            "text/html": [
              "<div>\n",
              "<style scoped>\n",
              "    .dataframe tbody tr th:only-of-type {\n",
              "        vertical-align: middle;\n",
              "    }\n",
              "\n",
              "    .dataframe tbody tr th {\n",
              "        vertical-align: top;\n",
              "    }\n",
              "\n",
              "    .dataframe thead th {\n",
              "        text-align: right;\n",
              "    }\n",
              "</style>\n",
              "<table border=\"1\" class=\"dataframe\">\n",
              "  <thead>\n",
              "    <tr style=\"text-align: right;\">\n",
              "      <th></th>\n",
              "      <th>model</th>\n",
              "      <th>loss</th>\n",
              "      <th>accuracy</th>\n",
              "      <th>val_loss</th>\n",
              "      <th>val_accuracy</th>\n",
              "      <th>test_loss</th>\n",
              "      <th>test_accuracy</th>\n",
              "      <th>training time (sec)</th>\n",
              "      <th>testing time (sec)</th>\n",
              "    </tr>\n",
              "  </thead>\n",
              "  <tbody>\n",
              "    <tr>\n",
              "      <th>0</th>\n",
              "      <td>DNN (2 layers)</td>\n",
              "      <td>0.222847</td>\n",
              "      <td>0.915909</td>\n",
              "      <td>0.280405</td>\n",
              "      <td>0.8982</td>\n",
              "      <td>0.316551</td>\n",
              "      <td>0.8879</td>\n",
              "      <td>30.854909</td>\n",
              "      <td>0.451103</td>\n",
              "    </tr>\n",
              "    <tr>\n",
              "      <th>1</th>\n",
              "      <td>DNN (3 layers)</td>\n",
              "      <td>0.180324</td>\n",
              "      <td>0.931709</td>\n",
              "      <td>0.292309</td>\n",
              "      <td>0.8988</td>\n",
              "      <td>0.324738</td>\n",
              "      <td>0.8920</td>\n",
              "      <td>33.153875</td>\n",
              "      <td>0.428712</td>\n",
              "    </tr>\n",
              "    <tr>\n",
              "      <th>2</th>\n",
              "      <td>CNN (2 layers)</td>\n",
              "      <td>0.143708</td>\n",
              "      <td>0.945273</td>\n",
              "      <td>0.206207</td>\n",
              "      <td>0.9260</td>\n",
              "      <td>0.232740</td>\n",
              "      <td>0.9206</td>\n",
              "      <td>61.345303</td>\n",
              "      <td>0.541184</td>\n",
              "    </tr>\n",
              "    <tr>\n",
              "      <th>3</th>\n",
              "      <td>CNN (3 layers)</td>\n",
              "      <td>0.313537</td>\n",
              "      <td>0.882982</td>\n",
              "      <td>0.275148</td>\n",
              "      <td>0.8946</td>\n",
              "      <td>0.303562</td>\n",
              "      <td>0.8888</td>\n",
              "      <td>66.862215</td>\n",
              "      <td>0.538814</td>\n",
              "    </tr>\n",
              "  </tbody>\n",
              "</table>\n",
              "</div>"
            ],
            "text/plain": [
              "            model      loss  ...  training time (sec)  testing time (sec)\n",
              "0  DNN (2 layers)  0.222847  ...            30.854909            0.451103\n",
              "1  DNN (3 layers)  0.180324  ...            33.153875            0.428712\n",
              "2  CNN (2 layers)  0.143708  ...            61.345303            0.541184\n",
              "3  CNN (3 layers)  0.313537  ...            66.862215            0.538814\n",
              "\n",
              "[4 rows x 9 columns]"
            ]
          },
          "metadata": {
            "tags": []
          },
          "execution_count": 178
        }
      ]
    },
    {
      "cell_type": "code",
      "metadata": {
        "id": "XWM4qdIdBjjM",
        "colab_type": "code",
        "colab": {}
      },
      "source": [
        "#Export results dataframe\n",
        "\n",
        "from google.colab import files\n",
        "\n",
        "results_df.to_csv('A2_Dropout025all.csv')\n",
        "files.download('A2_Dropout025all.csv')"
      ],
      "execution_count": 0,
      "outputs": []
    },
    {
      "cell_type": "markdown",
      "metadata": {
        "colab_type": "text",
        "id": "bRWJleMLKm16"
      },
      "source": [
        "## Plotting the performance "
      ]
    },
    {
      "cell_type": "code",
      "metadata": {
        "colab_type": "code",
        "id": "FpR4gakrKm17",
        "colab": {}
      },
      "source": [
        "import matplotlib.pyplot as plt\n",
        "\n",
        "acc = history.history['accuracy']\n",
        "val_acc = history.history['val_accuracy']\n",
        "loss = history.history['loss']\n",
        "val_loss = history.history['val_loss']\n",
        "\n",
        "epochs = range(1, len(acc) + 1)\n",
        "\n",
        "# \"bo\" is for \"blue dot\"\n",
        "plt.plot(epochs, loss, 'bo', label='Training loss')\n",
        "# b is for \"solid blue line\"\n",
        "plt.plot(epochs, val_loss, 'b', label='Validation loss')\n",
        "plt.title('Training and validation loss')\n",
        "\n",
        "plt.xlabel('Epochs')\n",
        "plt.ylabel('Loss')\n",
        "plt.legend()\n",
        "\n",
        "plt.show()"
      ],
      "execution_count": 0,
      "outputs": []
    },
    {
      "cell_type": "code",
      "metadata": {
        "colab_type": "code",
        "id": "ivFuo_99Km19",
        "colab": {}
      },
      "source": [
        "plt.clf()   # clear figure\n",
        "acc_values = history_dict['accuracy']\n",
        "# val_acc_values = history_dict['val_acc']\n",
        "\n",
        "plt.plot(epochs, acc, 'bo', label='Training acc')\n",
        "plt.plot(epochs, val_acc, 'b', label='Validation acc')\n",
        "plt.title('Training and validation accuracy')\n",
        "\n",
        "plt.xlabel('Epochs')\n",
        "plt.ylabel('Accuracy')\n",
        "plt.legend()\n",
        "\n",
        "plt.show()"
      ],
      "execution_count": 0,
      "outputs": []
    },
    {
      "cell_type": "code",
      "metadata": {
        "colab_type": "code",
        "id": "xCUUXs5GKm2A",
        "colab": {}
      },
      "source": [
        "# save the model\n",
        "model.save(\"experiment4_dropout\")"
      ],
      "execution_count": 0,
      "outputs": []
    },
    {
      "cell_type": "code",
      "metadata": {
        "id": "RKA1-kQoFR0w",
        "colab_type": "code",
        "colab": {}
      },
      "source": [
        ""
      ],
      "execution_count": 0,
      "outputs": []
    },
    {
      "cell_type": "code",
      "metadata": {
        "id": "D6Rkb14lFRtZ",
        "colab_type": "code",
        "colab": {}
      },
      "source": [
        ""
      ],
      "execution_count": 0,
      "outputs": []
    }
  ]
}