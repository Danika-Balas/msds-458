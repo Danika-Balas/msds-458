{
  "nbformat": 4,
  "nbformat_minor": 0,
  "metadata": {
    "colab": {
      "name": "458_Assignment1_Expt3.ipynb",
      "provenance": [],
      "authorship_tag": "ABX9TyOw/4hPPLmAlwnoacbk/A0D",
      "include_colab_link": true
    },
    "kernelspec": {
      "name": "python3",
      "display_name": "Python 3"
    },
    "accelerator": "GPU"
  },
  "cells": [
    {
      "cell_type": "markdown",
      "metadata": {
        "id": "view-in-github",
        "colab_type": "text"
      },
      "source": [
        "<a href=\"https://colab.research.google.com/github/Danika-Balas/msds-458/blob/master/458_Assignment1_Expt3_h1-85_h2-range100-800.ipynb\" target=\"_parent\"><img src=\"https://colab.research.google.com/assets/colab-badge.svg\" alt=\"Open In Colab\"/></a>"
      ]
    },
    {
      "cell_type": "markdown",
      "metadata": {
        "id": "tlSigYwlVuKR",
        "colab_type": "text"
      },
      "source": [
        "##Setup and Preprocessing"
      ]
    },
    {
      "cell_type": "code",
      "metadata": {
        "id": "_D8jpVsoTpY4",
        "colab_type": "code",
        "outputId": "4947aaf7-f12c-46a7-9cc8-d27205c43ba4",
        "colab": {
          "base_uri": "https://localhost:8080/",
          "height": 88
        }
      },
      "source": [
        "import numpy as np\n",
        "import pandas as pd\n",
        "\n",
        "import seaborn as sns\n",
        "import matplotlib.pyplot as plt\n",
        "%matplotlib inline\n",
        "sns.set(style=\"whitegrid\")\n",
        "\n",
        "from sklearn import metrics\n",
        "\n",
        "import tensorflow as tf\n",
        "from tensorflow import keras\n",
        "keras.__version__"
      ],
      "execution_count": 1,
      "outputs": [
        {
          "output_type": "stream",
          "text": [
            "/usr/local/lib/python3.6/dist-packages/statsmodels/tools/_testing.py:19: FutureWarning: pandas.util.testing is deprecated. Use the functions in the public API at pandas.testing instead.\n",
            "  import pandas.util.testing as tm\n"
          ],
          "name": "stderr"
        },
        {
          "output_type": "execute_result",
          "data": {
            "text/plain": [
              "'2.3.0-tf'"
            ]
          },
          "metadata": {
            "tags": []
          },
          "execution_count": 1
        }
      ]
    },
    {
      "cell_type": "code",
      "metadata": {
        "id": "tZZtq6bpWITd",
        "colab_type": "code",
        "outputId": "f0b35059-4804-4502-a966-0901b2506f74",
        "colab": {
          "base_uri": "https://localhost:8080/",
          "height": 34
        }
      },
      "source": [
        "tf.__version__"
      ],
      "execution_count": 2,
      "outputs": [
        {
          "output_type": "execute_result",
          "data": {
            "text/plain": [
              "'2.2.0-rc3'"
            ]
          },
          "metadata": {
            "tags": []
          },
          "execution_count": 2
        }
      ]
    },
    {
      "cell_type": "code",
      "metadata": {
        "id": "Rp2_1vRkVgVJ",
        "colab_type": "code",
        "colab": {
          "base_uri": "https://localhost:8080/",
          "height": 34
        },
        "outputId": "1b6ce9fd-739b-43b2-a798-3af59c189e76"
      },
      "source": [
        "from keras import metrics"
      ],
      "execution_count": 3,
      "outputs": [
        {
          "output_type": "stream",
          "text": [
            "Using TensorFlow backend.\n"
          ],
          "name": "stderr"
        }
      ]
    },
    {
      "cell_type": "code",
      "metadata": {
        "id": "BO5dsO7-WLFE",
        "colab_type": "code",
        "colab": {}
      },
      "source": [
        "# neccessary for K.gradient to work in TensorFlow 2.x\n",
        "# only needed for the \"Finding a pattern the hidden node maximally responds to\" section below.\n",
        "# but disabled to make Tensorboard work...\n",
        "tf.compat.v1.disable_eager_execution() "
      ],
      "execution_count": 0,
      "outputs": []
    },
    {
      "cell_type": "code",
      "metadata": {
        "id": "fTtBYXtHWztP",
        "colab_type": "code",
        "colab": {}
      },
      "source": [
        "# Set see in order to achieve consistent results across runs\n",
        "keras.backend.clear_session()\n",
        "np.random.seed(42)\n",
        "tf.random.set_seed(42)"
      ],
      "execution_count": 0,
      "outputs": []
    },
    {
      "cell_type": "markdown",
      "metadata": {
        "id": "wpqFxPDEXFup",
        "colab_type": "text"
      },
      "source": [
        "####Import MNIST dataset"
      ]
    },
    {
      "cell_type": "code",
      "metadata": {
        "id": "65M8kDjCXA0p",
        "colab_type": "code",
        "colab": {}
      },
      "source": [
        "from tensorflow.keras.datasets import mnist\n",
        "(train_images, train_labels), (test_images, test_labels) = mnist.load_data()"
      ],
      "execution_count": 0,
      "outputs": []
    },
    {
      "cell_type": "code",
      "metadata": {
        "id": "5ye8BcA0XYvH",
        "colab_type": "code",
        "outputId": "1696a01d-2e8c-49a9-fd92-07401aff86d0",
        "colab": {
          "base_uri": "https://localhost:8080/",
          "height": 34
        }
      },
      "source": [
        "train_images.shape, test_images.shape, test_labels.shape, test_labels.shape"
      ],
      "execution_count": 7,
      "outputs": [
        {
          "output_type": "execute_result",
          "data": {
            "text/plain": [
              "((60000, 28, 28), (10000, 28, 28), (10000,), (10000,))"
            ]
          },
          "metadata": {
            "tags": []
          },
          "execution_count": 7
        }
      ]
    },
    {
      "cell_type": "code",
      "metadata": {
        "id": "M5gJtcFsOpHi",
        "colab_type": "code",
        "outputId": "ea6692cd-9aba-4673-9173-e8f14119a808",
        "colab": {
          "base_uri": "https://localhost:8080/",
          "height": 34
        }
      },
      "source": [
        "#Store copy of training images in order to easily view images even after transformation are performed\n",
        "example_train_images = train_images.copy()\n",
        "example_train_images.shape"
      ],
      "execution_count": 8,
      "outputs": [
        {
          "output_type": "execute_result",
          "data": {
            "text/plain": [
              "(60000, 28, 28)"
            ]
          },
          "metadata": {
            "tags": []
          },
          "execution_count": 8
        }
      ]
    },
    {
      "cell_type": "code",
      "metadata": {
        "id": "jJIB5WuVXwK2",
        "colab_type": "code",
        "outputId": "b42b1bfe-d402-405d-9e79-d2b81cd598fe",
        "colab": {
          "base_uri": "https://localhost:8080/",
          "height": 268
        }
      },
      "source": [
        "# Example of a single sample, a 28x28 pixel image of a handwritten digit\n",
        "digit = example_train_images[2]\n",
        "\n",
        "plt.imshow(digit, cmap=plt.cm.binary)\n",
        "plt.show()"
      ],
      "execution_count": 9,
      "outputs": [
        {
          "output_type": "display_data",
          "data": {
            "image/png": "[encoded data removed]",
            "text/plain": [
              "<Figure size 432x288 with 1 Axes>"
            ]
          },
          "metadata": {
            "tags": [],
            "needs_background": "light"
          }
        }
      ]
    },
    {
      "cell_type": "markdown",
      "metadata": {
        "id": "Nsn_iI4MqBtg",
        "colab_type": "text"
      },
      "source": [
        "####Prepare the data"
      ]
    },
    {
      "cell_type": "code",
      "metadata": {
        "id": "9ME7Vm7GYCwq",
        "colab_type": "code",
        "colab": {}
      },
      "source": [
        "# Reshape the data into the shape that the network expects\n",
        "train_images = train_images.reshape((60000, 28 * 28))\n",
        "\n",
        "# Scale the data to [0,1] interval\n",
        "train_images = train_images.astype('float32') / 255\n",
        "\n",
        "# Do the same for the test dataset\n",
        "test_images = test_images.reshape((10000, 28 * 28))\n",
        "test_images = test_images.astype('float32') / 255"
      ],
      "execution_count": 0,
      "outputs": []
    },
    {
      "cell_type": "code",
      "metadata": {
        "id": "ElgA23UFq0lB",
        "colab_type": "code",
        "colab": {}
      },
      "source": [
        "# Split training data into training set and validation set\n",
        "val_images, train_images = train_images[:5000], train_images[5000:]\n",
        "val_labels, train_labels = train_labels[:5000], train_labels[5000:]"
      ],
      "execution_count": 0,
      "outputs": []
    },
    {
      "cell_type": "markdown",
      "metadata": {
        "id": "fmDzWxIu78_L",
        "colab_type": "text"
      },
      "source": [
        "#Experiment 3"
      ]
    },
    {
      "cell_type": "markdown",
      "metadata": {
        "id": "x5_ueNa18nef",
        "colab_type": "text"
      },
      "source": [
        "We will fine-tune the hyperparameters of the model until we find the 'best' model according to our selected metrics"
      ]
    },
    {
      "cell_type": "code",
      "metadata": {
        "id": "DqLphCVo8D9c",
        "colab_type": "code",
        "colab": {}
      },
      "source": [
        "# Function builds models with 1 hidden layer (by default), then the same number of nodes in each hidden layer\n",
        "from tensorflow.keras import models\n",
        "from tensorflow.keras import layers\n",
        "\n",
        "def build_model(n_hidden=1, n_neurons=2, learning_rate=0.001, input_shape=(28 * 28,)):\n",
        "    model = models.Sequential()\n",
        "    model.add(layers.InputLayer(input_shape=input_shape))\n",
        "    model.add(keras.layers.Dense(85, activation=\"relu\"))\n",
        "    for layer in range(n_hidden):\n",
        "        model.add(keras.layers.Dense(n_neurons, activation=\"relu\"))\n",
        "    model.add(keras.layers.Dropout(0.25))\n",
        "    model.add(layers.Dense(10, activation='softmax'))\n",
        "    optimizer = keras.optimizers.Adam(lr=learning_rate)\n",
        "    model.compile(loss='sparse_categorical_crossentropy', optimizer=optimizer,  metrics=['accuracy'])\n",
        "    return model"
      ],
      "execution_count": 0,
      "outputs": []
    },
    {
      "cell_type": "code",
      "metadata": {
        "id": "P8yORVMj93Hv",
        "colab_type": "code",
        "colab": {}
      },
      "source": [
        "# This function builds models with varying number of nodes in each hidden layer\n",
        "def build_model2(n_neurons=(2,3), learning_rate=0.001, input_shape=(28 * 28,)):\n",
        "    model = models.Sequential()\n",
        "    model.add(layers.InputLayer(input_shape=input_shape))\n",
        "    for layer in range(len(n_neurons)):\n",
        "        model.add(keras.layers.Dense(n_neurons[layer], activation=\"relu\"))\n",
        "    model.add(layers.Dense(10, activation='softmax'))\n",
        "    optimizer = keras.optimizers.Adam(lr=learning_rate)\n",
        "    model.compile(loss='sparse_categorical_crossentropy', optimizer=optimizer,  metrics=['accuracy'])\n",
        "    return model"
      ],
      "execution_count": 0,
      "outputs": []
    },
    {
      "cell_type": "code",
      "metadata": {
        "id": "m40FBZQsFRlD",
        "colab_type": "code",
        "colab": {}
      },
      "source": [
        "from tensorflow.keras.wrappers.scikit_learn import KerasClassifier\n",
        "keras_clf = KerasClassifier(build_model)"
      ],
      "execution_count": 0,
      "outputs": []
    },
    {
      "cell_type": "code",
      "metadata": {
        "id": "n3DYgnj-FY6k",
        "colab_type": "code",
        "outputId": "60b8eede-3508-4972-d80f-488d209dea74",
        "colab": {
          "base_uri": "https://localhost:8080/",
          "height": 34
        }
      },
      "source": [
        "param_grid = {'n_neurons': range(100,900,100)}\n",
        "param_grid"
      ],
      "execution_count": 15,
      "outputs": [
        {
          "output_type": "execute_result",
          "data": {
            "text/plain": [
              "{'n_neurons': range(100, 900, 100)}"
            ]
          },
          "metadata": {
            "tags": []
          },
          "execution_count": 15
        }
      ]
    },
    {
      "cell_type": "markdown",
      "metadata": {
        "id": "elLBPW5OF27j",
        "colab_type": "text"
      },
      "source": [
        "Use grid search to train models with different combinations of parameter values"
      ]
    },
    {
      "cell_type": "code",
      "metadata": {
        "id": "crzvlHtkNm3n",
        "colab_type": "code",
        "colab": {
          "base_uri": "https://localhost:8080/",
          "height": 1000
        },
        "outputId": "4811f060-1c42-40ee-ac95-0d55ba9dcfd7"
      },
      "source": [
        "from sklearn.model_selection import GridSearchCV\n",
        "\n",
        "grid_cv = GridSearchCV(estimator=keras_clf, param_grid=param_grid,cv=3,verbose = 2)\n",
        "grid_cv.fit(train_images, train_labels, epochs=30,\n",
        "                  validation_data=(val_images, val_labels),\n",
        "                  callbacks=[keras.callbacks.EarlyStopping(patience=2)])"
      ],
      "execution_count": 16,
      "outputs": [
        {
          "output_type": "stream",
          "text": [
            "Fitting 3 folds for each of 8 candidates, totalling 24 fits\n",
            "[CV] n_neurons=100 ...................................................\n",
            "WARNING:tensorflow:From /usr/local/lib/python3.6/dist-packages/tensorflow/python/ops/resource_variable_ops.py:1666: calling BaseResourceVariable.__init__ (from tensorflow.python.ops.resource_variable_ops) with constraint is deprecated and will be removed in a future version.\n",
            "Instructions for updating:\n",
            "If using Keras pass *_constraint arguments to layers.\n"
          ],
          "name": "stdout"
        },
        {
          "output_type": "stream",
          "text": [
            "[Parallel(n_jobs=1)]: Using backend SequentialBackend with 1 concurrent workers.\n"
          ],
          "name": "stderr"
        },
        {
          "output_type": "stream",
          "text": [
            "Train on 36666 samples, validate on 5000 samples\n",
            "Epoch 1/30\n",
            "36666/36666 [==============================] - 4s 116us/sample - loss: 0.3631 - accuracy: 0.8916 - val_loss: 0.1634 - val_accuracy: 0.9530\n",
            "Epoch 2/30\n",
            "36666/36666 [==============================] - 4s 115us/sample - loss: 0.1609 - accuracy: 0.9509 - val_loss: 0.1463 - val_accuracy: 0.9584\n",
            "Epoch 3/30\n",
            "36666/36666 [==============================] - 5s 124us/sample - loss: 0.1172 - accuracy: 0.9650 - val_loss: 0.1112 - val_accuracy: 0.9664\n",
            "Epoch 4/30\n",
            "36666/36666 [==============================] - 4s 111us/sample - loss: 0.0911 - accuracy: 0.9714 - val_loss: 0.1061 - val_accuracy: 0.9712\n",
            "Epoch 5/30\n",
            "36666/36666 [==============================] - 4s 113us/sample - loss: 0.0747 - accuracy: 0.9757 - val_loss: 0.1072 - val_accuracy: 0.9702\n",
            "Epoch 6/30\n",
            "36666/36666 [==============================] - 4s 112us/sample - loss: 0.0634 - accuracy: 0.9789 - val_loss: 0.0883 - val_accuracy: 0.9736\n",
            "Epoch 7/30\n",
            "36666/36666 [==============================] - 4s 113us/sample - loss: 0.0522 - accuracy: 0.9835 - val_loss: 0.1048 - val_accuracy: 0.9726\n",
            "Epoch 8/30\n",
            "36666/36666 [==============================] - 4s 111us/sample - loss: 0.0455 - accuracy: 0.9857 - val_loss: 0.0897 - val_accuracy: 0.9762\n",
            "[CV] .................................... n_neurons=100, total=  37.3s\n",
            "[CV] n_neurons=100 ...................................................\n"
          ],
          "name": "stdout"
        },
        {
          "output_type": "stream",
          "text": [
            "[Parallel(n_jobs=1)]: Done   1 out of   1 | elapsed:   37.3s remaining:    0.0s\n"
          ],
          "name": "stderr"
        },
        {
          "output_type": "stream",
          "text": [
            "Train on 36667 samples, validate on 5000 samples\n",
            "Epoch 1/30\n",
            "36667/36667 [==============================] - 4s 114us/sample - loss: 0.3594 - accuracy: 0.8951 - val_loss: 0.1573 - val_accuracy: 0.9504\n",
            "Epoch 2/30\n",
            "36667/36667 [==============================] - 4s 114us/sample - loss: 0.1580 - accuracy: 0.9535 - val_loss: 0.1284 - val_accuracy: 0.9612\n",
            "Epoch 3/30\n",
            "36667/36667 [==============================] - 4s 111us/sample - loss: 0.1117 - accuracy: 0.9669 - val_loss: 0.1038 - val_accuracy: 0.9696\n",
            "Epoch 4/30\n",
            "36667/36667 [==============================] - 4s 111us/sample - loss: 0.0875 - accuracy: 0.9717 - val_loss: 0.1061 - val_accuracy: 0.9670\n",
            "Epoch 5/30\n",
            "36667/36667 [==============================] - 4s 118us/sample - loss: 0.0711 - accuracy: 0.9768 - val_loss: 0.0927 - val_accuracy: 0.9736\n",
            "Epoch 6/30\n",
            "36667/36667 [==============================] - 4s 118us/sample - loss: 0.0585 - accuracy: 0.9813 - val_loss: 0.0878 - val_accuracy: 0.9748\n",
            "Epoch 7/30\n",
            "36667/36667 [==============================] - 4s 114us/sample - loss: 0.0513 - accuracy: 0.9836 - val_loss: 0.1021 - val_accuracy: 0.9710\n",
            "Epoch 8/30\n",
            "36667/36667 [==============================] - 4s 114us/sample - loss: 0.0409 - accuracy: 0.9858 - val_loss: 0.0866 - val_accuracy: 0.9760\n",
            "Epoch 9/30\n",
            "36667/36667 [==============================] - 4s 121us/sample - loss: 0.0366 - accuracy: 0.9880 - val_loss: 0.0925 - val_accuracy: 0.9760\n",
            "Epoch 10/30\n",
            "36667/36667 [==============================] - 4s 122us/sample - loss: 0.0338 - accuracy: 0.9887 - val_loss: 0.1093 - val_accuracy: 0.9748\n",
            "[CV] .................................... n_neurons=100, total=  44.0s\n",
            "[CV] n_neurons=100 ...................................................\n",
            "Train on 36667 samples, validate on 5000 samples\n",
            "Epoch 1/30\n",
            "36667/36667 [==============================] - 4s 115us/sample - loss: 0.3632 - accuracy: 0.8922 - val_loss: 0.1455 - val_accuracy: 0.9578\n",
            "Epoch 2/30\n",
            "36667/36667 [==============================] - 4s 110us/sample - loss: 0.1554 - accuracy: 0.9533 - val_loss: 0.1134 - val_accuracy: 0.9666\n",
            "Epoch 3/30\n",
            "36667/36667 [==============================] - 4s 112us/sample - loss: 0.1096 - accuracy: 0.9660 - val_loss: 0.0948 - val_accuracy: 0.9738\n",
            "Epoch 4/30\n",
            "36667/36667 [==============================] - 4s 111us/sample - loss: 0.0874 - accuracy: 0.9714 - val_loss: 0.0947 - val_accuracy: 0.9716\n",
            "Epoch 5/30\n",
            "36667/36667 [==============================] - 4s 119us/sample - loss: 0.0695 - accuracy: 0.9782 - val_loss: 0.0962 - val_accuracy: 0.9740\n",
            "Epoch 6/30\n",
            "36667/36667 [==============================] - 4s 122us/sample - loss: 0.0588 - accuracy: 0.9813 - val_loss: 0.0895 - val_accuracy: 0.9748\n",
            "Epoch 7/30\n",
            "36667/36667 [==============================] - 4s 118us/sample - loss: 0.0496 - accuracy: 0.9843 - val_loss: 0.0865 - val_accuracy: 0.9752\n",
            "Epoch 8/30\n",
            "36667/36667 [==============================] - 4s 114us/sample - loss: 0.0425 - accuracy: 0.9866 - val_loss: 0.0928 - val_accuracy: 0.9748\n",
            "Epoch 9/30\n",
            "36667/36667 [==============================] - 4s 114us/sample - loss: 0.0356 - accuracy: 0.9884 - val_loss: 0.0944 - val_accuracy: 0.9760\n",
            "[CV] .................................... n_neurons=100, total=  39.6s\n",
            "[CV] n_neurons=200 ...................................................\n",
            "Train on 36666 samples, validate on 5000 samples\n",
            "Epoch 1/30\n",
            "36666/36666 [==============================] - 4s 117us/sample - loss: 0.3411 - accuracy: 0.8978 - val_loss: 0.1499 - val_accuracy: 0.9544\n",
            "Epoch 2/30\n",
            "36666/36666 [==============================] - 4s 113us/sample - loss: 0.1460 - accuracy: 0.9552 - val_loss: 0.1287 - val_accuracy: 0.9604\n",
            "Epoch 3/30\n",
            "36666/36666 [==============================] - 4s 113us/sample - loss: 0.1039 - accuracy: 0.9690 - val_loss: 0.0952 - val_accuracy: 0.9700\n",
            "Epoch 4/30\n",
            "36666/36666 [==============================] - 4s 117us/sample - loss: 0.0789 - accuracy: 0.9751 - val_loss: 0.0916 - val_accuracy: 0.9722\n",
            "Epoch 5/30\n",
            "36666/36666 [==============================] - 4s 113us/sample - loss: 0.0597 - accuracy: 0.9811 - val_loss: 0.1077 - val_accuracy: 0.9682\n",
            "Epoch 6/30\n",
            "36666/36666 [==============================] - 4s 113us/sample - loss: 0.0510 - accuracy: 0.9832 - val_loss: 0.1003 - val_accuracy: 0.9718\n",
            "[CV] .................................... n_neurons=200, total=  26.8s\n",
            "[CV] n_neurons=200 ...................................................\n",
            "Train on 36667 samples, validate on 5000 samples\n",
            "Epoch 1/30\n",
            "36667/36667 [==============================] - 4s 118us/sample - loss: 0.3340 - accuracy: 0.8991 - val_loss: 0.1524 - val_accuracy: 0.9578\n",
            "Epoch 2/30\n",
            "36667/36667 [==============================] - 4s 114us/sample - loss: 0.1467 - accuracy: 0.9562 - val_loss: 0.1105 - val_accuracy: 0.9644\n",
            "Epoch 3/30\n",
            "36667/36667 [==============================] - 4s 114us/sample - loss: 0.1050 - accuracy: 0.9668 - val_loss: 0.1008 - val_accuracy: 0.9694\n",
            "Epoch 4/30\n",
            "36667/36667 [==============================] - 4s 113us/sample - loss: 0.0797 - accuracy: 0.9749 - val_loss: 0.1001 - val_accuracy: 0.9716\n",
            "Epoch 5/30\n",
            "36667/36667 [==============================] - 5s 123us/sample - loss: 0.0659 - accuracy: 0.9793 - val_loss: 0.0858 - val_accuracy: 0.9746\n",
            "Epoch 6/30\n",
            "36667/36667 [==============================] - 4s 115us/sample - loss: 0.0525 - accuracy: 0.9830 - val_loss: 0.1036 - val_accuracy: 0.9716\n",
            "Epoch 7/30\n",
            "36667/36667 [==============================] - 4s 114us/sample - loss: 0.0440 - accuracy: 0.9854 - val_loss: 0.1054 - val_accuracy: 0.9728\n",
            "[CV] .................................... n_neurons=200, total=  31.5s\n",
            "[CV] n_neurons=200 ...................................................\n",
            "Train on 36667 samples, validate on 5000 samples\n",
            "Epoch 1/30\n",
            "36667/36667 [==============================] - 4s 117us/sample - loss: 0.3329 - accuracy: 0.9005 - val_loss: 0.1541 - val_accuracy: 0.9538\n",
            "Epoch 2/30\n",
            "36667/36667 [==============================] - 4s 114us/sample - loss: 0.1424 - accuracy: 0.9579 - val_loss: 0.1066 - val_accuracy: 0.9684\n",
            "Epoch 3/30\n",
            "36667/36667 [==============================] - 4s 113us/sample - loss: 0.0995 - accuracy: 0.9689 - val_loss: 0.0941 - val_accuracy: 0.9700\n",
            "Epoch 4/30\n",
            "36667/36667 [==============================] - 4s 119us/sample - loss: 0.0761 - accuracy: 0.9766 - val_loss: 0.0932 - val_accuracy: 0.9732\n",
            "Epoch 5/30\n",
            "36667/36667 [==============================] - 4s 119us/sample - loss: 0.0582 - accuracy: 0.9808 - val_loss: 0.0944 - val_accuracy: 0.9720\n",
            "Epoch 6/30\n",
            "36667/36667 [==============================] - 5s 125us/sample - loss: 0.0497 - accuracy: 0.9840 - val_loss: 0.1011 - val_accuracy: 0.9728\n",
            "[CV] .................................... n_neurons=200, total=  27.8s\n",
            "[CV] n_neurons=300 ...................................................\n",
            "Train on 36666 samples, validate on 5000 samples\n",
            "Epoch 1/30\n",
            "36666/36666 [==============================] - 5s 129us/sample - loss: 0.3134 - accuracy: 0.9053 - val_loss: 0.1451 - val_accuracy: 0.9566\n",
            "Epoch 2/30\n",
            "36666/36666 [==============================] - 4s 120us/sample - loss: 0.1327 - accuracy: 0.9593 - val_loss: 0.1254 - val_accuracy: 0.9640\n",
            "Epoch 3/30\n",
            "36666/36666 [==============================] - 5s 129us/sample - loss: 0.0911 - accuracy: 0.9717 - val_loss: 0.1058 - val_accuracy: 0.9682\n",
            "Epoch 4/30\n",
            "36666/36666 [==============================] - 5s 130us/sample - loss: 0.0705 - accuracy: 0.9768 - val_loss: 0.0896 - val_accuracy: 0.9740\n",
            "Epoch 5/30\n",
            "36666/36666 [==============================] - 4s 118us/sample - loss: 0.0581 - accuracy: 0.9816 - val_loss: 0.1017 - val_accuracy: 0.9716\n",
            "Epoch 6/30\n",
            "36666/36666 [==============================] - 4s 119us/sample - loss: 0.0495 - accuracy: 0.9841 - val_loss: 0.1017 - val_accuracy: 0.9722\n",
            "[CV] .................................... n_neurons=300, total=  29.2s\n",
            "[CV] n_neurons=300 ...................................................\n",
            "Train on 36667 samples, validate on 5000 samples\n",
            "Epoch 1/30\n",
            "36667/36667 [==============================] - 5s 127us/sample - loss: 0.3122 - accuracy: 0.9063 - val_loss: 0.1512 - val_accuracy: 0.9584\n",
            "Epoch 2/30\n",
            "36667/36667 [==============================] - 4s 116us/sample - loss: 0.1341 - accuracy: 0.9602 - val_loss: 0.1134 - val_accuracy: 0.9674\n",
            "Epoch 3/30\n",
            "36667/36667 [==============================] - 4s 117us/sample - loss: 0.0930 - accuracy: 0.9712 - val_loss: 0.0953 - val_accuracy: 0.9734\n",
            "Epoch 4/30\n",
            "36667/36667 [==============================] - 4s 114us/sample - loss: 0.0706 - accuracy: 0.9774 - val_loss: 0.0945 - val_accuracy: 0.9744\n",
            "Epoch 5/30\n",
            "36667/36667 [==============================] - 4s 119us/sample - loss: 0.0579 - accuracy: 0.9812 - val_loss: 0.1014 - val_accuracy: 0.9722\n",
            "Epoch 6/30\n",
            "36667/36667 [==============================] - 4s 115us/sample - loss: 0.0449 - accuracy: 0.9848 - val_loss: 0.0938 - val_accuracy: 0.9740\n",
            "Epoch 7/30\n",
            "36667/36667 [==============================] - 5s 123us/sample - loss: 0.0366 - accuracy: 0.9879 - val_loss: 0.0964 - val_accuracy: 0.9760\n",
            "Epoch 8/30\n",
            "36667/36667 [==============================] - 4s 115us/sample - loss: 0.0353 - accuracy: 0.9876 - val_loss: 0.1051 - val_accuracy: 0.9740\n",
            "[CV] .................................... n_neurons=300, total=  36.6s\n",
            "[CV] n_neurons=300 ...................................................\n",
            "Train on 36667 samples, validate on 5000 samples\n",
            "Epoch 1/30\n",
            "36667/36667 [==============================] - 5s 127us/sample - loss: 0.3238 - accuracy: 0.9024 - val_loss: 0.1388 - val_accuracy: 0.9600\n",
            "Epoch 2/30\n",
            "36667/36667 [==============================] - 4s 118us/sample - loss: 0.1367 - accuracy: 0.9582 - val_loss: 0.1037 - val_accuracy: 0.9690\n",
            "Epoch 3/30\n",
            "36667/36667 [==============================] - 4s 116us/sample - loss: 0.0955 - accuracy: 0.9700 - val_loss: 0.0919 - val_accuracy: 0.9748\n",
            "Epoch 4/30\n",
            "36667/36667 [==============================] - 4s 122us/sample - loss: 0.0741 - accuracy: 0.9765 - val_loss: 0.0904 - val_accuracy: 0.9714\n",
            "Epoch 5/30\n",
            "36667/36667 [==============================] - 4s 117us/sample - loss: 0.0569 - accuracy: 0.9816 - val_loss: 0.0943 - val_accuracy: 0.9730\n",
            "Epoch 6/30\n",
            "36667/36667 [==============================] - 5s 126us/sample - loss: 0.0472 - accuracy: 0.9843 - val_loss: 0.0927 - val_accuracy: 0.9762\n",
            "[CV] .................................... n_neurons=300, total=  28.5s\n",
            "[CV] n_neurons=400 ...................................................\n",
            "Train on 36666 samples, validate on 5000 samples\n",
            "Epoch 1/30\n",
            "36666/36666 [==============================] - 5s 129us/sample - loss: 0.3084 - accuracy: 0.9062 - val_loss: 0.1431 - val_accuracy: 0.9558\n",
            "Epoch 2/30\n",
            "36666/36666 [==============================] - 5s 125us/sample - loss: 0.1286 - accuracy: 0.9614 - val_loss: 0.1013 - val_accuracy: 0.9678\n",
            "Epoch 3/30\n",
            "36666/36666 [==============================] - 5s 127us/sample - loss: 0.0919 - accuracy: 0.9717 - val_loss: 0.1062 - val_accuracy: 0.9686\n",
            "Epoch 4/30\n",
            "36666/36666 [==============================] - 5s 132us/sample - loss: 0.0729 - accuracy: 0.9762 - val_loss: 0.0993 - val_accuracy: 0.9716\n",
            "Epoch 5/30\n",
            "36666/36666 [==============================] - 5s 128us/sample - loss: 0.0582 - accuracy: 0.9813 - val_loss: 0.1015 - val_accuracy: 0.9700\n",
            "Epoch 6/30\n",
            "36666/36666 [==============================] - 5s 128us/sample - loss: 0.0466 - accuracy: 0.9843 - val_loss: 0.0931 - val_accuracy: 0.9750\n",
            "Epoch 7/30\n",
            "36666/36666 [==============================] - 4s 121us/sample - loss: 0.0385 - accuracy: 0.9866 - val_loss: 0.0962 - val_accuracy: 0.9718\n",
            "Epoch 8/30\n",
            "36666/36666 [==============================] - 5s 134us/sample - loss: 0.0314 - accuracy: 0.9896 - val_loss: 0.0978 - val_accuracy: 0.9750\n",
            "[CV] .................................... n_neurons=400, total=  39.7s\n",
            "[CV] n_neurons=400 ...................................................\n",
            "Train on 36667 samples, validate on 5000 samples\n",
            "Epoch 1/30\n",
            "36667/36667 [==============================] - 5s 136us/sample - loss: 0.3092 - accuracy: 0.9090 - val_loss: 0.1490 - val_accuracy: 0.9560\n",
            "Epoch 2/30\n",
            "36667/36667 [==============================] - 5s 124us/sample - loss: 0.1320 - accuracy: 0.9599 - val_loss: 0.1140 - val_accuracy: 0.9648\n",
            "Epoch 3/30\n",
            "36667/36667 [==============================] - 5s 125us/sample - loss: 0.0917 - accuracy: 0.9716 - val_loss: 0.0939 - val_accuracy: 0.9716\n",
            "Epoch 4/30\n",
            "36667/36667 [==============================] - 5s 127us/sample - loss: 0.0688 - accuracy: 0.9776 - val_loss: 0.0894 - val_accuracy: 0.9748\n",
            "Epoch 5/30\n",
            "36667/36667 [==============================] - 4s 123us/sample - loss: 0.0558 - accuracy: 0.9819 - val_loss: 0.0923 - val_accuracy: 0.9714\n",
            "Epoch 6/30\n",
            "36667/36667 [==============================] - 5s 123us/sample - loss: 0.0451 - accuracy: 0.9852 - val_loss: 0.1097 - val_accuracy: 0.9716\n",
            "[CV] .................................... n_neurons=400, total=  30.0s\n",
            "[CV] n_neurons=400 ...................................................\n",
            "Train on 36667 samples, validate on 5000 samples\n",
            "Epoch 1/30\n",
            "36667/36667 [==============================] - 5s 139us/sample - loss: 0.3096 - accuracy: 0.9077 - val_loss: 0.1508 - val_accuracy: 0.9566\n",
            "Epoch 2/30\n",
            "36667/36667 [==============================] - 5s 128us/sample - loss: 0.1273 - accuracy: 0.9606 - val_loss: 0.1108 - val_accuracy: 0.9694\n",
            "Epoch 3/30\n",
            "36667/36667 [==============================] - 5s 125us/sample - loss: 0.0900 - accuracy: 0.9722 - val_loss: 0.0995 - val_accuracy: 0.9710\n",
            "Epoch 4/30\n",
            "36667/36667 [==============================] - 5s 130us/sample - loss: 0.0666 - accuracy: 0.9782 - val_loss: 0.1008 - val_accuracy: 0.9706\n",
            "Epoch 5/30\n",
            "36667/36667 [==============================] - 5s 126us/sample - loss: 0.0550 - accuracy: 0.9830 - val_loss: 0.0942 - val_accuracy: 0.9708\n",
            "Epoch 6/30\n",
            "36667/36667 [==============================] - 5s 124us/sample - loss: 0.0433 - accuracy: 0.9855 - val_loss: 0.1010 - val_accuracy: 0.9726\n",
            "Epoch 7/30\n",
            "36667/36667 [==============================] - 5s 123us/sample - loss: 0.0369 - accuracy: 0.9877 - val_loss: 0.1015 - val_accuracy: 0.9750\n",
            "[CV] .................................... n_neurons=400, total=  35.1s\n",
            "[CV] n_neurons=500 ...................................................\n",
            "Train on 36666 samples, validate on 5000 samples\n",
            "Epoch 1/30\n",
            "36666/36666 [==============================] - 5s 137us/sample - loss: 0.3077 - accuracy: 0.9077 - val_loss: 0.1400 - val_accuracy: 0.9564\n",
            "Epoch 2/30\n",
            "36666/36666 [==============================] - 5s 127us/sample - loss: 0.1335 - accuracy: 0.9597 - val_loss: 0.1145 - val_accuracy: 0.9654\n",
            "Epoch 3/30\n",
            "36666/36666 [==============================] - 5s 132us/sample - loss: 0.0924 - accuracy: 0.9713 - val_loss: 0.0988 - val_accuracy: 0.9704\n",
            "Epoch 4/30\n",
            "36666/36666 [==============================] - 5s 129us/sample - loss: 0.0676 - accuracy: 0.9786 - val_loss: 0.1083 - val_accuracy: 0.9686\n",
            "Epoch 5/30\n",
            "36666/36666 [==============================] - 5s 127us/sample - loss: 0.0579 - accuracy: 0.9811 - val_loss: 0.1005 - val_accuracy: 0.9698\n",
            "[CV] .................................... n_neurons=500, total=  26.2s\n",
            "[CV] n_neurons=500 ...................................................\n",
            "Train on 36667 samples, validate on 5000 samples\n",
            "Epoch 1/30\n",
            "36667/36667 [==============================] - 5s 138us/sample - loss: 0.3107 - accuracy: 0.9067 - val_loss: 0.1498 - val_accuracy: 0.9572\n",
            "Epoch 2/30\n",
            "36667/36667 [==============================] - 5s 128us/sample - loss: 0.1333 - accuracy: 0.9590 - val_loss: 0.0999 - val_accuracy: 0.9680\n",
            "Epoch 3/30\n",
            "36667/36667 [==============================] - 5s 125us/sample - loss: 0.0917 - accuracy: 0.9719 - val_loss: 0.0988 - val_accuracy: 0.9718\n",
            "Epoch 4/30\n",
            "36667/36667 [==============================] - 5s 131us/sample - loss: 0.0690 - accuracy: 0.9781 - val_loss: 0.1089 - val_accuracy: 0.9696\n",
            "Epoch 5/30\n",
            "36667/36667 [==============================] - 5s 127us/sample - loss: 0.0554 - accuracy: 0.9822 - val_loss: 0.0904 - val_accuracy: 0.9746\n",
            "Epoch 6/30\n",
            "36667/36667 [==============================] - 5s 129us/sample - loss: 0.0461 - accuracy: 0.9853 - val_loss: 0.0987 - val_accuracy: 0.9746\n",
            "Epoch 7/30\n",
            "36667/36667 [==============================] - 5s 130us/sample - loss: 0.0409 - accuracy: 0.9864 - val_loss: 0.0949 - val_accuracy: 0.9772\n",
            "[CV] .................................... n_neurons=500, total=  35.7s\n",
            "[CV] n_neurons=500 ...................................................\n",
            "Train on 36667 samples, validate on 5000 samples\n",
            "Epoch 1/30\n",
            "36667/36667 [==============================] - 5s 148us/sample - loss: 0.3011 - accuracy: 0.9104 - val_loss: 0.1646 - val_accuracy: 0.9524\n",
            "Epoch 2/30\n",
            "36667/36667 [==============================] - 5s 129us/sample - loss: 0.1294 - accuracy: 0.9609 - val_loss: 0.1116 - val_accuracy: 0.9656\n",
            "Epoch 3/30\n",
            "36667/36667 [==============================] - 5s 127us/sample - loss: 0.0904 - accuracy: 0.9717 - val_loss: 0.0980 - val_accuracy: 0.9672\n",
            "Epoch 4/30\n",
            "36667/36667 [==============================] - 5s 124us/sample - loss: 0.0669 - accuracy: 0.9790 - val_loss: 0.0930 - val_accuracy: 0.9716\n",
            "Epoch 5/30\n",
            "36667/36667 [==============================] - 5s 128us/sample - loss: 0.0531 - accuracy: 0.9824 - val_loss: 0.0873 - val_accuracy: 0.9772\n",
            "Epoch 6/30\n",
            "36667/36667 [==============================] - 5s 128us/sample - loss: 0.0448 - accuracy: 0.9851 - val_loss: 0.0921 - val_accuracy: 0.9740\n",
            "Epoch 7/30\n",
            "36667/36667 [==============================] - 5s 129us/sample - loss: 0.0371 - accuracy: 0.9877 - val_loss: 0.1006 - val_accuracy: 0.9728\n",
            "[CV] .................................... n_neurons=500, total=  36.0s\n",
            "[CV] n_neurons=600 ...................................................\n",
            "Train on 36666 samples, validate on 5000 samples\n",
            "Epoch 1/30\n",
            "36666/36666 [==============================] - 5s 138us/sample - loss: 0.3015 - accuracy: 0.9078 - val_loss: 0.1405 - val_accuracy: 0.9594\n",
            "Epoch 2/30\n",
            "36666/36666 [==============================] - 5s 140us/sample - loss: 0.1296 - accuracy: 0.9590 - val_loss: 0.1082 - val_accuracy: 0.9670\n",
            "Epoch 3/30\n",
            "36666/36666 [==============================] - 5s 129us/sample - loss: 0.0896 - accuracy: 0.9715 - val_loss: 0.1160 - val_accuracy: 0.9664\n",
            "Epoch 4/30\n",
            "36666/36666 [==============================] - 5s 131us/sample - loss: 0.0716 - accuracy: 0.9773 - val_loss: 0.1129 - val_accuracy: 0.9686\n",
            "[CV] .................................... n_neurons=600, total=  22.3s\n",
            "[CV] n_neurons=600 ...................................................\n",
            "Train on 36667 samples, validate on 5000 samples\n",
            "Epoch 1/30\n",
            "36667/36667 [==============================] - 6s 153us/sample - loss: 0.2976 - accuracy: 0.9105 - val_loss: 0.1557 - val_accuracy: 0.9544\n",
            "Epoch 2/30\n",
            "36667/36667 [==============================] - 5s 144us/sample - loss: 0.1322 - accuracy: 0.9595 - val_loss: 0.1070 - val_accuracy: 0.9674\n",
            "Epoch 3/30\n",
            "36667/36667 [==============================] - 5s 133us/sample - loss: 0.0930 - accuracy: 0.9715 - val_loss: 0.1200 - val_accuracy: 0.9606\n",
            "Epoch 4/30\n",
            "36667/36667 [==============================] - 5s 134us/sample - loss: 0.0697 - accuracy: 0.9777 - val_loss: 0.1050 - val_accuracy: 0.9684\n",
            "Epoch 5/30\n",
            "36667/36667 [==============================] - 5s 127us/sample - loss: 0.0574 - accuracy: 0.9814 - val_loss: 0.1093 - val_accuracy: 0.9688\n",
            "Epoch 6/30\n",
            "36667/36667 [==============================] - 5s 133us/sample - loss: 0.0450 - accuracy: 0.9854 - val_loss: 0.0956 - val_accuracy: 0.9742\n",
            "Epoch 7/30\n",
            "36667/36667 [==============================] - 5s 138us/sample - loss: 0.0385 - accuracy: 0.9870 - val_loss: 0.0961 - val_accuracy: 0.9750\n",
            "Epoch 8/30\n",
            "36667/36667 [==============================] - 5s 132us/sample - loss: 0.0341 - accuracy: 0.9883 - val_loss: 0.1130 - val_accuracy: 0.9742\n",
            "[CV] .................................... n_neurons=600, total=  42.8s\n",
            "[CV] n_neurons=600 ...................................................\n",
            "Train on 36667 samples, validate on 5000 samples\n",
            "Epoch 1/30\n",
            "36667/36667 [==============================] - 5s 145us/sample - loss: 0.2965 - accuracy: 0.9126 - val_loss: 0.1659 - val_accuracy: 0.9496\n",
            "Epoch 2/30\n",
            "36667/36667 [==============================] - 5s 133us/sample - loss: 0.1254 - accuracy: 0.9606 - val_loss: 0.1121 - val_accuracy: 0.9660\n",
            "Epoch 3/30\n",
            "36667/36667 [==============================] - 5s 130us/sample - loss: 0.0889 - accuracy: 0.9710 - val_loss: 0.0987 - val_accuracy: 0.9704\n",
            "Epoch 4/30\n",
            "36667/36667 [==============================] - 5s 130us/sample - loss: 0.0665 - accuracy: 0.9792 - val_loss: 0.1014 - val_accuracy: 0.9710\n",
            "Epoch 5/30\n",
            "36667/36667 [==============================] - 5s 131us/sample - loss: 0.0564 - accuracy: 0.9826 - val_loss: 0.1013 - val_accuracy: 0.9706\n",
            "[CV] .................................... n_neurons=600, total=  27.2s\n",
            "[CV] n_neurons=700 ...................................................\n",
            "Train on 36666 samples, validate on 5000 samples\n",
            "Epoch 1/30\n",
            "36666/36666 [==============================] - 5s 144us/sample - loss: 0.2950 - accuracy: 0.9120 - val_loss: 0.1229 - val_accuracy: 0.9642\n",
            "Epoch 2/30\n",
            "36666/36666 [==============================] - 5s 133us/sample - loss: 0.1259 - accuracy: 0.9612 - val_loss: 0.1148 - val_accuracy: 0.9662\n",
            "Epoch 3/30\n",
            "36666/36666 [==============================] - 5s 133us/sample - loss: 0.0880 - accuracy: 0.9718 - val_loss: 0.1058 - val_accuracy: 0.9708\n",
            "Epoch 4/30\n",
            "36666/36666 [==============================] - 5s 130us/sample - loss: 0.0675 - accuracy: 0.9782 - val_loss: 0.0873 - val_accuracy: 0.9770\n",
            "Epoch 5/30\n",
            "36666/36666 [==============================] - 5s 132us/sample - loss: 0.0558 - accuracy: 0.9822 - val_loss: 0.0971 - val_accuracy: 0.9736\n",
            "Epoch 6/30\n",
            "36666/36666 [==============================] - 5s 130us/sample - loss: 0.0465 - accuracy: 0.9845 - val_loss: 0.1397 - val_accuracy: 0.9670\n",
            "[CV] .................................... n_neurons=700, total=  32.2s\n",
            "[CV] n_neurons=700 ...................................................\n",
            "Train on 36667 samples, validate on 5000 samples\n",
            "Epoch 1/30\n",
            "36667/36667 [==============================] - 5s 143us/sample - loss: 0.2944 - accuracy: 0.9110 - val_loss: 0.1550 - val_accuracy: 0.9570\n",
            "Epoch 2/30\n",
            "36667/36667 [==============================] - 5s 142us/sample - loss: 0.1234 - accuracy: 0.9617 - val_loss: 0.1342 - val_accuracy: 0.9590\n",
            "Epoch 3/30\n",
            "36667/36667 [==============================] - 5s 128us/sample - loss: 0.0879 - accuracy: 0.9725 - val_loss: 0.1213 - val_accuracy: 0.9636\n",
            "Epoch 4/30\n",
            "36667/36667 [==============================] - 5s 133us/sample - loss: 0.0671 - accuracy: 0.9789 - val_loss: 0.1177 - val_accuracy: 0.9686\n",
            "Epoch 5/30\n",
            "36667/36667 [==============================] - 5s 138us/sample - loss: 0.0553 - accuracy: 0.9816 - val_loss: 0.0948 - val_accuracy: 0.9742\n",
            "Epoch 6/30\n",
            "36667/36667 [==============================] - 5s 134us/sample - loss: 0.0442 - accuracy: 0.9858 - val_loss: 0.1027 - val_accuracy: 0.9734\n",
            "Epoch 7/30\n",
            "36667/36667 [==============================] - 5s 139us/sample - loss: 0.0370 - accuracy: 0.9879 - val_loss: 0.1016 - val_accuracy: 0.9744\n",
            "[CV] .................................... n_neurons=700, total=  37.9s\n",
            "[CV] n_neurons=700 ...................................................\n",
            "Train on 36667 samples, validate on 5000 samples\n",
            "Epoch 1/30\n",
            "36667/36667 [==============================] - 5s 146us/sample - loss: 0.2958 - accuracy: 0.9114 - val_loss: 0.1289 - val_accuracy: 0.9616\n",
            "Epoch 2/30\n",
            "36667/36667 [==============================] - 5s 138us/sample - loss: 0.1233 - accuracy: 0.9623 - val_loss: 0.1180 - val_accuracy: 0.9612\n",
            "Epoch 3/30\n",
            "36667/36667 [==============================] - 5s 130us/sample - loss: 0.0856 - accuracy: 0.9720 - val_loss: 0.0905 - val_accuracy: 0.9726\n",
            "Epoch 4/30\n",
            "36667/36667 [==============================] - 5s 132us/sample - loss: 0.0660 - accuracy: 0.9787 - val_loss: 0.0976 - val_accuracy: 0.9726\n",
            "Epoch 5/30\n",
            "36667/36667 [==============================] - 5s 140us/sample - loss: 0.0537 - accuracy: 0.9826 - val_loss: 0.1083 - val_accuracy: 0.9708\n",
            "[CV] .................................... n_neurons=700, total=  28.0s\n",
            "[CV] n_neurons=800 ...................................................\n",
            "Train on 36666 samples, validate on 5000 samples\n",
            "Epoch 1/30\n",
            "36666/36666 [==============================] - 6s 152us/sample - loss: 0.2934 - accuracy: 0.9118 - val_loss: 0.1426 - val_accuracy: 0.9566\n",
            "Epoch 2/30\n",
            "36666/36666 [==============================] - 5s 135us/sample - loss: 0.1320 - accuracy: 0.9591 - val_loss: 0.1097 - val_accuracy: 0.9676\n",
            "Epoch 3/30\n",
            "36666/36666 [==============================] - 5s 135us/sample - loss: 0.0930 - accuracy: 0.9710 - val_loss: 0.0983 - val_accuracy: 0.9680\n",
            "Epoch 4/30\n",
            "36666/36666 [==============================] - 5s 132us/sample - loss: 0.0703 - accuracy: 0.9770 - val_loss: 0.0990 - val_accuracy: 0.9700\n",
            "Epoch 5/30\n",
            "36666/36666 [==============================] - 5s 136us/sample - loss: 0.0564 - accuracy: 0.9820 - val_loss: 0.1092 - val_accuracy: 0.9678\n",
            "[CV] .................................... n_neurons=800, total=  28.2s\n",
            "[CV] n_neurons=800 ...................................................\n",
            "Train on 36667 samples, validate on 5000 samples\n",
            "Epoch 1/30\n",
            "36667/36667 [==============================] - 6s 150us/sample - loss: 0.2981 - accuracy: 0.9110 - val_loss: 0.1518 - val_accuracy: 0.9558\n",
            "Epoch 2/30\n",
            "36667/36667 [==============================] - 5s 133us/sample - loss: 0.1291 - accuracy: 0.9599 - val_loss: 0.1360 - val_accuracy: 0.9562\n",
            "Epoch 3/30\n",
            "36667/36667 [==============================] - 5s 141us/sample - loss: 0.0927 - accuracy: 0.9694 - val_loss: 0.1062 - val_accuracy: 0.9696\n",
            "Epoch 4/30\n",
            "36667/36667 [==============================] - 5s 132us/sample - loss: 0.0672 - accuracy: 0.9780 - val_loss: 0.1127 - val_accuracy: 0.9678\n",
            "Epoch 5/30\n",
            "36667/36667 [==============================] - 5s 139us/sample - loss: 0.0547 - accuracy: 0.9817 - val_loss: 0.0991 - val_accuracy: 0.9726\n",
            "Epoch 6/30\n",
            "36667/36667 [==============================] - 5s 137us/sample - loss: 0.0463 - accuracy: 0.9848 - val_loss: 0.1143 - val_accuracy: 0.9690\n",
            "Epoch 7/30\n",
            "36667/36667 [==============================] - 5s 133us/sample - loss: 0.0382 - accuracy: 0.9869 - val_loss: 0.1109 - val_accuracy: 0.9690\n",
            "[CV] .................................... n_neurons=800, total=  38.4s\n",
            "[CV] n_neurons=800 ...................................................\n",
            "Train on 36667 samples, validate on 5000 samples\n",
            "Epoch 1/30\n",
            "36667/36667 [==============================] - 6s 154us/sample - loss: 0.2939 - accuracy: 0.9123 - val_loss: 0.1511 - val_accuracy: 0.9534\n",
            "Epoch 2/30\n",
            "36667/36667 [==============================] - 5s 133us/sample - loss: 0.1249 - accuracy: 0.9620 - val_loss: 0.1045 - val_accuracy: 0.9662\n",
            "Epoch 3/30\n",
            "36667/36667 [==============================] - 5s 133us/sample - loss: 0.0894 - accuracy: 0.9720 - val_loss: 0.0949 - val_accuracy: 0.9712\n",
            "Epoch 4/30\n",
            "36667/36667 [==============================] - 5s 138us/sample - loss: 0.0679 - accuracy: 0.9780 - val_loss: 0.1030 - val_accuracy: 0.9704\n",
            "Epoch 5/30\n",
            "36667/36667 [==============================] - 5s 134us/sample - loss: 0.0539 - accuracy: 0.9826 - val_loss: 0.0941 - val_accuracy: 0.9746\n",
            "Epoch 6/30\n",
            "36667/36667 [==============================] - 5s 133us/sample - loss: 0.0434 - accuracy: 0.9860 - val_loss: 0.0958 - val_accuracy: 0.9764\n",
            "Epoch 7/30\n",
            "36667/36667 [==============================] - 5s 136us/sample - loss: 0.0376 - accuracy: 0.9874 - val_loss: 0.1242 - val_accuracy: 0.9692\n",
            "[CV] .................................... n_neurons=800, total=  38.2s\n"
          ],
          "name": "stdout"
        },
        {
          "output_type": "stream",
          "text": [
            "[Parallel(n_jobs=1)]: Done  24 out of  24 | elapsed: 13.3min finished\n"
          ],
          "name": "stderr"
        },
        {
          "output_type": "stream",
          "text": [
            "Train on 55000 samples, validate on 5000 samples\n",
            "Epoch 1/30\n",
            "55000/55000 [==============================] - 8s 138us/sample - loss: 0.3002 - accuracy: 0.9099 - val_loss: 0.1242 - val_accuracy: 0.9652\n",
            "Epoch 2/30\n",
            "55000/55000 [==============================] - 7s 125us/sample - loss: 0.1329 - accuracy: 0.9601 - val_loss: 0.0926 - val_accuracy: 0.9722\n",
            "Epoch 3/30\n",
            "55000/55000 [==============================] - 8s 138us/sample - loss: 0.0948 - accuracy: 0.9710 - val_loss: 0.0901 - val_accuracy: 0.9720\n",
            "Epoch 4/30\n",
            "55000/55000 [==============================] - 7s 125us/sample - loss: 0.0769 - accuracy: 0.9763 - val_loss: 0.0795 - val_accuracy: 0.9764\n",
            "Epoch 5/30\n",
            "55000/55000 [==============================] - 7s 126us/sample - loss: 0.0625 - accuracy: 0.9799 - val_loss: 0.0842 - val_accuracy: 0.9768\n",
            "Epoch 6/30\n",
            "55000/55000 [==============================] - 7s 131us/sample - loss: 0.0535 - accuracy: 0.9832 - val_loss: 0.0806 - val_accuracy: 0.9772\n"
          ],
          "name": "stdout"
        },
        {
          "output_type": "execute_result",
          "data": {
            "text/plain": [
              "GridSearchCV(cv=3, error_score=nan,\n",
              "             estimator=<tensorflow.python.keras.wrappers.scikit_learn.KerasClassifier object at 0x7fb97d4e08d0>,\n",
              "             iid='deprecated', n_jobs=None,\n",
              "             param_grid={'n_neurons': range(100, 900, 100)},\n",
              "             pre_dispatch='2*n_jobs', refit=True, return_train_score=False,\n",
              "             scoring=None, verbose=2)"
            ]
          },
          "metadata": {
            "tags": []
          },
          "execution_count": 16
        }
      ]
    },
    {
      "cell_type": "markdown",
      "metadata": {
        "id": "2u51f7S0ZM5r",
        "colab_type": "text"
      },
      "source": [
        "##EVALUATE"
      ]
    },
    {
      "cell_type": "markdown",
      "metadata": {
        "id": "9jj9jykP5hkD",
        "colab_type": "text"
      },
      "source": [
        "### Inspecting the best estimator"
      ]
    },
    {
      "cell_type": "markdown",
      "metadata": {
        "id": "TmBJMfTB5hkD",
        "colab_type": "text"
      },
      "source": [
        "Let's get the number of neurons that produced the best estimator"
      ]
    },
    {
      "cell_type": "code",
      "metadata": {
        "id": "c_HZWOIe5hkE",
        "colab_type": "code",
        "outputId": "96cccfa4-4d39-40e9-d723-83e0df19e9bf",
        "colab": {
          "base_uri": "https://localhost:8080/",
          "height": 34
        }
      },
      "source": [
        "grid_cv.best_params_"
      ],
      "execution_count": 17,
      "outputs": [
        {
          "output_type": "execute_result",
          "data": {
            "text/plain": [
              "{'n_neurons': 100}"
            ]
          },
          "metadata": {
            "tags": []
          },
          "execution_count": 17
        }
      ]
    },
    {
      "cell_type": "markdown",
      "metadata": {
        "id": "UyxYloQq5hkG",
        "colab_type": "raw"
      },
      "source": [
        "Let's get the rsults to compare the performance of the 100 models."
      ]
    },
    {
      "cell_type": "code",
      "metadata": {
        "id": "xhkOrfov5hkG",
        "colab_type": "code",
        "outputId": "b2fe82a9-5154-4cd8-c68e-3b83691cb05d",
        "colab": {
          "base_uri": "https://localhost:8080/",
          "height": 544
        }
      },
      "source": [
        "results = grid_cv.cv_results_\n",
        "results"
      ],
      "execution_count": 18,
      "outputs": [
        {
          "output_type": "execute_result",
          "data": {
            "text/plain": [
              "{'mean_fit_time': array([39.33213083, 27.66439589, 30.38062469, 33.84804821, 31.52863121,\n",
              "        29.59393199, 31.54914172, 33.73468598]),\n",
              " 'mean_score_time': array([0.97946191, 1.02708848, 1.04404744, 1.0918057 , 1.09962416,\n",
              "        1.16951474, 1.18433714, 1.21207913]),\n",
              " 'mean_test_score': array([0.97094546, 0.9679818 , 0.97001817, 0.96981812, 0.96849092,\n",
              "        0.9665637 , 0.96669098, 0.96514547]),\n",
              " 'param_n_neurons': masked_array(data=[100, 200, 300, 400, 500, 600, 700, 800],\n",
              "              mask=[False, False, False, False, False, False, False, False],\n",
              "        fill_value='?',\n",
              "             dtype=object),\n",
              " 'params': [{'n_neurons': 100},\n",
              "  {'n_neurons': 200},\n",
              "  {'n_neurons': 300},\n",
              "  {'n_neurons': 400},\n",
              "  {'n_neurons': 500},\n",
              "  {'n_neurons': 600},\n",
              "  {'n_neurons': 700},\n",
              "  {'n_neurons': 800}],\n",
              " 'rank_test_score': array([1, 5, 2, 3, 4, 7, 6, 8], dtype=int32),\n",
              " 'split0_test_score': array([0.97092831, 0.96929204, 0.97081923, 0.97360098, 0.96869206,\n",
              "        0.96280134, 0.9632377 , 0.96471035]),\n",
              " 'split1_test_score': array([0.97087222, 0.96558118, 0.96858126, 0.96432662, 0.96776307,\n",
              "        0.96819943, 0.97005403, 0.96410847]),\n",
              " 'split2_test_score': array([0.97103584, 0.96907216, 0.97065401, 0.97152674, 0.96901762,\n",
              "        0.96869034, 0.9667812 , 0.96661758]),\n",
              " 'std_fit_time': array([2.7307128 , 2.02242672, 3.64751539, 3.98257784, 4.53892738,\n",
              "        8.73835997, 4.05844504, 4.76604466]),\n",
              " 'std_score_time': array([0.03661198, 0.07112856, 0.02181258, 0.02143284, 0.01797011,\n",
              "        0.04221893, 0.00670388, 0.01595836]),\n",
              " 'std_test_score': array([6.78868790e-05, 1.69986426e-03, 1.01828465e-03, 3.97433505e-03,\n",
              "        5.31553713e-04, 2.66793128e-03, 2.78348527e-03, 1.06955139e-03])}"
            ]
          },
          "metadata": {
            "tags": []
          },
          "execution_count": 18
        }
      ]
    },
    {
      "cell_type": "code",
      "metadata": {
        "id": "HNoNkMU15hkL",
        "colab_type": "code",
        "outputId": "c142199c-fa83-4223-a477-7debe2134cf4",
        "colab": {
          "base_uri": "https://localhost:8080/",
          "height": 170
        }
      },
      "source": [
        "results['params'], results['rank_test_score']"
      ],
      "execution_count": 19,
      "outputs": [
        {
          "output_type": "execute_result",
          "data": {
            "text/plain": [
              "([{'n_neurons': 100},\n",
              "  {'n_neurons': 200},\n",
              "  {'n_neurons': 300},\n",
              "  {'n_neurons': 400},\n",
              "  {'n_neurons': 500},\n",
              "  {'n_neurons': 600},\n",
              "  {'n_neurons': 700},\n",
              "  {'n_neurons': 800}],\n",
              " array([1, 5, 2, 3, 4, 7, 6, 8], dtype=int32))"
            ]
          },
          "metadata": {
            "tags": []
          },
          "execution_count": 19
        }
      ]
    },
    {
      "cell_type": "code",
      "metadata": {
        "id": "yRS71YiS5hkN",
        "colab_type": "code",
        "outputId": "8a53334e-ed9c-4231-8a2a-c950c2bb273d",
        "colab": {
          "base_uri": "https://localhost:8080/",
          "height": 533
        }
      },
      "source": [
        "best_model = grid_cv.best_estimator_.model\n",
        "keras.utils.plot_model(best_model, show_shapes=True)"
      ],
      "execution_count": 20,
      "outputs": [
        {
          "output_type": "execute_result",
          "data": {
            "image/png": "[encoded data removed]",
            "text/plain": [
              "<IPython.core.display.Image object>"
            ]
          },
          "metadata": {
            "tags": []
          },
          "execution_count": 20
        }
      ]
    },
    {
      "cell_type": "code",
      "metadata": {
        "id": "vHakmEh-5hkP",
        "colab_type": "code",
        "outputId": "17ce7737-2f9d-41f7-ed51-89780a9e3a37",
        "colab": {
          "base_uri": "https://localhost:8080/",
          "height": 34
        }
      },
      "source": [
        "best_model.evaluate(test_images, test_labels)"
      ],
      "execution_count": 21,
      "outputs": [
        {
          "output_type": "execute_result",
          "data": {
            "text/plain": [
              "[0.08424283909410296, 0.9775]"
            ]
          },
          "metadata": {
            "tags": []
          },
          "execution_count": 21
        }
      ]
    }
  ]
}