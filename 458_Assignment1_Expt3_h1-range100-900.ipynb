{
  "nbformat": 4,
  "nbformat_minor": 0,
  "metadata": {
    "colab": {
      "name": "458_Assignment1_Expt3.ipynb",
      "provenance": [],
      "authorship_tag": "ABX9TyOWyhrgo0PQLZFOfLFlkgC3",
      "include_colab_link": true
    },
    "kernelspec": {
      "name": "python3",
      "display_name": "Python 3"
    },
    "accelerator": "GPU"
  },
  "cells": [
    {
      "cell_type": "markdown",
      "metadata": {
        "id": "view-in-github",
        "colab_type": "text"
      },
      "source": [
        "<a href=\"https://colab.research.google.com/github/Danika-Balas/msds-458/blob/master/458_Assignment1_Expt3_h1-range100-900.ipynb\" target=\"_parent\"><img src=\"https://colab.research.google.com/assets/colab-badge.svg\" alt=\"Open In Colab\"/></a>"
      ]
    },
    {
      "cell_type": "markdown",
      "metadata": {
        "id": "tlSigYwlVuKR",
        "colab_type": "text"
      },
      "source": [
        "##Setup and Preprocessing"
      ]
    },
    {
      "cell_type": "code",
      "metadata": {
        "id": "_D8jpVsoTpY4",
        "colab_type": "code",
        "outputId": "c3a70a3b-d5d2-41ce-bd95-34ecf65ae934",
        "colab": {
          "base_uri": "https://localhost:8080/",
          "height": 34
        }
      },
      "source": [
        "import numpy as np\n",
        "import pandas as pd\n",
        "\n",
        "import seaborn as sns\n",
        "import matplotlib.pyplot as plt\n",
        "%matplotlib inline\n",
        "sns.set(style=\"whitegrid\")\n",
        "\n",
        "from sklearn import metrics\n",
        "\n",
        "import tensorflow as tf\n",
        "from tensorflow import keras\n",
        "keras.__version__"
      ],
      "execution_count": 22,
      "outputs": [
        {
          "output_type": "execute_result",
          "data": {
            "text/plain": [
              "'2.3.0-tf'"
            ]
          },
          "metadata": {
            "tags": []
          },
          "execution_count": 22
        }
      ]
    },
    {
      "cell_type": "code",
      "metadata": {
        "id": "tZZtq6bpWITd",
        "colab_type": "code",
        "outputId": "31bd9256-4c2d-4e63-a60a-98350f0e3b80",
        "colab": {
          "base_uri": "https://localhost:8080/",
          "height": 34
        }
      },
      "source": [
        "tf.__version__"
      ],
      "execution_count": 23,
      "outputs": [
        {
          "output_type": "execute_result",
          "data": {
            "text/plain": [
              "'2.2.0-rc3'"
            ]
          },
          "metadata": {
            "tags": []
          },
          "execution_count": 23
        }
      ]
    },
    {
      "cell_type": "code",
      "metadata": {
        "id": "Rp2_1vRkVgVJ",
        "colab_type": "code",
        "colab": {}
      },
      "source": [
        "from keras import metrics"
      ],
      "execution_count": 0,
      "outputs": []
    },
    {
      "cell_type": "code",
      "metadata": {
        "id": "BO5dsO7-WLFE",
        "colab_type": "code",
        "colab": {}
      },
      "source": [
        "# neccessary for K.gradient to work in TensorFlow 2.x\n",
        "# only needed for the \"Finding a pattern the hidden node maximally responds to\" section below.\n",
        "# but disabled to make Tensorboard work...\n",
        "tf.compat.v1.disable_eager_execution() "
      ],
      "execution_count": 0,
      "outputs": []
    },
    {
      "cell_type": "code",
      "metadata": {
        "id": "fTtBYXtHWztP",
        "colab_type": "code",
        "colab": {}
      },
      "source": [
        "# Set see in order to achieve consistent results across runs\n",
        "keras.backend.clear_session()\n",
        "np.random.seed(42)\n",
        "tf.random.set_seed(42)"
      ],
      "execution_count": 0,
      "outputs": []
    },
    {
      "cell_type": "markdown",
      "metadata": {
        "id": "wpqFxPDEXFup",
        "colab_type": "text"
      },
      "source": [
        "####Import MNIST dataset"
      ]
    },
    {
      "cell_type": "code",
      "metadata": {
        "id": "65M8kDjCXA0p",
        "colab_type": "code",
        "colab": {}
      },
      "source": [
        "from tensorflow.keras.datasets import mnist\n",
        "(train_images, train_labels), (test_images, test_labels) = mnist.load_data()"
      ],
      "execution_count": 0,
      "outputs": []
    },
    {
      "cell_type": "code",
      "metadata": {
        "id": "5ye8BcA0XYvH",
        "colab_type": "code",
        "outputId": "6b9a86a7-5856-4620-d85e-0ecc33a747f9",
        "colab": {
          "base_uri": "https://localhost:8080/",
          "height": 34
        }
      },
      "source": [
        "train_images.shape, test_images.shape, test_labels.shape, test_labels.shape"
      ],
      "execution_count": 28,
      "outputs": [
        {
          "output_type": "execute_result",
          "data": {
            "text/plain": [
              "((60000, 28, 28), (10000, 28, 28), (10000,), (10000,))"
            ]
          },
          "metadata": {
            "tags": []
          },
          "execution_count": 28
        }
      ]
    },
    {
      "cell_type": "code",
      "metadata": {
        "id": "M5gJtcFsOpHi",
        "colab_type": "code",
        "outputId": "86a8fead-768b-4a74-e85a-1f27439314c5",
        "colab": {
          "base_uri": "https://localhost:8080/",
          "height": 34
        }
      },
      "source": [
        "#Store copy of training images in order to easily view images even after transformation are performed\n",
        "example_train_images = train_images.copy()\n",
        "example_train_images.shape"
      ],
      "execution_count": 29,
      "outputs": [
        {
          "output_type": "execute_result",
          "data": {
            "text/plain": [
              "(60000, 28, 28)"
            ]
          },
          "metadata": {
            "tags": []
          },
          "execution_count": 29
        }
      ]
    },
    {
      "cell_type": "code",
      "metadata": {
        "id": "jJIB5WuVXwK2",
        "colab_type": "code",
        "outputId": "ea9d3c3e-ea3b-4d0e-9e0c-83145e46b552",
        "colab": {
          "base_uri": "https://localhost:8080/",
          "height": 268
        }
      },
      "source": [
        "# Example of a single sample, a 28x28 pixel image of a handwritten digit\n",
        "digit = example_train_images[2]\n",
        "\n",
        "plt.imshow(digit, cmap=plt.cm.binary)\n",
        "plt.show()"
      ],
      "execution_count": 30,
      "outputs": [
        {
          "output_type": "display_data",
          "data": {
            "image/png": "[encoded data removed]",
            "text/plain": [
              "<Figure size 432x288 with 1 Axes>"
            ]
          },
          "metadata": {
            "tags": []
          }
        }
      ]
    },
    {
      "cell_type": "markdown",
      "metadata": {
        "id": "Nsn_iI4MqBtg",
        "colab_type": "text"
      },
      "source": [
        "####Prepare the data"
      ]
    },
    {
      "cell_type": "code",
      "metadata": {
        "id": "9ME7Vm7GYCwq",
        "colab_type": "code",
        "colab": {}
      },
      "source": [
        "# Reshape the data into the shape that the network expects\n",
        "train_images = train_images.reshape((60000, 28 * 28))\n",
        "\n",
        "# Scale the data to [0,1] interval\n",
        "train_images = train_images.astype('float32') / 255\n",
        "\n",
        "# Do the same for the test dataset\n",
        "test_images = test_images.reshape((10000, 28 * 28))\n",
        "test_images = test_images.astype('float32') / 255"
      ],
      "execution_count": 0,
      "outputs": []
    },
    {
      "cell_type": "code",
      "metadata": {
        "id": "ElgA23UFq0lB",
        "colab_type": "code",
        "colab": {}
      },
      "source": [
        "# Split training data into training set and validation set\n",
        "val_images, train_images = train_images[:5000], train_images[5000:]\n",
        "val_labels, train_labels = train_labels[:5000], train_labels[5000:]"
      ],
      "execution_count": 0,
      "outputs": []
    },
    {
      "cell_type": "markdown",
      "metadata": {
        "id": "fmDzWxIu78_L",
        "colab_type": "text"
      },
      "source": [
        "#Experiment 3"
      ]
    },
    {
      "cell_type": "markdown",
      "metadata": {
        "id": "x5_ueNa18nef",
        "colab_type": "text"
      },
      "source": [
        "We will fine-tune the hyperparameters of the model until we find the 'best' model according to our selected metrics"
      ]
    },
    {
      "cell_type": "code",
      "metadata": {
        "id": "DqLphCVo8D9c",
        "colab_type": "code",
        "colab": {}
      },
      "source": [
        "# Function builds models with 1 hidden layer (by default), then the same number of nodes in each hidden layer\n",
        "from tensorflow.keras import models\n",
        "from tensorflow.keras import layers\n",
        "\n",
        "def build_model(n_hidden=1, n_neurons=2, learning_rate=0.001, input_shape=(28 * 28,)):\n",
        "    model = models.Sequential()\n",
        "    model.add(layers.InputLayer(input_shape=input_shape))\n",
        "    #model.add(keras.layers.Dense(85, activation=\"relu\"))\n",
        "    for layer in range(n_hidden):\n",
        "        model.add(keras.layers.Dense(n_neurons, activation=\"relu\"))\n",
        "    model.add(keras.layers.Dropout(0.25))\n",
        "    model.add(layers.Dense(10, activation='softmax'))\n",
        "    optimizer = keras.optimizers.Adam(lr=learning_rate)\n",
        "    model.compile(loss='sparse_categorical_crossentropy', optimizer=optimizer,  metrics=['accuracy'])\n",
        "    return model"
      ],
      "execution_count": 0,
      "outputs": []
    },
    {
      "cell_type": "code",
      "metadata": {
        "id": "P8yORVMj93Hv",
        "colab_type": "code",
        "colab": {}
      },
      "source": [
        "# This function builds models with varying number of nodes in each hidden layer\n",
        "def build_model2(n_neurons=(2,3), learning_rate=0.001, input_shape=(28 * 28,)):\n",
        "    model = models.Sequential()\n",
        "    model.add(layers.InputLayer(input_shape=input_shape))\n",
        "    for layer in range(len(n_neurons)):\n",
        "        model.add(keras.layers.Dense(n_neurons[layer], activation=\"relu\"))\n",
        "    model.add(layers.Dense(10, activation='softmax'))\n",
        "    optimizer = keras.optimizers.Adam(lr=learning_rate)\n",
        "    model.compile(loss='sparse_categorical_crossentropy', optimizer=optimizer,  metrics=['accuracy'])\n",
        "    return model"
      ],
      "execution_count": 0,
      "outputs": []
    },
    {
      "cell_type": "code",
      "metadata": {
        "id": "m40FBZQsFRlD",
        "colab_type": "code",
        "colab": {}
      },
      "source": [
        "from tensorflow.keras.wrappers.scikit_learn import KerasClassifier\n",
        "keras_clf = KerasClassifier(build_model)"
      ],
      "execution_count": 0,
      "outputs": []
    },
    {
      "cell_type": "code",
      "metadata": {
        "id": "n3DYgnj-FY6k",
        "colab_type": "code",
        "outputId": "8ba9d9c6-27d7-46ad-c4ab-df7eba0fcc3c",
        "colab": {
          "base_uri": "https://localhost:8080/",
          "height": 34
        }
      },
      "source": [
        "param_grid = {'n_neurons': range(100,900,100)}\n",
        "param_grid"
      ],
      "execution_count": 36,
      "outputs": [
        {
          "output_type": "execute_result",
          "data": {
            "text/plain": [
              "{'n_neurons': range(100, 900, 100)}"
            ]
          },
          "metadata": {
            "tags": []
          },
          "execution_count": 36
        }
      ]
    },
    {
      "cell_type": "markdown",
      "metadata": {
        "id": "elLBPW5OF27j",
        "colab_type": "text"
      },
      "source": [
        "Use grid search to train models with different combinations of parameter values"
      ]
    },
    {
      "cell_type": "code",
      "metadata": {
        "id": "crzvlHtkNm3n",
        "colab_type": "code",
        "colab": {
          "base_uri": "https://localhost:8080/",
          "height": 1000
        },
        "outputId": "ee7a3fea-08b1-46b4-f117-9f660bba1d14"
      },
      "source": [
        "from sklearn.model_selection import GridSearchCV\n",
        "\n",
        "grid_cv = GridSearchCV(estimator=keras_clf, param_grid=param_grid,cv=3,verbose = 2)\n",
        "grid_cv.fit(train_images, train_labels, epochs=30,\n",
        "                  validation_data=(val_images, val_labels),\n",
        "                  callbacks=[keras.callbacks.EarlyStopping(patience=2)])"
      ],
      "execution_count": 37,
      "outputs": [
        {
          "output_type": "stream",
          "text": [
            "Fitting 3 folds for each of 8 candidates, totalling 24 fits\n",
            "[CV] n_neurons=100 ...................................................\n"
          ],
          "name": "stdout"
        },
        {
          "output_type": "stream",
          "text": [
            "[Parallel(n_jobs=1)]: Using backend SequentialBackend with 1 concurrent workers.\n"
          ],
          "name": "stderr"
        },
        {
          "output_type": "stream",
          "text": [
            "Train on 36666 samples, validate on 5000 samples\n",
            "Epoch 1/30\n",
            "36666/36666 [==============================] - 4s 114us/sample - loss: 0.3993 - accuracy: 0.8842 - val_loss: 0.1890 - val_accuracy: 0.9458\n",
            "Epoch 2/30\n",
            "36666/36666 [==============================] - 4s 106us/sample - loss: 0.2022 - accuracy: 0.9396 - val_loss: 0.1442 - val_accuracy: 0.9592\n",
            "Epoch 3/30\n",
            "36666/36666 [==============================] - 4s 117us/sample - loss: 0.1558 - accuracy: 0.9535 - val_loss: 0.1202 - val_accuracy: 0.9670\n",
            "Epoch 4/30\n",
            "36666/36666 [==============================] - 4s 109us/sample - loss: 0.1307 - accuracy: 0.9606 - val_loss: 0.1077 - val_accuracy: 0.9676\n",
            "Epoch 5/30\n",
            "36666/36666 [==============================] - 4s 108us/sample - loss: 0.1096 - accuracy: 0.9665 - val_loss: 0.1017 - val_accuracy: 0.9720\n",
            "Epoch 6/30\n",
            "36666/36666 [==============================] - 4s 112us/sample - loss: 0.0983 - accuracy: 0.9697 - val_loss: 0.0946 - val_accuracy: 0.9716\n",
            "Epoch 7/30\n",
            "36666/36666 [==============================] - 4s 104us/sample - loss: 0.0895 - accuracy: 0.9724 - val_loss: 0.0976 - val_accuracy: 0.9716\n",
            "Epoch 8/30\n",
            "36666/36666 [==============================] - 4s 109us/sample - loss: 0.0821 - accuracy: 0.9733 - val_loss: 0.0883 - val_accuracy: 0.9736\n",
            "Epoch 9/30\n",
            "36666/36666 [==============================] - 4s 115us/sample - loss: 0.0733 - accuracy: 0.9762 - val_loss: 0.0928 - val_accuracy: 0.9734\n",
            "Epoch 10/30\n",
            "36666/36666 [==============================] - 4s 109us/sample - loss: 0.0682 - accuracy: 0.9776 - val_loss: 0.0876 - val_accuracy: 0.9758\n",
            "Epoch 11/30\n",
            "36666/36666 [==============================] - 4s 106us/sample - loss: 0.0622 - accuracy: 0.9792 - val_loss: 0.0861 - val_accuracy: 0.9760\n",
            "Epoch 12/30\n",
            "36666/36666 [==============================] - 4s 112us/sample - loss: 0.0604 - accuracy: 0.9806 - val_loss: 0.0886 - val_accuracy: 0.9756\n",
            "Epoch 13/30\n",
            "36666/36666 [==============================] - 4s 112us/sample - loss: 0.0561 - accuracy: 0.9820 - val_loss: 0.0876 - val_accuracy: 0.9748\n",
            "[CV] .................................... n_neurons=100, total=  54.1s\n",
            "[CV] n_neurons=100 ...................................................\n"
          ],
          "name": "stdout"
        },
        {
          "output_type": "stream",
          "text": [
            "[Parallel(n_jobs=1)]: Done   1 out of   1 | elapsed:   54.1s remaining:    0.0s\n"
          ],
          "name": "stderr"
        },
        {
          "output_type": "stream",
          "text": [
            "Train on 36667 samples, validate on 5000 samples\n",
            "Epoch 1/30\n",
            "36667/36667 [==============================] - 4s 110us/sample - loss: 0.3944 - accuracy: 0.8862 - val_loss: 0.1930 - val_accuracy: 0.9468\n",
            "Epoch 2/30\n",
            "36667/36667 [==============================] - 4s 110us/sample - loss: 0.2031 - accuracy: 0.9396 - val_loss: 0.1402 - val_accuracy: 0.9632\n",
            "Epoch 3/30\n",
            "36667/36667 [==============================] - 4s 109us/sample - loss: 0.1582 - accuracy: 0.9529 - val_loss: 0.1221 - val_accuracy: 0.9646\n",
            "Epoch 4/30\n",
            "36667/36667 [==============================] - 4s 106us/sample - loss: 0.1320 - accuracy: 0.9597 - val_loss: 0.1094 - val_accuracy: 0.9708\n",
            "Epoch 5/30\n",
            "36667/36667 [==============================] - 4s 109us/sample - loss: 0.1149 - accuracy: 0.9650 - val_loss: 0.0969 - val_accuracy: 0.9714\n",
            "Epoch 6/30\n",
            "36667/36667 [==============================] - 4s 112us/sample - loss: 0.0961 - accuracy: 0.9699 - val_loss: 0.0948 - val_accuracy: 0.9730\n",
            "Epoch 7/30\n",
            "36667/36667 [==============================] - 4s 113us/sample - loss: 0.0859 - accuracy: 0.9726 - val_loss: 0.0880 - val_accuracy: 0.9746\n",
            "Epoch 8/30\n",
            "36667/36667 [==============================] - 4s 106us/sample - loss: 0.0807 - accuracy: 0.9741 - val_loss: 0.0863 - val_accuracy: 0.9756\n",
            "Epoch 9/30\n",
            "36667/36667 [==============================] - 4s 109us/sample - loss: 0.0731 - accuracy: 0.9756 - val_loss: 0.0853 - val_accuracy: 0.9762\n",
            "Epoch 10/30\n",
            "36667/36667 [==============================] - 4s 113us/sample - loss: 0.0679 - accuracy: 0.9779 - val_loss: 0.0811 - val_accuracy: 0.9764\n",
            "Epoch 11/30\n",
            "36667/36667 [==============================] - 4s 110us/sample - loss: 0.0642 - accuracy: 0.9782 - val_loss: 0.0845 - val_accuracy: 0.9766\n",
            "Epoch 12/30\n",
            "36667/36667 [==============================] - 4s 112us/sample - loss: 0.0598 - accuracy: 0.9796 - val_loss: 0.0819 - val_accuracy: 0.9768\n",
            "[CV] .................................... n_neurons=100, total=  50.0s\n",
            "[CV] n_neurons=100 ...................................................\n",
            "Train on 36667 samples, validate on 5000 samples\n",
            "Epoch 1/30\n",
            "36667/36667 [==============================] - 4s 116us/sample - loss: 0.4032 - accuracy: 0.8835 - val_loss: 0.1848 - val_accuracy: 0.9500\n",
            "Epoch 2/30\n",
            "36667/36667 [==============================] - 4s 107us/sample - loss: 0.2050 - accuracy: 0.9396 - val_loss: 0.1377 - val_accuracy: 0.9620\n",
            "Epoch 3/30\n",
            "36667/36667 [==============================] - 4s 103us/sample - loss: 0.1599 - accuracy: 0.9523 - val_loss: 0.1144 - val_accuracy: 0.9666\n",
            "Epoch 4/30\n",
            "36667/36667 [==============================] - 4s 109us/sample - loss: 0.1336 - accuracy: 0.9596 - val_loss: 0.1079 - val_accuracy: 0.9702\n",
            "Epoch 5/30\n",
            "36667/36667 [==============================] - 4s 107us/sample - loss: 0.1143 - accuracy: 0.9657 - val_loss: 0.0948 - val_accuracy: 0.9716\n",
            "Epoch 6/30\n",
            "36667/36667 [==============================] - 4s 115us/sample - loss: 0.1016 - accuracy: 0.9683 - val_loss: 0.0920 - val_accuracy: 0.9734\n",
            "Epoch 7/30\n",
            "36667/36667 [==============================] - 4s 108us/sample - loss: 0.0895 - accuracy: 0.9712 - val_loss: 0.0880 - val_accuracy: 0.9756\n",
            "Epoch 8/30\n",
            "36667/36667 [==============================] - 4s 116us/sample - loss: 0.0808 - accuracy: 0.9741 - val_loss: 0.0876 - val_accuracy: 0.9744\n",
            "Epoch 9/30\n",
            "36667/36667 [==============================] - 4s 117us/sample - loss: 0.0746 - accuracy: 0.9763 - val_loss: 0.0860 - val_accuracy: 0.9762\n",
            "Epoch 10/30\n",
            "36667/36667 [==============================] - 4s 114us/sample - loss: 0.0652 - accuracy: 0.9784 - val_loss: 0.0866 - val_accuracy: 0.9760\n",
            "Epoch 11/30\n",
            "36667/36667 [==============================] - 4s 112us/sample - loss: 0.0629 - accuracy: 0.9785 - val_loss: 0.0805 - val_accuracy: 0.9752\n",
            "Epoch 12/30\n",
            "36667/36667 [==============================] - 5s 124us/sample - loss: 0.0564 - accuracy: 0.9815 - val_loss: 0.0847 - val_accuracy: 0.9756\n",
            "Epoch 13/30\n",
            "36667/36667 [==============================] - 4s 109us/sample - loss: 0.0548 - accuracy: 0.9823 - val_loss: 0.0824 - val_accuracy: 0.9774\n",
            "[CV] .................................... n_neurons=100, total=  55.0s\n",
            "[CV] n_neurons=200 ...................................................\n",
            "Train on 36666 samples, validate on 5000 samples\n",
            "Epoch 1/30\n",
            "36666/36666 [==============================] - 4s 118us/sample - loss: 0.3410 - accuracy: 0.9011 - val_loss: 0.1667 - val_accuracy: 0.9532\n",
            "Epoch 2/30\n",
            "36666/36666 [==============================] - 4s 107us/sample - loss: 0.1659 - accuracy: 0.9515 - val_loss: 0.1137 - val_accuracy: 0.9674\n",
            "Epoch 3/30\n",
            "36666/36666 [==============================] - 4s 110us/sample - loss: 0.1186 - accuracy: 0.9645 - val_loss: 0.1018 - val_accuracy: 0.9682\n",
            "Epoch 4/30\n",
            "36666/36666 [==============================] - 4s 110us/sample - loss: 0.0943 - accuracy: 0.9711 - val_loss: 0.0911 - val_accuracy: 0.9742\n",
            "Epoch 5/30\n",
            "36666/36666 [==============================] - 4s 109us/sample - loss: 0.0790 - accuracy: 0.9750 - val_loss: 0.0898 - val_accuracy: 0.9718\n",
            "Epoch 6/30\n",
            "36666/36666 [==============================] - 4s 108us/sample - loss: 0.0667 - accuracy: 0.9782 - val_loss: 0.0865 - val_accuracy: 0.9758\n",
            "Epoch 7/30\n",
            "36666/36666 [==============================] - 4s 110us/sample - loss: 0.0574 - accuracy: 0.9808 - val_loss: 0.0833 - val_accuracy: 0.9750\n",
            "Epoch 8/30\n",
            "36666/36666 [==============================] - 5s 124us/sample - loss: 0.0520 - accuracy: 0.9826 - val_loss: 0.0803 - val_accuracy: 0.9764\n",
            "Epoch 9/30\n",
            "36666/36666 [==============================] - 4s 114us/sample - loss: 0.0422 - accuracy: 0.9863 - val_loss: 0.0791 - val_accuracy: 0.9778\n",
            "Epoch 10/30\n",
            "36666/36666 [==============================] - 4s 107us/sample - loss: 0.0386 - accuracy: 0.9870 - val_loss: 0.0833 - val_accuracy: 0.9758\n",
            "Epoch 11/30\n",
            "36666/36666 [==============================] - 4s 111us/sample - loss: 0.0378 - accuracy: 0.9871 - val_loss: 0.0769 - val_accuracy: 0.9778\n",
            "Epoch 12/30\n",
            "36666/36666 [==============================] - 4s 112us/sample - loss: 0.0308 - accuracy: 0.9904 - val_loss: 0.0769 - val_accuracy: 0.9766\n",
            "Epoch 13/30\n",
            "36666/36666 [==============================] - 4s 112us/sample - loss: 0.0294 - accuracy: 0.9895 - val_loss: 0.0872 - val_accuracy: 0.9776\n",
            "Epoch 14/30\n",
            "36666/36666 [==============================] - 4s 112us/sample - loss: 0.0314 - accuracy: 0.9895 - val_loss: 0.0817 - val_accuracy: 0.9784\n",
            "[CV] .................................... n_neurons=200, total=  59.1s\n",
            "[CV] n_neurons=200 ...................................................\n",
            "Train on 36667 samples, validate on 5000 samples\n",
            "Epoch 1/30\n",
            "36667/36667 [==============================] - 4s 113us/sample - loss: 0.3291 - accuracy: 0.9044 - val_loss: 0.1645 - val_accuracy: 0.9512\n",
            "Epoch 2/30\n",
            "36667/36667 [==============================] - 4s 108us/sample - loss: 0.1603 - accuracy: 0.9530 - val_loss: 0.1147 - val_accuracy: 0.9698\n",
            "Epoch 3/30\n",
            "36667/36667 [==============================] - 4s 120us/sample - loss: 0.1144 - accuracy: 0.9655 - val_loss: 0.0925 - val_accuracy: 0.9744\n",
            "Epoch 4/30\n",
            "36667/36667 [==============================] - 4s 114us/sample - loss: 0.0880 - accuracy: 0.9724 - val_loss: 0.0923 - val_accuracy: 0.9748\n",
            "Epoch 5/30\n",
            "36667/36667 [==============================] - 4s 110us/sample - loss: 0.0754 - accuracy: 0.9763 - val_loss: 0.0750 - val_accuracy: 0.9772\n",
            "Epoch 6/30\n",
            "36667/36667 [==============================] - 4s 107us/sample - loss: 0.0637 - accuracy: 0.9795 - val_loss: 0.0852 - val_accuracy: 0.9746\n",
            "Epoch 7/30\n",
            "36667/36667 [==============================] - 4s 108us/sample - loss: 0.0537 - accuracy: 0.9827 - val_loss: 0.0768 - val_accuracy: 0.9778\n",
            "[CV] .................................... n_neurons=200, total=  30.3s\n",
            "[CV] n_neurons=200 ...................................................\n",
            "Train on 36667 samples, validate on 5000 samples\n",
            "Epoch 1/30\n",
            "36667/36667 [==============================] - 4s 122us/sample - loss: 0.3419 - accuracy: 0.8993 - val_loss: 0.1653 - val_accuracy: 0.9526\n",
            "Epoch 2/30\n",
            "36667/36667 [==============================] - 5s 126us/sample - loss: 0.1611 - accuracy: 0.9529 - val_loss: 0.1075 - val_accuracy: 0.9692\n",
            "Epoch 3/30\n",
            "36667/36667 [==============================] - 5s 125us/sample - loss: 0.1187 - accuracy: 0.9651 - val_loss: 0.0923 - val_accuracy: 0.9732\n",
            "Epoch 4/30\n",
            "36667/36667 [==============================] - 4s 115us/sample - loss: 0.0939 - accuracy: 0.9708 - val_loss: 0.0857 - val_accuracy: 0.9752\n",
            "Epoch 5/30\n",
            "36667/36667 [==============================] - 4s 114us/sample - loss: 0.0740 - accuracy: 0.9772 - val_loss: 0.0809 - val_accuracy: 0.9778\n",
            "Epoch 6/30\n",
            "36667/36667 [==============================] - 4s 113us/sample - loss: 0.0658 - accuracy: 0.9793 - val_loss: 0.0874 - val_accuracy: 0.9738\n",
            "Epoch 7/30\n",
            "36667/36667 [==============================] - 4s 113us/sample - loss: 0.0557 - accuracy: 0.9821 - val_loss: 0.0796 - val_accuracy: 0.9786\n",
            "Epoch 8/30\n",
            "36667/36667 [==============================] - 4s 112us/sample - loss: 0.0494 - accuracy: 0.9832 - val_loss: 0.0775 - val_accuracy: 0.9796\n",
            "Epoch 9/30\n",
            "36667/36667 [==============================] - 4s 109us/sample - loss: 0.0431 - accuracy: 0.9855 - val_loss: 0.0840 - val_accuracy: 0.9800\n",
            "Epoch 10/30\n",
            "36667/36667 [==============================] - 4s 109us/sample - loss: 0.0408 - accuracy: 0.9863 - val_loss: 0.0749 - val_accuracy: 0.9802\n",
            "Epoch 11/30\n",
            "36667/36667 [==============================] - 4s 109us/sample - loss: 0.0349 - accuracy: 0.9887 - val_loss: 0.0764 - val_accuracy: 0.9794\n",
            "Epoch 12/30\n",
            "36667/36667 [==============================] - 4s 120us/sample - loss: 0.0309 - accuracy: 0.9898 - val_loss: 0.0831 - val_accuracy: 0.9796\n",
            "[CV] .................................... n_neurons=200, total=  52.6s\n",
            "[CV] n_neurons=300 ...................................................\n",
            "Train on 36666 samples, validate on 5000 samples\n",
            "Epoch 1/30\n",
            "36666/36666 [==============================] - 4s 115us/sample - loss: 0.3095 - accuracy: 0.9089 - val_loss: 0.1517 - val_accuracy: 0.9564\n",
            "Epoch 2/30\n",
            "36666/36666 [==============================] - 4s 115us/sample - loss: 0.1458 - accuracy: 0.9558 - val_loss: 0.1136 - val_accuracy: 0.9680\n",
            "Epoch 3/30\n",
            "36666/36666 [==============================] - 4s 112us/sample - loss: 0.1059 - accuracy: 0.9675 - val_loss: 0.0934 - val_accuracy: 0.9754\n",
            "Epoch 4/30\n",
            "36666/36666 [==============================] - 4s 113us/sample - loss: 0.0824 - accuracy: 0.9743 - val_loss: 0.0840 - val_accuracy: 0.9764\n",
            "Epoch 5/30\n",
            "36666/36666 [==============================] - 4s 112us/sample - loss: 0.0651 - accuracy: 0.9787 - val_loss: 0.0825 - val_accuracy: 0.9734\n",
            "Epoch 6/30\n",
            "36666/36666 [==============================] - 4s 111us/sample - loss: 0.0553 - accuracy: 0.9818 - val_loss: 0.0842 - val_accuracy: 0.9728\n",
            "Epoch 7/30\n",
            "36666/36666 [==============================] - 4s 118us/sample - loss: 0.0465 - accuracy: 0.9849 - val_loss: 0.0739 - val_accuracy: 0.9774\n",
            "Epoch 8/30\n",
            "36666/36666 [==============================] - 4s 113us/sample - loss: 0.0411 - accuracy: 0.9860 - val_loss: 0.0728 - val_accuracy: 0.9802\n",
            "Epoch 9/30\n",
            "36666/36666 [==============================] - 4s 121us/sample - loss: 0.0354 - accuracy: 0.9882 - val_loss: 0.0847 - val_accuracy: 0.9764\n",
            "Epoch 10/30\n",
            "36666/36666 [==============================] - 4s 114us/sample - loss: 0.0329 - accuracy: 0.9895 - val_loss: 0.0784 - val_accuracy: 0.9796\n",
            "[CV] .................................... n_neurons=300, total=  43.8s\n",
            "[CV] n_neurons=300 ...................................................\n",
            "Train on 36667 samples, validate on 5000 samples\n",
            "Epoch 1/30\n",
            "36667/36667 [==============================] - 4s 118us/sample - loss: 0.2994 - accuracy: 0.9126 - val_loss: 0.1498 - val_accuracy: 0.9580\n",
            "Epoch 2/30\n",
            "36667/36667 [==============================] - 4s 117us/sample - loss: 0.1373 - accuracy: 0.9582 - val_loss: 0.1099 - val_accuracy: 0.9702\n",
            "Epoch 3/30\n",
            "36667/36667 [==============================] - 4s 112us/sample - loss: 0.1004 - accuracy: 0.9689 - val_loss: 0.0913 - val_accuracy: 0.9728\n",
            "Epoch 4/30\n",
            "36667/36667 [==============================] - 4s 113us/sample - loss: 0.0755 - accuracy: 0.9771 - val_loss: 0.0775 - val_accuracy: 0.9778\n",
            "Epoch 5/30\n",
            "36667/36667 [==============================] - 5s 123us/sample - loss: 0.0613 - accuracy: 0.9802 - val_loss: 0.0789 - val_accuracy: 0.9790\n",
            "Epoch 6/30\n",
            "36667/36667 [==============================] - 4s 111us/sample - loss: 0.0509 - accuracy: 0.9835 - val_loss: 0.0826 - val_accuracy: 0.9764\n",
            "[CV] .................................... n_neurons=300, total=  27.4s\n",
            "[CV] n_neurons=300 ...................................................\n",
            "Train on 36667 samples, validate on 5000 samples\n",
            "Epoch 1/30\n",
            "36667/36667 [==============================] - 5s 123us/sample - loss: 0.3075 - accuracy: 0.9093 - val_loss: 0.1496 - val_accuracy: 0.9588\n",
            "Epoch 2/30\n",
            "36667/36667 [==============================] - 4s 116us/sample - loss: 0.1410 - accuracy: 0.9572 - val_loss: 0.1096 - val_accuracy: 0.9668\n",
            "Epoch 3/30\n",
            "36667/36667 [==============================] - 4s 112us/sample - loss: 0.1017 - accuracy: 0.9687 - val_loss: 0.0881 - val_accuracy: 0.9726\n",
            "Epoch 4/30\n",
            "36667/36667 [==============================] - 4s 117us/sample - loss: 0.0762 - accuracy: 0.9766 - val_loss: 0.0821 - val_accuracy: 0.9796\n",
            "Epoch 5/30\n",
            "36667/36667 [==============================] - 4s 116us/sample - loss: 0.0620 - accuracy: 0.9798 - val_loss: 0.0780 - val_accuracy: 0.9782\n",
            "Epoch 6/30\n",
            "36667/36667 [==============================] - 4s 115us/sample - loss: 0.0544 - accuracy: 0.9829 - val_loss: 0.0742 - val_accuracy: 0.9778\n",
            "Epoch 7/30\n",
            "36667/36667 [==============================] - 4s 113us/sample - loss: 0.0453 - accuracy: 0.9847 - val_loss: 0.0766 - val_accuracy: 0.9784\n",
            "Epoch 8/30\n",
            "36667/36667 [==============================] - 4s 118us/sample - loss: 0.0382 - accuracy: 0.9866 - val_loss: 0.0734 - val_accuracy: 0.9792\n",
            "Epoch 9/30\n",
            "36667/36667 [==============================] - 4s 116us/sample - loss: 0.0334 - accuracy: 0.9886 - val_loss: 0.0745 - val_accuracy: 0.9812\n",
            "Epoch 10/30\n",
            "36667/36667 [==============================] - 4s 121us/sample - loss: 0.0321 - accuracy: 0.9894 - val_loss: 0.0773 - val_accuracy: 0.9802\n",
            "[CV] .................................... n_neurons=300, total=  44.7s\n",
            "[CV] n_neurons=400 ...................................................\n",
            "Train on 36666 samples, validate on 5000 samples\n",
            "Epoch 1/30\n",
            "36666/36666 [==============================] - 5s 123us/sample - loss: 0.2890 - accuracy: 0.9139 - val_loss: 0.1442 - val_accuracy: 0.9586\n",
            "Epoch 2/30\n",
            "36666/36666 [==============================] - 4s 116us/sample - loss: 0.1332 - accuracy: 0.9594 - val_loss: 0.1047 - val_accuracy: 0.9712\n",
            "Epoch 3/30\n",
            "36666/36666 [==============================] - 4s 119us/sample - loss: 0.0939 - accuracy: 0.9716 - val_loss: 0.1009 - val_accuracy: 0.9702\n",
            "Epoch 4/30\n",
            "36666/36666 [==============================] - 4s 119us/sample - loss: 0.0723 - accuracy: 0.9774 - val_loss: 0.0820 - val_accuracy: 0.9770\n",
            "Epoch 5/30\n",
            "36666/36666 [==============================] - 4s 121us/sample - loss: 0.0585 - accuracy: 0.9812 - val_loss: 0.0760 - val_accuracy: 0.9764\n",
            "Epoch 6/30\n",
            "36666/36666 [==============================] - 4s 117us/sample - loss: 0.0477 - accuracy: 0.9843 - val_loss: 0.0769 - val_accuracy: 0.9788\n",
            "Epoch 7/30\n",
            "36666/36666 [==============================] - 4s 115us/sample - loss: 0.0425 - accuracy: 0.9858 - val_loss: 0.0746 - val_accuracy: 0.9784\n",
            "Epoch 8/30\n",
            "36666/36666 [==============================] - 4s 119us/sample - loss: 0.0361 - accuracy: 0.9879 - val_loss: 0.0872 - val_accuracy: 0.9780\n",
            "Epoch 9/30\n",
            "36666/36666 [==============================] - 4s 121us/sample - loss: 0.0305 - accuracy: 0.9899 - val_loss: 0.0808 - val_accuracy: 0.9788\n",
            "[CV] .................................... n_neurons=400, total=  41.3s\n",
            "[CV] n_neurons=400 ...................................................\n",
            "Train on 36667 samples, validate on 5000 samples\n",
            "Epoch 1/30\n",
            "36667/36667 [==============================] - 4s 122us/sample - loss: 0.2896 - accuracy: 0.9167 - val_loss: 0.1329 - val_accuracy: 0.9606\n",
            "Epoch 2/30\n",
            "36667/36667 [==============================] - 5s 127us/sample - loss: 0.1312 - accuracy: 0.9601 - val_loss: 0.1011 - val_accuracy: 0.9700\n",
            "Epoch 3/30\n",
            "36667/36667 [==============================] - 5s 125us/sample - loss: 0.0904 - accuracy: 0.9720 - val_loss: 0.0880 - val_accuracy: 0.9758\n",
            "Epoch 4/30\n",
            "36667/36667 [==============================] - 4s 117us/sample - loss: 0.0691 - accuracy: 0.9780 - val_loss: 0.0827 - val_accuracy: 0.9772\n",
            "Epoch 5/30\n",
            "36667/36667 [==============================] - 4s 122us/sample - loss: 0.0547 - accuracy: 0.9822 - val_loss: 0.0728 - val_accuracy: 0.9792\n",
            "Epoch 6/30\n",
            "36667/36667 [==============================] - 4s 118us/sample - loss: 0.0463 - accuracy: 0.9852 - val_loss: 0.0812 - val_accuracy: 0.9764\n",
            "Epoch 7/30\n",
            "36667/36667 [==============================] - 4s 114us/sample - loss: 0.0406 - accuracy: 0.9869 - val_loss: 0.0736 - val_accuracy: 0.9784\n",
            "[CV] .................................... n_neurons=400, total=  32.9s\n",
            "[CV] n_neurons=400 ...................................................\n",
            "Train on 36667 samples, validate on 5000 samples\n",
            "Epoch 1/30\n",
            "36667/36667 [==============================] - 5s 133us/sample - loss: 0.2948 - accuracy: 0.9139 - val_loss: 0.1327 - val_accuracy: 0.9634\n",
            "Epoch 2/30\n",
            "36667/36667 [==============================] - 5s 123us/sample - loss: 0.1309 - accuracy: 0.9605 - val_loss: 0.0945 - val_accuracy: 0.9732\n",
            "Epoch 3/30\n",
            "36667/36667 [==============================] - 4s 115us/sample - loss: 0.0910 - accuracy: 0.9722 - val_loss: 0.0873 - val_accuracy: 0.9744\n",
            "Epoch 4/30\n",
            "36667/36667 [==============================] - 4s 119us/sample - loss: 0.0721 - accuracy: 0.9775 - val_loss: 0.0782 - val_accuracy: 0.9754\n",
            "Epoch 5/30\n",
            "36667/36667 [==============================] - 4s 118us/sample - loss: 0.0560 - accuracy: 0.9812 - val_loss: 0.0848 - val_accuracy: 0.9724\n",
            "Epoch 6/30\n",
            "36667/36667 [==============================] - 4s 121us/sample - loss: 0.0465 - accuracy: 0.9851 - val_loss: 0.0756 - val_accuracy: 0.9768\n",
            "Epoch 7/30\n",
            "36667/36667 [==============================] - 4s 117us/sample - loss: 0.0393 - accuracy: 0.9870 - val_loss: 0.0752 - val_accuracy: 0.9772\n",
            "Epoch 8/30\n",
            "36667/36667 [==============================] - 4s 116us/sample - loss: 0.0328 - accuracy: 0.9892 - val_loss: 0.0767 - val_accuracy: 0.9792\n",
            "Epoch 9/30\n",
            "36667/36667 [==============================] - 4s 117us/sample - loss: 0.0289 - accuracy: 0.9909 - val_loss: 0.0856 - val_accuracy: 0.9762\n",
            "[CV] .................................... n_neurons=400, total=  41.7s\n",
            "[CV] n_neurons=500 ...................................................\n",
            "Train on 36666 samples, validate on 5000 samples\n",
            "Epoch 1/30\n",
            "36666/36666 [==============================] - 5s 124us/sample - loss: 0.2776 - accuracy: 0.9179 - val_loss: 0.1384 - val_accuracy: 0.9624\n",
            "Epoch 2/30\n",
            "36666/36666 [==============================] - 4s 117us/sample - loss: 0.1232 - accuracy: 0.9633 - val_loss: 0.1017 - val_accuracy: 0.9710\n",
            "Epoch 3/30\n",
            "36666/36666 [==============================] - 4s 120us/sample - loss: 0.0890 - accuracy: 0.9730 - val_loss: 0.1017 - val_accuracy: 0.9710\n",
            "Epoch 4/30\n",
            "36666/36666 [==============================] - 4s 118us/sample - loss: 0.0678 - accuracy: 0.9783 - val_loss: 0.0870 - val_accuracy: 0.9734\n",
            "Epoch 5/30\n",
            "36666/36666 [==============================] - 4s 118us/sample - loss: 0.0551 - accuracy: 0.9823 - val_loss: 0.0716 - val_accuracy: 0.9788\n",
            "Epoch 6/30\n",
            "36666/36666 [==============================] - 4s 117us/sample - loss: 0.0422 - accuracy: 0.9858 - val_loss: 0.0761 - val_accuracy: 0.9784\n",
            "Epoch 7/30\n",
            "36666/36666 [==============================] - 5s 129us/sample - loss: 0.0402 - accuracy: 0.9865 - val_loss: 0.0897 - val_accuracy: 0.9738\n",
            "[CV] .................................... n_neurons=500, total=  33.2s\n",
            "[CV] n_neurons=500 ...................................................\n",
            "Train on 36667 samples, validate on 5000 samples\n",
            "Epoch 1/30\n",
            "36667/36667 [==============================] - 5s 144us/sample - loss: 0.2736 - accuracy: 0.9196 - val_loss: 0.1410 - val_accuracy: 0.9616\n",
            "Epoch 2/30\n",
            "36667/36667 [==============================] - 4s 122us/sample - loss: 0.1239 - accuracy: 0.9626 - val_loss: 0.0964 - val_accuracy: 0.9694\n",
            "Epoch 3/30\n",
            "36667/36667 [==============================] - 4s 118us/sample - loss: 0.0865 - accuracy: 0.9730 - val_loss: 0.0891 - val_accuracy: 0.9712\n",
            "Epoch 4/30\n",
            "36667/36667 [==============================] - 4s 119us/sample - loss: 0.0648 - accuracy: 0.9792 - val_loss: 0.0886 - val_accuracy: 0.9720\n",
            "Epoch 5/30\n",
            "36667/36667 [==============================] - 4s 122us/sample - loss: 0.0543 - accuracy: 0.9821 - val_loss: 0.0779 - val_accuracy: 0.9768\n",
            "Epoch 6/30\n",
            "36667/36667 [==============================] - 5s 128us/sample - loss: 0.0429 - accuracy: 0.9861 - val_loss: 0.0765 - val_accuracy: 0.9772\n",
            "Epoch 7/30\n",
            "36667/36667 [==============================] - 5s 127us/sample - loss: 0.0341 - accuracy: 0.9890 - val_loss: 0.0822 - val_accuracy: 0.9772\n",
            "Epoch 8/30\n",
            "36667/36667 [==============================] - 4s 118us/sample - loss: 0.0309 - accuracy: 0.9891 - val_loss: 0.0800 - val_accuracy: 0.9774\n",
            "[CV] .................................... n_neurons=500, total=  38.8s\n",
            "[CV] n_neurons=500 ...................................................\n",
            "Train on 36667 samples, validate on 5000 samples\n",
            "Epoch 1/30\n",
            "36667/36667 [==============================] - 5s 131us/sample - loss: 0.2801 - accuracy: 0.9182 - val_loss: 0.1537 - val_accuracy: 0.9550\n",
            "Epoch 2/30\n",
            "36667/36667 [==============================] - 5s 127us/sample - loss: 0.1221 - accuracy: 0.9625 - val_loss: 0.0960 - val_accuracy: 0.9712\n",
            "Epoch 3/30\n",
            "36667/36667 [==============================] - 4s 120us/sample - loss: 0.0848 - accuracy: 0.9741 - val_loss: 0.0913 - val_accuracy: 0.9744\n",
            "Epoch 4/30\n",
            "36667/36667 [==============================] - 4s 120us/sample - loss: 0.0662 - accuracy: 0.9792 - val_loss: 0.0962 - val_accuracy: 0.9724\n",
            "Epoch 5/30\n",
            "36667/36667 [==============================] - 5s 124us/sample - loss: 0.0543 - accuracy: 0.9832 - val_loss: 0.0826 - val_accuracy: 0.9746\n",
            "Epoch 6/30\n",
            "36667/36667 [==============================] - 4s 118us/sample - loss: 0.0433 - accuracy: 0.9857 - val_loss: 0.0766 - val_accuracy: 0.9794\n",
            "Epoch 7/30\n",
            "36667/36667 [==============================] - 4s 119us/sample - loss: 0.0379 - accuracy: 0.9864 - val_loss: 0.0753 - val_accuracy: 0.9790\n",
            "Epoch 8/30\n",
            "36667/36667 [==============================] - 4s 121us/sample - loss: 0.0300 - accuracy: 0.9904 - val_loss: 0.0765 - val_accuracy: 0.9812\n",
            "Epoch 9/30\n",
            "36667/36667 [==============================] - 5s 123us/sample - loss: 0.0285 - accuracy: 0.9904 - val_loss: 0.0777 - val_accuracy: 0.9808\n",
            "[CV] .................................... n_neurons=500, total=  42.6s\n",
            "[CV] n_neurons=600 ...................................................\n",
            "Train on 36666 samples, validate on 5000 samples\n",
            "Epoch 1/30\n",
            "36666/36666 [==============================] - 5s 142us/sample - loss: 0.2705 - accuracy: 0.9188 - val_loss: 0.1288 - val_accuracy: 0.9640\n",
            "Epoch 2/30\n",
            "36666/36666 [==============================] - 5s 126us/sample - loss: 0.1234 - accuracy: 0.9627 - val_loss: 0.0966 - val_accuracy: 0.9704\n",
            "Epoch 3/30\n",
            "36666/36666 [==============================] - 4s 121us/sample - loss: 0.0848 - accuracy: 0.9729 - val_loss: 0.0897 - val_accuracy: 0.9716\n",
            "Epoch 4/30\n",
            "36666/36666 [==============================] - 4s 122us/sample - loss: 0.0624 - accuracy: 0.9798 - val_loss: 0.0877 - val_accuracy: 0.9742\n",
            "Epoch 5/30\n",
            "36666/36666 [==============================] - 4s 120us/sample - loss: 0.0502 - accuracy: 0.9838 - val_loss: 0.0846 - val_accuracy: 0.9746\n",
            "Epoch 6/30\n",
            "36666/36666 [==============================] - 5s 125us/sample - loss: 0.0423 - accuracy: 0.9858 - val_loss: 0.0848 - val_accuracy: 0.9772\n",
            "Epoch 7/30\n",
            "36666/36666 [==============================] - 4s 120us/sample - loss: 0.0358 - accuracy: 0.9881 - val_loss: 0.0905 - val_accuracy: 0.9764\n",
            "[CV] .................................... n_neurons=600, total=  34.5s\n",
            "[CV] n_neurons=600 ...................................................\n",
            "Train on 36667 samples, validate on 5000 samples\n",
            "Epoch 1/30\n",
            "36667/36667 [==============================] - 5s 130us/sample - loss: 0.2682 - accuracy: 0.9215 - val_loss: 0.1219 - val_accuracy: 0.9664\n",
            "Epoch 2/30\n",
            "36667/36667 [==============================] - 4s 122us/sample - loss: 0.1202 - accuracy: 0.9634 - val_loss: 0.0952 - val_accuracy: 0.9714\n",
            "Epoch 3/30\n",
            "36667/36667 [==============================] - 4s 119us/sample - loss: 0.0831 - accuracy: 0.9740 - val_loss: 0.0861 - val_accuracy: 0.9728\n",
            "Epoch 4/30\n",
            "36667/36667 [==============================] - 5s 125us/sample - loss: 0.0618 - accuracy: 0.9800 - val_loss: 0.0834 - val_accuracy: 0.9746\n",
            "Epoch 5/30\n",
            "36667/36667 [==============================] - 4s 120us/sample - loss: 0.0495 - accuracy: 0.9833 - val_loss: 0.0715 - val_accuracy: 0.9784\n",
            "Epoch 6/30\n",
            "36667/36667 [==============================] - 5s 123us/sample - loss: 0.0397 - accuracy: 0.9879 - val_loss: 0.0793 - val_accuracy: 0.9768\n",
            "Epoch 7/30\n",
            "36667/36667 [==============================] - 5s 123us/sample - loss: 0.0351 - accuracy: 0.9881 - val_loss: 0.0871 - val_accuracy: 0.9754\n",
            "[CV] .................................... n_neurons=600, total=  33.9s\n",
            "[CV] n_neurons=600 ...................................................\n",
            "Train on 36667 samples, validate on 5000 samples\n",
            "Epoch 1/30\n",
            "36667/36667 [==============================] - 5s 133us/sample - loss: 0.2708 - accuracy: 0.9194 - val_loss: 0.1326 - val_accuracy: 0.9658\n",
            "Epoch 2/30\n",
            "36667/36667 [==============================] - 5s 127us/sample - loss: 0.1211 - accuracy: 0.9635 - val_loss: 0.1065 - val_accuracy: 0.9706\n",
            "Epoch 3/30\n",
            "36667/36667 [==============================] - 4s 120us/sample - loss: 0.0843 - accuracy: 0.9739 - val_loss: 0.0869 - val_accuracy: 0.9752\n",
            "Epoch 4/30\n",
            "36667/36667 [==============================] - 4s 119us/sample - loss: 0.0625 - accuracy: 0.9804 - val_loss: 0.0863 - val_accuracy: 0.9748\n",
            "Epoch 5/30\n",
            "36667/36667 [==============================] - 5s 124us/sample - loss: 0.0493 - accuracy: 0.9848 - val_loss: 0.0852 - val_accuracy: 0.9746\n",
            "Epoch 6/30\n",
            "36667/36667 [==============================] - 4s 121us/sample - loss: 0.0422 - accuracy: 0.9861 - val_loss: 0.0863 - val_accuracy: 0.9770\n",
            "Epoch 7/30\n",
            "36667/36667 [==============================] - 5s 124us/sample - loss: 0.0345 - accuracy: 0.9892 - val_loss: 0.0841 - val_accuracy: 0.9762\n",
            "Epoch 8/30\n",
            "36667/36667 [==============================] - 5s 128us/sample - loss: 0.0291 - accuracy: 0.9902 - val_loss: 0.0796 - val_accuracy: 0.9800\n",
            "Epoch 9/30\n",
            "36667/36667 [==============================] - 5s 129us/sample - loss: 0.0260 - accuracy: 0.9908 - val_loss: 0.0848 - val_accuracy: 0.9788\n",
            "Epoch 10/30\n",
            "36667/36667 [==============================] - 4s 120us/sample - loss: 0.0261 - accuracy: 0.9907 - val_loss: 0.0873 - val_accuracy: 0.9798\n",
            "[CV] .................................... n_neurons=600, total=  48.0s\n",
            "[CV] n_neurons=700 ...................................................\n",
            "Train on 36666 samples, validate on 5000 samples\n",
            "Epoch 1/30\n",
            "36666/36666 [==============================] - 5s 132us/sample - loss: 0.2631 - accuracy: 0.9226 - val_loss: 0.1284 - val_accuracy: 0.9654\n",
            "Epoch 2/30\n",
            "36666/36666 [==============================] - 4s 119us/sample - loss: 0.1184 - accuracy: 0.9653 - val_loss: 0.1188 - val_accuracy: 0.9666\n",
            "Epoch 3/30\n",
            "36666/36666 [==============================] - 4s 120us/sample - loss: 0.0832 - accuracy: 0.9741 - val_loss: 0.0868 - val_accuracy: 0.9734\n",
            "Epoch 4/30\n",
            "36666/36666 [==============================] - 5s 124us/sample - loss: 0.0611 - accuracy: 0.9811 - val_loss: 0.0775 - val_accuracy: 0.9766\n",
            "Epoch 5/30\n",
            "36666/36666 [==============================] - 5s 127us/sample - loss: 0.0510 - accuracy: 0.9833 - val_loss: 0.0768 - val_accuracy: 0.9778\n",
            "Epoch 6/30\n",
            "36666/36666 [==============================] - 5s 123us/sample - loss: 0.0403 - accuracy: 0.9867 - val_loss: 0.0821 - val_accuracy: 0.9778\n",
            "Epoch 7/30\n",
            "36666/36666 [==============================] - 4s 120us/sample - loss: 0.0335 - accuracy: 0.9887 - val_loss: 0.0804 - val_accuracy: 0.9796\n",
            "[CV] .................................... n_neurons=700, total=  34.1s\n",
            "[CV] n_neurons=700 ...................................................\n",
            "Train on 36667 samples, validate on 5000 samples\n",
            "Epoch 1/30\n",
            "36667/36667 [==============================] - 5s 147us/sample - loss: 0.2614 - accuracy: 0.9231 - val_loss: 0.1343 - val_accuracy: 0.9598\n",
            "Epoch 2/30\n",
            "36667/36667 [==============================] - 5s 124us/sample - loss: 0.1149 - accuracy: 0.9654 - val_loss: 0.0955 - val_accuracy: 0.9716\n",
            "Epoch 3/30\n",
            "36667/36667 [==============================] - 4s 121us/sample - loss: 0.0808 - accuracy: 0.9750 - val_loss: 0.0909 - val_accuracy: 0.9722\n",
            "Epoch 4/30\n",
            "36667/36667 [==============================] - 5s 123us/sample - loss: 0.0622 - accuracy: 0.9800 - val_loss: 0.0790 - val_accuracy: 0.9762\n",
            "Epoch 5/30\n",
            "36667/36667 [==============================] - 5s 130us/sample - loss: 0.0462 - accuracy: 0.9846 - val_loss: 0.0754 - val_accuracy: 0.9772\n",
            "Epoch 6/30\n",
            "36667/36667 [==============================] - 5s 123us/sample - loss: 0.0394 - accuracy: 0.9863 - val_loss: 0.0813 - val_accuracy: 0.9768\n",
            "Epoch 7/30\n",
            "36667/36667 [==============================] - 4s 122us/sample - loss: 0.0364 - accuracy: 0.9879 - val_loss: 0.0741 - val_accuracy: 0.9816\n",
            "Epoch 8/30\n",
            "36667/36667 [==============================] - 5s 125us/sample - loss: 0.0307 - accuracy: 0.9890 - val_loss: 0.0832 - val_accuracy: 0.9802\n",
            "Epoch 9/30\n",
            "36667/36667 [==============================] - 5s 130us/sample - loss: 0.0261 - accuracy: 0.9917 - val_loss: 0.0760 - val_accuracy: 0.9796\n",
            "[CV] .................................... n_neurons=700, total=  44.5s\n",
            "[CV] n_neurons=700 ...................................................\n",
            "Train on 36667 samples, validate on 5000 samples\n",
            "Epoch 1/30\n",
            "36667/36667 [==============================] - 5s 136us/sample - loss: 0.2635 - accuracy: 0.9239 - val_loss: 0.1190 - val_accuracy: 0.9652\n",
            "Epoch 2/30\n",
            "36667/36667 [==============================] - 5s 125us/sample - loss: 0.1187 - accuracy: 0.9639 - val_loss: 0.0934 - val_accuracy: 0.9732\n",
            "Epoch 3/30\n",
            "36667/36667 [==============================] - 5s 132us/sample - loss: 0.0802 - accuracy: 0.9752 - val_loss: 0.0828 - val_accuracy: 0.9762\n",
            "Epoch 4/30\n",
            "36667/36667 [==============================] - 5s 123us/sample - loss: 0.0600 - accuracy: 0.9810 - val_loss: 0.0770 - val_accuracy: 0.9770\n",
            "Epoch 5/30\n",
            "36667/36667 [==============================] - 5s 125us/sample - loss: 0.0501 - accuracy: 0.9840 - val_loss: 0.0807 - val_accuracy: 0.9770\n",
            "Epoch 6/30\n",
            "36667/36667 [==============================] - 5s 126us/sample - loss: 0.0417 - accuracy: 0.9861 - val_loss: 0.0760 - val_accuracy: 0.9794\n",
            "Epoch 7/30\n",
            "36667/36667 [==============================] - 5s 131us/sample - loss: 0.0333 - accuracy: 0.9887 - val_loss: 0.0777 - val_accuracy: 0.9816\n",
            "Epoch 8/30\n",
            "36667/36667 [==============================] - 5s 133us/sample - loss: 0.0303 - accuracy: 0.9897 - val_loss: 0.0808 - val_accuracy: 0.9792\n",
            "[CV] .................................... n_neurons=700, total=  40.5s\n",
            "[CV] n_neurons=800 ...................................................\n",
            "Train on 36666 samples, validate on 5000 samples\n",
            "Epoch 1/30\n",
            "36666/36666 [==============================] - 5s 138us/sample - loss: 0.2579 - accuracy: 0.9219 - val_loss: 0.1247 - val_accuracy: 0.9650\n",
            "Epoch 2/30\n",
            "36666/36666 [==============================] - 5s 128us/sample - loss: 0.1171 - accuracy: 0.9634 - val_loss: 0.0868 - val_accuracy: 0.9752\n",
            "Epoch 3/30\n",
            "36666/36666 [==============================] - 5s 125us/sample - loss: 0.0803 - accuracy: 0.9751 - val_loss: 0.0859 - val_accuracy: 0.9712\n",
            "Epoch 4/30\n",
            "36666/36666 [==============================] - 5s 126us/sample - loss: 0.0580 - accuracy: 0.9816 - val_loss: 0.0701 - val_accuracy: 0.9786\n",
            "Epoch 5/30\n",
            "36666/36666 [==============================] - 5s 129us/sample - loss: 0.0488 - accuracy: 0.9844 - val_loss: 0.0789 - val_accuracy: 0.9780\n",
            "Epoch 6/30\n",
            "36666/36666 [==============================] - 5s 127us/sample - loss: 0.0417 - accuracy: 0.9857 - val_loss: 0.0792 - val_accuracy: 0.9766\n",
            "[CV] .................................... n_neurons=800, total=  30.9s\n",
            "[CV] n_neurons=800 ...................................................\n",
            "Train on 36667 samples, validate on 5000 samples\n",
            "Epoch 1/30\n",
            "36667/36667 [==============================] - 5s 139us/sample - loss: 0.2608 - accuracy: 0.9217 - val_loss: 0.1268 - val_accuracy: 0.9620\n",
            "Epoch 2/30\n",
            "36667/36667 [==============================] - 4s 123us/sample - loss: 0.1149 - accuracy: 0.9648 - val_loss: 0.0931 - val_accuracy: 0.9718\n",
            "Epoch 3/30\n",
            "36667/36667 [==============================] - 5s 125us/sample - loss: 0.0776 - accuracy: 0.9755 - val_loss: 0.0798 - val_accuracy: 0.9746\n",
            "Epoch 4/30\n",
            "36667/36667 [==============================] - 5s 125us/sample - loss: 0.0603 - accuracy: 0.9803 - val_loss: 0.0819 - val_accuracy: 0.9764\n",
            "Epoch 5/30\n",
            "36667/36667 [==============================] - 5s 129us/sample - loss: 0.0478 - accuracy: 0.9837 - val_loss: 0.0894 - val_accuracy: 0.9768\n",
            "[CV] .................................... n_neurons=800, total=  26.2s\n",
            "[CV] n_neurons=800 ...................................................\n",
            "Train on 36667 samples, validate on 5000 samples\n",
            "Epoch 1/30\n",
            "36667/36667 [==============================] - 6s 151us/sample - loss: 0.2584 - accuracy: 0.9218 - val_loss: 0.1218 - val_accuracy: 0.9630\n",
            "Epoch 2/30\n",
            "36667/36667 [==============================] - 5s 131us/sample - loss: 0.1121 - accuracy: 0.9655 - val_loss: 0.0967 - val_accuracy: 0.9720\n",
            "Epoch 3/30\n",
            "36667/36667 [==============================] - 5s 124us/sample - loss: 0.0782 - accuracy: 0.9744 - val_loss: 0.0851 - val_accuracy: 0.9734\n",
            "Epoch 4/30\n",
            "36667/36667 [==============================] - 5s 127us/sample - loss: 0.0606 - accuracy: 0.9804 - val_loss: 0.0828 - val_accuracy: 0.9760\n",
            "Epoch 5/30\n",
            "36667/36667 [==============================] - 5s 130us/sample - loss: 0.0483 - accuracy: 0.9842 - val_loss: 0.0880 - val_accuracy: 0.9768\n",
            "Epoch 6/30\n",
            "36667/36667 [==============================] - 5s 133us/sample - loss: 0.0403 - accuracy: 0.9865 - val_loss: 0.0866 - val_accuracy: 0.9768\n",
            "[CV] .................................... n_neurons=800, total=  32.3s\n"
          ],
          "name": "stdout"
        },
        {
          "output_type": "stream",
          "text": [
            "[Parallel(n_jobs=1)]: Done  24 out of  24 | elapsed: 16.2min finished\n"
          ],
          "name": "stderr"
        },
        {
          "output_type": "stream",
          "text": [
            "Train on 55000 samples, validate on 5000 samples\n",
            "Epoch 1/30\n",
            "55000/55000 [==============================] - 7s 131us/sample - loss: 0.2254 - accuracy: 0.9327 - val_loss: 0.1093 - val_accuracy: 0.9690\n",
            "Epoch 2/30\n",
            "55000/55000 [==============================] - 7s 121us/sample - loss: 0.1013 - accuracy: 0.9679 - val_loss: 0.0768 - val_accuracy: 0.9780\n",
            "Epoch 3/30\n",
            "55000/55000 [==============================] - 7s 125us/sample - loss: 0.0728 - accuracy: 0.9775 - val_loss: 0.0753 - val_accuracy: 0.9758\n",
            "Epoch 4/30\n",
            "55000/55000 [==============================] - 7s 123us/sample - loss: 0.0571 - accuracy: 0.9815 - val_loss: 0.0604 - val_accuracy: 0.9818\n",
            "Epoch 5/30\n",
            "55000/55000 [==============================] - 7s 120us/sample - loss: 0.0466 - accuracy: 0.9846 - val_loss: 0.0693 - val_accuracy: 0.9802\n",
            "Epoch 6/30\n",
            "55000/55000 [==============================] - 7s 122us/sample - loss: 0.0408 - accuracy: 0.9863 - val_loss: 0.0698 - val_accuracy: 0.9790\n"
          ],
          "name": "stdout"
        },
        {
          "output_type": "execute_result",
          "data": {
            "text/plain": [
              "GridSearchCV(cv=3, error_score=nan,\n",
              "             estimator=<tensorflow.python.keras.wrappers.scikit_learn.KerasClassifier object at 0x7fb924bfde80>,\n",
              "             iid='deprecated', n_jobs=None,\n",
              "             param_grid={'n_neurons': range(100, 900, 100)},\n",
              "             pre_dispatch='2*n_jobs', refit=True, return_train_score=False,\n",
              "             scoring=None, verbose=2)"
            ]
          },
          "metadata": {
            "tags": []
          },
          "execution_count": 37
        }
      ]
    },
    {
      "cell_type": "markdown",
      "metadata": {
        "id": "2u51f7S0ZM5r",
        "colab_type": "text"
      },
      "source": [
        "##EVALUATE"
      ]
    },
    {
      "cell_type": "markdown",
      "metadata": {
        "id": "9jj9jykP5hkD",
        "colab_type": "text"
      },
      "source": [
        "### Inspecting the best estimator"
      ]
    },
    {
      "cell_type": "markdown",
      "metadata": {
        "id": "TmBJMfTB5hkD",
        "colab_type": "text"
      },
      "source": [
        "Let's get the number of neurons that produced the best estimator"
      ]
    },
    {
      "cell_type": "code",
      "metadata": {
        "id": "c_HZWOIe5hkE",
        "colab_type": "code",
        "outputId": "13ac428a-3b8e-404d-a443-6cca30d39189",
        "colab": {
          "base_uri": "https://localhost:8080/",
          "height": 34
        }
      },
      "source": [
        "grid_cv.best_params_"
      ],
      "execution_count": 38,
      "outputs": [
        {
          "output_type": "execute_result",
          "data": {
            "text/plain": [
              "{'n_neurons': 700}"
            ]
          },
          "metadata": {
            "tags": []
          },
          "execution_count": 38
        }
      ]
    },
    {
      "cell_type": "markdown",
      "metadata": {
        "id": "UyxYloQq5hkG",
        "colab_type": "raw"
      },
      "source": [
        "Let's get the rsults to compare the performance of the 100 models."
      ]
    },
    {
      "cell_type": "code",
      "metadata": {
        "id": "xhkOrfov5hkG",
        "colab_type": "code",
        "outputId": "dae7a19a-2d02-4ebb-8cdc-fdd03ef93445",
        "colab": {
          "base_uri": "https://localhost:8080/",
          "height": 544
        }
      },
      "source": [
        "results = grid_cv.cv_results_\n",
        "results"
      ],
      "execution_count": 39,
      "outputs": [
        {
          "output_type": "execute_result",
          "data": {
            "text/plain": [
              "{'mean_fit_time': array([52.08086824, 46.35500479, 37.63238454, 37.59225392, 37.11452889,\n",
              "        37.71199703, 38.57522527, 28.64885815]),\n",
              " 'mean_score_time': array([0.95465072, 0.95755394, 1.01604072, 1.04775167, 1.10232067,\n",
              "        1.08103267, 1.14302699, 1.14870381]),\n",
              " 'mean_test_score': array([0.97289089, 0.97452724, 0.97470907, 0.97492721, 0.97478183,\n",
              "        0.97303635, 0.97607271, 0.97303633]),\n",
              " 'param_n_neurons': masked_array(data=[100, 200, 300, 400, 500, 600, 700, 800],\n",
              "              mask=[False, False, False, False, False, False, False, False],\n",
              "        fill_value='?',\n",
              "             dtype=object),\n",
              " 'params': [{'n_neurons': 100},\n",
              "  {'n_neurons': 200},\n",
              "  {'n_neurons': 300},\n",
              "  {'n_neurons': 400},\n",
              "  {'n_neurons': 500},\n",
              "  {'n_neurons': 600},\n",
              "  {'n_neurons': 700},\n",
              "  {'n_neurons': 800}],\n",
              " 'rank_test_score': array([8, 5, 4, 2, 3, 6, 1, 7], dtype=int32),\n",
              " 'split0_test_score': array([0.97387367, 0.9762736 , 0.97561908, 0.97725534, 0.97316462,\n",
              "        0.97343731, 0.97654629, 0.97452819]),\n",
              " 'split1_test_score': array([0.9709813 , 0.97256315, 0.97190857, 0.97321767, 0.97479951,\n",
              "        0.97032672, 0.9764905 , 0.9709813 ]),\n",
              " 'split2_test_score': array([0.97381771, 0.97474498, 0.97659957, 0.97430861, 0.97638136,\n",
              "        0.97534502, 0.97518134, 0.97359949]),\n",
              " 'std_fit_time': array([ 2.21025507, 12.29878248,  7.98986019,  4.00777938,  3.93743674,\n",
              "         6.52195353,  4.24237401,  2.64206501]),\n",
              " 'std_score_time': array([0.03726555, 0.02234849, 0.01749513, 0.02211148, 0.05790759,\n",
              "        0.0283114 , 0.05311349, 0.01242584]),\n",
              " 'std_test_score': array([0.00135048, 0.00152259, 0.00202031, 0.00170542, 0.00131329,\n",
              "        0.00206824, 0.0006307 , 0.00150177])}"
            ]
          },
          "metadata": {
            "tags": []
          },
          "execution_count": 39
        }
      ]
    },
    {
      "cell_type": "code",
      "metadata": {
        "id": "HNoNkMU15hkL",
        "colab_type": "code",
        "outputId": "5d944ac1-8943-4a6b-ab14-3f7bcd7c57d5",
        "colab": {
          "base_uri": "https://localhost:8080/",
          "height": 170
        }
      },
      "source": [
        "results['params'], results['rank_test_score']"
      ],
      "execution_count": 40,
      "outputs": [
        {
          "output_type": "execute_result",
          "data": {
            "text/plain": [
              "([{'n_neurons': 100},\n",
              "  {'n_neurons': 200},\n",
              "  {'n_neurons': 300},\n",
              "  {'n_neurons': 400},\n",
              "  {'n_neurons': 500},\n",
              "  {'n_neurons': 600},\n",
              "  {'n_neurons': 700},\n",
              "  {'n_neurons': 800}],\n",
              " array([8, 5, 4, 2, 3, 6, 1, 7], dtype=int32))"
            ]
          },
          "metadata": {
            "tags": []
          },
          "execution_count": 40
        }
      ]
    },
    {
      "cell_type": "code",
      "metadata": {
        "id": "yRS71YiS5hkN",
        "colab_type": "code",
        "outputId": "0e7adba4-576a-423a-be15-cb166bb4181b",
        "colab": {
          "base_uri": "https://localhost:8080/",
          "height": 422
        }
      },
      "source": [
        "best_model = grid_cv.best_estimator_.model\n",
        "keras.utils.plot_model(best_model, show_shapes=True)"
      ],
      "execution_count": 41,
      "outputs": [
        {
          "output_type": "execute_result",
          "data": {
            "image/png": "[encoded data removed]",
            "text/plain": [
              "<IPython.core.display.Image object>"
            ]
          },
          "metadata": {
            "tags": []
          },
          "execution_count": 41
        }
      ]
    },
    {
      "cell_type": "code",
      "metadata": {
        "id": "vHakmEh-5hkP",
        "colab_type": "code",
        "outputId": "d2eededf-fbd3-4c4b-a097-968687200ff4",
        "colab": {
          "base_uri": "https://localhost:8080/",
          "height": 34
        }
      },
      "source": [
        "best_model.evaluate(test_images, test_labels)"
      ],
      "execution_count": 42,
      "outputs": [
        {
          "output_type": "execute_result",
          "data": {
            "text/plain": [
              "[0.06559605062855699, 0.9803]"
            ]
          },
          "metadata": {
            "tags": []
          },
          "execution_count": 42
        }
      ]
    }
  ]
}