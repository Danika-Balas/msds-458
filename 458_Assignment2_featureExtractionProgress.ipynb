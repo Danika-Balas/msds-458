{
  "nbformat": 4,
  "nbformat_minor": 0,
  "metadata": {
    "colab": {
      "name": "458_Assignment2.ipynb",
      "provenance": [],
      "authorship_tag": "ABX9TyPRrrb2y1lrlLO839DmcMbe",
      "include_colab_link": true
    },
    "kernelspec": {
      "name": "python3",
      "display_name": "Python 3"
    },
    "accelerator": "GPU"
  },
  "cells": [
    {
      "cell_type": "markdown",
      "metadata": {
        "id": "view-in-github",
        "colab_type": "text"
      },
      "source": [
        "<a href=\"https://colab.research.google.com/github/Danika-Balas/msds-458/blob/master/458_Assignment2_featureExtractionProgress.ipynb\" target=\"_parent\"><img src=\"https://colab.research.google.com/assets/colab-badge.svg\" alt=\"Open In Colab\"/></a>"
      ]
    },
    {
      "cell_type": "markdown",
      "metadata": {
        "id": "CfRJ290OPFTf",
        "colab_type": "text"
      },
      "source": [
        "In the following code we will set up both dense neural networks and convolutional neural networks to classify images of articles of clothing from the Fashion MNIST dataset into ten classes. We will set up five different experiments in order to explore the impact different nodes on the network and to determine what features in the images are detected by the nodes. \n"
      ]
    },
    {
      "cell_type": "markdown",
      "metadata": {
        "colab_type": "text",
        "id": "W0QDEMZMPHxR"
      },
      "source": [
        "Notebook uses portions of code written by Edward Arroyo and Daniel Jensen"
      ]
    },
    {
      "cell_type": "markdown",
      "metadata": {
        "colab_type": "text",
        "id": "OhMQnPzePHxW"
      },
      "source": [
        "##Setup and Preprocessing"
      ]
    },
    {
      "cell_type": "code",
      "metadata": {
        "colab_type": "code",
        "outputId": "4fe4ad31-72b1-4ac5-ce69-bf1a459857c9",
        "id": "nane5stwPHxa",
        "colab": {
          "base_uri": "https://localhost:8080/",
          "height": 34
        }
      },
      "source": [
        "import numpy as np\n",
        "import pandas as pd\n",
        "\n",
        "import seaborn as sns\n",
        "import matplotlib.pyplot as plt\n",
        "%matplotlib inline\n",
        "sns.set(style=\"whitegrid\")\n",
        "\n",
        "from sklearn import metrics\n",
        "\n",
        "import tensorflow as tf\n",
        "from tensorflow import keras\n",
        "keras.__version__"
      ],
      "execution_count": 64,
      "outputs": [
        {
          "output_type": "execute_result",
          "data": {
            "text/plain": [
              "'2.3.0-tf'"
            ]
          },
          "metadata": {
            "tags": []
          },
          "execution_count": 64
        }
      ]
    },
    {
      "cell_type": "code",
      "metadata": {
        "colab_type": "code",
        "outputId": "5ba4aee2-a39f-4f8b-a525-2c6b9b237ea4",
        "id": "6wCfk7UGPHxm",
        "colab": {
          "base_uri": "https://localhost:8080/",
          "height": 34
        }
      },
      "source": [
        "tf.__version__"
      ],
      "execution_count": 65,
      "outputs": [
        {
          "output_type": "execute_result",
          "data": {
            "text/plain": [
              "'2.2.0-rc4'"
            ]
          },
          "metadata": {
            "tags": []
          },
          "execution_count": 65
        }
      ]
    },
    {
      "cell_type": "code",
      "metadata": {
        "colab_type": "code",
        "id": "vu3n-p0HPHxv",
        "colab": {}
      },
      "source": [
        "from keras import metrics"
      ],
      "execution_count": 0,
      "outputs": []
    },
    {
      "cell_type": "code",
      "metadata": {
        "colab_type": "code",
        "id": "JH0hHWwiPHx2",
        "colab": {}
      },
      "source": [
        "# neccessary for K.gradient to work in TensorFlow 2.x\n",
        "# only needed for the \"Finding a pattern the hidden node maximally responds to\" section below.\n",
        "# but disabled to make Tensorboard work...\n",
        "tf.compat.v1.disable_eager_execution() "
      ],
      "execution_count": 0,
      "outputs": []
    },
    {
      "cell_type": "code",
      "metadata": {
        "colab_type": "code",
        "id": "tQymUmiKPHx7",
        "colab": {}
      },
      "source": [
        "# Set see in order to achieve consistent results across runs\n",
        "keras.backend.clear_session()\n",
        "np.random.seed(42)\n",
        "tf.random.set_seed(42)"
      ],
      "execution_count": 0,
      "outputs": []
    },
    {
      "cell_type": "markdown",
      "metadata": {
        "id": "M2Drab4LRK95",
        "colab_type": "text"
      },
      "source": [
        "### Import Fashion-MNIST dataset"
      ]
    },
    {
      "cell_type": "markdown",
      "metadata": {
        "id": "i-sJvLkIRS4R",
        "colab_type": "text"
      },
      "source": [
        "Using data from collected from European fasion platform Zalondo. The dataset has been compiled to mimic the structure of the MNIST dataset. It consists of 60,000 training images and 10,000 testing images. All of the images are in grayscale and 28x28 pixels. Each of the images is labeled with an integer 0-9 that corresponds to the following classes: 'T-shirt/top', 'Trouser', 'Pullover', 'Dress', 'Coat', 'Sandal', 'Shirt', 'Sneaker', 'Bag', 'Ankle boot'.\n",
        "\n",
        "More information can be found here: https://github.com/zalandoresearch/fashion-mnist "
      ]
    },
    {
      "cell_type": "code",
      "metadata": {
        "id": "LATqxX6VPwaC",
        "colab_type": "code",
        "outputId": "cf960df3-d5ff-49b3-c0e9-9098c709f9f8",
        "colab": {
          "base_uri": "https://localhost:8080/",
          "height": 34
        }
      },
      "source": [
        "# https://www.tensorflow.org/api_docs/python/tf/keras/datasets/fashion_mnist/load_data\n",
        "from tensorflow.keras.datasets import fashion_mnist\n",
        "\n",
        "(train_images, train_labels), (test_images, test_labels) = fashion_mnist.load_data()\n",
        "\n",
        "train_images.shape, test_images.shape, train_labels.shape, test_labels.shape"
      ],
      "execution_count": 69,
      "outputs": [
        {
          "output_type": "execute_result",
          "data": {
            "text/plain": [
              "((60000, 28, 28), (10000, 28, 28), (60000,), (10000,))"
            ]
          },
          "metadata": {
            "tags": []
          },
          "execution_count": 69
        }
      ]
    },
    {
      "cell_type": "code",
      "metadata": {
        "id": "fOkkkTLLSRLD",
        "colab_type": "code",
        "outputId": "8bca4964-e4ee-4464-c362-67e4ee8a644f",
        "colab": {
          "base_uri": "https://localhost:8080/",
          "height": 34
        }
      },
      "source": [
        "#Store copy of training images in order to easily view images even after transformations are performed\n",
        "example_train_images = train_images.copy()\n",
        "example_train_images.shape"
      ],
      "execution_count": 70,
      "outputs": [
        {
          "output_type": "execute_result",
          "data": {
            "text/plain": [
              "(60000, 28, 28)"
            ]
          },
          "metadata": {
            "tags": []
          },
          "execution_count": 70
        }
      ]
    },
    {
      "cell_type": "code",
      "metadata": {
        "id": "n4S4laGXSJdO",
        "colab_type": "code",
        "outputId": "d3509bc9-21c0-4002-ea86-ce45f7cd67ae",
        "colab": {
          "base_uri": "https://localhost:8080/",
          "height": 191
        }
      },
      "source": [
        "# The distribution of the classes appears to be uniform\n",
        "from collections import Counter\n",
        "Counter(train_labels).most_common()"
      ],
      "execution_count": 71,
      "outputs": [
        {
          "output_type": "execute_result",
          "data": {
            "text/plain": [
              "[(9, 6000),\n",
              " (0, 6000),\n",
              " (3, 6000),\n",
              " (2, 6000),\n",
              " (7, 6000),\n",
              " (5, 6000),\n",
              " (1, 6000),\n",
              " (6, 6000),\n",
              " (4, 6000),\n",
              " (8, 6000)]"
            ]
          },
          "metadata": {
            "tags": []
          },
          "execution_count": 71
        }
      ]
    },
    {
      "cell_type": "code",
      "metadata": {
        "id": "-Cz1Zx_xTKh6",
        "colab_type": "code",
        "colab": {}
      },
      "source": [
        "# https://github.com/zalandoresearch/fashion-mnist\n",
        "# https://www.tensorflow.org/tutorials/keras/classification\n",
        "\n",
        "class_names = ['T-shirt/top', 'Trouser', 'Pullover', 'Dress', 'Coat',\n",
        "               'Sandal', 'Shirt', 'Sneaker', 'Bag', 'Ankle boot']"
      ],
      "execution_count": 0,
      "outputs": []
    },
    {
      "cell_type": "markdown",
      "metadata": {
        "id": "fm4dTPFLSuwX",
        "colab_type": "text"
      },
      "source": [
        "Example of a single sample, a 28x28 pixel image of an article of clothing"
      ]
    },
    {
      "cell_type": "code",
      "metadata": {
        "id": "aU0h0qwXS1JA",
        "colab_type": "code",
        "outputId": "6acd252d-89ad-4270-fb78-0046421a9c3a",
        "colab": {
          "base_uri": "https://localhost:8080/",
          "height": 264
        }
      },
      "source": [
        "#https://matplotlib.org/tutorials/colors/colormaps.html?highlight=colormap\n",
        "plt.imshow(train_images[0], cmap=\"binary\") \n",
        "plt.axis('off')\n",
        "plt.title(class_names[test_labels[0]], fontsize=12)\n",
        "plt.show()"
      ],
      "execution_count": 73,
      "outputs": [
        {
          "output_type": "display_data",
          "data": {
            "image/png": "[encoded data removed]",
            "text/plain": [
              "<Figure size 432x288 with 1 Axes>"
            ]
          },
          "metadata": {
            "tags": []
          }
        }
      ]
    },
    {
      "cell_type": "markdown",
      "metadata": {
        "id": "2ehBwoUkN2A2",
        "colab_type": "text"
      },
      "source": [
        "### Prepare the data\n"
      ]
    },
    {
      "cell_type": "code",
      "metadata": {
        "id": "9P0iTPCOOBLU",
        "colab_type": "code",
        "colab": {}
      },
      "source": [
        "# Reshape the data into the shape that the network expects\n",
        "train_images = train_images.reshape((60000, 28 * 28))\n",
        "\n",
        "# Scale the data to [0,1] interval\n",
        "train_images = train_images.astype('float32') / 255\n",
        "\n",
        "# Do the same for the test dataset\n",
        "test_images = test_images.reshape((10000, 28 * 28))\n",
        "test_images = test_images.astype('float32') / 255"
      ],
      "execution_count": 0,
      "outputs": []
    },
    {
      "cell_type": "markdown",
      "metadata": {
        "id": "pgxxzLiEOc6r",
        "colab_type": "text"
      },
      "source": [
        "Set aside 5,000 samples from the training data to use as the validation set."
      ]
    },
    {
      "cell_type": "code",
      "metadata": {
        "id": "3-ag80d_OCom",
        "colab_type": "code",
        "colab": {}
      },
      "source": [
        "val_images, train_images = train_images[:5000], train_images[5000:]\n",
        "val_labels, train_labels = train_labels[:5000], train_labels[5000:]"
      ],
      "execution_count": 0,
      "outputs": []
    },
    {
      "cell_type": "markdown",
      "metadata": {
        "id": "LCrQgfWhKOYO",
        "colab_type": "text"
      },
      "source": [
        "# Experiment 1\n",
        "'Best' DNN model from assignment 1 which used the MNIST dataset. \n",
        "Consists of a single hidden layer with 700 nodes, sigmoid activation, and Adam optimizer. The dropout layer was omitted for this experiment."
      ]
    },
    {
      "cell_type": "markdown",
      "metadata": {
        "id": "qxgqEfoFYho5",
        "colab_type": "text"
      },
      "source": [
        "### Build and compile the model"
      ]
    },
    {
      "cell_type": "code",
      "metadata": {
        "id": "zmnUVlp6S780",
        "colab_type": "code",
        "colab": {}
      },
      "source": [
        "from tensorflow.keras import models\n",
        "from tensorflow.keras import layers\n",
        "\n",
        "model = models.Sequential()\n",
        "\n",
        "model.add(layers.Dense(700, activation='sigmoid', input_shape=(28*28,)))\n",
        "model.add(layers.Dense(10, activation='softmax'))\n",
        "\n",
        "optimizer = keras.optimizers.Adam(lr=0.001)\n",
        "model.compile(loss='sparse_categorical_crossentropy', optimizer=optimizer,  metrics=['accuracy'])"
      ],
      "execution_count": 0,
      "outputs": []
    },
    {
      "cell_type": "code",
      "metadata": {
        "id": "zZgojihlYX-W",
        "colab_type": "code",
        "outputId": "f18b920c-b782-4aef-f40e-5f5158a7a385",
        "colab": {
          "base_uri": "https://localhost:8080/",
          "height": 312
        }
      },
      "source": [
        "# Plot a graph of the model\n",
        "keras.utils.plot_model(model, show_shapes=True) "
      ],
      "execution_count": 77,
      "outputs": [
        {
          "output_type": "execute_result",
          "data": {
            "image/png": "[encoded data removed]",
            "text/plain": [
              "<IPython.core.display.Image object>"
            ]
          },
          "metadata": {
            "tags": []
          },
          "execution_count": 77
        }
      ]
    },
    {
      "cell_type": "markdown",
      "metadata": {
        "id": "MIx2sGm4Yuc2",
        "colab_type": "text"
      },
      "source": [
        "### Create a callback to get training times"
      ]
    },
    {
      "cell_type": "code",
      "metadata": {
        "id": "uOhAfaCmYY4G",
        "colab_type": "code",
        "colab": {}
      },
      "source": [
        "# Define callback to get total training time\n",
        "import datetime\n",
        "\n",
        "class TrainRuntimeCallback(keras.callbacks.Callback):\n",
        "\n",
        "  def on_train_begin(self,logs={}):\n",
        "    self.start = datetime.datetime.now()\n",
        "\n",
        "  def on_train_end(self,logs={}):\n",
        "    self.process_time = (datetime.datetime.now() - self.start).total_seconds()"
      ],
      "execution_count": 0,
      "outputs": []
    },
    {
      "cell_type": "markdown",
      "metadata": {
        "id": "ysMF9YPMZBvJ",
        "colab_type": "text"
      },
      "source": [
        "### Train the model\n",
        "Using 20 epochs and batch size 100"
      ]
    },
    {
      "cell_type": "code",
      "metadata": {
        "id": "GN23IHjzYY0M",
        "colab_type": "code",
        "outputId": "256e5c09-37bc-4166-dea9-d807e3f4fb81",
        "colab": {
          "base_uri": "https://localhost:8080/",
          "height": 749
        }
      },
      "source": [
        "train_rt = TrainRuntimeCallback()\n",
        "history = model.fit(train_images, train_labels, callbacks=[train_rt], epochs=20, batch_size = 100,\n",
        "                    validation_data=(val_images, val_labels))"
      ],
      "execution_count": 79,
      "outputs": [
        {
          "output_type": "stream",
          "text": [
            "Train on 55000 samples, validate on 5000 samples\n",
            "Epoch 1/20\n",
            "55000/55000 [==============================] - 1s 20us/sample - loss: 0.5633 - accuracy: 0.8045 - val_loss: 0.4248 - val_accuracy: 0.8502\n",
            "Epoch 2/20\n",
            "55000/55000 [==============================] - 1s 20us/sample - loss: 0.4224 - accuracy: 0.8483 - val_loss: 0.4032 - val_accuracy: 0.8532\n",
            "Epoch 3/20\n",
            "55000/55000 [==============================] - 1s 20us/sample - loss: 0.3864 - accuracy: 0.8612 - val_loss: 0.3806 - val_accuracy: 0.8640\n",
            "Epoch 4/20\n",
            "55000/55000 [==============================] - 1s 20us/sample - loss: 0.3586 - accuracy: 0.8703 - val_loss: 0.3634 - val_accuracy: 0.8676\n",
            "Epoch 5/20\n",
            "55000/55000 [==============================] - 1s 20us/sample - loss: 0.3393 - accuracy: 0.8771 - val_loss: 0.3371 - val_accuracy: 0.8768\n",
            "Epoch 6/20\n",
            "55000/55000 [==============================] - 1s 20us/sample - loss: 0.3197 - accuracy: 0.8831 - val_loss: 0.3432 - val_accuracy: 0.8770\n",
            "Epoch 7/20\n",
            "55000/55000 [==============================] - 1s 20us/sample - loss: 0.3068 - accuracy: 0.8880 - val_loss: 0.3282 - val_accuracy: 0.8836\n",
            "Epoch 8/20\n",
            "55000/55000 [==============================] - 1s 19us/sample - loss: 0.2915 - accuracy: 0.8926 - val_loss: 0.3064 - val_accuracy: 0.8852\n",
            "Epoch 9/20\n",
            "55000/55000 [==============================] - 1s 20us/sample - loss: 0.2797 - accuracy: 0.8970 - val_loss: 0.3180 - val_accuracy: 0.8804\n",
            "Epoch 10/20\n",
            "55000/55000 [==============================] - 1s 20us/sample - loss: 0.2669 - accuracy: 0.9017 - val_loss: 0.3157 - val_accuracy: 0.8844\n",
            "Epoch 11/20\n",
            "55000/55000 [==============================] - 1s 20us/sample - loss: 0.2568 - accuracy: 0.9047 - val_loss: 0.2970 - val_accuracy: 0.8930\n",
            "Epoch 12/20\n",
            "55000/55000 [==============================] - 1s 20us/sample - loss: 0.2472 - accuracy: 0.9080 - val_loss: 0.3026 - val_accuracy: 0.8936\n",
            "Epoch 13/20\n",
            "55000/55000 [==============================] - 1s 20us/sample - loss: 0.2400 - accuracy: 0.9105 - val_loss: 0.2982 - val_accuracy: 0.8926\n",
            "Epoch 14/20\n",
            "55000/55000 [==============================] - 1s 20us/sample - loss: 0.2278 - accuracy: 0.9161 - val_loss: 0.3019 - val_accuracy: 0.8892\n",
            "Epoch 15/20\n",
            "55000/55000 [==============================] - 1s 20us/sample - loss: 0.2222 - accuracy: 0.9168 - val_loss: 0.2825 - val_accuracy: 0.8968\n",
            "Epoch 16/20\n",
            "55000/55000 [==============================] - 1s 20us/sample - loss: 0.2109 - accuracy: 0.9221 - val_loss: 0.2899 - val_accuracy: 0.8956\n",
            "Epoch 17/20\n",
            "55000/55000 [==============================] - 1s 20us/sample - loss: 0.2062 - accuracy: 0.9246 - val_loss: 0.2888 - val_accuracy: 0.8970\n",
            "Epoch 18/20\n",
            "55000/55000 [==============================] - 1s 20us/sample - loss: 0.1978 - accuracy: 0.9267 - val_loss: 0.2944 - val_accuracy: 0.8910\n",
            "Epoch 19/20\n",
            "55000/55000 [==============================] - 1s 20us/sample - loss: 0.1912 - accuracy: 0.9297 - val_loss: 0.2919 - val_accuracy: 0.8984\n",
            "Epoch 20/20\n",
            "55000/55000 [==============================] - 1s 20us/sample - loss: 0.1845 - accuracy: 0.9315 - val_loss: 0.2849 - val_accuracy: 0.8960\n"
          ],
          "name": "stdout"
        }
      ]
    },
    {
      "cell_type": "code",
      "metadata": {
        "id": "s1OTM2zmYYqv",
        "colab_type": "code",
        "outputId": "ad7641f2-6248-4f5a-dfe0-7eb0f9b07e52",
        "colab": {
          "base_uri": "https://localhost:8080/",
          "height": 34
        }
      },
      "source": [
        "# Get the training time\n",
        "train_time = train_rt.process_time\n",
        "train_time # in seconds"
      ],
      "execution_count": 80,
      "outputs": [
        {
          "output_type": "execute_result",
          "data": {
            "text/plain": [
              "22.253961"
            ]
          },
          "metadata": {
            "tags": []
          },
          "execution_count": 80
        }
      ]
    },
    {
      "cell_type": "markdown",
      "metadata": {
        "id": "fR1YqyU0ZP1V",
        "colab_type": "text"
      },
      "source": [
        "### Test the model"
      ]
    },
    {
      "cell_type": "code",
      "metadata": {
        "id": "Aaa-5D8VZSm5",
        "colab_type": "code",
        "colab": {}
      },
      "source": [
        "# Define callback to get total test time\n",
        "import datetime\n",
        "\n",
        "class TestRuntimeCallback(keras.callbacks.Callback):\n",
        "\n",
        "  def on_test_begin(self,logs={}):\n",
        "    self.start = datetime.datetime.now()\n",
        "\n",
        "  def on_test_end(self,logs={}):\n",
        "    self.process_time = (datetime.datetime.now() - self.start).total_seconds()"
      ],
      "execution_count": 0,
      "outputs": []
    },
    {
      "cell_type": "code",
      "metadata": {
        "id": "uERAtgJqZcLK",
        "colab_type": "code",
        "colab": {}
      },
      "source": [
        "test_rt = TestRuntimeCallback()\n",
        "test_loss, test_acc = model.evaluate(test_images, test_labels, callbacks=[test_rt])"
      ],
      "execution_count": 0,
      "outputs": []
    },
    {
      "cell_type": "code",
      "metadata": {
        "id": "QJLoUSPzaICw",
        "colab_type": "code",
        "outputId": "45998d46-2573-4944-ad73-850fe0341ae1",
        "colab": {
          "base_uri": "https://localhost:8080/",
          "height": 34
        }
      },
      "source": [
        "test_time = test_rt.process_time\n",
        "test_time # in seconds"
      ],
      "execution_count": 83,
      "outputs": [
        {
          "output_type": "execute_result",
          "data": {
            "text/plain": [
              "0.430279"
            ]
          },
          "metadata": {
            "tags": []
          },
          "execution_count": 83
        }
      ]
    },
    {
      "cell_type": "markdown",
      "metadata": {
        "id": "SBKvLr-4Zgqo",
        "colab_type": "text"
      },
      "source": [
        "### Create a dataframe for the training and test statistics"
      ]
    },
    {
      "cell_type": "code",
      "metadata": {
        "id": "kVAHQzl0ZkmV",
        "colab_type": "code",
        "outputId": "743db10d-0427-4f65-8a91-0778e9a24631",
        "colab": {
          "base_uri": "https://localhost:8080/",
          "height": 34
        }
      },
      "source": [
        "history_dict = history.history\n",
        "history_dict.keys()"
      ],
      "execution_count": 84,
      "outputs": [
        {
          "output_type": "execute_result",
          "data": {
            "text/plain": [
              "dict_keys(['loss', 'accuracy', 'val_loss', 'val_accuracy'])"
            ]
          },
          "metadata": {
            "tags": []
          },
          "execution_count": 84
        }
      ]
    },
    {
      "cell_type": "code",
      "metadata": {
        "id": "2Pm3qQ_KN9Yr",
        "colab_type": "code",
        "outputId": "d43ee54d-4fd5-441f-9e92-48bba86b79d3",
        "colab": {
          "base_uri": "https://localhost:8080/",
          "height": 206
        }
      },
      "source": [
        "history_df=pd.DataFrame(history_dict)\n",
        "history_df.tail()"
      ],
      "execution_count": 85,
      "outputs": [
        {
          "output_type": "execute_result",
          "data": {
            "text/html": [
              "<div>\n",
              "<style scoped>\n",
              "    .dataframe tbody tr th:only-of-type {\n",
              "        vertical-align: middle;\n",
              "    }\n",
              "\n",
              "    .dataframe tbody tr th {\n",
              "        vertical-align: top;\n",
              "    }\n",
              "\n",
              "    .dataframe thead th {\n",
              "        text-align: right;\n",
              "    }\n",
              "</style>\n",
              "<table border=\"1\" class=\"dataframe\">\n",
              "  <thead>\n",
              "    <tr style=\"text-align: right;\">\n",
              "      <th></th>\n",
              "      <th>loss</th>\n",
              "      <th>accuracy</th>\n",
              "      <th>val_loss</th>\n",
              "      <th>val_accuracy</th>\n",
              "    </tr>\n",
              "  </thead>\n",
              "  <tbody>\n",
              "    <tr>\n",
              "      <th>15</th>\n",
              "      <td>0.210944</td>\n",
              "      <td>0.922055</td>\n",
              "      <td>0.289889</td>\n",
              "      <td>0.8956</td>\n",
              "    </tr>\n",
              "    <tr>\n",
              "      <th>16</th>\n",
              "      <td>0.206177</td>\n",
              "      <td>0.924582</td>\n",
              "      <td>0.288760</td>\n",
              "      <td>0.8970</td>\n",
              "    </tr>\n",
              "    <tr>\n",
              "      <th>17</th>\n",
              "      <td>0.197847</td>\n",
              "      <td>0.926709</td>\n",
              "      <td>0.294415</td>\n",
              "      <td>0.8910</td>\n",
              "    </tr>\n",
              "    <tr>\n",
              "      <th>18</th>\n",
              "      <td>0.191166</td>\n",
              "      <td>0.929655</td>\n",
              "      <td>0.291875</td>\n",
              "      <td>0.8984</td>\n",
              "    </tr>\n",
              "    <tr>\n",
              "      <th>19</th>\n",
              "      <td>0.184486</td>\n",
              "      <td>0.931509</td>\n",
              "      <td>0.284880</td>\n",
              "      <td>0.8960</td>\n",
              "    </tr>\n",
              "  </tbody>\n",
              "</table>\n",
              "</div>"
            ],
            "text/plain": [
              "        loss  accuracy  val_loss  val_accuracy\n",
              "15  0.210944  0.922055  0.289889        0.8956\n",
              "16  0.206177  0.924582  0.288760        0.8970\n",
              "17  0.197847  0.926709  0.294415        0.8910\n",
              "18  0.191166  0.929655  0.291875        0.8984\n",
              "19  0.184486  0.931509  0.284880        0.8960"
            ]
          },
          "metadata": {
            "tags": []
          },
          "execution_count": 85
        }
      ]
    },
    {
      "cell_type": "code",
      "metadata": {
        "id": "AdvqcBrWN9Yy",
        "colab_type": "code",
        "outputId": "9d1920d3-4b1c-4ad3-cc1a-b3d908dbe5d8",
        "colab": {
          "base_uri": "https://localhost:8080/",
          "height": 115
        }
      },
      "source": [
        "results_df = history_df.iloc[-1:].copy()\n",
        "results_df.insert(0,'model','DNN (2 layers)') # model name to appears first\n",
        "results_df['test_loss'] = test_loss #incorporate test results\n",
        "results_df['test_accuracy'] = test_acc #incorporate test results\n",
        "results_df['training time (sec)'] = train_time    \n",
        "results_df['testing time (sec)'] = test_time      # testing time appears last\n",
        "results_df"
      ],
      "execution_count": 86,
      "outputs": [
        {
          "output_type": "execute_result",
          "data": {
            "text/html": [
              "<div>\n",
              "<style scoped>\n",
              "    .dataframe tbody tr th:only-of-type {\n",
              "        vertical-align: middle;\n",
              "    }\n",
              "\n",
              "    .dataframe tbody tr th {\n",
              "        vertical-align: top;\n",
              "    }\n",
              "\n",
              "    .dataframe thead th {\n",
              "        text-align: right;\n",
              "    }\n",
              "</style>\n",
              "<table border=\"1\" class=\"dataframe\">\n",
              "  <thead>\n",
              "    <tr style=\"text-align: right;\">\n",
              "      <th></th>\n",
              "      <th>model</th>\n",
              "      <th>loss</th>\n",
              "      <th>accuracy</th>\n",
              "      <th>val_loss</th>\n",
              "      <th>val_accuracy</th>\n",
              "      <th>test_loss</th>\n",
              "      <th>test_accuracy</th>\n",
              "      <th>training time (sec)</th>\n",
              "      <th>testing time (sec)</th>\n",
              "    </tr>\n",
              "  </thead>\n",
              "  <tbody>\n",
              "    <tr>\n",
              "      <th>19</th>\n",
              "      <td>DNN (2 layers)</td>\n",
              "      <td>0.184486</td>\n",
              "      <td>0.931509</td>\n",
              "      <td>0.28488</td>\n",
              "      <td>0.896</td>\n",
              "      <td>0.326124</td>\n",
              "      <td>0.8868</td>\n",
              "      <td>22.253961</td>\n",
              "      <td>0.430279</td>\n",
              "    </tr>\n",
              "  </tbody>\n",
              "</table>\n",
              "</div>"
            ],
            "text/plain": [
              "             model      loss  ...  training time (sec)  testing time (sec)\n",
              "19  DNN (2 layers)  0.184486  ...            22.253961            0.430279\n",
              "\n",
              "[1 rows x 9 columns]"
            ]
          },
          "metadata": {
            "tags": []
          },
          "execution_count": 86
        }
      ]
    },
    {
      "cell_type": "code",
      "metadata": {
        "id": "DqBj7PZ6aCbZ",
        "colab_type": "code",
        "colab": {}
      },
      "source": [
        ""
      ],
      "execution_count": 0,
      "outputs": []
    },
    {
      "cell_type": "markdown",
      "metadata": {
        "id": "_NeAd6MKN9Y1",
        "colab_type": "text"
      },
      "source": [
        "### Plotting the performance \n",
        "\n",
        "We use Matplotlib to create 2 plots--displaying the training and validation loss (resp. accuracy) for each (training) epoch side by side."
      ]
    },
    {
      "cell_type": "code",
      "metadata": {
        "id": "z5lD2M7QN9Y2",
        "colab_type": "code",
        "outputId": "f0e1be14-0635-4874-feaa-a9c836ef21cb",
        "colab": {
          "base_uri": "https://localhost:8080/",
          "height": 301
        }
      },
      "source": [
        "import matplotlib.pyplot as plt\n",
        "\n",
        "acc = history.history['accuracy']\n",
        "val_acc = history.history['val_accuracy']\n",
        "loss = history.history['loss']\n",
        "val_loss = history.history['val_loss']\n",
        "\n",
        "epochs = range(1, len(acc) + 1)\n",
        "\n",
        "# \"bo\" is for \"blue dot\"\n",
        "plt.plot(epochs, loss, 'bo', label='Training loss')\n",
        "# b is for \"solid blue line\"\n",
        "plt.plot(epochs, val_loss, 'b', label='Validation loss')\n",
        "plt.title('Training and validation loss')\n",
        "\n",
        "plt.xlabel('Epochs')\n",
        "plt.ylabel('Loss')\n",
        "plt.legend()\n",
        "\n",
        "plt.show()"
      ],
      "execution_count": 87,
      "outputs": [
        {
          "output_type": "display_data",
          "data": {
            "image/png": "[encoded data removed]",
            "text/plain": [
              "<Figure size 432x288 with 1 Axes>"
            ]
          },
          "metadata": {
            "tags": []
          }
        }
      ]
    },
    {
      "cell_type": "code",
      "metadata": {
        "id": "bACOXGORN9Y6",
        "colab_type": "code",
        "outputId": "55576d96-3117-41e0-ba7f-dcf8f7441f73",
        "colab": {
          "base_uri": "https://localhost:8080/",
          "height": 301
        }
      },
      "source": [
        "plt.clf()   # clear figure\n",
        "acc_values = history_dict['accuracy']\n",
        "# val_acc_values = history_dict['val_acc']\n",
        "\n",
        "plt.plot(epochs, acc, 'bo', label='Training acc')\n",
        "plt.plot(epochs, val_acc, 'b', label='Validation acc')\n",
        "plt.title('Training and validation accuracy')\n",
        "\n",
        "plt.xlabel('Epochs')\n",
        "plt.ylabel('Accuracy')\n",
        "plt.legend()\n",
        "\n",
        "plt.show()"
      ],
      "execution_count": 88,
      "outputs": [
        {
          "output_type": "display_data",
          "data": {
            "image/png": "[encoded data removed]",
            "text/plain": [
              "<Figure size 432x288 with 1 Axes>"
            ]
          },
          "metadata": {
            "tags": []
          }
        }
      ]
    },
    {
      "cell_type": "markdown",
      "metadata": {
        "id": "yJIXMRlFa0c_",
        "colab_type": "text"
      },
      "source": [
        "# Experiment 2\n",
        "This DNN is the same as in Experiment 1, but with an additional hidden layer.\n",
        "784 input nodes, hidden layer with 700 nodes, hidden layer with **370** nodes, and 10 output nodes."
      ]
    },
    {
      "cell_type": "markdown",
      "metadata": {
        "colab_type": "text",
        "id": "DZbpvtWhj2-5"
      },
      "source": [
        "## Build and compile the model"
      ]
    },
    {
      "cell_type": "code",
      "metadata": {
        "colab_type": "code",
        "id": "zACdPGldj2-_",
        "colab": {}
      },
      "source": [
        "from tensorflow.keras import models\n",
        "from tensorflow.keras import layers\n",
        "\n",
        "model = models.Sequential()\n",
        "\n",
        "model.add(layers.Dense(700, activation='sigmoid', input_shape=(28*28,)))\n",
        "model.add(layers.Dense(370, activation='sigmoid'))\n",
        "model.add(layers.Dense(10, activation='softmax'))\n",
        "\n",
        "optimizer = keras.optimizers.Adam(lr=0.001)\n",
        "model.compile(loss='sparse_categorical_crossentropy', optimizer=optimizer,  metrics=['accuracy'])"
      ],
      "execution_count": 0,
      "outputs": []
    },
    {
      "cell_type": "code",
      "metadata": {
        "colab_type": "code",
        "outputId": "fd4ae796-1146-4248-9017-a34b7d9d2720",
        "id": "uT0ebkfSj2_I",
        "colab": {
          "base_uri": "https://localhost:8080/",
          "height": 0
        }
      },
      "source": [
        "# Plot a graph of the model\n",
        "keras.utils.plot_model(model, show_shapes=True) "
      ],
      "execution_count": 90,
      "outputs": [
        {
          "output_type": "execute_result",
          "data": {
            "image/png": "[encoded data removed]",
            "text/plain": [
              "<IPython.core.display.Image object>"
            ]
          },
          "metadata": {
            "tags": []
          },
          "execution_count": 90
        }
      ]
    },
    {
      "cell_type": "markdown",
      "metadata": {
        "colab_type": "text",
        "id": "L0M7c0cMj2_Q"
      },
      "source": [
        "## Train the model\n",
        "Using 20 epochs and batch size 100"
      ]
    },
    {
      "cell_type": "code",
      "metadata": {
        "colab_type": "code",
        "outputId": "ecfdbad9-56a0-4d5a-dbc5-6ff774df9ba0",
        "id": "Cd0Dngzuj2_R",
        "colab": {
          "base_uri": "https://localhost:8080/",
          "height": 0
        }
      },
      "source": [
        "train_rt = TrainRuntimeCallback()\n",
        "history = model.fit(train_images, train_labels, callbacks=[train_rt], epochs=20, batch_size = 100,\n",
        "                    validation_data=(val_images, val_labels))"
      ],
      "execution_count": 91,
      "outputs": [
        {
          "output_type": "stream",
          "text": [
            "Train on 55000 samples, validate on 5000 samples\n",
            "Epoch 1/20\n",
            "55000/55000 [==============================] - 1s 24us/sample - loss: 0.6047 - accuracy: 0.7842 - val_loss: 0.4301 - val_accuracy: 0.8486\n",
            "Epoch 2/20\n",
            "55000/55000 [==============================] - 1s 23us/sample - loss: 0.4084 - accuracy: 0.8517 - val_loss: 0.3675 - val_accuracy: 0.8678\n",
            "Epoch 3/20\n",
            "55000/55000 [==============================] - 1s 23us/sample - loss: 0.3653 - accuracy: 0.8661 - val_loss: 0.3480 - val_accuracy: 0.8726\n",
            "Epoch 4/20\n",
            "55000/55000 [==============================] - 1s 23us/sample - loss: 0.3410 - accuracy: 0.8733 - val_loss: 0.3557 - val_accuracy: 0.8664\n",
            "Epoch 5/20\n",
            "55000/55000 [==============================] - 1s 23us/sample - loss: 0.3187 - accuracy: 0.8848 - val_loss: 0.3236 - val_accuracy: 0.8858\n",
            "Epoch 6/20\n",
            "55000/55000 [==============================] - 1s 23us/sample - loss: 0.3037 - accuracy: 0.8880 - val_loss: 0.3540 - val_accuracy: 0.8624\n",
            "Epoch 7/20\n",
            "55000/55000 [==============================] - 1s 23us/sample - loss: 0.2914 - accuracy: 0.8916 - val_loss: 0.2982 - val_accuracy: 0.8892\n",
            "Epoch 8/20\n",
            "55000/55000 [==============================] - 1s 22us/sample - loss: 0.2749 - accuracy: 0.8979 - val_loss: 0.3007 - val_accuracy: 0.8906\n",
            "Epoch 9/20\n",
            "55000/55000 [==============================] - 1s 21us/sample - loss: 0.2629 - accuracy: 0.9021 - val_loss: 0.2935 - val_accuracy: 0.8916\n",
            "Epoch 10/20\n",
            "55000/55000 [==============================] - 1s 22us/sample - loss: 0.2511 - accuracy: 0.9071 - val_loss: 0.3149 - val_accuracy: 0.8848\n",
            "Epoch 11/20\n",
            "55000/55000 [==============================] - 1s 21us/sample - loss: 0.2410 - accuracy: 0.9085 - val_loss: 0.2860 - val_accuracy: 0.8952\n",
            "Epoch 12/20\n",
            "55000/55000 [==============================] - 1s 22us/sample - loss: 0.2303 - accuracy: 0.9142 - val_loss: 0.2915 - val_accuracy: 0.8962\n",
            "Epoch 13/20\n",
            "55000/55000 [==============================] - 1s 20us/sample - loss: 0.2217 - accuracy: 0.9175 - val_loss: 0.2957 - val_accuracy: 0.8948\n",
            "Epoch 14/20\n",
            "55000/55000 [==============================] - 1s 20us/sample - loss: 0.2138 - accuracy: 0.9188 - val_loss: 0.2868 - val_accuracy: 0.8954\n",
            "Epoch 15/20\n",
            "55000/55000 [==============================] - 1s 21us/sample - loss: 0.2033 - accuracy: 0.9229 - val_loss: 0.2804 - val_accuracy: 0.8928\n",
            "Epoch 16/20\n",
            "55000/55000 [==============================] - 1s 21us/sample - loss: 0.1949 - accuracy: 0.9269 - val_loss: 0.3197 - val_accuracy: 0.8914\n",
            "Epoch 17/20\n",
            "55000/55000 [==============================] - 1s 21us/sample - loss: 0.1866 - accuracy: 0.9291 - val_loss: 0.3006 - val_accuracy: 0.8910\n",
            "Epoch 18/20\n",
            "55000/55000 [==============================] - 1s 22us/sample - loss: 0.1769 - accuracy: 0.9340 - val_loss: 0.2889 - val_accuracy: 0.8996\n",
            "Epoch 19/20\n",
            "55000/55000 [==============================] - 1s 21us/sample - loss: 0.1717 - accuracy: 0.9351 - val_loss: 0.3006 - val_accuracy: 0.8946\n",
            "Epoch 20/20\n",
            "55000/55000 [==============================] - 1s 21us/sample - loss: 0.1652 - accuracy: 0.9388 - val_loss: 0.3037 - val_accuracy: 0.8998\n"
          ],
          "name": "stdout"
        }
      ]
    },
    {
      "cell_type": "code",
      "metadata": {
        "colab_type": "code",
        "outputId": "9a89ad52-50cc-401b-c196-d4229c5242a7",
        "id": "zW18_snvj2_T",
        "colab": {
          "base_uri": "https://localhost:8080/",
          "height": 0
        }
      },
      "source": [
        "# Get the training time\n",
        "train_time = train_rt.process_time\n",
        "train_time # in seconds"
      ],
      "execution_count": 92,
      "outputs": [
        {
          "output_type": "execute_result",
          "data": {
            "text/plain": [
              "24.296363"
            ]
          },
          "metadata": {
            "tags": []
          },
          "execution_count": 92
        }
      ]
    },
    {
      "cell_type": "markdown",
      "metadata": {
        "colab_type": "text",
        "id": "ijUW2L93j2_W"
      },
      "source": [
        "## Test the model"
      ]
    },
    {
      "cell_type": "code",
      "metadata": {
        "colab_type": "code",
        "id": "Z0mTz5wnj2_Z",
        "outputId": "467b5dfa-caa4-432b-dc5e-efd5f706a6e2",
        "colab": {
          "base_uri": "https://localhost:8080/",
          "height": 0
        }
      },
      "source": [
        "test_rt = TestRuntimeCallback()\n",
        "test_loss, test_acc = model.evaluate(test_images, test_labels, callbacks=[test_rt])\n",
        "test_loss, test_acc"
      ],
      "execution_count": 93,
      "outputs": [
        {
          "output_type": "execute_result",
          "data": {
            "text/plain": [
              "(0.34026717511415483, 0.8893)"
            ]
          },
          "metadata": {
            "tags": []
          },
          "execution_count": 93
        }
      ]
    },
    {
      "cell_type": "code",
      "metadata": {
        "colab_type": "code",
        "outputId": "2a2b1a55-faeb-4cf1-e9f4-23e0fa4b452f",
        "id": "l2O-0Qurj2_c",
        "colab": {
          "base_uri": "https://localhost:8080/",
          "height": 0
        }
      },
      "source": [
        "test_time = test_rt.process_time\n",
        "test_time # in seconds"
      ],
      "execution_count": 94,
      "outputs": [
        {
          "output_type": "execute_result",
          "data": {
            "text/plain": [
              "0.404731"
            ]
          },
          "metadata": {
            "tags": []
          },
          "execution_count": 94
        }
      ]
    },
    {
      "cell_type": "markdown",
      "metadata": {
        "id": "Apzzp2wfljDN",
        "colab_type": "text"
      },
      "source": [
        "##Add training and testing statistics to the results dataframe"
      ]
    },
    {
      "cell_type": "code",
      "metadata": {
        "id": "71VqxFYoN9Zd",
        "colab_type": "code",
        "outputId": "a9e90943-db32-49a4-d2cd-7278e7e0987c",
        "colab": {
          "base_uri": "https://localhost:8080/",
          "height": 0
        }
      },
      "source": [
        "history_dict = history.history\n",
        "history_df=pd.DataFrame(history_dict)\n",
        "results_df2 = history_df.iloc[-1:].copy()\n",
        "results_df2.insert(0,'model','DNN (3 layers)') # want the model name to appear first\n",
        "results_df2['test_loss'] = test_loss #incorporate test results\n",
        "results_df2['test_accuracy'] = test_acc\n",
        "results_df2['training time (sec)'] = train_time     \n",
        "results_df2['testing time (sec)'] = test_time      # testing time appears last\n",
        "results_df2"
      ],
      "execution_count": 95,
      "outputs": [
        {
          "output_type": "execute_result",
          "data": {
            "text/html": [
              "<div>\n",
              "<style scoped>\n",
              "    .dataframe tbody tr th:only-of-type {\n",
              "        vertical-align: middle;\n",
              "    }\n",
              "\n",
              "    .dataframe tbody tr th {\n",
              "        vertical-align: top;\n",
              "    }\n",
              "\n",
              "    .dataframe thead th {\n",
              "        text-align: right;\n",
              "    }\n",
              "</style>\n",
              "<table border=\"1\" class=\"dataframe\">\n",
              "  <thead>\n",
              "    <tr style=\"text-align: right;\">\n",
              "      <th></th>\n",
              "      <th>model</th>\n",
              "      <th>loss</th>\n",
              "      <th>accuracy</th>\n",
              "      <th>val_loss</th>\n",
              "      <th>val_accuracy</th>\n",
              "      <th>test_loss</th>\n",
              "      <th>test_accuracy</th>\n",
              "      <th>training time (sec)</th>\n",
              "      <th>testing time (sec)</th>\n",
              "    </tr>\n",
              "  </thead>\n",
              "  <tbody>\n",
              "    <tr>\n",
              "      <th>19</th>\n",
              "      <td>DNN (3 layers)</td>\n",
              "      <td>0.165208</td>\n",
              "      <td>0.938764</td>\n",
              "      <td>0.303697</td>\n",
              "      <td>0.8998</td>\n",
              "      <td>0.340267</td>\n",
              "      <td>0.8893</td>\n",
              "      <td>24.296363</td>\n",
              "      <td>0.404731</td>\n",
              "    </tr>\n",
              "  </tbody>\n",
              "</table>\n",
              "</div>"
            ],
            "text/plain": [
              "             model      loss  ...  training time (sec)  testing time (sec)\n",
              "19  DNN (3 layers)  0.165208  ...            24.296363            0.404731\n",
              "\n",
              "[1 rows x 9 columns]"
            ]
          },
          "metadata": {
            "tags": []
          },
          "execution_count": 95
        }
      ]
    },
    {
      "cell_type": "markdown",
      "metadata": {
        "id": "NsxbZ4GfN9Ze",
        "colab_type": "raw"
      },
      "source": [
        "Add the new data to results_df"
      ]
    },
    {
      "cell_type": "code",
      "metadata": {
        "id": "IwI9qQvSN9Zg",
        "colab_type": "code",
        "outputId": "96a1504e-d554-40a6-cac2-2704a9667e44",
        "colab": {
          "base_uri": "https://localhost:8080/",
          "height": 0
        }
      },
      "source": [
        "results_df=results_df.append(results_df2,ignore_index=True)\n",
        "results_df"
      ],
      "execution_count": 96,
      "outputs": [
        {
          "output_type": "execute_result",
          "data": {
            "text/html": [
              "<div>\n",
              "<style scoped>\n",
              "    .dataframe tbody tr th:only-of-type {\n",
              "        vertical-align: middle;\n",
              "    }\n",
              "\n",
              "    .dataframe tbody tr th {\n",
              "        vertical-align: top;\n",
              "    }\n",
              "\n",
              "    .dataframe thead th {\n",
              "        text-align: right;\n",
              "    }\n",
              "</style>\n",
              "<table border=\"1\" class=\"dataframe\">\n",
              "  <thead>\n",
              "    <tr style=\"text-align: right;\">\n",
              "      <th></th>\n",
              "      <th>model</th>\n",
              "      <th>loss</th>\n",
              "      <th>accuracy</th>\n",
              "      <th>val_loss</th>\n",
              "      <th>val_accuracy</th>\n",
              "      <th>test_loss</th>\n",
              "      <th>test_accuracy</th>\n",
              "      <th>training time (sec)</th>\n",
              "      <th>testing time (sec)</th>\n",
              "    </tr>\n",
              "  </thead>\n",
              "  <tbody>\n",
              "    <tr>\n",
              "      <th>0</th>\n",
              "      <td>DNN (2 layers)</td>\n",
              "      <td>0.184486</td>\n",
              "      <td>0.931509</td>\n",
              "      <td>0.284880</td>\n",
              "      <td>0.8960</td>\n",
              "      <td>0.326124</td>\n",
              "      <td>0.8868</td>\n",
              "      <td>22.253961</td>\n",
              "      <td>0.430279</td>\n",
              "    </tr>\n",
              "    <tr>\n",
              "      <th>1</th>\n",
              "      <td>DNN (3 layers)</td>\n",
              "      <td>0.165208</td>\n",
              "      <td>0.938764</td>\n",
              "      <td>0.303697</td>\n",
              "      <td>0.8998</td>\n",
              "      <td>0.340267</td>\n",
              "      <td>0.8893</td>\n",
              "      <td>24.296363</td>\n",
              "      <td>0.404731</td>\n",
              "    </tr>\n",
              "  </tbody>\n",
              "</table>\n",
              "</div>"
            ],
            "text/plain": [
              "            model      loss  ...  training time (sec)  testing time (sec)\n",
              "0  DNN (2 layers)  0.184486  ...            22.253961            0.430279\n",
              "1  DNN (3 layers)  0.165208  ...            24.296363            0.404731\n",
              "\n",
              "[2 rows x 9 columns]"
            ]
          },
          "metadata": {
            "tags": []
          },
          "execution_count": 96
        }
      ]
    },
    {
      "cell_type": "markdown",
      "metadata": {
        "colab_type": "text",
        "id": "Oc4WNNgdr0_I"
      },
      "source": [
        "## Plotting the performance "
      ]
    },
    {
      "cell_type": "code",
      "metadata": {
        "colab_type": "code",
        "outputId": "b69f4738-d52b-4d38-b734-304606930303",
        "id": "HK6h4raar0_Q",
        "colab": {
          "base_uri": "https://localhost:8080/",
          "height": 0
        }
      },
      "source": [
        "import matplotlib.pyplot as plt\n",
        "\n",
        "acc = history.history['accuracy']\n",
        "val_acc = history.history['val_accuracy']\n",
        "loss = history.history['loss']\n",
        "val_loss = history.history['val_loss']\n",
        "\n",
        "epochs = range(1, len(acc) + 1)\n",
        "\n",
        "# \"bo\" is for \"blue dot\"\n",
        "plt.plot(epochs, loss, 'bo', label='Training loss')\n",
        "# b is for \"solid blue line\"\n",
        "plt.plot(epochs, val_loss, 'b', label='Validation loss')\n",
        "plt.title('Training and validation loss')\n",
        "\n",
        "plt.xlabel('Epochs')\n",
        "plt.ylabel('Loss')\n",
        "plt.legend()\n",
        "\n",
        "plt.show()"
      ],
      "execution_count": 97,
      "outputs": [
        {
          "output_type": "display_data",
          "data": {
            "image/png": "[encoded data removed]",
            "text/plain": [
              "<Figure size 432x288 with 1 Axes>"
            ]
          },
          "metadata": {
            "tags": []
          }
        }
      ]
    },
    {
      "cell_type": "code",
      "metadata": {
        "colab_type": "code",
        "outputId": "c52fd983-6ae6-42be-9db1-40da847cea1c",
        "id": "oBgGCyxUr0_Z",
        "colab": {
          "base_uri": "https://localhost:8080/",
          "height": 0
        }
      },
      "source": [
        "plt.clf()   # clear figure\n",
        "acc_values = history_dict['accuracy']\n",
        "# val_acc_values = history_dict['val_acc']\n",
        "\n",
        "plt.plot(epochs, acc, 'bo', label='Training acc')\n",
        "plt.plot(epochs, val_acc, 'b', label='Validation acc')\n",
        "plt.title('Training and validation accuracy')\n",
        "\n",
        "plt.xlabel('Epochs')\n",
        "plt.ylabel('Accuracy')\n",
        "plt.legend()\n",
        "\n",
        "plt.show()"
      ],
      "execution_count": 98,
      "outputs": [
        {
          "output_type": "display_data",
          "data": {
            "image/png": "[encoded data removed]",
            "text/plain": [
              "<Figure size 432x288 with 1 Axes>"
            ]
          },
          "metadata": {
            "tags": []
          }
        }
      ]
    },
    {
      "cell_type": "markdown",
      "metadata": {
        "id": "ET40PvdnADY1",
        "colab_type": "text"
      },
      "source": [
        "# Experiment 3\n",
        "CNN with 2 convolution/max pooling layers and no dropout."
      ]
    },
    {
      "cell_type": "markdown",
      "metadata": {
        "id": "qLtU4aDkCCR_",
        "colab_type": "text"
      },
      "source": [
        "##Prepare the data\n",
        "Must reshape the data"
      ]
    },
    {
      "cell_type": "code",
      "metadata": {
        "id": "XC24QFbmCboW",
        "colab_type": "code",
        "outputId": "7b0d2d63-bc14-4a0c-8460-61059663da37",
        "colab": {
          "base_uri": "https://localhost:8080/",
          "height": 34
        }
      },
      "source": [
        "train_images.shape"
      ],
      "execution_count": 99,
      "outputs": [
        {
          "output_type": "execute_result",
          "data": {
            "text/plain": [
              "(55000, 784)"
            ]
          },
          "metadata": {
            "tags": []
          },
          "execution_count": 99
        }
      ]
    },
    {
      "cell_type": "code",
      "metadata": {
        "id": "TU4vgVO_CGG-",
        "colab_type": "code",
        "colab": {}
      },
      "source": [
        "train_images = train_images.reshape((55000, 28, 28, 1))\n",
        "\n",
        "test_images = test_images.reshape((10000, 28, 28, 1))\n",
        "\n",
        "val_images = val_images.reshape((5000, 28, 28, 1))"
      ],
      "execution_count": 0,
      "outputs": []
    },
    {
      "cell_type": "markdown",
      "metadata": {
        "id": "PlKbzUNPAoTC",
        "colab_type": "text"
      },
      "source": [
        "##Build and compile the model\n"
      ]
    },
    {
      "cell_type": "code",
      "metadata": {
        "id": "ypuJ5q0wsGvS",
        "colab_type": "code",
        "colab": {}
      },
      "source": [
        "# CNN with 2 convolution/max pooling layers\n",
        "\n",
        "\n",
        "model = models.Sequential()\n",
        "model.add(layers.Conv2D(32, (3, 3), activation='relu', input_shape=(28, 28, 1)))\n",
        "model.add(layers.MaxPooling2D((2, 2)))\n",
        "model.add(layers.Conv2D(64, (3, 3), activation='relu'))\n",
        "model.add(layers.MaxPooling2D((2, 2)))\n",
        "model.add(layers.Flatten())\n",
        "model.add(layers.Dense(512, activation='relu'))\n",
        "model.add(layers.Dense(10, activation='softmax'))\n",
        "\n",
        "model.compile(optimizer ='adam',\n",
        "              loss='sparse_categorical_crossentropy',\n",
        "              metrics=['accuracy'])"
      ],
      "execution_count": 0,
      "outputs": []
    },
    {
      "cell_type": "code",
      "metadata": {
        "id": "6jUvqmxLDeh9",
        "colab_type": "code",
        "colab": {
          "base_uri": "https://localhost:8080/",
          "height": 865
        },
        "outputId": "8cd7cd6b-07d6-461a-e17a-3e6f62f5e48d"
      },
      "source": [
        "keras.utils.plot_model(model, show_shapes=True)"
      ],
      "execution_count": 102,
      "outputs": [
        {
          "output_type": "execute_result",
          "data": {
            "image/png": "[encoded data removed]",
            "text/plain": [
              "<IPython.core.display.Image object>"
            ]
          },
          "metadata": {
            "tags": []
          },
          "execution_count": 102
        }
      ]
    },
    {
      "cell_type": "markdown",
      "metadata": {
        "id": "opEkoJNVBN-F",
        "colab_type": "text"
      },
      "source": [
        "##Train the model"
      ]
    },
    {
      "cell_type": "code",
      "metadata": {
        "id": "cihBVAzRBIbg",
        "colab_type": "code",
        "outputId": "b6b21b07-6274-4575-9973-2815511b1c30",
        "colab": {
          "base_uri": "https://localhost:8080/",
          "height": 749
        }
      },
      "source": [
        "train_rt = TrainRuntimeCallback()\n",
        "history = model.fit(train_images, train_labels, callbacks=[train_rt], epochs=20,  batch_size = 100,\n",
        "                    validation_data=(val_images, val_labels))"
      ],
      "execution_count": 103,
      "outputs": [
        {
          "output_type": "stream",
          "text": [
            "Train on 55000 samples, validate on 5000 samples\n",
            "Epoch 1/20\n",
            "55000/55000 [==============================] - 2s 34us/sample - loss: 0.4895 - accuracy: 0.8218 - val_loss: 0.3389 - val_accuracy: 0.8830\n",
            "Epoch 2/20\n",
            "55000/55000 [==============================] - 2s 33us/sample - loss: 0.3175 - accuracy: 0.8839 - val_loss: 0.2783 - val_accuracy: 0.8996\n",
            "Epoch 3/20\n",
            "55000/55000 [==============================] - 2s 33us/sample - loss: 0.2674 - accuracy: 0.9017 - val_loss: 0.2636 - val_accuracy: 0.9040\n",
            "Epoch 4/20\n",
            "55000/55000 [==============================] - 2s 33us/sample - loss: 0.2363 - accuracy: 0.9130 - val_loss: 0.2349 - val_accuracy: 0.9150\n",
            "Epoch 5/20\n",
            "55000/55000 [==============================] - 2s 34us/sample - loss: 0.2102 - accuracy: 0.9226 - val_loss: 0.2797 - val_accuracy: 0.9038\n",
            "Epoch 6/20\n",
            "55000/55000 [==============================] - 2s 33us/sample - loss: 0.1897 - accuracy: 0.9289 - val_loss: 0.2273 - val_accuracy: 0.9182\n",
            "Epoch 7/20\n",
            "55000/55000 [==============================] - 2s 33us/sample - loss: 0.1665 - accuracy: 0.9381 - val_loss: 0.2300 - val_accuracy: 0.9208\n",
            "Epoch 8/20\n",
            "55000/55000 [==============================] - 2s 33us/sample - loss: 0.1464 - accuracy: 0.9455 - val_loss: 0.2293 - val_accuracy: 0.9162\n",
            "Epoch 9/20\n",
            "55000/55000 [==============================] - 2s 33us/sample - loss: 0.1282 - accuracy: 0.9524 - val_loss: 0.2362 - val_accuracy: 0.9194\n",
            "Epoch 10/20\n",
            "55000/55000 [==============================] - 2s 33us/sample - loss: 0.1130 - accuracy: 0.9585 - val_loss: 0.2447 - val_accuracy: 0.9240\n",
            "Epoch 11/20\n",
            "55000/55000 [==============================] - 2s 33us/sample - loss: 0.0973 - accuracy: 0.9635 - val_loss: 0.2451 - val_accuracy: 0.9228\n",
            "Epoch 12/20\n",
            "55000/55000 [==============================] - 2s 33us/sample - loss: 0.0841 - accuracy: 0.9693 - val_loss: 0.2557 - val_accuracy: 0.9214\n",
            "Epoch 13/20\n",
            "55000/55000 [==============================] - 2s 33us/sample - loss: 0.0708 - accuracy: 0.9741 - val_loss: 0.2818 - val_accuracy: 0.9190\n",
            "Epoch 14/20\n",
            "55000/55000 [==============================] - 2s 33us/sample - loss: 0.0625 - accuracy: 0.9778 - val_loss: 0.2727 - val_accuracy: 0.9200\n",
            "Epoch 15/20\n",
            "55000/55000 [==============================] - 2s 33us/sample - loss: 0.0502 - accuracy: 0.9816 - val_loss: 0.2968 - val_accuracy: 0.9202\n",
            "Epoch 16/20\n",
            "55000/55000 [==============================] - 2s 33us/sample - loss: 0.0446 - accuracy: 0.9843 - val_loss: 0.3316 - val_accuracy: 0.9184\n",
            "Epoch 17/20\n",
            "55000/55000 [==============================] - 2s 33us/sample - loss: 0.0383 - accuracy: 0.9856 - val_loss: 0.3480 - val_accuracy: 0.9172\n",
            "Epoch 18/20\n",
            "55000/55000 [==============================] - 2s 33us/sample - loss: 0.0344 - accuracy: 0.9883 - val_loss: 0.3693 - val_accuracy: 0.9182\n",
            "Epoch 19/20\n",
            "55000/55000 [==============================] - 2s 34us/sample - loss: 0.0322 - accuracy: 0.9885 - val_loss: 0.3667 - val_accuracy: 0.9208\n",
            "Epoch 20/20\n",
            "55000/55000 [==============================] - 2s 33us/sample - loss: 0.0268 - accuracy: 0.9906 - val_loss: 0.4021 - val_accuracy: 0.9146\n"
          ],
          "name": "stdout"
        }
      ]
    },
    {
      "cell_type": "code",
      "metadata": {
        "id": "0auFbjEJBUjb",
        "colab_type": "code",
        "outputId": "f06ee384-1bb8-4afa-986c-b88d55a3b28e",
        "colab": {
          "base_uri": "https://localhost:8080/",
          "height": 34
        }
      },
      "source": [
        "# Get the training time\n",
        "train_time = train_rt.process_time\n",
        "train_time # in seconds"
      ],
      "execution_count": 104,
      "outputs": [
        {
          "output_type": "execute_result",
          "data": {
            "text/plain": [
              "36.74123"
            ]
          },
          "metadata": {
            "tags": []
          },
          "execution_count": 104
        }
      ]
    },
    {
      "cell_type": "markdown",
      "metadata": {
        "colab_type": "text",
        "id": "T3SNc_USDse3"
      },
      "source": [
        "## Test the model"
      ]
    },
    {
      "cell_type": "code",
      "metadata": {
        "colab_type": "code",
        "outputId": "7830b10f-68bd-4b79-9fdc-9bacc48aa416",
        "id": "3smS2Uh4Dse4",
        "colab": {
          "base_uri": "https://localhost:8080/",
          "height": 34
        }
      },
      "source": [
        "test_rt = TestRuntimeCallback()\n",
        "test_loss, test_acc = model.evaluate(test_images, test_labels, callbacks=[test_rt])\n",
        "test_loss, test_acc"
      ],
      "execution_count": 105,
      "outputs": [
        {
          "output_type": "execute_result",
          "data": {
            "text/plain": [
              "(0.45011717852950095, 0.9098)"
            ]
          },
          "metadata": {
            "tags": []
          },
          "execution_count": 105
        }
      ]
    },
    {
      "cell_type": "code",
      "metadata": {
        "colab_type": "code",
        "outputId": "ef85c849-4dcc-4ca8-8faf-6717273b1994",
        "id": "nGWjHlvfDse8",
        "colab": {
          "base_uri": "https://localhost:8080/",
          "height": 34
        }
      },
      "source": [
        "test_time = test_rt.process_time\n",
        "test_time # in seconds"
      ],
      "execution_count": 106,
      "outputs": [
        {
          "output_type": "execute_result",
          "data": {
            "text/plain": [
              "0.470963"
            ]
          },
          "metadata": {
            "tags": []
          },
          "execution_count": 106
        }
      ]
    },
    {
      "cell_type": "markdown",
      "metadata": {
        "id": "cvwrNSSEFAXX",
        "colab_type": "text"
      },
      "source": [
        "##Add training and test statistics to results dataframe"
      ]
    },
    {
      "cell_type": "code",
      "metadata": {
        "id": "5GESxjsfFE6h",
        "colab_type": "code",
        "outputId": "7f901a93-7fd0-4502-dd48-67922dbcfe5d",
        "colab": {
          "base_uri": "https://localhost:8080/",
          "height": 206
        }
      },
      "source": [
        "history_dict = history.history\n",
        "history_df=pd.DataFrame(history_dict)\n",
        "history_df.tail()"
      ],
      "execution_count": 107,
      "outputs": [
        {
          "output_type": "execute_result",
          "data": {
            "text/html": [
              "<div>\n",
              "<style scoped>\n",
              "    .dataframe tbody tr th:only-of-type {\n",
              "        vertical-align: middle;\n",
              "    }\n",
              "\n",
              "    .dataframe tbody tr th {\n",
              "        vertical-align: top;\n",
              "    }\n",
              "\n",
              "    .dataframe thead th {\n",
              "        text-align: right;\n",
              "    }\n",
              "</style>\n",
              "<table border=\"1\" class=\"dataframe\">\n",
              "  <thead>\n",
              "    <tr style=\"text-align: right;\">\n",
              "      <th></th>\n",
              "      <th>loss</th>\n",
              "      <th>accuracy</th>\n",
              "      <th>val_loss</th>\n",
              "      <th>val_accuracy</th>\n",
              "    </tr>\n",
              "  </thead>\n",
              "  <tbody>\n",
              "    <tr>\n",
              "      <th>15</th>\n",
              "      <td>0.044578</td>\n",
              "      <td>0.984309</td>\n",
              "      <td>0.331646</td>\n",
              "      <td>0.9184</td>\n",
              "    </tr>\n",
              "    <tr>\n",
              "      <th>16</th>\n",
              "      <td>0.038302</td>\n",
              "      <td>0.985600</td>\n",
              "      <td>0.348027</td>\n",
              "      <td>0.9172</td>\n",
              "    </tr>\n",
              "    <tr>\n",
              "      <th>17</th>\n",
              "      <td>0.034415</td>\n",
              "      <td>0.988291</td>\n",
              "      <td>0.369290</td>\n",
              "      <td>0.9182</td>\n",
              "    </tr>\n",
              "    <tr>\n",
              "      <th>18</th>\n",
              "      <td>0.032223</td>\n",
              "      <td>0.988509</td>\n",
              "      <td>0.366679</td>\n",
              "      <td>0.9208</td>\n",
              "    </tr>\n",
              "    <tr>\n",
              "      <th>19</th>\n",
              "      <td>0.026785</td>\n",
              "      <td>0.990636</td>\n",
              "      <td>0.402103</td>\n",
              "      <td>0.9146</td>\n",
              "    </tr>\n",
              "  </tbody>\n",
              "</table>\n",
              "</div>"
            ],
            "text/plain": [
              "        loss  accuracy  val_loss  val_accuracy\n",
              "15  0.044578  0.984309  0.331646        0.9184\n",
              "16  0.038302  0.985600  0.348027        0.9172\n",
              "17  0.034415  0.988291  0.369290        0.9182\n",
              "18  0.032223  0.988509  0.366679        0.9208\n",
              "19  0.026785  0.990636  0.402103        0.9146"
            ]
          },
          "metadata": {
            "tags": []
          },
          "execution_count": 107
        }
      ]
    },
    {
      "cell_type": "code",
      "metadata": {
        "colab_type": "code",
        "outputId": "36921eae-a11b-4d5b-911e-fecf0702716c",
        "id": "sadSVfZwFmTh",
        "colab": {
          "base_uri": "https://localhost:8080/",
          "height": 115
        }
      },
      "source": [
        "results_df3 = history_df.iloc[-1:].copy()\n",
        "results_df3.insert(0,'model','CNN (2 layers)') # want the model name to appear first\n",
        "results_df3['test_loss'] = test_loss #incorporate test results\n",
        "results_df3['test_accuracy'] = test_acc\n",
        "results_df3['training time (sec)'] = train_time     \n",
        "results_df3['testing time (sec)'] = test_time      # testing time appears last\n",
        "results_df3"
      ],
      "execution_count": 108,
      "outputs": [
        {
          "output_type": "execute_result",
          "data": {
            "text/html": [
              "<div>\n",
              "<style scoped>\n",
              "    .dataframe tbody tr th:only-of-type {\n",
              "        vertical-align: middle;\n",
              "    }\n",
              "\n",
              "    .dataframe tbody tr th {\n",
              "        vertical-align: top;\n",
              "    }\n",
              "\n",
              "    .dataframe thead th {\n",
              "        text-align: right;\n",
              "    }\n",
              "</style>\n",
              "<table border=\"1\" class=\"dataframe\">\n",
              "  <thead>\n",
              "    <tr style=\"text-align: right;\">\n",
              "      <th></th>\n",
              "      <th>model</th>\n",
              "      <th>loss</th>\n",
              "      <th>accuracy</th>\n",
              "      <th>val_loss</th>\n",
              "      <th>val_accuracy</th>\n",
              "      <th>test_loss</th>\n",
              "      <th>test_accuracy</th>\n",
              "      <th>training time (sec)</th>\n",
              "      <th>testing time (sec)</th>\n",
              "    </tr>\n",
              "  </thead>\n",
              "  <tbody>\n",
              "    <tr>\n",
              "      <th>19</th>\n",
              "      <td>CNN (2 layers)</td>\n",
              "      <td>0.026785</td>\n",
              "      <td>0.990636</td>\n",
              "      <td>0.402103</td>\n",
              "      <td>0.9146</td>\n",
              "      <td>0.450117</td>\n",
              "      <td>0.9098</td>\n",
              "      <td>36.74123</td>\n",
              "      <td>0.470963</td>\n",
              "    </tr>\n",
              "  </tbody>\n",
              "</table>\n",
              "</div>"
            ],
            "text/plain": [
              "             model      loss  ...  training time (sec)  testing time (sec)\n",
              "19  CNN (2 layers)  0.026785  ...             36.74123            0.470963\n",
              "\n",
              "[1 rows x 9 columns]"
            ]
          },
          "metadata": {
            "tags": []
          },
          "execution_count": 108
        }
      ]
    },
    {
      "cell_type": "code",
      "metadata": {
        "colab_type": "code",
        "outputId": "c7349117-004e-440e-b89b-bd37a8acbd5e",
        "id": "VQsRoYkOFmTq",
        "colab": {
          "base_uri": "https://localhost:8080/",
          "height": 213
        }
      },
      "source": [
        "results_df=results_df.append(results_df3,ignore_index=True)\n",
        "results_df"
      ],
      "execution_count": 109,
      "outputs": [
        {
          "output_type": "execute_result",
          "data": {
            "text/html": [
              "<div>\n",
              "<style scoped>\n",
              "    .dataframe tbody tr th:only-of-type {\n",
              "        vertical-align: middle;\n",
              "    }\n",
              "\n",
              "    .dataframe tbody tr th {\n",
              "        vertical-align: top;\n",
              "    }\n",
              "\n",
              "    .dataframe thead th {\n",
              "        text-align: right;\n",
              "    }\n",
              "</style>\n",
              "<table border=\"1\" class=\"dataframe\">\n",
              "  <thead>\n",
              "    <tr style=\"text-align: right;\">\n",
              "      <th></th>\n",
              "      <th>model</th>\n",
              "      <th>loss</th>\n",
              "      <th>accuracy</th>\n",
              "      <th>val_loss</th>\n",
              "      <th>val_accuracy</th>\n",
              "      <th>test_loss</th>\n",
              "      <th>test_accuracy</th>\n",
              "      <th>training time (sec)</th>\n",
              "      <th>testing time (sec)</th>\n",
              "    </tr>\n",
              "  </thead>\n",
              "  <tbody>\n",
              "    <tr>\n",
              "      <th>0</th>\n",
              "      <td>DNN (2 layers)</td>\n",
              "      <td>0.184486</td>\n",
              "      <td>0.931509</td>\n",
              "      <td>0.284880</td>\n",
              "      <td>0.8960</td>\n",
              "      <td>0.326124</td>\n",
              "      <td>0.8868</td>\n",
              "      <td>22.253961</td>\n",
              "      <td>0.430279</td>\n",
              "    </tr>\n",
              "    <tr>\n",
              "      <th>1</th>\n",
              "      <td>DNN (3 layers)</td>\n",
              "      <td>0.165208</td>\n",
              "      <td>0.938764</td>\n",
              "      <td>0.303697</td>\n",
              "      <td>0.8998</td>\n",
              "      <td>0.340267</td>\n",
              "      <td>0.8893</td>\n",
              "      <td>24.296363</td>\n",
              "      <td>0.404731</td>\n",
              "    </tr>\n",
              "    <tr>\n",
              "      <th>2</th>\n",
              "      <td>CNN (2 layers)</td>\n",
              "      <td>0.026785</td>\n",
              "      <td>0.990636</td>\n",
              "      <td>0.402103</td>\n",
              "      <td>0.9146</td>\n",
              "      <td>0.450117</td>\n",
              "      <td>0.9098</td>\n",
              "      <td>36.741230</td>\n",
              "      <td>0.470963</td>\n",
              "    </tr>\n",
              "  </tbody>\n",
              "</table>\n",
              "</div>"
            ],
            "text/plain": [
              "            model      loss  ...  training time (sec)  testing time (sec)\n",
              "0  DNN (2 layers)  0.184486  ...            22.253961            0.430279\n",
              "1  DNN (3 layers)  0.165208  ...            24.296363            0.404731\n",
              "2  CNN (2 layers)  0.026785  ...            36.741230            0.470963\n",
              "\n",
              "[3 rows x 9 columns]"
            ]
          },
          "metadata": {
            "tags": []
          },
          "execution_count": 109
        }
      ]
    },
    {
      "cell_type": "markdown",
      "metadata": {
        "colab_type": "text",
        "id": "9x0I4r1FFmTu"
      },
      "source": [
        "## Plotting the performance "
      ]
    },
    {
      "cell_type": "code",
      "metadata": {
        "colab_type": "code",
        "outputId": "394ddf60-9ada-4845-c206-0aa832319453",
        "id": "_Dd7-aQNFmTu",
        "colab": {
          "base_uri": "https://localhost:8080/",
          "height": 301
        }
      },
      "source": [
        "import matplotlib.pyplot as plt\n",
        "\n",
        "acc = history.history['accuracy']\n",
        "val_acc = history.history['val_accuracy']\n",
        "loss = history.history['loss']\n",
        "val_loss = history.history['val_loss']\n",
        "\n",
        "epochs = range(1, len(acc) + 1)\n",
        "\n",
        "# \"bo\" is for \"blue dot\"\n",
        "plt.plot(epochs, loss, 'bo', label='Training loss')\n",
        "# b is for \"solid blue line\"\n",
        "plt.plot(epochs, val_loss, 'b', label='Validation loss')\n",
        "plt.title('Training and validation loss')\n",
        "\n",
        "plt.xlabel('Epochs')\n",
        "plt.ylabel('Loss')\n",
        "plt.legend()\n",
        "\n",
        "plt.show()"
      ],
      "execution_count": 110,
      "outputs": [
        {
          "output_type": "display_data",
          "data": {
            "image/png": "[encoded data removed]",
            "text/plain": [
              "<Figure size 432x288 with 1 Axes>"
            ]
          },
          "metadata": {
            "tags": []
          }
        }
      ]
    },
    {
      "cell_type": "code",
      "metadata": {
        "colab_type": "code",
        "outputId": "534bb05c-3e9f-43d0-a83d-fd9c1ad4fd5d",
        "id": "fOIUTCiBFmTy",
        "colab": {
          "base_uri": "https://localhost:8080/",
          "height": 301
        }
      },
      "source": [
        "plt.clf()   # clear figure\n",
        "acc_values = history_dict['accuracy']\n",
        "# val_acc_values = history_dict['val_acc']\n",
        "\n",
        "plt.plot(epochs, acc, 'bo', label='Training acc')\n",
        "plt.plot(epochs, val_acc, 'b', label='Validation acc')\n",
        "plt.title('Training and validation accuracy')\n",
        "\n",
        "plt.xlabel('Epochs')\n",
        "plt.ylabel('Accuracy')\n",
        "plt.legend()\n",
        "\n",
        "plt.show()"
      ],
      "execution_count": 111,
      "outputs": [
        {
          "output_type": "display_data",
          "data": {
            "image/png": "[encoded data removed]",
            "text/plain": [
              "<Figure size 432x288 with 1 Axes>"
            ]
          },
          "metadata": {
            "tags": []
          }
        }
      ]
    },
    {
      "cell_type": "code",
      "metadata": {
        "id": "31gb_xWRFSAm",
        "colab_type": "code",
        "colab": {}
      },
      "source": [
        "# save the model\n",
        "model.save(\"experiment3.h5\")"
      ],
      "execution_count": 0,
      "outputs": []
    },
    {
      "cell_type": "markdown",
      "metadata": {
        "id": "mPa6hjB0HQPq",
        "colab_type": "text"
      },
      "source": [
        "#Experiment 4\n",
        "CNN with 3 convolution/max pooling layers"
      ]
    },
    {
      "cell_type": "markdown",
      "metadata": {
        "id": "WTm7TDniHaWQ",
        "colab_type": "text"
      },
      "source": [
        "##Build and compile the model"
      ]
    },
    {
      "cell_type": "code",
      "metadata": {
        "colab_type": "code",
        "id": "zgUPKUmMHiHg",
        "colab": {}
      },
      "source": [
        "# CNN with 3 convolution/max pooling layers\n",
        "\n",
        "\n",
        "model = models.Sequential()\n",
        "model.add(layers.Conv2D(32, (3, 3), activation='relu', input_shape=(28, 28, 1)))\n",
        "model.add(layers.MaxPooling2D((2, 2)))\n",
        "model.add(layers.Conv2D(64, (3, 3), activation='relu'))\n",
        "model.add(layers.MaxPooling2D((2, 2)))\n",
        "model.add(layers.Conv2D(64, (3,3), activation='relu'))\n",
        "model.add(layers.MaxPooling2D((2,2)))\n",
        "model.add(layers.Flatten())\n",
        "model.add(layers.Dense(512, activation='relu'))\n",
        "model.add(layers.Dense(10, activation='softmax'))\n",
        "\n",
        "model.compile(optimizer ='adam',\n",
        "              loss='sparse_categorical_crossentropy',\n",
        "              metrics=['accuracy'])"
      ],
      "execution_count": 0,
      "outputs": []
    },
    {
      "cell_type": "code",
      "metadata": {
        "colab_type": "code",
        "id": "DnqCDWORHiHr",
        "outputId": "6d318b70-019b-4399-a215-880ae786ce9e",
        "colab": {
          "base_uri": "https://localhost:8080/",
          "height": 1000
        }
      },
      "source": [
        "keras.utils.plot_model(model, show_shapes=True)"
      ],
      "execution_count": 114,
      "outputs": [
        {
          "output_type": "execute_result",
          "data": {
            "image/png": "[encoded data removed]",
            "text/plain": [
              "<IPython.core.display.Image object>"
            ]
          },
          "metadata": {
            "tags": []
          },
          "execution_count": 114
        }
      ]
    },
    {
      "cell_type": "markdown",
      "metadata": {
        "colab_type": "text",
        "id": "WFDE4KyKHiHw"
      },
      "source": [
        "##Train the model"
      ]
    },
    {
      "cell_type": "code",
      "metadata": {
        "colab_type": "code",
        "outputId": "e428f707-5b77-4e71-bb2e-4a87ee8e00b7",
        "id": "jaUiJYH3HiHx",
        "colab": {
          "base_uri": "https://localhost:8080/",
          "height": 749
        }
      },
      "source": [
        "train_rt = TrainRuntimeCallback()\n",
        "history = model.fit(train_images, train_labels, callbacks=[train_rt], epochs=20,  batch_size = 100,\n",
        "                    validation_data=(val_images, val_labels))"
      ],
      "execution_count": 115,
      "outputs": [
        {
          "output_type": "stream",
          "text": [
            "Train on 55000 samples, validate on 5000 samples\n",
            "Epoch 1/20\n",
            "55000/55000 [==============================] - 2s 37us/sample - loss: 0.6964 - accuracy: 0.7435 - val_loss: 0.4665 - val_accuracy: 0.8296\n",
            "Epoch 2/20\n",
            "55000/55000 [==============================] - 2s 35us/sample - loss: 0.4401 - accuracy: 0.8383 - val_loss: 0.4048 - val_accuracy: 0.8502\n",
            "Epoch 3/20\n",
            "55000/55000 [==============================] - 2s 35us/sample - loss: 0.3781 - accuracy: 0.8613 - val_loss: 0.3452 - val_accuracy: 0.8746\n",
            "Epoch 4/20\n",
            "55000/55000 [==============================] - 2s 35us/sample - loss: 0.3410 - accuracy: 0.8738 - val_loss: 0.3496 - val_accuracy: 0.8714\n",
            "Epoch 5/20\n",
            "55000/55000 [==============================] - 2s 35us/sample - loss: 0.3129 - accuracy: 0.8839 - val_loss: 0.3196 - val_accuracy: 0.8834\n",
            "Epoch 6/20\n",
            "55000/55000 [==============================] - 2s 36us/sample - loss: 0.2878 - accuracy: 0.8926 - val_loss: 0.2942 - val_accuracy: 0.8948\n",
            "Epoch 7/20\n",
            "55000/55000 [==============================] - 2s 35us/sample - loss: 0.2694 - accuracy: 0.9005 - val_loss: 0.2846 - val_accuracy: 0.8946\n",
            "Epoch 8/20\n",
            "55000/55000 [==============================] - 2s 35us/sample - loss: 0.2540 - accuracy: 0.9060 - val_loss: 0.2954 - val_accuracy: 0.8908\n",
            "Epoch 9/20\n",
            "55000/55000 [==============================] - 2s 36us/sample - loss: 0.2380 - accuracy: 0.9104 - val_loss: 0.2961 - val_accuracy: 0.8898\n",
            "Epoch 10/20\n",
            "55000/55000 [==============================] - 2s 36us/sample - loss: 0.2232 - accuracy: 0.9179 - val_loss: 0.2899 - val_accuracy: 0.8952\n",
            "Epoch 11/20\n",
            "55000/55000 [==============================] - 2s 36us/sample - loss: 0.2108 - accuracy: 0.9214 - val_loss: 0.2792 - val_accuracy: 0.8996\n",
            "Epoch 12/20\n",
            "55000/55000 [==============================] - 2s 35us/sample - loss: 0.1969 - accuracy: 0.9269 - val_loss: 0.2944 - val_accuracy: 0.8946\n",
            "Epoch 13/20\n",
            "55000/55000 [==============================] - 2s 36us/sample - loss: 0.1865 - accuracy: 0.9310 - val_loss: 0.2954 - val_accuracy: 0.8918\n",
            "Epoch 14/20\n",
            "55000/55000 [==============================] - 2s 36us/sample - loss: 0.1757 - accuracy: 0.9355 - val_loss: 0.3022 - val_accuracy: 0.8948\n",
            "Epoch 15/20\n",
            "55000/55000 [==============================] - 2s 35us/sample - loss: 0.1653 - accuracy: 0.9376 - val_loss: 0.2975 - val_accuracy: 0.8966\n",
            "Epoch 16/20\n",
            "55000/55000 [==============================] - 2s 35us/sample - loss: 0.1574 - accuracy: 0.9411 - val_loss: 0.3157 - val_accuracy: 0.8962\n",
            "Epoch 17/20\n",
            "55000/55000 [==============================] - 2s 36us/sample - loss: 0.1461 - accuracy: 0.9448 - val_loss: 0.3320 - val_accuracy: 0.8956\n",
            "Epoch 18/20\n",
            "55000/55000 [==============================] - 2s 35us/sample - loss: 0.1355 - accuracy: 0.9501 - val_loss: 0.3077 - val_accuracy: 0.9018\n",
            "Epoch 19/20\n",
            "55000/55000 [==============================] - 2s 36us/sample - loss: 0.1338 - accuracy: 0.9490 - val_loss: 0.3424 - val_accuracy: 0.8938\n",
            "Epoch 20/20\n",
            "55000/55000 [==============================] - 2s 35us/sample - loss: 0.1205 - accuracy: 0.9553 - val_loss: 0.3306 - val_accuracy: 0.9016\n"
          ],
          "name": "stdout"
        }
      ]
    },
    {
      "cell_type": "code",
      "metadata": {
        "colab_type": "code",
        "outputId": "18e9af6b-e3d8-4e13-eeef-310af597e6b8",
        "id": "Qmc0cmWBHiH1",
        "colab": {
          "base_uri": "https://localhost:8080/",
          "height": 34
        }
      },
      "source": [
        "# Get the training time\n",
        "train_time = train_rt.process_time\n",
        "train_time # in seconds"
      ],
      "execution_count": 116,
      "outputs": [
        {
          "output_type": "execute_result",
          "data": {
            "text/plain": [
              "39.435362"
            ]
          },
          "metadata": {
            "tags": []
          },
          "execution_count": 116
        }
      ]
    },
    {
      "cell_type": "markdown",
      "metadata": {
        "colab_type": "text",
        "id": "8Orz6JTjIL10"
      },
      "source": [
        "## Test the model"
      ]
    },
    {
      "cell_type": "code",
      "metadata": {
        "colab_type": "code",
        "outputId": "14d0c6ff-06b5-4b9b-a152-0677ec1c6255",
        "id": "NqLr7sK8IL12",
        "colab": {
          "base_uri": "https://localhost:8080/",
          "height": 34
        }
      },
      "source": [
        "test_rt = TestRuntimeCallback()\n",
        "test_loss, test_acc = model.evaluate(test_images, test_labels, callbacks=[test_rt])\n",
        "test_loss, test_acc"
      ],
      "execution_count": 117,
      "outputs": [
        {
          "output_type": "execute_result",
          "data": {
            "text/plain": [
              "(0.35598787281513217, 0.9002)"
            ]
          },
          "metadata": {
            "tags": []
          },
          "execution_count": 117
        }
      ]
    },
    {
      "cell_type": "code",
      "metadata": {
        "colab_type": "code",
        "outputId": "b205fd5a-545e-4e96-bd13-4a78519272d6",
        "id": "jCAL8Nj0IL15",
        "colab": {
          "base_uri": "https://localhost:8080/",
          "height": 34
        }
      },
      "source": [
        "test_time = test_rt.process_time\n",
        "test_time # in seconds"
      ],
      "execution_count": 118,
      "outputs": [
        {
          "output_type": "execute_result",
          "data": {
            "text/plain": [
              "0.493949"
            ]
          },
          "metadata": {
            "tags": []
          },
          "execution_count": 118
        }
      ]
    },
    {
      "cell_type": "markdown",
      "metadata": {
        "colab_type": "text",
        "id": "24x4NtczKm1o"
      },
      "source": [
        "##Add training and test statistics to results dataframe"
      ]
    },
    {
      "cell_type": "code",
      "metadata": {
        "colab_type": "code",
        "outputId": "c244c333-53f6-48f2-d1b5-378fa9a315c4",
        "id": "L-TWet-AKm1s",
        "colab": {
          "base_uri": "https://localhost:8080/",
          "height": 206
        }
      },
      "source": [
        "history_dict = history.history\n",
        "history_df=pd.DataFrame(history_dict)\n",
        "history_df.tail()"
      ],
      "execution_count": 119,
      "outputs": [
        {
          "output_type": "execute_result",
          "data": {
            "text/html": [
              "<div>\n",
              "<style scoped>\n",
              "    .dataframe tbody tr th:only-of-type {\n",
              "        vertical-align: middle;\n",
              "    }\n",
              "\n",
              "    .dataframe tbody tr th {\n",
              "        vertical-align: top;\n",
              "    }\n",
              "\n",
              "    .dataframe thead th {\n",
              "        text-align: right;\n",
              "    }\n",
              "</style>\n",
              "<table border=\"1\" class=\"dataframe\">\n",
              "  <thead>\n",
              "    <tr style=\"text-align: right;\">\n",
              "      <th></th>\n",
              "      <th>loss</th>\n",
              "      <th>accuracy</th>\n",
              "      <th>val_loss</th>\n",
              "      <th>val_accuracy</th>\n",
              "    </tr>\n",
              "  </thead>\n",
              "  <tbody>\n",
              "    <tr>\n",
              "      <th>15</th>\n",
              "      <td>0.157417</td>\n",
              "      <td>0.941109</td>\n",
              "      <td>0.315744</td>\n",
              "      <td>0.8962</td>\n",
              "    </tr>\n",
              "    <tr>\n",
              "      <th>16</th>\n",
              "      <td>0.146098</td>\n",
              "      <td>0.944764</td>\n",
              "      <td>0.332031</td>\n",
              "      <td>0.8956</td>\n",
              "    </tr>\n",
              "    <tr>\n",
              "      <th>17</th>\n",
              "      <td>0.135478</td>\n",
              "      <td>0.950109</td>\n",
              "      <td>0.307670</td>\n",
              "      <td>0.9018</td>\n",
              "    </tr>\n",
              "    <tr>\n",
              "      <th>18</th>\n",
              "      <td>0.133773</td>\n",
              "      <td>0.949036</td>\n",
              "      <td>0.342435</td>\n",
              "      <td>0.8938</td>\n",
              "    </tr>\n",
              "    <tr>\n",
              "      <th>19</th>\n",
              "      <td>0.120504</td>\n",
              "      <td>0.955345</td>\n",
              "      <td>0.330610</td>\n",
              "      <td>0.9016</td>\n",
              "    </tr>\n",
              "  </tbody>\n",
              "</table>\n",
              "</div>"
            ],
            "text/plain": [
              "        loss  accuracy  val_loss  val_accuracy\n",
              "15  0.157417  0.941109  0.315744        0.8962\n",
              "16  0.146098  0.944764  0.332031        0.8956\n",
              "17  0.135478  0.950109  0.307670        0.9018\n",
              "18  0.133773  0.949036  0.342435        0.8938\n",
              "19  0.120504  0.955345  0.330610        0.9016"
            ]
          },
          "metadata": {
            "tags": []
          },
          "execution_count": 119
        }
      ]
    },
    {
      "cell_type": "code",
      "metadata": {
        "colab_type": "code",
        "outputId": "044c7227-2b94-48c3-d65e-b1068394a9f3",
        "id": "XcNETugcKm1z",
        "colab": {
          "base_uri": "https://localhost:8080/",
          "height": 115
        }
      },
      "source": [
        "results_df4 = history_df.iloc[-1:].copy()\n",
        "results_df4.insert(0,'model','CNN (3 layers)') # want the model name to appear first\n",
        "results_df4['test_loss'] = test_loss #incorporate test results\n",
        "results_df4['test_accuracy'] = test_acc\n",
        "results_df4['training time (sec)'] = train_time     \n",
        "results_df4['testing time (sec)'] = test_time      # testing time appears last\n",
        "results_df4"
      ],
      "execution_count": 120,
      "outputs": [
        {
          "output_type": "execute_result",
          "data": {
            "text/html": [
              "<div>\n",
              "<style scoped>\n",
              "    .dataframe tbody tr th:only-of-type {\n",
              "        vertical-align: middle;\n",
              "    }\n",
              "\n",
              "    .dataframe tbody tr th {\n",
              "        vertical-align: top;\n",
              "    }\n",
              "\n",
              "    .dataframe thead th {\n",
              "        text-align: right;\n",
              "    }\n",
              "</style>\n",
              "<table border=\"1\" class=\"dataframe\">\n",
              "  <thead>\n",
              "    <tr style=\"text-align: right;\">\n",
              "      <th></th>\n",
              "      <th>model</th>\n",
              "      <th>loss</th>\n",
              "      <th>accuracy</th>\n",
              "      <th>val_loss</th>\n",
              "      <th>val_accuracy</th>\n",
              "      <th>test_loss</th>\n",
              "      <th>test_accuracy</th>\n",
              "      <th>training time (sec)</th>\n",
              "      <th>testing time (sec)</th>\n",
              "    </tr>\n",
              "  </thead>\n",
              "  <tbody>\n",
              "    <tr>\n",
              "      <th>19</th>\n",
              "      <td>CNN (3 layers)</td>\n",
              "      <td>0.120504</td>\n",
              "      <td>0.955345</td>\n",
              "      <td>0.33061</td>\n",
              "      <td>0.9016</td>\n",
              "      <td>0.355988</td>\n",
              "      <td>0.9002</td>\n",
              "      <td>39.435362</td>\n",
              "      <td>0.493949</td>\n",
              "    </tr>\n",
              "  </tbody>\n",
              "</table>\n",
              "</div>"
            ],
            "text/plain": [
              "             model      loss  ...  training time (sec)  testing time (sec)\n",
              "19  CNN (3 layers)  0.120504  ...            39.435362            0.493949\n",
              "\n",
              "[1 rows x 9 columns]"
            ]
          },
          "metadata": {
            "tags": []
          },
          "execution_count": 120
        }
      ]
    },
    {
      "cell_type": "code",
      "metadata": {
        "colab_type": "code",
        "outputId": "a740a3d8-341f-4e64-d711-8d0ddc284b39",
        "id": "T1S65m2DKm13",
        "colab": {
          "base_uri": "https://localhost:8080/",
          "height": 262
        }
      },
      "source": [
        "results_df=results_df.append(results_df4,ignore_index=True)\n",
        "results_df"
      ],
      "execution_count": 121,
      "outputs": [
        {
          "output_type": "execute_result",
          "data": {
            "text/html": [
              "<div>\n",
              "<style scoped>\n",
              "    .dataframe tbody tr th:only-of-type {\n",
              "        vertical-align: middle;\n",
              "    }\n",
              "\n",
              "    .dataframe tbody tr th {\n",
              "        vertical-align: top;\n",
              "    }\n",
              "\n",
              "    .dataframe thead th {\n",
              "        text-align: right;\n",
              "    }\n",
              "</style>\n",
              "<table border=\"1\" class=\"dataframe\">\n",
              "  <thead>\n",
              "    <tr style=\"text-align: right;\">\n",
              "      <th></th>\n",
              "      <th>model</th>\n",
              "      <th>loss</th>\n",
              "      <th>accuracy</th>\n",
              "      <th>val_loss</th>\n",
              "      <th>val_accuracy</th>\n",
              "      <th>test_loss</th>\n",
              "      <th>test_accuracy</th>\n",
              "      <th>training time (sec)</th>\n",
              "      <th>testing time (sec)</th>\n",
              "    </tr>\n",
              "  </thead>\n",
              "  <tbody>\n",
              "    <tr>\n",
              "      <th>0</th>\n",
              "      <td>DNN (2 layers)</td>\n",
              "      <td>0.184486</td>\n",
              "      <td>0.931509</td>\n",
              "      <td>0.284880</td>\n",
              "      <td>0.8960</td>\n",
              "      <td>0.326124</td>\n",
              "      <td>0.8868</td>\n",
              "      <td>22.253961</td>\n",
              "      <td>0.430279</td>\n",
              "    </tr>\n",
              "    <tr>\n",
              "      <th>1</th>\n",
              "      <td>DNN (3 layers)</td>\n",
              "      <td>0.165208</td>\n",
              "      <td>0.938764</td>\n",
              "      <td>0.303697</td>\n",
              "      <td>0.8998</td>\n",
              "      <td>0.340267</td>\n",
              "      <td>0.8893</td>\n",
              "      <td>24.296363</td>\n",
              "      <td>0.404731</td>\n",
              "    </tr>\n",
              "    <tr>\n",
              "      <th>2</th>\n",
              "      <td>CNN (2 layers)</td>\n",
              "      <td>0.026785</td>\n",
              "      <td>0.990636</td>\n",
              "      <td>0.402103</td>\n",
              "      <td>0.9146</td>\n",
              "      <td>0.450117</td>\n",
              "      <td>0.9098</td>\n",
              "      <td>36.741230</td>\n",
              "      <td>0.470963</td>\n",
              "    </tr>\n",
              "    <tr>\n",
              "      <th>3</th>\n",
              "      <td>CNN (3 layers)</td>\n",
              "      <td>0.120504</td>\n",
              "      <td>0.955345</td>\n",
              "      <td>0.330610</td>\n",
              "      <td>0.9016</td>\n",
              "      <td>0.355988</td>\n",
              "      <td>0.9002</td>\n",
              "      <td>39.435362</td>\n",
              "      <td>0.493949</td>\n",
              "    </tr>\n",
              "  </tbody>\n",
              "</table>\n",
              "</div>"
            ],
            "text/plain": [
              "            model      loss  ...  training time (sec)  testing time (sec)\n",
              "0  DNN (2 layers)  0.184486  ...            22.253961            0.430279\n",
              "1  DNN (3 layers)  0.165208  ...            24.296363            0.404731\n",
              "2  CNN (2 layers)  0.026785  ...            36.741230            0.470963\n",
              "3  CNN (3 layers)  0.120504  ...            39.435362            0.493949\n",
              "\n",
              "[4 rows x 9 columns]"
            ]
          },
          "metadata": {
            "tags": []
          },
          "execution_count": 121
        }
      ]
    },
    {
      "cell_type": "code",
      "metadata": {
        "id": "MN4fklj4AZzQ",
        "colab_type": "code",
        "colab": {
          "base_uri": "https://localhost:8080/",
          "height": 365
        },
        "outputId": "4de585bb-df9e-4268-dd81-ee19c5b8e775"
      },
      "source": [
        "# #Export results dataframe\n",
        "\n",
        "# from google.colab import files\n",
        "\n",
        "# results_df.to_csv('A2_noDropout.csv')\n",
        "# files.download('A2_noDropout.csv')"
      ],
      "execution_count": 122,
      "outputs": [
        {
          "output_type": "error",
          "ename": "MessageError",
          "evalue": "ignored",
          "traceback": [
            "\u001b[0;31m---------------------------------------------------------------------------\u001b[0m",
            "\u001b[0;31mMessageError\u001b[0m                              Traceback (most recent call last)",
            "\u001b[0;32m<ipython-input-122-e314c93798a0>\u001b[0m in \u001b[0;36m<module>\u001b[0;34m()\u001b[0m\n\u001b[1;32m      3\u001b[0m \u001b[0;34m\u001b[0m\u001b[0m\n\u001b[1;32m      4\u001b[0m \u001b[0mresults_df\u001b[0m\u001b[0;34m.\u001b[0m\u001b[0mto_csv\u001b[0m\u001b[0;34m(\u001b[0m\u001b[0;34m'A2_noDropout.csv'\u001b[0m\u001b[0;34m)\u001b[0m\u001b[0;34m\u001b[0m\u001b[0;34m\u001b[0m\u001b[0m\n\u001b[0;32m----> 5\u001b[0;31m \u001b[0mfiles\u001b[0m\u001b[0;34m.\u001b[0m\u001b[0mdownload\u001b[0m\u001b[0;34m(\u001b[0m\u001b[0;34m'A2_noDropout.csv'\u001b[0m\u001b[0;34m)\u001b[0m\u001b[0;34m\u001b[0m\u001b[0;34m\u001b[0m\u001b[0m\n\u001b[0m",
            "\u001b[0;32m/usr/local/lib/python3.6/dist-packages/google/colab/files.py\u001b[0m in \u001b[0;36mdownload\u001b[0;34m(filename)\u001b[0m\n\u001b[1;32m    176\u001b[0m       \u001b[0;34m'port'\u001b[0m\u001b[0;34m:\u001b[0m \u001b[0mport\u001b[0m\u001b[0;34m,\u001b[0m\u001b[0;34m\u001b[0m\u001b[0;34m\u001b[0m\u001b[0m\n\u001b[1;32m    177\u001b[0m       \u001b[0;34m'path'\u001b[0m\u001b[0;34m:\u001b[0m \u001b[0m_os\u001b[0m\u001b[0;34m.\u001b[0m\u001b[0mpath\u001b[0m\u001b[0;34m.\u001b[0m\u001b[0mabspath\u001b[0m\u001b[0;34m(\u001b[0m\u001b[0mfilename\u001b[0m\u001b[0;34m)\u001b[0m\u001b[0;34m,\u001b[0m\u001b[0;34m\u001b[0m\u001b[0;34m\u001b[0m\u001b[0m\n\u001b[0;32m--> 178\u001b[0;31m       \u001b[0;34m'name'\u001b[0m\u001b[0;34m:\u001b[0m \u001b[0m_os\u001b[0m\u001b[0;34m.\u001b[0m\u001b[0mpath\u001b[0m\u001b[0;34m.\u001b[0m\u001b[0mbasename\u001b[0m\u001b[0;34m(\u001b[0m\u001b[0mfilename\u001b[0m\u001b[0;34m)\u001b[0m\u001b[0;34m,\u001b[0m\u001b[0;34m\u001b[0m\u001b[0;34m\u001b[0m\u001b[0m\n\u001b[0m\u001b[1;32m    179\u001b[0m   })\n",
            "\u001b[0;32m/usr/local/lib/python3.6/dist-packages/google/colab/output/_js.py\u001b[0m in \u001b[0;36meval_js\u001b[0;34m(script, ignore_result)\u001b[0m\n\u001b[1;32m     37\u001b[0m   \u001b[0;32mif\u001b[0m \u001b[0mignore_result\u001b[0m\u001b[0;34m:\u001b[0m\u001b[0;34m\u001b[0m\u001b[0;34m\u001b[0m\u001b[0m\n\u001b[1;32m     38\u001b[0m     \u001b[0;32mreturn\u001b[0m\u001b[0;34m\u001b[0m\u001b[0;34m\u001b[0m\u001b[0m\n\u001b[0;32m---> 39\u001b[0;31m   \u001b[0;32mreturn\u001b[0m \u001b[0m_message\u001b[0m\u001b[0;34m.\u001b[0m\u001b[0mread_reply_from_input\u001b[0m\u001b[0;34m(\u001b[0m\u001b[0mrequest_id\u001b[0m\u001b[0;34m)\u001b[0m\u001b[0;34m\u001b[0m\u001b[0;34m\u001b[0m\u001b[0m\n\u001b[0m\u001b[1;32m     40\u001b[0m \u001b[0;34m\u001b[0m\u001b[0m\n\u001b[1;32m     41\u001b[0m \u001b[0;34m\u001b[0m\u001b[0m\n",
            "\u001b[0;32m/usr/local/lib/python3.6/dist-packages/google/colab/_message.py\u001b[0m in \u001b[0;36mread_reply_from_input\u001b[0;34m(message_id, timeout_sec)\u001b[0m\n\u001b[1;32m    104\u001b[0m         reply.get('colab_msg_id') == message_id):\n\u001b[1;32m    105\u001b[0m       \u001b[0;32mif\u001b[0m \u001b[0;34m'error'\u001b[0m \u001b[0;32min\u001b[0m \u001b[0mreply\u001b[0m\u001b[0;34m:\u001b[0m\u001b[0;34m\u001b[0m\u001b[0;34m\u001b[0m\u001b[0m\n\u001b[0;32m--> 106\u001b[0;31m         \u001b[0;32mraise\u001b[0m \u001b[0mMessageError\u001b[0m\u001b[0;34m(\u001b[0m\u001b[0mreply\u001b[0m\u001b[0;34m[\u001b[0m\u001b[0;34m'error'\u001b[0m\u001b[0;34m]\u001b[0m\u001b[0;34m)\u001b[0m\u001b[0;34m\u001b[0m\u001b[0;34m\u001b[0m\u001b[0m\n\u001b[0m\u001b[1;32m    107\u001b[0m       \u001b[0;32mreturn\u001b[0m \u001b[0mreply\u001b[0m\u001b[0;34m.\u001b[0m\u001b[0mget\u001b[0m\u001b[0;34m(\u001b[0m\u001b[0;34m'data'\u001b[0m\u001b[0;34m,\u001b[0m \u001b[0;32mNone\u001b[0m\u001b[0;34m)\u001b[0m\u001b[0;34m\u001b[0m\u001b[0;34m\u001b[0m\u001b[0m\n\u001b[1;32m    108\u001b[0m \u001b[0;34m\u001b[0m\u001b[0m\n",
            "\u001b[0;31mMessageError\u001b[0m: TypeError: NetworkError when attempting to fetch resource."
          ]
        }
      ]
    },
    {
      "cell_type": "markdown",
      "metadata": {
        "colab_type": "text",
        "id": "bRWJleMLKm16"
      },
      "source": [
        "## Plotting the performance "
      ]
    },
    {
      "cell_type": "code",
      "metadata": {
        "colab_type": "code",
        "id": "FpR4gakrKm17",
        "colab": {}
      },
      "source": [
        "import matplotlib.pyplot as plt\n",
        "\n",
        "acc = history.history['accuracy']\n",
        "val_acc = history.history['val_accuracy']\n",
        "loss = history.history['loss']\n",
        "val_loss = history.history['val_loss']\n",
        "\n",
        "epochs = range(1, len(acc) + 1)\n",
        "\n",
        "# \"bo\" is for \"blue dot\"\n",
        "plt.plot(epochs, loss, 'bo', label='Training loss')\n",
        "# b is for \"solid blue line\"\n",
        "plt.plot(epochs, val_loss, 'b', label='Validation loss')\n",
        "plt.title('Training and validation loss')\n",
        "\n",
        "plt.xlabel('Epochs')\n",
        "plt.ylabel('Loss')\n",
        "plt.legend()\n",
        "\n",
        "plt.show()"
      ],
      "execution_count": 0,
      "outputs": []
    },
    {
      "cell_type": "code",
      "metadata": {
        "colab_type": "code",
        "id": "ivFuo_99Km19",
        "colab": {}
      },
      "source": [
        "plt.clf()   # clear figure\n",
        "acc_values = history_dict['accuracy']\n",
        "# val_acc_values = history_dict['val_acc']\n",
        "\n",
        "plt.plot(epochs, acc, 'bo', label='Training acc')\n",
        "plt.plot(epochs, val_acc, 'b', label='Validation acc')\n",
        "plt.title('Training and validation accuracy')\n",
        "\n",
        "plt.xlabel('Epochs')\n",
        "plt.ylabel('Accuracy')\n",
        "plt.legend()\n",
        "\n",
        "plt.show()"
      ],
      "execution_count": 0,
      "outputs": []
    },
    {
      "cell_type": "code",
      "metadata": {
        "colab_type": "code",
        "id": "xCUUXs5GKm2A",
        "colab": {}
      },
      "source": [
        "# save the model. We will visualize its intermediate activations in Result2\n",
        "model.save(\"experiment4\")"
      ],
      "execution_count": 0,
      "outputs": []
    },
    {
      "cell_type": "markdown",
      "metadata": {
        "id": "JkPv4RXWSsMT",
        "colab_type": "text"
      },
      "source": [
        "#Experiment 5: Add dropout layers; test number of dense layer nodes (256)\n"
      ]
    },
    {
      "cell_type": "markdown",
      "metadata": {
        "colab_type": "text",
        "id": "7oXCVHCbJ4_E"
      },
      "source": [
        "##Build and compile the model"
      ]
    },
    {
      "cell_type": "code",
      "metadata": {
        "colab_type": "code",
        "id": "Oa_ZNrbxJ4_H",
        "colab": {}
      },
      "source": [
        "# CNN with 2 convolution/max pooling layers\n",
        "\n",
        "model = models.Sequential()\n",
        "model.add(layers.Conv2D(32, (3, 3), activation='relu', input_shape=(28, 28, 1)))\n",
        "model.add(layers.MaxPooling2D((2, 2)))\n",
        "model.add(layers.Dropout(0.2))\n",
        "\n",
        "model.add(layers.Conv2D(64, (3, 3), activation='relu'))\n",
        "model.add(layers.MaxPooling2D((2, 2)))\n",
        "model.add(layers.Dropout(0.2))\n",
        "\n",
        "model.add(layers.Flatten())\n",
        "model.add(layers.Dense(128, activation='relu'))\n",
        "model.add(layers.Dropout(0.2))\n",
        "\n",
        "model.add(layers.Dense(10, activation='softmax'))\n",
        "\n",
        "model.compile(optimizer ='adam',\n",
        "              loss='sparse_categorical_crossentropy',\n",
        "              metrics=['accuracy'])"
      ],
      "execution_count": 0,
      "outputs": []
    },
    {
      "cell_type": "code",
      "metadata": {
        "colab_type": "code",
        "id": "dXardhVJJ4_S",
        "colab": {}
      },
      "source": [
        "# keras.utils.plot_model(model, show_shapes=True)"
      ],
      "execution_count": 0,
      "outputs": []
    },
    {
      "cell_type": "markdown",
      "metadata": {
        "colab_type": "text",
        "id": "EzGUVW6E5R1x"
      },
      "source": [
        "# Final Model\n",
        "4 layer CNN with two layers of padding\n"
      ]
    },
    {
      "cell_type": "markdown",
      "metadata": {
        "colab_type": "text",
        "id": "8kXFJzwt5R11"
      },
      "source": [
        "##Build and compile the model"
      ]
    },
    {
      "cell_type": "code",
      "metadata": {
        "colab_type": "code",
        "id": "igaqJXAm5R14",
        "colab": {}
      },
      "source": [
        "model = models.Sequential()\n",
        "model.add(layers.ZeroPadding2D(2))\n",
        "model.add(layers.Conv2D(32, (3, 3), activation='relu', input_shape=(28, 28, 1)))\n",
        "model.add(layers.Dropout(0.25))\n",
        "\n",
        "model.add(layers.Conv2D(32, (3, 3), activation='relu'))\n",
        "model.add(layers.MaxPooling2D((2, 2)))\n",
        "model.add(layers.Dropout(0.25))\n",
        "\n",
        "model.add(layers.Conv2D(64, (3, 3), activation='relu'))\n",
        "model.add(layers.Dropout(0.25))\n",
        "\n",
        "model.add(layers.Conv2D(64, (3, 3), activation='relu'))\n",
        "model.add(layers.MaxPooling2D((2, 2)))\n",
        "model.add(layers.Dropout(0.25))\n",
        "\n",
        "model.add(layers.Flatten())\n",
        "model.add(layers.Dense(256, activation='relu'))\n",
        "model.add(layers.Dropout(0.25))\n",
        "\n",
        "model.add(layers.Dense(10, activation='softmax'))\n",
        "\n",
        "model.compile(optimizer ='adam',\n",
        "              loss='sparse_categorical_crossentropy',\n",
        "              metrics=['accuracy'])"
      ],
      "execution_count": 0,
      "outputs": []
    },
    {
      "cell_type": "code",
      "metadata": {
        "colab_type": "code",
        "id": "f2j731Gn5R2F",
        "colab": {}
      },
      "source": [
        "# keras.utils.plot_model(model, show_shapes=True)"
      ],
      "execution_count": 0,
      "outputs": []
    },
    {
      "cell_type": "markdown",
      "metadata": {
        "colab_type": "text",
        "id": "E__a2O975R2M"
      },
      "source": [
        "##Train the model"
      ]
    },
    {
      "cell_type": "code",
      "metadata": {
        "colab_type": "code",
        "outputId": "d3f555da-5de5-470b-8ceb-4a5f374dd2ba",
        "id": "ivj6IoZ15R2N",
        "colab": {
          "base_uri": "https://localhost:8080/",
          "height": 1000
        }
      },
      "source": [
        "train_rt = TrainRuntimeCallback()\n",
        "history = model.fit(train_images, train_labels, callbacks=[train_rt], epochs=30,  batch_size = 100,\n",
        "                    validation_data=(val_images, val_labels))"
      ],
      "execution_count": 127,
      "outputs": [
        {
          "output_type": "stream",
          "text": [
            "Train on 55000 samples, validate on 5000 samples\n",
            "Epoch 1/30\n",
            "55000/55000 [==============================] - 8s 151us/sample - loss: 0.3789 - accuracy: 0.8592 - val_loss: 0.3055 - val_accuracy: 0.8828\n",
            "Epoch 2/30\n",
            "55000/55000 [==============================] - 8s 148us/sample - loss: 0.3170 - accuracy: 0.8829 - val_loss: 0.2553 - val_accuracy: 0.9012\n",
            "Epoch 3/30\n",
            "55000/55000 [==============================] - 8s 149us/sample - loss: 0.2844 - accuracy: 0.8941 - val_loss: 0.2389 - val_accuracy: 0.9066\n",
            "Epoch 4/30\n",
            "55000/55000 [==============================] - 8s 149us/sample - loss: 0.2585 - accuracy: 0.9043 - val_loss: 0.2312 - val_accuracy: 0.9074\n",
            "Epoch 5/30\n",
            "55000/55000 [==============================] - 8s 149us/sample - loss: 0.2461 - accuracy: 0.9093 - val_loss: 0.2182 - val_accuracy: 0.9172\n",
            "Epoch 6/30\n",
            "55000/55000 [==============================] - 8s 150us/sample - loss: 0.2290 - accuracy: 0.9145 - val_loss: 0.2059 - val_accuracy: 0.9214\n",
            "Epoch 7/30\n",
            "55000/55000 [==============================] - 8s 150us/sample - loss: 0.2208 - accuracy: 0.9165 - val_loss: 0.1950 - val_accuracy: 0.9268\n",
            "Epoch 8/30\n",
            "55000/55000 [==============================] - 8s 149us/sample - loss: 0.2123 - accuracy: 0.9216 - val_loss: 0.1903 - val_accuracy: 0.9262\n",
            "Epoch 9/30\n",
            "55000/55000 [==============================] - 8s 149us/sample - loss: 0.2028 - accuracy: 0.9258 - val_loss: 0.1903 - val_accuracy: 0.9308\n",
            "Epoch 10/30\n",
            "55000/55000 [==============================] - 8s 149us/sample - loss: 0.1988 - accuracy: 0.9251 - val_loss: 0.1954 - val_accuracy: 0.9300\n",
            "Epoch 11/30\n",
            "55000/55000 [==============================] - 8s 149us/sample - loss: 0.1911 - accuracy: 0.9280 - val_loss: 0.1866 - val_accuracy: 0.9278\n",
            "Epoch 12/30\n",
            "55000/55000 [==============================] - 8s 149us/sample - loss: 0.1853 - accuracy: 0.9305 - val_loss: 0.1882 - val_accuracy: 0.9292\n",
            "Epoch 13/30\n",
            "55000/55000 [==============================] - 8s 150us/sample - loss: 0.1779 - accuracy: 0.9337 - val_loss: 0.1932 - val_accuracy: 0.9302\n",
            "Epoch 14/30\n",
            "55000/55000 [==============================] - 8s 149us/sample - loss: 0.1722 - accuracy: 0.9343 - val_loss: 0.1774 - val_accuracy: 0.9338\n",
            "Epoch 15/30\n",
            "55000/55000 [==============================] - 8s 149us/sample - loss: 0.1692 - accuracy: 0.9359 - val_loss: 0.1903 - val_accuracy: 0.9292\n",
            "Epoch 16/30\n",
            "55000/55000 [==============================] - 8s 149us/sample - loss: 0.1618 - accuracy: 0.9396 - val_loss: 0.1963 - val_accuracy: 0.9310\n",
            "Epoch 17/30\n",
            "55000/55000 [==============================] - 8s 147us/sample - loss: 0.1624 - accuracy: 0.9381 - val_loss: 0.1880 - val_accuracy: 0.9326\n",
            "Epoch 18/30\n",
            "55000/55000 [==============================] - 8s 149us/sample - loss: 0.1558 - accuracy: 0.9415 - val_loss: 0.1892 - val_accuracy: 0.9328\n",
            "Epoch 19/30\n",
            "55000/55000 [==============================] - 8s 149us/sample - loss: 0.1552 - accuracy: 0.9414 - val_loss: 0.1905 - val_accuracy: 0.9316\n",
            "Epoch 20/30\n",
            "55000/55000 [==============================] - 8s 149us/sample - loss: 0.1514 - accuracy: 0.9425 - val_loss: 0.1836 - val_accuracy: 0.9314\n",
            "Epoch 21/30\n",
            "55000/55000 [==============================] - 8s 149us/sample - loss: 0.1464 - accuracy: 0.9448 - val_loss: 0.1864 - val_accuracy: 0.9334\n",
            "Epoch 22/30\n",
            "55000/55000 [==============================] - 8s 150us/sample - loss: 0.1444 - accuracy: 0.9452 - val_loss: 0.2035 - val_accuracy: 0.9304\n",
            "Epoch 23/30\n",
            "55000/55000 [==============================] - 8s 150us/sample - loss: 0.1407 - accuracy: 0.9472 - val_loss: 0.1889 - val_accuracy: 0.9370\n",
            "Epoch 24/30\n",
            "55000/55000 [==============================] - 8s 149us/sample - loss: 0.1418 - accuracy: 0.9457 - val_loss: 0.1832 - val_accuracy: 0.9372\n",
            "Epoch 25/30\n",
            "55000/55000 [==============================] - 8s 149us/sample - loss: 0.1388 - accuracy: 0.9488 - val_loss: 0.1856 - val_accuracy: 0.9334\n",
            "Epoch 26/30\n",
            "55000/55000 [==============================] - 8s 149us/sample - loss: 0.1353 - accuracy: 0.9489 - val_loss: 0.1864 - val_accuracy: 0.9328\n",
            "Epoch 27/30\n",
            "55000/55000 [==============================] - 8s 149us/sample - loss: 0.1332 - accuracy: 0.9491 - val_loss: 0.1910 - val_accuracy: 0.9312\n",
            "Epoch 28/30\n",
            "55000/55000 [==============================] - 8s 149us/sample - loss: 0.1317 - accuracy: 0.9494 - val_loss: 0.1985 - val_accuracy: 0.9310\n",
            "Epoch 29/30\n",
            "55000/55000 [==============================] - 8s 150us/sample - loss: 0.1258 - accuracy: 0.9519 - val_loss: 0.1951 - val_accuracy: 0.9320\n",
            "Epoch 30/30\n",
            "55000/55000 [==============================] - 8s 149us/sample - loss: 0.1285 - accuracy: 0.9515 - val_loss: 0.1839 - val_accuracy: 0.9344\n"
          ],
          "name": "stdout"
        }
      ]
    },
    {
      "cell_type": "code",
      "metadata": {
        "colab_type": "code",
        "outputId": "9493e17d-08ab-4b72-ff77-fd2bb892addd",
        "id": "XhASxP9B5R2T",
        "colab": {
          "base_uri": "https://localhost:8080/",
          "height": 34
        }
      },
      "source": [
        "# Get the training time\n",
        "train_time = train_rt.process_time\n",
        "train_time # in seconds"
      ],
      "execution_count": 128,
      "outputs": [
        {
          "output_type": "execute_result",
          "data": {
            "text/plain": [
              "246.785406"
            ]
          },
          "metadata": {
            "tags": []
          },
          "execution_count": 128
        }
      ]
    },
    {
      "cell_type": "code",
      "metadata": {
        "id": "LFxn_JM0h6ul",
        "colab_type": "code",
        "outputId": "51a54241-781a-4ae8-934f-b8e9cbf0d0cc",
        "colab": {
          "base_uri": "https://localhost:8080/",
          "height": 677
        }
      },
      "source": [
        "model.summary()"
      ],
      "execution_count": 129,
      "outputs": [
        {
          "output_type": "stream",
          "text": [
            "Model: \"sequential_4\"\n",
            "_________________________________________________________________\n",
            "Layer (type)                 Output Shape              Param #   \n",
            "=================================================================\n",
            "zero_padding2d (ZeroPadding2 multiple                  0         \n",
            "_________________________________________________________________\n",
            "conv2d_5 (Conv2D)            multiple                  320       \n",
            "_________________________________________________________________\n",
            "dropout (Dropout)            multiple                  0         \n",
            "_________________________________________________________________\n",
            "conv2d_6 (Conv2D)            multiple                  9248      \n",
            "_________________________________________________________________\n",
            "max_pooling2d_5 (MaxPooling2 multiple                  0         \n",
            "_________________________________________________________________\n",
            "dropout_1 (Dropout)          multiple                  0         \n",
            "_________________________________________________________________\n",
            "conv2d_7 (Conv2D)            multiple                  18496     \n",
            "_________________________________________________________________\n",
            "dropout_2 (Dropout)          multiple                  0         \n",
            "_________________________________________________________________\n",
            "conv2d_8 (Conv2D)            multiple                  36928     \n",
            "_________________________________________________________________\n",
            "max_pooling2d_6 (MaxPooling2 multiple                  0         \n",
            "_________________________________________________________________\n",
            "dropout_3 (Dropout)          multiple                  0         \n",
            "_________________________________________________________________\n",
            "flatten_2 (Flatten)          multiple                  0         \n",
            "_________________________________________________________________\n",
            "dense_9 (Dense)              multiple                  409856    \n",
            "_________________________________________________________________\n",
            "dropout_4 (Dropout)          multiple                  0         \n",
            "_________________________________________________________________\n",
            "dense_10 (Dense)             multiple                  2570      \n",
            "=================================================================\n",
            "Total params: 477,418\n",
            "Trainable params: 477,418\n",
            "Non-trainable params: 0\n",
            "_________________________________________________________________\n"
          ],
          "name": "stdout"
        }
      ]
    },
    {
      "cell_type": "markdown",
      "metadata": {
        "colab_type": "text",
        "id": "sHbqU92V5R2Z"
      },
      "source": [
        "## Test the model"
      ]
    },
    {
      "cell_type": "code",
      "metadata": {
        "colab_type": "code",
        "outputId": "b15b1c47-e870-4548-fe48-ebfa9317e671",
        "id": "0edEwgrH5R2a",
        "colab": {
          "base_uri": "https://localhost:8080/",
          "height": 34
        }
      },
      "source": [
        "test_rt = TestRuntimeCallback()\n",
        "test_loss, test_acc = model.evaluate(test_images, test_labels, callbacks=[test_rt])\n",
        "test_loss, test_acc"
      ],
      "execution_count": 130,
      "outputs": [
        {
          "output_type": "execute_result",
          "data": {
            "text/plain": [
              "(0.21309751297831536, 0.9304)"
            ]
          },
          "metadata": {
            "tags": []
          },
          "execution_count": 130
        }
      ]
    },
    {
      "cell_type": "code",
      "metadata": {
        "colab_type": "code",
        "outputId": "00a5e60c-396d-4a4a-c7a4-71fa58e0997e",
        "id": "kgS21yaQ5R2e",
        "colab": {
          "base_uri": "https://localhost:8080/",
          "height": 34
        }
      },
      "source": [
        "test_time = test_rt.process_time\n",
        "test_time # in seconds"
      ],
      "execution_count": 131,
      "outputs": [
        {
          "output_type": "execute_result",
          "data": {
            "text/plain": [
              "0.618822"
            ]
          },
          "metadata": {
            "tags": []
          },
          "execution_count": 131
        }
      ]
    },
    {
      "cell_type": "markdown",
      "metadata": {
        "colab_type": "text",
        "id": "H3xueTAZ5R2l"
      },
      "source": [
        "##Add training and test statistics to results dataframe"
      ]
    },
    {
      "cell_type": "code",
      "metadata": {
        "colab_type": "code",
        "outputId": "ef7cfdc2-c201-4f73-b0d7-ff7ca2edce51",
        "id": "q_UimrbW5R2l",
        "colab": {
          "base_uri": "https://localhost:8080/",
          "height": 206
        }
      },
      "source": [
        "history_dict = history.history\n",
        "history_df=pd.DataFrame(history_dict)\n",
        "history_df.tail()"
      ],
      "execution_count": 132,
      "outputs": [
        {
          "output_type": "execute_result",
          "data": {
            "text/html": [
              "<div>\n",
              "<style scoped>\n",
              "    .dataframe tbody tr th:only-of-type {\n",
              "        vertical-align: middle;\n",
              "    }\n",
              "\n",
              "    .dataframe tbody tr th {\n",
              "        vertical-align: top;\n",
              "    }\n",
              "\n",
              "    .dataframe thead th {\n",
              "        text-align: right;\n",
              "    }\n",
              "</style>\n",
              "<table border=\"1\" class=\"dataframe\">\n",
              "  <thead>\n",
              "    <tr style=\"text-align: right;\">\n",
              "      <th></th>\n",
              "      <th>loss</th>\n",
              "      <th>accuracy</th>\n",
              "      <th>val_loss</th>\n",
              "      <th>val_accuracy</th>\n",
              "    </tr>\n",
              "  </thead>\n",
              "  <tbody>\n",
              "    <tr>\n",
              "      <th>25</th>\n",
              "      <td>0.135298</td>\n",
              "      <td>0.948873</td>\n",
              "      <td>0.186377</td>\n",
              "      <td>0.9328</td>\n",
              "    </tr>\n",
              "    <tr>\n",
              "      <th>26</th>\n",
              "      <td>0.133213</td>\n",
              "      <td>0.949091</td>\n",
              "      <td>0.190980</td>\n",
              "      <td>0.9312</td>\n",
              "    </tr>\n",
              "    <tr>\n",
              "      <th>27</th>\n",
              "      <td>0.131652</td>\n",
              "      <td>0.949418</td>\n",
              "      <td>0.198489</td>\n",
              "      <td>0.9310</td>\n",
              "    </tr>\n",
              "    <tr>\n",
              "      <th>28</th>\n",
              "      <td>0.125764</td>\n",
              "      <td>0.951909</td>\n",
              "      <td>0.195066</td>\n",
              "      <td>0.9320</td>\n",
              "    </tr>\n",
              "    <tr>\n",
              "      <th>29</th>\n",
              "      <td>0.128535</td>\n",
              "      <td>0.951491</td>\n",
              "      <td>0.183866</td>\n",
              "      <td>0.9344</td>\n",
              "    </tr>\n",
              "  </tbody>\n",
              "</table>\n",
              "</div>"
            ],
            "text/plain": [
              "        loss  accuracy  val_loss  val_accuracy\n",
              "25  0.135298  0.948873  0.186377        0.9328\n",
              "26  0.133213  0.949091  0.190980        0.9312\n",
              "27  0.131652  0.949418  0.198489        0.9310\n",
              "28  0.125764  0.951909  0.195066        0.9320\n",
              "29  0.128535  0.951491  0.183866        0.9344"
            ]
          },
          "metadata": {
            "tags": []
          },
          "execution_count": 132
        }
      ]
    },
    {
      "cell_type": "code",
      "metadata": {
        "colab_type": "code",
        "outputId": "c0d3f424-5765-401e-e309-a2333ce1a297",
        "id": "VXjH5gdN5R2s",
        "colab": {
          "base_uri": "https://localhost:8080/",
          "height": 150
        }
      },
      "source": [
        "results_dfnew = history_df.iloc[-1:].copy()\n",
        "results_dfnew.insert(0,'model','CNN (4 layers), padding2, epochs30b') # want the model name to appear first\n",
        "results_dfnew['test_loss'] = test_loss #incorporate test results\n",
        "results_dfnew['test_accuracy'] = test_acc\n",
        "results_dfnew['training time (sec)'] = train_time     \n",
        "results_dfnew['testing time (sec)'] = test_time      # testing time appears last\n",
        "results_dfnew"
      ],
      "execution_count": 133,
      "outputs": [
        {
          "output_type": "execute_result",
          "data": {
            "text/html": [
              "<div>\n",
              "<style scoped>\n",
              "    .dataframe tbody tr th:only-of-type {\n",
              "        vertical-align: middle;\n",
              "    }\n",
              "\n",
              "    .dataframe tbody tr th {\n",
              "        vertical-align: top;\n",
              "    }\n",
              "\n",
              "    .dataframe thead th {\n",
              "        text-align: right;\n",
              "    }\n",
              "</style>\n",
              "<table border=\"1\" class=\"dataframe\">\n",
              "  <thead>\n",
              "    <tr style=\"text-align: right;\">\n",
              "      <th></th>\n",
              "      <th>model</th>\n",
              "      <th>loss</th>\n",
              "      <th>accuracy</th>\n",
              "      <th>val_loss</th>\n",
              "      <th>val_accuracy</th>\n",
              "      <th>test_loss</th>\n",
              "      <th>test_accuracy</th>\n",
              "      <th>training time (sec)</th>\n",
              "      <th>testing time (sec)</th>\n",
              "    </tr>\n",
              "  </thead>\n",
              "  <tbody>\n",
              "    <tr>\n",
              "      <th>29</th>\n",
              "      <td>CNN (4 layers), padding2, epochs30b</td>\n",
              "      <td>0.128535</td>\n",
              "      <td>0.951491</td>\n",
              "      <td>0.183866</td>\n",
              "      <td>0.9344</td>\n",
              "      <td>0.213098</td>\n",
              "      <td>0.9304</td>\n",
              "      <td>246.785406</td>\n",
              "      <td>0.618822</td>\n",
              "    </tr>\n",
              "  </tbody>\n",
              "</table>\n",
              "</div>"
            ],
            "text/plain": [
              "                                  model  ...  testing time (sec)\n",
              "29  CNN (4 layers), padding2, epochs30b  ...            0.618822\n",
              "\n",
              "[1 rows x 9 columns]"
            ]
          },
          "metadata": {
            "tags": []
          },
          "execution_count": 133
        }
      ]
    },
    {
      "cell_type": "code",
      "metadata": {
        "colab_type": "code",
        "outputId": "653d2ec9-4119-4a33-fba9-6773d609b794",
        "id": "35Mrtlj95R2w",
        "colab": {
          "base_uri": "https://localhost:8080/",
          "height": 258
        }
      },
      "source": [
        "results_df=results_df.append(results_dfnew,ignore_index=True)\n",
        "results_df"
      ],
      "execution_count": 134,
      "outputs": [
        {
          "output_type": "execute_result",
          "data": {
            "text/html": [
              "<div>\n",
              "<style scoped>\n",
              "    .dataframe tbody tr th:only-of-type {\n",
              "        vertical-align: middle;\n",
              "    }\n",
              "\n",
              "    .dataframe tbody tr th {\n",
              "        vertical-align: top;\n",
              "    }\n",
              "\n",
              "    .dataframe thead th {\n",
              "        text-align: right;\n",
              "    }\n",
              "</style>\n",
              "<table border=\"1\" class=\"dataframe\">\n",
              "  <thead>\n",
              "    <tr style=\"text-align: right;\">\n",
              "      <th></th>\n",
              "      <th>model</th>\n",
              "      <th>loss</th>\n",
              "      <th>accuracy</th>\n",
              "      <th>val_loss</th>\n",
              "      <th>val_accuracy</th>\n",
              "      <th>test_loss</th>\n",
              "      <th>test_accuracy</th>\n",
              "      <th>training time (sec)</th>\n",
              "      <th>testing time (sec)</th>\n",
              "    </tr>\n",
              "  </thead>\n",
              "  <tbody>\n",
              "    <tr>\n",
              "      <th>0</th>\n",
              "      <td>DNN (2 layers)</td>\n",
              "      <td>0.184486</td>\n",
              "      <td>0.931509</td>\n",
              "      <td>0.284880</td>\n",
              "      <td>0.8960</td>\n",
              "      <td>0.326124</td>\n",
              "      <td>0.8868</td>\n",
              "      <td>22.253961</td>\n",
              "      <td>0.430279</td>\n",
              "    </tr>\n",
              "    <tr>\n",
              "      <th>1</th>\n",
              "      <td>DNN (3 layers)</td>\n",
              "      <td>0.165208</td>\n",
              "      <td>0.938764</td>\n",
              "      <td>0.303697</td>\n",
              "      <td>0.8998</td>\n",
              "      <td>0.340267</td>\n",
              "      <td>0.8893</td>\n",
              "      <td>24.296363</td>\n",
              "      <td>0.404731</td>\n",
              "    </tr>\n",
              "    <tr>\n",
              "      <th>2</th>\n",
              "      <td>CNN (2 layers)</td>\n",
              "      <td>0.026785</td>\n",
              "      <td>0.990636</td>\n",
              "      <td>0.402103</td>\n",
              "      <td>0.9146</td>\n",
              "      <td>0.450117</td>\n",
              "      <td>0.9098</td>\n",
              "      <td>36.741230</td>\n",
              "      <td>0.470963</td>\n",
              "    </tr>\n",
              "    <tr>\n",
              "      <th>3</th>\n",
              "      <td>CNN (3 layers)</td>\n",
              "      <td>0.120504</td>\n",
              "      <td>0.955345</td>\n",
              "      <td>0.330610</td>\n",
              "      <td>0.9016</td>\n",
              "      <td>0.355988</td>\n",
              "      <td>0.9002</td>\n",
              "      <td>39.435362</td>\n",
              "      <td>0.493949</td>\n",
              "    </tr>\n",
              "    <tr>\n",
              "      <th>4</th>\n",
              "      <td>CNN (4 layers), padding2, epochs30b</td>\n",
              "      <td>0.128535</td>\n",
              "      <td>0.951491</td>\n",
              "      <td>0.183866</td>\n",
              "      <td>0.9344</td>\n",
              "      <td>0.213098</td>\n",
              "      <td>0.9304</td>\n",
              "      <td>246.785406</td>\n",
              "      <td>0.618822</td>\n",
              "    </tr>\n",
              "  </tbody>\n",
              "</table>\n",
              "</div>"
            ],
            "text/plain": [
              "                                 model  ...  testing time (sec)\n",
              "0                       DNN (2 layers)  ...            0.430279\n",
              "1                       DNN (3 layers)  ...            0.404731\n",
              "2                       CNN (2 layers)  ...            0.470963\n",
              "3                       CNN (3 layers)  ...            0.493949\n",
              "4  CNN (4 layers), padding2, epochs30b  ...            0.618822\n",
              "\n",
              "[5 rows x 9 columns]"
            ]
          },
          "metadata": {
            "tags": []
          },
          "execution_count": 134
        }
      ]
    },
    {
      "cell_type": "markdown",
      "metadata": {
        "colab_type": "text",
        "id": "GIcm7hDt7rrB"
      },
      "source": [
        "## Plotting the performance "
      ]
    },
    {
      "cell_type": "code",
      "metadata": {
        "colab_type": "code",
        "id": "WD85UJLd7rrE",
        "colab": {}
      },
      "source": [
        "import matplotlib.pyplot as plt\n",
        "\n",
        "acc = history.history['accuracy']\n",
        "val_acc = history.history['val_accuracy']\n",
        "loss = history.history['loss']\n",
        "val_loss = history.history['val_loss']\n",
        "\n",
        "epochs = range(1, len(acc) + 1)\n",
        "\n",
        "# \"bo\" is for \"blue dot\"\n",
        "plt.plot(epochs, loss, 'bo', label='Training loss')\n",
        "# b is for \"solid blue line\"\n",
        "plt.plot(epochs, val_loss, 'b', label='Validation loss')\n",
        "plt.title('Training and validation loss')\n",
        "\n",
        "plt.xlabel('Epochs')\n",
        "plt.ylabel('Loss')\n",
        "plt.legend()\n",
        "\n",
        "plt.show()"
      ],
      "execution_count": 0,
      "outputs": []
    },
    {
      "cell_type": "code",
      "metadata": {
        "colab_type": "code",
        "id": "0F5IqKgt7rrR",
        "colab": {}
      },
      "source": [
        "plt.clf()   # clear figure\n",
        "acc_values = history_dict['accuracy']\n",
        "# val_acc_values = history_dict['val_acc']\n",
        "\n",
        "plt.plot(epochs, acc, 'bo', label='Training acc')\n",
        "plt.plot(epochs, val_acc, 'b', label='Validation acc')\n",
        "plt.title('Training and validation accuracy')\n",
        "\n",
        "plt.xlabel('Epochs')\n",
        "plt.ylabel('Accuracy')\n",
        "plt.legend()\n",
        "\n",
        "plt.show()"
      ],
      "execution_count": 0,
      "outputs": []
    },
    {
      "cell_type": "code",
      "metadata": {
        "id": "TaTRgAGPD9a3",
        "colab_type": "code",
        "colab": {}
      },
      "source": [
        "# Save model\n",
        "model.save(\"finalModel\")"
      ],
      "execution_count": 0,
      "outputs": []
    },
    {
      "cell_type": "markdown",
      "metadata": {
        "id": "Oa4y_bgNEMCr",
        "colab_type": "text"
      },
      "source": [
        "# Feature Extraction from Final Model"
      ]
    },
    {
      "cell_type": "code",
      "metadata": {
        "id": "lsx2-bcYEPjk",
        "colab_type": "code",
        "colab": {}
      },
      "source": [
        "# img_path = '/Users/fchollet/Downloads/cats_and_dogs_small/test/cats/cat.1700.jpg'\n",
        "\n",
        "# from keras.preprocessing import image                             ❶\n",
        "# import numpy as np\n",
        "\n",
        "# img = image.load_img(img_path, target_size=(150, 150))\n",
        "# img_tensor = image.img_to_array(img)\n",
        "# img_tensor = np.expand_dims(img_tensor, axis=0)\n",
        "# img_tensor /= 255.                                                ❷\n",
        "# print(img_tensor.shape) "
      ],
      "execution_count": 0,
      "outputs": []
    },
    {
      "cell_type": "code",
      "metadata": {
        "id": "iwOhmE1kEy6P",
        "colab_type": "code",
        "colab": {
          "base_uri": "https://localhost:8080/",
          "height": 264
        },
        "outputId": "0b512ee1-9f2c-42bc-d5dd-80d84950b7c0"
      },
      "source": [
        "#https://matplotlib.org/tutorials/colors/colormaps.html?highlight=colormap\n",
        "plt.imshow(example_train_images[0], cmap=\"binary\") \n",
        "plt.axis('off')\n",
        "plt.title(class_names[test_labels[0]], fontsize=12)\n",
        "plt.show()"
      ],
      "execution_count": 136,
      "outputs": [
        {
          "output_type": "display_data",
          "data": {
            "image/png": "[encoded data removed]",
            "text/plain": [
              "<Figure size 432x288 with 1 Axes>"
            ]
          },
          "metadata": {
            "tags": []
          }
        }
      ]
    },
    {
      "cell_type": "code",
      "metadata": {
        "id": "sSlj5UzjIhyX",
        "colab_type": "code",
        "colab": {}
      },
      "source": [
        "image = train_images[0]"
      ],
      "execution_count": 0,
      "outputs": []
    },
    {
      "cell_type": "code",
      "metadata": {
        "id": "xQwvM_gXJHX5",
        "colab_type": "code",
        "colab": {
          "base_uri": "https://localhost:8080/",
          "height": 34
        },
        "outputId": "4f09725b-97a7-4f95-94a6-d831532f8c76"
      },
      "source": [
        "image.shape"
      ],
      "execution_count": 138,
      "outputs": [
        {
          "output_type": "execute_result",
          "data": {
            "text/plain": [
              "(28, 28, 1)"
            ]
          },
          "metadata": {
            "tags": []
          },
          "execution_count": 138
        }
      ]
    },
    {
      "cell_type": "code",
      "metadata": {
        "id": "gX9uMLrmJJww",
        "colab_type": "code",
        "colab": {
          "base_uri": "https://localhost:8080/",
          "height": 362
        },
        "outputId": "fa99ebca-c873-450a-d915-6cc947e5f7af"
      },
      "source": [
        "from keras import models\n",
        "\n",
        "layer_outputs = [layer.output for layer in model.layers[2:8]]\n",
        "activation_model = models.Model(inputs=model.input, outputs=layer_outputs)"
      ],
      "execution_count": 142,
      "outputs": [
        {
          "output_type": "error",
          "ename": "AttributeError",
          "evalue": "ignored",
          "traceback": [
            "\u001b[0;31m---------------------------------------------------------------------------\u001b[0m",
            "\u001b[0;31mAttributeError\u001b[0m                            Traceback (most recent call last)",
            "\u001b[0;32m<ipython-input-142-cb63dd3452a8>\u001b[0m in \u001b[0;36m<module>\u001b[0;34m()\u001b[0m\n\u001b[1;32m      1\u001b[0m \u001b[0;32mfrom\u001b[0m \u001b[0mkeras\u001b[0m \u001b[0;32mimport\u001b[0m \u001b[0mmodels\u001b[0m\u001b[0;34m\u001b[0m\u001b[0;34m\u001b[0m\u001b[0m\n\u001b[1;32m      2\u001b[0m \u001b[0;34m\u001b[0m\u001b[0m\n\u001b[0;32m----> 3\u001b[0;31m \u001b[0mlayer_outputs\u001b[0m \u001b[0;34m=\u001b[0m \u001b[0;34m[\u001b[0m\u001b[0mlayer\u001b[0m\u001b[0;34m.\u001b[0m\u001b[0moutput\u001b[0m \u001b[0;32mfor\u001b[0m \u001b[0mlayer\u001b[0m \u001b[0;32min\u001b[0m \u001b[0mmodel\u001b[0m\u001b[0;34m.\u001b[0m\u001b[0mlayers\u001b[0m\u001b[0;34m[\u001b[0m\u001b[0;36m2\u001b[0m\u001b[0;34m:\u001b[0m\u001b[0;36m8\u001b[0m\u001b[0;34m]\u001b[0m\u001b[0;34m]\u001b[0m\u001b[0;34m\u001b[0m\u001b[0;34m\u001b[0m\u001b[0m\n\u001b[0m\u001b[1;32m      4\u001b[0m \u001b[0mactivation_model\u001b[0m \u001b[0;34m=\u001b[0m \u001b[0mmodels\u001b[0m\u001b[0;34m.\u001b[0m\u001b[0mModel\u001b[0m\u001b[0;34m(\u001b[0m\u001b[0minputs\u001b[0m\u001b[0;34m=\u001b[0m\u001b[0mmodel\u001b[0m\u001b[0;34m.\u001b[0m\u001b[0minput\u001b[0m\u001b[0;34m,\u001b[0m \u001b[0moutputs\u001b[0m\u001b[0;34m=\u001b[0m\u001b[0mlayer_outputs\u001b[0m\u001b[0;34m)\u001b[0m\u001b[0;34m\u001b[0m\u001b[0;34m\u001b[0m\u001b[0m\n",
            "\u001b[0;32m<ipython-input-142-cb63dd3452a8>\u001b[0m in \u001b[0;36m<listcomp>\u001b[0;34m(.0)\u001b[0m\n\u001b[1;32m      1\u001b[0m \u001b[0;32mfrom\u001b[0m \u001b[0mkeras\u001b[0m \u001b[0;32mimport\u001b[0m \u001b[0mmodels\u001b[0m\u001b[0;34m\u001b[0m\u001b[0;34m\u001b[0m\u001b[0m\n\u001b[1;32m      2\u001b[0m \u001b[0;34m\u001b[0m\u001b[0m\n\u001b[0;32m----> 3\u001b[0;31m \u001b[0mlayer_outputs\u001b[0m \u001b[0;34m=\u001b[0m \u001b[0;34m[\u001b[0m\u001b[0mlayer\u001b[0m\u001b[0;34m.\u001b[0m\u001b[0moutput\u001b[0m \u001b[0;32mfor\u001b[0m \u001b[0mlayer\u001b[0m \u001b[0;32min\u001b[0m \u001b[0mmodel\u001b[0m\u001b[0;34m.\u001b[0m\u001b[0mlayers\u001b[0m\u001b[0;34m[\u001b[0m\u001b[0;36m2\u001b[0m\u001b[0;34m:\u001b[0m\u001b[0;36m8\u001b[0m\u001b[0;34m]\u001b[0m\u001b[0;34m]\u001b[0m\u001b[0;34m\u001b[0m\u001b[0;34m\u001b[0m\u001b[0m\n\u001b[0m\u001b[1;32m      4\u001b[0m \u001b[0mactivation_model\u001b[0m \u001b[0;34m=\u001b[0m \u001b[0mmodels\u001b[0m\u001b[0;34m.\u001b[0m\u001b[0mModel\u001b[0m\u001b[0;34m(\u001b[0m\u001b[0minputs\u001b[0m\u001b[0;34m=\u001b[0m\u001b[0mmodel\u001b[0m\u001b[0;34m.\u001b[0m\u001b[0minput\u001b[0m\u001b[0;34m,\u001b[0m \u001b[0moutputs\u001b[0m\u001b[0;34m=\u001b[0m\u001b[0mlayer_outputs\u001b[0m\u001b[0;34m)\u001b[0m\u001b[0;34m\u001b[0m\u001b[0;34m\u001b[0m\u001b[0m\n",
            "\u001b[0;32m/usr/local/lib/python3.6/dist-packages/tensorflow/python/keras/engine/base_layer_v1.py\u001b[0m in \u001b[0;36moutput\u001b[0;34m(self)\u001b[0m\n\u001b[1;32m   1574\u001b[0m     \"\"\"\n\u001b[1;32m   1575\u001b[0m     \u001b[0;32mif\u001b[0m \u001b[0;32mnot\u001b[0m \u001b[0mself\u001b[0m\u001b[0;34m.\u001b[0m\u001b[0m_inbound_nodes\u001b[0m\u001b[0;34m:\u001b[0m\u001b[0;34m\u001b[0m\u001b[0;34m\u001b[0m\u001b[0m\n\u001b[0;32m-> 1576\u001b[0;31m       \u001b[0;32mraise\u001b[0m \u001b[0mAttributeError\u001b[0m\u001b[0;34m(\u001b[0m\u001b[0;34m'Layer '\u001b[0m \u001b[0;34m+\u001b[0m \u001b[0mself\u001b[0m\u001b[0;34m.\u001b[0m\u001b[0mname\u001b[0m \u001b[0;34m+\u001b[0m \u001b[0;34m' has no inbound nodes.'\u001b[0m\u001b[0;34m)\u001b[0m\u001b[0;34m\u001b[0m\u001b[0;34m\u001b[0m\u001b[0m\n\u001b[0m\u001b[1;32m   1577\u001b[0m     \u001b[0;32mreturn\u001b[0m \u001b[0mself\u001b[0m\u001b[0;34m.\u001b[0m\u001b[0m_get_node_attribute_at_index\u001b[0m\u001b[0;34m(\u001b[0m\u001b[0;36m0\u001b[0m\u001b[0;34m,\u001b[0m \u001b[0;34m'output_tensors'\u001b[0m\u001b[0;34m,\u001b[0m \u001b[0;34m'output'\u001b[0m\u001b[0;34m)\u001b[0m\u001b[0;34m\u001b[0m\u001b[0;34m\u001b[0m\u001b[0m\n\u001b[1;32m   1578\u001b[0m \u001b[0;34m\u001b[0m\u001b[0m\n",
            "\u001b[0;31mAttributeError\u001b[0m: Layer dropout has no inbound nodes."
          ]
        }
      ]
    },
    {
      "cell_type": "code",
      "metadata": {
        "id": "q6bMz4_7JUK6",
        "colab_type": "code",
        "colab": {}
      },
      "source": [
        ""
      ],
      "execution_count": 0,
      "outputs": []
    }
  ]
}